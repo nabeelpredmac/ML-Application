{
 "cells": [
  {
   "cell_type": "markdown",
   "metadata": {},
   "source": [
    "# LDA model using gensim"
   ]
  },
  {
   "cell_type": "code",
   "execution_count": 19,
   "metadata": {},
   "outputs": [
    {
     "name": "stderr",
     "output_type": "stream",
     "text": [
      "[nltk_data] Downloading package stopwords to /home/gpu1/nltk_data...\n",
      "[nltk_data]   Package stopwords is already up-to-date!\n"
     ]
    }
   ],
   "source": [
    "import nltk; nltk.download('stopwords')\n",
    "import re\n",
    "import numpy as np\n",
    "import pandas as pd\n",
    "from pprint import pprint\n",
    "from tqdm import tqdm\n",
    "# Gensim\n",
    "import gensim\n",
    "import gensim.corpora as corpora\n",
    "from gensim.utils import simple_preprocess\n",
    "from gensim.models import CoherenceModel\n",
    "\n",
    "# spacy for lemmatization\n",
    "import spacy\n",
    "\n",
    "# Plotting tools\n",
    "import pyLDAvis\n",
    "import pyLDAvis.gensim  # don't skip this\n",
    "import matplotlib.pyplot as plt\n",
    "%matplotlib inline\n",
    "\n",
    "# Enable logging for gensim - optional\n",
    "import logging\n",
    "logging.basicConfig(format='%(asctime)s : %(levelname)s : %(message)s', level=logging.ERROR)\n",
    "\n",
    "import warnings\n",
    "warnings.filterwarnings(\"ignore\",category=DeprecationWarning)\n",
    "\n",
    "# spaCy based imports\n",
    "import spacy\n",
    "from spacy.lang.en.stop_words import STOP_WORDS\n",
    "from spacy.lang.en import English"
   ]
  },
  {
   "cell_type": "code",
   "execution_count": 20,
   "metadata": {},
   "outputs": [
    {
     "data": {
      "text/plain": [
       "305"
      ]
     },
     "execution_count": 20,
     "metadata": {},
     "output_type": "execute_result"
    }
   ],
   "source": [
    "len(STOP_WORDS)"
   ]
  },
  {
   "cell_type": "code",
   "execution_count": 21,
   "metadata": {},
   "outputs": [],
   "source": [
    "#punctuations = string.punctuation\n",
    "stop_words = list(STOP_WORDS)"
   ]
  },
  {
   "cell_type": "markdown",
   "metadata": {},
   "source": [
    "## Read file "
   ]
  },
  {
   "cell_type": "code",
   "execution_count": 22,
   "metadata": {},
   "outputs": [
    {
     "data": {
      "text/html": [
       "<div>\n",
       "<style scoped>\n",
       "    .dataframe tbody tr th:only-of-type {\n",
       "        vertical-align: middle;\n",
       "    }\n",
       "\n",
       "    .dataframe tbody tr th {\n",
       "        vertical-align: top;\n",
       "    }\n",
       "\n",
       "    .dataframe thead th {\n",
       "        text-align: right;\n",
       "    }\n",
       "</style>\n",
       "<table border=\"1\" class=\"dataframe\">\n",
       "  <thead>\n",
       "    <tr style=\"text-align: right;\">\n",
       "      <th></th>\n",
       "      <th>comments</th>\n",
       "      <th>rating</th>\n",
       "      <th>asin</th>\n",
       "      <th>brand</th>\n",
       "      <th>title</th>\n",
       "      <th>categories</th>\n",
       "    </tr>\n",
       "  </thead>\n",
       "  <tbody>\n",
       "    <tr>\n",
       "      <th>0</th>\n",
       "      <td>Perfect red tutu for the price. I baught it as...</td>\n",
       "      <td>5.0</td>\n",
       "      <td>0000031887</td>\n",
       "      <td>Boutique Cutie</td>\n",
       "      <td>Ballet Dress-Up Fairy Tutu</td>\n",
       "      <td>[['Clothing, Shoes &amp; Jewelry', 'Girls', 'Cloth...</td>\n",
       "    </tr>\n",
       "    <tr>\n",
       "      <th>1</th>\n",
       "      <td>This was a really cute tutu the only problem i...</td>\n",
       "      <td>4.0</td>\n",
       "      <td>0000031887</td>\n",
       "      <td>Boutique Cutie</td>\n",
       "      <td>Ballet Dress-Up Fairy Tutu</td>\n",
       "      <td>[['Clothing, Shoes &amp; Jewelry', 'Girls', 'Cloth...</td>\n",
       "    </tr>\n",
       "    <tr>\n",
       "      <th>2</th>\n",
       "      <td>the tutu color was very nice. the only issue w...</td>\n",
       "      <td>2.0</td>\n",
       "      <td>0000031887</td>\n",
       "      <td>Boutique Cutie</td>\n",
       "      <td>Ballet Dress-Up Fairy Tutu</td>\n",
       "      <td>[['Clothing, Shoes &amp; Jewelry', 'Girls', 'Cloth...</td>\n",
       "    </tr>\n",
       "    <tr>\n",
       "      <th>3</th>\n",
       "      <td>My 3-yr-old daughter received this as a gift f...</td>\n",
       "      <td>1.0</td>\n",
       "      <td>0000031887</td>\n",
       "      <td>Boutique Cutie</td>\n",
       "      <td>Ballet Dress-Up Fairy Tutu</td>\n",
       "      <td>[['Clothing, Shoes &amp; Jewelry', 'Girls', 'Cloth...</td>\n",
       "    </tr>\n",
       "    <tr>\n",
       "      <th>4</th>\n",
       "      <td>Bought it for my daughters first birthday whic...</td>\n",
       "      <td>4.0</td>\n",
       "      <td>0000031887</td>\n",
       "      <td>Boutique Cutie</td>\n",
       "      <td>Ballet Dress-Up Fairy Tutu</td>\n",
       "      <td>[['Clothing, Shoes &amp; Jewelry', 'Girls', 'Cloth...</td>\n",
       "    </tr>\n",
       "  </tbody>\n",
       "</table>\n",
       "</div>"
      ],
      "text/plain": [
       "                                            comments  rating        asin  \\\n",
       "0  Perfect red tutu for the price. I baught it as...     5.0  0000031887   \n",
       "1  This was a really cute tutu the only problem i...     4.0  0000031887   \n",
       "2  the tutu color was very nice. the only issue w...     2.0  0000031887   \n",
       "3  My 3-yr-old daughter received this as a gift f...     1.0  0000031887   \n",
       "4  Bought it for my daughters first birthday whic...     4.0  0000031887   \n",
       "\n",
       "            brand                       title  \\\n",
       "0  Boutique Cutie  Ballet Dress-Up Fairy Tutu   \n",
       "1  Boutique Cutie  Ballet Dress-Up Fairy Tutu   \n",
       "2  Boutique Cutie  Ballet Dress-Up Fairy Tutu   \n",
       "3  Boutique Cutie  Ballet Dress-Up Fairy Tutu   \n",
       "4  Boutique Cutie  Ballet Dress-Up Fairy Tutu   \n",
       "\n",
       "                                          categories  \n",
       "0  [['Clothing, Shoes & Jewelry', 'Girls', 'Cloth...  \n",
       "1  [['Clothing, Shoes & Jewelry', 'Girls', 'Cloth...  \n",
       "2  [['Clothing, Shoes & Jewelry', 'Girls', 'Cloth...  \n",
       "3  [['Clothing, Shoes & Jewelry', 'Girls', 'Cloth...  \n",
       "4  [['Clothing, Shoes & Jewelry', 'Girls', 'Cloth...  "
      ]
     },
     "execution_count": 22,
     "metadata": {},
     "output_type": "execute_result"
    }
   ],
   "source": [
    "# reviews = pd.read_excel('../data/Bag_Reviews.xlsx')\n",
    "reviews = pd.read_csv('/home/gpu1/work_space/disk3_work_space3/CRM_Topic_models/input/amazon_cloth_shoe_watches_reviews_with_title.csv')\n",
    "reviews['comments'] = reviews.comments.astype('str')\n",
    "# reviews = reviews[['rating','comments']]\n",
    "reviews.head()"
   ]
  },
  {
   "cell_type": "markdown",
   "metadata": {},
   "source": [
    "### Remove emails and newline characters"
   ]
  },
  {
   "cell_type": "code",
   "execution_count": 23,
   "metadata": {},
   "outputs": [
    {
     "name": "stdout",
     "output_type": "stream",
     "text": [
      "['Perfect red tutu for the price. I baught it as part of my daughters Halloween costume and it looked great on her.']\n"
     ]
    }
   ],
   "source": [
    "# Convert to list\n",
    "data = reviews.comments.values.tolist()\n",
    "\n",
    "# Remove Emails\n",
    "data = [re.sub('\\S*@\\S*\\s?', '', sent) for sent in data]\n",
    "\n",
    "# Remove new line characters\n",
    "data = [re.sub('\\s+', ' ', sent) for sent in data]\n",
    "\n",
    "# Remove distracting single quotes\n",
    "data = [re.sub(\"\\'\", \"\", sent) for sent in data]\n",
    "\n",
    "print(data[:1])"
   ]
  },
  {
   "cell_type": "markdown",
   "metadata": {},
   "source": [
    "### Tokenize words and Clean-up text"
   ]
  },
  {
   "cell_type": "code",
   "execution_count": 24,
   "metadata": {},
   "outputs": [
    {
     "name": "stdout",
     "output_type": "stream",
     "text": [
      "[['perfect', 'red', 'tutu', 'for', 'the', 'price', 'baught', 'it', 'as', 'part', 'of', 'my', 'daughters', 'halloween', 'costume', 'and', 'it', 'looked', 'great', 'on', 'her']]\n"
     ]
    }
   ],
   "source": [
    "def sent_to_words(sentences):\n",
    "    for sentence in sentences:\n",
    "        yield(gensim.utils.simple_preprocess(str(sentence), deacc=True))  # deacc=True removes punctuations\n",
    "\n",
    "data_words = list(sent_to_words(data))\n",
    "\n",
    "print(data_words[:1])"
   ]
  },
  {
   "cell_type": "markdown",
   "metadata": {},
   "source": [
    "### Creating Bigram and Trigram Models"
   ]
  },
  {
   "cell_type": "code",
   "execution_count": 32,
   "metadata": {},
   "outputs": [
    {
     "name": "stdout",
     "output_type": "stream",
     "text": [
      "['cannot_say', 'how_much', 'love', 'this', 'player', 'from', 'creative', 'it', 'has', 'tons_of', 'features', 'some', 'youll_probably', 'never', 'use', 'like', 'the', 'eax', 'processing', 'and', 'gb', 'of', 'storage', 'it', 'also', 'has', 'an', 'easy', 'to', 'navigate', 'menu', 'with', 'two', 'settings', 'one', 'for', 'novices', 'and', 'one', 'for', 'advanced', 'users', 'in_terms_of', 'sound', 'quality', 'the', 'freq', 'response', 'is', 'fairly', 'nice', 'for', 'this', 'type', 'of', 'player', 'and', 'the', 'signal', 'to', 'noise', 'ratio', 'is', 'above', 'most', 'of', 'the', 'mp', 'have', 'gt', 'db', 'the', 'unit', 'is', 'also', 'only', 'the', 'size', 'of', 'normal', 'cd_player', 'which', 'is', 'nice', 'compared', 'to', 'some', 'of', 'the', 'huge', 'bulky', 'models', 'like', 'archos', 'models', 'the', 'only_reason', 'that', 'gave', 'the', 'nomad', 'stars', 'is', 'because', 'of', 'the', 'usb_port', 'too', 'slow', 'and', 'the', 'limited', 'battery_life', 'its', 'nice', 'that', 'creative', 'is', 'at_least', 'addressing', 'one', 'of', 'these', 'issues', 'in', 'new', 'nomad', 'player', 'coming_out', 'with', 'fire', 'wire', 'port', 'and', 'an', 'usb_port']\n"
     ]
    }
   ],
   "source": [
    "# Build the bigram and trigram models\n",
    "bigram = gensim.models.Phrases(data_words, min_count=4, threshold=10) # higher threshold fewer phrases.\n",
    "trigram = gensim.models.Phrases(bigram[data_words], threshold=10)  \n",
    "\n",
    "# Faster way to get a sentence clubbed as a trigram/bigram\n",
    "bigram_mod = gensim.models.phrases.Phraser(bigram)\n",
    "trigram_mod = gensim.models.phrases.Phraser(trigram)\n",
    "\n",
    "# See trigram example\n",
    "print(trigram_mod[bigram_mod[data_words[2000]]])"
   ]
  },
  {
   "cell_type": "code",
   "execution_count": 8,
   "metadata": {},
   "outputs": [
    {
     "data": {
      "text/plain": [
       "<gensim.models.phrases.Phraser at 0x7f0f3755e588>"
      ]
     },
     "execution_count": 8,
     "metadata": {},
     "output_type": "execute_result"
    }
   ],
   "source": [
    "bigram_mod"
   ]
  },
  {
   "cell_type": "markdown",
   "metadata": {},
   "source": [
    "### Remove Stopwords, Make Bigrams and Lemmatize\n"
   ]
  },
  {
   "cell_type": "code",
   "execution_count": 12,
   "metadata": {},
   "outputs": [],
   "source": [
    "# Define functions for stopwords, bigrams, trigrams and lemmatization\n",
    "def remove_stopwords(texts):\n",
    "    return [[word for word in simple_preprocess(str(doc)) if word not in stop_words] for doc in texts]\n",
    "\n",
    "def make_bigrams(texts):\n",
    "    return [bigram_mod[doc] for doc in texts]\n",
    "\n",
    "def make_trigrams(texts):\n",
    "    return [trigram_mod[bigram_mod[doc]] for doc in texts]\n",
    "\n",
    "def lemmatization(texts, allowed_postags=['NOUN', 'ADJ', 'VERB', 'ADV']):\n",
    "    \"\"\"https://spacy.io/api/annotation\"\"\"\n",
    "    texts_out = []\n",
    "    for sent in texts:\n",
    "        doc = nlp(\" \".join(sent)) \n",
    "        texts_out.append([token.lemma_ for token in doc if token.pos_ in allowed_postags])\n",
    "    return texts_out"
   ]
  },
  {
   "cell_type": "code",
   "execution_count": 13,
   "metadata": {},
   "outputs": [
    {
     "name": "stdout",
     "output_type": "stream",
     "text": [
      "[['perfect', 'red', 'tutu', 'price', 'baught', 'daughter', 'halloween', 'costume', 'look', 'great']]\n"
     ]
    }
   ],
   "source": [
    "# Remove Stop Words\n",
    "data_words_nostops = remove_stopwords(data_words)\n",
    "\n",
    "# Form Bigrams\n",
    "data_words_bigrams = make_bigrams(data_words_nostops)\n",
    "\n",
    "# Initialize spacy 'en' model, keeping only tagger component (for efficiency)\n",
    "# python3 -m spacy download en\n",
    "nlp = spacy.load('en_core_web_lg', disable=['parser', 'ner'])\n",
    "\n",
    "# Do lemmatization keeping only noun, adj, vb, adv\n",
    "data_lemmatized = lemmatization(data_words_bigrams, allowed_postags=['NOUN', 'ADJ', 'VERB', 'ADV'])\n",
    "\n",
    "print(data_lemmatized[:1])"
   ]
  },
  {
   "cell_type": "markdown",
   "metadata": {},
   "source": [
    "### Create the Dictionary and Corpus needed for Topic Modeling"
   ]
  },
  {
   "cell_type": "code",
   "execution_count": 14,
   "metadata": {},
   "outputs": [
    {
     "name": "stdout",
     "output_type": "stream",
     "text": [
      "[[(0, 1), (1, 1), (2, 1), (3, 1), (4, 1), (5, 1), (6, 1), (7, 1), (8, 1), (9, 1)]]\n"
     ]
    }
   ],
   "source": [
    "# Create Dictionary\n",
    "id2word = corpora.Dictionary(data_lemmatized)\n",
    "\n",
    "# Create Corpus\n",
    "texts = data_lemmatized\n",
    "\n",
    "# Term Document Frequency\n",
    "corpus = [id2word.doc2bow(text) for text in texts]\n",
    "\n",
    "# View\n",
    "print(corpus[:1])"
   ]
  },
  {
   "cell_type": "code",
   "execution_count": 15,
   "metadata": {},
   "outputs": [
    {
     "data": {
      "text/plain": [
       "'baught'"
      ]
     },
     "execution_count": 15,
     "metadata": {},
     "output_type": "execute_result"
    }
   ],
   "source": [
    "id2word[0]"
   ]
  },
  {
   "cell_type": "code",
   "execution_count": 16,
   "metadata": {},
   "outputs": [
    {
     "data": {
      "text/plain": [
       "[[('baught', 1),\n",
       "  ('costume', 1),\n",
       "  ('daughter', 1),\n",
       "  ('great', 1),\n",
       "  ('halloween', 1),\n",
       "  ('look', 1),\n",
       "  ('perfect', 1),\n",
       "  ('price', 1),\n",
       "  ('red', 1),\n",
       "  ('tutu', 1)]]"
      ]
     },
     "execution_count": 16,
     "metadata": {},
     "output_type": "execute_result"
    }
   ],
   "source": [
    "# Human readable format of corpus (term-frequency)\n",
    "[[(id2word[id], freq) for id, freq in cp] for cp in corpus[:1]]"
   ]
  },
  {
   "cell_type": "markdown",
   "metadata": {},
   "source": [
    "## Building the Topic Model"
   ]
  },
  {
   "cell_type": "code",
   "execution_count": 17,
   "metadata": {},
   "outputs": [],
   "source": [
    "# Build LDA model\n",
    "lda_model = gensim.models.ldamodel.LdaModel(corpus=corpus,\n",
    "                                           id2word=id2word,\n",
    "                                           num_topics=4, \n",
    "                                           random_state=46,\n",
    "                                           update_every=1,\n",
    "                                           chunksize=10,\n",
    "                                           passes=50,\n",
    "                                           alpha=.001,#'auto',\n",
    "                                           per_word_topics=True,\n",
    "                                           eta=.001\n",
    "                                           )"
   ]
  },
  {
   "cell_type": "markdown",
   "metadata": {},
   "source": [
    "### View the topics in LDA model"
   ]
  },
  {
   "cell_type": "code",
   "execution_count": 18,
   "metadata": {
    "scrolled": false
   },
   "outputs": [
    {
     "name": "stdout",
     "output_type": "stream",
     "text": [
      "[(0,\n",
      "  '0.191*\"not\" + 0.133*\"look\" + 0.111*\"be\" + 0.107*\"do\" + 0.093*\"find\" + '\n",
      "  '0.086*\"amazon\" + 0.069*\"love\" + 0.063*\"get\" + 0.045*\"comfortable\" + '\n",
      "  '0.036*\"big\"'),\n",
      " (1,\n",
      "  '0.258*\"order\" + 0.143*\"try\" + 0.069*\"tight\" + 0.064*\"s\" + 0.056*\"like\" + '\n",
      "  '0.052*\"receive\" + 0.049*\"send\" + 0.044*\"company\" + 0.037*\"would\" + '\n",
      "  '0.033*\"cost\"'),\n",
      " (2,\n",
      "  '0.176*\"fit\" + 0.092*\"buy\" + 0.076*\"wear\" + 0.073*\"good\" + 0.049*\"year\" + '\n",
      "  '0.048*\"color\" + 0.043*\"great\" + 0.041*\"quality\" + 0.038*\"time\" + '\n",
      "  '0.028*\"price\"'),\n",
      " (3,\n",
      "  '0.463*\"problem\" + 0.410*\"short\" + 0.093*\"super\" + 0.029*\"cute\" + '\n",
      "  '0.000*\"wgere\" + 0.000*\"infinite\" + 0.000*\"goodfabric\" + 0.000*\"biy\" + '\n",
      "  '0.000*\"tightdoe\" + 0.000*\"anyday\"')]\n"
     ]
    }
   ],
   "source": [
    "# Print the Keyword in the 10 topics\n",
    "pprint(lda_model.print_topics())\n",
    "doc_lda = lda_model[corpus]"
   ]
  },
  {
   "cell_type": "markdown",
   "metadata": {},
   "source": [
    "### Compute Model Perplexity and Coherence Score"
   ]
  },
  {
   "cell_type": "code",
   "execution_count": 75,
   "metadata": {},
   "outputs": [
    {
     "name": "stdout",
     "output_type": "stream",
     "text": [
      "\n",
      "Perplexity:  -4.974362327331873\n",
      "\n",
      "Coherence Score:  0.48568661254146006\n"
     ]
    }
   ],
   "source": [
    "# Compute Perplexity\n",
    "print('\\nPerplexity: ', lda_model.log_perplexity(corpus))  # a measure of how good the model is. lower the better.\n",
    "\n",
    "# Compute Coherence Score\n",
    "coherence_model_lda = CoherenceModel(model=lda_model, texts=data_lemmatized, dictionary=id2word, coherence='c_v')\n",
    "coherence_lda = coherence_model_lda.get_coherence()\n",
    "print('\\nCoherence Score: ', coherence_lda)"
   ]
  },
  {
   "cell_type": "markdown",
   "metadata": {},
   "source": [
    "## Visualize the topics-keywords"
   ]
  },
  {
   "cell_type": "code",
   "execution_count": 76,
   "metadata": {},
   "outputs": [
    {
     "name": "stderr",
     "output_type": "stream",
     "text": [
      "/home/gpu1/anaconda3/envs/fastaipy372/lib/python3.7/site-packages/pyLDAvis/_prepare.py:257: FutureWarning: Sorting because non-concatenation axis is not aligned. A future version\n",
      "of pandas will change to not sort by default.\n",
      "\n",
      "To accept the future behavior, pass 'sort=False'.\n",
      "\n",
      "To retain the current behavior and silence the warning, pass 'sort=True'.\n",
      "\n",
      "  return pd.concat([default_term_info] + list(topic_dfs))\n"
     ]
    },
    {
     "data": {
      "text/html": [
       "\n",
       "<link rel=\"stylesheet\" type=\"text/css\" href=\"https://cdn.rawgit.com/bmabey/pyLDAvis/files/ldavis.v1.0.0.css\">\n",
       "\n",
       "\n",
       "<div id=\"ldavis_el80711404235094337049080921338\"></div>\n",
       "<script type=\"text/javascript\">\n",
       "\n",
       "var ldavis_el80711404235094337049080921338_data = {\"mdsDat\": {\"x\": [0.40401312686040136, -0.12727062018735774, -0.15405725480363913, -0.1226852518694045], \"y\": [0.015382720583645728, -0.30813948135767794, 0.30329549015834734, -0.010538729384315168], \"topics\": [1, 2, 3, 4], \"cluster\": [1, 1, 1, 1], \"Freq\": [36.30016326904297, 30.644638061523438, 25.23525619506836, 7.819942474365234]}, \"tinfo\": {\"Category\": [\"Default\", \"Default\", \"Default\", \"Default\", \"Default\", \"Default\", \"Default\", \"Default\", \"Default\", \"Default\", \"Default\", \"Default\", \"Default\", \"Default\", \"Default\", \"Default\", \"Default\", \"Default\", \"Default\", \"Default\", \"Default\", \"Default\", \"Default\", \"Default\", \"Default\", \"Default\", \"Default\", \"Default\", \"Default\", \"Default\", \"Topic1\", \"Topic1\", \"Topic1\", \"Topic1\", \"Topic1\", \"Topic1\", \"Topic1\", \"Topic1\", \"Topic1\", \"Topic1\", \"Topic1\", \"Topic1\", \"Topic1\", \"Topic1\", \"Topic1\", \"Topic1\", \"Topic1\", \"Topic1\", \"Topic1\", \"Topic1\", \"Topic1\", \"Topic1\", \"Topic1\", \"Topic1\", \"Topic1\", \"Topic1\", \"Topic1\", \"Topic1\", \"Topic1\", \"Topic1\", \"Topic1\", \"Topic1\", \"Topic2\", \"Topic2\", \"Topic2\", \"Topic2\", \"Topic2\", \"Topic2\", \"Topic2\", \"Topic2\", \"Topic2\", \"Topic2\", \"Topic2\", \"Topic2\", \"Topic2\", \"Topic2\", \"Topic2\", \"Topic2\", \"Topic2\", \"Topic2\", \"Topic2\", \"Topic2\", \"Topic2\", \"Topic2\", \"Topic2\", \"Topic2\", \"Topic2\", \"Topic2\", \"Topic2\", \"Topic2\", \"Topic2\", \"Topic2\", \"Topic2\", \"Topic2\", \"Topic2\", \"Topic3\", \"Topic3\", \"Topic3\", \"Topic3\", \"Topic3\", \"Topic3\", \"Topic3\", \"Topic3\", \"Topic3\", \"Topic3\", \"Topic3\", \"Topic3\", \"Topic3\", \"Topic3\", \"Topic3\", \"Topic3\", \"Topic3\", \"Topic3\", \"Topic3\", \"Topic3\", \"Topic3\", \"Topic3\", \"Topic3\", \"Topic3\", \"Topic3\", \"Topic3\", \"Topic3\", \"Topic3\", \"Topic3\", \"Topic3\", \"Topic3\", \"Topic3\", \"Topic3\", \"Topic3\", \"Topic4\", \"Topic4\", \"Topic4\", \"Topic4\", \"Topic4\", \"Topic4\", \"Topic4\", \"Topic4\", \"Topic4\", \"Topic4\", \"Topic4\", \"Topic4\", \"Topic4\", \"Topic4\", \"Topic4\", \"Topic4\", \"Topic4\", \"Topic4\", \"Topic4\", \"Topic4\", \"Topic4\", \"Topic4\", \"Topic4\", \"Topic4\", \"Topic4\", \"Topic4\", \"Topic4\", \"Topic4\", \"Topic4\", \"Topic4\", \"Topic4\", \"Topic4\", \"Topic4\", \"Topic4\", \"Topic4\", \"Topic4\", \"Topic4\", \"Topic4\"], \"Freq\": [5372.0, 3565.0, 1966.0, 698.0, 1709.0, 1366.0, 1192.0, 1146.0, 387.0, 661.0, 554.0, 521.0, 684.0, 582.0, 559.0, 448.0, 476.0, 371.0, 326.0, 327.0, 273.0, 245.0, 327.0, 216.0, 250.0, 110.0, 102.0, 97.0, 214.0, 211.0, 5371.63671875, 1708.3658447265625, 1365.399169921875, 1191.2269287109375, 1145.727783203125, 683.602783203125, 326.9766845703125, 198.6404266357422, 197.83555603027344, 145.45587158203125, 126.04666137695312, 96.50548553466797, 73.758056640625, 64.62667083740234, 76.69184875488281, 65.68708801269531, 94.09892272949219, 44.829586029052734, 40.51719665527344, 38.67888641357422, 37.314369201660156, 33.66967010498047, 30.664445877075195, 28.685914993286133, 23.045717239379883, 21.553882598876953, 31.192251205444336, 15.80785083770752, 15.602336883544922, 18.003376007080078, 100.60218048095703, 16.469816207885742, 3564.9150390625, 581.8652954101562, 558.7332763671875, 475.27471923828125, 326.4427185058594, 249.7728271484375, 214.0689697265625, 191.46812438964844, 210.81556701660156, 159.01504516601562, 154.365478515625, 162.40988159179688, 141.9166717529297, 144.2047119140625, 131.6348114013672, 118.68242645263672, 113.6490249633789, 99.87255859375, 105.77362823486328, 101.4658432006836, 89.77273559570312, 80.73059844970703, 97.31529998779297, 75.76778411865234, 70.03179931640625, 76.21973419189453, 67.39783477783203, 64.69502258300781, 56.634822845458984, 59.45448684692383, 58.90292739868164, 153.3065643310547, 61.16148376464844, 1965.9613037109375, 661.0820922851562, 554.1942138671875, 520.3751831054688, 448.0607604980469, 370.4033508300781, 325.75164794921875, 272.4720764160156, 244.93634033203125, 216.12815856933594, 177.12103271484375, 137.80712890625, 132.67251586914062, 123.3397216796875, 114.6055908203125, 98.01689147949219, 103.89130401611328, 79.66925048828125, 80.68504333496094, 78.56358337402344, 71.16168975830078, 70.25641632080078, 47.12369155883789, 44.8631706237793, 60.111454010009766, 43.08042526245117, 42.19903564453125, 41.00108337402344, 43.61144256591797, 49.794456481933594, 42.2701530456543, 43.65962600708008, 46.30052947998047, 48.046714782714844, 697.8257446289062, 387.06884765625, 110.15000915527344, 101.40624237060547, 89.75556182861328, 96.22586822509766, 67.90312957763672, 35.15319061279297, 91.66542053222656, 21.52672576904297, 79.80875396728516, 30.79322052001953, 28.792705535888672, 19.106203079223633, 50.24201965332031, 26.055143356323242, 24.29030418395996, 24.148916244506836, 19.61237335205078, 16.170978546142578, 12.912466049194336, 8.988539695739746, 9.373291969299316, 10.533209800720215, 8.222030639648438, 5.818033218383789, 16.139759063720703, 8.582775115966797, 14.761687278747559, 15.986714363098145, 9.65783977508545, 9.656968116760254, 28.183109283447266, 13.92895793914795, 25.399280548095703, 12.602212905883789, 15.482563018798828, 10.753326416015625], \"Term\": [\"good\", \"product\", \"price\", \"reed\", \"quality\", \"delivery\", \"fast\", \"value\", \"\\u0153\\u00f0y\", \"beautiful\", \"bag\", \"reasonable\", \"service\", \"receive\", \"shop\", \"worth\", \"order\", \"cheap\", \"mm\", \"deliver\", \"baht\", \"cute\", \"pack\", \"buy\", \"money\", \"nice\", \"item\", \"day\", \"picture\", \"not\", \"good\", \"quality\", \"delivery\", \"fast\", \"value\", \"service\", \"pack\", \"speed\", \"ship\", \"transportation\", \"company\", \"package\", \"recommend\", \"provide\", \"thing\", \"affordable\", \"relate\", \"option\", \"transport\", \"providing_servic\", \"transport_companie\", \"staff\", \"madi\", \"polite\", \"high\", \"excellent\", \"stop\", \"great\", \"packaging\", \"website\", \"store\", \"correctly\", \"product\", \"receive\", \"shop\", \"order\", \"deliver\", \"money\", \"picture\", \"send\", \"not\", \"color\", \"time\", \"do\", \"come\", \"use\", \"pretty\", \"quickly\", \"free\", \"sensitive\", \"overall\", \"long\", \"subsidize\", \"arrange\", \"real\", \"wait\", \"customer\", \"successfully\", \"like\", \"want\", \"thank\", \"bit\", \"impressed\", \"accord\", \"blue\", \"price\", \"beautiful\", \"bag\", \"reasonable\", \"worth\", \"cheap\", \"mm\", \"baht\", \"cute\", \"buy\", \"suitable\", \"small\", \"consider\", \"look\", \"ok\", \"worthwhile\", \"lot\", \"little\", \"promotion\", \"think\", \"work\", \"break\", \"piece\", \"leaf\", \"wrap\", \"lovely\", \"pleasant\", \"sewing\", \"open\", \"defect\", \"sash\", \"neat\", \"\\u00b3\\u00f0y\", \"accord\", \"reed\", \"\\u0153\\u00f0y\", \"nice\", \"item\", \"z\\u00f0y\", \"day\", \"\\u00f0y\", \"sell\", \"best\", \"\\u00b2a\", \"amc_amc\", \"\\u00bc\\u00f0y\", \"confuse\", \"person\", \"pay\", \"help\", \"eat\", \"financial_statement\", \"go\", \"non\", \"pleasing\", \"press\", \"control\", \"love_love\", \"brian\", \"\\u0192\\u00f0y\", \"fat\", \"result\", \"height\", \"hunger\", \"greatly\", \"rewarding\", \"\\u00f0y\\u0153y\", \"morning\", \"brother\", \"\\u00f0y\\u0153\\u00b3\\u00f0y\", \"difficult\", \"description_\\u00f0y\\u0153y\"], \"Total\": [5372.0, 3565.0, 1966.0, 698.0, 1709.0, 1366.0, 1192.0, 1146.0, 387.0, 661.0, 554.0, 521.0, 684.0, 582.0, 559.0, 448.0, 476.0, 371.0, 326.0, 327.0, 273.0, 245.0, 327.0, 216.0, 250.0, 110.0, 102.0, 97.0, 214.0, 211.0, 5372.43896484375, 1709.1673583984375, 1366.19384765625, 1192.031494140625, 1146.517578125, 684.392822265625, 327.83807373046875, 199.4247283935547, 198.64306640625, 146.24949645996094, 126.82636260986328, 97.40664672851562, 74.59339141845703, 65.40541076660156, 77.64557647705078, 66.534912109375, 95.40020751953125, 45.636756896972656, 41.297698974609375, 39.45427322387695, 38.18266296386719, 34.59321975708008, 31.77539825439453, 29.72819709777832, 23.905794143676758, 22.368074417114258, 32.46846389770508, 16.584468841552734, 16.942523956298828, 20.151870727539062, 119.94426727294922, 19.412914276123047, 3565.702880859375, 582.6193237304688, 559.511962890625, 476.02728271484375, 327.2203674316406, 250.5505828857422, 214.84681701660156, 192.25547790527344, 211.6954345703125, 159.7698211669922, 155.12548828125, 163.28262329101562, 142.6898651123047, 145.03289794921875, 132.43597412109375, 119.46395874023438, 114.50765991210938, 100.63664245605469, 106.59234619140625, 102.2634048461914, 90.54995727539062, 81.51416015625, 98.27555847167969, 76.54515838623047, 70.79144287109375, 77.04827880859375, 68.20577239990234, 65.5210189819336, 57.38235092163086, 60.25154113769531, 59.705467224121094, 201.8598175048828, 64.91808319091797, 1966.7601318359375, 661.874267578125, 554.9752197265625, 521.1489868164062, 448.89190673828125, 371.1991271972656, 326.525390625, 273.2515869140625, 245.74156188964844, 216.90863037109375, 177.91244506835938, 138.58226013183594, 133.45225524902344, 124.1382064819336, 115.42556762695312, 98.8074722290039, 104.7560806274414, 80.44457244873047, 81.47858428955078, 79.35364532470703, 71.94770050048828, 71.39434051513672, 47.9318962097168, 45.64212417602539, 61.17619323730469, 43.8674201965332, 43.004981994628906, 41.78509521484375, 44.46131896972656, 50.80780029296875, 43.24705123901367, 45.08592224121094, 49.010231018066406, 201.8598175048828, 698.5587768554688, 387.8018493652344, 110.90553283691406, 102.2280502319336, 90.48491668701172, 97.02344512939453, 68.66084289550781, 35.92485046386719, 93.8497314453125, 22.308916091918945, 82.97809600830078, 32.16191864013672, 30.086307525634766, 19.98660659790039, 52.80625534057617, 27.416919708251953, 25.627151489257812, 25.600027084350586, 20.837106704711914, 17.393491744995117, 13.978141784667969, 9.743329048156738, 10.197722434997559, 11.668326377868652, 9.194841384887695, 6.547069549560547, 18.211830139160156, 9.740615844726562, 16.75480842590332, 18.17304229736328, 11.00583553314209, 11.005473136901855, 33.93370056152344, 16.61994743347168, 59.32001876831055, 18.081480026245117, 32.191253662109375, 14.75918960571289], \"loglift\": [30.0, 29.0, 28.0, 27.0, 26.0, 25.0, 24.0, 23.0, 22.0, 21.0, 20.0, 19.0, 18.0, 17.0, 16.0, 15.0, 14.0, 13.0, 12.0, 11.0, 10.0, 9.0, 8.0, 7.0, 6.0, 5.0, 4.0, 3.0, 2.0, 1.0, 1.013200044631958, 1.0128999948501587, 1.0127999782562256, 1.0126999616622925, 1.0126999616622925, 1.0121999979019165, 1.010699987411499, 1.0094000101089478, 1.0092999935150146, 1.0078999996185303, 1.007200002670288, 1.00409996509552, 1.0020999908447266, 1.0013999938964844, 1.0010000467300415, 1.000499963760376, 0.9995999932289124, 0.9955000281333923, 0.9943000078201294, 0.9934999942779541, 0.9902999997138977, 0.986299991607666, 0.9778000116348267, 0.9776999950408936, 0.9767000079154968, 0.9763000011444092, 0.9732000231742859, 0.965399980545044, 0.930899977684021, 0.900600016117096, 0.8374999761581421, 0.8489000201225281, 1.1825000047683716, 1.181399941444397, 1.1813000440597534, 1.1811000108718872, 1.180299997329712, 1.1796000003814697, 1.1791000366210938, 1.1785999536514282, 1.1785000562667847, 1.1779999732971191, 1.1778000593185425, 1.17739999294281, 1.177299976348877, 1.1770000457763672, 1.1765999794006348, 1.1761000156402588, 1.1751999855041504, 1.1750999689102173, 1.1749999523162842, 1.1749000549316406, 1.1741000413894653, 1.1730999946594238, 1.1728999614715576, 1.1725000143051147, 1.1719000339508057, 1.1719000339508057, 1.170799970626831, 1.1699999570846558, 1.169600009918213, 1.1693999767303467, 1.1691999435424805, 0.9075999855995178, 1.1231000423431396, 1.3765000104904175, 1.3756999969482422, 1.375499963760376, 1.3753999471664429, 1.375100016593933, 1.3747999668121338, 1.3746000528335571, 1.3740999698638916, 1.3736000061035156, 1.3732999563217163, 1.372499942779541, 1.3712999820709229, 1.3710999488830566, 1.3704999685287476, 1.3697999715805054, 1.368899941444397, 1.3686000108718872, 1.3672000169754028, 1.3671000003814697, 1.3668999671936035, 1.3659000396728516, 1.3609000444412231, 1.3598999977111816, 1.3596999645233154, 1.3594000339508057, 1.3588000535964966, 1.3580000400543213, 1.3580000400543213, 1.3575999736785889, 1.3567999601364136, 1.354099988937378, 1.3447999954223633, 1.320099949836731, -0.05849999934434891, 2.5473999977111816, 2.546600103378296, 2.5416998863220215, 2.5404000282287598, 2.5404000282287598, 2.5401999950408936, 2.537400007247925, 2.5267999172210693, 2.524899959564209, 2.5127999782562256, 2.509500026702881, 2.505000114440918, 2.504499912261963, 2.5034000873565674, 2.498699903488159, 2.497499942779541, 2.4948999881744385, 2.4900999069213867, 2.4879000186920166, 2.475600004196167, 2.4691998958587646, 2.467900037765503, 2.464200019836426, 2.4460999965667725, 2.4367001056671143, 2.4303998947143555, 2.4277000427246094, 2.4219000339508057, 2.421799898147583, 2.420300006866455, 2.417799949645996, 2.417799949645996, 2.362799882888794, 2.3719000816345215, 1.7002999782562256, 2.1875, 1.816499948501587, 2.231800079345703], \"logprob\": [30.0, 29.0, 28.0, 27.0, 26.0, 25.0, 24.0, 23.0, 22.0, 21.0, 20.0, 19.0, 18.0, 17.0, 16.0, 15.0, 14.0, 13.0, 12.0, 11.0, 10.0, 9.0, 8.0, 7.0, 6.0, 5.0, 4.0, 3.0, 2.0, 1.0, -0.967199981212616, -2.112799882888794, -2.336899995803833, -2.473400115966797, -2.5123000144958496, -3.028700113296509, -3.766200065612793, -4.264599800109863, -4.268700122833252, -4.576200008392334, -4.7195000648498535, -4.986499786376953, -5.255300045013428, -5.387499809265137, -5.216300010681152, -5.371200084686279, -5.0117998123168945, -5.753300189971924, -5.854400157928467, -5.9008002281188965, -5.936699867248535, -6.0395002365112305, -6.132999897003174, -6.199699878692627, -6.418600082397461, -6.485599994659424, -6.116000175476074, -6.795599937438965, -6.808700084686279, -6.665599822998047, -4.944900035858154, -6.7546000480651855, -1.207900047302246, -3.0204999446868896, -3.0611000061035156, -3.222899913787842, -3.5985000133514404, -3.8661999702453613, -4.020500183105469, -4.131999969482422, -4.035799980163574, -4.317800045013428, -4.347400188446045, -4.296599864959717, -4.43149995803833, -4.415500164031982, -4.506700038909912, -4.610300064086914, -4.653600215911865, -4.782899856567383, -4.725500106811523, -4.767000198364258, -4.889500141143799, -4.99560022354126, -4.808800220489502, -5.059100151062012, -5.137800216674805, -5.053100109100342, -5.17609977722168, -5.217100143432617, -5.350100040435791, -5.301499843597412, -5.3109002113342285, -4.354300022125244, -5.273200035095215, -1.6088000535964966, -2.698699951171875, -2.875, -2.937999963760376, -3.087599992752075, -3.277899980545044, -3.406399965286255, -3.5850000381469727, -3.691499948501587, -3.816699981689453, -4.015699863433838, -4.26669979095459, -4.304699897766113, -4.377600193023682, -4.451000213623047, -4.607399940490723, -4.549200057983398, -4.814700126647949, -4.802000045776367, -4.82859992980957, -4.927599906921387, -4.940400123596191, -5.339799880981445, -5.388899803161621, -5.09630012512207, -5.429500102996826, -5.450099945068359, -5.478899955749512, -5.417200088500977, -5.284599781036377, -5.448500156402588, -5.416100025177002, -5.357399940490723, -5.320400238037109, -1.4730000495910645, -2.0624001026153564, -3.3190999031066895, -3.4017999172210693, -3.523900032043457, -3.4542999267578125, -3.8029000759124756, -4.461299896240234, -3.5027999877929688, -4.951700210571289, -3.6412999629974365, -4.593699932098389, -4.660900115966797, -5.071000099182129, -4.104100227355957, -4.760799884796143, -4.830900192260742, -4.836699962615967, -5.0447998046875, -5.237800121307373, -5.462800025939941, -5.824999809265137, -5.783100128173828, -5.666399955749512, -5.9141998291015625, -6.260000228881836, -5.239699840545654, -5.871200084686279, -5.32889986038208, -5.249199867248535, -5.753200054168701, -5.753300189971924, -4.682300090789795, -5.38700008392334, -4.786300182342529, -5.487100124359131, -5.281300067901611, -5.6458001136779785]}, \"token.table\": {\"Topic\": [2, 3, 1, 1, 2, 3, 4, 2, 3, 3, 3, 1, 2, 4, 2, 2, 3, 3, 4, 1, 2, 3, 4, 3, 3, 2, 2, 1, 3, 4, 3, 4, 1, 2, 4, 2, 3, 4, 3, 2, 1, 2, 3, 4, 1, 2, 3, 4, 2, 3, 4, 1, 1, 3, 4, 2, 4, 2, 2, 4, 1, 1, 2, 4, 2, 3, 4, 3, 4, 1, 3, 4, 2, 4, 3, 2, 3, 2, 3, 3, 4, 3, 1, 3, 2, 2, 3, 4, 2, 3, 4, 4, 2, 3, 3, 1, 2, 2, 1, 1, 1, 2, 2, 3, 4, 4, 2, 3, 3, 4, 1, 4, 2, 3, 2, 3, 1, 1, 1, 2, 2, 3, 2, 1, 4, 1, 3, 3, 4, 2, 4, 3, 4, 2, 2, 1, 3, 1, 2, 3, 1, 1, 1, 3, 1, 2, 2, 2, 3, 2, 1, 3, 2, 1, 1, 1, 2, 1, 2, 2, 1, 2, 3, 3, 3, 3, 4, 4, 1, 2, 3, 2, 4, 4, 2, 3, 4, 1, 2, 3, 4, 4, 4], \"Freq\": [0.7579517364501953, 0.23778878152370453, 0.9919604063034058, 0.012051372788846493, 0.012051372788846493, 0.012051372788846493, 0.9641098380088806, 0.9936923980712891, 0.9982427954673767, 0.9954196810722351, 0.9986791014671326, 0.010655331425368786, 0.010655331425368786, 0.9802904725074768, 0.9792280793190002, 0.9396457076072693, 0.0462120845913887, 0.9804698824882507, 0.8700530529022217, 0.05057314783334732, 0.32029658555984497, 0.18543487787246704, 0.4214428961277008, 0.9958109855651855, 0.9967696070671082, 0.995181679725647, 0.9951652884483337, 0.9934843182563782, 0.03323771059513092, 0.9638936519622803, 0.9966111183166504, 0.8825500011444092, 0.8241935968399048, 0.1030241996049881, 0.05151209980249405, 0.9888200759887695, 0.9969823360443115, 0.9894515872001648, 0.984100878238678, 0.996270477771759, 0.999126136302948, 0.06775439530611038, 0.20326319336891174, 0.7452983856201172, 0.031064338982105255, 0.3417077362537384, 0.15532168745994568, 0.46596506237983704, 0.992144763469696, 0.03902111575007439, 0.9365067481994629, 0.983544647693634, 0.9991346597671509, 0.0549093633890152, 0.8785498142242432, 0.03906245902180672, 0.9374989867210388, 0.9955666065216064, 0.0479913093149662, 0.9598261713981628, 0.9999182820320129, 0.964758038520813, 0.09086088836193085, 0.9086089134216309, 0.05968435853719711, 0.05968435853719711, 0.8952654004096985, 0.0364738292992115, 0.9483194947242737, 0.9621098637580872, 0.11005312204360962, 0.880424976348877, 0.9881842136383057, 0.9879871606826782, 0.9859313368797302, 0.982321560382843, 0.9944735765457153, 0.9876455664634705, 0.9908311367034912, 0.992782473564148, 0.9427230358123779, 0.9802263379096985, 0.9755975008010864, 0.9983909726142883, 0.9978024959564209, 0.060168661177158356, 0.060168661177158356, 0.8423612713813782, 0.022179871797561646, 0.9759143590927124, 0.9918351173400879, 0.9198843240737915, 0.9967149496078491, 0.9963130354881287, 0.9896242618560791, 0.9860472679138184, 0.9978419542312622, 0.994442880153656, 0.9974436163902283, 0.9958252906799316, 0.9443693161010742, 0.05902308225631714, 0.01893715001642704, 0.01893715001642704, 0.9468575119972229, 0.950636625289917, 0.9960585236549377, 0.980557918548584, 0.9766310453414917, 0.9300234913825989, 0.9755048155784607, 0.9237089157104492, 0.9967080354690552, 0.9996135234832764, 0.9998028874397278, 0.9941262602806091, 0.9938015937805176, 0.988486111164093, 0.9993169903755188, 0.9961163401603699, 0.9870206117630005, 0.9977952837944031, 0.9989370107650757, 0.992044985294342, 0.9992001056671143, 0.9853228330612183, 0.010482157580554485, 0.10266291350126266, 0.9239662289619446, 0.09086388349533081, 0.9086388349533081, 0.9711644649505615, 0.9742559790611267, 0.9934697151184082, 0.9936738610267639, 0.999426007270813, 0.9812111258506775, 0.9967626929283142, 0.999085009098053, 0.9957984685897827, 0.9978702068328857, 0.9828515648841858, 0.9547725915908813, 0.03079911693930626, 0.8420577645301819, 0.15840689837932587, 0.993926465511322, 0.9863945245742798, 0.9948713779449463, 0.9933367967605591, 0.9916855692863464, 0.9955434203147888, 0.9927446842193604, 0.9927914142608643, 0.9690262079238892, 0.9914563894271851, 0.9928781986236572, 0.9995485544204712, 0.9928779602050781, 0.9920480847358704, 0.8932173252105713, 0.09924636781215668, 0.9868279099464417, 0.9980130791664124, 0.9918278455734253, 0.9807736873626709, 0.9946408867835999, 0.9861527681350708, 0.040807805955410004, 0.020403902977705002, 0.9385795593261719, 0.031092671677470207, 0.9638728499412537, 0.990375280380249, 0.05893845856189728, 0.11787691712379456, 0.8251383900642395, 0.11061041802167892, 0.11061041802167892, 0.05530520901083946, 0.7189676761627197, 0.9979323148727417, 0.9164405465126038], \"Term\": [\"accord\", \"accord\", \"affordable\", \"amc_amc\", \"amc_amc\", \"amc_amc\", \"amc_amc\", \"arrange\", \"bag\", \"baht\", \"beautiful\", \"best\", \"best\", \"best\", \"bit\", \"blue\", \"blue\", \"break\", \"brian\", \"brother\", \"brother\", \"brother\", \"brother\", \"buy\", \"cheap\", \"color\", \"come\", \"company\", \"confuse\", \"confuse\", \"consider\", \"control\", \"correctly\", \"correctly\", \"correctly\", \"customer\", \"cute\", \"day\", \"defect\", \"deliver\", \"delivery\", \"description_\\u00f0y\\u0153y\", \"description_\\u00f0y\\u0153y\", \"description_\\u00f0y\\u0153y\", \"difficult\", \"difficult\", \"difficult\", \"difficult\", \"do\", \"eat\", \"eat\", \"excellent\", \"fast\", \"fat\", \"fat\", \"financial_statement\", \"financial_statement\", \"free\", \"go\", \"go\", \"good\", \"great\", \"greatly\", \"greatly\", \"height\", \"height\", \"height\", \"help\", \"help\", \"high\", \"hunger\", \"hunger\", \"impressed\", \"item\", \"leaf\", \"like\", \"little\", \"long\", \"look\", \"lot\", \"love_love\", \"lovely\", \"madi\", \"mm\", \"money\", \"morning\", \"morning\", \"morning\", \"neat\", \"neat\", \"nice\", \"non\", \"not\", \"ok\", \"open\", \"option\", \"order\", \"overall\", \"pack\", \"package\", \"packaging\", \"packaging\", \"pay\", \"pay\", \"pay\", \"person\", \"picture\", \"piece\", \"pleasant\", \"pleasing\", \"polite\", \"press\", \"pretty\", \"price\", \"product\", \"promotion\", \"provide\", \"providing_servic\", \"quality\", \"quickly\", \"real\", \"reasonable\", \"receive\", \"recommend\", \"reed\", \"relate\", \"relate\", \"result\", \"result\", \"rewarding\", \"rewarding\", \"sash\", \"sell\", \"send\", \"sensitive\", \"service\", \"sewing\", \"ship\", \"shop\", \"small\", \"speed\", \"staff\", \"stop\", \"stop\", \"store\", \"store\", \"subsidize\", \"successfully\", \"suitable\", \"thank\", \"thing\", \"think\", \"time\", \"transport\", \"transport_companie\", \"transportation\", \"use\", \"value\", \"wait\", \"want\", \"website\", \"website\", \"work\", \"worth\", \"worthwhile\", \"wrap\", \"z\\u00f0y\", \"\\u00b2a\", \"\\u00b3\\u00f0y\", \"\\u00b3\\u00f0y\", \"\\u00b3\\u00f0y\", \"\\u00bc\\u00f0y\", \"\\u00bc\\u00f0y\", \"\\u00f0y\", \"\\u00f0y\\u0153y\", \"\\u00f0y\\u0153y\", \"\\u00f0y\\u0153y\", \"\\u00f0y\\u0153\\u00b3\\u00f0y\", \"\\u00f0y\\u0153\\u00b3\\u00f0y\", \"\\u00f0y\\u0153\\u00b3\\u00f0y\", \"\\u00f0y\\u0153\\u00b3\\u00f0y\", \"\\u0153\\u00f0y\", \"\\u0192\\u00f0y\"]}, \"R\": 30, \"lambda.step\": 0.01, \"plot.opts\": {\"xlab\": \"PC1\", \"ylab\": \"PC2\"}, \"topic.order\": [3, 2, 4, 1]};\n",
       "\n",
       "function LDAvis_load_lib(url, callback){\n",
       "  var s = document.createElement('script');\n",
       "  s.src = url;\n",
       "  s.async = true;\n",
       "  s.onreadystatechange = s.onload = callback;\n",
       "  s.onerror = function(){console.warn(\"failed to load library \" + url);};\n",
       "  document.getElementsByTagName(\"head\")[0].appendChild(s);\n",
       "}\n",
       "\n",
       "if(typeof(LDAvis) !== \"undefined\"){\n",
       "   // already loaded: just create the visualization\n",
       "   !function(LDAvis){\n",
       "       new LDAvis(\"#\" + \"ldavis_el80711404235094337049080921338\", ldavis_el80711404235094337049080921338_data);\n",
       "   }(LDAvis);\n",
       "}else if(typeof define === \"function\" && define.amd){\n",
       "   // require.js is available: use it to load d3/LDAvis\n",
       "   require.config({paths: {d3: \"https://cdnjs.cloudflare.com/ajax/libs/d3/3.5.5/d3.min\"}});\n",
       "   require([\"d3\"], function(d3){\n",
       "      window.d3 = d3;\n",
       "      LDAvis_load_lib(\"https://cdn.rawgit.com/bmabey/pyLDAvis/files/ldavis.v1.0.0.js\", function(){\n",
       "        new LDAvis(\"#\" + \"ldavis_el80711404235094337049080921338\", ldavis_el80711404235094337049080921338_data);\n",
       "      });\n",
       "    });\n",
       "}else{\n",
       "    // require.js not available: dynamically load d3 & LDAvis\n",
       "    LDAvis_load_lib(\"https://cdnjs.cloudflare.com/ajax/libs/d3/3.5.5/d3.min.js\", function(){\n",
       "         LDAvis_load_lib(\"https://cdn.rawgit.com/bmabey/pyLDAvis/files/ldavis.v1.0.0.js\", function(){\n",
       "                 new LDAvis(\"#\" + \"ldavis_el80711404235094337049080921338\", ldavis_el80711404235094337049080921338_data);\n",
       "            })\n",
       "         });\n",
       "}\n",
       "</script>"
      ],
      "text/plain": [
       "PreparedData(topic_coordinates=              x         y  topics  cluster       Freq\n",
       "topic                                                \n",
       "2      0.404013  0.015383       1        1  36.300163\n",
       "1     -0.127271 -0.308139       2        1  30.644638\n",
       "3     -0.154057  0.303295       3        1  25.235256\n",
       "0     -0.122685 -0.010539       4        1   7.819942, topic_info=     Category         Freq                 Term        Total  loglift  logprob\n",
       "23    Default  5372.000000                 good  5372.000000  30.0000  30.0000\n",
       "45    Default  3565.000000              product  3565.000000  29.0000  29.0000\n",
       "2     Default  1966.000000                price  1966.000000  28.0000  28.0000\n",
       "181   Default   698.000000                 reed   698.000000  27.0000  27.0000\n",
       "112   Default  1709.000000              quality  1709.000000  26.0000  26.0000\n",
       "99    Default  1366.000000             delivery  1366.000000  25.0000  25.0000\n",
       "158   Default  1192.000000                 fast  1192.000000  24.0000  24.0000\n",
       "91    Default  1146.000000                value  1146.000000  23.0000  23.0000\n",
       "341   Default   387.000000                  œðy   387.000000  22.0000  22.0000\n",
       "55    Default   661.000000            beautiful   661.000000  21.0000  21.0000\n",
       "7     Default   554.000000                  bag   554.000000  20.0000  20.0000\n",
       "523   Default   521.000000           reasonable   521.000000  19.0000  19.0000\n",
       "166   Default   684.000000              service   684.000000  18.0000  18.0000\n",
       "46    Default   582.000000              receive   582.000000  17.0000  17.0000\n",
       "50    Default   559.000000                 shop   559.000000  16.0000  16.0000\n",
       "19    Default   448.000000                worth   448.000000  15.0000  15.0000\n",
       "1     Default   476.000000                order   476.000000  14.0000  14.0000\n",
       "84    Default   371.000000                cheap   371.000000  13.0000  13.0000\n",
       "62    Default   326.000000                   mm   326.000000  12.0000  12.0000\n",
       "376   Default   327.000000              deliver   327.000000  11.0000  11.0000\n",
       "0     Default   273.000000                 baht   273.000000  10.0000  10.0000\n",
       "21    Default   245.000000                 cute   245.000000   9.0000   9.0000\n",
       "293   Default   327.000000                 pack   327.000000   8.0000   8.0000\n",
       "68    Default   216.000000                  buy   216.000000   7.0000   7.0000\n",
       "44    Default   250.000000                money   250.000000   6.0000   6.0000\n",
       "83    Default   110.000000                 nice   110.000000   5.0000   5.0000\n",
       "43    Default   102.000000                 item   102.000000   4.0000   4.0000\n",
       "228   Default    97.000000                  day    97.000000   3.0000   3.0000\n",
       "378   Default   214.000000              picture   214.000000   2.0000   2.0000\n",
       "116   Default   211.000000                  not   211.000000   1.0000   1.0000\n",
       "...       ...          ...                  ...          ...      ...      ...\n",
       "266    Topic4    91.665421                 best    93.849731   2.5249  -3.5028\n",
       "202    Topic4    21.526726                   ²a    22.308916   2.5128  -4.9517\n",
       "1583   Topic4    79.808754              amc_amc    82.978096   2.5095  -3.6413\n",
       "847    Topic4    30.793221                  ¼ðy    32.161919   2.5050  -4.5937\n",
       "623    Topic4    28.792706              confuse    30.086308   2.5045  -4.6609\n",
       "856    Topic4    19.106203               person    19.986607   2.5034  -5.0710\n",
       "236    Topic4    50.242020                  pay    52.806255   2.4987  -4.1041\n",
       "127    Topic4    26.055143                 help    27.416920   2.4975  -4.7608\n",
       "1008   Topic4    24.290304                  eat    25.627151   2.4949  -4.8309\n",
       "882    Topic4    24.148916  financial_statement    25.600027   2.4901  -4.8367\n",
       "466    Topic4    19.612373                   go    20.837107   2.4879  -5.0448\n",
       "946    Topic4    16.170979                  non    17.393492   2.4756  -5.2378\n",
       "568    Topic4    12.912466             pleasing    13.978142   2.4692  -5.4628\n",
       "389    Topic4     8.988540                press     9.743329   2.4679  -5.8250\n",
       "498    Topic4     9.373292              control    10.197722   2.4642  -5.7831\n",
       "1476   Topic4    10.533210            love_love    11.668326   2.4461  -5.6664\n",
       "1584   Topic4     8.222031                brian     9.194841   2.4367  -5.9142\n",
       "374    Topic4     5.818033                  ƒðy     6.547070   2.4304  -6.2600\n",
       "1011   Topic4    16.139759                  fat    18.211830   2.4277  -5.2397\n",
       "815    Topic4     8.582775               result     9.740616   2.4219  -5.8712\n",
       "1532   Topic4    14.761687               height    16.754808   2.4218  -5.3289\n",
       "1198   Topic4    15.986714               hunger    18.173042   2.4203  -5.2492\n",
       "794    Topic4     9.657840              greatly    11.005836   2.4178  -5.7532\n",
       "1590   Topic4     9.656968            rewarding    11.005473   2.4178  -5.7533\n",
       "449    Topic4    28.183109                 ðyœy    33.933701   2.3628  -4.6823\n",
       "1376   Topic4    13.928958              morning    16.619947   2.3719  -5.3870\n",
       "988    Topic4    25.399281              brother    59.320019   1.7003  -4.7863\n",
       "1589   Topic4    12.602213               ðyœ³ðy    18.081480   2.1875  -5.4871\n",
       "569    Topic4    15.482563            difficult    32.191254   1.8165  -5.2813\n",
       "446    Topic4    10.753326     description_ðyœy    14.759190   2.2318  -5.6458\n",
       "\n",
       "[167 rows x 6 columns], token_table=      Topic      Freq                Term\n",
       "term                                     \n",
       "161       2  0.757952              accord\n",
       "161       3  0.237789              accord\n",
       "392       1  0.991960          affordable\n",
       "1583      1  0.012051             amc_amc\n",
       "1583      2  0.012051             amc_amc\n",
       "1583      3  0.012051             amc_amc\n",
       "1583      4  0.964110             amc_amc\n",
       "458       2  0.993692             arrange\n",
       "7         3  0.998243                 bag\n",
       "0         3  0.995420                baht\n",
       "55        3  0.998679           beautiful\n",
       "266       1  0.010655                best\n",
       "266       2  0.010655                best\n",
       "266       4  0.980290                best\n",
       "66        2  0.979228                 bit\n",
       "518       2  0.939646                blue\n",
       "518       3  0.046212                blue\n",
       "134       3  0.980470               break\n",
       "1584      4  0.870053               brian\n",
       "988       1  0.050573             brother\n",
       "988       2  0.320297             brother\n",
       "988       3  0.185435             brother\n",
       "988       4  0.421443             brother\n",
       "68        3  0.995811                 buy\n",
       "84        3  0.996770               cheap\n",
       "39        2  0.995182               color\n",
       "226       2  0.995165                come\n",
       "203       1  0.993484             company\n",
       "623       3  0.033238             confuse\n",
       "623       4  0.963894             confuse\n",
       "...     ...       ...                 ...\n",
       "294       1  0.992791           transport\n",
       "420       1  0.969026  transport_companie\n",
       "262       1  0.991456      transportation\n",
       "90        2  0.992878                 use\n",
       "91        1  0.999549               value\n",
       "172       2  0.992878                wait\n",
       "309       2  0.992048                want\n",
       "793       1  0.893217             website\n",
       "793       2  0.099246             website\n",
       "58        3  0.986828                work\n",
       "19        3  0.998013               worth\n",
       "85        3  0.991828          worthwhile\n",
       "64        3  0.980774                wrap\n",
       "176       4  0.994641                 zðy\n",
       "202       4  0.986153                  ²a\n",
       "1234      1  0.040808                 ³ðy\n",
       "1234      2  0.020404                 ³ðy\n",
       "1234      3  0.938580                 ³ðy\n",
       "847       2  0.031093                 ¼ðy\n",
       "847       4  0.963873                 ¼ðy\n",
       "86        4  0.990375                  ðy\n",
       "449       2  0.058938                ðyœy\n",
       "449       3  0.117877                ðyœy\n",
       "449       4  0.825138                ðyœy\n",
       "1589      1  0.110610              ðyœ³ðy\n",
       "1589      2  0.110610              ðyœ³ðy\n",
       "1589      3  0.055305              ðyœ³ðy\n",
       "1589      4  0.718968              ðyœ³ðy\n",
       "341       4  0.997932                 œðy\n",
       "374       4  0.916441                 ƒðy\n",
       "\n",
       "[183 rows x 3 columns], R=30, lambda_step=0.01, plot_opts={'xlab': 'PC1', 'ylab': 'PC2'}, topic_order=[3, 2, 4, 1])"
      ]
     },
     "execution_count": 76,
     "metadata": {},
     "output_type": "execute_result"
    }
   ],
   "source": [
    "# Visualize the topics\n",
    "pyLDAvis.enable_notebook()\n",
    "vis = pyLDAvis.gensim.prepare(lda_model, corpus, id2word)\n",
    "vis"
   ]
  },
  {
   "cell_type": "code",
   "execution_count": 80,
   "metadata": {},
   "outputs": [
    {
     "data": {
      "image/png": "[encoded data removed]",
      "text/plain": [
       "<Figure size 720x720 with 4 Axes>"
      ]
     },
     "metadata": {
      "needs_background": "light"
     },
     "output_type": "display_data"
    }
   ],
   "source": [
    "# 1. Wordcloud of Top N words in each topic\n",
    "from matplotlib import pyplot as plt\n",
    "from wordcloud import WordCloud, STOPWORDS\n",
    "import matplotlib.colors as mcolors\n",
    "\n",
    "cols = [color for name, color in mcolors.TABLEAU_COLORS.items()]  # more colors: 'mcolors.XKCD_COLORS'\n",
    "\n",
    "cloud = WordCloud(stopwords=STOP_WORDS,\n",
    "                  background_color='white',\n",
    "                  width=2500,\n",
    "                  height=1800,\n",
    "                  max_words=10,\n",
    "                  colormap='tab10',\n",
    "                  color_func=lambda *args, **kwargs: cols[i],\n",
    "                  prefer_horizontal=1.0)\n",
    "\n",
    "topics = lda_model.show_topics(formatted=False)\n",
    "\n",
    "fig, axes = plt.subplots(2, 2, figsize=(10,10), sharex=True, sharey=True)\n",
    "\n",
    "for i, ax in enumerate(axes.flatten()):\n",
    "    fig.add_subplot(ax)\n",
    "    topic_words = dict(topics[i][1])\n",
    "    cloud.generate_from_frequencies(topic_words, max_font_size=300)\n",
    "    plt.gca().imshow(cloud)\n",
    "    plt.gca().set_title('Topic ' + str(i), fontdict=dict(size=16))\n",
    "    plt.gca().axis('off')\n",
    "\n",
    "\n",
    "plt.subplots_adjust(wspace=0, hspace=0)\n",
    "plt.axis('off')\n",
    "plt.margins(x=0, y=0)\n",
    "plt.tight_layout()\n",
    "plt.show()"
   ]
  },
  {
   "cell_type": "markdown",
   "metadata": {},
   "source": [
    "#  Building LDA Mallet Model"
   ]
  },
  {
   "cell_type": "code",
   "execution_count": 61,
   "metadata": {},
   "outputs": [],
   "source": [
    "SOME_FIXED_SEED = 47\n",
    "\n",
    "# before training/inference:\n",
    "np.random.seed(SOME_FIXED_SEED)\n",
    "\n",
    "NUM_TOPICS = 4\n",
    "# Download File: http://mallet.cs.umass.edu/dist/mallet-2.0.8.zip\n",
    "mallet_path = '/home/gpu1/work_space/disk3_work_space3/CRM_Topic_models/mallet-2.0.8/bin/mallet' # update this path\n",
    "ldamallet = gensim.models.wrappers.LdaMallet(mallet_path, corpus=corpus, num_topics=NUM_TOPICS, id2word=id2word,random_seed=47)"
   ]
  },
  {
   "cell_type": "code",
   "execution_count": 62,
   "metadata": {},
   "outputs": [
    {
     "data": {
      "text/plain": [
       "47"
      ]
     },
     "execution_count": 62,
     "metadata": {},
     "output_type": "execute_result"
    }
   ],
   "source": [
    "ldamallet.random_seed"
   ]
  },
  {
   "cell_type": "code",
   "execution_count": 63,
   "metadata": {
    "scrolled": true
   },
   "outputs": [
    {
     "name": "stdout",
     "output_type": "stream",
     "text": [
      "[(0,\n",
      "  [('good', 0.5995216306156406),\n",
      "   ('quality', 0.16399750415973377),\n",
      "   ('service', 0.0680116472545757),\n",
      "   ('lot', 0.021110648918469217),\n",
      "   ('company', 0.018406821963394344),\n",
      "   ('ship', 0.017990848585690517),\n",
      "   ('speed', 0.017366888519134774),\n",
      "   ('transportation', 0.015183028286189684),\n",
      "   ('store', 0.013831114808652246),\n",
      "   ('provide', 0.010295341098169717)]),\n",
      " (1,\n",
      "  [('product', 0.3378995433789954),\n",
      "   ('delivery', 0.16766186629200328),\n",
      "   ('fast', 0.12457557663037115),\n",
      "   ('œðy', 0.058189907504976),\n",
      "   ('receive', 0.05081372204659876),\n",
      "   ('ƒðy', 0.025055614096709988),\n",
      "   ('pack', 0.018967334035827187),\n",
      "   ('complete', 0.01510361784334387),\n",
      "   ('ðyz', 0.014635288607891348),\n",
      "   ('long', 0.013932794754712563)]),\n",
      " (2,\n",
      "  [('beautiful', 0.0956430568499534),\n",
      "   ('order', 0.07840167753960857),\n",
      "   ('bag', 0.0603448275862069),\n",
      "   ('zðy', 0.06022833178005592),\n",
      "   ('shop', 0.05964585274930102),\n",
      "   ('reed', 0.04904473438956197),\n",
      "   ('color', 0.045083876980428705),\n",
      "   ('cute', 0.03949207828518173),\n",
      "   ('worth', 0.03832712022367195),\n",
      "   ('money', 0.03133737185461324)]),\n",
      " (3,\n",
      "  [('price', 0.17848578280232957),\n",
      "   ('cheap', 0.04978874043622245),\n",
      "   ('send', 0.03265958661642115),\n",
      "   ('small', 0.03254539225762247),\n",
      "   ('baht', 0.031746031746031744),\n",
      "   ('suitable', 0.028548589699668836),\n",
      "   ('buy', 0.027292451752883407),\n",
      "   ('accord', 0.020554984583761562),\n",
      "   ('mm', 0.019984012789768184),\n",
      "   ('item', 0.018042708690190704)])]\n",
      "\n",
      "Coherence Score:  0.4216030929256196\n"
     ]
    }
   ],
   "source": [
    "# Show Topics\n",
    "pprint(ldamallet.show_topics(formatted=False))\n",
    "\n",
    "# Compute Coherence Score\n",
    "coherence_model_ldamallet = CoherenceModel(model=ldamallet, texts=data_lemmatized, dictionary=id2word, coherence='c_v',)\n",
    "coherence_ldamallet = coherence_model_ldamallet.get_coherence()\n",
    "print('\\nCoherence Score: ', coherence_ldamallet)"
   ]
  },
  {
   "cell_type": "code",
   "execution_count": 64,
   "metadata": {},
   "outputs": [
    {
     "data": {
      "image/png": "[encoded data removed]",
      "text/plain": [
       "<Figure size 720x720 with 4 Axes>"
      ]
     },
     "metadata": {
      "needs_background": "light"
     },
     "output_type": "display_data"
    }
   ],
   "source": [
    "# 1. Wordcloud of Top N words in each topic\n",
    "from matplotlib import pyplot as plt\n",
    "from wordcloud import WordCloud, STOPWORDS\n",
    "import matplotlib.colors as mcolors\n",
    "\n",
    "cols = [color for name, color in mcolors.TABLEAU_COLORS.items()]  # more colors: 'mcolors.XKCD_COLORS'\n",
    "\n",
    "cloud = WordCloud(stopwords=STOP_WORDS,\n",
    "                  background_color='white',\n",
    "                  width=2500,\n",
    "                  height=1800,\n",
    "                  max_words=10,\n",
    "                  colormap='tab10',\n",
    "                  color_func=lambda *args, **kwargs: cols[i],\n",
    "                  prefer_horizontal=1.0)\n",
    "\n",
    "topics = ldamallet.show_topics(formatted=False)\n",
    "\n",
    "fig, axes = plt.subplots(2, 2, figsize=(10,10), sharex=True, sharey=True)\n",
    "\n",
    "for i, ax in enumerate(axes.flatten()):\n",
    "    fig.add_subplot(ax)\n",
    "    topic_words = dict(topics[i][1])\n",
    "    cloud.generate_from_frequencies(topic_words, max_font_size=300)\n",
    "    plt.gca().imshow(cloud)\n",
    "    plt.gca().set_title('Topic ' + str(i), fontdict=dict(size=16))\n",
    "    plt.gca().axis('off')\n",
    "\n",
    "\n",
    "plt.subplots_adjust(wspace=0, hspace=0)\n",
    "plt.axis('off')\n",
    "plt.margins(x=0, y=0)\n",
    "plt.tight_layout()\n",
    "plt.show()"
   ]
  },
  {
   "cell_type": "code",
   "execution_count": 35,
   "metadata": {},
   "outputs": [],
   "source": [
    "topics_lda = ldamallet.show_topics(formatted=False)\n",
    "topics_lda_df  = pd.DataFrame()\n",
    "i1 = [ t[0] for t in topics_lda]\n",
    "i2 = []\n",
    "for t in topics_lda:\n",
    "    for t1 in t[1]:\n",
    "        i2.append(t1[0])\n",
    "        \n",
    "topics_lda_df['topic'] = i1\n",
    "for i in i2:\n",
    "    topics_lda_df[i] = 0.0\n",
    "\n",
    "for i,t in enumerate(topics_lda):\n",
    "    for t1 in t[1]:\n",
    "        topics_lda_df.loc[topics_lda_df.topic==i,t1[0]]=t1[1]"
   ]
  },
  {
   "cell_type": "code",
   "execution_count": 36,
   "metadata": {},
   "outputs": [
    {
     "data": {
      "text/html": [
       "<div>\n",
       "<style scoped>\n",
       "    .dataframe tbody tr th:only-of-type {\n",
       "        vertical-align: middle;\n",
       "    }\n",
       "\n",
       "    .dataframe tbody tr th {\n",
       "        vertical-align: top;\n",
       "    }\n",
       "\n",
       "    .dataframe thead th {\n",
       "        text-align: right;\n",
       "    }\n",
       "</style>\n",
       "<table border=\"1\" class=\"dataframe\">\n",
       "  <thead>\n",
       "    <tr style=\"text-align: right;\">\n",
       "      <th></th>\n",
       "      <th>topic</th>\n",
       "      <th>order</th>\n",
       "      <th>zðy</th>\n",
       "      <th>shop</th>\n",
       "      <th>color</th>\n",
       "      <th>send</th>\n",
       "      <th>buy</th>\n",
       "      <th>lot</th>\n",
       "      <th>accord</th>\n",
       "      <th>item</th>\n",
       "      <th>...</th>\n",
       "      <th>price</th>\n",
       "      <th>beautiful</th>\n",
       "      <th>bag</th>\n",
       "      <th>œðy</th>\n",
       "      <th>cheap</th>\n",
       "      <th>cute</th>\n",
       "      <th>worth</th>\n",
       "      <th>small</th>\n",
       "      <th>baht</th>\n",
       "      <th>suitable</th>\n",
       "    </tr>\n",
       "  </thead>\n",
       "  <tbody>\n",
       "    <tr>\n",
       "      <th>0</th>\n",
       "      <td>0</td>\n",
       "      <td>0.079466</td>\n",
       "      <td>0.061046</td>\n",
       "      <td>0.060456</td>\n",
       "      <td>0.045696</td>\n",
       "      <td>0.03377</td>\n",
       "      <td>0.028221</td>\n",
       "      <td>0.02397</td>\n",
       "      <td>0.021254</td>\n",
       "      <td>0.018656</td>\n",
       "      <td>...</td>\n",
       "      <td>0.000000</td>\n",
       "      <td>0.000000</td>\n",
       "      <td>0.000000</td>\n",
       "      <td>0.000000</td>\n",
       "      <td>0.000000</td>\n",
       "      <td>0.00000</td>\n",
       "      <td>0.000000</td>\n",
       "      <td>0.000000</td>\n",
       "      <td>0.000000</td>\n",
       "      <td>0.000000</td>\n",
       "    </tr>\n",
       "    <tr>\n",
       "      <th>1</th>\n",
       "      <td>1</td>\n",
       "      <td>0.000000</td>\n",
       "      <td>0.000000</td>\n",
       "      <td>0.000000</td>\n",
       "      <td>0.000000</td>\n",
       "      <td>0.00000</td>\n",
       "      <td>0.000000</td>\n",
       "      <td>0.00000</td>\n",
       "      <td>0.000000</td>\n",
       "      <td>0.000000</td>\n",
       "      <td>...</td>\n",
       "      <td>0.000000</td>\n",
       "      <td>0.000000</td>\n",
       "      <td>0.000000</td>\n",
       "      <td>0.000000</td>\n",
       "      <td>0.000000</td>\n",
       "      <td>0.00000</td>\n",
       "      <td>0.000000</td>\n",
       "      <td>0.000000</td>\n",
       "      <td>0.000000</td>\n",
       "      <td>0.000000</td>\n",
       "    </tr>\n",
       "    <tr>\n",
       "      <th>2</th>\n",
       "      <td>2</td>\n",
       "      <td>0.000000</td>\n",
       "      <td>0.000000</td>\n",
       "      <td>0.000000</td>\n",
       "      <td>0.000000</td>\n",
       "      <td>0.00000</td>\n",
       "      <td>0.000000</td>\n",
       "      <td>0.00000</td>\n",
       "      <td>0.000000</td>\n",
       "      <td>0.000000</td>\n",
       "      <td>...</td>\n",
       "      <td>0.000000</td>\n",
       "      <td>0.000000</td>\n",
       "      <td>0.000000</td>\n",
       "      <td>0.000000</td>\n",
       "      <td>0.000000</td>\n",
       "      <td>0.00000</td>\n",
       "      <td>0.000000</td>\n",
       "      <td>0.000000</td>\n",
       "      <td>0.000000</td>\n",
       "      <td>0.000000</td>\n",
       "    </tr>\n",
       "    <tr>\n",
       "      <th>3</th>\n",
       "      <td>3</td>\n",
       "      <td>0.000000</td>\n",
       "      <td>0.000000</td>\n",
       "      <td>0.000000</td>\n",
       "      <td>0.000000</td>\n",
       "      <td>0.00000</td>\n",
       "      <td>0.000000</td>\n",
       "      <td>0.00000</td>\n",
       "      <td>0.000000</td>\n",
       "      <td>0.000000</td>\n",
       "      <td>...</td>\n",
       "      <td>0.180966</td>\n",
       "      <td>0.095056</td>\n",
       "      <td>0.059975</td>\n",
       "      <td>0.057543</td>\n",
       "      <td>0.050017</td>\n",
       "      <td>0.03925</td>\n",
       "      <td>0.038092</td>\n",
       "      <td>0.032998</td>\n",
       "      <td>0.032187</td>\n",
       "      <td>0.028945</td>\n",
       "    </tr>\n",
       "  </tbody>\n",
       "</table>\n",
       "<p>4 rows × 41 columns</p>\n",
       "</div>"
      ],
      "text/plain": [
       "   topic     order       zðy      shop     color     send       buy      lot  \\\n",
       "0      0  0.079466  0.061046  0.060456  0.045696  0.03377  0.028221  0.02397   \n",
       "1      1  0.000000  0.000000  0.000000  0.000000  0.00000  0.000000  0.00000   \n",
       "2      2  0.000000  0.000000  0.000000  0.000000  0.00000  0.000000  0.00000   \n",
       "3      3  0.000000  0.000000  0.000000  0.000000  0.00000  0.000000  0.00000   \n",
       "\n",
       "     accord      item  ...     price  beautiful       bag       œðy     cheap  \\\n",
       "0  0.021254  0.018656  ...  0.000000   0.000000  0.000000  0.000000  0.000000   \n",
       "1  0.000000  0.000000  ...  0.000000   0.000000  0.000000  0.000000  0.000000   \n",
       "2  0.000000  0.000000  ...  0.000000   0.000000  0.000000  0.000000  0.000000   \n",
       "3  0.000000  0.000000  ...  0.180966   0.095056  0.059975  0.057543  0.050017   \n",
       "\n",
       "      cute     worth     small      baht  suitable  \n",
       "0  0.00000  0.000000  0.000000  0.000000  0.000000  \n",
       "1  0.00000  0.000000  0.000000  0.000000  0.000000  \n",
       "2  0.00000  0.000000  0.000000  0.000000  0.000000  \n",
       "3  0.03925  0.038092  0.032998  0.032187  0.028945  \n",
       "\n",
       "[4 rows x 41 columns]"
      ]
     },
     "execution_count": 36,
     "metadata": {},
     "output_type": "execute_result"
    }
   ],
   "source": [
    "topics_lda_df"
   ]
  },
  {
   "cell_type": "code",
   "execution_count": 66,
   "metadata": {},
   "outputs": [],
   "source": [
    "def preprocess(doc):\n",
    "    \n",
    "    data = [doc]\n",
    "\n",
    "    # Remove Emails\n",
    "    data = [re.sub('\\S*@\\S*\\s?', '', sent) for sent in data]\n",
    "    # Remove new line characters\n",
    "    data = [re.sub('\\s+', ' ', sent) for sent in data]\n",
    "    # Remove distracting single quotes\n",
    "    data = [re.sub(\"\\'\", \"\", sent) for sent in data]\n",
    "    \n",
    "    data_words = list(sent_to_words(data))\n",
    "\n",
    "    # Build the bigram and trigram models\n",
    "    bigram = gensim.models.Phrases(data_words, min_count=4, threshold=100) # higher threshold fewer phrases.\n",
    "    trigram = gensim.models.Phrases(bigram[data_words], threshold=100)  \n",
    "\n",
    "    # Faster way to get a sentence clubbed as a trigram/bigram\n",
    "    bigram_mod = gensim.models.phrases.Phraser(bigram)\n",
    "    trigram_mod = gensim.models.phrases.Phraser(trigram)\n",
    "\n",
    "    # Remove Stop Words\n",
    "    data_words_nostops = remove_stopwords(data_words)\n",
    "\n",
    "    # Form Bigrams\n",
    "    data_words_bigrams = make_bigrams(data_words_nostops)\n",
    "\n",
    "    # Do lemmatization keeping only noun, adj, vb, adv\n",
    "    data_lemmatized = lemmatization(data_words_bigrams, allowed_postags=['NOUN', 'ADJ', 'VERB', 'ADV'])\n",
    "\n",
    "    # Create Corpus\n",
    "    texts = data_lemmatized\n",
    "    \n",
    "    return texts"
   ]
  },
  {
   "cell_type": "code",
   "execution_count": 72,
   "metadata": {},
   "outputs": [
    {
     "name": "stdout",
     "output_type": "stream",
     "text": [
      "[[(0, 0.2403846153846154),\n",
      "  (1, 0.2403846153846154),\n",
      "  (2, 0.25961538461538464),\n",
      "  (3, 0.25961538461538464)]]\n"
     ]
    }
   ],
   "source": [
    "doc = \"worth price\"\n",
    "doc = preprocess(doc)\n",
    "#bow = corpora.dictionary.doc2bow(utils.simple_preprocess(doc))\n",
    "bow = [id2word.doc2bow(d) for d in doc]\n",
    "pprint(ldamallet[bow])"
   ]
  },
  {
   "cell_type": "code",
   "execution_count": null,
   "metadata": {},
   "outputs": [],
   "source": []
  },
  {
   "cell_type": "code",
   "execution_count": null,
   "metadata": {},
   "outputs": [],
   "source": []
  }
 ],
 "metadata": {
  "kernelspec": {
   "display_name": "Python [conda env:fastaipy372] *",
   "language": "python",
   "name": "conda-env-fastaipy372-py"
  },
  "language_info": {
   "codemirror_mode": {
    "name": "ipython",
    "version": 3
   },
   "file_extension": ".py",
   "mimetype": "text/x-python",
   "name": "python",
   "nbconvert_exporter": "python",
   "pygments_lexer": "ipython3",
   "version": "3.7.2"
  }
 },
 "nbformat": 4,
 "nbformat_minor": 2
}
