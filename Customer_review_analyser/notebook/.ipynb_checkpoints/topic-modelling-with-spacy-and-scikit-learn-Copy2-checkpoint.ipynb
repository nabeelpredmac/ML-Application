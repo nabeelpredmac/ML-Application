{
 "cells": [
  {
   "cell_type": "markdown",
   "metadata": {
    "_uuid": "0e7f1eca6087c4c45c31bc6045dea57a3f37b89f"
   },
   "source": [
    "# Aim and Motivation \n",
    "[Nirant](https://www.kaggle.com/nirant)'s latest kernel on spaCy: [Hitchhiker's Guide to NLP in spaCy](https://www.kaggle.com/nirant/hitchhiker-s-guide-to-nlp-in-spacy) has made me realize that spaCy maybe as good or even better than NLTK for Natural Language Processing. My recent kernels deal with deep learning and I want to extend that by using text data for deep learning and intend to use spaCy for processing and modelling this data. "
   ]
  },
  {
   "cell_type": "code",
   "execution_count": 162,
   "metadata": {
    "_cell_guid": "b1076dfc-b9ad-4769-8c92-a6c4dae69d19",
    "_uuid": "8f2839f25d086af736a60e9eeb907d3b93b6e0e5"
   },
   "outputs": [
    {
     "name": "stdout",
     "output_type": "stream",
     "text": [
      "['productReviewShopee_1.csv']\n"
     ]
    },
    {
     "data": {
      "text/html": [
       "        <script type=\"text/javascript\">\n",
       "        window.PlotlyConfig = {MathJaxConfig: 'local'};\n",
       "        if (window.MathJax) {MathJax.Hub.Config({SVG: {font: \"STIX-Web\"}});}\n",
       "        if (typeof require !== 'undefined') {\n",
       "        require.undef(\"plotly\");\n",
       "        requirejs.config({\n",
       "            paths: {\n",
       "                'plotly': ['https://cdn.plot.ly/plotly-latest.min']\n",
       "            }\n",
       "        });\n",
       "        require(['plotly'], function(Plotly) {\n",
       "            window._Plotly = Plotly;\n",
       "        });\n",
       "        }\n",
       "        </script>\n",
       "        "
      ]
     },
     "metadata": {},
     "output_type": "display_data"
    }
   ],
   "source": [
    "# Usual imports\n",
    "import numpy as np\n",
    "import pandas as pd\n",
    "from tqdm import tqdm\n",
    "import string\n",
    "import matplotlib.pyplot as plt\n",
    "from sklearn.decomposition import NMF, LatentDirichletAllocation, TruncatedSVD\n",
    "from sklearn.feature_extraction.text import CountVectorizer\n",
    "from sklearn.manifold import TSNE\n",
    "import concurrent.futures\n",
    "import time\n",
    "import pyLDAvis.sklearn\n",
    "from pylab import bone, pcolor, colorbar, plot, show, rcParams, savefig\n",
    "import warnings\n",
    "warnings.filterwarnings('ignore')\n",
    "\n",
    "%matplotlib inline\n",
    "import os\n",
    "print(os.listdir(\"../data\"))\n",
    "\n",
    "# Plotly based imports for visualization\n",
    "from plotly import tools\n",
    "import chart_studio.plotly as py\n",
    "from plotly.offline import init_notebook_mode, iplot\n",
    "init_notebook_mode(connected=True)\n",
    "import plotly.graph_objs as go\n",
    "import plotly.figure_factory as ff\n",
    "\n",
    "# spaCy based imports\n",
    "import spacy\n",
    "from spacy.lang.en.stop_words import STOP_WORDS\n",
    "from spacy.lang.en import English\n",
    "#!python -m spacy download en_core_web_lg"
   ]
  },
  {
   "cell_type": "code",
   "execution_count": 63,
   "metadata": {
    "_uuid": "d57d08400a530b786ad3226110e34aefb85e94b1"
   },
   "outputs": [
    {
     "data": {
      "text/html": [
       "<div>\n",
       "<style scoped>\n",
       "    .dataframe tbody tr th:only-of-type {\n",
       "        vertical-align: middle;\n",
       "    }\n",
       "\n",
       "    .dataframe tbody tr th {\n",
       "        vertical-align: top;\n",
       "    }\n",
       "\n",
       "    .dataframe thead th {\n",
       "        text-align: right;\n",
       "    }\n",
       "</style>\n",
       "<table border=\"1\" class=\"dataframe\">\n",
       "  <thead>\n",
       "    <tr style=\"text-align: right;\">\n",
       "      <th></th>\n",
       "      <th>title</th>\n",
       "      <th>rating</th>\n",
       "      <th>date</th>\n",
       "      <th>categorie</th>\n",
       "      <th>comments</th>\n",
       "      <th>product_option</th>\n",
       "    </tr>\n",
       "  </thead>\n",
       "  <tbody>\n",
       "    <tr>\n",
       "      <th>0</th>\n",
       "      <td>🔥 Mini shoulder bag (M-688)</td>\n",
       "      <td>4</td>\n",
       "      <td>22-05-2019</td>\n",
       "      <td>Bag</td>\n",
       "      <td>Give 4 stars because order at the price 37 but...</td>\n",
       "      <td>Pink:</td>\n",
       "    </tr>\n",
       "    <tr>\n",
       "      <th>1</th>\n",
       "      <td>🔥 Mini shoulder bag (M-688)</td>\n",
       "      <td>5</td>\n",
       "      <td>18-07-2019</td>\n",
       "      <td>Bag</td>\n",
       "      <td>Ordered at a discount of 10 baht per piece. It...</td>\n",
       "      <td>Black</td>\n",
       "    </tr>\n",
       "    <tr>\n",
       "      <th>2</th>\n",
       "      <td>🔥 Mini shoulder bag (M-688)</td>\n",
       "      <td>5</td>\n",
       "      <td>02-07-2019</td>\n",
       "      <td>Bag</td>\n",
       "      <td>Small, cute, compact, good But the sash looks ...</td>\n",
       "      <td>Tau</td>\n",
       "    </tr>\n",
       "    <tr>\n",
       "      <th>3</th>\n",
       "      <td>🔥 Mini shoulder bag (M-688)</td>\n",
       "      <td>1</td>\n",
       "      <td>15-12-2018</td>\n",
       "      <td>Bag</td>\n",
       "      <td>The size is not as large as it is down. The st...</td>\n",
       "      <td>Black</td>\n",
       "    </tr>\n",
       "    <tr>\n",
       "      <th>4</th>\n",
       "      <td>🔥 Mini shoulder bag (M-688)</td>\n",
       "      <td>1</td>\n",
       "      <td>24-07-2019</td>\n",
       "      <td>Bag</td>\n",
       "      <td>The product is compared to the price. Okay. Se...</td>\n",
       "      <td>Black</td>\n",
       "    </tr>\n",
       "  </tbody>\n",
       "</table>\n",
       "</div>"
      ],
      "text/plain": [
       "                         title  rating        date categorie  \\\n",
       "0  🔥 Mini shoulder bag (M-688)       4  22-05-2019       Bag   \n",
       "1  🔥 Mini shoulder bag (M-688)       5  18-07-2019       Bag   \n",
       "2  🔥 Mini shoulder bag (M-688)       5  02-07-2019       Bag   \n",
       "3  🔥 Mini shoulder bag (M-688)       1  15-12-2018       Bag   \n",
       "4  🔥 Mini shoulder bag (M-688)       1  24-07-2019       Bag   \n",
       "\n",
       "                                            comments product_option  \n",
       "0  Give 4 stars because order at the price 37 but...          Pink:  \n",
       "1  Ordered at a discount of 10 baht per piece. It...          Black  \n",
       "2  Small, cute, compact, good But the sash looks ...            Tau  \n",
       "3  The size is not as large as it is down. The st...          Black  \n",
       "4  The product is compared to the price. Okay. Se...          Black  "
      ]
     },
     "execution_count": 63,
     "metadata": {},
     "output_type": "execute_result"
    }
   ],
   "source": [
    "# Loading data\n",
    "reviews = pd.read_csv('../data/productReviewShopee_1.csv')\n",
    "reviews.head()"
   ]
  },
  {
   "cell_type": "code",
   "execution_count": 66,
   "metadata": {},
   "outputs": [
    {
     "data": {
      "text/plain": [
       "(11416, 6)"
      ]
     },
     "execution_count": 66,
     "metadata": {},
     "output_type": "execute_result"
    }
   ],
   "source": [
    "reviews.shape"
   ]
  },
  {
   "cell_type": "markdown",
   "metadata": {},
   "source": [
    "### Remove Duplicates "
   ]
  },
  {
   "cell_type": "code",
   "execution_count": 68,
   "metadata": {},
   "outputs": [
    {
     "data": {
      "text/plain": [
       "(8984, 6)"
      ]
     },
     "execution_count": 68,
     "metadata": {},
     "output_type": "execute_result"
    }
   ],
   "source": [
    "reviews.drop_duplicates().shape"
   ]
  },
  {
   "cell_type": "code",
   "execution_count": 69,
   "metadata": {},
   "outputs": [
    {
     "data": {
      "text/html": [
       "<div>\n",
       "<style scoped>\n",
       "    .dataframe tbody tr th:only-of-type {\n",
       "        vertical-align: middle;\n",
       "    }\n",
       "\n",
       "    .dataframe tbody tr th {\n",
       "        vertical-align: top;\n",
       "    }\n",
       "\n",
       "    .dataframe thead th {\n",
       "        text-align: right;\n",
       "    }\n",
       "</style>\n",
       "<table border=\"1\" class=\"dataframe\">\n",
       "  <thead>\n",
       "    <tr style=\"text-align: right;\">\n",
       "      <th></th>\n",
       "      <th>title</th>\n",
       "      <th>rating</th>\n",
       "      <th>date</th>\n",
       "      <th>categorie</th>\n",
       "      <th>comments</th>\n",
       "      <th>product_option</th>\n",
       "    </tr>\n",
       "  </thead>\n",
       "  <tbody>\n",
       "    <tr>\n",
       "      <th>0</th>\n",
       "      <td>🔥 Mini shoulder bag (M-688)</td>\n",
       "      <td>4</td>\n",
       "      <td>22-05-2019</td>\n",
       "      <td>Bag</td>\n",
       "      <td>Give 4 stars because order at the price 37 but...</td>\n",
       "      <td>Pink:</td>\n",
       "    </tr>\n",
       "    <tr>\n",
       "      <th>1</th>\n",
       "      <td>🔥 Mini shoulder bag (M-688)</td>\n",
       "      <td>5</td>\n",
       "      <td>18-07-2019</td>\n",
       "      <td>Bag</td>\n",
       "      <td>Ordered at a discount of 10 baht per piece. It...</td>\n",
       "      <td>Black</td>\n",
       "    </tr>\n",
       "    <tr>\n",
       "      <th>2</th>\n",
       "      <td>🔥 Mini shoulder bag (M-688)</td>\n",
       "      <td>5</td>\n",
       "      <td>02-07-2019</td>\n",
       "      <td>Bag</td>\n",
       "      <td>Small, cute, compact, good But the sash looks ...</td>\n",
       "      <td>Tau</td>\n",
       "    </tr>\n",
       "    <tr>\n",
       "      <th>3</th>\n",
       "      <td>🔥 Mini shoulder bag (M-688)</td>\n",
       "      <td>1</td>\n",
       "      <td>15-12-2018</td>\n",
       "      <td>Bag</td>\n",
       "      <td>The size is not as large as it is down. The st...</td>\n",
       "      <td>Black</td>\n",
       "    </tr>\n",
       "    <tr>\n",
       "      <th>4</th>\n",
       "      <td>🔥 Mini shoulder bag (M-688)</td>\n",
       "      <td>1</td>\n",
       "      <td>24-07-2019</td>\n",
       "      <td>Bag</td>\n",
       "      <td>The product is compared to the price. Okay. Se...</td>\n",
       "      <td>Black</td>\n",
       "    </tr>\n",
       "  </tbody>\n",
       "</table>\n",
       "</div>"
      ],
      "text/plain": [
       "                         title  rating        date categorie  \\\n",
       "0  🔥 Mini shoulder bag (M-688)       4  22-05-2019       Bag   \n",
       "1  🔥 Mini shoulder bag (M-688)       5  18-07-2019       Bag   \n",
       "2  🔥 Mini shoulder bag (M-688)       5  02-07-2019       Bag   \n",
       "3  🔥 Mini shoulder bag (M-688)       1  15-12-2018       Bag   \n",
       "4  🔥 Mini shoulder bag (M-688)       1  24-07-2019       Bag   \n",
       "\n",
       "                                            comments product_option  \n",
       "0  Give 4 stars because order at the price 37 but...          Pink:  \n",
       "1  Ordered at a discount of 10 baht per piece. It...          Black  \n",
       "2  Small, cute, compact, good But the sash looks ...            Tau  \n",
       "3  The size is not as large as it is down. The st...          Black  \n",
       "4  The product is compared to the price. Okay. Se...          Black  "
      ]
     },
     "execution_count": 69,
     "metadata": {},
     "output_type": "execute_result"
    }
   ],
   "source": [
    "reviews=reviews.drop_duplicates()\n",
    "reviews.head()"
   ]
  },
  {
   "cell_type": "markdown",
   "metadata": {},
   "source": [
    "### Remove very small text"
   ]
  },
  {
   "cell_type": "code",
   "execution_count": 88,
   "metadata": {},
   "outputs": [],
   "source": [
    "reviews.comments=reviews.comments.astype(str)\n",
    "reviews['len_review']=reviews.comments.apply(len)"
   ]
  },
  {
   "cell_type": "code",
   "execution_count": 89,
   "metadata": {},
   "outputs": [
    {
     "data": {
      "text/plain": [
       "count    8975.000000\n",
       "mean      106.887577\n",
       "std        94.884396\n",
       "min         3.000000\n",
       "25%        40.000000\n",
       "50%        84.000000\n",
       "75%       149.000000\n",
       "max      1387.000000\n",
       "Name: len_review, dtype: float64"
      ]
     },
     "execution_count": 89,
     "metadata": {},
     "output_type": "execute_result"
    }
   ],
   "source": [
    "reviews.len_review.describe()"
   ]
  },
  {
   "cell_type": "code",
   "execution_count": 90,
   "metadata": {},
   "outputs": [
    {
     "data": {
      "text/plain": [
       "688        The\n",
       "796      Price\n",
       "807        For\n",
       "914       Cute\n",
       "949       Good\n",
       "965       Late\n",
       "981       Cute\n",
       "996       Some\n",
       "1005      Good\n",
       "1057      Good\n",
       "1060      send\n",
       "1062      good\n",
       "1063      good\n",
       "1331     Price\n",
       "1578       👍👍👍\n",
       "1594      ✌🏻✌🏻\n",
       "1604     Worth\n",
       "1636     Good.\n",
       "1642      Good\n",
       "1645       Fit\n",
       "1706       Fit\n",
       "1812      Good\n",
       "1889      good\n",
       "1907      Good\n",
       "1983     Price\n",
       "2173      Soft\n",
       "2330      Good\n",
       "2371      Cool\n",
       "2391     Price\n",
       "2421     Cloth\n",
       "         ...  \n",
       "7607      mind\n",
       "7780       nan\n",
       "7790      good\n",
       "7984      Just\n",
       "8339      Good\n",
       "8526      good\n",
       "8557      late\n",
       "8584       nan\n",
       "8703      late\n",
       "8789      Good\n",
       "9023      Fast\n",
       "9050      Good\n",
       "9121      good\n",
       "9144      Good\n",
       "9145      Fair\n",
       "9250      Good\n",
       "9363       👍👍👍\n",
       "10465    Rusty\n",
       "10470     Cute\n",
       "10471     Good\n",
       "10518     Cute\n",
       "10548     Okay\n",
       "10631    Price\n",
       "10633      For\n",
       "10789     Cute\n",
       "10804    Price\n",
       "10835     Fair\n",
       "10861    Price\n",
       "10928     Cute\n",
       "11381    Price\n",
       "Name: comments, Length: 80, dtype: object"
      ]
     },
     "execution_count": 90,
     "metadata": {},
     "output_type": "execute_result"
    }
   ],
   "source": [
    "reviews.comments.loc[reviews.len_review<=5]"
   ]
  },
  {
   "cell_type": "code",
   "execution_count": 92,
   "metadata": {},
   "outputs": [],
   "source": [
    "reviews.comments=reviews.comments.apply(lambda x: x.replace('👍','good '))"
   ]
  },
  {
   "cell_type": "code",
   "execution_count": 93,
   "metadata": {},
   "outputs": [
    {
     "data": {
      "text/html": [
       "<div>\n",
       "<style scoped>\n",
       "    .dataframe tbody tr th:only-of-type {\n",
       "        vertical-align: middle;\n",
       "    }\n",
       "\n",
       "    .dataframe tbody tr th {\n",
       "        vertical-align: top;\n",
       "    }\n",
       "\n",
       "    .dataframe thead th {\n",
       "        text-align: right;\n",
       "    }\n",
       "</style>\n",
       "<table border=\"1\" class=\"dataframe\">\n",
       "  <thead>\n",
       "    <tr style=\"text-align: right;\">\n",
       "      <th></th>\n",
       "      <th>title</th>\n",
       "      <th>rating</th>\n",
       "      <th>date</th>\n",
       "      <th>categorie</th>\n",
       "      <th>comments</th>\n",
       "      <th>product_option</th>\n",
       "      <th>len_review</th>\n",
       "    </tr>\n",
       "  </thead>\n",
       "  <tbody>\n",
       "    <tr>\n",
       "      <th>0</th>\n",
       "      <td>🔥 Mini shoulder bag (M-688)</td>\n",
       "      <td>4</td>\n",
       "      <td>22-05-2019</td>\n",
       "      <td>Bag</td>\n",
       "      <td>Give 4 stars because order at the price 37 but...</td>\n",
       "      <td>Pink:</td>\n",
       "      <td>66</td>\n",
       "    </tr>\n",
       "    <tr>\n",
       "      <th>1</th>\n",
       "      <td>🔥 Mini shoulder bag (M-688)</td>\n",
       "      <td>5</td>\n",
       "      <td>18-07-2019</td>\n",
       "      <td>Bag</td>\n",
       "      <td>Ordered at a discount of 10 baht per piece. It...</td>\n",
       "      <td>Black</td>\n",
       "      <td>167</td>\n",
       "    </tr>\n",
       "    <tr>\n",
       "      <th>2</th>\n",
       "      <td>🔥 Mini shoulder bag (M-688)</td>\n",
       "      <td>5</td>\n",
       "      <td>02-07-2019</td>\n",
       "      <td>Bag</td>\n",
       "      <td>Small, cute, compact, good But the sash looks ...</td>\n",
       "      <td>Tau</td>\n",
       "      <td>150</td>\n",
       "    </tr>\n",
       "    <tr>\n",
       "      <th>3</th>\n",
       "      <td>🔥 Mini shoulder bag (M-688)</td>\n",
       "      <td>1</td>\n",
       "      <td>15-12-2018</td>\n",
       "      <td>Bag</td>\n",
       "      <td>The size is not as large as it is down. The st...</td>\n",
       "      <td>Black</td>\n",
       "      <td>135</td>\n",
       "    </tr>\n",
       "    <tr>\n",
       "      <th>4</th>\n",
       "      <td>🔥 Mini shoulder bag (M-688)</td>\n",
       "      <td>1</td>\n",
       "      <td>24-07-2019</td>\n",
       "      <td>Bag</td>\n",
       "      <td>The product is compared to the price. Okay. Se...</td>\n",
       "      <td>Black</td>\n",
       "      <td>302</td>\n",
       "    </tr>\n",
       "  </tbody>\n",
       "</table>\n",
       "</div>"
      ],
      "text/plain": [
       "                         title  rating        date categorie  \\\n",
       "0  🔥 Mini shoulder bag (M-688)       4  22-05-2019       Bag   \n",
       "1  🔥 Mini shoulder bag (M-688)       5  18-07-2019       Bag   \n",
       "2  🔥 Mini shoulder bag (M-688)       5  02-07-2019       Bag   \n",
       "3  🔥 Mini shoulder bag (M-688)       1  15-12-2018       Bag   \n",
       "4  🔥 Mini shoulder bag (M-688)       1  24-07-2019       Bag   \n",
       "\n",
       "                                            comments product_option  \\\n",
       "0  Give 4 stars because order at the price 37 but...          Pink:   \n",
       "1  Ordered at a discount of 10 baht per piece. It...          Black   \n",
       "2  Small, cute, compact, good But the sash looks ...            Tau   \n",
       "3  The size is not as large as it is down. The st...          Black   \n",
       "4  The product is compared to the price. Okay. Se...          Black   \n",
       "\n",
       "   len_review  \n",
       "0          66  \n",
       "1         167  \n",
       "2         150  \n",
       "3         135  \n",
       "4         302  "
      ]
     },
     "execution_count": 93,
     "metadata": {},
     "output_type": "execute_result"
    }
   ],
   "source": [
    "reviews=reviews.loc[reviews.len_review>=3,:]\n",
    "reviews.head()"
   ]
  },
  {
   "cell_type": "code",
   "execution_count": 94,
   "metadata": {},
   "outputs": [
    {
     "data": {
      "text/plain": [
       "count    8975.000000\n",
       "mean      106.887577\n",
       "std        94.884396\n",
       "min         3.000000\n",
       "25%        40.000000\n",
       "50%        84.000000\n",
       "75%       149.000000\n",
       "max      1387.000000\n",
       "Name: len_review, dtype: float64"
      ]
     },
     "execution_count": 94,
     "metadata": {},
     "output_type": "execute_result"
    }
   ],
   "source": [
    "reviews.len_review.describe()"
   ]
  },
  {
   "cell_type": "code",
   "execution_count": 95,
   "metadata": {
    "_uuid": "17fe81e7e90dfb32681f56a03b9136bbb74343b8"
   },
   "outputs": [],
   "source": [
    "# Creating a spaCy object\n",
    "nlp = spacy.load('en_core_web_lg')"
   ]
  },
  {
   "cell_type": "markdown",
   "metadata": {
    "_uuid": "6662c89d96296025b13d25e9addf6bb6a5dee520"
   },
   "source": [
    "spaCy also comes with a built-in named entity visualizer that lets you check your model's predictions in your browser. You can pass in one or more <code>Doc</code> objects and start a web server, export HTML files or view the visualization directly from a Jupyter Notebook."
   ]
  },
  {
   "cell_type": "markdown",
   "metadata": {
    "_uuid": "2c482d29cffb29c2b444086a5035b15468ff13e5"
   },
   "source": [
    "### Named Entity Recognition\n",
    " Named Entity Recognition is an information extraction task where named entities in unstructured sentences are located and classified  in some pre-defined categories such as the person names, organizations, locations, medical codes, time expressions, quantities, monetary values, percentages, etc."
   ]
  },
  {
   "cell_type": "code",
   "execution_count": 96,
   "metadata": {
    "_uuid": "677e753450ddea24b1289e3033a2f7928710ef25"
   },
   "outputs": [
    {
     "data": {
      "text/html": [
       "<div class=\"entities\" style=\"line-height: 2.5\">The size is not as large as it is down. The stitching was wrong. The bag line is contemplated. No, why are you like this? Lost \n",
       "<mark class=\"entity\" style=\"background: #e4e7d2; padding: 0.45em 0.6em; margin: 0 0.25em; line-height: 1; border-radius: 0.35em; box-decoration-break: clone; -webkit-box-decoration-break: clone\">\n",
       "    8\n",
       "    <span style=\"font-size: 0.8em; font-weight: bold; line-height: 1; border-radius: 0.35em; text-transform: uppercase; vertical-align: middle; margin-left: 0.5rem\">CARDINAL</span>\n",
       "</mark>\n",
       " orders</div>"
      ],
      "text/plain": [
       "<IPython.core.display.HTML object>"
      ]
     },
     "metadata": {},
     "output_type": "display_data"
    }
   ],
   "source": [
    "doc = nlp(reviews[\"comments\"][3])\n",
    "spacy.displacy.render(doc, style='ent',jupyter=True)"
   ]
  },
  {
   "cell_type": "code",
   "execution_count": 97,
   "metadata": {
    "_uuid": "3e004fb15995ec7723ca12ad54baf98029ecf90e"
   },
   "outputs": [],
   "source": [
    "punctuations = string.punctuation\n",
    "stopwords = list(STOP_WORDS)"
   ]
  },
  {
   "cell_type": "markdown",
   "metadata": {
    "_uuid": "25330472382f10be59dd09d3f4cb7a8ae5686081"
   },
   "source": [
    "### Lemmatization\n",
    "It is the  process of grouping together the inflected forms of a word so they can be analysed as a single item, identified by the word's lemma, or dictionary form. Words like \"ran\" and \"running\" are converted to \"run\" to avoid having words with similar meanings in our data."
   ]
  },
  {
   "cell_type": "code",
   "execution_count": 98,
   "metadata": {
    "_uuid": "b5c09cd0724ac75d603b3e1be1afb006249eadc4"
   },
   "outputs": [],
   "source": [
    "review = str(\" \".join([i.lemma_ for i in doc]))"
   ]
  },
  {
   "cell_type": "code",
   "execution_count": 99,
   "metadata": {
    "_uuid": "868105f99baf2742713656a089ad5b38f80d8329"
   },
   "outputs": [
    {
     "data": {
      "text/html": [
       "<div class=\"entities\" style=\"line-height: 2.5\">the size be not as large as -PRON- be down . the stitching be wrong . the bag line be contemplate . no , why be -PRON- like this ? lose \n",
       "<mark class=\"entity\" style=\"background: #e4e7d2; padding: 0.45em 0.6em; margin: 0 0.25em; line-height: 1; border-radius: 0.35em; box-decoration-break: clone; -webkit-box-decoration-break: clone\">\n",
       "    8\n",
       "    <span style=\"font-size: 0.8em; font-weight: bold; line-height: 1; border-radius: 0.35em; text-transform: uppercase; vertical-align: middle; margin-left: 0.5rem\">CARDINAL</span>\n",
       "</mark>\n",
       " order</div>"
      ],
      "text/plain": [
       "<IPython.core.display.HTML object>"
      ]
     },
     "metadata": {},
     "output_type": "display_data"
    }
   ],
   "source": [
    "doc = nlp(review)\n",
    "spacy.displacy.render(doc, style='ent',jupyter=True)"
   ]
  },
  {
   "cell_type": "markdown",
   "metadata": {
    "_uuid": "e949f2d634aa8742015b15c8cccf38f42a16621f"
   },
   "source": [
    "The sentence looks much different now that it is lemmatized."
   ]
  },
  {
   "cell_type": "markdown",
   "metadata": {
    "_uuid": "8cd922f8229f6aba3f08dfb25d8793a5e2b0ee57"
   },
   "source": [
    "### Parts of Speech tagging\n",
    "This is the process of marking up a word in a text (corpus) as corresponding to a particular part of speech,[1] based on both its definition and its context—i.e., its relationship with adjacent and related words in a phrase, sentence, or paragraph. A simplified form of this is commonly taught to school-age children, in the identification of words as nouns, verbs, adjectives, adverbs, etc."
   ]
  },
  {
   "cell_type": "code",
   "execution_count": 100,
   "metadata": {
    "_uuid": "a8ed2a71e2d90ad317e7b0d69d0e6544ff19f17c"
   },
   "outputs": [],
   "source": [
    "# POS tagging\n",
    "# for i in nlp(review):\n",
    "#     print(i,\"=>\",i.pos_)"
   ]
  },
  {
   "cell_type": "code",
   "execution_count": 102,
   "metadata": {
    "_uuid": "ee0b36f52b552dd72c5fda7808d41db5749491cf"
   },
   "outputs": [],
   "source": [
    "# Parser for reviews\n",
    "parser = English()\n",
    "def spacy_tokenizer(sentence):\n",
    "    mytokens = parser(sentence)\n",
    "    mytokens = [ word.lemma_.lower().strip() if word.lemma_ != \"-PRON-\" else word.lower_ for word in mytokens ]\n",
    "    mytokens = [ word for word in mytokens if word not in stopwords and word not in punctuations ]\n",
    "    mytokens = \" \".join([i for i in mytokens])\n",
    "    return mytokens"
   ]
  },
  {
   "cell_type": "code",
   "execution_count": 114,
   "metadata": {},
   "outputs": [],
   "source": [
    "reviews.reset_index(inplace=True)"
   ]
  },
  {
   "cell_type": "code",
   "execution_count": 116,
   "metadata": {
    "_uuid": "d1207bc8f6ca068de633cd8d68d1424877baf85a",
    "scrolled": true
   },
   "outputs": [
    {
     "name": "stderr",
     "output_type": "stream",
     "text": [
      "\n",
      "\n",
      "\n",
      "\n",
      "  0%|          | 0/8975 [00:00<?, ?it/s]\u001b[A\u001b[A\u001b[A\u001b[A\n",
      "\n",
      "\n",
      "\n",
      "  8%|▊         | 675/8975 [00:00<00:01, 6738.52it/s]\u001b[A\u001b[A\u001b[A\u001b[A\n",
      "\n",
      "\n",
      "\n",
      " 22%|██▏       | 1956/8975 [00:00<00:00, 7851.48it/s]\u001b[A\u001b[A\u001b[A\u001b[A\n",
      "\n",
      "\n",
      "\n",
      " 31%|███       | 2793/8975 [00:00<00:00, 7998.47it/s]\u001b[A\u001b[A\u001b[A\u001b[A\n",
      "\n",
      "\n",
      "\n",
      " 45%|████▍     | 4009/8975 [00:00<00:00, 8912.78it/s]\u001b[A\u001b[A\u001b[A\u001b[A\n",
      "\n",
      "\n",
      "\n",
      " 62%|██████▏   | 5595/8975 [00:00<00:00, 10261.15it/s]\u001b[A\u001b[A\u001b[A\u001b[A\n",
      "\n",
      "\n",
      "\n",
      " 80%|███████▉  | 7142/8975 [00:00<00:00, 11410.48it/s]\u001b[A\u001b[A\u001b[A\u001b[A\n",
      "\n",
      "\n",
      "\n",
      " 93%|█████████▎| 8330/8975 [00:00<00:00, 10092.89it/s]\u001b[A\u001b[A\u001b[A\u001b[A\n",
      "\n",
      "\n",
      "\n",
      "100%|██████████| 8975/8975 [00:00<00:00, 10732.24it/s]\u001b[A\u001b[A\u001b[A\u001b[A"
     ]
    }
   ],
   "source": [
    "tqdm.pandas()\n",
    "reviews[\"processed_description\"] = reviews[\"comments\"].progress_apply(spacy_tokenizer)"
   ]
  },
  {
   "cell_type": "markdown",
   "metadata": {
    "_uuid": "e64d8d97ef7443b594431dc4662450264460aae1"
   },
   "source": [
    "# What is topic-modelling?\n",
    "In machine learning and natural language processing, a topic model is a type of statistical model for discovering the abstract \"topics\" that occur in a collection of documents. Topic modeling is a frequently used text-mining tool for discovery of hidden semantic structures in a text body. Intuitively, given that a document is about a particular topic, one would expect particular words to appear in the document more or less frequently: \"dog\" and \"bone\" will appear more often in documents about dogs, \"cat\" and \"meow\" will appear in documents about cats, and \"the\" and \"is\" will appear equally in both. A document typically concerns multiple topics in different proportions; thus, in a document that is 10% about cats and 90% about dogs, there would probably be about 9 times more dog words than cat words. \n",
    "\n",
    "The \"topics\" produced by topic modeling techniques are clusters of similar words. A topic model captures this intuition in a mathematical framework, which allows examining a set of documents and discovering, based on the statistics of the words in each, what the topics might be and what each document's balance of topics is. It involves various techniques of dimensionality reduction(mostly non-linear) and unsupervised learning like LDA, SVD, autoencoders etc.\n",
    "\n",
    "Source: [Wikipedia](https://en.wikipedia.org/wiki/Topic_model)"
   ]
  },
  {
   "cell_type": "code",
   "execution_count": 151,
   "metadata": {
    "_uuid": "fd00ec3f6d99df6434671334c513511485de5a18"
   },
   "outputs": [],
   "source": [
    "# Creating a vectorizer\n",
    "vectorizer = CountVectorizer(min_df=0.005, max_df=0.85, stop_words='english', lowercase=True, token_pattern='[a-zA-Z\\-][a-zA-Z\\-]{2,}')\n",
    "data_vectorized = vectorizer.fit_transform(reviews[\"processed_description\"])"
   ]
  },
  {
   "cell_type": "code",
   "execution_count": 152,
   "metadata": {
    "_uuid": "fc59a5306eb806598d98f79daabe0217897a5bbe"
   },
   "outputs": [],
   "source": [
    "NUM_TOPICS = 10"
   ]
  },
  {
   "cell_type": "code",
   "execution_count": 153,
   "metadata": {
    "_uuid": "2f0140ca0b3eb106edeee8afac1720e25eae5675"
   },
   "outputs": [
    {
     "name": "stdout",
     "output_type": "stream",
     "text": [
      "iteration: 1 of max_iter: 10\n",
      "iteration: 2 of max_iter: 10\n",
      "iteration: 3 of max_iter: 10\n",
      "iteration: 4 of max_iter: 10\n",
      "iteration: 5 of max_iter: 10\n",
      "iteration: 6 of max_iter: 10\n",
      "iteration: 7 of max_iter: 10\n",
      "iteration: 8 of max_iter: 10\n",
      "iteration: 9 of max_iter: 10\n",
      "iteration: 10 of max_iter: 10\n"
     ]
    }
   ],
   "source": [
    "# Latent Dirichlet Allocation Model\n",
    "lda = LatentDirichletAllocation(n_components=NUM_TOPICS, max_iter=10, learning_method='online',verbose=True)\n",
    "data_lda = lda.fit_transform(data_vectorized)"
   ]
  },
  {
   "cell_type": "code",
   "execution_count": 154,
   "metadata": {
    "_uuid": "822195007e669911dffd6162bfc09539f4dd70ee"
   },
   "outputs": [],
   "source": [
    "# Non-Negative Matrix Factorization Model\n",
    "nmf = NMF(n_components=NUM_TOPICS)\n",
    "data_nmf = nmf.fit_transform(data_vectorized) "
   ]
  },
  {
   "cell_type": "code",
   "execution_count": 155,
   "metadata": {
    "_uuid": "3c7c3e0f3e59c54f76fbfac0bc1085a81438b25b"
   },
   "outputs": [],
   "source": [
    "# Latent Semantic Indexing Model using Truncated SVD\n",
    "lsi = TruncatedSVD(n_components=NUM_TOPICS)\n",
    "data_lsi = lsi.fit_transform(data_vectorized)"
   ]
  },
  {
   "cell_type": "code",
   "execution_count": 156,
   "metadata": {
    "_uuid": "4965ca621bdd6abcf8dd4eb1a41699603cfa2284",
    "scrolled": false
   },
   "outputs": [],
   "source": [
    "# Functions for printing keywords for each topic\n",
    "def selected_topics(model, vectorizer, top_n=10):\n",
    "    for idx, topic in enumerate(model.components_):\n",
    "        print(\"Topic %d:\" % (idx))\n",
    "        print([(vectorizer.get_feature_names()[i], topic[i])\n",
    "                        for i in topic.argsort()[:-top_n - 1:-1]]) "
   ]
  },
  {
   "cell_type": "code",
   "execution_count": 157,
   "metadata": {
    "_uuid": "9a9f1099afa5c6c98ca90103080aa397cd146d3c"
   },
   "outputs": [
    {
     "name": "stdout",
     "output_type": "stream",
     "text": [
      "LDA Model:\n",
      "Topic 0:\n",
      "[('beautiful', 1180.714894965156), ('like', 1137.6013759132952), ('lot', 332.1180931501352), ('reasonable', 241.9843404611558), ('slow', 234.50534593453494), ('disappoint', 98.5390950560214), ('bite', 96.45754707101207), ('lovely', 55.12577840860908), ('little', 44.59101148036041), ('overall', 39.31083007414578)]\n",
      "Topic 1:\n",
      "[('good', 6889.769017339979), ('quality', 3819.4104516381067), ('product', 3627.8323949944884), ('value', 3130.489782445354), ('delivery', 1129.4639676535746), ('fast', 803.2671344810761), ('reed', 593.4965900746149), ('speed', 221.00695284198616), ('pack', 102.96264494666391), ('light', 60.987538437732404)]\n",
      "Topic 2:\n",
      "[('good', 10928.331445343772), ('recommend', 2.157128356644135), ('price', 0.17443220176293373), ('value', 0.10254998256143424), ('beautiful', 0.10090715825657193), ('product', 0.10068421630142722), ('lovely', 0.10027408754084417), ('body', 0.10009146173059813), ('right', 0.10007566264198961), ('work', 0.10006745238662187)]\n",
      "Topic 3:\n",
      "[('price', 608.8160430824804), ('worth', 574.3431573725042), ('okay', 563.4924236717204), ('baht', 338.3366098008525), ('use', 211.57054931480795), ('overall', 192.80839375962736), ('worthwhile', 153.00365028806982), ('shirt', 122.773626534627), ('flash', 100.79157106743467), ('fit', 100.00309172729723)]\n",
      "Topic 4:\n",
      "[('price', 1811.285373871124), ('delivery', 1246.319705885019), ('fast', 1011.4003776475713), ('cheap', 706.1308427005054), ('suitable', 362.47048979704255), ('fair', 290.9763426498375), ('quality', 213.83020038435114), ('pretty', 185.04375779132215), ('accord', 169.27786327633726), ('bag', 154.10441144438352)]\n",
      "Topic 5:\n",
      "[('color', 794.0306619060204), ('buy', 552.3313445044345), ('order', 516.5976277231351), ('bag', 486.2688533302021), ('small', 411.4709032527309), ('little', 351.31108122225737), ('size', 338.5982007991107), ('black', 227.00985065397145), ('cute', 207.62606578702602), ('look', 171.52170220700125)]\n",
      "Topic 6:\n",
      "[('order', 690.4581860367164), ('send', 607.086327818004), ('shop', 428.49384140779637), ('money', 406.5685965337404), ('time', 373.8706545580302), ('received', 353.6273735620967), ('product', 304.368236808609), ('item', 253.35047694644103), ('long', 236.0656425819036), ('day', 221.39341619117732)]\n",
      "Topic 7:\n",
      "[('good', 3584.980068028574), ('service', 1738.1403541333166), ('product', 962.9413161102262), ('delivery', 871.3467346464407), ('quality', 828.3229184758181), ('value', 775.0553307532022), ('fast', 718.4401121454614), ('shop', 680.9965354226943), ('company', 642.0915178580251), ('ship', 591.1595388014728)]\n",
      "Topic 8:\n",
      "[('product', 1835.1552252269125), ('come', 239.4946277128702), ('consider', 227.1425780590498), ('subsidize', 217.90582162454308), ('exactly', 158.12294778631173), ('package', 124.73336763387583), ('complete', 116.60331115744512), ('expensive', 99.86179495634343), ('break', 93.63447978417811), ('new', 80.4495849839419)]\n",
      "Topic 9:\n",
      "[('fabric', 1249.2564232198038), ('comfortable', 511.33513463997963), ('soft', 497.4461965128905), ('wear', 367.85015921804415), ('receive', 315.32734910550454), ('order', 256.3852241320698), ('deliver', 255.51746107597327), ('sensitive', 235.75144454627656), ('picture', 235.3867943517029), ('color', 188.38527657523107)]\n"
     ]
    }
   ],
   "source": [
    "# Keywords for topics clustered by Latent Dirichlet Allocation\n",
    "print(\"LDA Model:\")\n",
    "selected_topics(lda, vectorizer)"
   ]
  },
  {
   "cell_type": "code",
   "execution_count": 158,
   "metadata": {
    "_uuid": "9da862a4cacb585d5ac0e75541c30d8c1add90d1"
   },
   "outputs": [
    {
     "name": "stdout",
     "output_type": "stream",
     "text": [
      "NMF Model:\n",
      "Topic 0:\n",
      "[('good', 28.989801986679403), ('service', 0.07242228058062336), ('fabric', 0.03719620544692658), ('company', 0.024273130939245446), ('transportation', 0.023387094988641347), ('cheap', 0.02214641974786085), ('ship', 0.02103383236865832), ('shop', 0.018504565739875627), ('worthwhile', 0.0175982528409033), ('speed', 0.01445737562465288)]\n",
      "Topic 1:\n",
      "[('product', 14.09783989450921), ('complete', 0.4920647830961364), ('receive', 0.48135275066797845), ('long', 0.4601329169364193), ('received', 0.4344444645602124), ('suitable', 0.3256245670168312), ('deliver', 0.27397691483783315), ('shop', 0.2640445182763761), ('cheap', 0.2566909977620899), ('cover', 0.22617607590692132)]\n",
      "Topic 2:\n",
      "[('like', 9.628034510996798), ('lot', 4.670522921876767), ('receive', 0.08657547684384492), ('money', 0.07721137131015365), ('fabric', 0.06887464437657165), ('come', 0.06452147005011198), ('picture', 0.06207086089004432), ('buy', 0.054203576743599886), ('quickly', 0.04893439257549312), ('cute', 0.04246438182458106)]\n",
      "Topic 3:\n",
      "[('value', 10.577504032709225), ('money', 2.327541508310057), ('service', 0.2823996162079126), ('company', 0.18801229955340662), ('worth', 0.1660758482510737), ('speed', 0.14703244443919197), ('ship', 0.13162053250982136), ('provide', 0.12938732318325966), ('time', 0.1137605430371478), ('shop', 0.10092420431320286)]\n",
      "Topic 4:\n",
      "[('delivery', 8.891776489160812), ('fast', 7.867651653617893), ('service', 2.4712934543064207), ('shop', 1.1817929050396154), ('company', 0.8772914166385947), ('ship', 0.79322130393214), ('provide', 0.5749309444878905), ('speed', 0.4500112253562293), ('transportation', 0.4368937471760072), ('fabric', 0.3254616428444073)]\n",
      "Topic 5:\n",
      "[('price', 9.46067513668225), ('reasonable', 1.5519634757452814), ('cheap', 1.334246776689995), ('suitable', 0.8276969481215781), ('baht', 0.5263290252892702), ('worth', 0.4825932478106111), ('accord', 0.36101485528494615), ('bag', 0.35303461334835146), ('buy', 0.352036363421754), ('subsidize', 0.22948298266209705)]\n",
      "Topic 6:\n",
      "[('quality', 10.831607168257609), ('service', 0.707087297999621), ('company', 0.28001033098475153), ('speed', 0.22828400089935919), ('cheap', 0.20856711014562881), ('ship', 0.19351127596434026), ('provide', 0.15148635951525344), ('product', 0.1439594105783466), ('fair', 0.137155696287441), ('providing', 0.10909501849113533)]\n",
      "Topic 7:\n",
      "[('reed', 8.764633362539717), ('worth', 0.13632524664663784), ('quickly', 0.07290721007277257), ('fast', 0.059256403978396446), ('use', 0.04405305915822124), ('overall', 0.023735799167182936), ('deliver', 0.02277529308563559), ('large', 0.022370299853710845), ('sent', 0.021866244221265478), ('round', 0.020137764582588383)]\n",
      "Topic 8:\n",
      "[('beautiful', 8.737624720264593), ('bag', 0.596241000773591), ('color', 0.4554401144761667), ('pretty', 0.3307280156124849), ('use', 0.2926892870496655), ('accord', 0.29063433690057455), ('worth', 0.26758500744387737), ('sensitive', 0.2478701590141052), ('cute', 0.2477310897600752), ('time', 0.1673754736610151)]\n",
      "Topic 9:\n",
      "[('order', 4.973338854744214), ('okay', 3.6111958684403827), ('color', 3.283240605346787), ('fabric', 2.6169237802518426), ('send', 1.1052491665848798), ('soft', 1.0399079945580523), ('comfortable', 0.9833928767612315), ('size', 0.8249977663544502), ('shop', 0.7817605443576414), ('wear', 0.7727324050020511)]\n"
     ]
    }
   ],
   "source": [
    "# Keywords for topics clustered by Latent Semantic Indexing\n",
    "print(\"NMF Model:\")\n",
    "selected_topics(nmf, vectorizer)"
   ]
  },
  {
   "cell_type": "code",
   "execution_count": 159,
   "metadata": {
    "_uuid": "e789cfaaf1bca8737ee73f6a6c8a1b388126f13b"
   },
   "outputs": [
    {
     "name": "stdout",
     "output_type": "stream",
     "text": [
      "LSI Model:\n",
      "Topic 0:\n",
      "[('good', 0.9983640587654579), ('product', 0.033049161233831205), ('quality', 0.026254225156590993), ('value', 0.026031136534682586), ('delivery', 0.015196544865179417), ('price', 0.012810887953440025), ('fast', 0.011728000897526807), ('service', 0.009340023517035128), ('beautiful', 0.005408832121786787), ('shop', 0.0042181578548651085)]\n",
      "Topic 1:\n",
      "[('product', 0.7080369146193238), ('quality', 0.46789682631490154), ('value', 0.28003535008484237), ('delivery', 0.2646473643952752), ('fast', 0.21397180678801567), ('price', 0.1671053635544995), ('service', 0.11360521837248615), ('beautiful', 0.0703058921761972), ('like', 0.06634357433782001), ('order', 0.06540473864899793)]\n",
      "Topic 2:\n",
      "[('like', 0.8829774940669581), ('lot', 0.42552730070934763), ('beautiful', 0.06316030941408526), ('price', 0.048975247798520534), ('value', 0.04769546705814684), ('fast', 0.038011378279758146), ('delivery', 0.03719246732996216), ('order', 0.032711578739051554), ('fabric', 0.031048026695667617), ('color', 0.030741085386327485)]\n",
      "Topic 3:\n",
      "[('value', 0.7549030957902589), ('delivery', 0.3005004742034311), ('fast', 0.27690397723368376), ('money', 0.1794228508076084), ('service', 0.09386532614962714), ('company', 0.04076063075932615), ('shop', 0.03913199419600359), ('ship', 0.03315575882718501), ('beautiful', 0.03152560858315476), ('provide', 0.028750516877070486)]\n",
      "Topic 4:\n",
      "[('price', 0.5485613654323802), ('delivery', 0.42277590071916626), ('fast', 0.3902363830685033), ('beautiful', 0.13469209389142642), ('reasonable', 0.09917670833659022), ('cheap', 0.08661984835354479), ('order', 0.07101226808528108), ('fabric', 0.07072223217432974), ('service', 0.06598563278806746), ('color', 0.05950244838120557)]\n",
      "Topic 5:\n",
      "[('price', 0.7311096042109309), ('value', 0.2735498199789389), ('reasonable', 0.11898334191311868), ('cheap', 0.09798536202149849), ('money', 0.09153973440342478), ('product', 0.07446684117058396), ('suitable', 0.07140997877116086), ('worth', 0.04552237065292252), ('reed', 0.04152548013023531), ('baht', 0.041142575209344966)]\n",
      "Topic 6:\n",
      "[('quality', 0.8179904919875357), ('price', 0.1616655124542786), ('lot', 0.0452151673665476), ('reasonable', 0.04325036914895486), ('like', 0.03637475231466213), ('cheap', 0.02385380650948606), ('service', 0.022078233952121926), ('company', 0.013804970396910064), ('speed', 0.0120483890140186), ('baht', 0.011515069976824645)]\n",
      "Topic 7:\n",
      "[('reed', 0.9950569148723278), ('beautiful', 0.0599132707442859), ('quality', 0.035636643222727846), ('worth', 0.01502019209106262), ('color', 0.012264839323229864), ('quickly', 0.007781840539169708), ('order', 0.007237038614658785), ('use', 0.006780622400385602), ('fabric', 0.005263538937448983), ('soft', 0.0043483865739232675)]\n",
      "Topic 8:\n",
      "[('beautiful', 0.9094373041742386), ('color', 0.17465306103652953), ('order', 0.14346042603835518), ('quality', 0.10819280388513788), ('fabric', 0.09537719809043359), ('bag', 0.06866387233777174), ('okay', 0.0676814249026621), ('soft', 0.047524153983640925), ('money', 0.04489263193572654), ('send', 0.043732083855594385)]\n",
      "Topic 9:\n",
      "[('order', 0.5371026107977825), ('okay', 0.4564415106828859), ('color', 0.340639872308236), ('fabric', 0.2698531511990115), ('service', 0.1982821557660103), ('shop', 0.1684597134470381), ('send', 0.11773246794569486), ('soft', 0.10582564754047923), ('comfortable', 0.10244236460176245), ('size', 0.0872574567041455)]\n"
     ]
    }
   ],
   "source": [
    "# Keywords for topics clustered by Non-Negative Matrix Factorization\n",
    "print(\"LSI Model:\")\n",
    "selected_topics(lsi, vectorizer)"
   ]
  },
  {
   "cell_type": "code",
   "execution_count": 160,
   "metadata": {
    "_uuid": "0d45ca676b4f8f25de9b237c1e41ab4e652cd7b3"
   },
   "outputs": [
    {
     "name": "stdout",
     "output_type": "stream",
     "text": [
      "[0.27500004 0.025      0.025      0.27500001 0.025      0.025\n",
      " 0.27499995 0.025      0.025      0.025     ]\n"
     ]
    }
   ],
   "source": [
    "# Transforming an individual sentence\n",
    "text = spacy_tokenizer(\"I like it. Worth money\")\n",
    "x = lda.transform(vectorizer.transform([text]))[0]\n",
    "print(x)"
   ]
  },
  {
   "cell_type": "markdown",
   "metadata": {
    "_uuid": "1a9eeef90515577592dfebab1635c1f77a7a6868"
   },
   "source": [
    "The index in the above list with the largest value represents the most dominant topic for the given review.\n",
    "\n",
    "\n",
    "# Visualizing LDA results with pyLDAvis"
   ]
  },
  {
   "cell_type": "code",
   "execution_count": 161,
   "metadata": {
    "_uuid": "520045555b8cd5ebf89634e580a23f8a221e34c1"
   },
   "outputs": [
    {
     "data": {
      "text/html": [
       "\n",
       "<link rel=\"stylesheet\" type=\"text/css\" href=\"https://cdn.rawgit.com/bmabey/pyLDAvis/files/ldavis.v1.0.0.css\">\n",
       "\n",
       "\n",
       "<div id=\"ldavis_el17111398940001650564510825771\"></div>\n",
       "<script type=\"text/javascript\">\n",
       "\n",
       "var ldavis_el17111398940001650564510825771_data = {\"mdsDat\": {\"x\": [-38.21087646484375, -58.1500358581543, -169.11436462402344, 150.8828125, 58.019432067871094, 353.1589660644531, -248.36465454101562, 140.7119598388672, -287.39202880859375, 301.30035400390625], \"y\": [112.02351379394531, -117.71293640136719, 305.54974365234375, -19.81976318359375, -330.94976806640625, 105.10784912109375, -255.73159790039062, 283.29278564453125, 31.724592208862305, -205.47584533691406], \"topics\": [1, 2, 3, 4, 5, 6, 7, 8, 9, 10], \"cluster\": [1, 1, 1, 1, 1, 1, 1, 1, 1, 1], \"Freq\": [22.493166873452004, 15.92641322045935, 13.65506353931131, 8.374830237752121, 8.27509121380581, 8.255950597971196, 7.702697132880205, 5.632077384241323, 4.876402418125528, 4.808307382001149]}, \"tinfo\": {\"Category\": [\"Default\", \"Default\", \"Default\", \"Default\", \"Default\", \"Default\", \"Default\", \"Default\", \"Default\", \"Default\", \"Default\", \"Default\", \"Default\", \"Default\", \"Default\", \"Default\", \"Default\", \"Default\", \"Default\", \"Default\", \"Default\", \"Default\", \"Default\", \"Default\", \"Default\", \"Default\", \"Default\", \"Default\", \"Default\", \"Default\", \"Topic1\", \"Topic1\", \"Topic1\", \"Topic1\", \"Topic1\", \"Topic1\", \"Topic1\", \"Topic1\", \"Topic1\", \"Topic1\", \"Topic1\", \"Topic1\", \"Topic1\", \"Topic1\", \"Topic1\", \"Topic1\", \"Topic1\", \"Topic1\", \"Topic1\", \"Topic1\", \"Topic1\", \"Topic1\", \"Topic1\", \"Topic1\", \"Topic1\", \"Topic1\", \"Topic1\", \"Topic1\", \"Topic1\", \"Topic1\", \"Topic1\", \"Topic1\", \"Topic1\", \"Topic1\", \"Topic1\", \"Topic1\", \"Topic1\", \"Topic1\", \"Topic1\", \"Topic1\", \"Topic1\", \"Topic1\", \"Topic1\", \"Topic1\", \"Topic1\", \"Topic1\", \"Topic1\", \"Topic1\", \"Topic2\", \"Topic2\", \"Topic2\", \"Topic2\", \"Topic2\", \"Topic2\", \"Topic2\", \"Topic2\", \"Topic2\", \"Topic2\", \"Topic2\", \"Topic2\", \"Topic2\", \"Topic2\", \"Topic2\", \"Topic2\", \"Topic2\", \"Topic2\", \"Topic2\", \"Topic2\", \"Topic2\", \"Topic2\", \"Topic2\", \"Topic2\", \"Topic2\", \"Topic2\", \"Topic2\", \"Topic2\", \"Topic2\", \"Topic2\", \"Topic2\", \"Topic2\", \"Topic2\", \"Topic2\", \"Topic2\", \"Topic2\", \"Topic2\", \"Topic3\", \"Topic3\", \"Topic3\", \"Topic3\", \"Topic3\", \"Topic3\", \"Topic3\", \"Topic3\", \"Topic3\", \"Topic3\", \"Topic3\", \"Topic3\", \"Topic3\", \"Topic3\", \"Topic3\", \"Topic3\", \"Topic3\", \"Topic3\", \"Topic3\", \"Topic3\", \"Topic3\", \"Topic3\", \"Topic3\", \"Topic3\", \"Topic3\", \"Topic3\", \"Topic3\", \"Topic3\", \"Topic3\", \"Topic3\", \"Topic3\", \"Topic3\", \"Topic3\", \"Topic3\", \"Topic3\", \"Topic3\", \"Topic3\", \"Topic3\", \"Topic3\", \"Topic3\", \"Topic3\", \"Topic3\", \"Topic3\", \"Topic3\", \"Topic3\", \"Topic3\", \"Topic3\", \"Topic3\", \"Topic3\", \"Topic3\", \"Topic3\", \"Topic3\", \"Topic3\", \"Topic3\", \"Topic3\", \"Topic4\", \"Topic4\", \"Topic4\", \"Topic4\", \"Topic4\", \"Topic4\", \"Topic4\", \"Topic4\", \"Topic4\", \"Topic4\", \"Topic4\", \"Topic4\", \"Topic4\", \"Topic4\", \"Topic4\", \"Topic4\", \"Topic4\", \"Topic4\", \"Topic4\", \"Topic4\", \"Topic4\", \"Topic4\", \"Topic4\", \"Topic4\", \"Topic4\", \"Topic4\", \"Topic4\", \"Topic4\", \"Topic4\", \"Topic4\", \"Topic4\", \"Topic4\", \"Topic4\", \"Topic4\", \"Topic4\", \"Topic4\", \"Topic4\", \"Topic5\", \"Topic5\", \"Topic5\", \"Topic5\", \"Topic5\", \"Topic5\", \"Topic5\", \"Topic5\", \"Topic5\", \"Topic5\", \"Topic5\", \"Topic5\", \"Topic5\", \"Topic5\", \"Topic5\", \"Topic5\", \"Topic5\", \"Topic5\", \"Topic5\", \"Topic5\", \"Topic5\", \"Topic5\", \"Topic5\", \"Topic5\", \"Topic5\", \"Topic5\", \"Topic5\", \"Topic5\", \"Topic5\", \"Topic5\", \"Topic5\", \"Topic5\", \"Topic5\", \"Topic5\", \"Topic5\", \"Topic6\", \"Topic6\", \"Topic6\", \"Topic6\", \"Topic6\", \"Topic6\", \"Topic6\", \"Topic6\", \"Topic6\", \"Topic6\", \"Topic6\", \"Topic6\", \"Topic6\", \"Topic6\", \"Topic6\", \"Topic6\", \"Topic6\", \"Topic6\", \"Topic6\", \"Topic6\", \"Topic6\", \"Topic6\", \"Topic6\", \"Topic6\", \"Topic6\", \"Topic6\", \"Topic6\", \"Topic6\", \"Topic6\", \"Topic6\", \"Topic6\", \"Topic6\", \"Topic6\", \"Topic6\", \"Topic6\", \"Topic6\", \"Topic7\", \"Topic7\", \"Topic7\", \"Topic7\", \"Topic7\", \"Topic7\", \"Topic7\", \"Topic7\", \"Topic7\", \"Topic7\", \"Topic7\", \"Topic7\", \"Topic7\", \"Topic7\", \"Topic7\", \"Topic7\", \"Topic7\", \"Topic7\", \"Topic7\", \"Topic7\", \"Topic7\", \"Topic7\", \"Topic7\", \"Topic7\", \"Topic7\", \"Topic7\", \"Topic7\", \"Topic7\", \"Topic7\", \"Topic7\", \"Topic7\", \"Topic7\", \"Topic8\", \"Topic8\", \"Topic8\", \"Topic8\", \"Topic8\", \"Topic8\", \"Topic8\", \"Topic8\", \"Topic8\", \"Topic8\", \"Topic8\", \"Topic8\", \"Topic8\", \"Topic8\", \"Topic8\", \"Topic8\", \"Topic8\", \"Topic8\", \"Topic8\", \"Topic8\", \"Topic8\", \"Topic8\", \"Topic8\", \"Topic8\", \"Topic8\", \"Topic8\", \"Topic8\", \"Topic8\", \"Topic8\", \"Topic8\", \"Topic8\", \"Topic8\", \"Topic8\", \"Topic8\", \"Topic9\", \"Topic9\", \"Topic9\", \"Topic9\", \"Topic9\", \"Topic9\", \"Topic9\", \"Topic9\", \"Topic9\", \"Topic9\", \"Topic9\", \"Topic9\", \"Topic9\", \"Topic9\", \"Topic9\", \"Topic9\", \"Topic9\", \"Topic9\", \"Topic9\", \"Topic9\", \"Topic9\", \"Topic9\", \"Topic9\", \"Topic9\", \"Topic9\", \"Topic9\", \"Topic9\", \"Topic9\", \"Topic9\", \"Topic9\", \"Topic9\", \"Topic9\", \"Topic9\", \"Topic9\", \"Topic9\", \"Topic9\", \"Topic9\", \"Topic9\", \"Topic9\", \"Topic9\", \"Topic9\", \"Topic9\", \"Topic10\", \"Topic10\", \"Topic10\", \"Topic10\", \"Topic10\", \"Topic10\", \"Topic10\", \"Topic10\", \"Topic10\", \"Topic10\", \"Topic10\", \"Topic10\", \"Topic10\", \"Topic10\", \"Topic10\", \"Topic10\", \"Topic10\", \"Topic10\", \"Topic10\", \"Topic10\", \"Topic10\", \"Topic10\", \"Topic10\", \"Topic10\", \"Topic10\", \"Topic10\", \"Topic10\", \"Topic10\", \"Topic10\", \"Topic10\", \"Topic10\", \"Topic10\", \"Topic10\", \"Topic10\", \"Topic10\", \"Topic10\", \"Topic10\", \"Topic10\", \"Topic10\", \"Topic10\", \"Topic10\", \"Topic10\", \"Topic10\", \"Topic10\", \"Topic10\"], \"Freq\": [20644.0, 6517.0, 2435.0, 1296.0, 1249.0, 4410.0, 3543.0, 3171.0, 1316.0, 1698.0, 2391.0, 1483.0, 1149.0, 606.0, 595.0, 681.0, 1106.0, 642.0, 538.0, 524.0, 540.0, 624.0, 628.0, 365.0, 450.0, 578.0, 417.0, 402.0, 449.0, 449.0, 527.4118133590129, 54.196685840609575, 2781.915381609511, 3394.1259746876854, 3223.8797897154964, 196.39822656552673, 91.49793981585152, 1003.7001884525507, 713.8247853371835, 6122.605642271988, 0.08900387526250933, 0.08887328700064975, 0.08886713216399364, 0.08886889859584565, 0.08887002702505148, 0.08886883271836306, 0.08886853860496607, 0.0888745856584471, 0.08887917841142022, 0.08887357634356882, 0.08886822456068265, 0.08887406185759325, 0.08887035148986773, 0.08886867622260484, 0.08886713981815356, 0.088870589127969, 0.08886905038421036, 0.08887552534752083, 0.08887199795168427, 0.08889672438213764, 0.13391118782168565, 0.08933072992322799, 0.08901209548740527, 0.08894482073853953, 0.08892871355382456, 0.08892441099554124, 0.08891926307448449, 0.08891394354698305, 0.0889047461324018, 0.08889953582624396, 0.08889326015264322, 0.0888903986444857, 0.088887488339419, 0.08888738212017369, 0.08888378657756342, 0.08888254968780304, 0.0888825459040911, 0.08888198706738765, 1697.872269047009, 627.2159666329368, 577.463945950509, 361.7541389655961, 264.8180742945492, 238.1697153956467, 224.4661769685269, 70.80168108456643, 210.99296952556523, 37.09789918967857, 665.2196585055507, 178.42366621815987, 701.795767230223, 851.1599503243458, 16.773244001553373, 757.099361932187, 809.1328814452619, 32.37347796871199, 3501.925623047304, 940.6325291598293, 36.99819327937037, 12.900189713036946, 3.2685686184027714, 0.09768604295910975, 0.09769129913568733, 0.09948346840147329, 0.09768569538188354, 0.09768615235375809, 0.09770468723090796, 0.09768989683306081, 0.11121760574363827, 0.09926782300260235, 0.1011475438503976, 0.0978287446940708, 0.09881283944463103, 0.09860013127477896, 0.09838066434591332, 10983.498424870253, 2.168017691075667, 0.10051673591207709, 0.10051001537043885, 0.1005068333111849, 0.1005081540941966, 0.10050868213528627, 0.10051034882074292, 0.10059673041206918, 0.10051020117436647, 0.10052230274937497, 0.10050688681908607, 0.1005110403990874, 0.10050582254606738, 0.10050915956252508, 0.10050906986415971, 0.10050499490878347, 0.10050728875643415, 0.10053314706413605, 0.10050626181698119, 0.10050968727354527, 0.10050799963022257, 0.10050871909529185, 0.10050869921235073, 0.10050661393249252, 0.10050627506659557, 0.10050674630812934, 0.10050621717057162, 0.10050710202187307, 0.1005118056542197, 0.175312747686302, 0.10058085156855918, 0.10078027813014583, 0.10306766202757253, 0.10141654463101132, 0.10119247724932402, 0.10057259986724959, 0.10056222043020423, 0.10055208922785863, 0.1005439744050031, 0.1005352760709365, 0.10053243094389785, 0.1005313692401579, 0.10052961241278591, 0.1005292120494628, 0.1005289930660911, 0.10052792520862076, 0.10052332489034187, 0.10052104373034228, 0.10052084095364404, 0.10052048919321574, 0.1005195354396057, 0.10051948566043638, 0.10051901649802068, 0.10051898769753254, 539.499032788846, 401.91120155379645, 221.73573178477233, 152.3703302295559, 134.24650388203227, 133.32090657980015, 112.87351478491681, 85.84010454751358, 83.93457584516, 79.6839476829906, 74.35776671141042, 69.5654376274482, 68.2427625045625, 64.55778237966055, 63.39379810214883, 54.677359907628805, 49.31324543854311, 48.503578943030995, 42.80588663073267, 41.4550368359423, 330.73155027814477, 51.76121471404536, 167.536739248429, 343.1490724059204, 58.92211495143272, 157.3329886919325, 114.62664188548577, 104.09056572626446, 474.9713711836591, 91.0095311611931, 775.5829510044144, 202.80229030701793, 504.5955172935258, 90.6010225001793, 68.51751033289086, 81.76066047837276, 92.91284590843482, 416.885079143798, 362.60049809974396, 242.05569473372097, 227.0111676544977, 200.40157655558656, 180.9729448016013, 130.68981818458778, 124.54566924483805, 102.83317719348162, 100.41488427879601, 90.40118519548882, 89.05061810946488, 83.66520171506873, 74.73146713323705, 72.3244310341525, 65.7650908372463, 61.655085523844676, 622.4908514264042, 383.35744261554976, 259.7791234576353, 162.82464302570855, 86.62333217418767, 52.20909288142323, 111.7455883167144, 155.87650950330462, 108.50969538054922, 26.43427444227254, 707.9782304522191, 25.737154452809396, 439.36666656224355, 82.65615768654656, 89.44571079662734, 174.67097058104048, 312.09143444084265, 112.1103774540586, 680.3957235787068, 280.3716354385213, 178.29979072242483, 89.07545511902777, 76.56609473970836, 74.21976580703998, 68.75240789226505, 54.7968385860576, 349.26016011169844, 1745.2726152697905, 163.1084882644207, 974.539632266376, 1200.897265516698, 22.70969002556624, 106.6937934193322, 148.48803676437547, 104.76681319448674, 22.94458308700107, 49.10555065983013, 206.03710405437917, 3.11027317183423, 0.9500784337854514, 36.045249197754494, 0.09637379363696702, 0.09636088619600064, 0.0963664929512326, 0.09636769100358514, 0.09637452192892934, 0.7474783944144021, 0.096372373240281, 0.19562264004727428, 1.096398420003511, 0.10831169687140366, 0.09870293748854937, 0.09728196127721435, 0.09726089545966976, 1314.597352330547, 538.0799343170789, 523.4645511585953, 331.8201856293926, 268.8820097790258, 248.08215435055448, 247.69843154440883, 155.95556991884052, 154.0378744954085, 143.65553724618013, 103.08227683039534, 86.7309743526651, 78.62812162833357, 147.59423405358922, 69.45952556325753, 65.41263983093017, 65.28753748015475, 58.461086936968265, 52.739582098448125, 45.674330043162335, 89.02940128086784, 387.0901412826493, 75.99940975664771, 24.162849258474576, 126.73344348008575, 39.925769151455256, 20.803511770329877, 59.738368790114684, 88.60036454306317, 40.0474025106873, 269.79516018977546, 198.23855311111177, 605.8357560806498, 594.3900508933231, 161.39320363705923, 129.50559592046764, 106.31821217048446, 105.48649863641631, 101.37549996494035, 101.18650281094234, 98.04650452812234, 73.91514235640713, 73.33510634815136, 64.91805443497331, 59.22512970091341, 58.38741800214198, 46.626324469549274, 45.94373259683561, 45.53273896208482, 49.82312219088341, 203.38053568260656, 356.8884092677035, 223.1714647649276, 42.43143013837392, 38.10696357488115, 62.25756221918264, 28.42151563647383, 22.784057668277946, 50.06942611397631, 15.216155867391132, 31.838348556729954, 642.1988719466578, 86.39054702041078, 64.86087750570877, 32.343774154745724, 32.132089352283316, 261.3356164136321, 247.85710735027632, 237.77799426316184, 136.10857090718525, 108.96880648352555, 102.17358412442155, 172.54315231830012, 87.78627764128971, 85.64296658690937, 83.99078562262568, 78.99913259952079, 68.77492993002897, 55.9788171796224, 54.295275775831406, 127.23708455679859, 2002.5143218425533, 0.10912529915666555, 0.10912986948141065, 0.10995636704947452, 0.10913525907284433, 0.10912730373696017, 0.10914676562151289, 0.1091264800134672, 0.10913674815656392, 0.10915067560827123, 0.10912759400781963, 0.10912757042618929, 0.10915843981171147, 0.10913984107387543, 0.10913724204227622, 0.5131504665961631, 0.1621128427080761, 0.11899757444871019, 0.15672105044048412, 0.13257078179653195, 0.10971055014364017, 0.10920625606982423, 0.1091703230630799, 0.10916297519129016, 0.10916272043376572, 0.1091616903430358, 0.10915778914698838, 1248.1424212425309, 1295.4452930542618, 265.4980268140814, 257.29229628793644, 364.3901015767201, 108.11416660913433, 60.482365785257876, 105.83035402156933, 34.212365852772884, 43.13067447761038, 48.923932594638906, 2.884184344469188, 19.389681203533804, 0.10972755472570114, 0.10973143757038155, 0.10972659105538858, 0.10972533745404035, 0.10972434787360812, 0.10972470023395536, 0.10973180713144888, 0.109723907418601, 0.10972555135410592, 0.10973058383870321, 0.10973311205217734, 0.10972677927666429, 0.109874464949912, 0.10971902765007324, 0.10973628270836752, 0.1097396086229361, 0.1098510723028004, 3.559345095569764, 0.11701445395679666, 0.14711721786985793, 0.11473456519929293, 0.11121829009160113, 0.110011623263754, 0.1098862255397876, 0.10976330063960442, 0.10976134644493551, 0.10976129938526383, 0.10974630891565881, 0.10974489525875951, 0.10974454555004416, 0.10974409428170115, 0.1097437171599812], \"Term\": [\"good\", \"product\", \"price\", \"beautiful\", \"like\", \"quality\", \"value\", \"delivery\", \"fabric\", \"service\", \"fast\", \"order\", \"color\", \"worth\", \"okay\", \"cheap\", \"shop\", \"send\", \"comfortable\", \"soft\", \"buy\", \"bag\", \"company\", \"lot\", \"baht\", \"ship\", \"money\", \"small\", \"wear\", \"time\", \"reed\", \"light\", \"value\", \"quality\", \"product\", \"speed\", \"pack\", \"delivery\", \"fast\", \"good\", \"add\", \"fine\", \"ninja\", \"considered\", \"range\", \"respond\", \"body\", \"image\", \"compare\", \"pro\", \"cloth\", \"meet\", \"expect\", \"terrible\", \"feel\", \"compact\", \"problem\", \"envelope\", \"staff\", \"purchase\", \"receive\", \"price\", \"bad\", \"money\", \"shop\", \"products\", \"look\", \"send\", \"use\", \"cheap\", \"damage\", \"service\", \"beautiful\", \"affordable\", \"baht\", \"buy\", \"successfully\", \"customer\", \"service\", \"company\", \"ship\", \"provide\", \"transportation\", \"providing\", \"transport\", \"course\", \"store\", \"staff\", \"shop\", \"speed\", \"fast\", \"delivery\", \"lovely\", \"value\", \"quality\", \"free\", \"good\", \"product\", \"pack\", \"chat\", \"image\", \"add\", \"fine\", \"ninja\", \"considered\", \"range\", \"respond\", \"body\", \"price\", \"stitch\", \"order\", \"meet\", \"color\", \"buy\", \"okay\", \"good\", \"recommend\", \"add\", \"fine\", \"ninja\", \"considered\", \"range\", \"respond\", \"body\", \"image\", \"compare\", \"pro\", \"cloth\", \"meet\", \"expect\", \"light\", \"terrible\", \"feel\", \"compact\", \"problem\", \"envelope\", \"staff\", \"purchase\", \"sent\", \"white\", \"return\", \"waist\", \"blue\", \"trader\", \"stuff\", \"price\", \"right\", \"lovely\", \"value\", \"beautiful\", \"product\", \"work\", \"thing\", \"cheap\", \"like\", \"worthwhile\", \"pack\", \"sensitive\", \"thank\", \"wear\", \"accord\", \"quality\", \"okay\", \"sew\", \"round\", \"bag\", \"cute\", \"excellent\", \"condition\", \"subsidize\", \"buy\", \"small\", \"black\", \"think\", \"pink\", \"discount\", \"line\", \"leave\", \"red\", \"brown\", \"piece\", \"short\", \"match\", \"stuff\", \"blue\", \"feel\", \"compare\", \"body\", \"fine\", \"add\", \"size\", \"envelope\", \"look\", \"little\", \"shape\", \"free\", \"doe\", \"thing\", \"bag\", \"work\", \"color\", \"cute\", \"order\", \"want\", \"big\", \"ordered\", \"baht\", \"money\", \"received\", \"long\", \"day\", \"wrong\", \"wait\", \"answer\", \"seller\", \"great\", \"customer\", \"slowly\", \"deduct\", \"sale\", \"stitch\", \"ask\", \"successfully\", \"return\", \"send\", \"time\", \"item\", \"star\", \"thank\", \"sell\", \"bad\", \"ordered\", \"quickly\", \"ninja\", \"order\", \"trader\", \"shop\", \"complete\", \"store\", \"color\", \"product\", \"delivery\", \"cheap\", \"fair\", \"pretty\", \"tell\", \"excellent\", \"cell\", \"people\", \"compact\", \"suitable\", \"price\", \"accord\", \"fast\", \"delivery\", \"sell\", \"cute\", \"bag\", \"speed\", \"thing\", \"use\", \"quality\", \"shape\", \"nice\", \"product\", \"add\", \"fine\", \"ninja\", \"considered\", \"range\", \"lot\", \"respond\", \"look\", \"good\", \"beautiful\", \"value\", \"order\", \"shop\", \"fabric\", \"comfortable\", \"soft\", \"receive\", \"deliver\", \"sensitive\", \"picture\", \"poor\", \"round\", \"products\", \"cover\", \"smooth\", \"affordable\", \"nice\", \"know\", \"straight\", \"right\", \"sent\", \"meet\", \"image\", \"chat\", \"wear\", \"recommend\", \"cloth\", \"pack\", \"pant\", \"staff\", \"quickly\", \"accord\", \"stretch\", \"order\", \"color\", \"worth\", \"okay\", \"worthwhile\", \"shirt\", \"flash\", \"fit\", \"site\", \"promotion\", \"try\", \"texture\", \"edge\", \"large\", \"white\", \"purchase\", \"respond\", \"range\", \"considered\", \"pro\", \"overall\", \"baht\", \"use\", \"waist\", \"trader\", \"sew\", \"cloth\", \"expect\", \"stretch\", \"ninja\", \"big\", \"price\", \"cute\", \"time\", \"star\", \"size\", \"come\", \"consider\", \"subsidize\", \"package\", \"expensive\", \"break\", \"exactly\", \"new\", \"cost\", \"late\", \"condition\", \"damage\", \"problem\", \"terrible\", \"complete\", \"product\", \"add\", \"fine\", \"ninja\", \"considered\", \"range\", \"respond\", \"body\", \"image\", \"compare\", \"pro\", \"cloth\", \"meet\", \"expect\", \"light\", \"price\", \"bag\", \"pant\", \"good\", \"beautiful\", \"waist\", \"pack\", \"received\", \"receive\", \"course\", \"chat\", \"accord\", \"like\", \"beautiful\", \"reasonable\", \"slow\", \"lot\", \"disappoint\", \"lovely\", \"bite\", \"want\", \"overall\", \"little\", \"ninja\", \"send\", \"add\", \"fine\", \"considered\", \"range\", \"respond\", \"body\", \"image\", \"compare\", \"pro\", \"cloth\", \"meet\", \"expect\", \"light\", \"terrible\", \"feel\", \"compact\", \"problem\", \"delivery\", \"slowly\", \"product\", \"shop\", \"good\", \"ask\", \"cute\", \"color\", \"work\", \"course\", \"staff\", \"thing\", \"picture\", \"pack\", \"thank\"], \"Total\": [20644.0, 6517.0, 2435.0, 1296.0, 1249.0, 4410.0, 3543.0, 3171.0, 1316.0, 1698.0, 2391.0, 1483.0, 1149.0, 606.0, 595.0, 681.0, 1106.0, 642.0, 538.0, 524.0, 540.0, 624.0, 628.0, 365.0, 450.0, 578.0, 417.0, 402.0, 449.0, 449.0, 528.3361668868557, 55.12173300344011, 3543.9305928995077, 4410.036031641969, 6517.272407502947, 480.31903153008597, 282.80830184801454, 3171.9455527033656, 2391.4836441665607, 20644.83433637489, 42.37086791273026, 43.72150826485247, 45.2327407265804, 46.44559093285129, 46.851515123209055, 47.53419815581936, 49.41924861411242, 49.75330642377705, 50.22892355766347, 52.20715272332066, 53.38689909313415, 53.647838803146804, 54.198660436326406, 55.19939689301967, 55.59296989925869, 55.71379945517437, 56.883170874448126, 58.028513535079014, 58.711842008073916, 59.29525189906831, 332.7733555622861, 2435.7759273421934, 162.5296874889134, 417.7960265237671, 1106.3198103002662, 144.56368005165055, 189.2498438998642, 642.683233520083, 302.4910373087407, 681.3195452864776, 69.67942876845179, 1698.7879249812102, 1296.6087997341424, 79.5362435888993, 450.6122384744072, 540.4158077902945, 66.67583215637961, 101.32954296014738, 1698.7879249812102, 628.1314715512345, 578.3795380830362, 362.6696441226111, 265.73368309176584, 239.0852142492813, 225.38176289405166, 71.71745319937062, 301.2517575563146, 58.711842008073916, 1106.3198103002662, 480.31903153008597, 2391.4836441665607, 3171.9455527033656, 78.06179757733668, 3543.9305928995077, 4410.036031641969, 190.52444680035725, 20644.83433637489, 6517.272407502947, 282.80830184801454, 102.7400465771631, 49.75330642377705, 42.37086791273026, 43.72150826485247, 45.2327407265804, 46.44559093285129, 46.851515123209055, 47.53419815581936, 49.41924861411242, 2435.7759273421934, 75.64387834320799, 1483.0811169315912, 53.647838803146804, 1149.2014991476933, 540.4158077902945, 595.3368211678833, 20644.83433637489, 95.35803980995796, 42.37086791273026, 43.72150826485247, 45.2327407265804, 46.44559093285129, 46.851515123209055, 47.53419815581936, 49.41924861411242, 49.75330642377705, 50.22892355766347, 52.20715272332066, 53.38689909313415, 53.647838803146804, 54.198660436326406, 55.12173300344011, 55.19939689301967, 55.59296989925869, 55.71379945517437, 56.883170874448126, 58.028513535079014, 58.711842008073916, 59.29525189906831, 59.369127866496065, 60.132892044271856, 62.565807852436656, 62.723995701357, 64.30934826289659, 64.6493338242326, 65.47339477739087, 2435.7759273421934, 66.19574391415793, 78.06179757733668, 3543.9305928995077, 1296.6087997341424, 6517.272407502947, 124.06420394968977, 128.25015572293745, 681.3195452864776, 1249.0461562434402, 162.30102486380832, 282.80830184801454, 248.9902656355576, 115.03089580907827, 449.7942032398983, 284.37801556029916, 4410.036031641969, 595.3368211678833, 109.43908201133561, 154.94594877526285, 624.3317270207251, 397.1504078769744, 77.48301288591658, 79.90328679211308, 238.68232955442338, 540.4158077902945, 402.8267766347255, 222.65129780075156, 153.28640971382228, 135.16204135733994, 134.2365850915466, 113.78920200800333, 86.75568020840534, 84.85028600196085, 80.59948299055237, 75.27339127293352, 70.48100636718485, 69.15841636335887, 65.47339477739087, 64.30934826289659, 55.59296989925869, 50.22892355766347, 49.41924861411242, 43.72150826485247, 42.37086791273026, 363.6737622031555, 58.028513535079014, 189.2498438998642, 392.8789503103861, 69.26448874230385, 190.52444680035725, 139.23119574128702, 128.25015572293745, 624.3317270207251, 124.06420394968977, 1149.2014991476933, 397.1504078769744, 1483.0811169315912, 136.19049484846903, 101.16593287818408, 239.19000767540805, 450.6122384744072, 417.7960265237671, 363.5127791286124, 242.9664970451231, 227.92209996688857, 201.3122832535405, 181.8836816665693, 131.60050994337035, 125.45648189266477, 103.74424708071324, 101.32954296014738, 91.32515189409736, 89.96133088833899, 84.57602965115102, 75.64387834320799, 73.23543742449016, 66.67583215637961, 62.565807852436656, 642.683233520083, 449.02359380310975, 310.2722560007113, 195.9737253648994, 115.03089580907827, 75.7331787059945, 162.5296874889134, 239.19000767540805, 169.05360669946074, 45.2327407265804, 1483.0811169315912, 64.6493338242326, 1106.3198103002662, 210.6948147719808, 301.2517575563146, 1149.2014991476933, 6517.272407502947, 3171.9455527033656, 681.3195452864776, 281.28849954386595, 179.21681172802664, 89.99243519960005, 77.48301288591658, 75.13685449609171, 69.66943780114961, 55.71379945517437, 355.53765218014485, 2435.7759273421934, 284.37801556029916, 2391.4836441665607, 3171.9455527033656, 75.7331787059945, 397.1504078769744, 624.3317270207251, 480.31903153008597, 128.25015572293745, 302.4910373087407, 4410.036031641969, 69.26448874230385, 149.3564347198469, 6517.272407502947, 42.37086791273026, 43.72150826485247, 45.2327407265804, 46.44559093285129, 46.851515123209055, 365.9447706229385, 47.53419815581936, 189.2498438998642, 20644.83433637489, 1296.6087997341424, 3543.9305928995077, 1483.0811169315912, 1106.3198103002662, 1316.1042102951951, 538.9879681857797, 524.3725606879595, 332.7733555622861, 269.790186249137, 248.9902656355576, 248.60653243996967, 156.86362828189215, 154.94594877526285, 144.56368005165055, 103.99034438517714, 87.63897167556908, 79.5362435888993, 149.3564347198469, 70.36765148311726, 66.32071066850486, 66.19574391415793, 59.369127866496065, 53.647838803146804, 49.75330642377705, 102.7400465771631, 449.7942032398983, 95.35803980995796, 53.38689909313415, 282.80830184801454, 103.14907346832935, 58.711842008073916, 169.05360669946074, 284.37801556029916, 143.68541020565272, 1483.0811169315912, 1149.2014991476933, 606.7464394298355, 595.3368211678833, 162.30102486380832, 130.41338579162056, 107.22610310176316, 106.3942636080989, 102.28326342347673, 102.09430685933408, 98.95428546012478, 74.82292660776696, 74.24290342368735, 65.82597122920576, 60.132892044271856, 59.29525189906831, 47.53419815581936, 46.851515123209055, 46.44559093285129, 52.20715272332066, 247.3101521312882, 450.6122384744072, 302.4910373087407, 62.723995701357, 64.6493338242326, 109.43908201133561, 53.38689909313415, 54.198660436326406, 143.68541020565272, 45.2327407265804, 101.16593287818408, 2435.7759273421934, 397.1504078769744, 449.02359380310975, 195.9737253648994, 363.6737622031555, 262.23980475423633, 248.76340662933808, 238.68232955442338, 137.01272744179596, 109.89361208519998, 103.07780400232214, 174.23713769808725, 88.69042671779533, 86.54709633073807, 84.8949680258665, 79.90328679211308, 69.67942876845179, 56.883170874448126, 55.19939689301967, 210.6948147719808, 6517.272407502947, 42.37086791273026, 43.72150826485247, 45.2327407265804, 46.44559093285129, 46.851515123209055, 47.53419815581936, 49.41924861411242, 49.75330642377705, 50.22892355766347, 52.20715272332066, 53.38689909313415, 53.647838803146804, 54.198660436326406, 55.12173300344011, 2435.7759273421934, 624.3317270207251, 103.14907346832935, 20644.83433637489, 1296.6087997341424, 62.723995701357, 282.80830184801454, 363.5127791286124, 332.7733555622861, 71.71745319937062, 102.7400465771631, 284.37801556029916, 1249.0461562434402, 1296.6087997341424, 266.401601369812, 258.1958492089932, 365.9447706229385, 109.01779548931172, 78.06179757733668, 162.6128205552628, 136.19049484846903, 247.3101521312882, 392.8789503103861, 45.2327407265804, 642.683233520083, 42.37086791273026, 43.72150826485247, 46.44559093285129, 46.851515123209055, 47.53419815581936, 49.41924861411242, 49.75330642377705, 50.22892355766347, 52.20715272332066, 53.38689909313415, 53.647838803146804, 54.198660436326406, 55.12173300344011, 55.19939689301967, 55.59296989925869, 55.71379945517437, 56.883170874448126, 3171.9455527033656, 91.32515189409736, 6517.272407502947, 1106.3198103002662, 20644.83433637489, 73.23543742449016, 397.1504078769744, 1149.2014991476933, 124.06420394968977, 71.71745319937062, 58.711842008073916, 128.25015572293745, 248.60653243996967, 282.80830184801454, 115.03089580907827], \"loglift\": [30.0, 29.0, 28.0, 27.0, 26.0, 25.0, 24.0, 23.0, 22.0, 21.0, 20.0, 19.0, 18.0, 17.0, 16.0, 15.0, 14.0, 13.0, 12.0, 11.0, 10.0, 9.0, 8.0, 7.0, 6.0, 5.0, 4.0, 3.0, 2.0, 1.0, 1.4902, 1.475, 1.2499, 1.2301, 0.7881, 0.5977, 0.3635, 0.3413, 0.2829, 0.2765, -4.6736, -4.7064, -4.7405, -4.7669, -4.7756, -4.7901, -4.829, -4.8356, -4.8451, -4.8838, -4.9062, -4.911, -4.9213, -4.9396, -4.9467, -4.9488, -4.9696, -4.9895, -5.0012, -5.0109, -6.3261, -8.7215, -6.0179, -6.9628, -7.9368, -5.9017, -6.1711, -7.3938, -6.6403, -7.4523, -5.1723, -8.3661, -8.0959, -5.3046, -7.0391, -7.2208, -5.1283, -5.5469, 1.8367, 1.8357, 1.8356, 1.8347, 1.8337, 1.8334, 1.8331, 1.8243, 1.4811, 1.3781, 1.3285, 0.8469, 0.6112, 0.5217, 0.2995, 0.2937, 0.1415, 0.0648, 0.063, -0.0985, -0.1967, -0.2378, -0.8855, -4.2353, -4.2666, -4.2824, -4.3271, -4.3358, -4.3501, -4.3891, -8.1571, -4.7988, -7.7559, -4.4698, -7.5242, -6.7718, -6.8708, 1.36, -1.7928, -4.0528, -4.0843, -4.1183, -4.1447, -4.1534, -4.1679, -4.2059, -4.2135, -4.2229, -4.2617, -4.284, -4.2889, -4.2991, -4.316, -4.3174, -4.3245, -4.3264, -4.3475, -4.3674, -4.3791, -4.389, -4.3902, -4.403, -4.4427, -4.4452, -4.4702, -4.4754, -4.4881, -7.5481, -4.4983, -4.6613, -8.4543, -7.465, -9.0819, -5.1266, -5.1599, -6.8301, -7.4362, -5.3956, -5.951, -5.8236, -5.0514, -6.415, -5.9566, -8.6979, -6.6954, -5.0017, -5.3494, -6.743, -6.2907, -4.6564, -4.6872, -5.7815, 2.4782, 2.4777, 2.4758, 2.4739, 2.4731, 2.4731, 2.4719, 2.4693, 2.4691, 2.4685, 2.4677, 2.4669, 2.4666, 2.4659, 2.4656, 2.4633, 2.4615, 2.4612, 2.4588, 2.4581, 2.385, 2.3656, 2.3581, 2.3446, 2.3182, 2.2885, 2.2855, 2.2712, 2.2065, 2.1701, 2.0867, 1.8079, 1.4018, 2.0724, 2.0903, 1.4065, 0.901, 2.4897, 2.4894, 2.4882, 2.4879, 2.4874, 2.4869, 2.485, 2.4846, 2.4831, 2.4829, 2.4818, 2.4817, 2.4811, 2.4798, 2.4794, 2.4782, 2.4773, 2.46, 2.3338, 2.3143, 2.3066, 2.2083, 2.12, 2.1173, 2.0637, 2.0485, 1.9548, 1.7525, 1.5709, 1.5685, 1.5562, 1.2776, 0.608, -0.547, -0.8507, 2.4929, 2.491, 2.4891, 2.484, 2.4823, 2.482, 2.481, 2.4776, 2.4764, 2.1609, 1.9383, 1.5965, 1.523, 1.2898, 1.1799, 1.0581, 0.9715, 0.7733, 0.6762, -0.5693, -0.609, -2.5633, -2.7032, -3.5917, -3.6233, -3.6572, -3.6836, -3.6923, -3.6993, -3.7067, -4.3804, -7.349, -6.896, -7.9944, -7.1378, -6.8449, 2.5625, 2.5619, 2.5619, 2.5607, 2.5602, 2.5599, 2.5599, 2.5578, 2.5577, 2.5573, 2.5548, 2.5532, 2.5521, 2.5517, 2.5506, 2.5498, 2.5498, 2.5482, 2.5465, 2.4781, 2.4204, 2.4135, 2.3367, 1.7709, 1.7609, 1.6144, 1.5261, 1.5234, 1.3974, 1.286, 0.8594, 0.8062, 2.8752, 2.8751, 2.8711, 2.8697, 2.8682, 2.8681, 2.8678, 2.8678, 2.8675, 2.8645, 2.8644, 2.8628, 2.8615, 2.8613, 2.8574, 2.8571, 2.8568, 2.83, 2.6811, 2.6435, 2.5726, 2.4858, 2.3481, 2.3126, 2.2463, 2.0101, 1.8225, 1.7872, 1.7206, 1.5436, 1.3513, 0.9419, 1.0751, 0.4503, 3.0173, 3.0171, 3.017, 3.0141, 3.0123, 3.012, 3.011, 3.0105, 3.0103, 3.0101, 3.0094, 3.0077, 3.0047, 3.0042, 2.5164, 1.8407, -2.941, -2.9723, -2.9987, -3.0327, -3.0415, -3.0557, -3.0948, -3.1015, -3.1109, -3.1497, -3.172, -3.1766, -3.187, -3.2039, -5.4444, -5.2354, -3.7441, -8.7677, -6.1674, -3.3279, -4.8385, -5.0899, -5.0016, -3.4669, -3.8264, -4.8445, 3.0341, 3.0339, 3.0314, 3.0313, 3.0306, 3.0265, 2.7797, 2.6053, 1.6534, 1.2884, 0.9516, 0.2822, -0.4661, -2.9214, -2.9527, -3.0132, -3.0219, -3.0364, -3.0753, -3.082, -3.0916, -3.1302, -3.1525, -3.1573, -3.1676, -3.1831, -3.186, -3.1929, -3.195, -3.2148, -3.7577, -3.6251, -7.6639, -6.1391, -9.0967, -3.466, -5.1578, -6.2214, -3.9954, -3.4474, -3.2474, -4.0288, -4.6906, -4.8195, -3.92], \"logprob\": [30.0, 29.0, 28.0, 27.0, 26.0, 25.0, 24.0, 23.0, 22.0, 21.0, 20.0, 19.0, 18.0, 17.0, 16.0, 15.0, 14.0, 13.0, 12.0, 11.0, 10.0, 9.0, 8.0, 7.0, 6.0, 5.0, 4.0, 3.0, 2.0, 1.0, -3.537, -5.8124, -1.8741, -1.6752, -1.7266, -4.5248, -5.2887, -2.8935, -3.2343, -1.0852, -12.224, -12.2255, -12.2256, -12.2256, -12.2256, -12.2256, -12.2256, -12.2255, -12.2255, -12.2255, -12.2256, -12.2255, -12.2255, -12.2256, -12.2256, -12.2255, -12.2256, -12.2255, -12.2255, -12.2253, -11.8156, -12.2204, -12.224, -12.2247, -12.2249, -12.2249, -12.225, -12.2251, -12.2252, -12.2252, -12.2253, -12.2253, -12.2254, -12.2254, -12.2254, -12.2254, -12.2254, -12.2254, -2.0226, -3.0184, -3.1011, -3.5688, -3.8807, -3.9868, -4.046, -5.1999, -4.1079, -5.8462, -2.9596, -4.2756, -2.9061, -2.7131, -6.64, -2.8302, -2.7638, -5.9824, -1.2987, -2.6132, -5.8489, -6.9025, -8.2754, -11.7857, -11.7857, -11.7675, -11.7857, -11.7857, -11.7855, -11.7857, -11.656, -11.7697, -11.7509, -11.7843, -11.7743, -11.7764, -11.7787, -0.0017, -8.5321, -11.6033, -11.6034, -11.6034, -11.6034, -11.6034, -11.6034, -11.6025, -11.6034, -11.6032, -11.6034, -11.6034, -11.6034, -11.6034, -11.6034, -11.6034, -11.6034, -11.6031, -11.6034, -11.6034, -11.6034, -11.6034, -11.6034, -11.6034, -11.6034, -11.6034, -11.6034, -11.6034, -11.6034, -11.0471, -11.6027, -11.6007, -11.5782, -11.5944, -11.5966, -11.6027, -11.6029, -11.603, -11.603, -11.6031, -11.6031, -11.6032, -11.6032, -11.6032, -11.6032, -11.6032, -11.6032, -11.6033, -11.6033, -11.6033, -11.6033, -11.6033, -11.6033, -11.6033, -2.5264, -2.8208, -3.4155, -3.7907, -3.9173, -3.9242, -4.0907, -4.3645, -4.387, -4.4389, -4.5081, -4.5747, -4.5939, -4.6494, -4.6676, -4.8155, -4.9188, -4.9354, -5.0603, -5.0924, -3.0157, -4.8704, -3.6958, -2.9788, -4.7408, -3.7586, -4.0753, -4.1717, -2.6537, -4.306, -2.1634, -3.5048, -2.5932, -4.3105, -4.5899, -4.4132, -4.2853, -2.7722, -2.9117, -3.3158, -3.38, -3.5047, -3.6067, -3.9322, -3.9803, -4.1719, -4.1957, -4.3008, -4.3158, -4.3782, -4.4911, -4.5238, -4.6189, -4.6835, -2.3713, -2.856, -3.2452, -3.7123, -4.3434, -4.8498, -4.0888, -3.7559, -4.1182, -5.5303, -2.2426, -5.5571, -2.7197, -4.3903, -4.3114, -3.6421, -3.0617, -4.0855, -2.28, -3.1666, -3.6192, -4.3132, -4.4645, -4.4957, -4.5722, -4.7991, -2.9469, -1.338, -3.7083, -1.9207, -1.7119, -5.6799, -4.1327, -3.8022, -4.151, -5.6696, -4.9087, -3.4746, -7.668, -8.8539, -5.2179, -11.1422, -11.1424, -11.1423, -11.1423, -11.1422, -9.0937, -11.1422, -10.4343, -8.7107, -11.0254, -11.1183, -11.1328, -11.1331, -1.552, -2.4453, -2.4729, -2.9287, -3.1391, -3.2196, -3.2211, -3.6838, -3.6961, -3.7659, -4.0978, -4.2705, -4.3686, -3.7389, -4.4926, -4.5526, -4.5545, -4.665, -4.768, -4.9118, -4.2444, -2.7747, -4.4026, -5.5485, -3.8912, -5.0463, -5.6982, -4.6434, -4.2492, -5.0433, -3.1357, -3.4439, -2.0136, -2.0327, -3.3364, -3.5565, -3.7538, -3.7617, -3.8014, -3.8033, -3.8348, -4.1173, -4.1252, -4.2471, -4.3389, -4.3531, -4.5781, -4.5928, -4.6018, -4.5118, -3.1052, -2.5428, -3.0123, -4.6724, -4.7798, -4.289, -5.0731, -5.2942, -4.5068, -5.6979, -4.9596, -1.9553, -3.9614, -4.248, -4.9438, -4.9504, -2.7104, -2.7633, -2.8048, -3.3627, -3.5851, -3.6495, -3.1255, -3.8013, -3.826, -3.8455, -3.9067, -4.0453, -4.2512, -4.2817, -3.4301, -0.674, -10.4914, -10.4914, -10.4838, -10.4913, -10.4914, -10.4912, -10.4914, -10.4913, -10.4912, -10.4914, -10.4914, -10.4911, -10.4913, -10.4913, -8.9434, -10.0956, -10.4048, -10.1295, -10.2968, -10.4861, -10.4907, -10.491, -10.4911, -10.4911, -10.4911, -10.4911, -1.1327, -1.0955, -2.6805, -2.7119, -2.3639, -3.5789, -4.1598, -3.6003, -4.7295, -4.4979, -4.3718, -7.2029, -5.2974, -10.4719, -10.4718, -10.4719, -10.4719, -10.4719, -10.4719, -10.4718, -10.4719, -10.4719, -10.4718, -10.4718, -10.4719, -10.4705, -10.4719, -10.4718, -10.4718, -10.4707, -6.9925, -10.4076, -10.1786, -10.4272, -10.4584, -10.4693, -10.4704, -10.4715, -10.4716, -10.4716, -10.4717, -10.4717, -10.4717, -10.4717, -10.4717]}, \"token.table\": {\"Topic\": [5, 6, 7, 4, 7, 5, 5, 4, 5, 4, 6, 4, 8, 10, 4, 8, 4, 10, 4, 4, 4, 9, 4, 4, 6, 2, 7, 6, 7, 8, 4, 5, 7, 9, 7, 6, 2, 4, 5, 9, 9, 9, 8, 9, 2, 7, 5, 4, 5, 6, 8, 9, 5, 5, 7, 1, 2, 5, 6, 10, 10, 4, 4, 8, 8, 4, 7, 7, 9, 6, 4, 5, 8, 9, 7, 8, 6, 1, 2, 5, 6, 4, 4, 8, 8, 2, 4, 1, 2, 3, 5, 6, 5, 2, 7, 4, 5, 7, 8, 9, 4, 1, 10, 4, 4, 10, 5, 4, 7, 6, 10, 2, 10, 4, 7, 5, 9, 6, 7, 5, 8, 10, 8, 4, 5, 7, 4, 5, 8, 8, 10, 1, 2, 5, 7, 9, 4, 7, 6, 7, 4, 4, 7, 6, 4, 6, 8, 9, 4, 8, 9, 1, 2, 4, 5, 6, 9, 7, 8, 2, 2, 8, 1, 2, 6, 5, 7, 8, 10, 7, 5, 3, 7, 8, 4, 1, 8, 5, 7, 7, 5, 5, 6, 5, 5, 10, 7, 7, 2, 4, 8, 4, 6, 7, 2, 8, 2, 5, 8, 4, 8, 4, 8, 10, 5, 4, 7, 7, 1, 2, 6, 2, 7, 5, 8, 5, 2, 5, 7, 4, 7, 8, 4, 9, 5, 4, 6, 6, 9, 8, 5, 8, 4, 6, 7, 4, 5, 8, 5, 8, 2, 2, 8, 4, 6, 8, 1, 2, 5, 4, 8, 5, 4, 7, 10, 4, 7, 8, 4, 5, 7, 8, 8, 5], \"Freq\": [0.11252627927989307, 0.5731807350819553, 0.3129637142472026, 0.9676459798851941, 0.9932578713212684, 0.9954368722155502, 0.9831306063302487, 0.30763610496335103, 0.6891048751179063, 0.7608134897559548, 0.2370534662818554, 0.2063858725072821, 0.7922554460763409, 0.998759225038059, 0.6820477806801256, 0.31631201422846406, 0.3443762909270047, 0.6518551221118304, 0.9970748079746905, 0.9796398455548955, 0.9915164915317491, 0.98954378187667, 0.992562198064935, 0.9973801510431688, 0.9848695489887609, 0.1265329385483228, 0.8662639639077484, 0.9980632505032235, 0.4495484923769722, 0.5244732411064675, 0.6752514685853798, 0.1522796481990225, 0.17229354481946546, 0.9952722480273418, 0.9981669939885576, 0.9871881030883799, 0.9981986708157764, 0.975533547792386, 0.3939347064132769, 0.6027675628251344, 0.9886952486139502, 0.9969311940221354, 0.990406173677594, 0.9936786287012177, 0.9899961143715443, 0.990476573656599, 0.986879019471446, 0.5111413609900748, 0.0025179377388673636, 0.2694193380588079, 0.21654264554259325, 0.9902492201721463, 0.9959543196248959, 0.9893139543529852, 0.9970711082559272, 0.3165249791706914, 0.26828959887874343, 0.03530955942939984, 0.3786319720956179, 0.0012610556939071371, 0.9906639509197238, 0.9907880173597736, 0.8259643206231432, 0.17237516256482988, 0.983258959895542, 0.8961111845225073, 0.08616453697331801, 0.005739304566244478, 0.9928996899602947, 0.9937662092899284, 0.3505621697481168, 0.20295704564364658, 0.42436473180035195, 0.9918683891789164, 0.9991610008640976, 0.0007598182516076788, 0.9954192953286204, 0.29855943265245755, 0.2935416270616599, 0.00041815046589980046, 0.4076967042523055, 0.9893337251034937, 0.9834976355234185, 0.9868953122018436, 0.9885652554154698, 0.1679574487022733, 0.8240412326955283, 0.2965875095065143, 0.16963081141463549, 0.531997487654752, 0.001695339348804181, 4.8438267108690885e-05, 0.9928261363723213, 0.06029750011883237, 0.9245616684887631, 0.16114879443131833, 0.8379737310428553, 0.9805642016709143, 0.9874521983681831, 0.9894579378886883, 0.9912895592935237, 0.979649895924533, 0.9991624358810033, 0.9930643506231125, 0.873042446608605, 0.124720349515515, 0.9960220974625007, 0.8877153953632432, 0.1109644244204054, 0.002732652794293864, 0.9946856171229664, 0.2177761789709994, 0.7686218081329391, 0.9832498136268398, 0.9879242329681918, 0.9980947005877715, 0.9922153185710538, 0.006695392815687754, 0.9909181367217876, 0.5748048776695385, 0.33161819865550296, 0.0663236397311006, 0.9977545128734675, 0.34050733586630494, 0.47738454216503745, 0.1820534270968363, 0.34282368564190946, 0.6522011580504619, 0.004180776654169627, 0.8208316490470415, 0.17387074339420092, 0.32177273229024506, 0.130830671370759, 0.09547103045974305, 0.44906743956990247, 0.9926085155685542, 0.6010718071940446, 0.3877882627058352, 0.9903912271682123, 0.9975602715100975, 0.9830831154090516, 0.9914026057488452, 0.9944944007010971, 0.9932103929520115, 0.01929569935904746, 0.7164041570539962, 0.2635710423086909, 0.00041054679487335027, 0.038308926951049954, 0.9577231737762489, 0.9844739514188221, 0.49468547552015796, 0.14438555597533145, 0.0003068768458561774, 0.04787278795356367, 0.005523783225411193, 0.3073371611249616, 0.9961008183283024, 0.9892814115400007, 0.998153569967977, 0.9954609729728003, 0.9781558917858537, 0.7696082244335603, 0.18344521318996765, 0.04671163648594974, 0.6447658948429149, 0.3549170063355495, 0.9818252382880306, 0.9947387652228624, 0.9976760291971712, 0.998589377985991, 0.020973585488815238, 0.7969962485749791, 0.1677886839105219, 0.9899789848446569, 0.997470991064782, 0.9887618140929141, 0.9909565963925355, 0.9819362417664108, 0.9938949757464465, 0.9931892091231174, 0.6866211202077016, 0.3036978031687911, 0.99636143238055, 0.9678173749658949, 0.029563553254585213, 0.9960228740949776, 0.9769387236144881, 0.9995361840229593, 0.42032516313719953, 0.5665252198805732, 0.851807341269889, 0.04331223769168927, 0.10106188794727496, 0.9976148221155808, 0.9968301889479269, 0.6010920113773542, 0.39681111728520074, 0.0009038977614697056, 0.9931753760058568, 0.9874538279233064, 0.9101563940020967, 0.08799095047754409, 0.9953684413879743, 0.9854897378584814, 0.9979475628665192, 0.9927090464053538, 0.9973824704211091, 0.4080621152479215, 0.37058702303127566, 0.21860470459710082, 0.6301965452712562, 0.3576791202890914, 0.8317441519086146, 0.16328719546672188, 0.9914880310567021, 0.700410851414059, 0.29543396102299174, 0.9800859994533796, 0.3688613890870524, 0.2783859540279641, 0.34798244253495514, 0.9927696619519973, 0.9971412648950714, 0.9898639111875719, 0.014063208128141054, 0.9816119273442456, 0.988972015287742, 0.9782715580145888, 0.989001678428313, 0.7563185471875108, 0.2434128657614977, 0.8109151947127007, 0.1793370142153088, 0.007797261487622121, 0.9916078032212775, 0.8529618605474435, 0.14475854030178545, 0.40216965066783694, 0.5877864125145309, 0.9938692337999805, 0.9972390286273476, 0.990356299823828, 0.0958706091195715, 0.16198827058134493, 0.7372119252987739, 0.7850040871494254, 0.21360463478508807, 0.0011286902762752341, 0.3029143757113826, 0.669600198940951, 0.9951415011040449, 0.6681817266414241, 0.0807692197039084, 0.24965031544844415, 0.13784081598519896, 0.8603934804237419, 0.9811601936019012, 0.7334911852326245, 0.03224137077945602, 0.22568959545619216, 0.9987697671031461, 0.9919838777056396, 0.9934813552738471], \"Term\": [\"accord\", \"accord\", \"accord\", \"add\", \"affordable\", \"answer\", \"ask\", \"bad\", \"bad\", \"bag\", \"bag\", \"baht\", \"baht\", \"beautiful\", \"big\", \"big\", \"bite\", \"bite\", \"black\", \"blue\", \"body\", \"break\", \"brown\", \"buy\", \"cell\", \"chat\", \"chat\", \"cheap\", \"cloth\", \"cloth\", \"color\", \"color\", \"color\", \"come\", \"comfortable\", \"compact\", \"company\", \"compare\", \"complete\", \"complete\", \"condition\", \"consider\", \"considered\", \"cost\", \"course\", \"cover\", \"customer\", \"cute\", \"cute\", \"cute\", \"cute\", \"damage\", \"day\", \"deduct\", \"deliver\", \"delivery\", \"delivery\", \"delivery\", \"delivery\", \"delivery\", \"disappoint\", \"discount\", \"doe\", \"doe\", \"edge\", \"envelope\", \"envelope\", \"exactly\", \"exactly\", \"excellent\", \"expect\", \"expect\", \"expect\", \"expensive\", \"fabric\", \"fabric\", \"fair\", \"fast\", \"fast\", \"fast\", \"fast\", \"feel\", \"fine\", \"fit\", \"flash\", \"free\", \"free\", \"good\", \"good\", \"good\", \"good\", \"good\", \"great\", \"image\", \"image\", \"item\", \"item\", \"know\", \"large\", \"late\", \"leave\", \"light\", \"like\", \"line\", \"little\", \"little\", \"long\", \"look\", \"look\", \"lot\", \"lot\", \"lovely\", \"lovely\", \"match\", \"meet\", \"money\", \"new\", \"nice\", \"nice\", \"ninja\", \"ninja\", \"ninja\", \"okay\", \"order\", \"order\", \"order\", \"ordered\", \"ordered\", \"ordered\", \"overall\", \"overall\", \"pack\", \"pack\", \"pack\", \"pack\", \"package\", \"pant\", \"pant\", \"people\", \"picture\", \"piece\", \"pink\", \"poor\", \"pretty\", \"price\", \"price\", \"price\", \"price\", \"pro\", \"pro\", \"problem\", \"product\", \"product\", \"product\", \"product\", \"product\", \"product\", \"products\", \"promotion\", \"provide\", \"providing\", \"purchase\", \"quality\", \"quality\", \"quality\", \"quickly\", \"quickly\", \"range\", \"reasonable\", \"receive\", \"received\", \"recommend\", \"recommend\", \"recommend\", \"red\", \"reed\", \"respond\", \"return\", \"right\", \"round\", \"sale\", \"sell\", \"sell\", \"seller\", \"send\", \"send\", \"sensitive\", \"sent\", \"service\", \"sew\", \"sew\", \"shape\", \"shape\", \"shape\", \"ship\", \"shirt\", \"shop\", \"shop\", \"shop\", \"short\", \"site\", \"size\", \"size\", \"slow\", \"slowly\", \"small\", \"smooth\", \"soft\", \"speed\", \"speed\", \"speed\", \"staff\", \"staff\", \"star\", \"star\", \"stitch\", \"store\", \"store\", \"straight\", \"stretch\", \"stretch\", \"stretch\", \"stuff\", \"subsidize\", \"successfully\", \"suitable\", \"suitable\", \"tell\", \"terrible\", \"texture\", \"thank\", \"thank\", \"thing\", \"thing\", \"thing\", \"think\", \"time\", \"time\", \"trader\", \"trader\", \"transport\", \"transportation\", \"try\", \"use\", \"use\", \"use\", \"value\", \"value\", \"value\", \"waist\", \"waist\", \"wait\", \"want\", \"want\", \"want\", \"wear\", \"wear\", \"white\", \"work\", \"work\", \"work\", \"worth\", \"worthwhile\", \"wrong\"]}, \"R\": 30, \"lambda.step\": 0.01, \"plot.opts\": {\"xlab\": \"PC1\", \"ylab\": \"PC2\"}, \"topic.order\": [2, 8, 3, 6, 7, 5, 10, 4, 9, 1]};\n",
       "\n",
       "function LDAvis_load_lib(url, callback){\n",
       "  var s = document.createElement('script');\n",
       "  s.src = url;\n",
       "  s.async = true;\n",
       "  s.onreadystatechange = s.onload = callback;\n",
       "  s.onerror = function(){console.warn(\"failed to load library \" + url);};\n",
       "  document.getElementsByTagName(\"head\")[0].appendChild(s);\n",
       "}\n",
       "\n",
       "if(typeof(LDAvis) !== \"undefined\"){\n",
       "   // already loaded: just create the visualization\n",
       "   !function(LDAvis){\n",
       "       new LDAvis(\"#\" + \"ldavis_el17111398940001650564510825771\", ldavis_el17111398940001650564510825771_data);\n",
       "   }(LDAvis);\n",
       "}else if(typeof define === \"function\" && define.amd){\n",
       "   // require.js is available: use it to load d3/LDAvis\n",
       "   require.config({paths: {d3: \"https://cdnjs.cloudflare.com/ajax/libs/d3/3.5.5/d3.min\"}});\n",
       "   require([\"d3\"], function(d3){\n",
       "      window.d3 = d3;\n",
       "      LDAvis_load_lib(\"https://cdn.rawgit.com/bmabey/pyLDAvis/files/ldavis.v1.0.0.js\", function(){\n",
       "        new LDAvis(\"#\" + \"ldavis_el17111398940001650564510825771\", ldavis_el17111398940001650564510825771_data);\n",
       "      });\n",
       "    });\n",
       "}else{\n",
       "    // require.js not available: dynamically load d3 & LDAvis\n",
       "    LDAvis_load_lib(\"https://cdnjs.cloudflare.com/ajax/libs/d3/3.5.5/d3.min.js\", function(){\n",
       "         LDAvis_load_lib(\"https://cdn.rawgit.com/bmabey/pyLDAvis/files/ldavis.v1.0.0.js\", function(){\n",
       "                 new LDAvis(\"#\" + \"ldavis_el17111398940001650564510825771\", ldavis_el17111398940001650564510825771_data);\n",
       "            })\n",
       "         });\n",
       "}\n",
       "</script>"
      ],
      "text/plain": [
       "PreparedData(topic_coordinates=                x           y  topics  cluster       Freq\n",
       "topic                                                    \n",
       "1      -38.210876  112.023514       1        1  22.493167\n",
       "7      -58.150036 -117.712936       2        1  15.926413\n",
       "2     -169.114365  305.549744       3        1  13.655064\n",
       "5      150.882812  -19.819763       4        1   8.374830\n",
       "6       58.019432 -330.949768       5        1   8.275091\n",
       "4      353.158966  105.107849       6        1   8.255951\n",
       "9     -248.364655 -255.731598       7        1   7.702697\n",
       "3      140.711960  283.292786       8        1   5.632077\n",
       "8     -287.392029   31.724592       9        1   4.876402\n",
       "0      301.300354 -205.475845      10        1   4.808307, topic_info=    Category          Freq         Term         Total  loglift  logprob\n",
       "58   Default  20644.000000         good  20644.000000  30.0000  30.0000\n",
       "96   Default   6517.000000      product   6517.000000  29.0000  29.0000\n",
       "93   Default   2435.000000        price   2435.000000  28.0000  28.0000\n",
       "8    Default   1296.000000    beautiful   1296.000000  27.0000  27.0000\n",
       "67   Default   1249.000000         like   1249.000000  26.0000  26.0000\n",
       "102  Default   4410.000000      quality   4410.000000  25.0000  25.0000\n",
       "158  Default   3543.000000        value   3543.000000  24.0000  24.0000\n",
       "40   Default   3171.000000     delivery   3171.000000  23.0000  23.0000\n",
       "50   Default   1316.000000       fabric   1316.000000  22.0000  22.0000\n",
       "121  Default   1698.000000      service   1698.000000  21.0000  21.0000\n",
       "52   Default   2391.000000         fast   2391.000000  20.0000  20.0000\n",
       "81   Default   1483.000000        order   1483.000000  19.0000  19.0000\n",
       "21   Default   1149.000000        color   1149.000000  18.0000  18.0000\n",
       "165  Default    606.000000        worth    606.000000  17.0000  17.0000\n",
       "80   Default    595.000000         okay    595.000000  16.0000  16.0000\n",
       "19   Default    681.000000        cheap    681.000000  15.0000  15.0000\n",
       "126  Default   1106.000000         shop   1106.000000  14.0000  14.0000\n",
       "118  Default    642.000000         send    642.000000  13.0000  13.0000\n",
       "23   Default    538.000000  comfortable    538.000000  12.0000  12.0000\n",
       "134  Default    524.000000         soft    524.000000  11.0000  11.0000\n",
       "16   Default    540.000000          buy    540.000000  10.0000  10.0000\n",
       "6    Default    624.000000          bag    624.000000   9.0000   9.0000\n",
       "25   Default    628.000000      company    628.000000   8.0000   8.0000\n",
       "72   Default    365.000000          lot    365.000000   7.0000   7.0000\n",
       "7    Default    450.000000         baht    450.000000   6.0000   6.0000\n",
       "124  Default    578.000000         ship    578.000000   5.0000   5.0000\n",
       "76   Default    417.000000        money    417.000000   4.0000   4.0000\n",
       "132  Default    402.000000        small    402.000000   3.0000   3.0000\n",
       "162  Default    449.000000         wear    449.000000   2.0000   2.0000\n",
       "152  Default    449.000000         time    449.000000   1.0000   1.0000\n",
       "..       ...           ...          ...           ...      ...      ...\n",
       "30   Topic10      0.109727   considered     46.445591  -3.0132 -10.4719\n",
       "104  Topic10      0.109725        range     46.851515  -3.0219 -10.4719\n",
       "111  Topic10      0.109724      respond     47.534198  -3.0364 -10.4719\n",
       "13   Topic10      0.109725         body     49.419249  -3.0753 -10.4719\n",
       "60   Topic10      0.109732        image     49.753306  -3.0820 -10.4718\n",
       "26   Topic10      0.109724      compare     50.228924  -3.0916 -10.4719\n",
       "94   Topic10      0.109726          pro     52.207153  -3.1302 -10.4719\n",
       "20   Topic10      0.109731        cloth     53.386899  -3.1525 -10.4718\n",
       "75   Topic10      0.109733         meet     53.647839  -3.1573 -10.4718\n",
       "48   Topic10      0.109727       expect     54.198660  -3.1676 -10.4719\n",
       "66   Topic10      0.109874        light     55.121733  -3.1831 -10.4705\n",
       "147  Topic10      0.109719     terrible     55.199397  -3.1860 -10.4719\n",
       "53   Topic10      0.109736         feel     55.592970  -3.1929 -10.4718\n",
       "24   Topic10      0.109740      compact     55.713799  -3.1950 -10.4718\n",
       "95   Topic10      0.109851      problem     56.883171  -3.2148 -10.4707\n",
       "40   Topic10      3.559345     delivery   3171.945553  -3.7577  -6.9925\n",
       "131  Topic10      0.117014       slowly     91.325152  -3.6251 -10.4076\n",
       "96   Topic10      0.147117      product   6517.272408  -7.6639 -10.1786\n",
       "126  Topic10      0.114735         shop   1106.319810  -6.1391 -10.4272\n",
       "58   Topic10      0.111218         good  20644.834336  -9.0967 -10.4584\n",
       "4    Topic10      0.110012          ask     73.235437  -3.4660 -10.4693\n",
       "35   Topic10      0.109886         cute    397.150408  -5.1578 -10.4704\n",
       "21   Topic10      0.109763        color   1149.201499  -6.2214 -10.4715\n",
       "164  Topic10      0.109761         work    124.064204  -3.9954 -10.4716\n",
       "32   Topic10      0.109761       course     71.717453  -3.4474 -10.4716\n",
       "136  Topic10      0.109746        staff     58.711842  -3.2474 -10.4717\n",
       "150  Topic10      0.109745        thing    128.250156  -4.0288 -10.4717\n",
       "88   Topic10      0.109745      picture    248.606532  -4.6906 -10.4717\n",
       "84   Topic10      0.109744         pack    282.808302  -4.8195 -10.4717\n",
       "149  Topic10      0.109744        thank    115.030896  -3.9200 -10.4717\n",
       "\n",
       "[431 rows x 6 columns], token_table=      Topic      Freq            Term\n",
       "term                                 \n",
       "0         5  0.112526          accord\n",
       "0         6  0.573181          accord\n",
       "0         7  0.312964          accord\n",
       "1         4  0.967646             add\n",
       "2         7  0.993258      affordable\n",
       "3         5  0.995437          answer\n",
       "4         5  0.983131             ask\n",
       "5         4  0.307636             bad\n",
       "5         5  0.689105             bad\n",
       "6         4  0.760813             bag\n",
       "6         6  0.237053             bag\n",
       "7         4  0.206386            baht\n",
       "7         8  0.792255            baht\n",
       "8        10  0.998759       beautiful\n",
       "9         4  0.682048             big\n",
       "9         8  0.316312             big\n",
       "10        4  0.344376            bite\n",
       "10       10  0.651855            bite\n",
       "11        4  0.997075           black\n",
       "12        4  0.979640            blue\n",
       "13        4  0.991516            body\n",
       "14        9  0.989544           break\n",
       "15        4  0.992562           brown\n",
       "16        4  0.997380             buy\n",
       "17        6  0.984870            cell\n",
       "18        2  0.126533            chat\n",
       "18        7  0.866264            chat\n",
       "19        6  0.998063           cheap\n",
       "20        7  0.449548           cloth\n",
       "20        8  0.524473           cloth\n",
       "...     ...       ...             ...\n",
       "150       7  0.007797           thing\n",
       "151       4  0.991608           think\n",
       "152       5  0.852962            time\n",
       "152       8  0.144759            time\n",
       "153       5  0.402170          trader\n",
       "153       8  0.587786          trader\n",
       "154       2  0.993869       transport\n",
       "155       2  0.997239  transportation\n",
       "156       8  0.990356             try\n",
       "157       4  0.095871             use\n",
       "157       6  0.161988             use\n",
       "157       8  0.737212             use\n",
       "158       1  0.785004           value\n",
       "158       2  0.213605           value\n",
       "158       5  0.001129           value\n",
       "159       4  0.302914           waist\n",
       "159       8  0.669600           waist\n",
       "160       5  0.995142            wait\n",
       "161       4  0.668182            want\n",
       "161       7  0.080769            want\n",
       "161      10  0.249650            want\n",
       "162       4  0.137841            wear\n",
       "162       7  0.860393            wear\n",
       "163       8  0.981160           white\n",
       "164       4  0.733491            work\n",
       "164       5  0.032241            work\n",
       "164       7  0.225690            work\n",
       "165       8  0.998770           worth\n",
       "166       8  0.991984      worthwhile\n",
       "167       5  0.993481           wrong\n",
       "\n",
       "[264 rows x 3 columns], R=30, lambda_step=0.01, plot_opts={'xlab': 'PC1', 'ylab': 'PC2'}, topic_order=[2, 8, 3, 6, 7, 5, 10, 4, 9, 1])"
      ]
     },
     "execution_count": 161,
     "metadata": {},
     "output_type": "execute_result"
    }
   ],
   "source": [
    "pyLDAvis.enable_notebook()\n",
    "dash = pyLDAvis.sklearn.prepare(lda, data_vectorized, vectorizer, mds='tsne')\n",
    "dash"
   ]
  },
  {
   "cell_type": "markdown",
   "metadata": {
    "_uuid": "bb464a9c9c42de1d31dc0bcf4e850cea40af468c"
   },
   "source": [
    "## How to interpret this graph?\n",
    "1. Topics on the left while their respective keywords are on the right.\n",
    "2. Larger topics are more frequent and closer the topics, mor the similarity\n",
    "3. Selection of keywords is based on their frequency and discriminancy.\n",
    "\n",
    "**Hover over the topics on the left to get information about their keywords on the right.**"
   ]
  },
  {
   "cell_type": "markdown",
   "metadata": {
    "_uuid": "1f13a1c5ecfac3f41146fe9ac3a63cb6eabdc6e3"
   },
   "source": [
    "# Visualizing LSI(SVD) scatterplot\n",
    "We will be visualizing our data for 2  topics to see similarity between keywords which is measured by distance with the markers using LSI model"
   ]
  },
  {
   "cell_type": "code",
   "execution_count": 128,
   "metadata": {
    "_uuid": "19e1075ff2b3d1b62db2cfa9bb86d70e78507980"
   },
   "outputs": [],
   "source": [
    "svd_2d = TruncatedSVD(n_components=2)\n",
    "data_2d = svd_2d.fit_transform(data_vectorized)"
   ]
  },
  {
   "cell_type": "code",
   "execution_count": 130,
   "metadata": {
    "_uuid": "8195af8b1d63c853343520cd8fa624507771ce6d"
   },
   "outputs": [],
   "source": [
    "trace = go.Scattergl(\n",
    "    x = data_2d[:,0],\n",
    "    y = data_2d[:,1],\n",
    "    mode = 'markers',\n",
    "    marker = dict(\n",
    "        color = '#FFBAD2',\n",
    "        line = dict(width = 1)\n",
    "    ),\n",
    "    text = vectorizer.get_feature_names(),\n",
    "    hovertext = vectorizer.get_feature_names(),\n",
    "    hoverinfo = 'text' \n",
    ")\n",
    "data = [trace]\n",
    "# iplot(data, filename='scatter-mode')"
   ]
  },
  {
   "cell_type": "markdown",
   "metadata": {
    "_uuid": "3ee288a919e1f8b6fc473b62417fee9b4539e401"
   },
   "source": [
    "## The text version of scatter plot looks messy but you can zoom it for great results"
   ]
  },
  {
   "cell_type": "code",
   "execution_count": 131,
   "metadata": {
    "_uuid": "5a416105fd12940af0d8d77d3d03bf4addb771af"
   },
   "outputs": [],
   "source": [
    "trace = go.Scattergl(\n",
    "    x = data_2d[:,0],\n",
    "    y = data_2d[:,1],\n",
    "    mode = 'text',\n",
    "    marker = dict(\n",
    "        color = '#FFBAD2',\n",
    "        line = dict(width = 1)\n",
    "    ),\n",
    "    text = vectorizer.get_feature_names()\n",
    ")\n",
    "data = [trace]\n",
    "# iplot(data, filename='text-scatter-mode')"
   ]
  },
  {
   "cell_type": "markdown",
   "metadata": {
    "_uuid": "075d5be90085a1d5a197612b5e569768de478b57"
   },
   "source": [
    "Let's see what happens when we use a spaCy based bigram tokenizer for topic modelling"
   ]
  },
  {
   "cell_type": "code",
   "execution_count": 132,
   "metadata": {
    "_uuid": "2a49363c3f94f7d6a8b40dfd011a8b48d58b7e27"
   },
   "outputs": [],
   "source": [
    "def spacy_bigram_tokenizer(phrase):\n",
    "    doc = parser(phrase) # create spacy object\n",
    "    token_not_noun = []\n",
    "    notnoun_noun_list = []\n",
    "    noun = \"\"\n",
    "\n",
    "    for item in doc:\n",
    "        if item.pos_ != \"NOUN\": # separate nouns and not nouns\n",
    "            token_not_noun.append(item.text)\n",
    "        if item.pos_ == \"NOUN\":\n",
    "            noun = item.text\n",
    "        \n",
    "        for notnoun in token_not_noun:\n",
    "            notnoun_noun_list.append(notnoun + \" \" + noun)\n",
    "\n",
    "    return \" \".join([i for i in notnoun_noun_list])"
   ]
  },
  {
   "cell_type": "code",
   "execution_count": 133,
   "metadata": {
    "_uuid": "d38a2f8e70cc004d5c50693efefa7e54565cbaaa"
   },
   "outputs": [],
   "source": [
    "bivectorizer = CountVectorizer(min_df=5, max_df=0.9, stop_words='english', lowercase=True, ngram_range=(1,2))\n",
    "bigram_vectorized = bivectorizer.fit_transform(wines[\"processed_description\"])"
   ]
  },
  {
   "cell_type": "markdown",
   "metadata": {
    "_uuid": "dd6892137ce6f8b2b790d62628d666b53eedb597"
   },
   "source": [
    "## LDA for bigram data"
   ]
  },
  {
   "cell_type": "code",
   "execution_count": 134,
   "metadata": {
    "_uuid": "7a2ced631e81c128738660a5d50ae5e5861a54c9"
   },
   "outputs": [
    {
     "name": "stdout",
     "output_type": "stream",
     "text": [
      "iteration: 1 of max_iter: 10\n",
      "iteration: 2 of max_iter: 10\n",
      "iteration: 3 of max_iter: 10\n",
      "iteration: 4 of max_iter: 10\n",
      "iteration: 5 of max_iter: 10\n",
      "iteration: 6 of max_iter: 10\n",
      "iteration: 7 of max_iter: 10\n",
      "iteration: 8 of max_iter: 10\n",
      "iteration: 9 of max_iter: 10\n",
      "iteration: 10 of max_iter: 10\n"
     ]
    }
   ],
   "source": [
    "bi_lda = LatentDirichletAllocation(n_components=NUM_TOPICS, max_iter=10, learning_method='online',verbose=True)\n",
    "data_bi_lda = bi_lda.fit_transform(bigram_vectorized)"
   ]
  },
  {
   "cell_type": "markdown",
   "metadata": {
    "_uuid": "13f2f160b2983dfff02801e3562af163710f10f6"
   },
   "source": [
    "### Topics for bigram model"
   ]
  },
  {
   "cell_type": "code",
   "execution_count": 135,
   "metadata": {
    "_uuid": "607d1d2e5eb51d585eb5abaac8fa2cf4d6430647"
   },
   "outputs": [
    {
     "name": "stdout",
     "output_type": "stream",
     "text": [
      "Bi-LDA Model:\n",
      "Topic 0:\n",
      "[('fabric', 1279.3906417767519), ('good', 979.3483740289875), ('soft', 518.9963092578602), ('comfortable', 358.90695914186847), ('good fabric', 348.531936552534), ('fabric good', 255.54350101548306), ('sensitive', 239.21618709516886), ('soft fabric', 213.62763630610462), ('round', 155.32346231647145), ('order', 153.39090981912284)]\n",
      "Topic 1:\n",
      "[('like', 842.15461715345), ('price', 567.5175399729417), ('bag', 559.511920455546), ('small', 419.1657622893145), ('cute', 401.8435697694018), ('suitable', 383.4554223340235), ('little', 378.43662560745526), ('okay', 350.1816583952013), ('lot', 314.40994201363714), ('beautiful', 233.79428976264757)]\n",
      "Topic 2:\n",
      "[('order', 574.5230027549043), ('product', 525.9615007324182), ('color', 478.51683648329646), ('receive', 325.43108927413886), ('picture', 240.37829411130096), ('poor', 211.76910930890793), ('like', 149.83761605638324), ('receive product', 139.58124809504048), ('pink', 132.73228264930262), ('doe', 113.10456911668574)]\n",
      "Topic 3:\n",
      "[('quality', 1005.4588537839782), ('good', 881.8320392900366), ('good quality', 743.0261270017454), ('price', 597.5816521408947), ('beautiful', 577.3957030479257), ('reasonable', 247.65826932986235), ('delivery', 244.462504014844), ('quality good', 212.94235194070544), ('reasonable price', 208.72212256930575), ('delivery good', 200.8581368769563)]\n",
      "Topic 4:\n",
      "[('reed', 652.0680126152005), ('reed reed', 470.82067708441537), ('money', 420.7221071583428), ('value money', 354.87214472133917), ('color', 277.71089129787975), ('good', 224.8650657820603), ('beautiful', 205.51415283530267), ('item', 197.1392924020024), ('shop', 195.65617693531988), ('service', 176.61456550976533)]\n",
      "Topic 5:\n",
      "[('wear', 441.10917788018173), ('size', 249.89221795754236), ('order', 243.70716881735598), ('ordered', 227.88160965595128), ('color', 187.31759326421002), ('baht', 180.1130870440963), ('comfortable', 159.61776154515445), ('black', 158.7422525150879), ('comfortable wear', 150.78724059501772), ('stretch', 138.83567641648614)]\n",
      "Topic 6:\n",
      "[('price', 1256.300575702106), ('good', 1248.0005882257087), ('product', 977.2052880618558), ('cheap', 712.6175413048804), ('price good', 480.48495764742364), ('send', 423.8896383017204), ('shop', 385.4792421803957), ('good price', 364.252086823228), ('buy', 307.57788348704486), ('time', 303.83505338353535)]\n",
      "Topic 7:\n",
      "[('fast', 1319.5119192325053), ('delivery', 1171.30801547072), ('fast delivery', 933.164292099257), ('product', 579.3559815849405), ('received', 348.4336362950503), ('mm', 295.7019720858234), ('worth', 287.6021332908468), ('pack', 285.55422885859804), ('mm mm', 250.7445094466566), ('order', 248.37851756779318)]\n",
      "Topic 8:\n",
      "[('good', 14595.227175664068), ('product', 6102.783709615109), ('quality', 5553.716348299413), ('value', 5159.823032913355), ('good value', 4832.473244127784), ('product good', 4019.6190690140584), ('quality product', 3846.788578375632), ('good good', 3064.420599752152), ('delivery', 2262.906123943314), ('service', 1883.4256528284081)]\n",
      "Topic 9:\n",
      "[('time', 154.15825328492738), ('day', 148.7846797548798), ('product', 131.76050987470086), ('beautiful', 128.80687675382273), ('seller', 126.51323342067191), ('worthwhile', 120.87803662505661), ('come', 108.10943629812911), ('beautiful product', 105.45290087920296), ('site', 100.00524221986493), ('flash', 98.9547348569852)]\n"
     ]
    }
   ],
   "source": [
    "print(\"Bi-LDA Model:\")\n",
    "selected_topics(bi_lda, bivectorizer)"
   ]
  },
  {
   "cell_type": "code",
   "execution_count": 136,
   "metadata": {
    "_uuid": "aa5db271862a9d6ca236111867c97f3dcee924d1"
   },
   "outputs": [
    {
     "data": {
      "text/html": [
       "\n",
       "<link rel=\"stylesheet\" type=\"text/css\" href=\"https://cdn.rawgit.com/bmabey/pyLDAvis/files/ldavis.v1.0.0.css\">\n",
       "\n",
       "\n",
       "<div id=\"ldavis_el17111398940001685366647538044\"></div>\n",
       "<script type=\"text/javascript\">\n",
       "\n",
       "var ldavis_el17111398940001685366647538044_data = {\"mdsDat\": {\"x\": [60.66899490356445, -35.46364212036133, 11.203411102294922, -67.11347961425781, 122.75053405761719, 154.45632934570312, -83.2032699584961, 47.613250732421875, -132.96487426757812, 34.82382583618164], \"y\": [-0.137674942612648, 1.5620421171188354, -82.49609375, 95.68860626220703, -92.20530700683594, 26.585561752319336, -121.00981140136719, 101.35382080078125, -17.803232192993164, -177.19862365722656], \"topics\": [1, 2, 3, 4, 5, 6, 7, 8, 9, 10], \"cluster\": [1, 1, 1, 1, 1, 1, 1, 1, 1, 1], \"Freq\": [44.707368294803935, 10.485569492381822, 7.525195270622562, 7.026438991765281, 6.60443366388954, 5.671263722578352, 5.250168154806111, 4.8733021174877225, 4.792817397670232, 3.063442893994441]}, \"tinfo\": {\"Category\": [\"Default\", \"Default\", \"Default\", \"Default\", \"Default\", \"Default\", \"Default\", \"Default\", \"Default\", \"Default\", \"Default\", \"Default\", \"Default\", \"Default\", \"Default\", \"Default\", \"Default\", \"Default\", \"Default\", \"Default\", \"Default\", \"Default\", \"Default\", \"Default\", \"Default\", \"Default\", \"Default\", \"Default\", \"Default\", \"Default\", \"Topic1\", \"Topic1\", \"Topic1\", \"Topic1\", \"Topic1\", \"Topic1\", \"Topic1\", \"Topic1\", \"Topic1\", \"Topic1\", \"Topic1\", \"Topic1\", \"Topic1\", \"Topic1\", \"Topic1\", \"Topic1\", \"Topic1\", \"Topic1\", \"Topic1\", \"Topic1\", \"Topic1\", \"Topic1\", \"Topic1\", \"Topic1\", \"Topic1\", \"Topic1\", \"Topic1\", \"Topic1\", \"Topic1\", \"Topic1\", \"Topic1\", \"Topic1\", \"Topic1\", \"Topic1\", \"Topic1\", \"Topic1\", \"Topic1\", \"Topic1\", \"Topic1\", \"Topic1\", \"Topic1\", \"Topic1\", \"Topic1\", \"Topic1\", \"Topic1\", \"Topic1\", \"Topic2\", \"Topic2\", \"Topic2\", \"Topic2\", \"Topic2\", \"Topic2\", \"Topic2\", \"Topic2\", \"Topic2\", \"Topic2\", \"Topic2\", \"Topic2\", \"Topic2\", \"Topic2\", \"Topic2\", \"Topic2\", \"Topic2\", \"Topic2\", \"Topic2\", \"Topic2\", \"Topic2\", \"Topic2\", \"Topic2\", \"Topic2\", \"Topic2\", \"Topic2\", \"Topic2\", \"Topic2\", \"Topic2\", \"Topic2\", \"Topic2\", \"Topic2\", \"Topic2\", \"Topic2\", \"Topic2\", \"Topic2\", \"Topic2\", \"Topic2\", \"Topic2\", \"Topic2\", \"Topic2\", \"Topic2\", \"Topic2\", \"Topic2\", \"Topic2\", \"Topic2\", \"Topic2\", \"Topic2\", \"Topic2\", \"Topic2\", \"Topic2\", \"Topic3\", \"Topic3\", \"Topic3\", \"Topic3\", \"Topic3\", \"Topic3\", \"Topic3\", \"Topic3\", \"Topic3\", \"Topic3\", \"Topic3\", \"Topic3\", \"Topic3\", \"Topic3\", \"Topic3\", \"Topic3\", \"Topic3\", \"Topic3\", \"Topic3\", \"Topic3\", \"Topic3\", \"Topic3\", \"Topic3\", \"Topic3\", \"Topic3\", \"Topic3\", \"Topic3\", \"Topic3\", \"Topic3\", \"Topic3\", \"Topic3\", \"Topic3\", \"Topic3\", \"Topic3\", \"Topic3\", \"Topic3\", \"Topic3\", \"Topic3\", \"Topic3\", \"Topic3\", \"Topic3\", \"Topic3\", \"Topic3\", \"Topic3\", \"Topic3\", \"Topic3\", \"Topic3\", \"Topic3\", \"Topic4\", \"Topic4\", \"Topic4\", \"Topic4\", \"Topic4\", \"Topic4\", \"Topic4\", \"Topic4\", \"Topic4\", \"Topic4\", \"Topic4\", \"Topic4\", \"Topic4\", \"Topic4\", \"Topic4\", \"Topic4\", \"Topic4\", \"Topic4\", \"Topic4\", \"Topic4\", \"Topic4\", \"Topic4\", \"Topic4\", \"Topic4\", \"Topic4\", \"Topic4\", \"Topic4\", \"Topic4\", \"Topic4\", \"Topic4\", \"Topic4\", \"Topic4\", \"Topic4\", \"Topic4\", \"Topic4\", \"Topic4\", \"Topic4\", \"Topic4\", \"Topic4\", \"Topic4\", \"Topic4\", \"Topic4\", \"Topic4\", \"Topic4\", \"Topic4\", \"Topic4\", \"Topic4\", \"Topic4\", \"Topic5\", \"Topic5\", \"Topic5\", \"Topic5\", \"Topic5\", \"Topic5\", \"Topic5\", \"Topic5\", \"Topic5\", \"Topic5\", \"Topic5\", \"Topic5\", \"Topic5\", \"Topic5\", \"Topic5\", \"Topic5\", \"Topic5\", \"Topic5\", \"Topic5\", \"Topic5\", \"Topic5\", \"Topic5\", \"Topic5\", \"Topic5\", \"Topic5\", \"Topic5\", \"Topic5\", \"Topic5\", \"Topic5\", \"Topic5\", \"Topic5\", \"Topic5\", \"Topic5\", \"Topic5\", \"Topic5\", \"Topic5\", \"Topic5\", \"Topic5\", \"Topic6\", \"Topic6\", \"Topic6\", \"Topic6\", \"Topic6\", \"Topic6\", \"Topic6\", \"Topic6\", \"Topic6\", \"Topic6\", \"Topic6\", \"Topic6\", \"Topic6\", \"Topic6\", \"Topic6\", \"Topic6\", \"Topic6\", \"Topic6\", \"Topic6\", \"Topic6\", \"Topic6\", \"Topic6\", \"Topic6\", \"Topic6\", \"Topic6\", \"Topic6\", \"Topic6\", \"Topic6\", \"Topic6\", \"Topic6\", \"Topic6\", \"Topic6\", \"Topic6\", \"Topic6\", \"Topic6\", \"Topic6\", \"Topic6\", \"Topic6\", \"Topic6\", \"Topic6\", \"Topic6\", \"Topic6\", \"Topic6\", \"Topic7\", \"Topic7\", \"Topic7\", \"Topic7\", \"Topic7\", \"Topic7\", \"Topic7\", \"Topic7\", \"Topic7\", \"Topic7\", \"Topic7\", \"Topic7\", \"Topic7\", \"Topic7\", \"Topic7\", \"Topic7\", \"Topic7\", \"Topic7\", \"Topic7\", \"Topic7\", \"Topic7\", \"Topic7\", \"Topic7\", \"Topic7\", \"Topic7\", \"Topic7\", \"Topic7\", \"Topic7\", \"Topic7\", \"Topic7\", \"Topic7\", \"Topic7\", \"Topic7\", \"Topic7\", \"Topic7\", \"Topic7\", \"Topic7\", \"Topic7\", \"Topic7\", \"Topic7\", \"Topic7\", \"Topic7\", \"Topic7\", \"Topic7\", \"Topic7\", \"Topic7\", \"Topic7\", \"Topic7\", \"Topic8\", \"Topic8\", \"Topic8\", \"Topic8\", \"Topic8\", \"Topic8\", \"Topic8\", \"Topic8\", \"Topic8\", \"Topic8\", \"Topic8\", \"Topic8\", \"Topic8\", \"Topic8\", \"Topic8\", \"Topic8\", \"Topic8\", \"Topic8\", \"Topic8\", \"Topic8\", \"Topic8\", \"Topic8\", \"Topic8\", \"Topic8\", \"Topic8\", \"Topic8\", \"Topic8\", \"Topic8\", \"Topic8\", \"Topic8\", \"Topic8\", \"Topic8\", \"Topic8\", \"Topic8\", \"Topic8\", \"Topic8\", \"Topic8\", \"Topic8\", \"Topic8\", \"Topic8\", \"Topic8\", \"Topic8\", \"Topic8\", \"Topic8\", \"Topic9\", \"Topic9\", \"Topic9\", \"Topic9\", \"Topic9\", \"Topic9\", \"Topic9\", \"Topic9\", \"Topic9\", \"Topic9\", \"Topic9\", \"Topic9\", \"Topic9\", \"Topic9\", \"Topic9\", \"Topic9\", \"Topic9\", \"Topic9\", \"Topic9\", \"Topic9\", \"Topic9\", \"Topic9\", \"Topic9\", \"Topic9\", \"Topic9\", \"Topic9\", \"Topic9\", \"Topic9\", \"Topic9\", \"Topic9\", \"Topic9\", \"Topic9\", \"Topic9\", \"Topic9\", \"Topic9\", \"Topic9\", \"Topic9\", \"Topic9\", \"Topic9\", \"Topic9\", \"Topic9\", \"Topic9\", \"Topic9\", \"Topic10\", \"Topic10\", \"Topic10\", \"Topic10\", \"Topic10\", \"Topic10\", \"Topic10\", \"Topic10\", \"Topic10\", \"Topic10\", \"Topic10\", \"Topic10\", \"Topic10\", \"Topic10\", \"Topic10\", \"Topic10\", \"Topic10\", \"Topic10\", \"Topic10\", \"Topic10\", \"Topic10\", \"Topic10\", \"Topic10\", \"Topic10\", \"Topic10\", \"Topic10\", \"Topic10\", \"Topic10\", \"Topic10\", \"Topic10\", \"Topic10\", \"Topic10\", \"Topic10\", \"Topic10\", \"Topic10\", \"Topic10\", \"Topic10\", \"Topic10\", \"Topic10\", \"Topic10\", \"Topic10\"], \"Freq\": [6180.0, 17170.0, 2834.0, 8088.0, 3763.0, 2310.0, 4975.0, 1397.0, 4505.0, 2507.0, 1291.0, 3748.0, 3715.0, 1933.0, 2857.0, 1557.0, 656.0, 1232.0, 1129.0, 1185.0, 1180.0, 702.0, 994.0, 567.0, 474.0, 465.0, 1762.0, 616.0, 423.0, 560.0, 4504.677192415093, 2856.554994990362, 3746.9604957228435, 1477.399977437366, 891.3114910902311, 818.4674011076929, 756.8452403507503, 628.2176086226735, 546.5735461265581, 523.1967179469633, 491.40038238295926, 476.22719841190104, 475.407705409344, 473.5652491821524, 457.58411000198237, 453.1819172605296, 437.0377533105671, 383.2223726049458, 356.1931140765626, 271.37461443073795, 265.22628828767125, 308.59651982937754, 202.41924500356367, 176.0268421708348, 170.15303825291, 155.7573028942824, 145.2072514104893, 125.28524450508675, 114.89969923814654, 106.56793406393464, 4809.822208846615, 3585.8534331480255, 1755.669230495028, 613.5020973325271, 5176.996975146764, 13605.204551566547, 1474.471864125288, 5688.820030271567, 601.0586546394497, 507.3044269815924, 781.6266555313996, 2109.408803761261, 1404.8655411964087, 1547.9843447240278, 604.0044763479718, 549.5145731597404, 701.767143150564, 250.2665620782658, 206.1780102516371, 195.61859001068584, 176.77190291383866, 140.77290473872281, 121.16548331736435, 120.8824843555407, 109.0288927782638, 102.91123708180784, 97.95519949448548, 97.55507169418014, 92.89131542785354, 72.32667661656595, 69.1277220756402, 69.03291559014131, 60.44628380307581, 473.16903740205896, 64.83826266341276, 52.94967468200103, 49.7024710724418, 49.55409967177107, 48.41181854524928, 47.921495413031984, 46.774483330521214, 46.68605844698462, 45.6982766768858, 44.14681264993672, 43.25632841926687, 41.95455435881009, 358.7059418836359, 109.12114719880054, 417.43544501784356, 1237.1719959833072, 161.27946862397542, 299.2088252718716, 302.8946666058194, 54.40979138636349, 164.16691391893661, 108.86887730900477, 379.6098900869535, 962.3262458836922, 176.88169244714732, 1228.9983850884207, 130.2399272918387, 287.58422957900666, 122.42571062715173, 211.3610092212568, 132.31095383761146, 147.6794375154486, 105.88287619023184, 402.5768378864931, 385.94018929229253, 368.2797720657162, 222.97231522620262, 187.49007705830823, 160.77996580742666, 137.3966630349707, 135.48617289837398, 125.64784448228421, 106.00546060322269, 98.91985115094893, 98.63705348710363, 85.20016927238623, 71.68822837927671, 63.493986228559194, 62.97372892353121, 60.20490486035646, 59.15105034107678, 57.1651723301844, 55.51137915882543, 48.427439165587614, 44.679501451520196, 44.43816229442992, 42.588306177580435, 42.33825118148065, 41.70931027848079, 41.435527618228875, 40.10612697773677, 40.00430326182622, 39.81072833675553, 301.9668390009447, 363.4595994801929, 537.368649735577, 808.825465451878, 336.32285221159157, 65.37748357810987, 96.45215232259537, 163.98786472667388, 99.56017559541593, 545.0574384692595, 224.54163568732028, 105.46844033383455, 119.4860086502696, 89.92742948966128, 109.85922774397167, 110.78680450679944, 104.90125541230215, 120.52136179641467, 286.5613414237886, 276.7272815049258, 242.99358734350676, 229.28205694316577, 168.99133681916427, 160.50860535073602, 104.4332409250544, 103.6683979947143, 94.2857544532206, 85.52432507579408, 87.08134616370741, 83.31640843968658, 71.75111080191441, 66.18483595839469, 59.09656863255847, 58.870105495509705, 53.54029583305771, 50.5881452921714, 48.94425636731323, 48.905538759566106, 45.630456937515305, 43.887218065585394, 41.23883068535757, 39.616512275610056, 38.53639459603621, 37.4720018267775, 34.416218013659396, 31.943711153904996, 30.621112028721136, 28.920830010780143, 337.66298381296787, 232.62674097369427, 67.75237483694734, 1278.7236518334753, 90.36488310169644, 904.3186605300401, 127.9798667953831, 1135.1009726655018, 278.7118818681679, 108.04483220679941, 561.4471424515592, 240.70073213587187, 55.852659826417735, 124.5319355848362, 76.27161912493546, 128.80608633259453, 100.70068302382175, 78.03452892395616, 1395.7934201809735, 566.2161422052495, 380.2424121903557, 278.7936113023885, 260.98078963944846, 233.06411614108555, 169.45525441703896, 135.16277060754936, 123.97694342962023, 132.51084919846664, 111.31059295018726, 94.0056982499865, 83.85459390716898, 83.42078051104959, 76.31553997198725, 70.45454428461254, 64.19041780118279, 63.62833268798398, 60.41277529997619, 59.50702107746942, 56.68058047577188, 49.88334676260433, 47.218628434721666, 42.410724520994144, 42.33077531715273, 41.901595662898934, 41.17559757433918, 40.29352599709997, 39.021570685201894, 38.63129227730624, 391.5613852948573, 75.10507587322232, 1068.4524115607262, 65.68548406235776, 93.44311503922951, 167.34687252657315, 124.6646174459713, 68.14448784037562, 247.03872337784418, 208.19997991489586, 180.48247748945593, 127.33886254931468, 112.8844564176153, 105.63903873596784, 104.60099533793779, 96.04559798552295, 78.48913592249177, 77.11024275622866, 73.03348736589838, 71.77771880917655, 65.75497342653964, 64.82525369032781, 62.78693558408018, 58.62523118949707, 55.78702300799597, 54.58940246632822, 50.19106658308839, 50.113834088733, 47.53512121098689, 46.83446766084971, 45.07522115349819, 107.3967185945437, 39.708461912122054, 39.069057175604264, 37.43267412834808, 34.232775770894065, 33.89828345162178, 30.49589023315233, 195.73553912471343, 741.1673607652159, 575.9512805721329, 158.60411758579514, 596.0867321667463, 1002.9435815725222, 200.35566689697643, 879.6260339271614, 212.40965189190405, 243.8509526412822, 172.25409156381696, 128.65845416156287, 86.43756455528955, 464.69430182531255, 240.06593108490017, 146.2589103923123, 108.52701313125876, 87.38475618931476, 86.37578280642124, 81.67489374668452, 80.64361643246363, 65.20745019133597, 63.83014051890431, 60.6601962404978, 59.06689398897656, 58.76856128723821, 57.97858183031303, 57.4832294612022, 51.84722442766223, 49.97508803426519, 44.29840941906024, 44.24395281470313, 41.272028355134886, 40.99147789805007, 40.80164826724021, 40.43369635156595, 40.41890921651165, 39.942346040362, 38.25025726231748, 37.61661622971582, 36.48446302964787, 36.43726789963974, 36.180883055050856, 40.25602267177485, 263.2533975226005, 90.63794383735292, 167.2298467177063, 158.84949805215854, 68.54041632959255, 189.74333210607736, 168.15216726298192, 256.73764759926775, 197.3330472057284, 55.013058500388354, 78.06132125136264, 101.5357671458118, 67.99761409342895, 85.22586968942365, 62.86503509064899, 66.97690178274104, 58.55783123510559, 655.3307539518659, 473.17651429090415, 422.82726702467187, 356.6478122796506, 102.37516796929357, 74.10332120659012, 61.90389021415011, 57.99615260971531, 57.690605249791545, 57.68196630894436, 51.69393566015526, 48.07245445022722, 47.786315143056775, 45.74701541464236, 45.136414449819554, 44.97010605251969, 61.82999020848069, 41.25146736172137, 40.22620537366864, 37.12531048797775, 35.84124031196224, 34.09769730362628, 33.574620456225574, 31.829725569021008, 31.10367774272112, 29.716512515759003, 29.67132679466772, 27.27920357372526, 27.121769719781884, 27.121960836496065, 198.12571483947377, 108.94112674460274, 66.13703999359886, 279.1004684388374, 206.5424804157896, 196.63517833380973, 74.05492330995061, 177.4982887294258, 165.27385348300092, 225.99021918800122, 119.67550882774538, 73.66474553061305, 69.6615499259715, 61.56303970436009, 342.3375275197797, 252.86616303018533, 222.77070530531702, 146.83261967245113, 139.62784430205866, 107.7349531629483, 103.9454097091636, 85.45552077834365, 78.67172183942948, 85.56444358067901, 73.62099699404914, 98.70844510521947, 72.29126175561225, 67.52119199827102, 66.68661961953445, 63.98031303889233, 61.648304938382864, 60.40063350686575, 57.11122758462758, 55.28123530429852, 48.22459831893068, 48.18852067765109, 47.42415197075317, 47.217364982435555, 42.809320105234676, 42.19228684479977, 41.918403768461964, 56.79582131685545, 38.117365547342445, 37.63578084940094, 51.22021574592166, 116.3820219281458, 118.98045337020355, 84.76072651445172, 503.37621720057433, 604.3699902951565, 553.2856744969802, 110.09815662243875, 157.62181518862204, 66.34154290657735, 77.01612547551454, 67.95078047480098, 64.61444349199292, 144.21870252341623, 120.210986083643, 114.00093008872751, 112.80340470130781, 93.75228980262735, 93.55271854194598, 91.51181143405852, 76.43616982250043, 74.58008495823357, 62.907126870382605, 54.41596707609208, 52.35155428477378, 47.126036078734245, 46.39441787161278, 44.350292946535845, 47.38157768295093, 39.365353526113694, 38.18872110166102, 38.09397559827785, 41.28451810026274, 37.72606839105865, 32.801987617185986, 29.482319841407026, 29.13154634049226, 29.13154632860101, 27.69401851023562, 25.136691011499124, 24.755988350968924, 24.69153024227092, 23.33014662006197, 137.79486251590157, 169.60702757680568, 123.2393024183548, 110.47899676587853, 175.73263026250078, 146.83334019107104, 150.2003329151194, 34.79941810316124, 47.31947398426224, 35.817214768531905, 44.585687604104365], \"Term\": [\"quality\", \"good\", \"fast\", \"product\", \"delivery\", \"fast delivery\", \"value\", \"fabric\", \"good value\", \"price\", \"good quality\", \"product good\", \"quality product\", \"service\", \"good good\", \"order\", \"reed\", \"beautiful\", \"like\", \"color\", \"shop\", \"cheap\", \"quality good\", \"soft\", \"reed reed\", \"wear\", \"good product\", \"bag\", \"money\", \"comfortable\", \"good value\", \"good good\", \"product good\", \"product quality\", \"value fast\", \"value good\", \"company\", \"speed\", \"ship company\", \"company good\", \"shop good\", \"good delivery\", \"provide\", \"delivery speed\", \"service provide\", \"provide ship\", \"delivery service\", \"fair\", \"service good\", \"providing\", \"providing service\", \"good fast\", \"fair product\", \"value quality\", \"transport company\", \"good transport\", \"value service\", \"speed delivery\", \"fair value\", \"good store\", \"value\", \"quality product\", \"service\", \"good service\", \"quality\", \"good\", \"good product\", \"product\", \"ship\", \"service shop\", \"quality good\", \"delivery\", \"fast delivery\", \"fast\", \"shop\", \"good quality\", \"cheap\", \"long\", \"cheap price\", \"wait\", \"bad\", \"answer\", \"price baht\", \"price cheap\", \"slowly\", \"chat\", \"long time\", \"product cheap\", \"tell\", \"sell\", \"ask\", \"wait long\", \"return\", \"price good\", \"value price\", \"correct\", \"waiting\", \"good cheap\", \"body\", \"delivery slow\", \"relate\", \"10 baht\", \"product complete\", \"shop deliver\", \"cheap product\", \"send good\", \"good price\", \"want\", \"send\", \"price\", \"complete\", \"time\", \"buy\", \"job\", \"deliver\", \"quickly\", \"shop\", \"product\", \"baht\", \"good\", \"come\", \"good product\", \"store\", \"order\", \"okay\", \"delivery\", \"use\", \"small\", \"cute\", \"suitable\", \"suitable price\", \"look\", \"like lot\", \"nice\", \"discount\", \"lot like\", \"like like\", \"big\", \"sew\", \"leave\", \"good like\", \"little small\", \"shape\", \"stuff\", \"discount price\", \"buy discount\", \"compact\", \"leather\", \"wrinkle\", \"child\", \"bag good\", \"beautiful like\", \"cute bag\", \"considered\", \"price consider\", \"definitely\", \"strong\", \"lot\", \"little\", \"bag\", \"like\", \"okay\", \"short\", \"line\", \"use\", \"think\", \"price\", \"beautiful\", \"consider\", \"size\", \"overall\", \"buy\", \"worth\", \"color\", \"good\", \"mm\", \"pack\", \"mm mm\", \"received product\", \"worth price\", \"exactly\", \"product pack\", \"exactly order\", \"disappoint\", \"pack product\", \"wrong color\", \"deduct\", \"beautiful bag\", \"successfully\", \"deduct star\", \"pack good\", \"product exactly\", \"price beautiful\", \"meet\", \"service fast\", \"satisfy\", \"market\", \"good pack\", \"product worth\", \"wrap\", \"product successfully\", \"color exactly\", \"product affordable\", \"successfully good\", \"order send\", \"received\", \"delivery fast\", \"fast good\", \"fast\", \"package\", \"fast delivery\", \"star\", \"delivery\", \"worth\", \"wrong\", \"product\", \"order\", \"delivery product\", \"send\", \"overall\", \"price\", \"color\", \"beautiful\", \"fabric\", \"soft\", \"good fabric\", \"fabric good\", \"sensitive\", \"soft fabric\", \"round\", \"fabric comfortable\", \"fabric soft\", \"shirt\", \"cover\", \"smooth\", \"soft comfortable\", \"affordable\", \"texture\", \"straight\", \"affordable price\", \"consider good\", \"comfortable fabric\", \"real\", \"ok\", \"dad\", \"good soft\", \"delivery like\", \"order round\", \"sensitive delivery\", \"beautiful shirt\", \"soft smooth\", \"delivery sensitive\", \"fabric fast\", \"comfortable\", \"fit\", \"good\", \"try\", \"comfortable wear\", \"order\", \"like\", \"consider\", \"reasonable\", \"reasonable price\", \"pretty\", \"quality price\", \"accord price\", \"beautiful beautiful\", \"great\", \"pretty good\", \"love\", \"beautiful good\", \"lovely\", \"product beautiful\", \"price reasonable\", \"quality accord\", \"good beautiful\", \"okay product\", \"price delivery\", \"great value\", \"slow delivery\", \"quality reasonable\", \"shoulder\", \"high\", \"like beautiful\", \"product fast\", \"bite slow\", \"product reasonable\", \"delivery price\", \"shoulder bag\", \"year\", \"code\", \"slow\", \"good quality\", \"beautiful\", \"accord\", \"price\", \"quality\", \"delivery good\", \"good\", \"quality good\", \"delivery\", \"product\", \"quality product\", \"okay\", \"wear\", \"ordered\", \"stretch\", \"pant\", \"brown\", \"break\", \"piece\", \"quality suitable\", \"waist\", \"blue\", \"expect\", \"light\", \"feel\", \"pro\", \"terrible\", \"easy\", \"strap\", \"order black\", \"baht worth\", \"arrange\", \"available\", \"reduce\", \"lack\", \"hip\", \"change\", \"carry\", \"point\", \"normal\", \"bite late\", \"work good\", \"order size\", \"size\", \"10\", \"black\", \"comfortable wear\", \"late\", \"baht\", \"comfortable\", \"order\", \"color\", \"condition\", \"free\", \"worth\", \"star\", \"send\", \"bite\", \"buy\", \"consider\", \"reed\", \"reed reed\", \"money\", \"value money\", \"excellent\", \"free delivery\", \"color good\", \"good reed\", \"staff\", \"product delivery\", \"color beautiful\", \"quality value\", \"pleasant\", \"good color\", \"beautiful quality\", \"money fast\", \"impressive\", \"gray\", \"price expensive\", \"old\", \"fall\", \"sensitivity\", \"stain\", \"happy\", \"ordering\", \"black color\", \"baht free\", \"reduction\", \"cheap buy\", \"delivery fee\", \"item\", \"beautiful color\", \"expensive\", \"color\", \"beautiful\", \"shop\", \"free\", \"service\", \"value\", \"good\", \"delivery\", \"buy\", \"service shop\", \"order\", \"receive\", \"picture\", \"poor\", \"receive product\", \"pink\", \"value product\", \"promotion\", \"red\", \"match\", \"order color\", \"product price\", \"color order\", \"product like\", \"damage\", \"right\", \"sent\", \"shop poor\", \"product poor\", \"product receive\", \"deliver fast\", \"receive good\", \"doe match\", \"range\", \"like picture\", \"confuse\", \"products deliver\", \"schedule\", \"product accord\", \"purple\", \"poor delivery\", \"product product\", \"products\", \"doe\", \"customer\", \"color\", \"order\", \"product\", \"accord\", \"like\", \"thank\", \"deliver\", \"black\", \"wrong\", \"seller\", \"beautiful product\", \"site\", \"flash\", \"sale\", \"cost\", \"new\", \"pay\", \"trader\", \"white\", \"flash sale\", \"person\", \"ninja\", \"flash cell\", \"specify\", \"different\", \"buy flash\", \"delivered\", \"come subsidize\", \"subsidy\", \"accept\", \"request\", \"acceptable\", \"cost effective\", \"effective\", \"shop ship\", \"subsidize new\", \"good okay\", \"quality providing\", \"hot\", \"worthwhile\", \"day\", \"come\", \"subsidize\", \"time\", \"beautiful\", \"product\", \"problem\", \"complete\", \"complete product\", \"worth\"], \"Total\": [6180.0, 17170.0, 2834.0, 8088.0, 3763.0, 2310.0, 4975.0, 1397.0, 4505.0, 2507.0, 1291.0, 3748.0, 3715.0, 1933.0, 2857.0, 1557.0, 656.0, 1232.0, 1129.0, 1185.0, 1180.0, 702.0, 994.0, 567.0, 474.0, 465.0, 1762.0, 616.0, 423.0, 560.0, 4505.602611013334, 2857.480369605089, 3748.5569072258336, 1478.3254908711597, 892.2368281850456, 819.3927882821391, 757.7706354311533, 629.1430421485509, 547.4988986775445, 524.1220643648678, 492.32796593893886, 477.1531063813315, 476.3330761178614, 474.4906429995142, 458.50944019904773, 454.10724613836845, 437.96314379900906, 384.1478563157518, 357.1185726347487, 272.29996066851504, 266.1516320524985, 309.75679430862294, 203.3446019360268, 176.9521944342015, 171.07840685211266, 156.6827239838089, 146.1326207148106, 126.21076232535046, 115.82520846684709, 107.49331727435089, 4975.921523988423, 3715.337562726977, 1933.992706587051, 652.1801173741813, 6180.773909340751, 17170.154980100582, 1762.883114705604, 8088.744847811268, 689.2989200292346, 577.7908764468563, 994.8619622089994, 3763.127810630822, 2310.0888555661895, 2834.503262174629, 1180.9760492248051, 1291.5086768769902, 702.7844730212248, 251.18674481609577, 207.098223910412, 196.53874650581338, 177.6921415638975, 141.69305105682116, 122.08573155688488, 121.80266113678937, 109.94910365399838, 103.83165511781797, 98.87530789610534, 98.47519307573322, 93.81150219311375, 73.24914422506562, 70.04789458667116, 69.95302067200475, 61.366495864431435, 480.6772713702798, 65.87018528832154, 53.869993283900655, 50.622635338731804, 50.47437274575801, 49.3321918830749, 48.84171667328077, 47.694811408063515, 47.60636275555372, 46.618397214396246, 45.06727267231538, 44.17652860562749, 42.87469910666165, 378.7782915286287, 127.09123979982922, 627.9304709945926, 2507.7555511170362, 217.88926449585617, 475.7476605688779, 554.0903309344645, 57.971915246263386, 278.04983948071066, 164.63542132008217, 1180.9760492248051, 8088.744847811268, 436.3445169288627, 17170.154980100582, 254.2854234988847, 1762.883114705604, 316.6783700778189, 1557.4549708592192, 555.795836626327, 3763.127810630822, 289.51203323739594, 403.49944355286345, 386.8628170380095, 369.25431120300556, 223.8983926483416, 188.41790449391567, 161.70248571005342, 138.31930281594606, 136.40885544706526, 126.57033531957735, 106.92796909154781, 99.84251086441375, 99.55967662817949, 86.12288827141553, 72.61084358071703, 64.41650505352716, 63.89637420045606, 61.127507266763196, 60.073620915910745, 58.08777878376205, 56.44183224192089, 49.35002699391363, 45.6020917083441, 45.36078318675911, 43.51111581767298, 43.260884315828974, 42.631866571737014, 42.35814527797918, 41.02872236561828, 40.92705241229466, 40.733376418943834, 321.8445672689968, 398.20491927908455, 616.4880434651117, 1129.8082382061248, 555.795836626327, 74.74994356097841, 122.96927269379839, 289.51203323739594, 155.47081058730444, 2507.7555511170362, 1232.4147549045229, 232.8789704943829, 383.71254619165353, 230.45728932671352, 554.0903309344645, 574.0764385136889, 1185.9385213291532, 17170.154980100582, 287.48297852333576, 277.6492362968674, 243.91521823421093, 230.20375664906587, 169.91312464923234, 161.43033502178199, 105.35496996095108, 104.59010181082472, 95.20768679458206, 86.44624848216822, 88.0202098780923, 84.23818065128317, 72.67288197312938, 67.1065852226739, 60.01828041171043, 59.79182172766656, 54.46199783002188, 51.51020542994053, 49.866007781354895, 49.8272682411983, 46.55228635756987, 44.80921718371025, 42.1606939098916, 40.53822298146684, 39.45829126273729, 38.393685283853095, 35.33791761961826, 32.86544061947645, 31.542761060762235, 29.842705787195857, 348.9859164256522, 254.8832580170473, 76.00758504782974, 2834.503262174629, 118.38893859451127, 2310.0888555661895, 196.79392452984823, 3763.127810630822, 574.0764385136889, 204.92432363247477, 8088.744847811268, 1557.4549708592192, 67.15352693823097, 627.9304709945926, 230.45728932671352, 2507.7555511170362, 1185.9385213291532, 1232.4147549045229, 1397.5554279716737, 567.1258102230784, 381.15190225239456, 279.70322830113804, 261.89032794640246, 233.97358063239233, 170.36481862509132, 136.07270114565233, 124.8864306327727, 133.56271983436596, 112.22100508505245, 94.91518373147306, 84.76407021403185, 84.3303816747606, 77.22545420421486, 71.36409929226522, 65.10000063287181, 64.53804635690969, 61.32223191172357, 60.416821287406066, 57.59030914948444, 50.792782164977005, 48.12809345916575, 43.32069781057245, 43.24028567021857, 42.811120416536994, 42.085080510126325, 41.202991874905244, 39.931109781315875, 39.54076157420014, 560.5176841891052, 107.10602407309294, 17170.154980100582, 100.53842547578444, 253.0967332993305, 1557.4549708592192, 1129.8082382061248, 232.8789704943829, 247.95756102292498, 209.11879980832785, 181.40140918444095, 128.25778145923474, 113.80332735550688, 106.55783511639126, 105.51988970470629, 96.96447102017915, 79.40798962871243, 78.02911306461462, 73.95270042617203, 72.69661156255795, 66.67377624572417, 65.74408566942815, 63.70577392880068, 59.544177141463926, 56.70602538807266, 55.50827265669176, 51.1098968697622, 51.032661386929, 48.454073845933785, 47.753402156022005, 45.994109805413046, 109.79424984093434, 40.62729795158827, 39.98789688355361, 38.351560230048, 35.151687792087536, 34.81711791030402, 31.41495022902407, 241.00616248901406, 1291.5086768769902, 1232.4147549045229, 297.18466429474086, 2507.7555511170362, 6180.773909340751, 621.3208412141702, 17170.154980100582, 994.8619622089994, 3763.127810630822, 8088.744847811268, 3715.337562726977, 555.795836626327, 465.83962693033135, 240.98189139511933, 147.1721877580805, 109.44945631147145, 88.29802277018277, 87.2891476943767, 82.58871644974936, 81.55708513380492, 66.12067902403703, 64.74341543110452, 61.57357154641969, 59.980315132357234, 59.68187194378261, 58.891901368473384, 58.39648593980953, 52.760508492012065, 50.88843275233854, 45.211689994845194, 45.15721177029824, 42.185420449912115, 41.90507420494759, 41.714962445381296, 41.346979457003364, 41.33215074661805, 40.855655377300295, 39.163559953297856, 38.529949840085315, 37.397739161945964, 37.35049600223098, 37.09426088109715, 41.85330836858729, 383.71254619165353, 111.0284771395741, 235.9887593534954, 253.0967332993305, 85.35571121601089, 436.3445169288627, 560.5176841891052, 1557.4549708592192, 1185.9385213291532, 82.99404316739405, 211.9763374307474, 574.0764385136889, 196.79392452984823, 627.9304709945926, 165.6006428518568, 554.0903309344645, 232.8789704943829, 656.248801450411, 474.09455287252376, 423.7467989158707, 357.5659124041887, 103.29327718311339, 75.02153115554397, 62.822028714653975, 58.914196291829384, 58.60872653680631, 58.600140191867276, 52.612100866003566, 48.99054195462818, 48.704553331866386, 46.665191555387054, 46.0546464500502, 45.88818635755844, 63.171741390271606, 42.169649588147124, 41.14440405807686, 38.04364836522348, 36.7594469838915, 35.015840286120564, 34.49285581063092, 32.747844326475814, 32.02190774187269, 30.63474936904335, 30.589479543918195, 28.197562656067618, 28.040095711375518, 28.040428457661687, 316.2117986635682, 174.57849808711026, 101.85235218728724, 1185.9385213291532, 1232.4147549045229, 1180.9760492248051, 211.9763374307474, 1933.992706587051, 4975.921523988423, 17170.154980100582, 3763.127810630822, 554.0903309344645, 577.7908764468563, 1557.4549708592192, 343.2509667840981, 253.77970096119867, 223.68408408590713, 147.74600041020722, 140.54354417446075, 108.64839472045297, 104.85890867712118, 86.36901710237936, 79.58509425688173, 86.61812099327528, 74.53556046534698, 99.94906457003731, 73.20472395227871, 68.43470759070495, 67.60020595024257, 64.89382948612753, 62.5616889964024, 61.35190276222736, 58.024607621532674, 56.19464069720204, 49.138044817230764, 49.10186979961686, 48.337809904554895, 48.13117152902011, 43.72277172569301, 43.1056674718307, 42.83197019892593, 58.074326378867724, 39.030776192933715, 38.54915898364027, 52.6904636265858, 139.1872488508045, 143.98513891333263, 108.75919031582809, 1185.9385213291532, 1557.4549708592192, 8088.744847811268, 297.18466429474086, 1129.8082382061248, 127.1045476989426, 278.04983948071066, 235.9887593534954, 204.92432363247477, 145.1233549268457, 121.11560546905478, 114.90556616053561, 113.70805100459647, 94.65688827416237, 94.45737973298327, 92.41645131737722, 77.34085474212831, 75.48481298196194, 63.811767912198924, 55.32054370024614, 53.25623195335877, 48.030630201931665, 47.29904391793287, 45.25494456963206, 48.44200212568531, 40.269929229532124, 39.093626238161264, 38.99855641030469, 42.27238541378835, 38.63074891118705, 33.70660868389864, 30.387026751089873, 30.036108399673758, 30.036108398462616, 28.598659501858947, 26.041243372479208, 25.660642498710633, 25.59611159201443, 24.23479753107272, 167.06186423792815, 265.1529564731507, 254.2854234988847, 229.2050745034241, 475.7476605688779, 1232.4147549045229, 8088.744847811268, 57.24761014885499, 217.88926449585617, 66.98690414275073, 574.0764385136889], \"loglift\": [30.0, 29.0, 28.0, 27.0, 26.0, 25.0, 24.0, 23.0, 22.0, 21.0, 20.0, 19.0, 18.0, 17.0, 16.0, 15.0, 14.0, 13.0, 12.0, 11.0, 10.0, 9.0, 8.0, 7.0, 6.0, 5.0, 4.0, 3.0, 2.0, 1.0, 0.8048, 0.8047, 0.8046, 0.8044, 0.804, 0.8039, 0.8038, 0.8036, 0.8033, 0.8033, 0.8031, 0.8031, 0.8031, 0.8031, 0.803, 0.803, 0.8029, 0.8026, 0.8024, 0.8016, 0.8015, 0.8013, 0.8005, 0.7998, 0.7996, 0.7991, 0.7987, 0.7977, 0.797, 0.7964, 0.7711, 0.7696, 0.7083, 0.7439, 0.6278, 0.5723, 0.6264, 0.4531, 0.668, 0.6749, 0.5638, 0.2262, 0.3077, 0.2001, 0.1345, -0.0495, 2.2537, 2.2515, 2.2507, 2.2505, 2.25, 2.2487, 2.2476, 2.2476, 2.2468, 2.2463, 2.2458, 2.2458, 2.2453, 2.2425, 2.2419, 2.2419, 2.2401, 2.2394, 2.2394, 2.2379, 2.2368, 2.2368, 2.2363, 2.2361, 2.2357, 2.2356, 2.2352, 2.2345, 2.2341, 2.2335, 2.2007, 2.1027, 1.8469, 1.5486, 1.9543, 1.7914, 1.6512, 2.1918, 1.7283, 1.8416, 1.1202, 0.1263, 1.3522, -0.3818, 1.5861, 0.442, 1.3048, 0.2579, 0.8199, -0.9828, 1.2493, 2.5846, 2.5845, 2.5843, 2.5828, 2.582, 2.5812, 2.5802, 2.5801, 2.5796, 2.5782, 2.5776, 2.5776, 2.5761, 2.5741, 2.5725, 2.5724, 2.5717, 2.5714, 2.5709, 2.5703, 2.568, 2.5665, 2.5664, 2.5655, 2.5654, 2.565, 2.5649, 2.5642, 2.5641, 2.564, 2.5232, 2.4956, 2.4496, 2.2527, 2.0846, 2.4529, 2.344, 2.0185, 2.1412, 1.0607, 0.8842, 1.7948, 1.4202, 1.6459, 0.9688, 0.9418, 0.1616, -2.3722, 2.6523, 2.6522, 2.6517, 2.6515, 2.6501, 2.6498, 2.6467, 2.6466, 2.6458, 2.6448, 2.6448, 2.6445, 2.6427, 2.6417, 2.64, 2.64, 2.6384, 2.6374, 2.6368, 2.6368, 2.6355, 2.6347, 2.6334, 2.6325, 2.6318, 2.6312, 2.6291, 2.627, 2.6258, 2.6241, 2.6225, 2.5641, 2.5405, 1.8595, 2.3854, 1.7176, 2.2252, 1.457, 1.9329, 2.0154, -0.0122, 0.7882, 2.4712, 1.0376, 1.5497, -0.3133, 0.1894, -0.1041, 2.7162, 2.7158, 2.715, 2.7142, 2.7139, 2.7135, 2.7121, 2.7107, 2.7101, 2.7095, 2.7093, 2.7078, 2.7066, 2.7066, 2.7056, 2.7046, 2.7034, 2.7032, 2.7025, 2.7023, 2.7015, 2.6994, 2.6984, 2.6962, 2.6962, 2.696, 2.6956, 2.6951, 2.6944, 2.6942, 2.3587, 2.3625, -0.0595, 2.2918, 1.721, 0.4867, 0.5133, 1.4885, 2.866, 2.8654, 2.8647, 2.8626, 2.8617, 2.8611, 2.861, 2.8602, 2.8581, 2.8579, 2.8573, 2.857, 2.8559, 2.8557, 2.8552, 2.8542, 2.8534, 2.8531, 2.8516, 2.8516, 2.8506, 2.8503, 2.8496, 2.8477, 2.8469, 2.8465, 2.8455, 2.8433, 2.843, 2.8401, 2.6617, 2.3144, 2.1091, 2.2418, 1.433, 1.0513, 1.738, -0.1017, 1.3257, 0.1333, -0.9795, -0.4933, 1.0088, 2.9444, 2.9431, 2.9407, 2.9384, 2.9365, 2.9364, 2.9358, 2.9356, 2.933, 2.9327, 2.932, 2.9316, 2.9315, 2.9313, 2.9311, 2.9294, 2.9288, 2.9265, 2.9265, 2.925, 2.9249, 2.9248, 2.9246, 2.9246, 2.9243, 2.9233, 2.9229, 2.9222, 2.9222, 2.922, 2.908, 2.5701, 2.744, 2.6025, 2.4811, 2.7275, 2.1142, 1.7429, 1.1442, 1.1535, 2.5357, 1.9479, 1.2146, 1.8842, 0.9498, 1.9783, 0.8339, 1.5664, 3.02, 3.0195, 3.0192, 3.0188, 3.0125, 3.0091, 3.0067, 3.0057, 3.0056, 3.0056, 3.0038, 3.0025, 3.0024, 3.0015, 3.0013, 3.0012, 2.9999, 2.9994, 2.9988, 2.997, 2.9961, 2.9948, 2.9944, 2.993, 2.9923, 2.991, 2.9909, 2.9883, 2.9881, 2.9881, 2.5539, 2.5498, 2.5896, 1.5747, 1.2352, 1.2287, 1.9697, 0.633, -0.3834, -1.309, -0.4268, 1.0036, 0.9058, -0.2093, 3.0354, 3.0344, 3.034, 3.0319, 3.0315, 3.0296, 3.0293, 3.0274, 3.0265, 3.0258, 3.0257, 3.0256, 3.0255, 3.0246, 3.0244, 3.0239, 3.0233, 3.0224, 3.0222, 3.0217, 3.0193, 3.0193, 3.019, 3.0189, 3.0169, 3.0166, 3.0165, 3.0158, 3.0144, 3.0141, 3.0098, 2.8591, 2.8473, 2.7887, 2.1811, 2.0914, 0.3557, 2.0451, 1.0684, 2.3879, 1.7543, 1.7931, 1.8838, 3.4794, 3.4781, 3.4777, 3.4776, 3.476, 3.476, 3.4758, 3.4739, 3.4736, 3.4714, 3.4691, 3.4685, 3.4666, 3.4663, 3.4654, 3.4635, 3.4629, 3.4622, 3.4622, 3.462, 3.4619, 3.4584, 3.4554, 3.4551, 3.4551, 3.4535, 3.4503, 3.4497, 3.4497, 3.4476, 3.293, 3.0388, 2.7613, 2.7558, 2.4897, 1.3582, -0.5006, 2.9878, 1.9586, 2.8596, 0.9303], \"logprob\": [30.0, 29.0, 28.0, 27.0, 26.0, 25.0, 24.0, 23.0, 22.0, 21.0, 20.0, 19.0, 18.0, 17.0, 16.0, 15.0, 14.0, 13.0, 12.0, 11.0, 10.0, 9.0, 8.0, 7.0, 6.0, 5.0, 4.0, 3.0, 2.0, 1.0, -2.7621, -3.2176, -2.9462, -3.8769, -4.3822, -4.4675, -4.5458, -4.7321, -4.8713, -4.915, -4.9777, -5.009, -5.0108, -5.0147, -5.049, -5.0586, -5.0949, -5.2263, -5.2995, -5.5714, -5.5944, -5.4429, -5.8646, -6.0043, -6.0382, -6.1266, -6.1968, -6.3443, -6.4309, -6.5062, -2.6965, -2.9902, -3.7043, -4.7558, -2.623, -1.6567, -3.8789, -2.5287, -4.7763, -4.9458, -4.5136, -3.5208, -3.9272, -3.8302, -4.7714, -4.8659, -3.1712, -4.2023, -4.3961, -4.4486, -4.5499, -4.7777, -4.9276, -4.93, -5.0332, -5.0909, -5.1403, -5.1444, -5.1934, -5.4436, -5.4888, -5.4902, -5.623, -3.5654, -5.5529, -5.7555, -5.8187, -5.8217, -5.8451, -5.8552, -5.8795, -5.8814, -5.9027, -5.9373, -5.9577, -5.9882, -3.8423, -5.0323, -3.6907, -2.6042, -4.6417, -4.0237, -4.0114, -5.7283, -4.6239, -5.0347, -3.7857, -2.8555, -4.5493, -2.6108, -4.8554, -4.0633, -4.9173, -4.3712, -4.8396, -4.7298, -5.0625, -3.3952, -3.4374, -3.4842, -3.986, -4.1593, -4.313, -4.4702, -4.4842, -4.5596, -4.7296, -4.7988, -4.8016, -4.9481, -5.1207, -5.2421, -5.2503, -5.2953, -5.313, -5.3471, -5.3765, -5.513, -5.5935, -5.599, -5.6415, -5.6474, -5.6623, -5.6689, -5.7015, -5.7041, -5.7089, -3.6827, -3.4974, -3.1064, -2.6975, -3.575, -5.2129, -4.824, -4.2933, -4.7923, -3.0922, -3.979, -4.7346, -4.6099, -4.8941, -4.6939, -4.6855, -4.74, -4.6012, -3.6665, -3.7015, -3.8314, -3.8895, -4.1946, -4.2461, -4.6759, -4.6833, -4.7782, -4.8757, -4.8576, -4.9018, -5.0513, -5.132, -5.2453, -5.2492, -5.3441, -5.4008, -5.4338, -5.4346, -5.5039, -5.5429, -5.6051, -5.6452, -5.6729, -5.7009, -5.786, -5.8605, -5.9028, -5.9599, -3.5024, -3.875, -5.1086, -2.1709, -4.8206, -2.5173, -4.4726, -2.29, -3.6943, -4.6419, -2.994, -3.8409, -5.3018, -4.4999, -4.9902, -4.4662, -4.7123, -4.9673, -2.0213, -2.9236, -3.3217, -3.6321, -3.6981, -3.8112, -4.13, -4.3561, -4.4425, -4.3759, -4.5502, -4.7192, -4.8335, -4.8386, -4.9277, -5.0076, -5.1007, -5.1095, -5.1613, -5.1765, -5.2251, -5.3529, -5.4078, -5.5151, -5.517, -5.5272, -5.5447, -5.5664, -5.5984, -5.6085, -3.2924, -4.9437, -2.2886, -5.0777, -4.7252, -4.1425, -4.4369, -5.0409, -3.6007, -3.7717, -3.9146, -4.2634, -4.3839, -4.4502, -4.4601, -4.5454, -4.7473, -4.765, -4.8193, -4.8366, -4.9243, -4.9385, -4.9705, -5.0391, -5.0887, -5.1104, -5.1944, -5.1959, -5.2487, -5.2636, -5.3019, -4.4337, -5.4287, -5.4449, -5.4877, -5.577, -5.5869, -5.6926, -3.8335, -2.502, -2.7542, -4.0438, -2.7198, -2.1995, -3.8101, -2.3307, -3.7517, -3.6137, -3.9612, -4.2531, -4.6508, -2.8917, -3.5522, -4.0477, -4.3461, -4.5627, -4.5744, -4.6303, -4.643, -4.8555, -4.8768, -4.9278, -4.9544, -4.9595, -4.973, -4.9816, -5.0848, -5.1215, -5.2421, -5.2433, -5.3129, -5.3197, -5.3243, -5.3334, -5.3338, -5.3456, -5.3889, -5.4056, -5.4362, -5.4375, -5.4445, -5.3378, -3.4599, -4.5262, -3.9137, -3.9651, -4.8056, -3.7874, -3.9082, -3.485, -3.7482, -5.0255, -4.6756, -4.4127, -4.8136, -4.5878, -4.8921, -4.8287, -4.963, -2.4734, -2.7991, -2.9116, -3.0818, -4.3299, -4.6531, -4.833, -4.8982, -4.9035, -4.9036, -5.0132, -5.0859, -5.0918, -5.1354, -5.1489, -5.1526, -4.8342, -5.2389, -5.2641, -5.3443, -5.3795, -5.4293, -5.4448, -5.4982, -5.5213, -5.5669, -5.5684, -5.6525, -5.6582, -5.6582, -3.6697, -4.2678, -4.7668, -3.327, -3.6281, -3.6772, -4.6538, -3.7796, -3.851, -3.5381, -4.1738, -4.6591, -4.7149, -4.8385, -3.1061, -3.4091, -3.5358, -3.9526, -4.0029, -4.2622, -4.2981, -4.4939, -4.5766, -4.4927, -4.643, -4.3498, -4.6612, -4.7295, -4.7419, -4.7833, -4.8205, -4.8409, -4.8969, -4.9295, -5.0661, -5.0668, -5.0828, -5.0872, -5.1852, -5.1997, -5.2062, -4.9025, -5.3013, -5.314, -5.0058, -4.185, -4.163, -4.5021, -2.7206, -2.5377, -2.626, -4.2406, -3.8817, -4.7471, -4.5979, -4.7231, -4.7735, -3.523, -3.7051, -3.7581, -3.7687, -3.9537, -3.9558, -3.9779, -4.1579, -4.1825, -4.3527, -4.4977, -4.5364, -4.6415, -4.6572, -4.7022, -4.6361, -4.8215, -4.8518, -4.8543, -4.7739, -4.864, -5.0039, -5.1106, -5.1225, -5.1225, -5.1731, -5.27, -5.2853, -5.2879, -5.3446, -3.5686, -3.3609, -3.6802, -3.7895, -3.3254, -3.505, -3.4824, -4.9447, -4.6374, -4.9159, -4.6969]}, \"token.table\": {\"Topic\": [2, 7, 2, 10, 10, 2, 4, 6, 9, 6, 5, 5, 2, 7, 2, 7, 2, 3, 4, 7, 3, 2, 3, 7, 8, 8, 7, 3, 4, 6, 8, 10, 4, 6, 3, 6, 8, 6, 3, 10, 8, 5, 3, 3, 6, 7, 7, 6, 7, 9, 8, 7, 2, 7, 7, 2, 3, 7, 8, 3, 10, 7, 7, 2, 2, 8, 2, 2, 3, 6, 3, 4, 7, 8, 9, 8, 4, 8, 9, 2, 10, 10, 5, 7, 5, 5, 7, 3, 1, 1, 2, 4, 10, 2, 10, 2, 4, 7, 9, 3, 5, 7, 5, 3, 2, 10, 10, 5, 7, 9, 3, 3, 5, 9, 2, 9, 10, 4, 4, 3, 2, 5, 9, 9, 10, 1, 2, 4, 5, 6, 8, 1, 4, 8, 8, 1, 6, 5, 6, 4, 7, 5, 1, 2, 1, 10, 4, 3, 3, 2, 9, 9, 7, 10, 4, 4, 8, 7, 4, 5, 8, 5, 7, 5, 5, 5, 5, 1, 1, 1, 8, 1, 2, 4, 8, 1, 4, 1, 4, 7, 5, 7, 10, 10, 10, 2, 7, 8, 8, 1, 2, 3, 4, 5, 6, 8, 6, 2, 8, 1, 5, 1, 1, 3, 10, 4, 2, 3, 1, 2, 1, 6, 8, 1, 8, 5, 1, 1, 1, 8, 6, 6, 8, 6, 7, 10, 1, 8, 2, 7, 8, 2, 3, 7, 3, 7, 3, 3, 7, 3, 4, 5, 6, 8, 9, 6, 3, 3, 9, 3, 7, 3, 6, 3, 2, 2, 3, 2, 3, 3, 6, 6, 4, 9, 4, 4, 4, 8, 8, 10, 3, 10, 7, 5, 2, 3, 6, 6, 8, 2, 3, 4, 5, 7, 8, 9, 7, 9, 5, 4, 7, 10, 7, 8, 2, 3, 4, 5, 4, 4, 4, 1, 2, 4, 7, 10, 10, 9, 7, 9, 8, 7, 9, 9, 6, 6, 2, 3, 4, 6, 2, 4, 2, 3, 6, 8, 2, 3, 6, 7, 7, 8, 10, 1, 2, 4, 6, 9, 10, 9, 4, 6, 2, 2, 8, 4, 1, 6, 1, 2, 9, 4, 9, 9, 1, 9, 1, 6, 9, 4, 4, 4, 9, 9, 9, 1, 1, 1, 1, 9, 1, 6, 6, 1, 6, 6, 1, 6, 10, 6, 7, 8, 2, 5, 8, 9, 5, 6, 6, 9, 9, 9, 4, 8, 4, 9, 7, 8, 8, 8, 2, 10, 2, 9, 5, 10, 4, 9, 2, 10, 2, 4, 7, 2, 5, 5, 8, 9, 1, 8, 4, 1, 1, 1, 8, 3, 3, 1, 2, 5, 1, 5, 1, 2, 8, 2, 1, 9, 10, 3, 7, 6, 6, 10, 3, 7, 2, 6, 6, 2, 3, 5, 5, 5, 5, 5, 10, 1, 1, 8, 8, 4, 7, 1, 2, 5, 8, 5, 7, 7, 3, 3, 2, 8, 10, 10, 10, 4, 4, 3, 3, 2, 7, 5, 3, 8, 9, 3, 4, 8, 2, 10, 10, 1, 2, 4, 5, 2, 3, 6, 1, 8, 1, 1, 8, 2, 9, 1, 1, 7, 2, 2, 2, 2, 8, 7, 10, 7, 2, 3, 4, 7, 8, 10, 4, 3, 10, 4, 3, 2, 4, 9, 4, 6], \"Freq\": [0.18013396666566872, 0.8196095483287926, 0.9872629892212679, 0.9836723612934051, 0.9543546407994614, 0.07739295718566801, 0.013459644727942264, 0.535020877935705, 0.37014023001841223, 0.9929410907908045, 0.9842241710716841, 0.983102909029522, 0.9951087858462216, 0.9718997597447299, 0.9850403128765763, 0.9784017992541646, 0.9961048273840033, 0.8710631222978292, 0.10381385442655693, 0.022709280655809325, 0.9882532128154392, 0.40564277338875404, 0.13979779195883615, 0.4354357454455552, 0.018334136650339165, 0.9807293372523105, 0.9743737107555568, 0.18256840816339553, 0.06329038149664379, 0.4673751248982926, 0.1679629355103239, 0.11927802666675175, 0.9907409482758895, 0.9947649544889688, 0.2978602781543768, 0.0744650695385942, 0.6243609676697514, 0.9868111654202396, 0.9708539403257732, 0.9907889205133039, 0.9771001075603947, 0.9742169791058084, 0.9915616017954728, 0.3683560579808222, 0.24758357995432315, 0.3804333057834721, 0.9638426220056002, 0.9845596930335914, 0.7076608244286973, 0.2881493177314456, 0.9792800861075505, 0.9885175129215169, 0.9729954856611195, 0.9852312947436449, 0.9852995262016094, 0.5468422440958234, 0.19852358696548042, 0.12091891206079262, 0.1335522312313232, 0.9812735345276083, 0.9684645775686932, 0.9702897296699945, 0.9790566233879165, 0.99199035094958, 0.9988837644379757, 0.962906841614183, 0.9946970867751764, 0.9733675632114377, 0.9700008886275949, 0.9549593356440589, 0.0885374731586593, 0.08516461703832942, 0.1661131639262465, 0.235256714393009, 0.4241366571314822, 0.9883657779117677, 0.9621393191862698, 0.9869149606997294, 0.9905045177349082, 0.5112365396775099, 0.48370841831025946, 0.9743950417087532, 0.6993534924185346, 0.2997229253222291, 0.9784379682457255, 0.36744844071144717, 0.6282183018615064, 0.9921719011525509, 0.9989830228368313, 0.9978591544963338, 0.7389074462778863, 0.04130538519565824, 0.21570590046621527, 0.44784873079175697, 0.5374184769501084, 0.19278492033131764, 0.13253963272778088, 0.6626981636389044, 0.9834692153043838, 0.4508779808545771, 0.2919971685534404, 0.25335048448019093, 0.9916631136626887, 0.967936620712115, 0.9838501319405091, 0.995157818962624, 0.9655045725003106, 0.9891196386618792, 0.21147638128980015, 0.7815431482449136, 0.9977697080204926, 0.9851785384373503, 0.9843918342097896, 0.9936478490811292, 0.3469695424999566, 0.007542816141303404, 0.6411393720107893, 0.9853014317057865, 0.9830338289480258, 0.9773486640827287, 0.5898223149716196, 0.12947319109133112, 0.27692876983423603, 0.9787410208094538, 0.9720254593038054, 0.5604380467870591, 0.03932898573944275, 0.30161080279910485, 0.0018601547309195893, 0.06483967919205426, 0.03188836681576439, 0.08239066058468016, 0.9141439960109751, 0.003923364789746674, 0.9628954151241793, 0.6759792560301794, 0.321894883823895, 0.9695134686807808, 0.9647586637429924, 0.833910035008434, 0.14891250625150607, 0.9766820960795948, 0.997800856504375, 0.982766439621455, 0.9989659585352145, 0.9702324003466256, 0.9873152385564441, 0.9896718182815339, 0.9821282469819229, 0.1666838687737493, 0.8264741826698403, 0.9775595144520249, 0.9855856489304456, 0.9655045725392425, 0.9973342369529004, 0.9943579573916845, 0.9874795609319208, 0.9906847770558951, 0.33381654198305033, 0.009818133587736776, 0.6479968167906272, 0.998887036649465, 0.0007155351265397314, 0.992116705727006, 0.9863239464119735, 0.9974858055610967, 0.9929021061112777, 0.9970119413739268, 0.9933875700499302, 0.9928753983889156, 0.9793400868020593, 0.5461274363862878, 0.0003527955015415296, 0.45122544647161633, 0.001763977507707648, 0.6082017133733336, 0.39132693871138335, 0.09209607166962441, 0.8946475533620657, 0.9885748901370771, 0.7002407254779371, 0.28943283319754737, 0.9937730794051879, 0.9725355142444992, 0.9761292349655583, 0.2783329531734894, 0.36796559911071475, 0.3490955683870884, 0.9863834936476302, 0.7923632614712894, 0.07157768822846121, 0.007047111697025066, 0.002387864294033287, 0.06220095282994025, 0.05125172143290957, 0.013162373913451776, 0.9889213506833858, 0.9906017109286835, 0.9857454446619481, 0.9975833618896951, 0.9969778394241575, 0.9975568112708807, 0.9998318904968871, 0.9915874330803223, 0.9742546392303377, 0.9724697626568409, 0.9477839887581472, 0.05016126960001336, 0.8361303070545058, 0.16336874384782743, 0.42585854036223775, 0.5737475971062148, 0.9844825806109457, 0.9414577102903676, 0.05826611236324751, 0.9765606036290867, 0.9954107168067777, 0.995642633939148, 0.9998662529598458, 0.9722632367218939, 0.9950730643657686, 0.9908432989829222, 0.9771635555910103, 0.9842230684724733, 0.967769624310512, 0.9490485724302207, 0.015829862815116242, 0.9814514945372069, 0.19607111518936257, 0.17393405379701518, 0.6261625936692546, 0.9314855265797105, 0.05174919592109503, 0.9674225427179249, 0.1874508427386725, 0.808381759310525, 0.9726438448740843, 0.9869617903677735, 0.983656052319932, 0.7160507178496995, 0.0017702119106296653, 0.11063824441435408, 0.0008851059553148326, 0.03097870843601914, 0.13984674093974356, 0.9783861496696247, 0.9913215494558462, 0.9956556900967308, 0.9764981509262022, 0.7806828315480595, 0.21143493354426612, 0.9115909483418236, 0.085383174224854, 0.9780102156683274, 0.9952754480855881, 0.9911473560514716, 0.9924746828188961, 0.0590347078442988, 0.9383411457356968, 0.9954939258228453, 0.9822689173306646, 0.9871174355948892, 0.9819408319410581, 0.9926481929518964, 0.9826333043312383, 0.9983199752353458, 0.9962478018352585, 0.9982376293631448, 0.9806445530307575, 0.9954937534233267, 0.9904619038045501, 0.9785422302893245, 0.9626250358105007, 0.989749852740811, 0.23749728101822096, 0.6045385335009261, 0.15473307702702274, 0.990860951186359, 0.9725670799181946, 0.13547743205930068, 0.009631097065827062, 0.1547396261909548, 0.1072262139995413, 0.16501279639450367, 0.03980853453875186, 0.38781217518396977, 0.9731996305605177, 0.9928638374258514, 0.9713164320958035, 0.9717617499832263, 0.9557189517190406, 0.023892973792976016, 0.9959254556870026, 0.9680872310884708, 0.06508798243623735, 0.39052789461742415, 0.32977911101026924, 0.21262074262504202, 0.99766166726937, 0.9867570228705681, 0.9948378502248103, 0.016893470148001848, 0.2111683768500231, 0.7602061566600832, 0.9958934806382922, 0.9826630472781944, 0.9764115502114576, 0.9969276464656333, 0.9928717084481201, 0.9961325567982972, 0.985534138316275, 0.986245768751716, 0.9969417400048705, 0.9857543199872837, 0.9922745408057109, 0.9900533565538822, 0.49326976843855447, 0.21732580743654986, 0.051440420475807214, 0.23766271785721782, 0.9911068104106908, 0.9900950612469511, 0.993410151064861, 0.9749267755293218, 0.9875493762216464, 0.9721856693692418, 0.98402822053892, 0.014562785504804313, 0.9898944340089425, 0.9848552797965724, 0.20961573712505469, 0.17467978093754558, 0.6113792332814095, 0.7033229638266294, 0.1189306892601894, 0.06935563063925806, 0.021264114919701226, 0.06836660203834173, 0.0185442862671813, 0.9815008378769822, 0.9736671529982902, 0.990417551140489, 0.9951744895248109, 0.9867349104356321, 0.9897587242982302, 0.9915170605480946, 0.018215890202788604, 0.9745501258491902, 0.9995846649085592, 0.000266769326103165, 0.9835430845547064, 0.9871390029207612, 0.9779647785747292, 0.9928146986216604, 0.01897876638715766, 0.9679170857450408, 0.9991033836057454, 0.9752951027549559, 0.9823418431673729, 0.9637001430430742, 0.9867230741290041, 0.15806045583659684, 0.8334096762293288, 0.9743498352611464, 0.9918089107739438, 0.9972013782273403, 0.9975617078393172, 0.9952259975898508, 0.9956730227666937, 0.9735906816754434, 0.8375973746873691, 0.1622774129440663, 0.988682089622943, 0.7860386965279494, 0.21309488959581238, 0.9901933321711595, 0.9651882068470661, 0.03472093660994744, 0.976710853526658, 0.9797646965910836, 0.9931693839610507, 0.9797809553618421, 0.6620689468038808, 0.2308130273261236, 0.10325845959326582, 0.972323737728365, 0.9931009066924719, 0.9961382059939021, 0.9946499319556477, 0.9963555331079811, 0.9768398433135927, 0.9949507911677068, 0.968520459111442, 0.031519896598301365, 0.9947709078835715, 0.9841492105814222, 0.9828607673729199, 0.9575295684001283, 0.9980970609810625, 0.9976912772654908, 0.9854321384747934, 0.9790364942814263, 0.9777322161680823, 0.9911212408038468, 0.9919888470160335, 0.9930603225381784, 0.9881362141200168, 0.9805759530775263, 0.98294663728456, 0.9922593098305096, 0.6640862631486966, 0.1990666256440937, 0.13536530543798372, 0.9795987114805024, 0.9966003786646727, 0.9810535111287656, 0.970989121556988, 0.9862262792440288, 0.9079661955389905, 0.09152051059817844, 0.9833972788314673, 0.9968677836425697, 0.9988889210245561, 0.8774801068473302, 0.12115109956472014, 0.9943784808555608, 0.985971438729153, 0.8719003940619989, 0.10010170913523782, 0.026113489339627257, 0.9990887677057442, 0.995786849541071, 0.5114413627579211, 0.3217677447814735, 0.16681117295250075, 0.9763182325215122, 0.9973026802643513, 0.9910218377186923, 0.9790668684376611, 0.8695658739457811, 0.12040142870018507, 0.9906287787611507, 0.9672366288953336, 0.9921190400883588, 0.3101279882064708, 0.6854089151117799, 0.18256794575535254, 0.8132572129102068, 0.9782841105590482, 0.991367790891819, 0.9987622199711955, 0.9903578785238173, 0.9980148845233555, 0.990985918773101, 0.9958389292083282, 0.9708032883010632, 0.9722694485306214, 0.9981831760474577, 0.9904068218665115, 0.9896137218333173, 0.9857113654683525, 0.6504265835736505, 0.34553912252350183, 0.5210333751542733, 0.3852489198110384, 0.05684000456228436, 0.03473555834361822, 0.9808853568419791, 0.982541557987012, 0.9920352630756069, 0.9819956879733946, 0.9815548299418999, 0.4101130841175845, 0.10470972360448967, 0.47991956652057766, 0.9600156045705709, 0.9699003166882244, 0.9835100352819024, 0.9827928487389963, 0.996603123741686, 0.9959874984464376, 0.9913496514378028, 0.9760861305721561, 0.9841314730118095, 0.1416157039686295, 0.3304366425934688, 0.5192575812183081, 0.6432075553104878, 0.25085094657109025, 0.10291320884967806, 0.6284844357247477, 0.36994401567744345, 0.9935773440668417, 0.9936964174967745, 0.3182862656597649, 0.019892891603735308, 0.6564654229232652, 0.3661333134056001, 0.566470409419985, 0.06562766938402266, 0.9666551164063717, 0.03315968694533292, 0.9986137893595342, 0.9983002190133268, 0.9984173200393079, 0.9867893906095355, 0.9940321739486234, 0.994618917062622, 0.9922493642468714, 0.9830510055162981, 0.9972588280153835, 0.9863762756368554, 0.9877004558422224, 0.85765155939683, 0.13376216981418448, 0.9981976051804263, 0.9872787114546667, 0.9705005341768442, 0.052257849281659115, 0.1933540423421387, 0.48599799831942975, 0.177676687557641, 0.013935426475109097, 0.07838677392248868, 0.9946259322161405, 0.16760258319710014, 0.8260413028999936, 0.9883854255196782, 0.9867968401056058, 0.15615520614034564, 0.5270238207236665, 0.3171902624725771, 0.9884093678087648, 0.9765311444672393], \"Term\": [\"10\", \"10\", \"10 baht\", \"accept\", \"acceptable\", \"accord\", \"accord\", \"accord\", \"accord\", \"accord price\", \"affordable\", \"affordable price\", \"answer\", \"arrange\", \"ask\", \"available\", \"bad\", \"bag\", \"bag\", \"bag\", \"bag good\", \"baht\", \"baht\", \"baht\", \"baht\", \"baht free\", \"baht worth\", \"beautiful\", \"beautiful\", \"beautiful\", \"beautiful\", \"beautiful\", \"beautiful bag\", \"beautiful beautiful\", \"beautiful color\", \"beautiful color\", \"beautiful color\", \"beautiful good\", \"beautiful like\", \"beautiful product\", \"beautiful quality\", \"beautiful shirt\", \"big\", \"bite\", \"bite\", \"bite\", \"bite late\", \"bite slow\", \"black\", \"black\", \"black color\", \"blue\", \"body\", \"break\", \"brown\", \"buy\", \"buy\", \"buy\", \"buy\", \"buy discount\", \"buy flash\", \"carry\", \"change\", \"chat\", \"cheap\", \"cheap buy\", \"cheap price\", \"cheap product\", \"child\", \"code\", \"color\", \"color\", \"color\", \"color\", \"color\", \"color beautiful\", \"color exactly\", \"color good\", \"color order\", \"come\", \"come\", \"come subsidize\", \"comfortable\", \"comfortable\", \"comfortable fabric\", \"comfortable wear\", \"comfortable wear\", \"compact\", \"company\", \"company good\", \"complete\", \"complete\", \"complete\", \"complete product\", \"complete product\", \"condition\", \"condition\", \"condition\", \"confuse\", \"consider\", \"consider\", \"consider\", \"consider good\", \"considered\", \"correct\", \"cost\", \"cost effective\", \"cover\", \"customer\", \"customer\", \"cute\", \"cute bag\", \"dad\", \"damage\", \"day\", \"day\", \"day\", \"deduct\", \"deduct star\", \"definitely\", \"deliver\", \"deliver\", \"deliver\", \"deliver fast\", \"delivered\", \"delivery\", \"delivery\", \"delivery\", \"delivery\", \"delivery\", \"delivery\", \"delivery fast\", \"delivery fast\", \"delivery fast\", \"delivery fee\", \"delivery good\", \"delivery good\", \"delivery like\", \"delivery price\", \"delivery product\", \"delivery product\", \"delivery sensitive\", \"delivery service\", \"delivery slow\", \"delivery speed\", \"different\", \"disappoint\", \"discount\", \"discount price\", \"doe\", \"doe\", \"doe match\", \"easy\", \"effective\", \"exactly\", \"exactly order\", \"excellent\", \"expect\", \"expensive\", \"expensive\", \"expensive\", \"fabric\", \"fabric\", \"fabric comfortable\", \"fabric fast\", \"fabric good\", \"fabric soft\", \"fair\", \"fair product\", \"fair value\", \"fall\", \"fast\", \"fast\", \"fast\", \"fast\", \"fast delivery\", \"fast delivery\", \"fast good\", \"fast good\", \"feel\", \"fit\", \"fit\", \"flash\", \"flash cell\", \"flash sale\", \"free\", \"free\", \"free\", \"free delivery\", \"good\", \"good\", \"good\", \"good\", \"good\", \"good\", \"good\", \"good beautiful\", \"good cheap\", \"good color\", \"good delivery\", \"good fabric\", \"good fast\", \"good good\", \"good like\", \"good okay\", \"good pack\", \"good price\", \"good price\", \"good product\", \"good product\", \"good quality\", \"good quality\", \"good reed\", \"good service\", \"good service\", \"good soft\", \"good store\", \"good transport\", \"good value\", \"gray\", \"great\", \"great value\", \"happy\", \"high\", \"hip\", \"hot\", \"impressive\", \"impressive\", \"item\", \"item\", \"item\", \"job\", \"job\", \"lack\", \"late\", \"late\", \"leather\", \"leave\", \"light\", \"like\", \"like\", \"like\", \"like\", \"like\", \"like\", \"like beautiful\", \"like like\", \"like lot\", \"like picture\", \"line\", \"line\", \"little\", \"little\", \"little small\", \"long\", \"long time\", \"look\", \"lot\", \"lot\", \"lot like\", \"love\", \"lovely\", \"market\", \"match\", \"meet\", \"mm\", \"mm mm\", \"money\", \"money fast\", \"new\", \"nice\", \"ninja\", \"normal\", \"ok\", \"okay\", \"okay\", \"okay\", \"okay product\", \"old\", \"order\", \"order\", \"order\", \"order\", \"order\", \"order\", \"order\", \"order black\", \"order color\", \"order round\", \"order send\", \"order size\", \"order size\", \"ordered\", \"ordering\", \"overall\", \"overall\", \"overall\", \"overall\", \"pack\", \"pack good\", \"pack product\", \"package\", \"package\", \"package\", \"pant\", \"pay\", \"person\", \"picture\", \"piece\", \"pink\", \"pleasant\", \"point\", \"poor\", \"poor delivery\", \"pretty\", \"pretty good\", \"price\", \"price\", \"price\", \"price\", \"price baht\", \"price beautiful\", \"price cheap\", \"price consider\", \"price delivery\", \"price expensive\", \"price good\", \"price good\", \"price reasonable\", \"pro\", \"problem\", \"problem\", \"problem\", \"product\", \"product\", \"product\", \"product\", \"product\", \"product\", \"product accord\", \"product affordable\", \"product beautiful\", \"product cheap\", \"product complete\", \"product delivery\", \"product exactly\", \"product fast\", \"product fast\", \"product good\", \"product good\", \"product like\", \"product pack\", \"product poor\", \"product price\", \"product product\", \"product product\", \"product quality\", \"product reasonable\", \"product receive\", \"product successfully\", \"product worth\", \"products\", \"products\", \"products deliver\", \"promotion\", \"provide\", \"provide ship\", \"providing\", \"providing service\", \"purple\", \"quality\", \"quality\", \"quality accord\", \"quality good\", \"quality good\", \"quality price\", \"quality product\", \"quality product\", \"quality providing\", \"quality reasonable\", \"quality suitable\", \"quality value\", \"quickly\", \"quickly\", \"quickly\", \"range\", \"real\", \"reasonable\", \"reasonable price\", \"receive\", \"receive good\", \"receive product\", \"received\", \"received\", \"received product\", \"red\", \"reduce\", \"reduction\", \"reed\", \"reed reed\", \"relate\", \"request\", \"return\", \"right\", \"round\", \"sale\", \"satisfy\", \"schedule\", \"sell\", \"seller\", \"send\", \"send\", \"send\", \"send good\", \"sensitive\", \"sensitive delivery\", \"sensitivity\", \"sent\", \"service\", \"service\", \"service fast\", \"service good\", \"service provide\", \"service shop\", \"service shop\", \"sew\", \"shape\", \"ship\", \"ship\", \"ship\", \"ship company\", \"shirt\", \"shop\", \"shop\", \"shop\", \"shop deliver\", \"shop good\", \"shop poor\", \"shop ship\", \"short\", \"short\", \"shoulder\", \"shoulder bag\", \"site\", \"size\", \"size\", \"slow\", \"slow\", \"slow delivery\", \"slowly\", \"small\", \"smooth\", \"soft\", \"soft comfortable\", \"soft fabric\", \"soft smooth\", \"specify\", \"speed\", \"speed delivery\", \"staff\", \"stain\", \"star\", \"star\", \"store\", \"store\", \"store\", \"store\", \"straight\", \"strap\", \"stretch\", \"strong\", \"stuff\", \"subsidize\", \"subsidize\", \"subsidize\", \"subsidize new\", \"subsidy\", \"successfully\", \"successfully good\", \"suitable\", \"suitable price\", \"tell\", \"terrible\", \"texture\", \"thank\", \"thank\", \"thank\", \"think\", \"think\", \"think\", \"time\", \"time\", \"trader\", \"transport company\", \"try\", \"try\", \"try\", \"use\", \"use\", \"use\", \"value\", \"value\", \"value fast\", \"value good\", \"value money\", \"value price\", \"value product\", \"value quality\", \"value service\", \"waist\", \"wait\", \"wait long\", \"waiting\", \"want\", \"want\", \"wear\", \"white\", \"work good\", \"worth\", \"worth\", \"worth\", \"worth\", \"worth\", \"worth\", \"worth price\", \"worthwhile\", \"worthwhile\", \"wrap\", \"wrinkle\", \"wrong\", \"wrong\", \"wrong\", \"wrong color\", \"year\"]}, \"R\": 30, \"lambda.step\": 0.01, \"plot.opts\": {\"xlab\": \"PC1\", \"ylab\": \"PC2\"}, \"topic.order\": [9, 7, 2, 8, 1, 4, 6, 5, 3, 10]};\n",
       "\n",
       "function LDAvis_load_lib(url, callback){\n",
       "  var s = document.createElement('script');\n",
       "  s.src = url;\n",
       "  s.async = true;\n",
       "  s.onreadystatechange = s.onload = callback;\n",
       "  s.onerror = function(){console.warn(\"failed to load library \" + url);};\n",
       "  document.getElementsByTagName(\"head\")[0].appendChild(s);\n",
       "}\n",
       "\n",
       "if(typeof(LDAvis) !== \"undefined\"){\n",
       "   // already loaded: just create the visualization\n",
       "   !function(LDAvis){\n",
       "       new LDAvis(\"#\" + \"ldavis_el17111398940001685366647538044\", ldavis_el17111398940001685366647538044_data);\n",
       "   }(LDAvis);\n",
       "}else if(typeof define === \"function\" && define.amd){\n",
       "   // require.js is available: use it to load d3/LDAvis\n",
       "   require.config({paths: {d3: \"https://cdnjs.cloudflare.com/ajax/libs/d3/3.5.5/d3.min\"}});\n",
       "   require([\"d3\"], function(d3){\n",
       "      window.d3 = d3;\n",
       "      LDAvis_load_lib(\"https://cdn.rawgit.com/bmabey/pyLDAvis/files/ldavis.v1.0.0.js\", function(){\n",
       "        new LDAvis(\"#\" + \"ldavis_el17111398940001685366647538044\", ldavis_el17111398940001685366647538044_data);\n",
       "      });\n",
       "    });\n",
       "}else{\n",
       "    // require.js not available: dynamically load d3 & LDAvis\n",
       "    LDAvis_load_lib(\"https://cdnjs.cloudflare.com/ajax/libs/d3/3.5.5/d3.min.js\", function(){\n",
       "         LDAvis_load_lib(\"https://cdn.rawgit.com/bmabey/pyLDAvis/files/ldavis.v1.0.0.js\", function(){\n",
       "                 new LDAvis(\"#\" + \"ldavis_el17111398940001685366647538044\", ldavis_el17111398940001685366647538044_data);\n",
       "            })\n",
       "         });\n",
       "}\n",
       "</script>"
      ],
      "text/plain": [
       "PreparedData(topic_coordinates=                x           y  topics  cluster       Freq\n",
       "topic                                                    \n",
       "8       60.668995   -0.137675       1        1  44.707368\n",
       "6      -35.463642    1.562042       2        1  10.485569\n",
       "1       11.203411  -82.496094       3        1   7.525195\n",
       "7      -67.113480   95.688606       4        1   7.026439\n",
       "0      122.750534  -92.205307       5        1   6.604434\n",
       "3      154.456329   26.585562       6        1   5.671264\n",
       "5      -83.203270 -121.009811       7        1   5.250168\n",
       "4       47.613251  101.353821       8        1   4.873302\n",
       "2     -132.964874  -17.803232       9        1   4.792817\n",
       "9       34.823826 -177.198624      10        1   3.063443, topic_info=     Category          Freq               Term         Total  loglift  logprob\n",
       "1649  Default   6180.000000            quality   6180.000000  30.0000  30.0000\n",
       "833   Default  17170.000000               good  17170.000000  29.0000  29.0000\n",
       "757   Default   2834.000000               fast   2834.000000  28.0000  28.0000\n",
       "1526  Default   8088.000000            product   8088.000000  27.0000  27.0000\n",
       "573   Default   3763.000000           delivery   3763.000000  26.0000  26.0000\n",
       "761   Default   2310.000000      fast delivery   2310.000000  25.0000  25.0000\n",
       "2257  Default   4975.000000              value   4975.000000  24.0000  24.0000\n",
       "704   Default   1397.000000             fabric   1397.000000  23.0000  23.0000\n",
       "925   Default   4505.000000         good value   4505.000000  22.0000  22.0000\n",
       "1456  Default   2507.000000              price   2507.000000  21.0000  21.0000\n",
       "892   Default   1291.000000       good quality   1291.000000  20.0000  20.0000\n",
       "1564  Default   3748.000000       product good   3748.000000  19.0000  19.0000\n",
       "1673  Default   3715.000000    quality product   3715.000000  18.0000  18.0000\n",
       "1853  Default   1933.000000            service   1933.000000  17.0000  17.0000\n",
       "867   Default   2857.000000          good good   2857.000000  16.0000  16.0000\n",
       "1267  Default   1557.000000              order   1557.000000  15.0000  15.0000\n",
       "1737  Default    656.000000               reed    656.000000  14.0000  14.0000\n",
       "165   Default   1232.000000          beautiful   1232.000000  13.0000  13.0000\n",
       "1051  Default   1129.000000               like   1129.000000  12.0000  12.0000\n",
       "351   Default   1185.000000              color   1185.000000  11.0000  11.0000\n",
       "1899  Default   1180.000000               shop   1180.000000  10.0000  10.0000\n",
       "303   Default    702.000000              cheap    702.000000   9.0000   9.0000\n",
       "1665  Default    994.000000       quality good    994.000000   8.0000   8.0000\n",
       "2020  Default    567.000000               soft    567.000000   7.0000   7.0000\n",
       "1741  Default    474.000000          reed reed    474.000000   6.0000   6.0000\n",
       "2325  Default    465.000000               wear    465.000000   5.0000   5.0000\n",
       "889   Default   1762.000000       good product   1762.000000   4.0000   4.0000\n",
       "119   Default    616.000000                bag    616.000000   3.0000   3.0000\n",
       "1181  Default    423.000000              money    423.000000   2.0000   2.0000\n",
       "415   Default    560.000000        comfortable    560.000000   1.0000   1.0000\n",
       "...       ...           ...                ...           ...      ...      ...\n",
       "1402  Topic10     52.351554             person     53.256232   3.4685  -4.5364\n",
       "1218  Topic10     47.126036              ninja     48.030630   3.4666  -4.6415\n",
       "794   Topic10     46.394418         flash cell     47.299044   3.4663  -4.6572\n",
       "2039  Topic10     44.350293            specify     45.254945   3.4654  -4.7022\n",
       "636   Topic10     47.381578          different     48.442002   3.4635  -4.6361\n",
       "253   Topic10     39.365354          buy flash     40.269929   3.4629  -4.8215\n",
       "567   Topic10     38.188721          delivered     39.093626   3.4622  -4.8518\n",
       "412   Topic10     38.093976     come subsidize     38.998556   3.4622  -4.8543\n",
       "2113  Topic10     41.284518            subsidy     42.272385   3.4620  -4.7739\n",
       "61    Topic10     37.726068             accept     38.630749   3.4619  -4.8640\n",
       "1758  Topic10     32.801988            request     33.706609   3.4584  -5.0039\n",
       "62    Topic10     29.482320         acceptable     30.387027   3.4554  -5.1106\n",
       "492   Topic10     29.131546     cost effective     30.036108   3.4551  -5.1225\n",
       "672   Topic10     29.131546          effective     30.036108   3.4551  -5.1225\n",
       "1923  Topic10     27.694019          shop ship     28.598660   3.4535  -5.1731\n",
       "2110  Topic10     25.136691      subsidize new     26.041243   3.4503  -5.2700\n",
       "880   Topic10     24.755988          good okay     25.660642   3.4497  -5.2853\n",
       "1674  Topic10     24.691530  quality providing     25.596112   3.4497  -5.2879\n",
       "969   Topic10     23.330147                hot     24.234798   3.4476  -5.3446\n",
       "2380  Topic10    137.794863         worthwhile    167.061864   3.2930  -3.5686\n",
       "531   Topic10    169.607028                day    265.152956   3.0388  -3.3609\n",
       "406   Topic10    123.239302               come    254.285423   2.7613  -3.6802\n",
       "2109  Topic10    110.478997          subsidize    229.205075   2.7558  -3.7895\n",
       "2171  Topic10    175.732630               time    475.747661   2.4897  -3.3254\n",
       "165   Topic10    146.833340          beautiful   1232.414755   1.3582  -3.5050\n",
       "1526  Topic10    150.200333            product   8088.744848  -0.5006  -3.4824\n",
       "1524  Topic10     34.799418            problem     57.247610   2.9878  -4.9447\n",
       "441   Topic10     47.319474           complete    217.889264   1.9586  -4.6374\n",
       "448   Topic10     35.817215   complete product     66.986904   2.8596  -4.9159\n",
       "2366  Topic10     44.585688              worth    574.076439   0.9303  -4.6969\n",
       "\n",
       "[480 rows x 6 columns], token_table=      Topic      Freq              Term\n",
       "term                                   \n",
       "0         2  0.180134                10\n",
       "0         7  0.819610                10\n",
       "1         2  0.987263           10 baht\n",
       "61       10  0.983672            accept\n",
       "62       10  0.954355        acceptable\n",
       "63        2  0.077393            accord\n",
       "63        4  0.013460            accord\n",
       "63        6  0.535021            accord\n",
       "63        9  0.370140            accord\n",
       "68        6  0.992941      accord price\n",
       "88        5  0.984224        affordable\n",
       "89        5  0.983103  affordable price\n",
       "92        2  0.995109            answer\n",
       "101       7  0.971900           arrange\n",
       "105       2  0.985040               ask\n",
       "110       7  0.978402         available\n",
       "114       2  0.996105               bad\n",
       "119       3  0.871063               bag\n",
       "119       4  0.103814               bag\n",
       "119       7  0.022709               bag\n",
       "126       3  0.988253          bag good\n",
       "146       2  0.405643              baht\n",
       "146       3  0.139798              baht\n",
       "146       7  0.435436              baht\n",
       "146       8  0.018334              baht\n",
       "152       8  0.980729         baht free\n",
       "161       7  0.974374        baht worth\n",
       "165       3  0.182568         beautiful\n",
       "165       4  0.063290         beautiful\n",
       "165       6  0.467375         beautiful\n",
       "...     ...       ...               ...\n",
       "2270      8  0.998417       value money\n",
       "2274      2  0.986789       value price\n",
       "2275      9  0.994032     value product\n",
       "2277      1  0.994619     value quality\n",
       "2281      1  0.992249     value service\n",
       "2296      7  0.983051             waist\n",
       "2298      2  0.997259              wait\n",
       "2303      2  0.986376         wait long\n",
       "2307      2  0.987700           waiting\n",
       "2312      2  0.857652              want\n",
       "2312      8  0.133762              want\n",
       "2325      7  0.998198              wear\n",
       "2354     10  0.987279             white\n",
       "2362      7  0.970501         work good\n",
       "2366      2  0.052258             worth\n",
       "2366      3  0.193354             worth\n",
       "2366      4  0.485998             worth\n",
       "2366      7  0.177677             worth\n",
       "2366      8  0.013935             worth\n",
       "2366     10  0.078387             worth\n",
       "2374      4  0.994626       worth price\n",
       "2380      3  0.167603        worthwhile\n",
       "2380     10  0.826041        worthwhile\n",
       "2386      4  0.988385              wrap\n",
       "2388      3  0.986797           wrinkle\n",
       "2390      2  0.156155             wrong\n",
       "2390      4  0.527024             wrong\n",
       "2390      9  0.317190             wrong\n",
       "2391      4  0.988409       wrong color\n",
       "2402      6  0.976531              year\n",
       "\n",
       "[534 rows x 3 columns], R=30, lambda_step=0.01, plot_opts={'xlab': 'PC1', 'ylab': 'PC2'}, topic_order=[9, 7, 2, 8, 1, 4, 6, 5, 3, 10])"
      ]
     },
     "execution_count": 136,
     "metadata": {},
     "output_type": "execute_result"
    }
   ],
   "source": [
    "bi_dash = pyLDAvis.sklearn.prepare(bi_lda, bigram_vectorized, bivectorizer, mds='tsne')\n",
    "bi_dash"
   ]
  },
  {
   "cell_type": "markdown",
   "metadata": {
    "_uuid": "72e246e81d3d9687a5c1ab5120208fc45ce76c3d"
   },
   "source": [
    "**Very few keywords with 2 words have been found like \"spin dry\" , \"black cherry\", etc.**"
   ]
  },
  {
   "cell_type": "markdown",
   "metadata": {
    "_uuid": "13934cbb75a849b3c6f9b09338fbb5039d6fbad8"
   },
   "source": [
    "Kindly upvote and comment if you like this."
   ]
  }
 ],
 "metadata": {
  "kernelspec": {
   "display_name": "Python [conda env:fastaipy372] *",
   "language": "python",
   "name": "conda-env-fastaipy372-py"
  },
  "language_info": {
   "codemirror_mode": {
    "name": "ipython",
    "version": 3
   },
   "file_extension": ".py",
   "mimetype": "text/x-python",
   "name": "python",
   "nbconvert_exporter": "python",
   "pygments_lexer": "ipython3",
   "version": "3.7.2"
  }
 },
 "nbformat": 4,
 "nbformat_minor": 1
}
