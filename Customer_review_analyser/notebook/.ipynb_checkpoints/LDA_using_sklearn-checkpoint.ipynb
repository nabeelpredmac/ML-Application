{
 "cells": [
  {
   "cell_type": "markdown",
   "metadata": {},
   "source": [
    "# LDA model using sklearn"
   ]
  },
  {
   "cell_type": "code",
   "execution_count": 2,
   "metadata": {},
   "outputs": [
    {
     "name": "stdout",
     "output_type": "stream",
     "text": [
      "['Bag_Reviews.xlsx', 'productReviewShopee_1.csv']\n"
     ]
    },
    {
     "data": {
      "text/html": [
       "        <script type=\"text/javascript\">\n",
       "        window.PlotlyConfig = {MathJaxConfig: 'local'};\n",
       "        if (window.MathJax) {MathJax.Hub.Config({SVG: {font: \"STIX-Web\"}});}\n",
       "        if (typeof require !== 'undefined') {\n",
       "        require.undef(\"plotly\");\n",
       "        requirejs.config({\n",
       "            paths: {\n",
       "                'plotly': ['https://cdn.plot.ly/plotly-latest.min']\n",
       "            }\n",
       "        });\n",
       "        require(['plotly'], function(Plotly) {\n",
       "            window._Plotly = Plotly;\n",
       "        });\n",
       "        }\n",
       "        </script>\n",
       "        "
      ]
     },
     "metadata": {},
     "output_type": "display_data"
    }
   ],
   "source": [
    "# Usual imports\n",
    "import numpy as np\n",
    "import pandas as pd\n",
    "from tqdm import tqdm\n",
    "import string\n",
    "import matplotlib.pyplot as plt\n",
    "from sklearn.decomposition import NMF, LatentDirichletAllocation, TruncatedSVD\n",
    "from sklearn.feature_extraction.text import CountVectorizer\n",
    "from sklearn.manifold import TSNE\n",
    "import concurrent.futures\n",
    "import time\n",
    "import pyLDAvis.sklearn\n",
    "from pylab import bone, pcolor, colorbar, plot, show, rcParams, savefig\n",
    "import warnings\n",
    "warnings.filterwarnings('ignore')\n",
    "\n",
    "%matplotlib inline\n",
    "import os\n",
    "print(os.listdir(\"../data\"))\n",
    "\n",
    "# Plotly based imports for visualization\n",
    "from plotly import tools\n",
    "import chart_studio.plotly as py\n",
    "from plotly.offline import init_notebook_mode, iplot\n",
    "init_notebook_mode(connected=True)\n",
    "import plotly.graph_objs as go\n",
    "import plotly.figure_factory as ff\n",
    "\n",
    "# spaCy based imports\n",
    "import spacy\n",
    "from spacy.lang.en.stop_words import STOP_WORDS\n",
    "from spacy.lang.en import English\n",
    "import bz2\n",
    "import re\n",
    "\n",
    "#!python -m spacy download en_core_web_lg"
   ]
  },
  {
   "cell_type": "markdown",
   "metadata": {},
   "source": [
    "## Read file"
   ]
  },
  {
   "cell_type": "code",
   "execution_count": 3,
   "metadata": {},
   "outputs": [
    {
     "data": {
      "text/html": [
       "<div>\n",
       "<style scoped>\n",
       "    .dataframe tbody tr th:only-of-type {\n",
       "        vertical-align: middle;\n",
       "    }\n",
       "\n",
       "    .dataframe tbody tr th {\n",
       "        vertical-align: top;\n",
       "    }\n",
       "\n",
       "    .dataframe thead th {\n",
       "        text-align: right;\n",
       "    }\n",
       "</style>\n",
       "<table border=\"1\" class=\"dataframe\">\n",
       "  <thead>\n",
       "    <tr style=\"text-align: right;\">\n",
       "      <th></th>\n",
       "      <th>rating</th>\n",
       "      <th>comments</th>\n",
       "    </tr>\n",
       "  </thead>\n",
       "  <tbody>\n",
       "    <tr>\n",
       "      <th>0</th>\n",
       "      <td>4</td>\n",
       "      <td>Give 4 stars because order at the price 37 but...</td>\n",
       "    </tr>\n",
       "    <tr>\n",
       "      <th>1</th>\n",
       "      <td>5</td>\n",
       "      <td>Ordered at a discount of 10 baht per piece. It...</td>\n",
       "    </tr>\n",
       "    <tr>\n",
       "      <th>2</th>\n",
       "      <td>5</td>\n",
       "      <td>Small, cute, compact, good But the sash looks ...</td>\n",
       "    </tr>\n",
       "    <tr>\n",
       "      <th>3</th>\n",
       "      <td>1</td>\n",
       "      <td>The size is not as large as it is down. The st...</td>\n",
       "    </tr>\n",
       "    <tr>\n",
       "      <th>4</th>\n",
       "      <td>1</td>\n",
       "      <td>The product is compared to the price. Okay. Se...</td>\n",
       "    </tr>\n",
       "  </tbody>\n",
       "</table>\n",
       "</div>"
      ],
      "text/plain": [
       "   rating                                           comments\n",
       "0       4  Give 4 stars because order at the price 37 but...\n",
       "1       5  Ordered at a discount of 10 baht per piece. It...\n",
       "2       5  Small, cute, compact, good But the sash looks ...\n",
       "3       1  The size is not as large as it is down. The st...\n",
       "4       1  The product is compared to the price. Okay. Se..."
      ]
     },
     "execution_count": 3,
     "metadata": {},
     "output_type": "execute_result"
    }
   ],
   "source": [
    "reviews_ms = pd.read_excel('../data/Bag_Reviews.xlsx')\n",
    "reviews_ms = reviews_ms[['rating','comments']]\n",
    "reviews_ms.head()"
   ]
  },
  {
   "cell_type": "code",
   "execution_count": 5,
   "metadata": {},
   "outputs": [
    {
     "data": {
      "text/plain": [
       "(3182, 2)"
      ]
     },
     "execution_count": 5,
     "metadata": {},
     "output_type": "execute_result"
    }
   ],
   "source": [
    "reviews_ms.shape"
   ]
  },
  {
   "cell_type": "markdown",
   "metadata": {},
   "source": [
    "### Remove Duplicates "
   ]
  },
  {
   "cell_type": "code",
   "execution_count": 6,
   "metadata": {},
   "outputs": [
    {
     "data": {
      "text/plain": [
       "(2677, 2)"
      ]
     },
     "execution_count": 6,
     "metadata": {},
     "output_type": "execute_result"
    }
   ],
   "source": [
    "reviews_ms.drop_duplicates().shape"
   ]
  },
  {
   "cell_type": "code",
   "execution_count": 12,
   "metadata": {},
   "outputs": [
    {
     "data": {
      "text/html": [
       "<div>\n",
       "<style scoped>\n",
       "    .dataframe tbody tr th:only-of-type {\n",
       "        vertical-align: middle;\n",
       "    }\n",
       "\n",
       "    .dataframe tbody tr th {\n",
       "        vertical-align: top;\n",
       "    }\n",
       "\n",
       "    .dataframe thead th {\n",
       "        text-align: right;\n",
       "    }\n",
       "</style>\n",
       "<table border=\"1\" class=\"dataframe\">\n",
       "  <thead>\n",
       "    <tr style=\"text-align: right;\">\n",
       "      <th></th>\n",
       "      <th>rating</th>\n",
       "      <th>comments</th>\n",
       "    </tr>\n",
       "  </thead>\n",
       "  <tbody>\n",
       "    <tr>\n",
       "      <th>0</th>\n",
       "      <td>4</td>\n",
       "      <td>Give 4 stars because order at the price 37 but...</td>\n",
       "    </tr>\n",
       "    <tr>\n",
       "      <th>1</th>\n",
       "      <td>5</td>\n",
       "      <td>Ordered at a discount of 10 baht per piece. It...</td>\n",
       "    </tr>\n",
       "    <tr>\n",
       "      <th>2</th>\n",
       "      <td>5</td>\n",
       "      <td>Small, cute, compact, good But the sash looks ...</td>\n",
       "    </tr>\n",
       "    <tr>\n",
       "      <th>3</th>\n",
       "      <td>1</td>\n",
       "      <td>The size is not as large as it is down. The st...</td>\n",
       "    </tr>\n",
       "    <tr>\n",
       "      <th>4</th>\n",
       "      <td>1</td>\n",
       "      <td>The product is compared to the price. Okay. Se...</td>\n",
       "    </tr>\n",
       "  </tbody>\n",
       "</table>\n",
       "</div>"
      ],
      "text/plain": [
       "   rating                                           comments\n",
       "0       4  Give 4 stars because order at the price 37 but...\n",
       "1       5  Ordered at a discount of 10 baht per piece. It...\n",
       "2       5  Small, cute, compact, good But the sash looks ...\n",
       "3       1  The size is not as large as it is down. The st...\n",
       "4       1  The product is compared to the price. Okay. Se..."
      ]
     },
     "execution_count": 12,
     "metadata": {},
     "output_type": "execute_result"
    }
   ],
   "source": [
    "reviews_ms=reviews_ms.drop_duplicates()\n",
    "reviews_ms.head()"
   ]
  },
  {
   "cell_type": "markdown",
   "metadata": {},
   "source": [
    "### Remove very small text"
   ]
  },
  {
   "cell_type": "code",
   "execution_count": 13,
   "metadata": {},
   "outputs": [],
   "source": [
    "reviews_ms.comments=reviews_ms.comments.astype(str)\n",
    "reviews_ms['len_review']=reviews_ms.comments.apply(len)"
   ]
  },
  {
   "cell_type": "code",
   "execution_count": 15,
   "metadata": {},
   "outputs": [
    {
     "data": {
      "text/plain": [
       "count    2677.000000\n",
       "mean      163.776242\n",
       "std       131.114011\n",
       "min         2.000000\n",
       "25%        77.000000\n",
       "50%       140.000000\n",
       "75%       202.000000\n",
       "max      1236.000000\n",
       "Name: len_review, dtype: float64"
      ]
     },
     "execution_count": 15,
     "metadata": {},
     "output_type": "execute_result"
    }
   ],
   "source": [
    "reviews_ms.len_review.describe()"
   ]
  },
  {
   "cell_type": "code",
   "execution_count": 16,
   "metadata": {},
   "outputs": [
    {
     "data": {
      "text/html": [
       "<div>\n",
       "<style scoped>\n",
       "    .dataframe tbody tr th:only-of-type {\n",
       "        vertical-align: middle;\n",
       "    }\n",
       "\n",
       "    .dataframe tbody tr th {\n",
       "        vertical-align: top;\n",
       "    }\n",
       "\n",
       "    .dataframe thead th {\n",
       "        text-align: right;\n",
       "    }\n",
       "</style>\n",
       "<table border=\"1\" class=\"dataframe\">\n",
       "  <thead>\n",
       "    <tr style=\"text-align: right;\">\n",
       "      <th></th>\n",
       "      <th>rating</th>\n",
       "      <th>comments</th>\n",
       "      <th>len_review</th>\n",
       "    </tr>\n",
       "  </thead>\n",
       "  <tbody>\n",
       "    <tr>\n",
       "      <th>0</th>\n",
       "      <td>4</td>\n",
       "      <td>Give 4 stars because order at the price 37 but...</td>\n",
       "      <td>66</td>\n",
       "    </tr>\n",
       "    <tr>\n",
       "      <th>1</th>\n",
       "      <td>5</td>\n",
       "      <td>Ordered at a discount of 10 baht per piece. It...</td>\n",
       "      <td>167</td>\n",
       "    </tr>\n",
       "    <tr>\n",
       "      <th>2</th>\n",
       "      <td>5</td>\n",
       "      <td>Small, cute, compact, good But the sash looks ...</td>\n",
       "      <td>150</td>\n",
       "    </tr>\n",
       "    <tr>\n",
       "      <th>3</th>\n",
       "      <td>1</td>\n",
       "      <td>The size is not as large as it is down. The st...</td>\n",
       "      <td>135</td>\n",
       "    </tr>\n",
       "    <tr>\n",
       "      <th>4</th>\n",
       "      <td>1</td>\n",
       "      <td>The product is compared to the price. Okay. Se...</td>\n",
       "      <td>302</td>\n",
       "    </tr>\n",
       "  </tbody>\n",
       "</table>\n",
       "</div>"
      ],
      "text/plain": [
       "   rating                                           comments  len_review\n",
       "0       4  Give 4 stars because order at the price 37 but...          66\n",
       "1       5  Ordered at a discount of 10 baht per piece. It...         167\n",
       "2       5  Small, cute, compact, good But the sash looks ...         150\n",
       "3       1  The size is not as large as it is down. The st...         135\n",
       "4       1  The product is compared to the price. Okay. Se...         302"
      ]
     },
     "execution_count": 16,
     "metadata": {},
     "output_type": "execute_result"
    }
   ],
   "source": [
    "reviews_ms.comments=reviews_ms.comments.apply(lambda x: x.replace('👍','good '))\n",
    "reviews_ms.head()"
   ]
  },
  {
   "cell_type": "code",
   "execution_count": 17,
   "metadata": {},
   "outputs": [
    {
     "data": {
      "text/html": [
       "<div>\n",
       "<style scoped>\n",
       "    .dataframe tbody tr th:only-of-type {\n",
       "        vertical-align: middle;\n",
       "    }\n",
       "\n",
       "    .dataframe tbody tr th {\n",
       "        vertical-align: top;\n",
       "    }\n",
       "\n",
       "    .dataframe thead th {\n",
       "        text-align: right;\n",
       "    }\n",
       "</style>\n",
       "<table border=\"1\" class=\"dataframe\">\n",
       "  <thead>\n",
       "    <tr style=\"text-align: right;\">\n",
       "      <th></th>\n",
       "      <th>rating</th>\n",
       "      <th>comments</th>\n",
       "      <th>len_review</th>\n",
       "    </tr>\n",
       "  </thead>\n",
       "  <tbody>\n",
       "    <tr>\n",
       "      <th>0</th>\n",
       "      <td>4</td>\n",
       "      <td>Give 4 stars because order at the price 37 but...</td>\n",
       "      <td>66</td>\n",
       "    </tr>\n",
       "    <tr>\n",
       "      <th>1</th>\n",
       "      <td>5</td>\n",
       "      <td>Ordered at a discount of 10 baht per piece. It...</td>\n",
       "      <td>167</td>\n",
       "    </tr>\n",
       "    <tr>\n",
       "      <th>2</th>\n",
       "      <td>5</td>\n",
       "      <td>Small, cute, compact, good But the sash looks ...</td>\n",
       "      <td>150</td>\n",
       "    </tr>\n",
       "    <tr>\n",
       "      <th>3</th>\n",
       "      <td>1</td>\n",
       "      <td>The size is not as large as it is down. The st...</td>\n",
       "      <td>135</td>\n",
       "    </tr>\n",
       "    <tr>\n",
       "      <th>4</th>\n",
       "      <td>1</td>\n",
       "      <td>The product is compared to the price. Okay. Se...</td>\n",
       "      <td>302</td>\n",
       "    </tr>\n",
       "  </tbody>\n",
       "</table>\n",
       "</div>"
      ],
      "text/plain": [
       "   rating                                           comments  len_review\n",
       "0       4  Give 4 stars because order at the price 37 but...          66\n",
       "1       5  Ordered at a discount of 10 baht per piece. It...         167\n",
       "2       5  Small, cute, compact, good But the sash looks ...         150\n",
       "3       1  The size is not as large as it is down. The st...         135\n",
       "4       1  The product is compared to the price. Okay. Se...         302"
      ]
     },
     "execution_count": 17,
     "metadata": {},
     "output_type": "execute_result"
    }
   ],
   "source": [
    "s_limit=50\n",
    "max_limit=1300\n",
    "reviews=reviews_ms.loc[(reviews.len_review>=s_limit) & (reviews.len_review<max_limit),:]\n",
    "reviews.head()"
   ]
  },
  {
   "cell_type": "code",
   "execution_count": 18,
   "metadata": {},
   "outputs": [
    {
     "data": {
      "text/plain": [
       "(2204, 3)"
      ]
     },
     "execution_count": 18,
     "metadata": {},
     "output_type": "execute_result"
    }
   ],
   "source": [
    "reviews.shape"
   ]
  },
  {
   "cell_type": "markdown",
   "metadata": {},
   "source": [
    "### loading spacy"
   ]
  },
  {
   "cell_type": "code",
   "execution_count": 19,
   "metadata": {},
   "outputs": [],
   "source": [
    "# Creating a spaCy object\n",
    "nlp = spacy.load('en_core_web_lg')"
   ]
  },
  {
   "cell_type": "markdown",
   "metadata": {},
   "source": [
    "### Named Entity Recognition\n",
    " Named Entity Recognition is an information extraction task where named entities in unstructured sentences are located and classified  in some pre-defined categories such as the person names, organizations, locations, medical codes, time expressions, quantities, monetary values, percentages, etc."
   ]
  },
  {
   "cell_type": "code",
   "execution_count": 20,
   "metadata": {},
   "outputs": [
    {
     "data": {
      "text/html": [
       "<div class=\"entities\" style=\"line-height: 2.5\">Give \n",
       "<mark class=\"entity\" style=\"background: #e4e7d2; padding: 0.45em 0.6em; margin: 0 0.25em; line-height: 1; border-radius: 0.35em; box-decoration-break: clone; -webkit-box-decoration-break: clone\">\n",
       "    4\n",
       "    <span style=\"font-size: 0.8em; font-weight: bold; line-height: 1; border-radius: 0.35em; text-transform: uppercase; vertical-align: middle; margin-left: 0.5rem\">CARDINAL</span>\n",
       "</mark>\n",
       " stars because order at the price \n",
       "<mark class=\"entity\" style=\"background: #e4e7d2; padding: 0.45em 0.6em; margin: 0 0.25em; line-height: 1; border-radius: 0.35em; box-decoration-break: clone; -webkit-box-decoration-break: clone\">\n",
       "    37\n",
       "    <span style=\"font-size: 0.8em; font-weight: bold; line-height: 1; border-radius: 0.35em; text-transform: uppercase; vertical-align: middle; margin-left: 0.5rem\">CARDINAL</span>\n",
       "</mark>\n",
       " but \n",
       "<mark class=\"entity\" style=\"background: #bfe1d9; padding: 0.45em 0.6em; margin: 0 0.25em; line-height: 1; border-radius: 0.35em; box-decoration-break: clone; -webkit-box-decoration-break: clone\">\n",
       "    today\n",
       "    <span style=\"font-size: 0.8em; font-weight: bold; line-height: 1; border-radius: 0.35em; text-transform: uppercase; vertical-align: middle; margin-left: 0.5rem\">DATE</span>\n",
       "</mark>\n",
       " \n",
       "<mark class=\"entity\" style=\"background: #e4e7d2; padding: 0.45em 0.6em; margin: 0 0.25em; line-height: 1; border-radius: 0.35em; box-decoration-break: clone; -webkit-box-decoration-break: clone\">\n",
       "    29 baht\n",
       "    <span style=\"font-size: 0.8em; font-weight: bold; line-height: 1; border-radius: 0.35em; text-transform: uppercase; vertical-align: middle; margin-left: 0.5rem\">QUANTITY</span>\n",
       "</mark>\n",
       " sorry</div>"
      ],
      "text/plain": [
       "<IPython.core.display.HTML object>"
      ]
     },
     "metadata": {},
     "output_type": "display_data"
    }
   ],
   "source": [
    "doc = nlp(reviews[\"comments\"][0])\n",
    "spacy.displacy.render(doc, style='ent',jupyter=True)"
   ]
  },
  {
   "cell_type": "code",
   "execution_count": 21,
   "metadata": {},
   "outputs": [],
   "source": [
    "punctuations = string.punctuation\n",
    "stopwords = list(STOP_WORDS)"
   ]
  },
  {
   "cell_type": "markdown",
   "metadata": {},
   "source": [
    "### Lemmatization\n",
    "It is the  process of grouping together the inflected forms of a word so they can be analysed as a single item, identified by the word's lemma, or dictionary form. Words like \"ran\" and \"running\" are converted to \"run\" to avoid having words with similar meanings in our data."
   ]
  },
  {
   "cell_type": "code",
   "execution_count": 22,
   "metadata": {},
   "outputs": [],
   "source": [
    "review = str(\" \".join([i.lemma_ for i in doc]))"
   ]
  },
  {
   "cell_type": "code",
   "execution_count": 23,
   "metadata": {},
   "outputs": [
    {
     "data": {
      "text/html": [
       "<div class=\"entities\" style=\"line-height: 2.5\">give \n",
       "<mark class=\"entity\" style=\"background: #e4e7d2; padding: 0.45em 0.6em; margin: 0 0.25em; line-height: 1; border-radius: 0.35em; box-decoration-break: clone; -webkit-box-decoration-break: clone\">\n",
       "    4\n",
       "    <span style=\"font-size: 0.8em; font-weight: bold; line-height: 1; border-radius: 0.35em; text-transform: uppercase; vertical-align: middle; margin-left: 0.5rem\">CARDINAL</span>\n",
       "</mark>\n",
       " star because order at the price \n",
       "<mark class=\"entity\" style=\"background: #e4e7d2; padding: 0.45em 0.6em; margin: 0 0.25em; line-height: 1; border-radius: 0.35em; box-decoration-break: clone; -webkit-box-decoration-break: clone\">\n",
       "    37\n",
       "    <span style=\"font-size: 0.8em; font-weight: bold; line-height: 1; border-radius: 0.35em; text-transform: uppercase; vertical-align: middle; margin-left: 0.5rem\">CARDINAL</span>\n",
       "</mark>\n",
       " but \n",
       "<mark class=\"entity\" style=\"background: #bfe1d9; padding: 0.45em 0.6em; margin: 0 0.25em; line-height: 1; border-radius: 0.35em; box-decoration-break: clone; -webkit-box-decoration-break: clone\">\n",
       "    today\n",
       "    <span style=\"font-size: 0.8em; font-weight: bold; line-height: 1; border-radius: 0.35em; text-transform: uppercase; vertical-align: middle; margin-left: 0.5rem\">DATE</span>\n",
       "</mark>\n",
       " \n",
       "<mark class=\"entity\" style=\"background: #e4e7d2; padding: 0.45em 0.6em; margin: 0 0.25em; line-height: 1; border-radius: 0.35em; box-decoration-break: clone; -webkit-box-decoration-break: clone\">\n",
       "    29 baht\n",
       "    <span style=\"font-size: 0.8em; font-weight: bold; line-height: 1; border-radius: 0.35em; text-transform: uppercase; vertical-align: middle; margin-left: 0.5rem\">QUANTITY</span>\n",
       "</mark>\n",
       " sorry</div>"
      ],
      "text/plain": [
       "<IPython.core.display.HTML object>"
      ]
     },
     "metadata": {},
     "output_type": "display_data"
    }
   ],
   "source": [
    "doc = nlp(review)\n",
    "spacy.displacy.render(doc, style='ent',jupyter=True)"
   ]
  },
  {
   "cell_type": "markdown",
   "metadata": {},
   "source": [
    "### Parts of Speech tagging\n",
    "\n",
    "This is the process of marking up a word in a text (corpus) as corresponding to a particular part of speech,[1] based on both its definition and its context—i.e., its relationship with adjacent and related words in a phrase, sentence, or paragraph. A simplified form of this is commonly taught to school-age children, in the identification of words as nouns, verbs, adjectives, adverbs, etc."
   ]
  },
  {
   "cell_type": "code",
   "execution_count": 24,
   "metadata": {},
   "outputs": [],
   "source": [
    "# Parser for reviews\n",
    "parser = English()\n",
    "def spacy_tokenizer(sentence):\n",
    "    mytokens = parser(sentence)\n",
    "    mytokens = [ word.lemma_.lower().strip() if word.lemma_ != \"-PRON-\" else word.lower_ for word in mytokens ]\n",
    "    mytokens = [ word for word in mytokens if word not in stopwords and word not in punctuations ]\n",
    "    mytokens = \" \".join([i for i in mytokens])\n",
    "    return mytokens"
   ]
  },
  {
   "cell_type": "code",
   "execution_count": 25,
   "metadata": {},
   "outputs": [
    {
     "name": "stderr",
     "output_type": "stream",
     "text": [
      "100%|██████████| 2204/2204 [00:00<00:00, 4001.81it/s]\n"
     ]
    }
   ],
   "source": [
    "tqdm.pandas()\n",
    "reviews[\"processed_description\"] = reviews[\"comments\"].progress_apply(spacy_tokenizer)"
   ]
  },
  {
   "cell_type": "code",
   "execution_count": 26,
   "metadata": {
    "scrolled": true
   },
   "outputs": [
    {
     "data": {
      "text/html": [
       "<div>\n",
       "<style scoped>\n",
       "    .dataframe tbody tr th:only-of-type {\n",
       "        vertical-align: middle;\n",
       "    }\n",
       "\n",
       "    .dataframe tbody tr th {\n",
       "        vertical-align: top;\n",
       "    }\n",
       "\n",
       "    .dataframe thead th {\n",
       "        text-align: right;\n",
       "    }\n",
       "</style>\n",
       "<table border=\"1\" class=\"dataframe\">\n",
       "  <thead>\n",
       "    <tr style=\"text-align: right;\">\n",
       "      <th></th>\n",
       "      <th>rating</th>\n",
       "      <th>comments</th>\n",
       "      <th>len_review</th>\n",
       "      <th>processed_description</th>\n",
       "    </tr>\n",
       "  </thead>\n",
       "  <tbody>\n",
       "    <tr>\n",
       "      <th>0</th>\n",
       "      <td>4</td>\n",
       "      <td>Give 4 stars because order at the price 37 but...</td>\n",
       "      <td>66</td>\n",
       "      <td>4 star order price 37 today 29 baht sorry</td>\n",
       "    </tr>\n",
       "    <tr>\n",
       "      <th>1</th>\n",
       "      <td>5</td>\n",
       "      <td>Ordered at a discount of 10 baht per piece. It...</td>\n",
       "      <td>167</td>\n",
       "      <td>ordered discount 10 baht piece worth note leav...</td>\n",
       "    </tr>\n",
       "    <tr>\n",
       "      <th>2</th>\n",
       "      <td>5</td>\n",
       "      <td>Small, cute, compact, good But the sash looks ...</td>\n",
       "      <td>150</td>\n",
       "      <td>small cute compact good sash look like little ...</td>\n",
       "    </tr>\n",
       "    <tr>\n",
       "      <th>3</th>\n",
       "      <td>1</td>\n",
       "      <td>The size is not as large as it is down. The st...</td>\n",
       "      <td>135</td>\n",
       "      <td>size large stitch wrong bag line contemplate l...</td>\n",
       "    </tr>\n",
       "    <tr>\n",
       "      <th>4</th>\n",
       "      <td>1</td>\n",
       "      <td>The product is compared to the price. Okay. Se...</td>\n",
       "      <td>302</td>\n",
       "      <td>product compare price okay send slowly bad thi...</td>\n",
       "    </tr>\n",
       "    <tr>\n",
       "      <th>5</th>\n",
       "      <td>4</td>\n",
       "      <td>Beautiful work Sewing Good compact Suitable fo...</td>\n",
       "      <td>111</td>\n",
       "      <td>beautiful work sewing good compact suitable pr...</td>\n",
       "    </tr>\n",
       "    <tr>\n",
       "      <th>6</th>\n",
       "      <td>4</td>\n",
       "      <td>Worth the price ordered When holding the bag S...</td>\n",
       "      <td>116</td>\n",
       "      <td>worth price order hold bag send fast think wra...</td>\n",
       "    </tr>\n",
       "    <tr>\n",
       "      <th>7</th>\n",
       "      <td>5</td>\n",
       "      <td>This bag is like a shoulder bag. Colorful shap...</td>\n",
       "      <td>262</td>\n",
       "      <td>bag like shoulder bag colorful shape regret sh...</td>\n",
       "    </tr>\n",
       "    <tr>\n",
       "      <th>9</th>\n",
       "      <td>5</td>\n",
       "      <td>Beautiful, cheap, very worthwhile. ðŸ‘ðŸ‘ðŸ‘...</td>\n",
       "      <td>531</td>\n",
       "      <td>beautiful cheap worthwhile ðÿ‘ðÿ‘ðÿ‘ðÿ‘ðÿ‘...</td>\n",
       "    </tr>\n",
       "    <tr>\n",
       "      <th>10</th>\n",
       "      <td>5</td>\n",
       "      <td>A cute seller, very worthwhile. Very worthwhil...</td>\n",
       "      <td>285</td>\n",
       "      <td>cute seller worthwhile worthwhile good value b...</td>\n",
       "    </tr>\n",
       "    <tr>\n",
       "      <th>11</th>\n",
       "      <td>5</td>\n",
       "      <td>ðŸŒ¹ðŸŒ¹ðŸŒ¹ðŸŒ¹ðŸŒ¹ðŸŒ¹ðŸŒ¹ ðŸ¸ðŸŒ¹ðŸŒ¹ðŸŒ¹ð...</td>\n",
       "      <td>455</td>\n",
       "      <td>ðÿœ¹ðÿœ¹ðÿœ¹ðÿœ¹ðÿœ¹ðÿœ¹ðÿœ¹ ðÿ¸ðÿœ¹ðÿœ¹ðÿœ¹ð...</td>\n",
       "    </tr>\n",
       "    <tr>\n",
       "      <th>12</th>\n",
       "      <td>5</td>\n",
       "      <td>55555 Cute little leaves. Should be able to we...</td>\n",
       "      <td>235</td>\n",
       "      <td>55555 cute little leave able wear new cosmetic...</td>\n",
       "    </tr>\n",
       "    <tr>\n",
       "      <th>13</th>\n",
       "      <td>4</td>\n",
       "      <td>Product quality is almost good. But the leaves...</td>\n",
       "      <td>262</td>\n",
       "      <td>product quality good leave little small compar...</td>\n",
       "    </tr>\n",
       "    <tr>\n",
       "      <th>14</th>\n",
       "      <td>5</td>\n",
       "      <td>The product size is the same as the palm, but ...</td>\n",
       "      <td>136</td>\n",
       "      <td>product size palm purchase price 10 baht try u...</td>\n",
       "    </tr>\n",
       "    <tr>\n",
       "      <th>15</th>\n",
       "      <td>5</td>\n",
       "      <td>ðŸ˜šðŸŽ‰ â™¥ ï¸ Cute value bag Ordered brown ...</td>\n",
       "      <td>192</td>\n",
       "      <td>ðÿ˜šðÿž‰ â ™ ¥ ï¸ cute value bag ordered brow...</td>\n",
       "    </tr>\n",
       "    <tr>\n",
       "      <th>16</th>\n",
       "      <td>4</td>\n",
       "      <td>The product is not fully contactable. Not info...</td>\n",
       "      <td>178</td>\n",
       "      <td>product fully contactable inform delivery slow...</td>\n",
       "    </tr>\n",
       "    <tr>\n",
       "      <th>18</th>\n",
       "      <td>3</td>\n",
       "      <td>The product is not fully contactable. Not info...</td>\n",
       "      <td>178</td>\n",
       "      <td>product fully contactable inform delivery slow...</td>\n",
       "    </tr>\n",
       "    <tr>\n",
       "      <th>19</th>\n",
       "      <td>4</td>\n",
       "      <td>Received the product Pretty cute But would lik...</td>\n",
       "      <td>95</td>\n",
       "      <td>received product pretty cute like deduct 1 sta...</td>\n",
       "    </tr>\n",
       "    <tr>\n",
       "      <th>20</th>\n",
       "      <td>4</td>\n",
       "      <td>Compact, suitable for wearing phones Not carry...</td>\n",
       "      <td>78</td>\n",
       "      <td>compact suitable wear phone carry lot bag brea...</td>\n",
       "    </tr>\n",
       "    <tr>\n",
       "      <th>21</th>\n",
       "      <td>3</td>\n",
       "      <td>This quality cell product is medium in quality...</td>\n",
       "      <td>114</td>\n",
       "      <td>quality cell product medium quality price bad ...</td>\n",
       "    </tr>\n",
       "    <tr>\n",
       "      <th>22</th>\n",
       "      <td>5</td>\n",
       "      <td>The product is very good. I am still to use it...</td>\n",
       "      <td>219</td>\n",
       "      <td>product good use impress package delivery time...</td>\n",
       "    </tr>\n",
       "    <tr>\n",
       "      <th>23</th>\n",
       "      <td>5</td>\n",
       "      <td>Good product, cheap price, to subsidize again....</td>\n",
       "      <td>538</td>\n",
       "      <td>good product cheap price subsidize good produc...</td>\n",
       "    </tr>\n",
       "    <tr>\n",
       "      <th>24</th>\n",
       "      <td>1</td>\n",
       "      <td>It's cute. But cut off the dam, not ok Almost ...</td>\n",
       "      <td>163</td>\n",
       "      <td>cute cut dam okay thread drop wear heavy stuff...</td>\n",
       "    </tr>\n",
       "    <tr>\n",
       "      <th>25</th>\n",
       "      <td>4</td>\n",
       "      <td>Fair product quality Good value with the price...</td>\n",
       "      <td>112</td>\n",
       "      <td>fair product quality good value price fast del...</td>\n",
       "    </tr>\n",
       "    <tr>\n",
       "      <th>26</th>\n",
       "      <td>5</td>\n",
       "      <td>It's pretty cute. {~ {~ {~ {{{{{{{{{{{[{ {{Î² ...</td>\n",
       "      <td>308</td>\n",
       "      <td>pretty cute î² î² î² î² î² â€¢ â€¢ â€¢ â€¢ â€¢...</td>\n",
       "    </tr>\n",
       "    <tr>\n",
       "      <th>27</th>\n",
       "      <td>4</td>\n",
       "      <td>The product meets the image ... How long does ...</td>\n",
       "      <td>160</td>\n",
       "      <td>product meet image ... long doe delivery good ...</td>\n",
       "    </tr>\n",
       "    <tr>\n",
       "      <th>28</th>\n",
       "      <td>5</td>\n",
       "      <td>This product is very good This product is very...</td>\n",
       "      <td>535</td>\n",
       "      <td>product good product good product good product...</td>\n",
       "    </tr>\n",
       "    <tr>\n",
       "      <th>29</th>\n",
       "      <td>5</td>\n",
       "      <td>Beautiful, good value, good delivery, Dokke's ...</td>\n",
       "      <td>359</td>\n",
       "      <td>beautiful good value good delivery dokke packa...</td>\n",
       "    </tr>\n",
       "    <tr>\n",
       "      <th>30</th>\n",
       "      <td>5</td>\n",
       "      <td>Get the full product waiting for a very long t...</td>\n",
       "      <td>537</td>\n",
       "      <td>product wait long time good product complete p...</td>\n",
       "    </tr>\n",
       "    <tr>\n",
       "      <th>32</th>\n",
       "      <td>5</td>\n",
       "      <td>Good product with good product quality, good p...</td>\n",
       "      <td>420</td>\n",
       "      <td>good product good product quality good product...</td>\n",
       "    </tr>\n",
       "    <tr>\n",
       "      <th>...</th>\n",
       "      <td>...</td>\n",
       "      <td>...</td>\n",
       "      <td>...</td>\n",
       "      <td>...</td>\n",
       "    </tr>\n",
       "    <tr>\n",
       "      <th>3146</th>\n",
       "      <td>5</td>\n",
       "      <td>Bag is very beautiful. Very desirable, suitabl...</td>\n",
       "      <td>66</td>\n",
       "      <td>bag beautiful desirable suitable lot price</td>\n",
       "    </tr>\n",
       "    <tr>\n",
       "      <th>3148</th>\n",
       "      <td>5</td>\n",
       "      <td>The product is suitable for a large price, so ...</td>\n",
       "      <td>86</td>\n",
       "      <td>product suitable large price reed reed reed re...</td>\n",
       "    </tr>\n",
       "    <tr>\n",
       "      <th>3150</th>\n",
       "      <td>4</td>\n",
       "      <td>Good product, use page Good delivery available...</td>\n",
       "      <td>114</td>\n",
       "      <td>good product use page good delivery available ...</td>\n",
       "    </tr>\n",
       "    <tr>\n",
       "      <th>3151</th>\n",
       "      <td>5</td>\n",
       "      <td>Good quality, over price, very sensitive. ðŸ‘...</td>\n",
       "      <td>58</td>\n",
       "      <td>good quality price sensitive ðÿ‘ðÿ»ðÿ‘ðÿ »</td>\n",
       "    </tr>\n",
       "    <tr>\n",
       "      <th>3152</th>\n",
       "      <td>1</td>\n",
       "      <td>It takes a long time to ship. Packed products ...</td>\n",
       "      <td>194</td>\n",
       "      <td>long time ship packed product fairly good prod...</td>\n",
       "    </tr>\n",
       "    <tr>\n",
       "      <th>3153</th>\n",
       "      <td>5</td>\n",
       "      <td>Beautiful, very pleasant, fast delivery Good s...</td>\n",
       "      <td>133</td>\n",
       "      <td>beautiful pleasant fast delivery good service ...</td>\n",
       "    </tr>\n",
       "    <tr>\n",
       "      <th>3154</th>\n",
       "      <td>3</td>\n",
       "      <td>It is not as beautiful as the picture. It is n...</td>\n",
       "      <td>168</td>\n",
       "      <td>beautiful picture beautiful come price 19 à¸¿....</td>\n",
       "    </tr>\n",
       "    <tr>\n",
       "      <th>3155</th>\n",
       "      <td>4</td>\n",
       "      <td>Buy at the moment, 16 baht per piece is consid...</td>\n",
       "      <td>377</td>\n",
       "      <td>buy moment 16 baht piece consider worthwhile p...</td>\n",
       "    </tr>\n",
       "    <tr>\n",
       "      <th>3156</th>\n",
       "      <td>5</td>\n",
       "      <td>Worth the price Store service and product deli...</td>\n",
       "      <td>118</td>\n",
       "      <td>worth price store service product delivery fas...</td>\n",
       "    </tr>\n",
       "    <tr>\n",
       "      <th>3157</th>\n",
       "      <td>5</td>\n",
       "      <td>Good product quality Worth the price, good ser...</td>\n",
       "      <td>73</td>\n",
       "      <td>good product quality worth price good service ...</td>\n",
       "    </tr>\n",
       "    <tr>\n",
       "      <th>3158</th>\n",
       "      <td>5</td>\n",
       "      <td>Good product quality Suitable for the price du...</td>\n",
       "      <td>147</td>\n",
       "      <td>good product quality suitable price price redu...</td>\n",
       "    </tr>\n",
       "    <tr>\n",
       "      <th>3160</th>\n",
       "      <td>5</td>\n",
       "      <td>ðŸ‘ðŸ‘ðŸ‘ðŸ‘ðŸ‘ðŸ‘ðŸ‘ðŸ‘ðŸ‘ðŸ‘ðŸ‘ðŸ...</td>\n",
       "      <td>221</td>\n",
       "      <td>ðÿ‘ðÿ‘ðÿ‘ðÿ‘ðÿ‘ðÿ‘ðÿ‘ðÿ‘ðÿ‘ðÿ‘ðÿ‘ðÿ...</td>\n",
       "    </tr>\n",
       "    <tr>\n",
       "      <th>3161</th>\n",
       "      <td>4</td>\n",
       "      <td>Very beautiful. Quality over price. Very beaut...</td>\n",
       "      <td>179</td>\n",
       "      <td>beautiful quality price beautiful quality pric...</td>\n",
       "    </tr>\n",
       "    <tr>\n",
       "      <th>3163</th>\n",
       "      <td>1</td>\n",
       "      <td>I will go where I am, then I will not go and s...</td>\n",
       "      <td>209</td>\n",
       "      <td>understand think look brother offer</td>\n",
       "    </tr>\n",
       "    <tr>\n",
       "      <th>3164</th>\n",
       "      <td>3</td>\n",
       "      <td>Song of the Bull, Hello, in the game with Manc...</td>\n",
       "      <td>225</td>\n",
       "      <td>song bull hello game manchester sleep come ans...</td>\n",
       "    </tr>\n",
       "    <tr>\n",
       "      <th>3165</th>\n",
       "      <td>4</td>\n",
       "      <td>Good product, good, good, good, good, good, go...</td>\n",
       "      <td>214</td>\n",
       "      <td>good product good good good good good good tra...</td>\n",
       "    </tr>\n",
       "    <tr>\n",
       "      <th>3166</th>\n",
       "      <td>5</td>\n",
       "      <td>Very good. Reed Reed Reed Reed Reed Reed Reed ...</td>\n",
       "      <td>50</td>\n",
       "      <td>good reed reed reed reed reed reed reed reed</td>\n",
       "    </tr>\n",
       "    <tr>\n",
       "      <th>3167</th>\n",
       "      <td>4</td>\n",
       "      <td>Good product quality, reasonable price, good v...</td>\n",
       "      <td>184</td>\n",
       "      <td>good product quality reasonable price good val...</td>\n",
       "    </tr>\n",
       "    <tr>\n",
       "      <th>3168</th>\n",
       "      <td>5</td>\n",
       "      <td>Send good price for 10 baht. This price does n...</td>\n",
       "      <td>133</td>\n",
       "      <td>send good price 10 baht price doe think buy mo...</td>\n",
       "    </tr>\n",
       "    <tr>\n",
       "      <th>3170</th>\n",
       "      <td>4</td>\n",
       "      <td>The bag is cute and cheap. The seller put the ...</td>\n",
       "      <td>142</td>\n",
       "      <td>bag cute cheap seller black plastic bag bag br...</td>\n",
       "    </tr>\n",
       "    <tr>\n",
       "      <th>3171</th>\n",
       "      <td>5</td>\n",
       "      <td>Packed goods are good. Good quality. Price is ...</td>\n",
       "      <td>178</td>\n",
       "      <td>packed good good good quality price good subsi...</td>\n",
       "    </tr>\n",
       "    <tr>\n",
       "      <th>3172</th>\n",
       "      <td>5</td>\n",
       "      <td>Buy FLASH SALE at the price of 9 baht. The del...</td>\n",
       "      <td>119</td>\n",
       "      <td>buy flash sale price 9 baht delivery fee 22 ba...</td>\n",
       "    </tr>\n",
       "    <tr>\n",
       "      <th>3173</th>\n",
       "      <td>5</td>\n",
       "      <td>Very good product quality Very good value Very...</td>\n",
       "      <td>377</td>\n",
       "      <td>good product quality good value good product q...</td>\n",
       "    </tr>\n",
       "    <tr>\n",
       "      <th>3175</th>\n",
       "      <td>3</td>\n",
       "      <td>Small shoulder bag, put a little Quality is re...</td>\n",
       "      <td>137</td>\n",
       "      <td>small shoulder bag little quality reasonable p...</td>\n",
       "    </tr>\n",
       "    <tr>\n",
       "      <th>3176</th>\n",
       "      <td>4</td>\n",
       "      <td>Good product quality Very good value Good deli...</td>\n",
       "      <td>141</td>\n",
       "      <td>good product quality good value good delivery ...</td>\n",
       "    </tr>\n",
       "    <tr>\n",
       "      <th>3177</th>\n",
       "      <td>5</td>\n",
       "      <td>7 baht is very cheap. Like, light, comfortable...</td>\n",
       "      <td>133</td>\n",
       "      <td>7 baht cheap like light comfortable beautiful ...</td>\n",
       "    </tr>\n",
       "    <tr>\n",
       "      <th>3178</th>\n",
       "      <td>3</td>\n",
       "      <td>Ordered Pink to be blue, very disappointed The...</td>\n",
       "      <td>207</td>\n",
       "      <td>ordered pink blue disappoint item fast service...</td>\n",
       "    </tr>\n",
       "    <tr>\n",
       "      <th>3179</th>\n",
       "      <td>4</td>\n",
       "      <td>Pretty good, but want the product pack to be b...</td>\n",
       "      <td>107</td>\n",
       "      <td>pretty good want product pack break pack come ...</td>\n",
       "    </tr>\n",
       "    <tr>\n",
       "      <th>3180</th>\n",
       "      <td>5</td>\n",
       "      <td>Received the product. Shop well packaged goods...</td>\n",
       "      <td>102</td>\n",
       "      <td>received product shop good package good fast d...</td>\n",
       "    </tr>\n",
       "    <tr>\n",
       "      <th>3181</th>\n",
       "      <td>5</td>\n",
       "      <td>Products delivered very fast. The real product...</td>\n",
       "      <td>261</td>\n",
       "      <td>products deliver fast real product like pictur...</td>\n",
       "    </tr>\n",
       "  </tbody>\n",
       "</table>\n",
       "<p>2204 rows × 4 columns</p>\n",
       "</div>"
      ],
      "text/plain": [
       "      rating                                           comments  len_review  \\\n",
       "0          4  Give 4 stars because order at the price 37 but...          66   \n",
       "1          5  Ordered at a discount of 10 baht per piece. It...         167   \n",
       "2          5  Small, cute, compact, good But the sash looks ...         150   \n",
       "3          1  The size is not as large as it is down. The st...         135   \n",
       "4          1  The product is compared to the price. Okay. Se...         302   \n",
       "5          4  Beautiful work Sewing Good compact Suitable fo...         111   \n",
       "6          4  Worth the price ordered When holding the bag S...         116   \n",
       "7          5  This bag is like a shoulder bag. Colorful shap...         262   \n",
       "9          5  Beautiful, cheap, very worthwhile. ðŸ‘ðŸ‘ðŸ‘...         531   \n",
       "10         5  A cute seller, very worthwhile. Very worthwhil...         285   \n",
       "11         5  ðŸŒ¹ðŸŒ¹ðŸŒ¹ðŸŒ¹ðŸŒ¹ðŸŒ¹ðŸŒ¹ ðŸ¸ðŸŒ¹ðŸŒ¹ðŸŒ¹ð...         455   \n",
       "12         5  55555 Cute little leaves. Should be able to we...         235   \n",
       "13         4  Product quality is almost good. But the leaves...         262   \n",
       "14         5  The product size is the same as the palm, but ...         136   \n",
       "15         5  ðŸ˜šðŸŽ‰ â™¥ ï¸ Cute value bag Ordered brown ...         192   \n",
       "16         4  The product is not fully contactable. Not info...         178   \n",
       "18         3  The product is not fully contactable. Not info...         178   \n",
       "19         4  Received the product Pretty cute But would lik...          95   \n",
       "20         4  Compact, suitable for wearing phones Not carry...          78   \n",
       "21         3  This quality cell product is medium in quality...         114   \n",
       "22         5  The product is very good. I am still to use it...         219   \n",
       "23         5  Good product, cheap price, to subsidize again....         538   \n",
       "24         1  It's cute. But cut off the dam, not ok Almost ...         163   \n",
       "25         4  Fair product quality Good value with the price...         112   \n",
       "26         5  It's pretty cute. {~ {~ {~ {{{{{{{{{{{[{ {{Î² ...         308   \n",
       "27         4  The product meets the image ... How long does ...         160   \n",
       "28         5  This product is very good This product is very...         535   \n",
       "29         5  Beautiful, good value, good delivery, Dokke's ...         359   \n",
       "30         5  Get the full product waiting for a very long t...         537   \n",
       "32         5  Good product with good product quality, good p...         420   \n",
       "...      ...                                                ...         ...   \n",
       "3146       5  Bag is very beautiful. Very desirable, suitabl...          66   \n",
       "3148       5  The product is suitable for a large price, so ...          86   \n",
       "3150       4  Good product, use page Good delivery available...         114   \n",
       "3151       5  Good quality, over price, very sensitive. ðŸ‘...          58   \n",
       "3152       1  It takes a long time to ship. Packed products ...         194   \n",
       "3153       5  Beautiful, very pleasant, fast delivery Good s...         133   \n",
       "3154       3  It is not as beautiful as the picture. It is n...         168   \n",
       "3155       4  Buy at the moment, 16 baht per piece is consid...         377   \n",
       "3156       5  Worth the price Store service and product deli...         118   \n",
       "3157       5  Good product quality Worth the price, good ser...          73   \n",
       "3158       5  Good product quality Suitable for the price du...         147   \n",
       "3160       5  ðŸ‘ðŸ‘ðŸ‘ðŸ‘ðŸ‘ðŸ‘ðŸ‘ðŸ‘ðŸ‘ðŸ‘ðŸ‘ðŸ...         221   \n",
       "3161       4  Very beautiful. Quality over price. Very beaut...         179   \n",
       "3163       1  I will go where I am, then I will not go and s...         209   \n",
       "3164       3  Song of the Bull, Hello, in the game with Manc...         225   \n",
       "3165       4  Good product, good, good, good, good, good, go...         214   \n",
       "3166       5  Very good. Reed Reed Reed Reed Reed Reed Reed ...          50   \n",
       "3167       4  Good product quality, reasonable price, good v...         184   \n",
       "3168       5  Send good price for 10 baht. This price does n...         133   \n",
       "3170       4  The bag is cute and cheap. The seller put the ...         142   \n",
       "3171       5  Packed goods are good. Good quality. Price is ...         178   \n",
       "3172       5  Buy FLASH SALE at the price of 9 baht. The del...         119   \n",
       "3173       5  Very good product quality Very good value Very...         377   \n",
       "3175       3  Small shoulder bag, put a little Quality is re...         137   \n",
       "3176       4  Good product quality Very good value Good deli...         141   \n",
       "3177       5  7 baht is very cheap. Like, light, comfortable...         133   \n",
       "3178       3  Ordered Pink to be blue, very disappointed The...         207   \n",
       "3179       4  Pretty good, but want the product pack to be b...         107   \n",
       "3180       5  Received the product. Shop well packaged goods...         102   \n",
       "3181       5  Products delivered very fast. The real product...         261   \n",
       "\n",
       "                                  processed_description  \n",
       "0             4 star order price 37 today 29 baht sorry  \n",
       "1     ordered discount 10 baht piece worth note leav...  \n",
       "2     small cute compact good sash look like little ...  \n",
       "3     size large stitch wrong bag line contemplate l...  \n",
       "4     product compare price okay send slowly bad thi...  \n",
       "5     beautiful work sewing good compact suitable pr...  \n",
       "6     worth price order hold bag send fast think wra...  \n",
       "7     bag like shoulder bag colorful shape regret sh...  \n",
       "9     beautiful cheap worthwhile ðÿ‘ðÿ‘ðÿ‘ðÿ‘ðÿ‘...  \n",
       "10    cute seller worthwhile worthwhile good value b...  \n",
       "11    ðÿœ¹ðÿœ¹ðÿœ¹ðÿœ¹ðÿœ¹ðÿœ¹ðÿœ¹ ðÿ¸ðÿœ¹ðÿœ¹ðÿœ¹ð...  \n",
       "12    55555 cute little leave able wear new cosmetic...  \n",
       "13    product quality good leave little small compar...  \n",
       "14    product size palm purchase price 10 baht try u...  \n",
       "15    ðÿ˜šðÿž‰ â ™ ¥ ï¸ cute value bag ordered brow...  \n",
       "16    product fully contactable inform delivery slow...  \n",
       "18    product fully contactable inform delivery slow...  \n",
       "19    received product pretty cute like deduct 1 sta...  \n",
       "20    compact suitable wear phone carry lot bag brea...  \n",
       "21    quality cell product medium quality price bad ...  \n",
       "22    product good use impress package delivery time...  \n",
       "23    good product cheap price subsidize good produc...  \n",
       "24    cute cut dam okay thread drop wear heavy stuff...  \n",
       "25    fair product quality good value price fast del...  \n",
       "26    pretty cute î² î² î² î² î² â€¢ â€¢ â€¢ â€¢ â€¢...  \n",
       "27    product meet image ... long doe delivery good ...  \n",
       "28    product good product good product good product...  \n",
       "29    beautiful good value good delivery dokke packa...  \n",
       "30    product wait long time good product complete p...  \n",
       "32    good product good product quality good product...  \n",
       "...                                                 ...  \n",
       "3146         bag beautiful desirable suitable lot price  \n",
       "3148  product suitable large price reed reed reed re...  \n",
       "3150  good product use page good delivery available ...  \n",
       "3151     good quality price sensitive ðÿ‘ðÿ»ðÿ‘ðÿ »  \n",
       "3152  long time ship packed product fairly good prod...  \n",
       "3153  beautiful pleasant fast delivery good service ...  \n",
       "3154  beautiful picture beautiful come price 19 à¸¿....  \n",
       "3155  buy moment 16 baht piece consider worthwhile p...  \n",
       "3156  worth price store service product delivery fas...  \n",
       "3157  good product quality worth price good service ...  \n",
       "3158  good product quality suitable price price redu...  \n",
       "3160  ðÿ‘ðÿ‘ðÿ‘ðÿ‘ðÿ‘ðÿ‘ðÿ‘ðÿ‘ðÿ‘ðÿ‘ðÿ‘ðÿ...  \n",
       "3161  beautiful quality price beautiful quality pric...  \n",
       "3163                understand think look brother offer  \n",
       "3164  song bull hello game manchester sleep come ans...  \n",
       "3165  good product good good good good good good tra...  \n",
       "3166       good reed reed reed reed reed reed reed reed  \n",
       "3167  good product quality reasonable price good val...  \n",
       "3168  send good price 10 baht price doe think buy mo...  \n",
       "3170  bag cute cheap seller black plastic bag bag br...  \n",
       "3171  packed good good good quality price good subsi...  \n",
       "3172  buy flash sale price 9 baht delivery fee 22 ba...  \n",
       "3173  good product quality good value good product q...  \n",
       "3175  small shoulder bag little quality reasonable p...  \n",
       "3176  good product quality good value good delivery ...  \n",
       "3177  7 baht cheap like light comfortable beautiful ...  \n",
       "3178  ordered pink blue disappoint item fast service...  \n",
       "3179  pretty good want product pack break pack come ...  \n",
       "3180  received product shop good package good fast d...  \n",
       "3181  products deliver fast real product like pictur...  \n",
       "\n",
       "[2204 rows x 4 columns]"
      ]
     },
     "execution_count": 26,
     "metadata": {},
     "output_type": "execute_result"
    }
   ],
   "source": [
    "reviews"
   ]
  },
  {
   "cell_type": "markdown",
   "metadata": {},
   "source": [
    "# Topic-modelling"
   ]
  },
  {
   "cell_type": "code",
   "execution_count": 27,
   "metadata": {},
   "outputs": [],
   "source": [
    "# Creating a vectorizer\n",
    "vectorizer = CountVectorizer(min_df=0.005, max_df=0.85, stop_words='english', lowercase=True, token_pattern='[a-zA-Z\\-][a-zA-Z\\-]{2,}')\n",
    "data_vectorized = vectorizer.fit_transform(reviews[\"processed_description\"])"
   ]
  },
  {
   "cell_type": "code",
   "execution_count": 32,
   "metadata": {},
   "outputs": [],
   "source": [
    "NUM_TOPICS = 4"
   ]
  },
  {
   "cell_type": "code",
   "execution_count": 33,
   "metadata": {
    "scrolled": true
   },
   "outputs": [
    {
     "name": "stdout",
     "output_type": "stream",
     "text": [
      "iteration: 1 of max_iter: 50\n",
      "iteration: 2 of max_iter: 50\n",
      "iteration: 3 of max_iter: 50\n",
      "iteration: 4 of max_iter: 50\n",
      "iteration: 5 of max_iter: 50\n",
      "iteration: 6 of max_iter: 50\n",
      "iteration: 7 of max_iter: 50\n",
      "iteration: 8 of max_iter: 50\n",
      "iteration: 9 of max_iter: 50\n",
      "iteration: 10 of max_iter: 50\n",
      "iteration: 11 of max_iter: 50\n",
      "iteration: 12 of max_iter: 50\n",
      "iteration: 13 of max_iter: 50\n",
      "iteration: 14 of max_iter: 50\n",
      "iteration: 15 of max_iter: 50\n",
      "iteration: 16 of max_iter: 50\n",
      "iteration: 17 of max_iter: 50\n",
      "iteration: 18 of max_iter: 50\n",
      "iteration: 19 of max_iter: 50\n",
      "iteration: 20 of max_iter: 50\n",
      "iteration: 21 of max_iter: 50\n",
      "iteration: 22 of max_iter: 50\n",
      "iteration: 23 of max_iter: 50\n",
      "iteration: 24 of max_iter: 50\n",
      "iteration: 25 of max_iter: 50\n",
      "iteration: 26 of max_iter: 50\n",
      "iteration: 27 of max_iter: 50\n",
      "iteration: 28 of max_iter: 50\n",
      "iteration: 29 of max_iter: 50\n",
      "iteration: 30 of max_iter: 50\n",
      "iteration: 31 of max_iter: 50\n",
      "iteration: 32 of max_iter: 50\n",
      "iteration: 33 of max_iter: 50\n",
      "iteration: 34 of max_iter: 50\n",
      "iteration: 35 of max_iter: 50\n",
      "iteration: 36 of max_iter: 50\n",
      "iteration: 37 of max_iter: 50\n",
      "iteration: 38 of max_iter: 50\n",
      "iteration: 39 of max_iter: 50\n",
      "iteration: 40 of max_iter: 50\n",
      "iteration: 41 of max_iter: 50\n",
      "iteration: 42 of max_iter: 50\n",
      "iteration: 43 of max_iter: 50\n",
      "iteration: 44 of max_iter: 50\n",
      "iteration: 45 of max_iter: 50\n",
      "iteration: 46 of max_iter: 50\n",
      "iteration: 47 of max_iter: 50\n",
      "iteration: 48 of max_iter: 50\n",
      "iteration: 49 of max_iter: 50\n",
      "iteration: 50 of max_iter: 50\n"
     ]
    }
   ],
   "source": [
    "# Latent Dirichlet Allocation Model\n",
    "#lda = LatentDirichletAllocation(n_components=NUM_TOPICS, max_iter=50, learning_method='online',verbose=True)\n",
    "lda = LatentDirichletAllocation(n_components=NUM_TOPICS, max_iter=50, learning_method='batch',verbose=True)\n",
    "data_lda = lda.fit_transform(data_vectorized)"
   ]
  },
  {
   "cell_type": "code",
   "execution_count": 34,
   "metadata": {},
   "outputs": [],
   "source": [
    "# Functions for printing keywords for each topic\n",
    "def selected_topics(model, vectorizer, top_n=10):\n",
    "    for idx, topic in enumerate(model.components_):\n",
    "        print(\"Topic %d:\" % (idx))\n",
    "        print([(vectorizer.get_feature_names()[i], topic[i])\n",
    "                        for i in topic.argsort()[:-top_n - 1:-1]]) "
   ]
  },
  {
   "cell_type": "code",
   "execution_count": 35,
   "metadata": {},
   "outputs": [
    {
     "name": "stdout",
     "output_type": "stream",
     "text": [
      "LDA Model:\n",
      "Topic 0:\n",
      "[('bag', 462.22210623582856), ('color', 345.224477425405), ('small', 226.23761116131783), ('price', 197.83415878933263), ('cute', 187.13583001553062), ('beautiful', 164.22872186273645), ('little', 153.22814877371633), ('reasonable', 131.20025352797862), ('order', 101.5812555559852), ('okay', 92.67848282764608)]\n",
      "Topic 1:\n",
      "[('good', 4779.207975164057), ('product', 1326.6553665364395), ('quality', 1053.22284665684), ('value', 943.2224253175722), ('delivery', 887.9548696507887), ('fast', 705.018886235592), ('service', 560.227662971118), ('shop', 211.9990757574814), ('money', 184.9761734540279), ('company', 153.2419734973546)]\n",
      "Topic 2:\n",
      "[('beautiful', 523.2432358221826), ('like', 510.2216167941465), ('product', 372.490390578382), ('reed', 331.2456380353618), ('order', 308.12143927175754), ('lot', 196.22731582816857), ('send', 186.49226958957686), ('receive', 158.2195982968233), ('okay', 137.97673202772745), ('item', 114.75717950756022)]\n",
      "Topic 3:\n",
      "[('price', 1172.6428592726863), ('product', 542.588301031461), ('cheap', 385.2164109615666), ('worth', 270.22628843217274), ('delivery', 265.5125865430286), ('baht', 253.22648750399202), ('buy', 215.2240140361167), ('quality', 179.2484671585088), ('fast', 157.4506750561302), ('time', 135.21921994256152)]\n"
     ]
    }
   ],
   "source": [
    "# Keywords for topics clustered by Latent Dirichlet Allocation\n",
    "print(\"LDA Model:\")\n",
    "selected_topics(lda, vectorizer)"
   ]
  },
  {
   "cell_type": "code",
   "execution_count": 36,
   "metadata": {},
   "outputs": [
    {
     "name": "stdout",
     "output_type": "stream",
     "text": [
      "[[0.05081709 0.05000103 0.40788681 0.49129506]]\n"
     ]
    }
   ],
   "source": [
    "# Transforming an individual sentence\n",
    "text = reviews.comments.iloc[0]\n",
    "x = lda.transform(vectorizer.transform([text]))#[0]\n",
    "print(x)"
   ]
  },
  {
   "cell_type": "code",
   "execution_count": 38,
   "metadata": {},
   "outputs": [
    {
     "data": {
      "text/plain": [
       "'Give 4 stars because order at the price 37 but today 29 baht sorry'"
      ]
     },
     "execution_count": 38,
     "metadata": {},
     "output_type": "execute_result"
    }
   ],
   "source": [
    "reviews.comments.iloc[0]"
   ]
  },
  {
   "cell_type": "markdown",
   "metadata": {},
   "source": [
    "#### Finding the main topic of each reviews which has length >1300 and length < 50"
   ]
  },
  {
   "cell_type": "code",
   "execution_count": 39,
   "metadata": {},
   "outputs": [
    {
     "data": {
      "text/plain": [
       "(0, 3)"
      ]
     },
     "execution_count": 39,
     "metadata": {},
     "output_type": "execute_result"
    }
   ],
   "source": [
    "reviews_test = reviews_ms[reviews_ms.len_review>=max_limit]\n",
    "reviews_test.shape"
   ]
  }
 ],
 "metadata": {
  "kernelspec": {
   "display_name": "Python [conda env:fastaipy372] *",
   "language": "python",
   "name": "conda-env-fastaipy372-py"
  },
  "language_info": {
   "codemirror_mode": {
    "name": "ipython",
    "version": 3
   },
   "file_extension": ".py",
   "mimetype": "text/x-python",
   "name": "python",
   "nbconvert_exporter": "python",
   "pygments_lexer": "ipython3",
   "version": "3.7.2"
  }
 },
 "nbformat": 4,
 "nbformat_minor": 2
}
