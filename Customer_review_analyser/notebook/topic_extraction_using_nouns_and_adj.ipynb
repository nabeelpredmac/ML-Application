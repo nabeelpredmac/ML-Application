{
 "cells": [
  {
   "cell_type": "markdown",
   "metadata": {},
   "source": [
    "# Topic Extraction using nouns and adjoints\n"
   ]
  },
  {
   "cell_type": "code",
   "execution_count": 4,
   "metadata": {},
   "outputs": [
    {
     "data": {
      "text/plain": [
       "[(purchase, great), (size, other), (store, other), (time, other)]"
      ]
     },
     "execution_count": 4,
     "metadata": {},
     "output_type": "execute_result"
    }
   ],
   "source": [
    "import spacy\n",
    "import re\n",
    "nlp = spacy.load('en')\n",
    "doc = nlp(u\"\"\"Totally satisfied with this purchase. It was great to get the size I needed \n",
    "without having to search for it in a store. They came on time. I'm going to order some other colors.\"\"\")\n",
    "\n",
    "noun_adj_pairs = []\n",
    "for i,token in enumerate(doc):\n",
    "    if token.pos_ not in ('NOUN','PROPN'):\n",
    "        continue\n",
    "    for j in range(i+1,len(doc)):\n",
    "        if doc[j].pos_ == 'ADJ':\n",
    "            noun_adj_pairs.append((token,doc[j]))\n",
    "            break\n",
    "noun_adj_pairs"
   ]
  },
  {
   "cell_type": "code",
   "execution_count": 5,
   "metadata": {},
   "outputs": [
    {
     "data": {
      "text/plain": [
       "[(satisfied, purchase), (great, size), (other, colors)]"
      ]
     },
     "execution_count": 5,
     "metadata": {},
     "output_type": "execute_result"
    }
   ],
   "source": [
    "noun_adj_pairs = []\n",
    "for i,token in enumerate(doc):\n",
    "    if token.pos_ not in ('ADJ'):\n",
    "        continue\n",
    "    for j in range(i+1,len(doc)):\n",
    "        if doc[j].pos_ == 'NOUN':\n",
    "            noun_adj_pairs.append((token,doc[j]))\n",
    "            break\n",
    "noun_adj_pairs"
   ]
  },
  {
   "cell_type": "code",
   "execution_count": 6,
   "metadata": {},
   "outputs": [
    {
     "name": "stderr",
     "output_type": "stream",
     "text": [
      "/home/gpu1/anaconda3/envs/fastaipy372/lib/python3.7/runpy.py:193: UserWarning: [W006] No entities to visualize found in Doc object. If this is surprising to you, make sure the Doc was processed using a model that supports named entity recognition, and check the `doc.ents` property manually if necessary.\n",
      "  \"__main__\", mod_spec)\n"
     ]
    },
    {
     "data": {
      "text/html": [
       "<div class=\"entities\" style=\"line-height: 2.5; direction: ltr\">Totally satisfied with this purchase. It was great to get the size I needed \n",
       "without having to search for it in a store. They came on time. I'm going to order some other colors.</div>"
      ],
      "text/plain": [
       "<IPython.core.display.HTML object>"
      ]
     },
     "metadata": {},
     "output_type": "display_data"
    }
   ],
   "source": [
    "spacy.displacy.render(doc, style='ent',jupyter=True)"
   ]
  },
  {
   "cell_type": "code",
   "execution_count": 73,
   "metadata": {
    "scrolled": true
   },
   "outputs": [
    {
     "data": {
      "text/plain": [
       "[(can, 'VERB'),\n",
       " (not, 'ADV'),\n",
       " (say, 'VERB'),\n",
       " (how, 'ADV'),\n",
       " (much, 'ADJ'),\n",
       " (love, 'NOUN'),\n",
       " (this, 'DET'),\n",
       " (player, 'NOUN'),\n",
       " (from, 'ADP'),\n",
       " (creative, 'ADJ'),\n",
       " (it, 'PRON'),\n",
       " (has, 'VERB'),\n",
       " (tons_of, 'ADV'),\n",
       " (features, 'NOUN'),\n",
       " (some, 'DET'),\n",
       " (youll_probably, 'ADV'),\n",
       " (never, 'ADV'),\n",
       " (use, 'VERB'),\n",
       " (like, 'ADP'),\n",
       " (the, 'DET'),\n",
       " (eax, 'NOUN'),\n",
       " (processing, 'NOUN'),\n",
       " (, 'SPACE'),\n",
       " (and, 'CCONJ'),\n",
       " (gb, 'NOUN'),\n",
       " (of, 'ADP'),\n",
       " (storage, 'NOUN'),\n",
       " (it, 'PRON'),\n",
       " (also, 'ADV'),\n",
       " (has, 'VERB'),\n",
       " (an, 'DET'),\n",
       " (easy, 'ADJ'),\n",
       " (to, 'PART'),\n",
       " (navigate, 'VERB'),\n",
       " (menu, 'NOUN'),\n",
       " (with, 'ADP'),\n",
       " (two, 'NUM'),\n",
       " (settings, 'NOUN'),\n",
       " (one, 'NUM'),\n",
       " (for, 'ADP'),\n",
       " (novices, 'NOUN'),\n",
       " (and, 'CCONJ'),\n",
       " (one, 'NUM'),\n",
       " (for, 'ADP'),\n",
       " (advanced, 'ADJ'),\n",
       " (users, 'NOUN'),\n",
       " (in_terms, 'NOUN'),\n",
       " (of, 'ADP'),\n",
       " (sound, 'ADJ'),\n",
       " (, 'SPACE'),\n",
       " (quality, 'NOUN'),\n",
       " (the, 'DET'),\n",
       " (freq, 'NOUN'),\n",
       " (response, 'NOUN'),\n",
       " (is, 'VERB'),\n",
       " (fairly, 'ADV'),\n",
       " (nice, 'ADJ'),\n",
       " (for, 'ADP'),\n",
       " (this, 'DET'),\n",
       " (type, 'NOUN'),\n",
       " (of, 'ADP'),\n",
       " (player, 'NOUN'),\n",
       " (and, 'CCONJ'),\n",
       " (the, 'DET'),\n",
       " (signal, 'NOUN'),\n",
       " (to, 'ADP'),\n",
       " (noise, 'NOUN'),\n",
       " (ratio, 'NOUN'),\n",
       " (is, 'VERB'),\n",
       " (above, 'ADP'),\n",
       " (most, 'ADJ'),\n",
       " (of, 'ADP'),\n",
       " (the, 'DET'),\n",
       " (mp, 'NOUN'),\n",
       " (have, 'VERB'),\n",
       " (gt, 'X'),\n",
       " (db, 'ADP'),\n",
       " (the, 'DET'),\n",
       " (unit, 'NOUN'),\n",
       " (, 'SPACE'),\n",
       " (is, 'VERB'),\n",
       " (also, 'ADV'),\n",
       " (only, 'ADV'),\n",
       " (the, 'DET'),\n",
       " (size, 'NOUN'),\n",
       " (of, 'ADP'),\n",
       " (normal, 'ADJ'),\n",
       " (cd_player, 'PROPN'),\n",
       " (has, 'VERB'),\n",
       " (wide_angle, 'NOUN')]"
      ]
     },
     "execution_count": 73,
     "metadata": {},
     "output_type": "execute_result"
    }
   ],
   "source": [
    "text =\"\"\"cannot say how much love this player from creative it has tons_of features some youll_probably never use like the eax processing \n",
    "and gb of storage it also has an easy to navigate menu with two settings one for novices and one for advanced users in_terms of sound \n",
    "quality the freq response is fairly nice for this type of player and the signal to noise ratio is above most of the mp have gt db the unit \n",
    "is also only the size of normal cd_player has wide_angle\"\"\"\n",
    "\n",
    "doc = nlp(text)\n",
    "pos_tags = [(i, i.pos_) for i in doc]\n",
    "pos_tags"
   ]
  },
  {
   "cell_type": "code",
   "execution_count": 101,
   "metadata": {
    "scrolled": true
   },
   "outputs": [
    {
     "data": {
      "text/plain": [
       "'ADJ'"
      ]
     },
     "execution_count": 101,
     "metadata": {},
     "output_type": "execute_result"
    }
   ],
   "source": [
    "text =\"\"\"wide\"\"\"\n",
    "\n",
    "doc = nlp(text)\n",
    "pos_tags = [(i, i.pos_) for i in doc]\n",
    "doc[0].pos_"
   ]
  },
  {
   "cell_type": "code",
   "execution_count": 70,
   "metadata": {},
   "outputs": [
    {
     "data": {
      "text/plain": [
       "(['wide', 'angle'], ['hello'])"
      ]
     },
     "execution_count": 70,
     "metadata": {},
     "output_type": "execute_result"
    }
   ],
   "source": [
    "'wide_angle'.split('_'),'hello'.split('_')"
   ]
  },
  {
   "cell_type": "code",
   "execution_count": 71,
   "metadata": {},
   "outputs": [
    {
     "data": {
      "text/plain": [
       "'love player creative tons_of feature youll_probably use like eax process gb storage easy navigate menu setting novice advance user in_terms sound quality freq response fairly nice type player signal noise ratio mp gt db unit size normal cd_player wide_angle'"
      ]
     },
     "execution_count": 71,
     "metadata": {},
     "output_type": "execute_result"
    }
   ],
   "source": [
    "spacy_tokenizer(text)"
   ]
  },
  {
   "cell_type": "markdown",
   "metadata": {},
   "source": [
    "# using single_nouns and sentiment word method"
   ]
  },
  {
   "cell_type": "code",
   "execution_count": 5,
   "metadata": {},
   "outputs": [
    {
     "data": {
      "text/plain": [
       "['# SentiWordNet v3.0.0 (1 June 2010)\\n',\n",
       " '# Andrea Esuli\\n',\n",
       " '#\\n',\n",
       " '# SentiWordNet is distributed under the Attribution-ShareAlike 4.0 Unported (CC BY-SA 4.0) license.\\n',\n",
       " '# http://creativecommons.org/licenses/by-sa/4.0/\\n',\n",
       " '#\\n',\n",
       " '# For any information about SentiWordNet:\\n',\n",
       " '# Web: http://sentiwordnet.isti.cnr.it\\n',\n",
       " '# -------\\n',\n",
       " '#\\n',\n",
       " '# Data format.\\n',\n",
       " '#\\n',\n",
       " '# SentiWordNet v3.0 is based on WordNet version 3.0.\\n',\n",
       " '# WordNet website: http://wordnet.princeton.edu/\\n',\n",
       " '#\\n',\n",
       " '# The pair (POS,ID) uniquely identifies a WordNet (3.0) synset.\\n',\n",
       " '# The values PosScore and NegScore are the positivity and negativity\\n',\n",
       " '# score assigned by SentiWordNet to the synset.\\n',\n",
       " '# The objectivity score can be calculated as:\\n',\n",
       " '# ObjScore = 1 - (PosScore + NegScore)\\n',\n",
       " '# SynsetTerms column reports the terms, with sense number, belonging\\n',\n",
       " '# to the synset (separated by spaces).\\n',\n",
       " '#\\n',\n",
       " '# -------\\n',\n",
       " '#\\n']"
      ]
     },
     "execution_count": 5,
     "metadata": {},
     "output_type": "execute_result"
    }
   ],
   "source": [
    "import spacy\n",
    "import re\n",
    "nlp = spacy.load('en')\n",
    "from spacy.lang.en import English\n",
    "from spacy.lang.en.stop_words import STOP_WORDS\n",
    "from tqdm import tqdm\n",
    "import nltk.data\n",
    "import pandas as pd\n",
    "import numpy as np\n",
    "import string\n",
    "\n",
    "tokenizer = nltk.data.load('tokenizers/punkt/english.pickle')\n",
    "\n",
    "\n",
    "f = open('/home/gpu1/work_space/disk3_work_space3/CRM_Topic_models/input/SentiWordNet_3.0.0.txt')\n",
    "data = f.readlines()\n",
    "data[0:25]"
   ]
  },
  {
   "cell_type": "code",
   "execution_count": 6,
   "metadata": {},
   "outputs": [
    {
     "data": {
      "text/plain": [
       "(117660, 6)"
      ]
     },
     "execution_count": 6,
     "metadata": {},
     "output_type": "execute_result"
    }
   ],
   "source": [
    "data = pd.read_csv('/home/gpu1/work_space/disk3_work_space3/CRM_Topic_models/input/SentiWordNet_3.0.0.txt',skiprows=25,delimiter='\\t')\n",
    "data.shape"
   ]
  },
  {
   "cell_type": "code",
   "execution_count": 7,
   "metadata": {},
   "outputs": [
    {
     "data": {
      "text/html": [
       "<div>\n",
       "<style scoped>\n",
       "    .dataframe tbody tr th:only-of-type {\n",
       "        vertical-align: middle;\n",
       "    }\n",
       "\n",
       "    .dataframe tbody tr th {\n",
       "        vertical-align: top;\n",
       "    }\n",
       "\n",
       "    .dataframe thead th {\n",
       "        text-align: right;\n",
       "    }\n",
       "</style>\n",
       "<table border=\"1\" class=\"dataframe\">\n",
       "  <thead>\n",
       "    <tr style=\"text-align: right;\">\n",
       "      <th></th>\n",
       "      <th># POS</th>\n",
       "      <th>ID</th>\n",
       "      <th>PosScore</th>\n",
       "      <th>NegScore</th>\n",
       "      <th>SynsetTerms</th>\n",
       "      <th>Gloss</th>\n",
       "    </tr>\n",
       "  </thead>\n",
       "  <tbody>\n",
       "    <tr>\n",
       "      <th>0</th>\n",
       "      <td>a</td>\n",
       "      <td>1740.0</td>\n",
       "      <td>0.125</td>\n",
       "      <td>0.00</td>\n",
       "      <td>able#1</td>\n",
       "      <td>(usually followed by `to') having the necessar...</td>\n",
       "    </tr>\n",
       "    <tr>\n",
       "      <th>1</th>\n",
       "      <td>a</td>\n",
       "      <td>2098.0</td>\n",
       "      <td>0.000</td>\n",
       "      <td>0.75</td>\n",
       "      <td>unable#1</td>\n",
       "      <td>(usually followed by `to') not having the nece...</td>\n",
       "    </tr>\n",
       "    <tr>\n",
       "      <th>2</th>\n",
       "      <td>a</td>\n",
       "      <td>2312.0</td>\n",
       "      <td>0.000</td>\n",
       "      <td>0.00</td>\n",
       "      <td>dorsal#2 abaxial#1</td>\n",
       "      <td>facing away from the axis of an organ or organ...</td>\n",
       "    </tr>\n",
       "    <tr>\n",
       "      <th>3</th>\n",
       "      <td>a</td>\n",
       "      <td>2527.0</td>\n",
       "      <td>0.000</td>\n",
       "      <td>0.00</td>\n",
       "      <td>ventral#2 adaxial#1</td>\n",
       "      <td>nearest to or facing toward the axis of an org...</td>\n",
       "    </tr>\n",
       "    <tr>\n",
       "      <th>4</th>\n",
       "      <td>a</td>\n",
       "      <td>2730.0</td>\n",
       "      <td>0.000</td>\n",
       "      <td>0.00</td>\n",
       "      <td>acroscopic#1</td>\n",
       "      <td>facing or on the side toward the apex</td>\n",
       "    </tr>\n",
       "  </tbody>\n",
       "</table>\n",
       "</div>"
      ],
      "text/plain": [
       "  # POS      ID  PosScore  NegScore          SynsetTerms  \\\n",
       "0     a  1740.0     0.125      0.00               able#1   \n",
       "1     a  2098.0     0.000      0.75             unable#1   \n",
       "2     a  2312.0     0.000      0.00   dorsal#2 abaxial#1   \n",
       "3     a  2527.0     0.000      0.00  ventral#2 adaxial#1   \n",
       "4     a  2730.0     0.000      0.00         acroscopic#1   \n",
       "\n",
       "                                               Gloss  \n",
       "0  (usually followed by `to') having the necessar...  \n",
       "1  (usually followed by `to') not having the nece...  \n",
       "2  facing away from the axis of an organ or organ...  \n",
       "3  nearest to or facing toward the axis of an org...  \n",
       "4              facing or on the side toward the apex  "
      ]
     },
     "execution_count": 7,
     "metadata": {},
     "output_type": "execute_result"
    }
   ],
   "source": [
    "data.head()"
   ]
  },
  {
   "cell_type": "code",
   "execution_count": 8,
   "metadata": {},
   "outputs": [
    {
     "data": {
      "text/html": [
       "<div>\n",
       "<style scoped>\n",
       "    .dataframe tbody tr th:only-of-type {\n",
       "        vertical-align: middle;\n",
       "    }\n",
       "\n",
       "    .dataframe tbody tr th {\n",
       "        vertical-align: top;\n",
       "    }\n",
       "\n",
       "    .dataframe thead th {\n",
       "        text-align: right;\n",
       "    }\n",
       "</style>\n",
       "<table border=\"1\" class=\"dataframe\">\n",
       "  <thead>\n",
       "    <tr style=\"text-align: right;\">\n",
       "      <th></th>\n",
       "      <th># POS</th>\n",
       "      <th>ID</th>\n",
       "      <th>PosScore</th>\n",
       "      <th>NegScore</th>\n",
       "      <th>SynsetTerms</th>\n",
       "      <th>Gloss</th>\n",
       "    </tr>\n",
       "  </thead>\n",
       "  <tbody>\n",
       "    <tr>\n",
       "      <th>117655</th>\n",
       "      <td>v</td>\n",
       "      <td>2771888.0</td>\n",
       "      <td>0.000</td>\n",
       "      <td>0.125</td>\n",
       "      <td>fog_up#1</td>\n",
       "      <td>get foggy; \"The windshield fogged up\"</td>\n",
       "    </tr>\n",
       "    <tr>\n",
       "      <th>117656</th>\n",
       "      <td>v</td>\n",
       "      <td>2771997.0</td>\n",
       "      <td>0.000</td>\n",
       "      <td>0.000</td>\n",
       "      <td>coal#1 char#1</td>\n",
       "      <td>burn to charcoal; \"Without a drenching rain, t...</td>\n",
       "    </tr>\n",
       "    <tr>\n",
       "      <th>117657</th>\n",
       "      <td>v</td>\n",
       "      <td>2772202.0</td>\n",
       "      <td>0.125</td>\n",
       "      <td>0.250</td>\n",
       "      <td>haze#1</td>\n",
       "      <td>become hazy, dull, or cloudy</td>\n",
       "    </tr>\n",
       "    <tr>\n",
       "      <th>117658</th>\n",
       "      <td>v</td>\n",
       "      <td>2772310.0</td>\n",
       "      <td>0.125</td>\n",
       "      <td>0.000</td>\n",
       "      <td>deflagrate#1</td>\n",
       "      <td>cause to burn rapidly and with great intensity...</td>\n",
       "    </tr>\n",
       "    <tr>\n",
       "      <th>117659</th>\n",
       "      <td>NaN</td>\n",
       "      <td>NaN</td>\n",
       "      <td>NaN</td>\n",
       "      <td>NaN</td>\n",
       "      <td>#</td>\n",
       "      <td>NaN</td>\n",
       "    </tr>\n",
       "  </tbody>\n",
       "</table>\n",
       "</div>"
      ],
      "text/plain": [
       "       # POS         ID  PosScore  NegScore    SynsetTerms  \\\n",
       "117655     v  2771888.0     0.000     0.125       fog_up#1   \n",
       "117656     v  2771997.0     0.000     0.000  coal#1 char#1   \n",
       "117657     v  2772202.0     0.125     0.250         haze#1   \n",
       "117658     v  2772310.0     0.125     0.000   deflagrate#1   \n",
       "117659   NaN        NaN       NaN       NaN              #   \n",
       "\n",
       "                                                    Gloss  \n",
       "117655              get foggy; \"The windshield fogged up\"  \n",
       "117656  burn to charcoal; \"Without a drenching rain, t...  \n",
       "117657                       become hazy, dull, or cloudy  \n",
       "117658  cause to burn rapidly and with great intensity...  \n",
       "117659                                                NaN  "
      ]
     },
     "execution_count": 8,
     "metadata": {},
     "output_type": "execute_result"
    }
   ],
   "source": [
    "data.tail()"
   ]
  },
  {
   "cell_type": "code",
   "execution_count": 9,
   "metadata": {},
   "outputs": [
    {
     "name": "stderr",
     "output_type": "stream",
     "text": [
      "/home/gpu1/anaconda3/envs/fastaipy372/lib/python3.7/site-packages/ipykernel_launcher.py:1: UserWarning: Boolean Series key will be reindexed to match DataFrame index.\n",
      "  \"\"\"Entry point for launching an IPython kernel.\n"
     ]
    },
    {
     "data": {
      "text/plain": [
       "(4843, 6)"
      ]
     },
     "execution_count": 9,
     "metadata": {},
     "output_type": "execute_result"
    }
   ],
   "source": [
    "data = data.dropna()[(data.PosScore>.5) | (data.NegScore>.5)]\n",
    "data.shape"
   ]
  },
  {
   "cell_type": "code",
   "execution_count": 10,
   "metadata": {},
   "outputs": [
    {
     "name": "stdout",
     "output_type": "stream",
     "text": [
      "1519\n",
      "3324\n"
     ]
    }
   ],
   "source": [
    "positive = data.loc[data.PosScore>.5,'SynsetTerms']\n",
    "print(len(positive))\n",
    "negative = data.loc[data.NegScore>.5,'SynsetTerms']\n",
    "print(len(negative))"
   ]
  },
  {
   "cell_type": "code",
   "execution_count": 11,
   "metadata": {},
   "outputs": [],
   "source": [
    "def cleaner(s):\n",
    "    s = re.sub('\\d', '', s)\n",
    "    s = re.sub('#', '', s)\n",
    "    return s\n",
    "positive = positive.apply(cleaner)\n",
    "negative = negative.apply(cleaner)\n",
    "\n"
   ]
  },
  {
   "cell_type": "code",
   "execution_count": 12,
   "metadata": {},
   "outputs": [
    {
     "name": "stdout",
     "output_type": "stream",
     "text": [
      "2005\n",
      "4783\n"
     ]
    }
   ],
   "source": [
    "positive = open('/home/gpu1/work_space/disk3_work_space3/CRM_Topic_models/input/positive-words.txt')\n",
    "positive = positive.readlines()\n",
    "positive = positive[31:]\n",
    "print(len(positive))\n",
    "\n",
    "negative = open('/home/gpu1/work_space/disk3_work_space3/CRM_Topic_models/input/negative-words.txt',encoding='utf8',errors='ignore')\n",
    "negative = negative.readlines()\n",
    "negative = negative[31:]\n",
    "def replace_newline(text): return text.replace('\\n','')\n",
    "positive = list(pd.Series(positive).apply(replace_newline))\n",
    "negative = list(pd.Series(negative).apply(replace_newline))\n",
    "\n",
    "print(len(negative))"
   ]
  },
  {
   "cell_type": "code",
   "execution_count": 13,
   "metadata": {},
   "outputs": [
    {
     "data": {
      "text/html": [
       "<div>\n",
       "<style scoped>\n",
       "    .dataframe tbody tr th:only-of-type {\n",
       "        vertical-align: middle;\n",
       "    }\n",
       "\n",
       "    .dataframe tbody tr th {\n",
       "        vertical-align: top;\n",
       "    }\n",
       "\n",
       "    .dataframe thead th {\n",
       "        text-align: right;\n",
       "    }\n",
       "</style>\n",
       "<table border=\"1\" class=\"dataframe\">\n",
       "  <thead>\n",
       "    <tr style=\"text-align: right;\">\n",
       "      <th></th>\n",
       "      <th>rating</th>\n",
       "      <th>comments</th>\n",
       "      <th>title</th>\n",
       "      <th>id</th>\n",
       "    </tr>\n",
       "  </thead>\n",
       "  <tbody>\n",
       "    <tr>\n",
       "      <th>28928</th>\n",
       "      <td>1.0</td>\n",
       "      <td>I have no idea what these are but they are not...</td>\n",
       "      <td>Levi's Men's 501 Original Fit Jean</td>\n",
       "      <td>0</td>\n",
       "    </tr>\n",
       "    <tr>\n",
       "      <th>28929</th>\n",
       "      <td>4.0</td>\n",
       "      <td>Brown 501 is hard to find at your local store....</td>\n",
       "      <td>Levi's Men's 501 Original Fit Jean</td>\n",
       "      <td>1</td>\n",
       "    </tr>\n",
       "    <tr>\n",
       "      <th>28930</th>\n",
       "      <td>1.0</td>\n",
       "      <td>I bought these jeans and 2 others for my husba...</td>\n",
       "      <td>Levi's Men's 501 Original Fit Jean</td>\n",
       "      <td>2</td>\n",
       "    </tr>\n",
       "    <tr>\n",
       "      <th>28931</th>\n",
       "      <td>3.0</td>\n",
       "      <td>Pant size and material were as expected. Pant ...</td>\n",
       "      <td>Levi's Men's 501 Original Fit Jean</td>\n",
       "      <td>3</td>\n",
       "    </tr>\n",
       "    <tr>\n",
       "      <th>28932</th>\n",
       "      <td>5.0</td>\n",
       "      <td>Older reviews (2009 ish) were right, 501s were...</td>\n",
       "      <td>Levi's Men's 501 Original Fit Jean</td>\n",
       "      <td>4</td>\n",
       "    </tr>\n",
       "  </tbody>\n",
       "</table>\n",
       "</div>"
      ],
      "text/plain": [
       "       rating                                           comments  \\\n",
       "28928     1.0  I have no idea what these are but they are not...   \n",
       "28929     4.0  Brown 501 is hard to find at your local store....   \n",
       "28930     1.0  I bought these jeans and 2 others for my husba...   \n",
       "28931     3.0  Pant size and material were as expected. Pant ...   \n",
       "28932     5.0  Older reviews (2009 ish) were right, 501s were...   \n",
       "\n",
       "                                    title  id  \n",
       "28928  Levi's Men's 501 Original Fit Jean   0  \n",
       "28929  Levi's Men's 501 Original Fit Jean   1  \n",
       "28930  Levi's Men's 501 Original Fit Jean   2  \n",
       "28931  Levi's Men's 501 Original Fit Jean   3  \n",
       "28932  Levi's Men's 501 Original Fit Jean   4  "
      ]
     },
     "execution_count": 13,
     "metadata": {},
     "output_type": "execute_result"
    }
   ],
   "source": [
    "reviews = pd.read_csv('/home/gpu1/work_space/disk3_work_space3/CRM_Topic_models/input/amazon_cloth_shoe_watches_reviews_with_title.csv')\n",
    "reviews = reviews[['rating','comments','title']]\n",
    "reviews['comments'] = reviews.comments.astype('str')\n",
    "reviews['title'] = reviews.title.astype('str')\n",
    "\n",
    "# reviews = reviews[reviews.title==\"Converse Unisex Chuck Taylor Classic Colors Sneaker\"]\n",
    "reviews = reviews[reviews.title==\"Levi's Men's 501 Original Fit Jean\"]\n",
    "reviews = reviews.drop_duplicates()\n",
    "reviews['id'] = range(len(reviews))\n",
    "\n",
    "# reviews['title']=''\n",
    "reviews.head()"
   ]
  },
  {
   "cell_type": "code",
   "execution_count": 14,
   "metadata": {},
   "outputs": [
    {
     "data": {
      "text/plain": [
       "'I have no idea what these are but they are not the 501s I grew up with and love.  I hate them and am sending them back.'"
      ]
     },
     "execution_count": 14,
     "metadata": {},
     "output_type": "execute_result"
    }
   ],
   "source": [
    "reviews.comments.iloc[0]"
   ]
  },
  {
   "cell_type": "code",
   "execution_count": 15,
   "metadata": {
    "scrolled": true
   },
   "outputs": [
    {
     "data": {
      "text/plain": [
       "0     False\n",
       "1     False\n",
       "2     False\n",
       "3     False\n",
       "4     False\n",
       "5     False\n",
       "6     False\n",
       "7     False\n",
       "8     False\n",
       "9     False\n",
       "10    False\n",
       "11    False\n",
       "12    False\n",
       "13    False\n",
       "14    False\n",
       "15    False\n",
       "16    False\n",
       "17    False\n",
       "18     True\n",
       "19    False\n",
       "20    False\n",
       "21    False\n",
       "22    False\n",
       "23    False\n",
       "24    False\n",
       "25    False\n",
       "26    False\n",
       "dtype: bool"
      ]
     },
     "execution_count": 15,
     "metadata": {},
     "output_type": "execute_result"
    }
   ],
   "source": [
    "pd.Series(reviews.comments.iloc[0].replace('.','').split()).isin(positive)"
   ]
  },
  {
   "cell_type": "code",
   "execution_count": 16,
   "metadata": {},
   "outputs": [],
   "source": [
    "punctuations = string.punctuation\n",
    "stopwords = list(STOP_WORDS)\n",
    "stopwords = pd.Series(stopwords)\n",
    "stopwords = list(stopwords[(~stopwords.isin(positive)) & (~stopwords.isin(negative))])"
   ]
  },
  {
   "cell_type": "code",
   "execution_count": null,
   "metadata": {},
   "outputs": [],
   "source": []
  },
  {
   "cell_type": "code",
   "execution_count": 17,
   "metadata": {},
   "outputs": [],
   "source": [
    "# Parser for reviews\n",
    "parser = English()\n",
    "def spacy_tokenizer(sentence):\n",
    "    mytokens = parser(sentence)\n",
    "    mytokens = [ word.lemma_.lower().strip() if word.lemma_ != \"-PRON-\" else word.lower_ for word in mytokens ]\n",
    "    mytokens = [ word for word in mytokens if word not in stopwords and word not in punctuations ]\n",
    "    mytokens = \" \".join([i for i in mytokens])\n",
    "    return mytokens\n",
    "\n",
    "def sentence_finder(reviews,limit1,limit2):\n",
    "    \n",
    "    full_comments = []\n",
    "    full_title = []\n",
    "    full_id = []\n",
    "    for i in tqdm(range(limit1,limit2)):\n",
    "        c = reviews.comments.iloc[i]\n",
    "        c = tokenizer.tokenize(c)#c.split('.')\n",
    "        full_comments = full_comments+c\n",
    "        t1 = reviews.title.iloc[i]\n",
    "        t = [t1 for j in range(len(c))]\n",
    "        full_title = full_title+t\n",
    "        id1 = reviews.id.iloc[i]\n",
    "        id2 = [id1 for j in range(len(c))]\n",
    "        full_id = full_id+id2\n",
    "        \n",
    "    return full_comments,full_title,full_id\n"
   ]
  },
  {
   "cell_type": "code",
   "execution_count": 18,
   "metadata": {},
   "outputs": [
    {
     "name": "stderr",
     "output_type": "stream",
     "text": [
      "100%|██████████| 1049/1049 [00:00<00:00, 9061.90it/s]\n",
      "100%|██████████| 1049/1049 [00:00<00:00, 9415.10it/s]\n"
     ]
    }
   ],
   "source": [
    "## sentence making\n",
    "full_comments = []\n",
    "full_title = []\n",
    "l1 = int(len(reviews)/2)\n",
    "c1,t1,id1 = sentence_finder(reviews,0,l1)\n",
    "c2,t2,id2 = sentence_finder(reviews,l1,len(reviews))\n",
    "full_comments = c1+c2\n",
    "full_title = t1+t2\n",
    "full_id    = id1+id2\n",
    "\n",
    "reviews_old = reviews[['id','comments']]\n",
    "reviews_old.columns = ['id','comments_full']\n",
    "\n",
    "def stripper(s): return s.strip()\n",
    "\n",
    "reviews = pd.DataFrame()\n",
    "reviews['comments'] = full_comments\n",
    "reviews['comments'] = reviews['comments'].apply(stripper)\n",
    "reviews['title'] = full_title\n",
    "reviews['id'] = full_id\n",
    "reviews = reviews[reviews.comments!='']\n",
    "reviews = reviews.drop_duplicates(subset=['comments'])\n",
    "reviews = reviews.merge(reviews_old,on='id',how='left')"
   ]
  },
  {
   "cell_type": "code",
   "execution_count": 19,
   "metadata": {},
   "outputs": [
    {
     "data": {
      "text/plain": [
       "['I have no idea what these are but they are not the 501s I grew up with and love.',\n",
       " 'I hate them and am sending them back.']"
      ]
     },
     "execution_count": 19,
     "metadata": {},
     "output_type": "execute_result"
    }
   ],
   "source": [
    "import nltk.data\n",
    "\n",
    "tokenizer = nltk.data.load('tokenizers/punkt/english.pickle')\n",
    "\n",
    "data = reviews.comments_full[0]\n",
    "(tokenizer.tokenize(data))"
   ]
  },
  {
   "cell_type": "code",
   "execution_count": 20,
   "metadata": {},
   "outputs": [
    {
     "data": {
      "text/html": [
       "<div>\n",
       "<style scoped>\n",
       "    .dataframe tbody tr th:only-of-type {\n",
       "        vertical-align: middle;\n",
       "    }\n",
       "\n",
       "    .dataframe tbody tr th {\n",
       "        vertical-align: top;\n",
       "    }\n",
       "\n",
       "    .dataframe thead th {\n",
       "        text-align: right;\n",
       "    }\n",
       "</style>\n",
       "<table border=\"1\" class=\"dataframe\">\n",
       "  <thead>\n",
       "    <tr style=\"text-align: right;\">\n",
       "      <th></th>\n",
       "      <th>comments</th>\n",
       "      <th>title</th>\n",
       "      <th>id</th>\n",
       "      <th>comments_full</th>\n",
       "    </tr>\n",
       "  </thead>\n",
       "  <tbody>\n",
       "    <tr>\n",
       "      <th>0</th>\n",
       "      <td>I have no idea what these are but they are not...</td>\n",
       "      <td>Levi's Men's 501 Original Fit Jean</td>\n",
       "      <td>0</td>\n",
       "      <td>I have no idea what these are but they are not...</td>\n",
       "    </tr>\n",
       "    <tr>\n",
       "      <th>1</th>\n",
       "      <td>I hate them and am sending them back.</td>\n",
       "      <td>Levi's Men's 501 Original Fit Jean</td>\n",
       "      <td>0</td>\n",
       "      <td>I have no idea what these are but they are not...</td>\n",
       "    </tr>\n",
       "    <tr>\n",
       "      <th>2</th>\n",
       "      <td>Brown 501 is hard to find at your local store.</td>\n",
       "      <td>Levi's Men's 501 Original Fit Jean</td>\n",
       "      <td>1</td>\n",
       "      <td>Brown 501 is hard to find at your local store....</td>\n",
       "    </tr>\n",
       "    <tr>\n",
       "      <th>3</th>\n",
       "      <td>So, I guess That's the reason why it is pricie...</td>\n",
       "      <td>Levi's Men's 501 Original Fit Jean</td>\n",
       "      <td>1</td>\n",
       "      <td>Brown 501 is hard to find at your local store....</td>\n",
       "    </tr>\n",
       "    <tr>\n",
       "      <th>4</th>\n",
       "      <td>I bought these jeans and 2 others for my husba...</td>\n",
       "      <td>Levi's Men's 501 Original Fit Jean</td>\n",
       "      <td>2</td>\n",
       "      <td>I bought these jeans and 2 others for my husba...</td>\n",
       "    </tr>\n",
       "  </tbody>\n",
       "</table>\n",
       "</div>"
      ],
      "text/plain": [
       "                                            comments  \\\n",
       "0  I have no idea what these are but they are not...   \n",
       "1              I hate them and am sending them back.   \n",
       "2     Brown 501 is hard to find at your local store.   \n",
       "3  So, I guess That's the reason why it is pricie...   \n",
       "4  I bought these jeans and 2 others for my husba...   \n",
       "\n",
       "                                title  id  \\\n",
       "0  Levi's Men's 501 Original Fit Jean   0   \n",
       "1  Levi's Men's 501 Original Fit Jean   0   \n",
       "2  Levi's Men's 501 Original Fit Jean   1   \n",
       "3  Levi's Men's 501 Original Fit Jean   1   \n",
       "4  Levi's Men's 501 Original Fit Jean   2   \n",
       "\n",
       "                                       comments_full  \n",
       "0  I have no idea what these are but they are not...  \n",
       "1  I have no idea what these are but they are not...  \n",
       "2  Brown 501 is hard to find at your local store....  \n",
       "3  Brown 501 is hard to find at your local store....  \n",
       "4  I bought these jeans and 2 others for my husba...  "
      ]
     },
     "execution_count": 20,
     "metadata": {},
     "output_type": "execute_result"
    }
   ],
   "source": [
    "reviews.head()"
   ]
  },
  {
   "cell_type": "code",
   "execution_count": 21,
   "metadata": {},
   "outputs": [
    {
     "data": {
      "text/plain": [
       "'I bought these jeans and 2 others for my husband, he already had a brand new pair that was a gift from his brother.he loved the way they fit so I decided to but him more.well I got him the same exact size and style, when they came in he triedthem on and they were tighter, so I compared the jeans and seen on the jeans he already had the 501 tag inside the pants was new and the tag inside the amazon pants were faded.'"
      ]
     },
     "execution_count": 21,
     "metadata": {},
     "output_type": "execute_result"
    }
   ],
   "source": [
    "reviews.comments.iloc[4]"
   ]
  },
  {
   "cell_type": "code",
   "execution_count": 25,
   "metadata": {},
   "outputs": [
    {
     "data": {
      "text/plain": [
       "[(size, 'NN'),\n",
       " (right, 'RB'),\n",
       " (tight, 'JJ'),\n",
       " (look, 'NN'),\n",
       " (small, 'JJ'),\n",
       " (lose, 'JJ'),\n",
       " (money, 'NN'),\n",
       " (pant, 'NN')]"
      ]
     },
     "execution_count": 25,
     "metadata": {},
     "output_type": "execute_result"
    }
   ],
   "source": [
    "pos_tags = [(i, i.tag_) for i in doc]\n",
    "pos_tags"
   ]
  },
  {
   "cell_type": "code",
   "execution_count": 26,
   "metadata": {},
   "outputs": [
    {
     "data": {
      "text/plain": [
       "'idea 501s grow love'"
      ]
     },
     "execution_count": 26,
     "metadata": {},
     "output_type": "execute_result"
    }
   ],
   "source": [
    "reviews['cleaned_comments'] = reviews.comments.apply(spacy_tokenizer)\n",
    "reviews.cleaned_comments.iloc[0]"
   ]
  },
  {
   "cell_type": "code",
   "execution_count": 89,
   "metadata": {},
   "outputs": [
    {
     "data": {
      "text/plain": [
       "['happy purchase customer_service great email inform recieved order order recieved day late thanks',\n",
       " 'receive red pair converse chuck_taylors christmas_present year ago wear shoe']"
      ]
     },
     "execution_count": 89,
     "metadata": {},
     "output_type": "execute_result"
    }
   ],
   "source": [
    "def sent_to_words(sentences):\n",
    "    for sentence in sentences:\n",
    "        yield(gensim.utils.simple_preprocess(str(sentence), deacc=True))  # deacc=True removes punctuations\n",
    "\n",
    "data_words = list(sent_to_words(reviews.cleaned_comments))\n",
    "\n",
    "# Build the bigram and trigram models\n",
    "bigram = gensim.models.Phrases(data_words, min_count=4, threshold=50) # higher threshold fewer phrases.\n",
    "# trigram = gensim.models.Phrases(bigram[data_words], threshold=50)  \n",
    "\n",
    "# Faster way to get a sentence clubbed as a trigram/bigram\n",
    "bigram_mod = gensim.models.phrases.Phraser(bigram)\n",
    "# trigram_mod = gensim.models.phrases.Phraser(trigram)\n",
    "\n",
    "data_words1 = [' '.join(bigram_mod[d]) for d in data_words]\n",
    "data_words1[0:2]"
   ]
  },
  {
   "cell_type": "code",
   "execution_count": 91,
   "metadata": {},
   "outputs": [
    {
     "name": "stderr",
     "output_type": "stream",
     "text": [
      "100%|██████████| 6671/6671 [01:10<00:00, 95.15it/s] \n"
     ]
    }
   ],
   "source": [
    "def noun_finder(text):\n",
    "    doc = nlp(text)\n",
    "    all_nouns = []\n",
    "    for i,token in enumerate(doc):\n",
    "        if token.pos_ in ('NOUN'):\n",
    "            all_nouns.append(token)\n",
    "    return all_nouns\n",
    "\n",
    "all_nouns = []\n",
    "for i in tqdm(range(len(reviews))):\n",
    "    all_nouns = all_nouns+noun_finder(reviews.cleaned_comments.iloc[i])"
   ]
  },
  {
   "cell_type": "code",
   "execution_count": 92,
   "metadata": {},
   "outputs": [
    {
     "data": {
      "text/plain": [
       "([idea, love, store, reason, version], 20086)"
      ]
     },
     "execution_count": 92,
     "metadata": {},
     "output_type": "execute_result"
    }
   ],
   "source": [
    "all_nouns[0:5],len(all_nouns)"
   ]
  },
  {
   "cell_type": "code",
   "execution_count": 75,
   "metadata": {},
   "outputs": [
    {
     "data": {
      "text/html": [
       "<div>\n",
       "<style scoped>\n",
       "    .dataframe tbody tr th:only-of-type {\n",
       "        vertical-align: middle;\n",
       "    }\n",
       "\n",
       "    .dataframe tbody tr th {\n",
       "        vertical-align: top;\n",
       "    }\n",
       "\n",
       "    .dataframe thead th {\n",
       "        text-align: right;\n",
       "    }\n",
       "</style>\n",
       "<table border=\"1\" class=\"dataframe\">\n",
       "  <thead>\n",
       "    <tr style=\"text-align: right;\">\n",
       "      <th></th>\n",
       "      <th>noun</th>\n",
       "      <th>count</th>\n",
       "      <th>weight</th>\n",
       "    </tr>\n",
       "  </thead>\n",
       "  <tbody>\n",
       "    <tr>\n",
       "      <th>0</th>\n",
       "      <td>shoe</td>\n",
       "      <td>938</td>\n",
       "      <td>0</td>\n",
       "    </tr>\n",
       "    <tr>\n",
       "      <th>1</th>\n",
       "      <td>size</td>\n",
       "      <td>634</td>\n",
       "      <td>0</td>\n",
       "    </tr>\n",
       "    <tr>\n",
       "      <th>2</th>\n",
       "      <td>converse</td>\n",
       "      <td>349</td>\n",
       "      <td>0</td>\n",
       "    </tr>\n",
       "    <tr>\n",
       "      <th>3</th>\n",
       "      <td>pair</td>\n",
       "      <td>344</td>\n",
       "      <td>0</td>\n",
       "    </tr>\n",
       "    <tr>\n",
       "      <th>4</th>\n",
       "      <td>love</td>\n",
       "      <td>313</td>\n",
       "      <td>0</td>\n",
       "    </tr>\n",
       "  </tbody>\n",
       "</table>\n",
       "</div>"
      ],
      "text/plain": [
       "       noun  count  weight\n",
       "0      shoe    938       0\n",
       "1      size    634       0\n",
       "2  converse    349       0\n",
       "3      pair    344       0\n",
       "4      love    313       0"
      ]
     },
     "execution_count": 75,
     "metadata": {},
     "output_type": "execute_result"
    }
   ],
   "source": [
    "noun_df = pd.DataFrame(pd.Series(all_nouns).astype('str').value_counts().reset_index())\n",
    "noun_df.columns = ['noun','count']\n",
    "noun_df['weight'] = 0\n",
    "noun_df.head()"
   ]
  },
  {
   "cell_type": "code",
   "execution_count": 76,
   "metadata": {},
   "outputs": [
    {
     "data": {
      "text/plain": [
       "(1665, 3)"
      ]
     },
     "execution_count": 76,
     "metadata": {},
     "output_type": "execute_result"
    }
   ],
   "source": [
    "noun_df.shape"
   ]
  },
  {
   "cell_type": "code",
   "execution_count": 77,
   "metadata": {},
   "outputs": [
    {
     "data": {
      "text/plain": [
       "('size right tight look small lose money pant',\n",
       " 'I recommend these shoes to anyone.')"
      ]
     },
     "execution_count": 77,
     "metadata": {},
     "output_type": "execute_result"
    }
   ],
   "source": [
    "text = 'The size is not right it is too tight look to small , i lost my money in this pant'#reviews.comments.iloc[5]\n",
    "text = spacy_tokenizer(text)\n",
    "text,reviews.comments.iloc[5]"
   ]
  },
  {
   "cell_type": "code",
   "execution_count": 78,
   "metadata": {},
   "outputs": [
    {
     "data": {
      "text/plain": [
       "[(size, tight), (look, small)]"
      ]
     },
     "execution_count": 78,
     "metadata": {},
     "output_type": "execute_result"
    }
   ],
   "source": [
    "doc = nlp(text)\n",
    "\n",
    "noun_adj_pairs = []\n",
    "for i,token in enumerate(doc):\n",
    "    if token.pos_ not in ('NOUN','PROPN'):\n",
    "        continue\n",
    "    for j in range(i+1,len(doc)):\n",
    "        if doc[j].pos_ == 'ADJ':\n",
    "            noun_adj_pairs.append((token,doc[j]))\n",
    "            break\n",
    "noun_adj_pairs"
   ]
  },
  {
   "cell_type": "code",
   "execution_count": 79,
   "metadata": {},
   "outputs": [
    {
     "data": {
      "text/plain": [
       "'happy purchase customer service great email inform recieved order order recieved 2 day late .......... thanks'"
      ]
     },
     "execution_count": 79,
     "metadata": {},
     "output_type": "execute_result"
    }
   ],
   "source": [
    "reviews.cleaned_comments.iloc[0]"
   ]
  },
  {
   "cell_type": "code",
   "execution_count": 80,
   "metadata": {},
   "outputs": [
    {
     "data": {
      "text/plain": [
       "0    True\n",
       "dtype: bool"
      ]
     },
     "execution_count": 80,
     "metadata": {},
     "output_type": "execute_result"
    }
   ],
   "source": [
    "pd.Series(['good']).isin(positive)"
   ]
  },
  {
   "cell_type": "code",
   "execution_count": 81,
   "metadata": {},
   "outputs": [
    {
     "data": {
      "text/plain": [
       "0    False\n",
       "dtype: bool"
      ]
     },
     "execution_count": 81,
     "metadata": {},
     "output_type": "execute_result"
    }
   ],
   "source": [
    "(pd.Series([str(token)]).isin(positive)) | (pd.Series([str(token)]).isin(negative))"
   ]
  },
  {
   "cell_type": "code",
   "execution_count": 82,
   "metadata": {},
   "outputs": [
    {
     "name": "stderr",
     "output_type": "stream",
     "text": [
      "100%|██████████| 4041/4041 [01:01<00:00, 66.01it/s]\n"
     ]
    }
   ],
   "source": [
    "for text in tqdm(reviews.cleaned_comments):\n",
    "    doc = nlp(text)\n",
    "    noun_adj_pairs = []\n",
    "    for i,token in enumerate(doc):\n",
    "        if token.pos_ not in ('ADJ'):\n",
    "            continue\n",
    "        if((pd.Series([str(token)]).isin(positive)[0]) | (pd.Series([str(token)]).isin(negative)[0])):\n",
    "            for j in range(i+1,min(i+6,len(doc))):\n",
    "                if doc[j].pos_ in ('NOUN','PROPN'):\n",
    "                    noun_adj_pairs.append((token,doc[j]))\n",
    "                    noun_df.loc[noun_df.noun==str(doc[j]),'weight'] = noun_df.loc[noun_df.noun==str(doc[j]),'weight'].iloc[0]+1\n",
    "                    break\n",
    "    noun_adj_pairs"
   ]
  },
  {
   "cell_type": "code",
   "execution_count": 83,
   "metadata": {},
   "outputs": [
    {
     "data": {
      "text/html": [
       "<div>\n",
       "<style scoped>\n",
       "    .dataframe tbody tr th:only-of-type {\n",
       "        vertical-align: middle;\n",
       "    }\n",
       "\n",
       "    .dataframe tbody tr th {\n",
       "        vertical-align: top;\n",
       "    }\n",
       "\n",
       "    .dataframe thead th {\n",
       "        text-align: right;\n",
       "    }\n",
       "</style>\n",
       "<table border=\"1\" class=\"dataframe\">\n",
       "  <thead>\n",
       "    <tr style=\"text-align: right;\">\n",
       "      <th></th>\n",
       "      <th>noun</th>\n",
       "      <th>count</th>\n",
       "      <th>weight</th>\n",
       "    </tr>\n",
       "  </thead>\n",
       "  <tbody>\n",
       "    <tr>\n",
       "      <th>0</th>\n",
       "      <td>shoe</td>\n",
       "      <td>938</td>\n",
       "      <td>193</td>\n",
       "    </tr>\n",
       "    <tr>\n",
       "      <th>1</th>\n",
       "      <td>size</td>\n",
       "      <td>634</td>\n",
       "      <td>87</td>\n",
       "    </tr>\n",
       "    <tr>\n",
       "      <th>5</th>\n",
       "      <td>color</td>\n",
       "      <td>278</td>\n",
       "      <td>77</td>\n",
       "    </tr>\n",
       "    <tr>\n",
       "      <th>3</th>\n",
       "      <td>pair</td>\n",
       "      <td>344</td>\n",
       "      <td>52</td>\n",
       "    </tr>\n",
       "    <tr>\n",
       "      <th>16</th>\n",
       "      <td>quality</td>\n",
       "      <td>87</td>\n",
       "      <td>49</td>\n",
       "    </tr>\n",
       "    <tr>\n",
       "      <th>17</th>\n",
       "      <td>price</td>\n",
       "      <td>84</td>\n",
       "      <td>43</td>\n",
       "    </tr>\n",
       "    <tr>\n",
       "      <th>9</th>\n",
       "      <td>wear</td>\n",
       "      <td>176</td>\n",
       "      <td>42</td>\n",
       "    </tr>\n",
       "    <tr>\n",
       "      <th>25</th>\n",
       "      <td>look</td>\n",
       "      <td>59</td>\n",
       "      <td>39</td>\n",
       "    </tr>\n",
       "    <tr>\n",
       "      <th>15</th>\n",
       "      <td>purchase</td>\n",
       "      <td>96</td>\n",
       "      <td>36</td>\n",
       "    </tr>\n",
       "    <tr>\n",
       "      <th>14</th>\n",
       "      <td>product</td>\n",
       "      <td>99</td>\n",
       "      <td>35</td>\n",
       "    </tr>\n",
       "  </tbody>\n",
       "</table>\n",
       "</div>"
      ],
      "text/plain": [
       "        noun  count  weight\n",
       "0       shoe    938     193\n",
       "1       size    634      87\n",
       "5      color    278      77\n",
       "3       pair    344      52\n",
       "16   quality     87      49\n",
       "17     price     84      43\n",
       "9       wear    176      42\n",
       "25      look     59      39\n",
       "15  purchase     96      36\n",
       "14   product     99      35"
      ]
     },
     "execution_count": 83,
     "metadata": {},
     "output_type": "execute_result"
    }
   ],
   "source": [
    "noun_df = noun_df[~noun_df.noun.isin(spacy_tokenizer(reviews.title.iloc[0]).split())]\n",
    "noun_df = noun_df.sort_values(by='weight',ascending=False)\n",
    "noun_df.head(10)"
   ]
  },
  {
   "cell_type": "code",
   "execution_count": 123,
   "metadata": {},
   "outputs": [
    {
     "data": {
      "text/html": [
       "<div>\n",
       "<style scoped>\n",
       "    .dataframe tbody tr th:only-of-type {\n",
       "        vertical-align: middle;\n",
       "    }\n",
       "\n",
       "    .dataframe tbody tr th {\n",
       "        vertical-align: top;\n",
       "    }\n",
       "\n",
       "    .dataframe thead th {\n",
       "        text-align: right;\n",
       "    }\n",
       "</style>\n",
       "<table border=\"1\" class=\"dataframe\">\n",
       "  <thead>\n",
       "    <tr style=\"text-align: right;\">\n",
       "      <th></th>\n",
       "      <th>noun</th>\n",
       "      <th>count</th>\n",
       "      <th>weight</th>\n",
       "    </tr>\n",
       "  </thead>\n",
       "  <tbody>\n",
       "    <tr>\n",
       "      <th>0</th>\n",
       "      <td>jeans</td>\n",
       "      <td>1242</td>\n",
       "      <td>708</td>\n",
       "    </tr>\n",
       "    <tr>\n",
       "      <th>5</th>\n",
       "      <td>quality</td>\n",
       "      <td>414</td>\n",
       "      <td>520</td>\n",
       "    </tr>\n",
       "    <tr>\n",
       "      <th>2</th>\n",
       "      <td>size</td>\n",
       "      <td>585</td>\n",
       "      <td>518</td>\n",
       "    </tr>\n",
       "    <tr>\n",
       "      <th>1</th>\n",
       "      <td>pair</td>\n",
       "      <td>679</td>\n",
       "      <td>502</td>\n",
       "    </tr>\n",
       "    <tr>\n",
       "      <th>4</th>\n",
       "      <td>color</td>\n",
       "      <td>438</td>\n",
       "      <td>460</td>\n",
       "    </tr>\n",
       "    <tr>\n",
       "      <th>3</th>\n",
       "      <td>levi</td>\n",
       "      <td>551</td>\n",
       "      <td>302</td>\n",
       "    </tr>\n",
       "    <tr>\n",
       "      <th>13</th>\n",
       "      <td>price</td>\n",
       "      <td>231</td>\n",
       "      <td>300</td>\n",
       "    </tr>\n",
       "    <tr>\n",
       "      <th>12</th>\n",
       "      <td>product</td>\n",
       "      <td>260</td>\n",
       "      <td>300</td>\n",
       "    </tr>\n",
       "    <tr>\n",
       "      <th>8</th>\n",
       "      <td>time</td>\n",
       "      <td>302</td>\n",
       "      <td>258</td>\n",
       "    </tr>\n",
       "    <tr>\n",
       "      <th>14</th>\n",
       "      <td>fit</td>\n",
       "      <td>212</td>\n",
       "      <td>256</td>\n",
       "    </tr>\n",
       "  </tbody>\n",
       "</table>\n",
       "</div>"
      ],
      "text/plain": [
       "       noun  count  weight\n",
       "0     jeans   1242     708\n",
       "5   quality    414     520\n",
       "2      size    585     518\n",
       "1      pair    679     502\n",
       "4     color    438     460\n",
       "3      levi    551     302\n",
       "13    price    231     300\n",
       "12  product    260     300\n",
       "8      time    302     258\n",
       "14      fit    212     256"
      ]
     },
     "execution_count": 123,
     "metadata": {},
     "output_type": "execute_result"
    }
   ],
   "source": [
    "noun_df = noun_df.sort_values(by='weight',ascending=False)\n",
    "noun_df.head(10)"
   ]
  },
  {
   "cell_type": "code",
   "execution_count": 147,
   "metadata": {},
   "outputs": [
    {
     "data": {
      "text/plain": [
       "['levi', 'men', '501', 'original', 'fit', 'jean']"
      ]
     },
     "execution_count": 147,
     "metadata": {},
     "output_type": "execute_result"
    }
   ],
   "source": [
    "spacy_tokenizer(reviews.title.iloc[0]).split()"
   ]
  },
  {
   "cell_type": "code",
   "execution_count": 151,
   "metadata": {},
   "outputs": [
    {
     "data": {
      "text/plain": [
       "-1"
      ]
     },
     "execution_count": 151,
     "metadata": {},
     "output_type": "execute_result"
    }
   ],
   "source": [
    "reviews.cleaned_comments.iloc[0].find('quality')"
   ]
  },
  {
   "cell_type": "code",
   "execution_count": 163,
   "metadata": {},
   "outputs": [],
   "source": [
    "def topic_presence(s,item):\n",
    "    return s.find(item)\n",
    "    \n",
    "item = 'price'\n",
    "reviews['item_presence'] = reviews.apply(lambda row:topic_presence(row['cleaned_comments'],item),axis=1 )"
   ]
  },
  {
   "cell_type": "code",
   "execution_count": 164,
   "metadata": {
    "scrolled": true
   },
   "outputs": [
    {
     "name": "stdout",
     "output_type": "stream",
     "text": [
      "------------------------------------------------------------------------\n",
      "So, I guess That's the reason why it is pricier than the blue version 501.\n",
      "------------------------------------------------------------------------\n",
      "Great Price and great fit for my hubby's favorite brand and style of jeans.\n",
      "------------------------------------------------------------------------\n",
      "I have use Levis 501 and 511 since I remember and always bought them in the US, as price in Europe is not competitive, and having always used same size I was very comfortable in buying online without try them on, very surprise that they are smaller than the size indicated, did not expect that to happen and will think twice before buying again\n",
      "------------------------------------------------------------------------\n",
      "Watch the price of jeans, they fluctuate a lot.\n",
      "------------------------------------------------------------------------\n",
      "Good fit, good looking, and most of all, Great price.\n",
      "------------------------------------------------------------------------\n",
      "Price is perfect !..\n",
      "------------------------------------------------------------------------\n",
      "I recommend it and has a good price, good!\n",
      "------------------------------------------------------------------------\n",
      "The color which I like.Provided with a very good price.If I need I can buy again.\n",
      "------------------------------------------------------------------------\n",
      "You cannot buy fractional fittings jeans in Australia so I send them to a re ship address and pay the shipping charges and can purchase 3 pairs for the price of one including the freight.\n",
      "------------------------------------------------------------------------\n",
      "His tush is normally his best asset which made these jeans a huge disappointment considering the price.\n",
      "------------------------------------------------------------------------\n",
      "Amazon has these jeans at a great price and they fit (36X38 and 29X34).\n",
      "------------------------------------------------------------------------\n",
      "They were a good fit and the price was right, I gave them as a gift and he loved them.\n",
      "------------------------------------------------------------------------\n",
      "The price for the jeans quality is ok. My kid loves them\n",
      "------------------------------------------------------------------------\n",
      "Given that we get the full selection of washes and sizes, Amazon also has a good price on these.\n",
      "------------------------------------------------------------------------\n",
      "I used to weigh 230 LBS, so when I was looking to replace my fat pants with something nicer, This was it asnd you can't get the 501's anywhere near the price from the factory.\n",
      "------------------------------------------------------------------------\n",
      "I order in minutes,wait a week,  and then I received the high quality jeans I expected at a great price without having to drive to the store.\n",
      "------------------------------------------------------------------------\n",
      "I was extremely happy to get them for this price and am super happy.\n",
      "------------------------------------------------------------------------\n",
      "The price is as good as it gets anywhere\n",
      "------------------------------------------------------------------------\n",
      "Good quality, fits the way that 501's fit and I couldn't beat the price.\n",
      "------------------------------------------------------------------------\n",
      "Nice fit and colour and all for a fair price!!\n"
     ]
    }
   ],
   "source": [
    "reviews1 = reviews[reviews.item_presence!=-1]\n",
    "for i in range(0,20):\n",
    "    print('------------------------------------------------------------------------')\n",
    "    print(reviews1.comments.iloc[i])"
   ]
  },
  {
   "cell_type": "code",
   "execution_count": null,
   "metadata": {},
   "outputs": [],
   "source": []
  },
  {
   "cell_type": "code",
   "execution_count": 201,
   "metadata": {},
   "outputs": [
    {
     "data": {
      "text/html": [
       "<div>\n",
       "<style scoped>\n",
       "    .dataframe tbody tr th:only-of-type {\n",
       "        vertical-align: middle;\n",
       "    }\n",
       "\n",
       "    .dataframe tbody tr th {\n",
       "        vertical-align: top;\n",
       "    }\n",
       "\n",
       "    .dataframe thead th {\n",
       "        text-align: right;\n",
       "    }\n",
       "</style>\n",
       "<table border=\"1\" class=\"dataframe\">\n",
       "  <thead>\n",
       "    <tr style=\"text-align: right;\">\n",
       "      <th></th>\n",
       "      <th>sentiment</th>\n",
       "      <th>count</th>\n",
       "    </tr>\n",
       "  </thead>\n",
       "  <tbody>\n",
       "    <tr>\n",
       "      <th>3</th>\n",
       "      <td>positive</td>\n",
       "      <td>8</td>\n",
       "    </tr>\n",
       "    <tr>\n",
       "      <th>4</th>\n",
       "      <td>negative</td>\n",
       "      <td>10</td>\n",
       "    </tr>\n",
       "    <tr>\n",
       "      <th>5</th>\n",
       "      <td>neutral</td>\n",
       "      <td>5</td>\n",
       "    </tr>\n",
       "  </tbody>\n",
       "</table>\n",
       "</div>"
      ],
      "text/plain": [
       "  sentiment  count\n",
       "3  positive      8\n",
       "4  negative     10\n",
       "5   neutral      5"
      ]
     },
     "execution_count": 201,
     "metadata": {},
     "output_type": "execute_result"
    }
   ],
   "source": [
    "a = pd.DataFrame({'sentiment':['positive','negative','neutral'],'count':[0,0,0]})\n",
    "b = pd.DataFrame({'sentiment':['positive','negative','neutral'],'count':[8,10,5]})\n",
    "a.merge(b,on=['sentiment','count'],how ='outer').drop_duplicates(subset=['sentiment'],keep='last')"
   ]
  },
  {
   "cell_type": "markdown",
   "metadata": {},
   "source": [
    "# Complete code of dong topic extraction\n"
   ]
  },
  {
   "cell_type": "code",
   "execution_count": 7,
   "metadata": {
    "scrolled": true
   },
   "outputs": [
    {
     "name": "stdout",
     "output_type": "stream",
     "text": [
      "2005\n",
      "4783\n"
     ]
    },
    {
     "name": "stderr",
     "output_type": "stream",
     "text": [
      "100%|██████████| 1049/1049 [00:00<00:00, 9708.50it/s]\n",
      "100%|██████████| 1049/1049 [00:00<00:00, 10040.06it/s]\n",
      "100%|██████████| 6671/6671 [00:01<00:00, 6556.21it/s]\n",
      "100%|██████████| 6671/6671 [00:27<00:00, 242.53it/s]\n",
      "100%|██████████| 6671/6671 [00:58<00:00, 113.85it/s]"
     ]
    },
    {
     "name": "stdout",
     "output_type": "stream",
     "text": [
      "-I- Total time =  0:01:29.959236\n"
     ]
    },
    {
     "name": "stderr",
     "output_type": "stream",
     "text": [
      "\n"
     ]
    }
   ],
   "source": [
    "import nltk\n",
    "import pandas as pd\n",
    "import numpy as np\n",
    "import re\n",
    "import spacy\n",
    "import gensim\n",
    "import matplotlib.pyplot as plt\n",
    "import seaborn as sns\n",
    "\n",
    "from spacy.lang.en import English\n",
    "from spacy.lang.en.stop_words import STOP_WORDS\n",
    "from tqdm import tqdm\n",
    "import nltk.data\n",
    "import string\n",
    "from datetime import datetime\n",
    "import sys\n",
    "\n",
    "sys.path.insert(0,'./../CRM_bokeh_app/scripts')\n",
    "import sentimental_analysis\n",
    "\n",
    "init_time = datetime.now()\n",
    "%matplotlib inline\n",
    "nlp = spacy.load('en')\n",
    "tokenizer = nltk.data.load('tokenizers/punkt/english.pickle')\n",
    "\n",
    "\n",
    "def spacy_tokenizer(sentence):\n",
    "    mytokens = parser(sentence)\n",
    "    mytokens = [ word.lemma_.lower().strip() if word.lemma_ != \"-PRON-\" else word.lower_ for word in mytokens ]\n",
    "    mytokens = [ word for word in mytokens if word not in stopwords and word not in punctuations ]\n",
    "    mytokens = \" \".join([i for i in mytokens])\n",
    "    return mytokens\n",
    "\n",
    "def sentence_finder(reviews,limit1,limit2):\n",
    "    \n",
    "    full_comments = []\n",
    "    full_title = []\n",
    "    full_id = []\n",
    "    for i in tqdm(range(limit1,limit2)):\n",
    "        c = reviews.comments.iloc[i]\n",
    "        c = tokenizer.tokenize(c)#c.split('.')\n",
    "        full_comments = full_comments+c\n",
    "        t1 = reviews.title.iloc[i]\n",
    "        t = [t1 for j in range(len(c))]\n",
    "        full_title = full_title+t\n",
    "        id1 = reviews.id.iloc[i]\n",
    "        id2 = [id1 for j in range(len(c))]\n",
    "        full_id = full_id+id2\n",
    "        \n",
    "    return full_comments,full_title,full_id\n",
    "\n",
    "def noun_finder(text):\n",
    "    doc = nlp(text)\n",
    "    all_nouns = []\n",
    "    for i,token in enumerate(doc):\n",
    "        if token.pos_ in ('NOUN','PROPN'):\n",
    "            all_nouns.append(token)\n",
    "    return all_nouns\n",
    "\n",
    "def sent_to_words(sentences):\n",
    "    for sentence in sentences:\n",
    "        yield(gensim.utils.simple_preprocess(str(sentence), deacc=True))  # deacc=True removes punctuations\n",
    "\n",
    "# Parser for reviews\n",
    "parser = English()  \n",
    "\n",
    "## reading the +ve and -ve sentiment words\n",
    "positive = open('/home/gpu1/work_space/disk3_work_space3/CRM_Topic_models/input/positive-words.txt')\n",
    "positive = positive.readlines()\n",
    "positive = positive[31:]\n",
    "print(len(positive))\n",
    "\n",
    "negative = open('/home/gpu1/work_space/disk3_work_space3/CRM_Topic_models/input/negative-words.txt',encoding='utf8',errors='ignore')\n",
    "negative = negative.readlines()\n",
    "negative = negative[31:]\n",
    "\n",
    "def replace_newline(text): return text.replace('\\n','')\n",
    "\n",
    "positive = list(pd.Series(positive).apply(replace_newline))\n",
    "negative = list(pd.Series(negative).apply(replace_newline))\n",
    "\n",
    "print(len(negative))\n",
    "\n",
    "## panctuation and stopwords declaration\n",
    "punctuations = string.punctuation\n",
    "stopwords = list(STOP_WORDS)\n",
    "stopwords = pd.Series(stopwords)\n",
    "stopwords = list(stopwords[(~stopwords.isin(positive)) & (~stopwords.isin(negative))])\n",
    "\n",
    "## Reading the reviews dataset\n",
    "reviews = pd.read_csv('/home/gpu1/work_space/disk3_work_space3/CRM_Topic_models/input/amazon_cloth_shoe_watches_reviews_with_title.csv')\n",
    "reviews = reviews[['rating','comments','title']]\n",
    "reviews['comments'] = reviews.comments.astype('str')\n",
    "reviews['title'] = reviews.title.astype('str')\n",
    "\n",
    "# reviews = reviews[reviews.title==\"Converse Unisex Chuck Taylor Classic Colors Sneaker\"]\n",
    "title = \"Levi's Men's 501 Original Fit Jean\"\n",
    "reviews = reviews[reviews.title==title]\n",
    "reviews = reviews.drop_duplicates()\n",
    "reviews['id'] = range(len(reviews))\n",
    "\n",
    "## sentence making\n",
    "full_comments = []\n",
    "full_title = []\n",
    "l1 = int(len(reviews)/2)\n",
    "c1,t1,id1 = sentence_finder(reviews,0,l1)\n",
    "c2,t2,id2 = sentence_finder(reviews,l1,len(reviews))\n",
    "full_comments = c1+c2\n",
    "full_title = t1+t2\n",
    "full_id    = id1+id2\n",
    "\n",
    "reviews_old = reviews[['id','comments']]\n",
    "reviews_old.columns = ['id','comments_full']\n",
    "\n",
    "def stripper(s): return s.strip()\n",
    "\n",
    "reviews = pd.DataFrame()\n",
    "reviews['comments'] = full_comments\n",
    "reviews['comments'] = reviews['comments'].apply(stripper)\n",
    "reviews['title'] = full_title\n",
    "reviews['id'] = full_id\n",
    "reviews = reviews[reviews.comments!='']\n",
    "reviews = reviews.drop_duplicates(subset=['comments'])\n",
    "reviews = reviews.merge(reviews_old,on='id',how='left')\n",
    "\n",
    "title_words = spacy_tokenizer(reviews.title.iloc[0].replace(\"'\",\"\")).split()\n",
    "def title_word_remover(s):\n",
    "    for t in title_words:\n",
    "        s = s.replace(t,'')\n",
    "    return s\n",
    "\n",
    "## For finding bigrams\n",
    "data = reviews.comments.values.tolist()\n",
    "# Remove Emails\n",
    "data = [re.sub('\\S*@\\S*\\s?', '', sent) for sent in data]\n",
    "# Remove new line characters\n",
    "data = [re.sub('\\s+', ' ', sent) for sent in data]\n",
    "# Remove distracting single quotes\n",
    "data = [re.sub(\"\\'\", \"\", sent) for sent in data]\n",
    "data_words = list(sent_to_words(data))\n",
    "\n",
    "# Build the bigram and trigram models\n",
    "bigram = gensim.models.Phrases(data_words, min_count=4, threshold=50) # higher threshold fewer phrases.\n",
    "# trigram = gensim.models.Phrases(bigram[data_words], threshold=50)  \n",
    "# Faster way to get a sentence clubbed as a trigram/bigram\n",
    "bigram_mod = gensim.models.phrases.Phraser(bigram)\n",
    "# trigram_mod = gensim.models.phrases.Phraser(trigram)\n",
    "data_words1 = [' '.join(bigram_mod[d]) for d in data_words]\n",
    "reviews['comments'] = data_words1\n",
    "\n",
    "## steming lemmetising and stop word removal\n",
    "reviews['cleaned_comments'] = reviews.comments.apply(spacy_tokenizer)\n",
    "\n",
    "## sentiment finding\n",
    "senti = sentimental_analysis.find_sentiment(reviews)\n",
    "reviews['sentiment_pred'] = senti\n",
    "\n",
    "## finding all nouns in the full reviews\n",
    "all_nouns = []\n",
    "for i in tqdm(range(len(reviews))):\n",
    "    all_nouns = all_nouns+noun_finder(reviews.cleaned_comments.iloc[i])\n",
    "    \n",
    "## Nouns and their count with weight\n",
    "noun_df = pd.DataFrame(pd.Series(all_nouns).astype('str').value_counts().reset_index())\n",
    "noun_df.columns = ['noun','count']\n",
    "noun_df['weight'] = 0\n",
    "noun_df.head()\n",
    "\n",
    "# def bigram_weight_update(token):\n",
    "#     weight = 0\n",
    "#     bi_words = str(token).split('_')\n",
    "#     if(len(bi_words)==2):\n",
    "        \n",
    "\n",
    "## finding the weight and updating it in df\n",
    "for text in tqdm(reviews.cleaned_comments):\n",
    "    doc = nlp(text)\n",
    "    noun_adj_pairs = []\n",
    "    \n",
    "    for i,token in enumerate(doc):\n",
    "        bi_words = str(token).split('_')\n",
    "        if ((token.pos_ not in ('ADJ')) & (len(bi_words)==1)):\n",
    "            continue\n",
    "        if ((len(bi_words)==2)):\n",
    "            if((nlp(bi_words[0])[0].pos_=='ADJ')& (nlp(bi_words[1])[0].pos_ in ('NOUN','PROPN')) & (~pd.Series(bi_words[1]).isin(title_words)[0]) ):\n",
    "                noun_adj_pairs.append((bi_words[0],bi_words[1]))\n",
    "                try:\n",
    "                    noun_df.loc[noun_df.noun==str(bi_words[1]),'weight'] = noun_df.loc[noun_df.noun==str(bi_words[1]),'weight'].iloc[0]+1\n",
    "                except:\n",
    "                    noun_df = noun_df.append(pd.DataFrame({'noun':[bi_words[1]],'count':[1],'weight':[1]},index=[len(noun_df)]))\n",
    "            elif((token.pos_ in ('NOUN','PROPN')) & (nlp(bi_words[0])[0].pos_ in ('NOUN','PROPN')) & (nlp(bi_words[1])[0].pos_ in ('NOUN','PROPN')) & (~pd.Series(bi_words[0]).isin(title_words)[0]) & (~pd.Series(bi_words[1]).isin(title_words)[0]) ):\n",
    "#             elif((nlp(bi_words[0])[0].pos_ in ('NOUN','PROPN')) & (nlp(bi_words[1])[0].pos_ in ('NOUN','PROPN'))):\n",
    "                noun_df.loc[noun_df.noun==str(token),'weight'] = noun_df.loc[noun_df.noun==str(token),'weight'].iloc[0]+1\n",
    "            continue\n",
    "            \n",
    "        if((pd.Series([str(token)]).isin(positive)[0]) | (pd.Series([str(token)]).isin(negative)[0])):\n",
    "            for j in range(i+1,min(i+6,len(doc))):\n",
    "#                 if (doc[j].pos_ in ('NOUN','PROPN')):\n",
    "                if ((doc[j].pos_ in ('NOUN','PROPN')) & (len(str(doc[j]).split('_'))!=2)):\n",
    "                    noun_adj_pairs.append((token,doc[j]))\n",
    "                    noun_df.loc[noun_df.noun==str(doc[j]),'weight'] = noun_df.loc[noun_df.noun==str(doc[j]),'weight'].iloc[0]+1\n",
    "                    break\n",
    "\n",
    "## removing words from noun which is in title to find top topics ( topic nouns ) \n",
    "noun_df = noun_df[~noun_df.noun.isin(spacy_tokenizer(reviews.title.iloc[0].replace(\"'\",\"\")).split())]\n",
    "noun_df = noun_df.sort_values(by='weight',ascending=False)\n",
    "\n",
    "final_time = datetime.now()\n",
    "\n",
    "## finding the presence of topic\n",
    "def topic_presence(s,item):\n",
    "    return s.find(item)\n",
    "    \n",
    "# item = 'price'\n",
    "# reviews['item_presence'] = reviews.apply(lambda row:topic_presence(row['cleaned_comments'],item),axis=1 )\n",
    "\n",
    "print('-I- Total time = ',str(final_time-init_time))"
   ]
  },
  {
   "cell_type": "code",
   "execution_count": 6,
   "metadata": {},
   "outputs": [],
   "source": [
    "from bokeh.models.widgets import RadioButtonGroup\n",
    "from bokeh.models.widgets import RadioGroup\n",
    "radio_button_group = RadioButtonGroup(labels=['all','positive','negative','neutral'], active=0)"
   ]
  },
  {
   "cell_type": "code",
   "execution_count": 8,
   "metadata": {},
   "outputs": [
    {
     "data": {
      "text/plain": [
       "\"Levi's Men's 501 Original Fit Jean\""
      ]
     },
     "execution_count": 8,
     "metadata": {},
     "output_type": "execute_result"
    }
   ],
   "source": [
    "title"
   ]
  },
  {
   "cell_type": "code",
   "execution_count": 9,
   "metadata": {
    "scrolled": false
   },
   "outputs": [
    {
     "data": {
      "text/html": [
       "<div>\n",
       "<style scoped>\n",
       "    .dataframe tbody tr th:only-of-type {\n",
       "        vertical-align: middle;\n",
       "    }\n",
       "\n",
       "    .dataframe tbody tr th {\n",
       "        vertical-align: top;\n",
       "    }\n",
       "\n",
       "    .dataframe thead th {\n",
       "        text-align: right;\n",
       "    }\n",
       "</style>\n",
       "<table border=\"1\" class=\"dataframe\">\n",
       "  <thead>\n",
       "    <tr style=\"text-align: right;\">\n",
       "      <th></th>\n",
       "      <th>noun</th>\n",
       "      <th>count</th>\n",
       "      <th>weight</th>\n",
       "    </tr>\n",
       "  </thead>\n",
       "  <tbody>\n",
       "    <tr>\n",
       "      <th>0</th>\n",
       "      <td>jeans</td>\n",
       "      <td>1334</td>\n",
       "      <td>211</td>\n",
       "    </tr>\n",
       "    <tr>\n",
       "      <th>4</th>\n",
       "      <td>quality</td>\n",
       "      <td>400</td>\n",
       "      <td>165</td>\n",
       "    </tr>\n",
       "    <tr>\n",
       "      <th>6</th>\n",
       "      <td>color</td>\n",
       "      <td>379</td>\n",
       "      <td>111</td>\n",
       "    </tr>\n",
       "    <tr>\n",
       "      <th>12</th>\n",
       "      <td>price</td>\n",
       "      <td>205</td>\n",
       "      <td>100</td>\n",
       "    </tr>\n",
       "    <tr>\n",
       "      <th>10</th>\n",
       "      <td>product</td>\n",
       "      <td>242</td>\n",
       "      <td>96</td>\n",
       "    </tr>\n",
       "    <tr>\n",
       "      <th>3</th>\n",
       "      <td>size</td>\n",
       "      <td>497</td>\n",
       "      <td>95</td>\n",
       "    </tr>\n",
       "    <tr>\n",
       "      <th>2</th>\n",
       "      <td>pair</td>\n",
       "      <td>512</td>\n",
       "      <td>95</td>\n",
       "    </tr>\n",
       "    <tr>\n",
       "      <th>24</th>\n",
       "      <td>purchase</td>\n",
       "      <td>107</td>\n",
       "      <td>49</td>\n",
       "    </tr>\n",
       "    <tr>\n",
       "      <th>16</th>\n",
       "      <td>material</td>\n",
       "      <td>153</td>\n",
       "      <td>48</td>\n",
       "    </tr>\n",
       "    <tr>\n",
       "      <th>7</th>\n",
       "      <td>pants</td>\n",
       "      <td>274</td>\n",
       "      <td>35</td>\n",
       "    </tr>\n",
       "    <tr>\n",
       "      <th>19</th>\n",
       "      <td>fabric</td>\n",
       "      <td>139</td>\n",
       "      <td>31</td>\n",
       "    </tr>\n",
       "    <tr>\n",
       "      <th>9</th>\n",
       "      <td>time</td>\n",
       "      <td>260</td>\n",
       "      <td>31</td>\n",
       "    </tr>\n",
       "    <tr>\n",
       "      <th>59</th>\n",
       "      <td>look</td>\n",
       "      <td>47</td>\n",
       "      <td>27</td>\n",
       "    </tr>\n",
       "    <tr>\n",
       "      <th>31</th>\n",
       "      <td>buy</td>\n",
       "      <td>90</td>\n",
       "      <td>27</td>\n",
       "    </tr>\n",
       "    <tr>\n",
       "      <th>29</th>\n",
       "      <td>brand</td>\n",
       "      <td>98</td>\n",
       "      <td>26</td>\n",
       "    </tr>\n",
       "    <tr>\n",
       "      <th>27</th>\n",
       "      <td>denim</td>\n",
       "      <td>101</td>\n",
       "      <td>24</td>\n",
       "    </tr>\n",
       "    <tr>\n",
       "      <th>51</th>\n",
       "      <td>thing</td>\n",
       "      <td>57</td>\n",
       "      <td>24</td>\n",
       "    </tr>\n",
       "    <tr>\n",
       "      <th>32</th>\n",
       "      <td>wear</td>\n",
       "      <td>88</td>\n",
       "      <td>24</td>\n",
       "    </tr>\n",
       "    <tr>\n",
       "      <th>11</th>\n",
       "      <td>years</td>\n",
       "      <td>239</td>\n",
       "      <td>23</td>\n",
       "    </tr>\n",
       "    <tr>\n",
       "      <th>125</th>\n",
       "      <td>belt_loops</td>\n",
       "      <td>22</td>\n",
       "      <td>22</td>\n",
       "    </tr>\n",
       "  </tbody>\n",
       "</table>\n",
       "</div>"
      ],
      "text/plain": [
       "           noun  count  weight\n",
       "0         jeans   1334     211\n",
       "4       quality    400     165\n",
       "6         color    379     111\n",
       "12        price    205     100\n",
       "10      product    242      96\n",
       "3          size    497      95\n",
       "2          pair    512      95\n",
       "24     purchase    107      49\n",
       "16     material    153      48\n",
       "7         pants    274      35\n",
       "19       fabric    139      31\n",
       "9          time    260      31\n",
       "59         look     47      27\n",
       "31          buy     90      27\n",
       "29        brand     98      26\n",
       "27        denim    101      24\n",
       "51        thing     57      24\n",
       "32         wear     88      24\n",
       "11        years    239      23\n",
       "125  belt_loops     22      22"
      ]
     },
     "execution_count": 9,
     "metadata": {},
     "output_type": "execute_result"
    }
   ],
   "source": [
    "# noun_df = noun_df[noun_df.weight!=0]\n",
    "noun_df = noun_df.sort_values(by='weight',ascending=False)\n",
    "noun_df.head(20)"
   ]
  },
  {
   "cell_type": "code",
   "execution_count": 180,
   "metadata": {
    "scrolled": false
   },
   "outputs": [
    {
     "data": {
      "text/html": [
       "<div>\n",
       "<style scoped>\n",
       "    .dataframe tbody tr th:only-of-type {\n",
       "        vertical-align: middle;\n",
       "    }\n",
       "\n",
       "    .dataframe tbody tr th {\n",
       "        vertical-align: top;\n",
       "    }\n",
       "\n",
       "    .dataframe thead th {\n",
       "        text-align: right;\n",
       "    }\n",
       "</style>\n",
       "<table border=\"1\" class=\"dataframe\">\n",
       "  <thead>\n",
       "    <tr style=\"text-align: right;\">\n",
       "      <th></th>\n",
       "      <th>noun</th>\n",
       "      <th>count</th>\n",
       "      <th>weight</th>\n",
       "    </tr>\n",
       "  </thead>\n",
       "  <tbody>\n",
       "    <tr>\n",
       "      <th>2</th>\n",
       "      <td>item</td>\n",
       "      <td>136</td>\n",
       "      <td>19</td>\n",
       "    </tr>\n",
       "    <tr>\n",
       "      <th>3</th>\n",
       "      <td>pocket</td>\n",
       "      <td>115</td>\n",
       "      <td>24</td>\n",
       "    </tr>\n",
       "    <tr>\n",
       "      <th>4</th>\n",
       "      <td>trip</td>\n",
       "      <td>105</td>\n",
       "      <td>8</td>\n",
       "    </tr>\n",
       "    <tr>\n",
       "      <th>5</th>\n",
       "      <td>zipper</td>\n",
       "      <td>104</td>\n",
       "      <td>14</td>\n",
       "    </tr>\n",
       "    <tr>\n",
       "      <th>6</th>\n",
       "      <td>product</td>\n",
       "      <td>99</td>\n",
       "      <td>30</td>\n",
       "    </tr>\n",
       "    <tr>\n",
       "      <th>7</th>\n",
       "      <td>use</td>\n",
       "      <td>97</td>\n",
       "      <td>8</td>\n",
       "    </tr>\n",
       "    <tr>\n",
       "      <th>8</th>\n",
       "      <td>size</td>\n",
       "      <td>86</td>\n",
       "      <td>25</td>\n",
       "    </tr>\n",
       "    <tr>\n",
       "      <th>9</th>\n",
       "      <td>thing</td>\n",
       "      <td>63</td>\n",
       "      <td>16</td>\n",
       "    </tr>\n",
       "    <tr>\n",
       "      <th>10</th>\n",
       "      <td>compartment</td>\n",
       "      <td>58</td>\n",
       "      <td>5</td>\n",
       "    </tr>\n",
       "    <tr>\n",
       "      <th>11</th>\n",
       "      <td>bathroom</td>\n",
       "      <td>54</td>\n",
       "      <td>5</td>\n",
       "    </tr>\n",
       "    <tr>\n",
       "      <th>12</th>\n",
       "      <td>time</td>\n",
       "      <td>53</td>\n",
       "      <td>1</td>\n",
       "    </tr>\n",
       "    <tr>\n",
       "      <th>13</th>\n",
       "      <td>break</td>\n",
       "      <td>51</td>\n",
       "      <td>2</td>\n",
       "    </tr>\n",
       "    <tr>\n",
       "      <th>14</th>\n",
       "      <td>toiletry</td>\n",
       "      <td>47</td>\n",
       "      <td>3</td>\n",
       "    </tr>\n",
       "    <tr>\n",
       "      <th>15</th>\n",
       "      <td>quality</td>\n",
       "      <td>45</td>\n",
       "      <td>22</td>\n",
       "    </tr>\n",
       "    <tr>\n",
       "      <th>16</th>\n",
       "      <td>work</td>\n",
       "      <td>44</td>\n",
       "      <td>3</td>\n",
       "    </tr>\n",
       "    <tr>\n",
       "      <th>17</th>\n",
       "      <td>lot</td>\n",
       "      <td>43</td>\n",
       "      <td>0</td>\n",
       "    </tr>\n",
       "    <tr>\n",
       "      <th>18</th>\n",
       "      <td>place</td>\n",
       "      <td>42</td>\n",
       "      <td>3</td>\n",
       "    </tr>\n",
       "    <tr>\n",
       "      <th>19</th>\n",
       "      <td>year</td>\n",
       "      <td>41</td>\n",
       "      <td>3</td>\n",
       "    </tr>\n",
       "    <tr>\n",
       "      <th>20</th>\n",
       "      <td>need</td>\n",
       "      <td>41</td>\n",
       "      <td>10</td>\n",
       "    </tr>\n",
       "    <tr>\n",
       "      <th>21</th>\n",
       "      <td>stuff</td>\n",
       "      <td>40</td>\n",
       "      <td>7</td>\n",
       "    </tr>\n",
       "  </tbody>\n",
       "</table>\n",
       "</div>"
      ],
      "text/plain": [
       "           noun  count  weight\n",
       "2          item    136      19\n",
       "3        pocket    115      24\n",
       "4          trip    105       8\n",
       "5        zipper    104      14\n",
       "6       product     99      30\n",
       "7           use     97       8\n",
       "8          size     86      25\n",
       "9         thing     63      16\n",
       "10  compartment     58       5\n",
       "11     bathroom     54       5\n",
       "12         time     53       1\n",
       "13        break     51       2\n",
       "14     toiletry     47       3\n",
       "15      quality     45      22\n",
       "16         work     44       3\n",
       "17          lot     43       0\n",
       "18        place     42       3\n",
       "19         year     41       3\n",
       "20         need     41      10\n",
       "21        stuff     40       7"
      ]
     },
     "execution_count": 180,
     "metadata": {},
     "output_type": "execute_result"
    }
   ],
   "source": [
    "# noun_df = noun_df[noun_df.weight!=0]\n",
    "noun_df = noun_df.sort_values(by='count',ascending=False)\n",
    "noun_df.head(20)"
   ]
  },
  {
   "cell_type": "code",
   "execution_count": 174,
   "metadata": {},
   "outputs": [
    {
     "data": {
      "text/html": [
       "<div>\n",
       "<style scoped>\n",
       "    .dataframe tbody tr th:only-of-type {\n",
       "        vertical-align: middle;\n",
       "    }\n",
       "\n",
       "    .dataframe tbody tr th {\n",
       "        vertical-align: top;\n",
       "    }\n",
       "\n",
       "    .dataframe thead th {\n",
       "        text-align: right;\n",
       "    }\n",
       "</style>\n",
       "<table border=\"1\" class=\"dataframe\">\n",
       "  <thead>\n",
       "    <tr style=\"text-align: right;\">\n",
       "      <th></th>\n",
       "      <th>noun</th>\n",
       "      <th>count</th>\n",
       "      <th>weight</th>\n",
       "    </tr>\n",
       "  </thead>\n",
       "  <tbody>\n",
       "    <tr>\n",
       "      <th>252</th>\n",
       "      <td>handle</td>\n",
       "      <td>3</td>\n",
       "      <td>0</td>\n",
       "    </tr>\n",
       "  </tbody>\n",
       "</table>\n",
       "</div>"
      ],
      "text/plain": [
       "       noun  count  weight\n",
       "252  handle      3       0"
      ]
     },
     "execution_count": 174,
     "metadata": {},
     "output_type": "execute_result"
    }
   ],
   "source": [
    "noun_df[noun_df.noun=='handle']"
   ]
  },
  {
   "cell_type": "code",
   "execution_count": 175,
   "metadata": {},
   "outputs": [
    {
     "data": {
      "text/html": [
       "<div>\n",
       "<style scoped>\n",
       "    .dataframe tbody tr th:only-of-type {\n",
       "        vertical-align: middle;\n",
       "    }\n",
       "\n",
       "    .dataframe tbody tr th {\n",
       "        vertical-align: top;\n",
       "    }\n",
       "\n",
       "    .dataframe thead th {\n",
       "        text-align: right;\n",
       "    }\n",
       "</style>\n",
       "<table border=\"1\" class=\"dataframe\">\n",
       "  <thead>\n",
       "    <tr style=\"text-align: right;\">\n",
       "      <th></th>\n",
       "      <th>noun</th>\n",
       "      <th>count</th>\n",
       "      <th>weight</th>\n",
       "    </tr>\n",
       "  </thead>\n",
       "  <tbody>\n",
       "    <tr>\n",
       "      <th>859</th>\n",
       "      <td>bathroom_door</td>\n",
       "      <td>1</td>\n",
       "      <td>14</td>\n",
       "    </tr>\n",
       "    <tr>\n",
       "      <th>120</th>\n",
       "      <td>access</td>\n",
       "      <td>6</td>\n",
       "      <td>8</td>\n",
       "    </tr>\n",
       "    <tr>\n",
       "      <th>892</th>\n",
       "      <td>sizes</td>\n",
       "      <td>1</td>\n",
       "      <td>7</td>\n",
       "    </tr>\n",
       "    <tr>\n",
       "      <th>266</th>\n",
       "      <td>lay</td>\n",
       "      <td>2</td>\n",
       "      <td>3</td>\n",
       "    </tr>\n",
       "    <tr>\n",
       "      <th>446</th>\n",
       "      <td>stench</td>\n",
       "      <td>1</td>\n",
       "      <td>2</td>\n",
       "    </tr>\n",
       "    <tr>\n",
       "      <th>686</th>\n",
       "      <td>watch</td>\n",
       "      <td>1</td>\n",
       "      <td>2</td>\n",
       "    </tr>\n",
       "    <tr>\n",
       "      <th>545</th>\n",
       "      <td>chapsticks</td>\n",
       "      <td>1</td>\n",
       "      <td>2</td>\n",
       "    </tr>\n",
       "    <tr>\n",
       "      <th>564</th>\n",
       "      <td>trash</td>\n",
       "      <td>1</td>\n",
       "      <td>2</td>\n",
       "    </tr>\n",
       "    <tr>\n",
       "      <th>438</th>\n",
       "      <td>interest</td>\n",
       "      <td>1</td>\n",
       "      <td>2</td>\n",
       "    </tr>\n",
       "    <tr>\n",
       "      <th>872</th>\n",
       "      <td>materialtruly</td>\n",
       "      <td>1</td>\n",
       "      <td>2</td>\n",
       "    </tr>\n",
       "  </tbody>\n",
       "</table>\n",
       "</div>"
      ],
      "text/plain": [
       "              noun  count  weight\n",
       "859  bathroom_door      1      14\n",
       "120         access      6       8\n",
       "892          sizes      1       7\n",
       "266            lay      2       3\n",
       "446         stench      1       2\n",
       "686          watch      1       2\n",
       "545     chapsticks      1       2\n",
       "564          trash      1       2\n",
       "438       interest      1       2\n",
       "872  materialtruly      1       2"
      ]
     },
     "execution_count": 175,
     "metadata": {},
     "output_type": "execute_result"
    }
   ],
   "source": [
    "noun_df[noun_df['count']<noun_df['weight']]"
   ]
  },
  {
   "cell_type": "code",
   "execution_count": 10,
   "metadata": {
    "scrolled": true
   },
   "outputs": [
    {
     "name": "stdout",
     "output_type": "stream",
     "text": [
      "------------------------------------------------------------------------\n",
      "hemming is tight pockets look sturdy  :->  negative\n",
      "------------------------------------------------------------------------\n",
      "they are very nice comfortable but bought pants and came without the word levis in the red_tag is in the back pocket  :->  positive\n",
      "------------------------------------------------------------------------\n",
      "the pockets are positioned on the jean way too low which gives the effect of dragging the pant down to make it appear like he has no butt  :->  negative\n",
      "------------------------------------------------------------------------\n",
      "the denim of two pairs has worn thin around the pockets and thighs while the pocket liners have remained in tact  :->  negative\n",
      "------------------------------------------------------------------------\n",
      "but would like the front small pocket to be wider  :->  negative\n",
      "------------------------------------------------------------------------\n",
      "little crumpled at the front at the height of the pockets in the back of the knee and in the boot unique and stylish jean  :->  positive\n",
      "------------------------------------------------------------------------\n",
      "the rise is great for someone with no waist like me and the low placed back pockets are much more flattering than most womens jeans  :->  positive\n",
      "------------------------------------------------------------------------\n",
      "both are sturdily stitched with copper rivets around the pocket seams and steel riveted buttons on the fly  :->  positive\n",
      "------------------------------------------------------------------------\n",
      "got some made in mexico buttonflys material seems thinner and the red_tag on pocket just has registered trademark logo no levis lettering are these knockoffs  :->  neutral\n",
      "------------------------------------------------------------------------\n",
      "some threads in pockets but its no problem  :->  neutral\n",
      "------------------------------------------------------------------------\n",
      "they still have no sequins metal studding metallic thread designs or glitter on the rear pockets  :->  neutral\n",
      "------------------------------------------------------------------------\n",
      "the levis came with button_fly instead of the conventional zipper in order to button the buttons have to empty my pockets and with great difficulty button the buttoins the bottom button is so hard to button that never unbutton it therefore when go to the restroom have to unbutton the top three buttons and pull my levis down  :->  positive\n",
      "------------------------------------------------------------------------\n",
      "for example the front pockets were off center as the fly was clearly closer to the left pocket and not centered  :->  positive\n",
      "------------------------------------------------------------------------\n",
      "oh also the pockets were regular pockets and not as pictured however didnt really like the pictured ones so that didnt bother me at all  :->  positive\n",
      "------------------------------------------------------------------------\n",
      "in fact levis changed their secret sauce several years_ago with for the exact opposite reason americans are fat they also changed the logo on the back pocket  :->  negative\n",
      "------------------------------------------------------------------------\n",
      "the button_fly is nice and durable and the pockets are deep enough to fit modern smart phone comfortably  :->  positive\n",
      "------------------------------------------------------------------------\n",
      "sort it out in stores fitting room before you ever buy them todays fashion is for slimmer jean but if you try slim straight you will see that not only are they slimmer but they also have too much fabric at the butt and they want to sit lower and the pockets are too low  :->  positive\n",
      "------------------------------------------------------------------------\n",
      "the pockets are so low that your legs look foot shorter  :->  neutral\n",
      "------------------------------------------------------------------------\n",
      "the waist rises and falls and tapers in and out in relation to the hips the legs widen and narrow the pockets get larger and smaller and higher and lower and further apart and closer together and only the name remains constant over time  :->  positive\n",
      "------------------------------------------------------------------------\n",
      "jeans fit my husband well thick jeans not thin and cheap but did notice that the levi tag small red one on the pocket was stitched upside down but barely noticeable  :->  positive\n"
     ]
    }
   ],
   "source": [
    "item = 'pocket'\n",
    "reviews['item_presence'] = reviews.apply(lambda row:topic_presence(row['cleaned_comments'],item),axis=1 )\n",
    "\n",
    "reviews1 = reviews[reviews.item_presence!=-1]\n",
    "for i in range(0,20):\n",
    "    print('------------------------------------------------------------------------')\n",
    "    print(reviews1.comments.iloc[i] ,\" :-> \", reviews1.sentiment_pred.iloc[i])"
   ]
  },
  {
   "cell_type": "markdown",
   "metadata": {},
   "source": [
    "### Summarization"
   ]
  },
  {
   "cell_type": "code",
   "execution_count": 11,
   "metadata": {},
   "outputs": [],
   "source": [
    "text = \"\"\"Totally satisfied with this purchase. It was great to get the size I needed \n",
    "without having to search for it in a store. They came on time. I'm going to order some other colors.\"\"\""
   ]
  },
  {
   "cell_type": "code",
   "execution_count": null,
   "metadata": {},
   "outputs": [],
   "source": []
  },
  {
   "cell_type": "code",
   "execution_count": 12,
   "metadata": {},
   "outputs": [
    {
     "name": "stdout",
     "output_type": "stream",
     "text": [
      "['have now bought pairs separate orders of through amazon and didnt understand the reviews about poor quality or different quality until received this last pair stick with the stone_washed and you will get what you are expecting the same have been_wearing for years.', 'am really disappointed about todays quality of the black jean since years am wearing these products especial the but since theyare made in pakistan the quality is worse then ever am german citizen living in hungary at the border to austria last time was in germany atchemnitz in levis shop.']\n"
     ]
    }
   ],
   "source": [
    "from gensim.summarization import summarize\n",
    "\n",
    "text = '. '.join(reviews[reviews.sentiment_pred=='negative'].comments).replace('\\n',' ')\n",
    "#text = reviews1[reviews.sentiment_pred=='positive'].comments.iloc[0]\n",
    "print(summarize(text,ratio=.1,split=True,word_count=100))"
   ]
  },
  {
   "cell_type": "code",
   "execution_count": 13,
   "metadata": {},
   "outputs": [
    {
     "data": {
      "text/plain": [
       "'have no idea what these are but they are not the grew_up with and love'"
      ]
     },
     "execution_count": 13,
     "metadata": {},
     "output_type": "execute_result"
    }
   ],
   "source": [
    "sentence = reviews.comments.iloc[0]\n",
    "sentence"
   ]
  },
  {
   "cell_type": "code",
   "execution_count": 15,
   "metadata": {},
   "outputs": [],
   "source": [
    "from pycorenlp import StanfordCoreNLP\n",
    "\n",
    "nlp = StanfordCoreNLP('http://localhost:9000')\n",
    "\n",
    "def sentiment_finder(sentence):\n",
    "    if len(sentence)>0:\n",
    "        res = nlp.annotate(sentence,\n",
    "                           properties={\n",
    "                               'annotators': 'sentiment',\n",
    "                               'outputFormat': 'json',\n",
    "                               'timeout': 1000,\n",
    "                           })\n",
    "        for s in res[\"sentences\"]:\n",
    "            print(\"%d: '%s': %s %s\" % (\n",
    "                s[\"index\"],\n",
    "                \" \".join([t[\"word\"] for t in s[\"tokens\"]]),\n",
    "                s[\"sentimentValue\"], s[\"sentiment\"]))\n",
    "\n",
    "        return res[\"sentences\"][0][\"sentiment\"].lower()\n",
    "    else:\n",
    "        return 'none'"
   ]
  },
  {
   "cell_type": "code",
   "execution_count": 16,
   "metadata": {},
   "outputs": [
    {
     "data": {
      "text/plain": [
       "'have no idea what these are but they are not the grew_up with and love'"
      ]
     },
     "execution_count": 16,
     "metadata": {},
     "output_type": "execute_result"
    }
   ],
   "source": [
    "sentence "
   ]
  },
  {
   "cell_type": "code",
   "execution_count": 42,
   "metadata": {
    "scrolled": true
   },
   "outputs": [
    {
     "name": "stdout",
     "output_type": "stream",
     "text": [
      "0: 'have no idea what these are but they are not the grew _ up with and love': 2 Neutral\n",
      "0: 'hate them and am sending them back': 1 Negative\n",
      "0: 'brown is hard to find at your local store': 1 Negative\n",
      "0: 'so guess thats the reason why it is pricier than the blue version': 1 Negative\n",
      "0: 'bought these jeans and others for my husband he already had brand new pair that was gift from his brother he loved the way they fit so decided to but him more well got him the same exact size and style when they came in he triedthem on and they were tighter so compared the jeans and seen on the jeans he already had the tag inside the pants was new and the tag inside the amazon pants were faded': 3 Positive\n",
      "0: 'so figured they were not new so returned all': 2 Neutral\n",
      "0: 'pant size and material were as expected': 2 Neutral\n",
      "0: 'pant color was not what expected': 2 Neutral\n",
      "0: 'better up close pictures and angles would have been bigger help': 2 Neutral\n",
      "0: 'shipping speed and condition of product was satifing': 1 Negative\n",
      "0: 'older reviews ish were right were bad': 1 Negative\n",
      "0: 'thin and destructible': 2 Neutral\n",
      "0: 'avoided levi like the plague for the last or years but just got new job where can wear jeans to work again and saw these were and recent reviews were excellent': 2 Neutral\n",
      "0: 'thought id give them try again just to see im glad did': 2 Neutral\n",
      "0: 'honestly': 3 Positive\n",
      "0: 'the denim is thick and rugged': 2 Neutral\n",
      "0: 'hemming is tight pockets look sturdy': 2 Neutral\n",
      "0: 'button _ fly is perfect and the fit is amazing': 3 Positive\n",
      "0: 'seriously with amazons return _ policy if you have stepped away from levi _ strauss for the same reasons did give them try': 1 Negative\n",
      "0: 'they are getting better': 1 Negative\n",
      "0: 'the size is not right it is too _ tight look to small lost my moeny in this pant': 1 Negative\n",
      "0: 'the purchase was good but its not fit on my wiest and its not slim': 1 Negative\n",
      "0: 'need slim but the once have is slim in the middle and loose and end of the jeans': 1 Negative\n",
      "0: 'great price and great fit for my hubbys favorite brand and style of jeans': 3 Positive\n",
      "0: 'will be coming back for more': 2 Neutral\n",
      "0: 'have use levis and since remember and always bought them in the us as price in europe is not competitive and having always used same size was very comfortable in buying online without try them on very surprise that they are smaller than the size indicated did not expect that to happen and will think twice before buying again': 1 Negative\n",
      "0: 'the quality of the jean material was exactly as one expects from levis': 1 Negative\n",
      "0: 'the stonewash is very stonewashed so if you want darker jean that will last order the darker color': 1 Negative\n",
      "0: 'excelente envio rapido tal _ cual lo queria en el momento de la _ compra recomendado para todos _ los que quieran esto': 1 Negative\n",
      "0: 'always use levis weist and fits comfort but this one is like or weist and the tab of levis in backside is like paperboard and it come off from the jeans feel scammed': 1 Negative\n",
      "0: 'they are the real thing': 2 Neutral\n",
      "0: 'this review is for the original fit with button _ fly not the shrink to fit ones was bit concerned because some reviews mentioned that the fabric quality is different': 1 Negative\n",
      "0: 'but after unsuccesfully running around to several stores trying to find the correct size and color figured had nothing to loose had ordered pairs black dark _ stonewash for my husband': 1 Negative\n",
      "0: 'he cant tell the difference from the department _ store bought ones': 2 Neutral\n",
      "0: 'once its time to get new jeans we will definitely order them through amazon again': 2 Neutral\n",
      "0: 'have bought pairs of jeans and all of them fit right and seem to be made out of good material': 2 Neutral\n",
      "0: 'watch the price of jeans they fluctuate lot': 2 Neutral\n",
      "0: 'would recommend these jeans': 1 Negative\n",
      "0: 'had to exchange the for the former is for shrink to fit which went easy the color is as seen': 2 Neutral\n",
      "0: 'durable and comfortable just what wanted': 3 Positive\n",
      "0: 'do not confuse these the timberwolf cafe or the cordovan with your blue jeans they are different feel but like them lot': 1 Negative\n",
      "0: 'love and have worn them for many years now': 2 Neutral\n",
      "0: 'however im finding that weather it comes from the store or amazon if you get colors other than one of the stonewash colors the fit is very different': 1 Negative\n",
      "0: 'they tend to be too _ tight stiff and the material is not as comfortable': 1 Negative\n",
      "0: 'however getting stonewash leaves very consistent fit and material': 1 Negative\n",
      "0: 'so go blue': 2 Neutral\n",
      "0: 'these are original fit': 2 Neutral\n",
      "0: 'dont care what the label says': 2 Neutral\n",
      "0: 'the fabric is thin and the fit is all wrong': 1 Negative\n",
      "0: 'theres an extra button on the fly which throws the fit off': 3 Positive\n",
      "0: 'these are the worse jeans ever': 1 Negative\n",
      "0: 'had no idea that were available in this color': 2 Neutral\n",
      "0: 'its nice to have more professional looking pair of jeans for work': 3 Positive\n",
      "0: 'these fit slightly tighter than expected but believe that may be resolved with time and few _ washes': 2 Neutral\n",
      "0: 'seems little too heavy for pair of jeans but love the texture and the double color just right pair of jeans in my collection': 3 Positive\n",
      "0: 'im one the guys who is wearing levis jeans more than years and this pair which received now is mostly comfortable than ever had': 2 Neutral\n",
      "0: 'thanks to amazon and selling company for the high quality and proffesionalism on selling': 3 Positive\n",
      "0: 'ireceived not on delivery estimate but earlier': 2 Neutral\n",
      "0: 'bought these for my husband and they fit perfectly and look great': 3 Positive\n",
      "0: 'will definitely purchase more in the future': 3 Positive\n",
      "0: 'we know this pants': 2 Neutral\n",
      "0: 'it isnt the firt time we buy one': 2 Neutral\n",
      "0: 'so we dont have any problem with the size': 2 Neutral\n",
      "0: 'it was perfect': 3 Positive\n",
      "0: 'the jeans came on time look great and fit beautifully': 3 Positive\n",
      "0: 'am really happy with it and would recommend it to anyone': 3 Positive\n",
      "0: 'this is the rd pair of levi jeans have purchased from amazon in the past few months and absolutely love them': 3 Positive\n",
      "0: 'good fit good looking and most of all great price': 3 Positive\n",
      "0: 'will buy more of them in the future': 2 Neutral\n",
      "0: 'no need to promote this great product have been _ wearing levis jeans for years and will continue until the product does not meet the expectation': 1 Negative\n",
      "0: 'lately everytime buy levi it has different feel fabric is different this one is thin denim not bad but not what expected': 1 Negative\n",
      "0: 'levi seem to be missing quality standard lately which can affect sizing an hamper sales': 1 Negative\n",
      "0: 'lets see what happens when wash this baby': 2 Neutral\n",
      "0: 'they are very good jeans very comfortable and smooth liked levis jeans and always wear themahmed soliman': 3 Positive\n",
      "0: 'the jeans ive got has terrible look': 1 Negative\n",
      "0: 'first thought this is due to its model rough and tumbled': 3 Positive\n",
      "0: 'but it has evident unstitched seams in the back': 1 Negative\n",
      "0: 'quality is very poor': 1 Negative\n",
      "0: 'dont _ know how to attach its photos here': 2 Neutral\n",
      "0: 'think these jeans are great for those of us who are short and curvy': 3 Positive\n",
      "0: 'these jeans are the perfect length for me plus they hug my curves without being too snug': 1 Negative\n",
      "0: 'would buy these jeans again': 2 Neutral\n",
      "0: 'my husband has other levis and these new ones are different in the weight of fabric light fit tighter in the leg and crotch and color of stiching white': 2 Neutral\n",
      "0: 'also the rivits and buttons are white instead of metal color': 2 Neutral\n",
      "0: 'they also shrank when washed in cold _ water and line dried': 1 Negative\n",
      "0: 'are these real levis or knock _ offs they are made in mexico his older ones are made in colombia and are regular heavy fabric levi work pants': 1 Negative\n",
      "0: 'we are not happy with these pants but have already washed and used them': 2 Neutral\n",
      "0: 'we would never order them again': 2 Neutral\n",
      "0: 'these are definitely levis': 2 Neutral\n",
      "0: 'but they arent as good as they used to be': 3 Positive\n",
      "0: 'not the sellers fault': 1 Negative\n",
      "0: 'ordered them but in the future ill be looking for better made jean': 1 Negative\n",
      "0: 'it used to be could wear levis for weeks if wanted then wash and dry them and put them back on': 1 Negative\n",
      "0: 'the new improved levis tend to wrinkle up now': 3 Positive\n",
      "0: 'never had this problem in the past': 1 Negative\n",
      "0: 'they also wear out much faster than before': 1 Negative\n",
      "0: 'when did this start': 2 Neutral\n",
      "0: 'began to notice it in the last or years': 2 Neutral\n",
      "0: 'now ill look at wranglers or some other jean': 2 Neutral\n",
      "0: 'levis what happened to you': 2 Neutral\n",
      "0: 'jeans were as advertised and shipping fast even _ though chose the free _ shipping option': 1 Negative\n",
      "0: 'would order again': 2 Neutral\n",
      "0: 'the fit is as per the sizing indicated': 2 Neutral\n"
     ]
    },
    {
     "name": "stdout",
     "output_type": "stream",
     "text": [
      "0: 'the only contention with the pair that received is that the quality seems to be far shadow of what is expected of levis jeans': 2 Neutral\n",
      "0: 'denim is much lighter and thinner than am used to of levis jeans thus the reason for only stars': 1 Negative\n",
      "0: 'levi sews this leather brand on the back': 2 Neutral\n",
      "0: 'only now the leather looks like its made out of cardboard': 1 Negative\n",
      "0: 'terrible quality': 1 Negative\n",
      "0: 'it rips and is useless': 1 Negative\n",
      "0: 'if _ youre going to make cheap back with your brand name on it youre saying everything that needs to be said about your company': 1 Negative\n",
      "0: 'useless': 1 Negative\n",
      "0: 'last levis every buy': 2 Neutral\n",
      "0: 'its perfect one just little longer than my length but that have taken care of': 2 Neutral\n",
      "0: 'its really cool': 3 Positive\n",
      "0: 'love it': 2 Neutral\n",
      "0: 'otherwise levis is levis my favorite iexcl iexcl': 1 Negative\n",
      "0: 'excelente _ producto todo llego con normalidad dentro de los tiempos establecidos el pantalon es lo _ que se esperaba': 1 Negative\n",
      "0: 'exelente': 2 Neutral\n",
      "0: 'it is the perfect pants but apparently contains manufacturing errors': 3 Positive\n",
      "0: 'live outside the usa do not know if usa does not manufacture levis but these are made in mexico and haiti': 2 Neutral\n",
      "0: 'they are very nice comfortable but bought pants and came without the word levis in the red _ tag is in the back pocket': 2 Neutral\n",
      "0: 'my brother bought and have the word levis but the internal label that has the size and characteristics of the pants is the right side not the left as it should be': 2 Neutral\n",
      "0: 'if you want perfect pant you will not find it here': 2 Neutral\n",
      "0: 'quality of the material is good but bought lenght and even _ though it is written as such they are at _ least': 3 Positive\n",
      "0: 'thanks': 3 Positive\n",
      "0: 'era lo esperaba me quedo muy _ bien la _ talla lo aacute ximo pronto comprare mas ya compre levis en los ultimos meses': 1 Negative\n",
      "0: 'cool midweight denim jeans good for hot summer days': 3 Positive\n",
      "0: 'fits true to size': 3 Positive\n",
      "0: 'good quality craftmanship': 3 Positive\n",
      "0: 'its levis baby': 2 Neutral\n",
      "0: 'awful quality very thin material compared to other levis wear and one of jeans bought were used': 1 Negative\n",
      "0: 'will never buy levis on amazon again': 2 Neutral\n",
      "0: 'always took levis size but then the size of size was small for me': 2 Neutral\n",
      "0: 'be careful when choosing the size of this model': 2 Neutral\n",
      "0: 'just as the previous experience levis is suitable for me relaxable and comfortable like it so wannarecommend it': 3 Positive\n",
      "0: 'very good product perfect fit recommend it very good quality size adjusts as requested': 4 Verypositive\n",
      "0: 'and the color also is the second time buy two years': 2 Neutral\n",
      "0: 'have the desing and the confortable for wear every time and occasion very high quality the color is permanet in the washing _ machine': 1 Negative\n",
      "0: 'it is the first time bought jeans by net': 2 Neutral\n",
      "0: 'first of all am very happy that got something that fits me perfectly without any measuring': 3 Positive\n",
      "0: 'quality is perfect': 3 Positive\n",
      "0: 'price is perfect': 3 Positive\n",
      "0: 'so am really happy to give star to this jeans': 3 Positive\n",
      "0: 'planing to get two more pairs in different colors in the nearest future': 2 Neutral\n",
      "0: 'the product arrived in perfect condition and is exactly what expected or imagined receiving the product': 2 Neutral\n",
      "0: 'thank _ you very much': 3 Positive\n",
      "0: 'im pleased': 3 Positive\n",
      "0: 'damage to the fabric which is rotten': 1 Negative\n",
      "0: 'no wash over two or three times and it breaks made in haiti': 1 Negative\n",
      "0: 'love my jeans': 3 Positive\n",
      "0: 'excellent quality mine is made in mexico': 3 Positive\n",
      "0: 'very comfy': 2 Neutral\n",
      "0: 'the color is nice just as advertised': 3 Positive\n",
      "0: 'worth noting that this jeans is made of very thin light fabric perfect for the summertime': 3 Positive\n",
      "0: 'have another blue pair of jeans and its fabric is thick heavy more suitable for winter': 1 Negative\n",
      "0: 'was wondering next time want to buy pair of how to know what fabric they are made of': 1 Negative\n",
      "0: 'three days of wearing and they are break': 2 Neutral\n",
      "0: 'its not levis quality': 2 Neutral\n",
      "0: 'last one pair used about years': 2 Neutral\n",
      "0: 'is absolutely wrong': 1 Negative\n",
      "0: 'is about or sizes under and is about sizes under the measures of the made in colombia levis that have and love for many years': 1 Negative\n",
      "0: 'bad thing never buy levis pants online again': 0 Verynegative\n",
      "0: 'will use this jean as gift': 3 Positive\n",
      "0: 'the material is too hard shrank after _ washing do not meet the stated features do not recommend purchasing this bluejean sorry wasted my money on this product and the worst is that nobody is responsible for the poor quality of the product and deception suffered lo us eacute una sola vez luego lo tuve que desechar se encogio tanto que no puede volver usarlo': 1 Negative\n",
      "0: 'because the size is fits to my expected and the style is great levis is very strong jeans that you can depend on': 3 Positive\n",
      "0: 'ordered pairs of pants at the same time from this store all sized at': 2 Neutral\n",
      "0: 'two of the pants came in plastic wrapping with all of the tags and fit perfectly': 3 Positive\n",
      "0: 'however the rd pair of pants were not in plastic wrapping were missing tags and appeared as if they were previously worn': 1 Negative\n",
      "0: 'despite the fact that the label on this pair of pants said they were so small that couldnt even try them on past my knees': 2 Neutral\n",
      "0: 'clearly there are some quality _ control issues with this store': 2 Neutral\n",
      "0: 'glanced at their return _ policy and it would end up costing me more time and money to return the pants that they screwed up': 1 Negative\n",
      "0: 'appreciated the wide selection on sizes quick _ delivery': 1 Negative\n",
      "0: 'buy these jeans every so often and am still very happy with the quality of the product': 3 Positive\n",
      "0: 'the levis are one of few jeans that actually fit as they say they do measurement wise': 3 Positive\n",
      "0: 'great pair of jeans': 3 Positive\n",
      "0: 'order pairs of these jeans': 2 Neutral\n",
      "0: 'they fit fine little _ snug': 2 Neutral\n",
      "0: 'but the color was perfect': 3 Positive\n",
      "0: 'worth the money': 3 Positive\n",
      "0: 'the pants are of excellent quality very comfortable love it': 3 Positive\n",
      "0: 'recommend it and has good price good': 4 Verypositive\n",
      "0: 'fits very nice saved the gas to go to the store to get it': 3 Positive\n",
      "0: 'have owned the levi before and lovem they fit great and dont shrink in the wash as bad as other jeans do': 1 Negative\n",
      "0: 'had to send the shoes hushpuppies back': 2 Neutral\n",
      "0: 'in exchange for size bigger and the levis were too small so am sending them back to you please advice me where to send them': 1 Negative\n",
      "0: 'thank _ you': 3 Positive\n",
      "0: 'love my scarfs and the hat am going to wear unless dennis decides he wants it the hawaian shirt is stunning and so far dennis hasnt tried on the drawstring pants or the tennis shoes yet': 2 Neutral\n",
      "0: 'he is very slow': 1 Negative\n",
      "0: 'when first bought this jeans it was great so after that ordered more levis jeans and am thinking of ordering more': 2 Neutral\n",
      "0: 'it fitted immediately really like it': 1 Negative\n",
      "0: 'the color which like provided with very good price if need can buy again': 2 Neutral\n",
      "0: 'love and fit great': 3 Positive\n",
      "0: 'fits perfect': 3 Positive\n",
      "0: 'you can not buy fractional fittings jeans in australia so send them to re ship address and pay the shipping charges and can purchase pairs for the price of one including the freight': 1 Negative\n",
      "0: 'if you purchase locally you have to have them tailored but then you loose their originalety thanks allan': 2 Neutral\n",
      "0: 'bought for my husband for work pants the fabric is soft but thick and strong should last long time': 2 Neutral\n",
      "0: 'fits great': 3 Positive\n",
      "0: 'it got these jeans for my boyfriend for christmas': 2 Neutral\n",
      "0: 'they fit him right on and look amazing': 3 Positive\n",
      "0: 'love levis on him and kind of guessed his size and to my suprise fit perfect': 3 Positive\n",
      "0: 'he loved them as well': 3 Positive\n",
      "0: 'tooo damn smalll and the pants look old and refurbished': 1 Negative\n",
      "0: 'expected the pants to look decent but they look refurbished': 2 Neutral\n",
      "0: 'thought my purchase was for shrink to fit black': 2 Neutral\n",
      "0: 'the jeans received were pre _ shrunk': 1 Negative\n",
      "0: 'im buying from levi direct next time': 1 Negative\n",
      "0: 'very good material has nice look the waist im was little smaller than the size and the buttons instead of zipper is crazy hope never bee in hurry whit this pants on': 3 Positive\n",
      "0: 'did not make any aport to the design': 1 Negative\n"
     ]
    },
    {
     "name": "stdout",
     "output_type": "stream",
     "text": [
      "0: 'the color the size is fine the quality is not good the material is way too thin is not resistant': 1 Negative\n",
      "0: 'fits perfect in the waist and legs': 3 Positive\n",
      "0: 'view in the front is nice but view in the rear is bad': 1 Negative\n",
      "0: 'the pockets are positioned on the jean way too low which gives the effect of dragging the pant down to make it appear like he has no butt': 1 Negative\n",
      "0: 'his tush is normally his best asset which made these jeans huge disappointment considering the price': 1 Negative\n",
      "0: 'he does however love the button _ fly on them otherwise would have returned them': 2 Neutral\n",
      "0: 'good quality': 3 Positive\n",
      "0: 'is hard to find in stores online irdering was very painless and fit was just right': 1 Negative\n",
      "0: 'great fit': 3 Positive\n",
      "0: 'fits better than the more expensive designer jeans': 2 Neutral\n",
      "0: 'bought pair of gray blue love both': 2 Neutral\n",
      "0: 'normally wear which are painfully hard to find in the store': 1 Negative\n",
      "0: 'bought these in and they are spot on as others have mentioned levis have been being made from lighter and lighter denim lately but these feel like pair that will last while': 2 Neutral\n",
      "0: 'one plus side to the lighter fabric is less wear in time was concerned about the color as theyre called months green but showed blue in the picture': 1 Negative\n",
      "0: 'the picture seems an accurate representation of the color nice dark _ blue with some reasonable fading': 3 Positive\n",
      "0: 'no hint of green phew': 1 Negative\n",
      "0: 'it fits well will come back to take it again if you are fat it does not fit as expected love it': 3 Positive\n",
      "0: 'it is suitable the quality is very good my husband is very like it it was well the color is what he wants': 3 Positive\n",
      "0: 'just like remember them': 2 Neutral\n",
      "0: 'looks goods': 2 Neutral\n",
      "0: 'the dark _ stonewash seems to be the shade remember from the': 2 Neutral\n",
      "0: 'love them': 2 Neutral\n",
      "0: 'they fit well and are not too thin': 2 Neutral\n",
      "0: 'will be buying them again': 2 Neutral\n",
      "0: 'better quality than wrangler by far': 2 Neutral\n",
      "0: 'my husband and son are very tall and thin': 1 Negative\n",
      "0: 'it is not possible to find pants long enough for them to wear out of local store': 1 Negative\n",
      "0: 'amazon has these jeans at great price and they fit and': 3 Positive\n",
      "0: 'they have no defects and look great': 3 Positive\n",
      "0: 'thank _ you levi and amazon': 3 Positive\n",
      "0: 'seemed very well made but did not realize that they had button _ fly': 2 Neutral\n",
      "0: 'my teen son refused to wear them so had to return them': 1 Negative\n",
      "0: 'the jeans were my favorite as teen so wanted to check out what the latest version was like': 1 Negative\n",
      "0: 'they are different thenn what remember from high _ school but still like them': 2 Neutral\n",
      "0: 'initially was concerned with sizing': 2 Neutral\n",
      "0: 'ordered the same size wear from others and almost could not get them on at first': 1 Negative\n",
      "0: 'after wearing few times now they fit much better so am glad was patient well after month and half of wear have hole in the jeans in one of the seams': 1 Negative\n",
      "0: 'very disapointed in the quality of these jeans now': 3 Positive\n",
      "0: 'bought pair so hoping the other pair last longer': 2 Neutral\n",
      "0: 'sad part is that work in an office at desk all day so these have been very lightly used': 2 Neutral\n",
      "0: 'very disapointed to pay for only month': 1 Negative\n",
      "0: 'the last time bought pair of these jeans the fabric was lot heavier': 2 Neutral\n",
      "0: 'the denim is now much lighter and the color isnt the same either': 2 Neutral\n",
      "0: 'the fit isnt quite the same as the previous pair but its workable': 3 Positive\n",
      "0: 'of the two prefer the older pair but theyre getting kind of ratty after years so ill be wearing these to work': 1 Negative\n",
      "0: 'hope the fit gets little better after extended wear and multiple washes': 2 Neutral\n",
      "0: 'they have changed the cut of levis so it is hard to order online': 1 Negative\n",
      "0: 'cant say we didnt try to get the right fit the first time': 2 Neutral\n",
      "0: 'they were good fit and the price was right gave them as gift and he loved them': 3 Positive\n",
      "0: 'this is the best fabric have ever found in pair of jeans fabric has very smooth hand and good drape is heavy and warm perfect black wish more colors were made in this fabric': 4 Verypositive\n",
      "0: 'wear size regular fit in lucky brand jeans': 3 Positive\n",
      "0: 'these appear to be small': 2 Neutral\n",
      "0: 'sending them back soon': 2 Neutral\n",
      "0: 'reading the other reviews size appropriate just looking at the general quality made in mexico they are not from trusted chain retail _ store think': 2 Neutral\n",
      "0: 'jeans just like they promised': 2 Neutral\n",
      "0: 'had ordered from different online place before and what got seemed to be knockoffs different fabric wrong fit': 1 Negative\n",
      "0: 'these were fine': 2 Neutral\n",
      "0: 'very nice jeans strong like all levis good choice for work jeans for me highly recomended for those want durability': 3 Positive\n",
      "0: 'two years _ ago ordered pairs of levis jeans': 2 Neutral\n",
      "0: 'these shrink to fit are great the issue have is with levis product naming ccombined with amazons page design that obscures whether color is shrink to fit or standard fit using the link from my previous order was sent to amazons generic levis page': 2 Neutral\n",
      "0: 'doing some research on the us levi web site it appears that levi makes in both shrink to fit and standard fit': 1 Negative\n",
      "0: 'the amazon page that was linked to previous order does not distinguish which color is shrink to fit and which color is standard fit': 1 Negative\n",
      "0: 'this makes ordering the proper size very difficult amazon has shrink to fit page page but in the generic levis page can not tell which are shrink to fit and which are standard fit': 1 Negative\n",
      "0: 'this attribute should be part of the sizing the product is good is you get the fit you expect': 3 Positive\n",
      "0: 'however the combination of levis product naming and amazon putting standard fit on the same page as shrink to fit without disclosing which color is which fit makes it problematic': 1 Negative\n",
      "0: 'ive worn levi for years in varying colors and continue to like them however depending on the color purchased the wearer can expect variations in fit length shrinkage when they shouldnt and quality of denim': 1 Negative\n",
      "0: 'bit frustrating to say the least': 2 Neutral\n",
      "0: 'whats up with this levi _ strauss': 1 Negative\n",
      "0: 'ordered these jeans for my husband ordered them size too big because ive always been told they shrink to fit': 1 Negative\n",
      "0: 'out of the five pairs ordered three pairs are already trashed': 1 Negative\n",
      "0: 'the first time my husband wore them two of them ripped and seperated the seam in the crotch while he was getting into the truck and the other did the same when he bent down to pick something up': 1 Negative\n",
      "0: 'levis just love the classic fit': 3 Positive\n",
      "0: 'this is an excellent product will keep buying them no regrets what so ever': 3 Positive\n",
      "0: 'but that was no follow the store my son is and really felt the and link would be perfect he has to cost them but he is very pleased with them': 1 Negative\n",
      "0: 'have always been fan of the fit wore them exclusively through high _ school': 2 Neutral\n",
      "0: 'funny that doesnt even really date me they are classic was very pleased to see that the styling was slightly updated and this turned _ out to be an even better pair of jeans than expected the one downside found was the button _ fly': 3 Positive\n",
      "0: 'this didnt bother me soo much when was younger but now would much prefer zipper to dealing with buttons': 1 Negative\n",
      "0: 'perhaps it is because generally wear belt now and it is very difficult to do the buttons up without undoing the belt and top button': 1 Negative\n",
      "0: 'nice jeans and comfortable for my sons wear': 3 Positive\n",
      "0: 'the price for the jeans quality is ok my kid loves them': 3 Positive\n",
      "0: 'my love of continue with offerings of colors like these jeans': 3 Positive\n",
      "0: 'perfect sizing nice mid to heavy weight material perfect stitching': 3 Positive\n",
      "0: 'most sizes were available in the various colors': 2 Neutral\n",
      "0: 'ordered these in the cafe brown the purple and the grey': 2 Neutral\n",
      "0: 'complements galore': 2 Neutral\n",
      "0: 'was timid about buying pants online but with free returns had nothing to lose and am glad got these': 2 Neutral\n",
      "0: 'you can never fo go _ wrong with the classic levis cut': 1 Negative\n",
      "0: 'it will always look good on anyone': 3 Positive\n"
     ]
    },
    {
     "name": "stdout",
     "output_type": "stream",
     "text": [
      "0: 'the wash on these clean rigid was just as in the picture and like it lot': 2 Neutral\n",
      "0: 'they fit just as expected as well': 2 Neutral\n",
      "0: 'given that we get the full selection of washes and sizes amazon also has good price on these': 3 Positive\n",
      "0: 'would definitely buy my next pair here again': 1 Negative\n",
      "0: 'the jean its ok but the waist is not the same than in other lev iacute jeans': 1 Negative\n",
      "0: 'have on this waist and its ok': 2 Neutral\n",
      "0: 'recomend people to be careful on this item': 2 Neutral\n",
      "0: 'read all the nasty reviews': 1 Negative\n",
      "0: 'still went ahead to buy for the sake of curiosity undeniably loved and respected the brand can accept and understand how they made it lighter thinner this time but whats disturbing with the levis got are the craftsmanship how the stitches were major horrible things sadly noticed': 1 Negative\n",
      "0: 'the stiches along side the pants the entire length of the thigh _ area which is the outer side of the pants the stitches were horribly loose have to take it to tailor the next day to have it reinforced': 1 Negative\n",
      "0: 'my girlfriend keep telling me maybe it was fake but am convinced with amazons items mean if its sold by them trusted amazon': 1 Negative\n",
      "0: 'still feel theyre not knockoffs even _ though they scream of being one': 1 Negative\n",
      "0: 'dont _ know the technical name or what to call it': 2 Neutral\n",
      "0: 'the bottom edge of the pants': 2 Neutral\n",
      "0: 'my old levis and even the photos on amazon showed somewhat right amount of fold': 1 Negative\n",
      "0: 'am talking about the very bottom edge of the pants where it touches your feet the folds on the levis that got are so crazy thin its about quarter of an _ inch as opposed to maybe half an _ inch if we base on the photos and the old levis that have': 0 Verynegative\n",
      "0: 'this is when started to feel cheated the loose stitches blame on the quality _ control or maybe the guy in haiti who did the pants had bad day': 1 Negative\n",
      "0: 'but the bottom fold is really disappointing and its not the same as shown in the pictures': 1 Negative\n",
      "0: 'to say the least this is were amazon should be responsible enough to set buyers expectations based on the photos they show': 1 Negative\n",
      "0: 'love this model': 3 Positive\n",
      "0: 'it is very good product completed on shipping with the quality that is recognized keep buying this brand online': 3 Positive\n",
      "0: 'my next purchase will be': 2 Neutral\n",
      "0: 'received the item damaged and all the buttons metals are rusted deformed': 2 Neutral\n",
      "0: 'returned item and replaced with new one': 2 Neutral\n",
      "0: 'this costed me time': 2 Neutral\n",
      "0: 'product is good like it': 3 Positive\n",
      "0: 'excellent product very good size realmene expected to recommend hundred percent satisfied buyers all very good quality it really is published': 3 Positive\n",
      "0: 'am very pleased with my purchase': 3 Positive\n",
      "0: 'the delivery of the package was prompt': 3 Positive\n",
      "0: 'and the levis fit to me just like years before': 2 Neutral\n",
      "0: 'they feel better after each time have worn them': 2 Neutral\n",
      "0: 'excelente _ producto cumple con las espectativas en todo sentido recomendable bajo costo incomparable calidad solo una queja es que el _ producto ofertado era hecho en egipto el recibido es hecho en mexico': 1 Negative\n",
      "0: 'fit as expected': 2 Neutral\n",
      "0: 'the original fit can be somewhat tight given that waist means you are not skinny guy': 2 Neutral\n",
      "0: 'id give look to relaxed fit': 3 Positive\n",
      "0: 'used to weigh lbs so when was looking to replace my fat pants with something nicer this was it asnd you cant get the anywhere near the price from the factory': 1 Negative\n",
      "0: 'youre getting in my opinion the best jeans on the planet': 3 Positive\n",
      "0: 'personally just happen to prefer few of their other styles fits and how they look on me': 3 Positive\n",
      "0: 'the pants look nice but the fabric is super rough think really heavy canvas material': 1 Negative\n",
      "0: 'and the size was totally wrong': 1 Negative\n",
      "0: 'the ordered had waist when buttoned up and inseam measuring from the crotch to the bottom of the leg': 1 Negative\n",
      "0: 'if this is the quality levis is now putting out predict they will be gone in year or two': 3 Positive\n",
      "0: 'amazon should pull the product off the website for full review': 2 Neutral\n",
      "0: 'wish knew the zipper was buttons': 2 Neutral\n",
      "0: 'it totally through me off and made me wish had not bought jeans on the internet': 1 Negative\n",
      "0: 'ive been _ wearing the for over twenty years': 2 Neutral\n",
      "0: 'they are the most comfortable longest lasting jean on the market': 3 Positive\n",
      "0: 'they always fit perfectly': 3 Positive\n",
      "0: 'buying through amazon prime day delivery is so much better than fighting the traffic at macys and trying to find my size': 1 Negative\n",
      "0: 'amazon has all the sizes and colors with quick _ delivery': 2 Neutral\n",
      "0: 'the original levi denim jean accept no substitutes': 1 Negative\n",
      "0: 'first time ive ordered pants on the net': 2 Neutral\n",
      "0: 'they fit great and are exactly what wanted': 3 Positive\n",
      "0: 'ordered two more after the first ones': 2 Neutral\n",
      "0: 'very pleased': 3 Positive\n",
      "0: 'easy ordering and excellent fit': 3 Positive\n",
      "0: 'order in minutes wait week and then received the high quality jeans expected at great price without having to drive to the store': 1 Negative\n",
      "0: 'fits perfectly good quality true to size': 3 Positive\n",
      "0: 'not for hot summer rather thick material consequently should be warm and durable for everyday use': 1 Negative\n",
      "0: 'bought two pairs of jeans': 2 Neutral\n",
      "0: 'good material and color': 3 Positive\n",
      "0: 'size fits': 2 Neutral\n",
      "0: 'unfortunately for some of the jeans is uneven seam': 1 Negative\n",
      "0: 'really truly levis all want are blue button _ fly jeans that you wash to get them to fit right can get fashion jeans any number of places but theres only one': 1 Negative\n",
      "0: 'do you actually not get that corporate suicide': 2 Neutral\n",
      "0: 'size was as expected is as wide as thought much more serious than the': 2 Neutral\n",
      "0: 'the classic color liked recommend it': 3 Positive\n",
      "0: 'really like this product': 3 Positive\n",
      "0: 'is great': 3 Positive\n",
      "0: 'was an excellent buy for amazon': 3 Positive\n",
      "0: 'would like to try more products from this brand': 2 Neutral\n",
      "0: 'thank _ you very much': 3 Positive\n",
      "0: 'after reading some of the reviews before ordered was little nervous about what would be getting': 2 Neutral\n",
      "0: 'however these are excellent quality jeans and im very happy with the product': 3 Positive\n",
      "0: 'thank _ you they look and feel good it is just what wanted the color is just what wanted so far shopping online has been good for me': 3 Positive\n",
      "0: 'recibi este _ producto el dise ntilde es muy bonito se ve igual al de la foto de referencia': 1 Negative\n",
      "0: 'recomiendo este _ producto': 2 Neutral\n",
      "0: 'you just cant _ go wrong with levis': 1 Negative\n",
      "0: 'this is the third pair of black levis jeans ive bought for my teen he outgrows them so fast': 2 Neutral\n",
      "0: 'you can dress them up or wear them casually': 2 Neutral\n",
      "0: 'they keep their color well after several washes and uses': 3 Positive\n",
      "0: 'excellent jeans': 3 Positive\n",
      "0: 'bought these for my fiance who always wears levis button _ fly blue jeans wasnt sure if he would like the black but thought id try it as they look bit more dressy': 2 Neutral\n",
      "0: 'he says he _ likes them lot': 2 Neutral\n",
      "0: 'they fit just like his others and hes very pleased with them': 3 Positive\n",
      "0: 'lovely colour classic style perfect fit real levis': 3 Positive\n",
      "0: 'delivery on time and without problem': 2 Neutral\n",
      "0: 'recommend itjust what wanted': 3 Positive\n",
      "0: 'pues bien la _ talla el color tal _ cual como _ se pidio quedo muy _ bien se recomienda para los que gusten de vaqueros': 1 Negative\n",
      "0: 'love levis but they are hard to find in womens so usually buy mens instead': 1 Negative\n",
      "0: 'they fit the same it just took time to find the right size in mens and once did it was easy': 2 Neutral\n",
      "0: 'was extremely happy to get them for this price and am super happy': 3 Positive\n",
      "0: 'actually bought the pants for my husband and as far as im concern he really like the material and fits him well': 3 Positive\n",
      "0: 'the jean was gift to my boyfriend and he love it': 3 Positive\n",
      "0: 'fit like expected': 2 Neutral\n",
      "0: 'im gon na buy more': 2 Neutral\n",
      "0: 'thank _ you': 3 Positive\n",
      "0: 'been purchasing levi for years': 2 Neutral\n",
      "0: 'wouldnt wear any other brand or kind': 2 Neutral\n",
      "0: 'tried couple other brands and they are just not the same': 2 Neutral\n"
     ]
    },
    {
     "name": "stdout",
     "output_type": "stream",
     "text": [
      "0: 'ive been _ wearing levis for years so didnt feel like was taking risk by ordering them online': 1 Negative\n",
      "0: 'bought inch waist and tried them on couldnt even button them': 2 Neutral\n",
      "0: 'then tried on an old pair of inch waist jeans and they were tight but could button them': 2 Neutral\n",
      "0: 'so': 2 Neutral\n",
      "0: 'took tape measure and measured them theyre less than': 2 Neutral\n",
      "0: 'ive read this situation has become common problem with levis but it had never happened to me': 2 Neutral\n",
      "0: 'since most of the stores shop at now carry lees and since can no _ longer trust levis sizing': 2 Neutral\n",
      "0: 'ive bought my last pair of levis': 2 Neutral\n",
      "0: 'liked everything about these jeans except the rise': 3 Positive\n",
      "0: 'the has lower rise and was more appropriate for me': 2 Neutral\n",
      "0: 'very nice jeans very durable and fit is dead on': 2 Neutral\n",
      "0: 'purchased these as gift for my daughter and she really likes them': 3 Positive\n",
      "0: 'the price is as good as it gets anywhere': 3 Positive\n",
      "0: 'are still the standard by which all other jeans are judged theyre unbeatable categories of style comfport and durability': 1 Negative\n",
      "0: 'these jeans are make with the same fabric as the jeans have been buying for decades': 1 Negative\n",
      "0: 'same quality too': 2 Neutral\n",
      "0: 'these levis jeans look feel good and fit well for me being woman and these are mens jeans': 3 Positive\n",
      "0: 'would recommend them for sure': 2 Neutral\n",
      "0: 'the crutch has to button up': 2 Neutral\n",
      "0: 'it is tighter than it looks that is the crutch is too high': 1 Negative\n",
      "0: 'totally dislike it': 3 Positive\n",
      "0: 'returned this itembuttons on fly were too hard to use would have preferred zi pper and lighter denim': 1 Negative\n",
      "0: 'got these jeans couple days ago with the right color and size along with the original levi stickers and what not': 3 Positive\n",
      "0: 'very satisfied': 3 Positive\n",
      "0: 'needed to get larger size as my quads were to tight but other than that just as advertised': 2 Neutral\n",
      "0: 'will order new size': 2 Neutral\n",
      "0: 'jeans size and color wanderfull': 2 Neutral\n",
      "0: 'very important that length fit almost ideally': 3 Positive\n",
      "0: 'the best sewing quality have ever seen': 3 Positive\n",
      "0: 'great product in size and fabric suitable for me im so very pleased to wear this garment recommend it': 4 Verypositive\n",
      "0: 'the picture shows pair of jeans that looks like to be washed on the legs but the one received are all of dark _ blue not like the one saw in the items descritpion': 2 Neutral\n",
      "0: 'bought shorts and one of them is broken button very bad and poor industry would not advise buying this product': 1 Negative\n",
      "0: 'good quality fits the way that fit and couldnt beat the price': 3 Positive\n",
      "0: 'would recommend them to anyone': 1 Negative\n",
      "0: 'have tried this jeans before and am happy with their performance': 1 Negative\n",
      "0: 'nice fit and colour and all for fair _ price': 3 Positive\n",
      "0: 'this levis are my favor always love them they are conformable they fit perfectly and the price were also very good': 3 Positive\n",
      "0: 'entrega al iacute mercanc iacute en _ buen estado responsables los productos que uno compra son los que env iacute an tal _ cual como _ se hace el pedido': 1 Negative\n",
      "0: 'recommended by family member as it is reliable and safe thank _ you very much': 3 Positive\n",
      "0: 'hope to contact you soon': 2 Neutral\n",
      "0: 'normally wear after treating the jeans per the label soak and hang dry the waist didnt shrink much and the inseam shrank about an _ inch': 1 Negative\n",
      "0: 'got the jeans wet and tossed them in the dryer and they fit lot better': 2 Neutral\n",
      "0: 'same size as the other jeans fits as expected': 2 Neutral\n",
      "0: 'nice color': 2 Neutral\n",
      "0: 'if you like jeans these are the real deal': 2 Neutral\n",
      "0: 'it says levis but definitely it is not': 1 Negative\n",
      "0: 'always buy levis with the same size and this one seems like': 3 Positive\n",
      "0: 'im very disappointed': 1 Negative\n",
      "0: 'my opinion is that levis is the only jeans that know how its gon na fit before buy it': 1 Negative\n",
      "0: 'love it': 2 Neutral\n",
      "0: 'levi no _ longer offers my favorite so have been searching for suitable replacement': 1 Negative\n",
      "0: 'while have not found exactly what have been looking have never been disappointed until now': 1 Negative\n",
      "0: 'the hospital scrubs are different material that is always wrinkled even when pulled from the dryer damp': 2 Neutral\n",
      "0: 'odd fabric': 2 Neutral\n",
      "0: 'sizing until now have never had an issue with any wx not fitting me well': 2 Neutral\n",
      "0: 'these jeans however are so small think would need to go to waist larger': 1 Negative\n",
      "0: 'normally the other fit perfectly or slightly loose': 2 Neutral\n",
      "0: 'with these jeans could only button two buttons': 1 Negative\n",
      "0: 'there was no amount of sucking in rolling and tucking that was going to make these fit me': 1 Negative\n",
      "0: 'it is of very good quality very smooth fabric and it is shiny as displayed in the picture': 3 Positive\n",
      "0: 'fits very well': 3 Positive\n",
      "0: 'perfect': 4 Verypositive\n",
      "0: 'seriously can not understand how these levi jeans are the best selling jeans on amazon and have such high ratings': 3 Positive\n",
      "0: 'usually amazon reviews steer me in the right direction but not this time': 1 Negative\n",
      "0: 'these jeans do not deserve stars stars is stretch': 1 Negative\n",
      "0: 'the instant tried these jeans on could tell the fabric was cheap and not normal thickness for jeans': 1 Negative\n",
      "0: 'my other jeans from different brand but same price point are much more substantial to the touch much higher quality these levi are so cheap they are almost stretchy like womens jeans when they want it hugging their figure': 1 Negative\n",
      "0: 'that brings me to another point these jeans are way too _ tight': 1 Negative\n",
      "0: 'im skinny guy and did not like how skinny these jeans were through the leg barely any slack and its not like have big legs or something': 1 Negative\n",
      "0: 'the button crotch instead of zipper is joke too hard to undo redo': 1 Negative\n",
      "0: 'horrible jeans for the price bad amazon reviewers first time youve conned me into buying something from amazon and making me regret it': 0 Verynegative\n",
      "0: 'ill be sending back my pair and canceling the second pair that wasnt shipped yet': 1 Negative\n",
      "0: 'got these for my dad for christmas': 2 Neutral\n",
      "0: 'he _ loves the fit of the jeans and the material': 3 Positive\n",
      "0: 'great product': 3 Positive\n",
      "0: 'funny bought these and another pair of regular rinse and these were too _ tight the others fight perfect': 3 Positive\n",
      "0: 'both supposedly': 2 Neutral\n",
      "0: 'wont be buying jeans on amazon anymore': 1 Negative\n",
      "0: 'out of the three pairs of levis all three ended _ up being different sizes meaning none of them fit the same even _ though they all say they are': 1 Negative\n",
      "0: 'of course washed them already and cant return them': 2 Neutral\n",
      "0: 'the nice thing about the school district work for is that teachers dont have dress code': 2 Neutral\n",
      "0: 'dress casual': 2 Neutral\n",
      "0: 'levis are the most comfortable jeans that ive found': 3 Positive\n",
      "0: 'dress comfortable': 2 Neutral\n",
      "0: 'so dress really casual': 2 Neutral\n",
      "0: 'dont think ive ever worn out any other pair of jeans at work': 2 Neutral\n",
      "0: 'but go through about two pair of levis year': 2 Neutral\n",
      "0: 'worn out in this case are small holes so the jeans are able to be recycled for work on the farm': 1 Negative\n",
      "0: 'again comfort is premium': 2 Neutral\n",
      "0: 'should you wear levis': 1 Negative\n",
      "0: 'its all matter of taste': 2 Neutral\n",
      "0: 'have it and must say that when used to do office work my bosses didnt': 2 Neutral\n",
      "0: 'had to work overtime to gain casual day certificates to wear': 2 Neutral\n",
      "0: 'really it was worth it': 3 Positive\n",
      "0: 'did say this yet': 2 Neutral\n",
      "0: 'they are comfortable': 3 Positive\n",
      "0: 'because it is good one and like it very much and will tell everyone about it in here': 3 Positive\n",
      "0: 'have bought levis in the past and not single one of them have been bad decision': 2 Neutral\n",
      "0: 'like their products and strongly recommend them over their competitors like wrangler lee and even more expensive brands like ck tommy etc': 1 Negative\n",
      "0: 'like levis especially wear levis more then years': 1 Negative\n",
      "0: 'start weared teenager about years old': 2 Neutral\n",
      "0: 'one week wearied mininmum times': 2 Neutral\n",
      "0: 'have ordered new metal color as like how it looks and got different jeans made with black threats instead of orange as it was shown on picture disappointed but overall product is great levis style': 3 Positive\n",
      "0: 'when buy expect': 2 Neutral\n",
      "0: 'the label said everything was fine but it fit closer to or': 2 Neutral\n",
      "0: 'everywhere below the waist fit perfectly but do not think that they are': 3 Positive\n",
      "0: 'loved the size and it fit perfectly but didnt like the button up prefer zipper much better': 3 Positive\n"
     ]
    },
    {
     "name": "stdout",
     "output_type": "stream",
     "text": [
      "0: 'these levis are not the same as my old ones real crappy jeans ive given up on levis and have just tried lee premium jeans lee premiums are what expected my old levis to be ive happily moved across to lee and have just ordered whole bunch of lee jeans from amazon thanks lee': 1 Negative\n",
      "0: 'levis mens always no levis mens always no levis mens always no levis mens always no': 1 Negative\n",
      "0: 'ordered which is what always wear in': 2 Neutral\n",
      "0: 'pair arrived day later than promised': 2 Neutral\n",
      "0: 'threw them in the wash for few cycles to soften them up': 1 Negative\n",
      "0: 'they came out measuring': 2 Neutral\n",
      "0: 'thanks amazon not': 3 Positive\n",
      "0: 'for making it real clear that these were gon na shrink': 2 Neutral\n",
      "0: 'the same size the same quality always': 2 Neutral\n",
      "0: 'in time where everything seems to be getting either smaller or cheaper or both finally product that you can count on': 2 Neutral\n",
      "0: 'love my levis': 3 Positive\n",
      "0: 'it is as expected': 2 Neutral\n",
      "0: 'they are nice and comfortable shipment was right on timeand have got many compliments while wearing them': 3 Positive\n",
      "0: 'was skeptical about purchasing jeans over the internet especially given that jeans can fit differently regardless of what size they are': 1 Negative\n",
      "0: 'however am very pleased with my purchase and the jeans fit perfectly': 2 Neutral\n",
      "0: 'levis is not levis anymore': 1 Negative\n",
      "0: 'there is no quality _ control or set formula': 1 Negative\n",
      "0: 'every cut varies with each pair': 2 Neutral\n",
      "0: 'no consistency in sizing': 2 Neutral\n",
      "0: 'quality has gone completely down the tubes': 3 Positive\n",
      "0: 'the material is thin and cheap': 1 Negative\n",
      "0: 'need to find new jean company now': 2 Neutral\n",
      "0: 'very bad quality after one time washing got hole so dont _ know this general or just this piece': 0 Verynegative\n",
      "0: 'excelente _ producto en _ buen estado vale la pena comprarlo el _ vendedor excelente llego todo tiempo en muy _ buen estado': 1 Negative\n",
      "0: 'am levis fan for my whole life': 3 Positive\n",
      "0: 'years': 2 Neutral\n",
      "0: 'these were exactly the style and quality that expected and will be ordering whole bunch of other colors': 2 Neutral\n",
      "0: 'definitely very pleased': 3 Positive\n",
      "0: 'and the price is right': 3 Positive\n",
      "0: 'like these jeans and purchased them ive always been huge fan of levis': 3 Positive\n",
      "0: 'once lose my last lbs theyll fit perfect so im quite happy customer': 2 Neutral\n",
      "0: 'ty': 2 Neutral\n",
      "0: 'excellent transaction good service and the product in good conditions recommend it widely': 4 Verypositive\n",
      "0: 'these jeans were dollars less than other on line venues shopped': 1 Negative\n",
      "0: 'that kind of savings is great matter no matter what': 3 Positive\n",
      "0: 'this jean arrived in good condition the size was perfect and love this pants thanks amazon for that': 3 Positive\n",
      "0: 'pants came in on time fit somewhat good for me they are to tight through the crotch area and there is gap in the back also otherwise they are nice looking and great for traveling to the beach': 2 Neutral\n",
      "0: 'my husband only wears': 1 Negative\n",
      "0: 'in the past weve always gotten them from jc pennys and experience made us sure to check for missing belt _ loops and buttons': 1 Negative\n",
      "0: 'im happy to say all parts and pieces were exactly as they should be': 3 Positive\n",
      "0: 'regular shrinkage will fix the slightly bigger than expected': 2 Neutral\n",
      "0: 'what love most is the color': 2 Neutral\n",
      "0: 'we have not been able to find this indigo blue anywhere': 2 Neutral\n",
      "0: 'they look great': 3 Positive\n",
      "0: 'not like the no disrespect intended knock _ off looking blue weve been about to find': 1 Negative\n",
      "0: 'we will absolutely be back to buy more': 3 Positive\n",
      "0: 'thank _ you and thank _ you amazon for the quality product': 3 Positive\n",
      "0: 'purchased what was labeled exactly the same pair of jeans from another store': 2 Neutral\n",
      "0: 'found them less here on amazon so returned to the store and ordered these': 2 Neutral\n",
      "0: 'my husband said these fit how should fit the first pair were too wide in the legs': 2 Neutral\n",
      "0: 'im happy with the lower price hes happy with perfect fit': 3 Positive\n",
      "0: 'will be purchasing one or two more pair in other washes': 2 Neutral\n",
      "0: 'levis is now third world crap product asking for quality made in usa prices': 1 Negative\n",
      "0: 'will never buy levis again': 2 Neutral\n",
      "0: 'they are cheaply made they have reduced quality down to removing two belt _ loops and the size is inconsistent': 1 Negative\n",
      "0: 'here is clue if you have the ability and are unemployed start making good quality usa jeans you will go far': 3 Positive\n",
      "0: 'realize it is difficult but if you want quality back': 1 Negative\n",
      "0: 'buy usa made products': 2 Neutral\n",
      "0: 'none available': 2 Neutral\n",
      "0: 'start demanding': 2 Neutral\n",
      "0: 'with many out of work am sure start up is bound to take hold': 2 Neutral\n",
      "0: 'im tired of cheap poisoned garbage from other countries': 1 Negative\n",
      "0: 'buy usa': 2 Neutral\n",
      "0: 'take your country back': 2 Neutral\n",
      "0: 'levi jeans are the only jeans for me and amazon has them here for great price': 1 Negative\n",
      "0: 'take size waist which most stores dont carry and amazon always has them in stock': 2 Neutral\n",
      "0: 'the shopping experience here can not be beat': 1 Negative\n",
      "0: 'first for the product the jeans themselves': 2 Neutral\n",
      "0: 'these are indeed original levi jeans': 2 Neutral\n",
      "0: 'some here seem to question that': 2 Neutral\n",
      "0: 'its easy to question product you get in the mail when there arent shelves of the same item surrounding you to compare them with': 2 Neutral\n",
      "0: 'but have different feel than other styles of levi jeans': 2 Neutral\n",
      "0: 'the same as with trying them on in the store two jeans of the exact style and size can have slightly different fit': 2 Neutral\n",
      "0: 'jeans have always been this way': 2 Neutral\n",
      "0: 'and wih some sites shopping on line can be hassle but with amazon it is very easy and user friendly': 2 Neutral\n",
      "0: 'they encourage returns if the jeans do not fit correctly': 3 Positive\n",
      "0: 'so if you do experience that rare occurence where the same size fits differently or perhaps you even put on little weight if tags are intact you can return them free no questions asked so here on amazon can get the high quality that love for no other jean fits me so comfortably with low waist that gives me the perfect look want': 2 Neutral\n",
      "0: 'and with amazon and my needing the larger size can shop till get the ideal pair': 2 Neutral\n",
      "0: 'highly _ recommend the awesome jeans as well as the shopping experience on amazon': 3 Positive\n",
      "0: 'levi are the classic original jean': 3 Positive\n",
      "0: 'getting pair in my size in white took some looking': 2 Neutral\n",
      "0: 'they fit and feel just like my blue and black perfectly': 3 Positive\n",
      "0: 'very cheap quality now also smell like wet cloth and animal waste': 0 Verynegative\n",
      "0: 'cant get rid of the smell': 2 Neutral\n",
      "0: 'levis still the best jeans ever made': 3 Positive\n",
      "0: 'very retro with the button _ fly great cover up for gals too after day at the beach and so comfortable and stylish for the guys': 3 Positive\n",
      "0: 'the bottom line is that levis are just plain cool': 1 Negative\n",
      "0: 'if you look on the tag on the back of pair of levis you will see that they started on may th': 2 Neutral\n",
      "0: 'luck will keep you going for few years but quality and consistency is what keeps you up and running for over years': 3 Positive\n",
      "0: 'levis have been staple of my wardrobe for almost years and dont see that changing any time soon': 1 Negative\n",
      "0: 'they fit feel good and last for years': 3 Positive\n",
      "0: 'ordered these days ago and barely just came in first of all im only two states over': 1 Negative\n",
      "0: 'when first tried these on they seemed bit too long being length bought these because the picture looked rather brown color the ones that clicked on and now they look an ugly green': 1 Negative\n",
      "0: 'bought these jeans for costume and thought they would be good but when received product it appeared to be warn already and returned previously owned and would expect pair of jeans to be new because you can buy them in the store of something': 2 Neutral\n",
      "0: 'liked the jeans lot and they are great jeans but wouldnt buy online again': 3 Positive\n",
      "0: 'be careful': 2 Neutral\n",
      "0: 'wanted to return them and amazon took them back no problem with no return shipping': 1 Negative\n",
      "0: 'perfect': 4 Verypositive\n",
      "0: 'love levi jeans': 2 Neutral\n",
      "0: 'they are great fitting jeans with many different styles to choose from for everyone to be happy': 3 Positive\n",
      "0: 'these were exactly what was seeking for my son though they can be purchased in': 2 Neutral\n",
      "0: 'the different washes are not available': 2 Neutral\n",
      "0: 'really wanted the rigids and they are not here': 2 Neutral\n"
     ]
    },
    {
     "name": "stdout",
     "output_type": "stream",
     "text": [
      "0: 'to find could buy them on amazon but shipping outside of us was not available was really off so many things in the last months are not available for shipping outside the us': 1 Negative\n",
      "0: 'it sometimes takes long time to find everything and its not until one checks out to discover the item are not available for shipping what can say': 1 Negative\n",
      "0: 'it is excelent product very good original': 3 Positive\n",
      "0: 'have about ten pieces of thisone and the size is perfect': 2 Neutral\n",
      "0: 'levis seems to have messed with the cut of these jeans': 2 Neutral\n",
      "0: 'still like the look and durability but the fit is off': 1 Negative\n",
      "0: 'they fit and durability of levis is tops': 3 Positive\n",
      "0: 'the only concern is button _ fly': 1 Negative\n",
      "0: 'like zippers but will try this style out': 2 Neutral\n",
      "0: 'like the darker color': 2 Neutral\n",
      "0: 'washed these jeans one time as per the label directions and now can no _ longer fit into them': 1 Negative\n",
      "0: 'they are extremely too small and feel like wasted my money by ordering them': 0 Verynegative\n",
      "0: 'very good the levis this product is the best en jeans want buy other soon the color black': 3 Positive\n",
      "0: 'they fit as expected however the color of the fabric was not what expected and is bland': 1 Negative\n",
      "0: 'had the opportunity to visualize the actual color before purchase woildnt have selected that color': 1 Negative\n",
      "0: 'it is good jean made in haiti the color ispretty it is straight fit very good quality resistanti am satisfied with the product': 3 Positive\n",
      "0: 'have owned these jeans before they are very comfortable durable': 3 Positive\n",
      "0: 'they fit well look good': 3 Positive\n",
      "0: 'highly _ recommend them': 3 Positive\n",
      "0: 'its perfect good size good productits good color': 3 Positive\n",
      "0: 'really dont have soo much to say really its good buy': 3 Positive\n",
      "0: 'my wardrobe is': 2 Neutral\n",
      "0: 'fashion all my accoutrements around them': 2 Neutral\n",
      "0: 'when have to dress up can use black for the opera or kaki with white shirt for the office': 2 Neutral\n",
      "0: 'however have always chosen my work environment for its fashion taste in stone _ washed': 1 Negative\n",
      "0: 'do not tell anyone but take mine to the cleaners and have them dry cleaned and pressed no starch just crisp and casual at the same time it is an old habit from my military days': 1 Negative\n",
      "0: 'come to think of it the military used button flys also can see the problem of purchasing online vs store bought is that they use obscure words as rigid in place of gage or oz': 2 Neutral\n",
      "0: 'not one did they mention the tab color which is levis way of sorting the mercedes quality version from their yugo lighter _ weight but still from levi version': 1 Negative\n",
      "0: 'and yes they are subject to globalization which in this day and age is no no and there is no way to tell without looking at the label': 1 Negative\n",
      "0: 'well enough of this negative stuff an advantage of on line is getting those obscure colors and exact size saving tad in tailoring': 1 Negative\n",
      "0: 'also saving gasoline sort of an expensive commodity now days and time': 2 Neutral\n",
      "0: 'not to mention there is some sort of psychological thrill in placing and receiving the order': 1 Negative\n",
      "0: 'it is sort of mini christmas': 2 Neutral\n",
      "0: 'fit perfect as expected and fast _ delivery and my husband loved it': 3 Positive\n",
      "0: 'color was almost the same with pic too': 2 Neutral\n",
      "0: 'good price and fit look as expected': 3 Positive\n",
      "0: 'all my husband will wear so always happy to find them at reasonable price': 3 Positive\n",
      "0: 'came quick and now im ready to place it under the tree': 2 Neutral\n",
      "0: 'would definitely buy again': 2 Neutral\n",
      "0: 'will probably order another pair or': 2 Neutral\n",
      "0: 'easy fast shipping everything as expected': 2 Neutral\n",
      "0: 'its hard to find pants of this size and we were delighted with everything': 3 Positive\n",
      "0: 'this was christmas _ gift for my son it was hit': 1 Negative\n",
      "0: 'thanks for the quick _ delivery the value of price': 3 Positive\n",
      "0: 'these jeans are sturdy': 2 Neutral\n",
      "0: 'gave them to my boyfriend for christmas': 2 Neutral\n",
      "0: 'he _ loves them': 3 Positive\n",
      "0: 'he looks hot in them': 2 Neutral\n",
      "0: 'the were always favorite style of jeans and at times difficult to find': 2 Neutral\n",
      "0: 'old school sometimes is the best': 3 Positive\n",
      "0: 'remember wearing these jeans when was of younger age and loved the fit': 3 Positive\n",
      "0: 'buy them if you are into them': 2 Neutral\n",
      "0: 'love jeans and have been looking all over for them': 2 Neutral\n",
      "0: 'will be certain to make more purchases of various colors': 2 Neutral\n",
      "0: 'the pants don fit so poorly that will return them but the waist and the seat are inconsistent': 1 Negative\n",
      "0: 'have three pairs now which are made in different countries and different fits': 2 Neutral\n",
      "0: 'will not buy pair of levi jeans again': 1 Negative\n",
      "0: 'good fit hang well save for too short waist which requires picking up while getting up': 2 Neutral\n",
      "0: 'assume this nod to current riding low on the his fashion': 1 Negative\n",
      "0: 'other than that they are great': 2 Neutral\n",
      "0: 'good deal good price': 3 Positive\n",
      "0: 'same as retail price or better': 2 Neutral\n",
      "0: 'easy purchase exact fit with all tags': 3 Positive\n",
      "0: 'thank _ you bill': 2 Neutral\n",
      "0: 'love levis': 2 Neutral\n",
      "0: 'the is good fit': 3 Positive\n",
      "0: 'personally heading towards slimmer cuts like the': 2 Neutral\n",
      "0: 'these pants are nice for hanging at local pub and not looking out of place': 2 Neutral\n",
      "0: 'started wearing levis in junior high _ school': 2 Neutral\n",
      "0: 'ive worn them for decades': 2 Neutral\n",
      "0: 'that is not typo': 1 Negative\n",
      "0: 'in recent decades it has been': 2 Neutral\n",
      "0: 'some wizard at levi _ strauss decided to update the cut': 2 Neutral\n",
      "0: 'that means they removed fabric to make them into low riders': 2 Neutral\n",
      "0: 'the belt line now rides where no adult male wants them to': 2 Neutral\n",
      "0: 'they are uncomfortable and my shirt wont stay tucked in': 1 Negative\n",
      "0: 'they also have two less belt _ loops': 2 Neutral\n",
      "0: 'my favorite wear them every day pants have gone to hell it is interesting to note that some of the positive reviews have female names attached what to do': 3 Positive\n",
      "0: 'was killing time in boutique clothing store while my wife was shopping': 1 Negative\n",
      "0: 'they had tiny mens section': 2 Neutral\n",
      "0: 'saw carhartts on the shelf': 2 Neutral\n",
      "0: 'had nothing better to do so tried them on': 2 Neutral\n",
      "0: 'they fit so well ignored the high boutique price': 3 Positive\n",
      "0: 'found little piece of heaven when found the part number here on amazon': 3 Positive\n",
      "0: 'now with click finger stroke get fresh pair of carharts that are comfortable': 3 Positive\n",
      "0: 'half dozen pairs of usable levis will be rotting where they are headed the official amazon name is carhartt mens rugged work khaki relaxed fit pant or http www amazon _ com gp product tifcinote to mr mrs carhart thank _ you': 1 Negative\n",
      "0: 'im not likely to be steady customer for decades but you have me for whats left': 2 Neutral\n",
      "0: 'please dont change anything': 3 Positive\n",
      "0: 'last year received pair of levis made in haiti did not get them from amazon thet were so terribly constructed that thought they were knock _ offs': 1 Negative\n",
      "0: 'any way the stitching in the rear end ripped or inches': 2 Neutral\n",
      "0: 'there was also an issue with the room around the buttons on the fly they did not give sufficient room to manipulate them': 2 Neutral\n",
      "0: 'threw them in the trash loss': 1 Negative\n",
      "0: 'have been _ wearing levis for years and never have seen such poor quality this year bought new pairs from amazon and the were also made in haiti': 1 Negative\n",
      "0: 'the have the same button issue have loose thread ends everywhere and the thread is different colors in different areas': 1 Negative\n",
      "0: 'am going to give them try but will always be paranoid that the rear end will rip out': 1 Negative\n",
      "0: 'never had to worry ever before': 2 Neutral\n",
      "0: 'the bottom line is that am going to have to go the mall to purchase any more jeans maybe they will be wranglersps contacted levis and all they did was send corporate stamped out replys to me and said they could no guarantee that if they replaced them they would not be hatian made': 1 Negative\n",
      "0: 'do not accept levis made in haiti': 2 Neutral\n",
      "0: 'ive been _ wearing since was kid about years': 2 Neutral\n",
      "0: 'they used to take ages to make pair look worn out which thought was cool back then and that was while was climbing trees skateboarding what have you': 2 Neutral\n",
      "0: 'times have changed': 2 Neutral\n",
      "0: 'now have desk job and they wear out in less than year': 1 Negative\n",
      "0: 'the denim of two pairs has worn thin around the pockets and thighs while the pocket liners have remained in tact': 1 Negative\n",
      "0: 'that seems to say something about the relative quality of the materials': 2 Neutral\n",
      "0: 'thought denim was supposed to be tough': 2 Neutral\n",
      "0: 'and unlike some of the people commenting about the risks of buying mail order im talking about jeans bought from shop': 2 Neutral\n"
     ]
    },
    {
     "name": "stdout",
     "output_type": "stream",
     "text": [
      "0: 'like other reviewers though im now faced with the daunting prospect of finding something that lives up to levis previously excellent legacy': 2 Neutral\n",
      "0: 'this is what happens when you move quality product from the us to foreign country for manufacture': 2 Neutral\n",
      "0: 'ive worn levis since before they were even called over years and this product is not levi': 1 Negative\n",
      "0: 'it is pure garbage and ive ordered my last pair': 1 Negative\n",
      "0: 'it really is bummer to see what is happening to so many american products that are shipped overseas to cheap labor manufacturers': 1 Negative\n",
      "0: 'would even advocate boycott of levi until they return to the quality that made them famous now have to search for replacement maybe ill try wranglers': 1 Negative\n",
      "0: 'should never go to store again can never find my size or color in stock at store': 1 Negative\n",
      "0: 'did not know the levis had buttons for the fly closure instead of zipper': 1 Negative\n",
      "0: 'hate buttons for fly closure': 1 Negative\n",
      "0: 'because of the button closure the pants do not fit correctly across the front of my body and through the seat of the pants the pants are ill fitting in other ways as well': 1 Negative\n",
      "0: 'have never in my life had pair of pants feel so unconfortable': 1 Negative\n",
      "0: 'rest assured will never buy another pair of levis by way of amazon it is beyond any and all reason that someone would put buttons instead of zipper for fly closure truely stupid would give these pants no stars if you had zero stars rating': 1 Negative\n",
      "0: 'thought would try my first pair of levis and must say that dont like them': 2 Neutral\n",
      "0: 'they are too big around the waist and too long even when my size is what normally wear': 1 Negative\n",
      "0: 'these jeans are so heavy have to wear my belt extra tight to keep up': 2 Neutral\n",
      "0: 'the jeans rock': 2 Neutral\n",
      "0: 'however am still too small to fill them out': 1 Negative\n",
      "0: 'damn crohns disease sux': 1 Negative\n",
      "0: 'will eat more potatoes': 3 Positive\n",
      "0: 'am returning this': 2 Neutral\n",
      "0: 'material is way too thin': 1 Negative\n",
      "0: 'had to resort to online order only because shops didnt seem to carry in seam length': 2 Neutral\n",
      "0: 'they seem to stock even numbers only': 2 Neutral\n",
      "0: 'also why dont you mention button _ fly in bold on the title': 3 Positive\n",
      "0: 'do they still make these in the zipper era': 2 Neutral\n",
      "0: 'the are great': 3 Positive\n",
      "0: 'the fit is just as expected and the quality is there': 1 Negative\n",
      "0: 'the same button _ fly as always': 2 Neutral\n",
      "0: 'great pair of jeans at great': 3 Positive\n",
      "0: 'price': 2 Neutral\n",
      "0: 'and so easy to order on amazon when you can trust the exact skiing every time': 2 Neutral\n",
      "0: 'buy these in multiple colors and finishes to keep things so simple': 3 Positive\n",
      "0: 'like it lot': 2 Neutral\n",
      "0: 'levis is well respected brand name that realizes not all of us are under or ready for older styled clothes': 2 Neutral\n",
      "0: 'the child laborer that did the stitching on these must have been new because its pretty sloppy in some places': 1 Negative\n",
      "0: 'made in egypt': 2 Neutral\n",
      "0: 'wasnt expecting that': 2 Neutral\n",
      "0: 'fabric is thinner than remember from the old days': 2 Neutral\n",
      "0: 'fit is as expected': 2 Neutral\n",
      "0: 'good item with good price and good service': 4 Verypositive\n",
      "0: 'the mailing service is good and quick': 3 Positive\n",
      "0: 'am looking _ forward to good quality': 3 Positive\n",
      "0: 'missed the fact that being originals means they are button _ fly jeans': 1 Negative\n",
      "0: 'dont remember the last button _ fly jeans had and they are taking some getting used to but think am going to like them': 1 Negative\n",
      "0: 'as far as fit and finish they are great': 3 Positive\n",
      "0: 'its hard to find jeans that are available in my size': 1 Negative\n",
      "0: 'unfortunately these seem to run little small': 1 Negative\n",
      "0: 'had pair of these jeans that really liked but had developed tear in the knee': 3 Positive\n",
      "0: 'ordered two pair from amazon same size': 2 Neutral\n",
      "0: 'strangely one pair fit just fine the other pair were somewhat tight': 3 Positive\n",
      "0: 'decided to keep them anyway since could stand to lose few pounds anyway but was bit disappointed in the lack of consistency in the sizes': 1 Negative\n",
      "0: 'perfect fit great denim no complaints': 3 Positive\n",
      "0: 'but would like the front small pocket to be wider': 2 Neutral\n",
      "0: 'itd be easier to take coins out of it': 2 Neutral\n",
      "0: 'levis mens jeanuntil this week had been _ wearing levis all my life and in recent years was only wearing for all occasions': 1 Negative\n",
      "0: 'buy many different colors for my various activites': 2 Neutral\n",
      "0: 'currently have over pairs that have never been worn because there is no quality _ control at levi _ strauss': 1 Negative\n",
      "0: 'living out in the country it is too difficult and costs too much to send the items back in to amazon': 1 Negative\n",
      "0: 'the have were made in egypt mexico haiti and other various places': 1 Negative\n",
      "0: 'the labels all match in size however some of the jeans are at _ least full size smaller at the waist and some of the pairs have the correct waist but very narrow legs': 1 Negative\n",
      "0: 'one last issue have is that the material does not hold _ up': 1 Negative\n",
      "0: 'some of the bought in recent months rip after wearing them just few times some of the buttons come apart': 2 Neutral\n",
      "0: 'im just guy who puts his pants on one leg at time': 2 Neutral\n",
      "0: 'tried putting them on with both legs at the same time but ended _ up falling and chipping my tooth on the toilet seat': 1 Negative\n",
      "0: 'im not sure can blame the pants for that mishap however': 1 Negative\n",
      "0: 'excellent quality as expected from levis': 3 Positive\n",
      "0: 'the price was much better then most stores where live and the quality is the same': 1 Negative\n",
      "0: 'would recommended anyone to buy these from amazon': 2 Neutral\n",
      "0: 'awesome love these jeans and they fit perfect and very comfortable': 3 Positive\n",
      "0: 'plus these jeans are true to size': 2 Neutral\n",
      "0: 'love me new jeans': 2 Neutral\n",
      "0: 'ordered few pairs of these my husband ended _ up with pair because they all fit him at waist': 2 Neutral\n",
      "0: 'the fit him fine': 2 Neutral\n",
      "0: 'the and other ones never fit my sons and now have to try and resell them': 2 Neutral\n",
      "0: 'both the color and the fit were perfect and you simply could beat the price for pair of levis': 3 Positive\n",
      "0: 'my hubby loved these despite being button _ fly jeans which hed never worn before': 3 Positive\n",
      "0: 'he says they are bit tight in the hips and crotch compared to his of course thought they looked sexy so gave out of because the fit wasnt perfect like the levis purchased in the same size': 3 Positive\n",
      "0: 'because my husband loves levis and he is able to find what sizes he needs on amazon in the style he _ likes': 2 Neutral\n",
      "0: 'levi never fail': 2 Neutral\n",
      "0: 'hubby has worn them for decades loving the button down look': 1 Negative\n",
      "0: 'he was little bit miffed with the price but when you live in the country one doesnt have as many choices': 2 Neutral\n",
      "0: 'excelente vendedor el pedido llego tiempo bien no hubo problemas de ning uacute tipo durante la _ entrega lo _ recomiendo': 1 Negative\n",
      "0: 'bought red in hard to find size': 2 Neutral\n",
      "0: 'these are my favorite pants immediately': 1 Negative\n",
      "0: 'they suit me perfectly': 3 Positive\n",
      "0: 'ive worn for almost years they just arent the quality they used to be even over the last year or so': 1 Negative\n",
      "0: 'agree with some of the other posts regarding the change in fabric quality it isnt as sturdy nor rugged': 2 Neutral\n",
      "0: 'ive also had problems with dye inconsistency and blotches after repeated washings': 1 Negative\n",
      "0: 'this happens after it is to late to return and can be embarrassing in their placement': 2 Neutral\n",
      "0: 'lol not dissatisfied enough to return them but probably need to start looking for another jeans alternative': 1 Negative\n",
      "0: 'hate that as love the button _ fly': 2 Neutral\n",
      "0: 'have been _ wearing levis since was in high _ school in the except for years in the navy': 2 Neutral\n",
      "0: 'these are always the same fit no matter where purchased': 2 Neutral\n",
      "0: 'best thing about amazon is they offer these in by short legs so that dont need to have them hemmed saving per pair': 3 Positive\n",
      "0: 'they also offer them in various washes colors which is great wtih prime free _ shipping amazon is perfect for buying things with very consisitent fit also includes merril and columbia shoes': 3 Positive\n",
      "0: 'have lot of pairs of jeans and these are noticeably looser and baggier than my other pairs': 1 Negative\n",
      "0: 'mean the waist is at _ least an _ inch larger than other pairs of bought in the same size': 2 Neutral\n",
      "0: 'know there is variation among the manufacturing places and times but thats what my pair was like': 2 Neutral\n",
      "0: 'still great jeans thick fabric nice color decent quality production': 3 Positive\n",
      "0: 'look and feel great': 3 Positive\n",
      "0: 'true to size': 2 Neutral\n",
      "0: 'rinse is great looking color originals are the best': 3 Positive\n",
      "0: 'these darker jeans look great': 3 Positive\n",
      "0: 'this score was chosen for love as the color of the product along with its quality make the vendor is qualified in such manner': 1 Negative\n",
      "0: 'recommended to my niece buy model pant and hopefully soon will enter': 3 Positive\n",
      "0: 'thanks': 3 Positive\n"
     ]
    },
    {
     "name": "stdout",
     "output_type": "stream",
     "text": [
      "0: 'thes dye in these levis faded out after the first washing to look like tye dye': 2 Neutral\n",
      "0: 'naturally since they were washed tags were thrown out so unable to return': 1 Negative\n",
      "0: 'the material is whole lot cheaper too': 2 Neutral\n",
      "0: 'definitely not like the old school colored levis were used to and we wont be buying these online here again': 2 Neutral\n",
      "0: 'correct fit color size and it looks great': 3 Positive\n",
      "0: 'very comfortable and always durable': 3 Positive\n",
      "0: 'the color stays dark and that is important': 3 Positive\n",
      "0: 'quality jeans quality clothes': 3 Positive\n",
      "0: 'excellent jeans': 3 Positive\n",
      "0: 'great price great fit nice looking jeans fits exactly as expected': 3 Positive\n",
      "0: 'loose but not baggy very comfortable and the perfect length': 3 Positive\n",
      "0: 'couldnt believe how quickly received them': 1 Negative\n",
      "0: 'love amazon prime': 3 Positive\n",
      "0: 'if you dont want button _ fly dont buy': 2 Neutral\n",
      "0: 'never mentioned button _ fly in the description': 1 Negative\n",
      "0: 'material very light not the old levis grew _ up with at all': 2 Neutral\n",
      "0: 'because it fit as expected': 2 Neutral\n",
      "0: 'like the asewer that clicked on on the previous page': 2 Neutral\n",
      "0: 'am done yet': 2 Neutral\n",
      "0: 'wished hadnt gained so much weight lately': 2 Neutral\n",
      "0: 'really wanted these but have therefore they were too _ tight': 1 Negative\n",
      "0: 'and sadly had to return them': 1 Negative\n",
      "0: 'have worn this type of levis jeans for long time': 1 Negative\n",
      "0: 'these are up to levis usual great quality standards': 3 Positive\n",
      "0: 'have to order that fit since no stores carry much for skinny people always fit the best and always the most comfortable': 3 Positive\n",
      "0: 'have always preferred the line of jeans and was very pleased to be able to purchase them in white': 3 Positive\n",
      "0: 'one of the organizations belong requires white pants for the uniform additionally we require red stripe down the seam these jeans were perfect for this occasion they fit as expected they were bit loose as like and after _ washing and heavy ironing the jeans looked great': 1 Negative\n",
      "0: 'will be purchasing several more pair as they are perfect for my needs': 3 Positive\n",
      "0: 'these are not real levi in my opinion': 2 Neutral\n",
      "0: 'they are nothing like the same item purchased this week at my local kohls they are nothing like the quality of the items found in stores': 1 Negative\n",
      "0: 'much lighter _ weight more like cotton pants than jeans': 1 Negative\n",
      "0: 'didnt even bother trying on': 1 Negative\n",
      "0: 'this pants like me': 2 Neutral\n",
      "0: 'the fabric is very good quality sturdy with cut that fits your body': 3 Positive\n",
      "0: 'the product is accurately described by the seller': 2 Neutral\n",
      "0: 'very good price quality ratio': 3 Positive\n",
      "0: 'love it and recommend it': 3 Positive\n",
      "0: 'can only echo what other reviewers have written here': 2 Neutral\n",
      "0: 'these are not levis would have paid far more for jean that last like the used to wear and fits and looks as good these are lighter fabric crinklier just not the same item at all it is sad': 1 Negative\n",
      "0: 'another icon is gone': 2 Neutral\n",
      "0: 'and where can now find good looking durable jeans': 2 Neutral\n",
      "0: 'faster than expected and exactly as levis should be order the size and they always fit': 2 Neutral\n",
      "0: 'beautiful': 4 Verypositive\n",
      "0: 'highly reccomend': 2 Neutral\n",
      "0: 'levis jeans are the best looking and best fitting jeans that can be bought': 3 Positive\n",
      "0: 'this particular pair is made of soft material that makes the jeans completely comfortable the first wearing': 3 Positive\n",
      "0: 'these jeans are fun to wear and are one of my very favorite jeans': 3 Positive\n",
      "0: 'they give me the look desire': 2 Neutral\n",
      "0: 'am completely satisfied like have been with other levis purchased over the years': 1 Negative\n",
      "0: 'levis': 2 Neutral\n",
      "0: 'whats not to like': 2 Neutral\n",
      "0: 'yeah they are expensive': 2 Neutral\n",
      "0: 'wal mart jeans are and as is often the case you get what youpay for': 1 Negative\n",
      "0: 'for life': 2 Neutral\n",
      "0: 'cant find this color at my local stores': 2 Neutral\n",
      "0: 'the day prime and not having to fight the crowds is plus': 1 Negative\n",
      "0: 'for years had no true empathy for my wifes claims that she had to try on each piece of clothing to see if it would fit': 2 Neutral\n",
      "0: 'why just bought the same size each time and of course it fit especially in levis': 2 Neutral\n",
      "0: 'sadly thats no _ longer true': 1 Negative\n",
      "0: 'now they may be half size big half size small': 2 Neutral\n",
      "0: 'and find returning even with amazons great policies hassle': 1 Negative\n",
      "0: 'so have pile of misfits': 2 Neutral\n",
      "0: 'the race to the bottom in clothing production has its downsides': 2 Neutral\n",
      "0: 'im done with online shopping for jeans and seeking an alternative to levis': 1 Negative\n",
      "0: 'used to be able to order jeans size and theyd fit': 2 Neutral\n",
      "0: 'no more': 2 Neutral\n",
      "0: 'now they run size large size small some fit great others are bad in the seat': 1 Negative\n",
      "0: 'trouble is dont _ know of better brand': 1 Negative\n",
      "0: 'ive been _ wearing for years': 2 Neutral\n",
      "0: 'you cant _ go wrong with these classic button _ fly jeans': 1 Negative\n",
      "0: 'they look good and wear for long time': 3 Positive\n",
      "0: 'are the greatest freaking jeans ever made so do not think you should even ask how they are': 1 Negative\n",
      "0: 'usually wear waist on most generic mens pants shorts thus the first pair of ordered were and the fit was too loose returned them to amazon with no problem and reordered the waist and they fit perfectly thanks amazon': 1 Negative\n",
      "0: 'levis jeans are great in any color': 3 Positive\n",
      "0: 'finding black on amazon _ com was easy plus great deal on them fast _ delivery also': 2 Neutral\n",
      "0: 'its very nice and very fits for me think will buy more if the price is like this its good': 3 Positive\n",
      "0: 'who was the other person who wore them first': 2 Neutral\n",
      "0: 'washed them': 2 Neutral\n",
      "0: 'even used fabric softener thought was buying new product': 1 Negative\n",
      "0: 'these pants are not new like the pantsi dont like that they arrived in obviously used condition': 1 Negative\n",
      "0: 'buy this pants to my husband and became super good the color is exactly is good for dark night': 3 Positive\n",
      "0: 'my husband love the fit': 2 Neutral\n",
      "0: 'please need the tracking number for this package and have not yet received thanks success for all amen': 3 Positive\n",
      "0: 'the jeans material could be better and it doesnt fit fine at _ least for brazilian': 1 Negative\n",
      "0: 'color is ok': 2 Neutral\n",
      "0: 'sent many thanks for this excellent quality until then we will see later on purchases good bye thanks you': 3 Positive\n",
      "0: 'el mejor jean que he comprado': 1 Negative\n",
      "0: 'excelente color acabado': 2 Neutral\n",
      "0: 'un _ poco arrugado al frente la altura de los bolsillos en _ la parte trasera de la rodilla en _ la bota un jean unico elegante unico punto en contra un _ poco ajustado nada del otro mundo las condiciones de lavado la etiqueta dice algo asi como lavelo lo menos posible por temor que se encoja se decolore muy complacido': 1 Negative\n",
      "0: 'recomendado': 2 Neutral\n",
      "0: 'the best jeans ive bought': 3 Positive\n",
      "0: 'excellent color and finish': 3 Positive\n",
      "0: 'little crumpled at the front at the height of the pockets in the back of the knee and in the boot unique and stylish jean': 3 Positive\n",
      "0: 'the only point against it little tight no big deal and washing conditions the label says something like wash it as little as possible for fear of shrinkage or fading': 1 Negative\n",
      "0: 'very pleased': 3 Positive\n",
      "0: 'recommended': 4 Verypositive\n",
      "0: 'already was fan of these jeans the only complaint if any is that if your really skinny you should choose smaller size or different style': 1 Negative\n",
      "0: 'everything as expected': 2 Neutral\n",
      "0: 'have been using levis all my life and are my preferred jeans': 1 Negative\n",
      "0: 'color is dark and ok': 2 Neutral\n",
      "0: 'have been using levis since have memories': 2 Neutral\n",
      "0: 'when was kid obvious didnt know about quality and lon lasting clothes': 2 Neutral\n",
      "0: 'now certainly do know whats about': 2 Neutral\n",
      "0: 'and for many reasons will buy levis for ever': 2 Neutral\n",
      "0: 'good': 3 Positive\n",
      "0: 'great purchase': 3 Positive\n",
      "0: 'the black jean is great choice': 3 Positive\n",
      "0: 'excellent product as well the time of delivery the product was made in egipt good quality just in time an price according standars': 3 Positive\n"
     ]
    },
    {
     "name": "stdout",
     "output_type": "stream",
     "text": [
      "0: 'muy _ buen servicio excelente _ producto lo _ recomiendo con los ojos cerrados es la primera vez que compro por internet de verdad que me siento completamente satisfecho contento con la experiencia': 1 Negative\n",
      "0: 'excelente la _ compra de este articulo lo _ recomiendo para futuras compras llego tal _ cual como _ se esperaba muy responsable': 1 Negative\n",
      "0: 'excelente _ producto': 2 Neutral\n",
      "0: 'recomendado': 2 Neutral\n",
      "0: 'it fits as expected and its quality is excellent': 3 Positive\n",
      "0: 'it is my favorite pair of jeans': 3 Positive\n",
      "0: 'it was what spected': 2 Neutral\n",
      "0: 'levis its nice option xxxx xxxx xxxx xxxx wwwww vvvv bbbbb nnnn mmmmm': 1 Negative\n",
      "0: 'yes': 2 Neutral\n",
      "0: 'verifiquen las tallas en una tienda cerca de ustedes asi sabran que modelo talla se ajusta ustedes muy _ buena calidad': 2 Neutral\n",
      "0: 'despite what have read on other reviews think these jeans are good value': 2 Neutral\n",
      "0: 'only rated them stars because they feel somewhat lighter than those use to get years _ ago but then again everything on the market has gone that way as well': 1 Negative\n",
      "0: 'the fit is what have always expected in stf jeans and am very pleased with them': 3 Positive\n",
      "0: 'can get my exact size thru amazon whereas typically can not find anything in my size at the big box stores and the mom pop stores that are left dont carry them anymore': 1 Negative\n",
      "0: 'everyone needs to the find the jeans that work for them and levi button downs do it for me': 2 Neutral\n",
      "0: 'tight in the right places and loose in the right places': 2 Neutral\n",
      "0: 'too small': 1 Negative\n",
      "0: 'washing instructions indicate significant shrinkage potential': 2 Neutral\n",
      "0: 'buttons not zipper': 2 Neutral\n",
      "0: 'no information about how to return it negative experience': 1 Negative\n",
      "0: 'got these for my fiance and he looks awesome in them': 2 Neutral\n",
      "0: 'he says they are very comfortable': 3 Positive\n",
      "0: 'reasonably priced too': 2 Neutral\n",
      "0: 'nice color perfect fit': 3 Positive\n",
      "0: 'my husband loved them': 3 Positive\n",
      "0: 'its nice color to wear with blazer and some nice shoes': 3 Positive\n",
      "0: 'quality of material was not as expected': 2 Neutral\n",
      "0: 'going to department _ store to compare and sending these back to amazon': 1 Negative\n",
      "0: 'dont really know if these are truly levis': 1 Negative\n",
      "0: 'my husband loves these jeans and he looks great in them just make sure to wash before the first use otherwise you will find yourself having smurf hands blue': 1 Negative\n",
      "0: 'all the levis we purchased were top shelf': 2 Neutral\n",
      "0: 'very nice colors liked the choices available of course good quality at fair _ price great two day shipping': 3 Positive\n",
      "0: 'my husband was totally happy': 3 Positive\n",
      "0: 'this product is good quality and good value for money': 3 Positive\n",
      "0: 'would recommend it to anyone': 1 Negative\n",
      "0: 'been _ wearing these jeans for many years': 2 Neutral\n",
      "0: 'not my first pair and they perform well': 2 Neutral\n",
      "0: 'fit is comfortable and hold _ up well': 3 Positive\n",
      "0: 'im wearing those levis jeans now': 2 Neutral\n",
      "0: 'they are really comfortable wear well and look great': 3 Positive\n",
      "0: 'give them stars': 2 Neutral\n",
      "0: 'not what expected': 2 Neutral\n",
      "0: 'just like my first pair and fits even better': 3 Positive\n",
      "0: 'luv these jeans': 2 Neutral\n",
      "0: 'they fit just right': 2 Neutral\n",
      "0: 'not too _ tight not too slim': 1 Negative\n",
      "0: 'they have they own sex appeal': 2 Neutral\n",
      "0: 'they are my new saturday night hang out pants': 2 Neutral\n",
      "0: 'purchased for my grandson': 2 Neutral\n",
      "0: 'he only wear levis jean': 1 Negative\n",
      "0: 'if can get them less expensive than the stores will buy him levis often': 2 Neutral\n",
      "0: 'great jean': 3 Positive\n",
      "0: 'perfect fit and look': 3 Positive\n",
      "0: 'ordered the rinse becouse really didnt care for the rigid': 1 Negative\n",
      "0: 'put on straight from shipment comfrotable and didnt fade': 1 Negative\n",
      "0: 'ive been _ wearing levis for years': 2 Neutral\n",
      "0: 'this last pair seems little bit bigger than the old pairs have': 2 Neutral\n",
      "0: 'its been years since wore pair of': 2 Neutral\n",
      "0: 'and was looked everywhere in my area for pair in white in my size': 2 Neutral\n",
      "0: 'there were none in the state of texas': 2 Neutral\n",
      "0: 'so amazon to the rescue': 2 Neutral\n",
      "0: 'the jeans got to me in day': 2 Neutral\n",
      "0: 'they fit perfectly and are seriously good jeans': 3 Positive\n",
      "0: 'im completely satisfied': 2 Neutral\n",
      "0: 'read with great dismay the negative _ reviews on this site about': 2 Neutral\n",
      "0: 'imagine if you had not purchased pair in years and you had vintage pair to compare with current pair you would see some decline in quality but dont see any fall off from pairs have bought in recent years': 1 Negative\n",
      "0: 'same buttons same rivets same gauge of material same fit': 1 Negative\n",
      "0: 'dont like to pay but there are sales': 2 Neutral\n",
      "0: 'they are what wear': 2 Neutral\n",
      "0: 'my husband had been looking for these in stores for over month and could never find his size so we were pleased to finally have them': 1 Negative\n",
      "0: 'these levis mens jeans are definately dad jeans and cheap alternative to the funny denim offerings from the crappy discount stores and the malls high dollar offering': 1 Negative\n",
      "0: 'these may not be exactly origional once offered but after all these years since my first pair button _ fly jeans will not do for everyone as the do for me as some just wont appreciate the effort to exercise your fingers each time you turn away from the urinal': 1 Negative\n",
      "0: 'myself like the reminder of my youth when zippers were not that dependable and young guys liked the security of the four buttons there to sheild your bulge even if you left one undone occasionally': 2 Neutral\n",
      "0: 'young girls would notice that and you might get sly look and smile': 3 Positive\n",
      "0: 'but digress my love of button _ fly levis will go on past when will need to comb my hair back on the way out of the bathroom or even tuck in my teeshirt or worry the fade has gone on to some legit wear holes earned from many wearings and washings': 1 Negative\n",
      "0: 'too much info': 1 Negative\n",
      "0: 'just cant pay over for pair of jeans': 2 Neutral\n",
      "0: 'even young guys could afford pair in the and but that just economics talk and inflation regret': 1 Negative\n",
      "0: 'still love my jenos': 3 Positive\n",
      "0: 'el proveedor es rapido me llego vzla en _ buen estado los pantalones son originales de muy _ buena calidad': 1 Negative\n",
      "0: 'levis pants are some of the best pants in the world': 3 Positive\n",
      "0: 'for durability softness and beauty when used for work and to dress people': 3 Positive\n",
      "0: 'levis jeans are widely recommended for their affordability the perfect way they conform to the body of the people and now with its wide range of colors and patterns': 3 Positive\n",
      "0: 'buen _ producto': 2 Neutral\n",
      "0: 'original': 3 Positive\n",
      "0: 'la medida': 2 Neutral\n",
      "0: 'instead of zipper they have buttons': 2 Neutral\n",
      "0: 'this really puts cramp in my sons lifestyle but otherwise they are quality levi jeans': 3 Positive\n",
      "0: 'vendor did partial but otherwise everything met specifications': 1 Negative\n",
      "0: 'much more efficient way of shopping for commodity type products': 2 Neutral\n",
      "0: 'you saved me at _ least an hour and couple gallons of gasoline and the nasty experience of visiting shopping mall': 1 Negative\n",
      "0: 'thx': 2 Neutral\n",
      "0: 'excelente _ producto muy _ buen precio de calidad insuperable rapido tiempo de entrega altamente recomendado posiblemente realice nuevamente conpras de este _ producto levis mens _ original fit jean talla en otros colores diferentes': 1 Negative\n",
      "0: 'they are levi mens oriignal fit buttonfly jeans what more needs to be said': 1 Negative\n",
      "0: 'these are my favorite': 3 Positive\n",
      "0: 'what can say': 2 Neutral\n",
      "0: 'they are and are just what have always received': 3 Positive\n",
      "0: 'no problems at all': 1 Negative\n",
      "0: 'will order again': 2 Neutral\n",
      "0: 'great price for the': 3 Positive\n",
      "0: 'theyre about the only pants own now if only someone could come up with way that they never get dirty': 1 Negative\n",
      "0: 'what is not to like': 2 Neutral\n",
      "0: 'they arrived in reasonable amount of time fair _ price fit as expected': 2 Neutral\n",
      "0: 'big and tall sizes are easy to find': 3 Positive\n",
      "0: 'very nice': 3 Positive\n",
      "0: 'pants type version is very nice is the waist bit big color is also very good more love will consider to buy': 4 Verypositive\n",
      "0: 'received the product very soon it was gift and my friend loves it': 3 Positive\n",
      "0: 'it fits perfectly': 3 Positive\n",
      "0: 'definitely would recommend': 3 Positive\n"
     ]
    },
    {
     "name": "stdout",
     "output_type": "stream",
     "text": [
      "0: 'very good very suitable for me work is good and cheap': 3 Positive\n",
      "0: 'really like it very good very suitable for me work is good and cheap': 3 Positive\n",
      "0: 'really like it': 3 Positive\n",
      "0: 'lo _ recomiendo envio rapido pude recibir tiempo este _ producto muchas gracia por ser tan responsables amigos muy pronto les voy comprar otro pantalon': 1 Negative\n",
      "0: 'levis have had particular fit throughout the last years': 2 Neutral\n",
      "0: 'now they run larger than ever before and the colored ones are larger yet does this satisfy the required word limit': 1 Negative\n",
      "0: 'ordered for my sons christmas and he love loves them': 3 Positive\n",
      "0: 'no problems ordering sent to another address arrived so early they had to be hidden': 1 Negative\n",
      "0: 'good experience': 3 Positive\n",
      "0: 'have been buying levis at sears for thirty years this is the second pair ive ordered from amazon and the quality wormanship is not the same': 1 Negative\n",
      "0: 'the stitching has few loose seams and the material is not as tough': 1 Negative\n",
      "0: 'bought both pairs with gift certificates and that will be the last time do it': 3 Positive\n",
      "0: 'was feeling nostalgic and went to amazon to bring back some of that old glory': 1 Negative\n",
      "0: 'used to live in my old jeans back in the late': 2 Neutral\n",
      "0: 'so found these thinking would reenter new romance with the iconic american blue jeans': 2 Neutral\n",
      "0: 'boy was wrong': 2 Neutral\n",
      "0: 'these are not even close to the real thing': 2 Neutral\n",
      "0: 'first the canvas': 2 Neutral\n",
      "0: 'the material on these is thin and not jean like at all': 1 Negative\n",
      "0: 'feel like ordered these as some off brand from target': 2 Neutral\n",
      "0: 'second the fit is slightly off as well': 3 Positive\n",
      "0: 'im sure it has something to do with the cheap material': 1 Negative\n",
      "0: 'when walk they bunch up on the inner thigh and make it uncomfortable to properly move around': 1 Negative\n",
      "0: 'did some research and found out that levi changed the quality of these years _ ago and the only way to get my old back was to buy original runs of them online for around': 2 Neutral\n",
      "0: 'am saddened by this as it shows the decline as what we consumers are willing to accept': 1 Negative\n",
      "0: 'miss my old would even pay bucks to have levi make them correctly again': 1 Negative\n",
      "0: 'it feels like yet another piece of america has died': 1 Negative\n",
      "0: 'levis are predictably comfortable and the shrink to fit so your jeans fit you': 1 Negative\n",
      "0: 'very good quality levis': 3 Positive\n",
      "0: 'true white and good buttons zippers and seams': 3 Positive\n",
      "0: 'subjectively they fit me well and are what consider true to size': 3 Positive\n",
      "0: 'as always fit like glove': 2 Neutral\n",
      "0: 'very comfortable timeless design and it wants more words but dont _ know what to say': 3 Positive\n",
      "0: 'how can anyone go _ wrong with levis': 1 Negative\n",
      "0: 'they look good on every man and fit all the right places': 3 Positive\n",
      "0: 'have being wearing since can remember': 2 Neutral\n",
      "0: 'they are sturdy last _ forever and will always be fashionable well at _ least thats what think': 1 Negative\n",
      "0: 'no tuve ningun problema con este pedido llego _ en el momento lo necesitaba pronto pedire otros mas exelente sevicio': 1 Negative\n",
      "0: 'bought these for my husband': 2 Neutral\n",
      "0: 'they are slightly fitted in the thighs but not too _ tight': 1 Negative\n",
      "0: 'they provide nice shape that works for casual dressing up and for day to day wear': 3 Positive\n",
      "0: 'my friend lives in rome and can not get levis jeans': 1 Negative\n",
      "0: 'live in rome months out of the year so purchased the jeans for him': 2 Neutral\n",
      "0: 'was able to get pair at local dept': 2 Neutral\n",
      "0: 'store but that was all they had in his size': 2 Neutral\n",
      "0: 'thank _ you for fulfilling my need': 3 Positive\n",
      "0: 'christine collier': 2 Neutral\n",
      "0: 'havent worn in years and theyve improved': 2 Neutral\n",
      "0: 'first of all its great that theyre pre _ washed': 3 Positive\n",
      "0: 'if mine shrunk at all it was just hair': 2 Neutral\n",
      "0: 'they didnt shrink in the waist at all': 2 Neutral\n",
      "0: 'but best of all they no _ longer have that stupid bottom button that you could never reach anyway': 1 Negative\n",
      "0: 'im year old woman and they still fit great': 3 Positive\n",
      "0: 'the rise is great for someone with no waist like me and the low placed back pockets are much more flattering than most womens jeans': 1 Negative\n",
      "0: 'after years of trying to get womens jeans that fit finally went back to what wore as kid and love them': 2 Neutral\n",
      "0: 'not too baggy not too _ tight straight _ leg rugged good looking jeans': 1 Negative\n",
      "0: 'only wish they came in odd lengths as im between and': 1 Negative\n",
      "0: 'bought for my boyfriend': 2 Neutral\n",
      "0: 'he had been wanting brown pair': 2 Neutral\n",
      "0: 'couldnt find this color locally': 2 Neutral\n",
      "0: 'good price and great looks': 3 Positive\n",
      "0: 'my first pair of the and will not be the last': 2 Neutral\n",
      "0: 'im big dude and wear': 2 Neutral\n",
      "0: 'these jeans offer great look with the amount of comfort im looking for in pair of straight legs': 3 Positive\n",
      "0: 'never question classic': 2 Neutral\n",
      "0: 'was very unhappy with this purchase will no _ longer purchase clothes from amazon': 1 Negative\n",
      "0: 'was looking for pair of shrink to fit jeans in my hard to find size': 1 Negative\n",
      "0: 'the amazon web page that came up advertised levis shrink to fit jeans in the size and proceeded to select pair': 1 Negative\n",
      "0: 'the receipt mentioned levis but didnt specifically say shrink to fit': 2 Neutral\n",
      "0: 'wasnt sure if it should and trusted the receipt would actually reflect what the web page advertised': 2 Neutral\n",
      "0: 'the jeans arrived in couple days but were not shrink to fit': 1 Negative\n",
      "0: 'the return process was relatively easy and painless which is why will continue to buy non clothes items from amazon': 1 Negative\n",
      "0: 'however the online resolution screen haughtily claimed that since the purchasing error was my fault amazon would not pay for the shipping': 1 Negative\n",
      "0: 'there are too many unknowns in fit when purchasing clothes from potentially erroneous web sites for me to repeat this exercise': 1 Negative\n",
      "0: 'dont _ know about all the people that are complaining about the quality of these jeans but havent you noticed that they are the same quality of clothing as others that you pay or more for and they fall apart faster': 1 Negative\n",
      "0: 'was kind of uneasy about buying clothes online but took the chance and hey they worked out perfect': 2 Neutral\n",
      "0: 'thanks levis for great product': 3 Positive\n",
      "0: 'keep the prices low and quality the same': 1 Negative\n",
      "0: 'thank _ you': 3 Positive\n",
      "0: 'local levis store stopped carrying their basic like youre going to see lot of yr olds wearing shrink to fit jeans': 1 Negative\n",
      "0: 'so had to resort to online this was great no lines no hassles perfect fit': 1 Negative\n",
      "0: 'they are': 2 Neutral\n",
      "0: 'how can you go _ wrong': 1 Negative\n",
      "0: 'have always loved these jeans': 3 Positive\n",
      "0: 'button _ fly is the best type of fly': 3 Positive\n",
      "0: 'little bit too _ tight on my legs expected zipper for the fly of the jean it is with buttons': 1 Negative\n",
      "0: 'my husband loves them': 2 Neutral\n",
      "0: 'washes great in cold _ water': 2 Neutral\n",
      "0: 'will order again at another time': 2 Neutral\n",
      "0: 'recommend to everyone wants': 3 Positive\n",
      "0: 'im not sure how missed that these were button _ fly': 1 Negative\n",
      "0: 'thought did good job reviewing the details but ended _ up not getting the right item': 2 Neutral\n",
      "0: 'will be returning': 2 Neutral\n",
      "0: 'its classy levis jean nice cut classy desing and very durable': 3 Positive\n",
      "0: 'do not have any trouble with the pair that bought perfect lengh perfect waist size': 1 Negative\n",
      "0: 'washed several times and the color is not faded at all': 1 Negative\n",
      "0: 'mine its made in haiti for reference': 2 Neutral\n",
      "0: 'these jeans seem to be well constructed and properly fitting': 3 Positive\n",
      "0: 'however they have very strong odor that could best describe as being salt or even chlorine': 2 Neutral\n",
      "0: 'the odor is very very strong': 3 Positive\n",
      "0: 'amost to the point of being noxious': 2 Neutral\n",
      "0: 'ive had to wash them four times before the odor finally diminished': 2 Neutral\n",
      "0: 'only wear levis and have purchased them online many times but have never encountered this before': 1 Negative\n",
      "0: 'love but they can be expensive': 2 Neutral\n",
      "0: 'was happy to find them at this price': 3 Positive\n",
      "0: 'would by again': 2 Neutral\n"
     ]
    },
    {
     "name": "stdout",
     "output_type": "stream",
     "text": [
      "0: 'in my quest for the perfect pair of have discovered that the quality varies widely by the country of origin': 3 Positive\n",
      "0: 'if had to rank the countries that have seen listed on tags would rank them as turkey dominican republic by country of origin turkey bought this pair of at the levi store in london england on regent street': 1 Negative\n",
      "0: 'the quality is higher than have observed at any retail _ store in the united _ states': 3 Positive\n",
      "0: 'the fabric is heavy yet soft and the stitching appears to be high quality': 2 Neutral\n",
      "0: 'bought without hesitation dominican republic bought this pair of at maxx store in the united _ states': 2 Neutral\n",
      "0: 'the quality is on par with that of turkey above yet they were sold at maxx due to minor irregularity in the fabric near the bottom of one leg': 1 Negative\n",
      "0: 'bought without hesitation mexico have seen for sale that were manufactured in mexico': 2 Neutral\n",
      "0: 'the fabric is significantly thinner lighter and more flexible': 3 Positive\n",
      "0: 'stitching appeared clumsy rather than precise': 1 Negative\n",
      "0: 'did not buy the quest for perfect continues': 3 Positive\n",
      "0: 'will update this review as discover more': 2 Neutral\n",
      "0: 'ordered wx they were inches too long they were not if these were factory seconds with irregular fabric they should have stated will not order from this company again': 1 Negative\n",
      "0: 'for some reason feel ths levis are bit longer than they used to be': 1 Negative\n",
      "0: 'have others that are shorter different countries are making them': 2 Neutral\n",
      "0: 'people are taller now': 2 Neutral\n",
      "0: 'levi is dependable and consistent in quality and style': 3 Positive\n",
      "0: 'he _ likes what he _ likes loved them': 3 Positive\n",
      "0: 'bought for my son as he always works on my car': 3 Positive\n",
      "0: 'price was best to be found': 3 Positive\n",
      "0: 'the jeans were received looked good and all tags were marked as ordered': 1 Negative\n",
      "0: 'however think they were too long on me and when measured the length believe they are actually in length': 2 Neutral\n",
      "0: 'am having to have them shortened': 2 Neutral\n",
      "0: 'so dont believe will be ordering jeans online again': 1 Negative\n",
      "0: 'the legs were too narrow': 2 Neutral\n",
      "0: 'they say original fit and my husband has worn them for years': 2 Neutral\n",
      "0: 'but the leg down around his shoe is way more narrow than any hes had before': 1 Negative\n",
      "0: 'levis fit better after wash even _ though it is recommended not to wash as long as possible to retain the color': 1 Negative\n",
      "0: 'ive been buying levi jeans through amazon for years now mainly because could rely on the sizes being consistent each time': 1 Negative\n",
      "0: 'this pair suddenly is different and it is an uncomfortable fit': 1 Negative\n",
      "0: 'levis need to ensure better quality _ control on size and fit in each specific range': 1 Negative\n",
      "0: 'pair of should fit like any other': 2 Neutral\n",
      "0: 'jeans fit well': 3 Positive\n",
      "0: 'ordered the button levis as my wife likes them and couldnt find any locally so purchased them on line': 2 Neutral\n",
      "0: 'the jeans are nice but buttons are difficult unbuttoning': 1 Negative\n",
      "0: 'these jeans are another comfortable classic that my honey loves': 3 Positive\n",
      "0: 'couldnt find the white anywhere in stores but as soon as searched them on amazon': 2 Neutral\n",
      "0: 'there they were and at cheaper price than any of the stores shopped': 2 Neutral\n",
      "0: 'should have tried here st will remember that for next time': 1 Negative\n",
      "0: 'nothing wrong with these pants just be warned the color you see on display is not what you will receive original fit timberwolf in the picture look exactly like the shrink to fit sand jeans the actual timberwolf color you will receive is much greener shade than what you see here and does not look at all like sand': 1 Negative\n",
      "0: 'who says hes too old to be wearing snazzy jeans': 1 Negative\n",
      "0: 'these are the traditional fit and style button _ fly in dashing red': 2 Neutral\n",
      "0: 'great with snappy white tee or shirt of some corresponding color': 3 Positive\n",
      "0: 'bought these without realizing they were button _ fly': 2 Neutral\n",
      "0: 'definitely prefer the style zipper fly': 3 Positive\n",
      "0: 'otherwise these jeans are fine': 3 Positive\n",
      "0: 'these are some good looking jeans but significantly tighter than other pairs of that own that are the same size': 1 Negative\n",
      "0: 'only bought the one make so cant say if there are differences between different colors that are the same size': 2 Neutral\n",
      "0: 'bought these for my husband and they fit perfect and look terrific': 3 Positive\n",
      "0: 'they arrived earlier than expected and well priced': 2 Neutral\n",
      "0: 'all is right with the world': 3 Positive\n",
      "0: 'ive been buying levis jeans for almost yrs': 1 Negative\n",
      "0: 'am surprised by some of the reviewers who do not know these are the original levi jeans and have always been shrink to fit': 1 Negative\n",
      "0: 'these will shrink in the waist and to maybe in length': 2 Neutral\n",
      "0: 'they always have done this and they are supposed to shrink when you wash them': 2 Neutral\n",
      "0: 'easy and quick just what ordered': 3 Positive\n",
      "0: 'who wants to go shopping for pants when the pants can come to you': 2 Neutral\n",
      "0: 'it fits very well': 3 Positive\n",
      "0: 'good material and nice price': 3 Positive\n",
      "0: 'this is my third levis trousers and is the best of them': 3 Positive\n",
      "0: 'recommended this trousers': 2 Neutral\n",
      "0: 'good purchase': 3 Positive\n",
      "0: 'ever since levis moved their operation overseas different jeans fit differently and you have to try every pair on': 2 Neutral\n",
      "0: 'also': 2 Neutral\n",
      "0: 'one of the button holes on one pair does not go all the way through and theyre hard to button': 1 Negative\n",
      "0: 'levis need to come home': 2 Neutral\n",
      "0: 'not big deal but the blue green rigid style is actually the shrink to fit jean': 1 Negative\n",
      "0: 'so youd need to order them larger size': 2 Neutral\n",
      "0: 'there are most likely other colors that are also shrink to fit': 2 Neutral\n",
      "0: 'levis button _ fly are my favorite style of jean': 3 Positive\n",
      "0: 'perfect fit and quality designer price': 3 Positive\n",
      "0: 'can never have enough jeans to stay ahead of the laundry curve': 2 Neutral\n",
      "0: 'just as ordered and in perfect shape': 3 Positive\n",
      "0: 'great price if you order pair': 3 Positive\n",
      "0: 'ordered two pairs': 2 Neutral\n",
      "0: 'white and one of the coated blue colors': 2 Neutral\n",
      "0: 'they fit perfect just order your usual jeans size': 3 Positive\n",
      "0: 'they look superb': 3 Positive\n",
      "0: 'for the money these are the best': 3 Positive\n",
      "0: 'is the only jeans like from levis': 1 Negative\n",
      "0: 'my last pair is till like the day ordered it months ago and wear quite often': 3 Positive\n",
      "0: 'always buy this type of jeans so dont need to try them on see the color etc': 1 Negative\n",
      "0: 'price was right delivery was prompt this is good way to buy items like this': 3 Positive\n",
      "0: 'it has been years or so since have purchased new jeans': 2 Neutral\n",
      "0: 'they were just not in my wardrobe and my old one got me through the odd occasion needed them': 1 Negative\n",
      "0: 'had tried on numerous brands sizes etc and came back to these every time': 1 Negative\n",
      "0: 'for me they fit just right sit where like them to and are comfortable out of the package': 1 Negative\n",
      "0: 'if my past experience with these holds will buy couple more pair and then be done again for decade or so': 2 Neutral\n",
      "0: 'bought these jeans for my year old son at his request': 2 Neutral\n",
      "0: 'he was able to ascertain that this was exactly the fit and color that he wanted by looking at the picture and product description': 2 Neutral\n",
      "0: 'nary complaint when they arrived which they did promptly': 2 Neutral\n",
      "0: 'think they look great on him': 2 Neutral\n",
      "0: 'and he is happy with the fit': 3 Positive\n",
      "0: 'sizing and color appear to be true': 2 Neutral\n",
      "0: 'we were both pleased with the purchase of the product as it was represented': 3 Positive\n",
      "0: 'love levi brand and bought some online with amozon and have nothing bad to say': 1 Negative\n",
      "0: 'have been trying to get few pairs of originals which is not the shrink to fit variety that fit me and have found the sizing of originals to be all over the map for jeans that all were labled or': 1 Negative\n",
      "0: 'in varying degrees all all had waists that were bigger than': 1 Negative\n"
     ]
    },
    {
     "ename": "TypeError",
     "evalue": "string indices must be integers",
     "output_type": "error",
     "traceback": [
      "\u001b[0;31m---------------------------------------------------------------------------\u001b[0m",
      "\u001b[0;31mTypeError\u001b[0m                                 Traceback (most recent call last)",
      "\u001b[0;32m<ipython-input-42-6ea299ca054e>\u001b[0m in \u001b[0;36m<module>\u001b[0;34m\u001b[0m\n\u001b[1;32m      8\u001b[0m                                \u001b[0;34m'timeout'\u001b[0m\u001b[0;34m:\u001b[0m \u001b[0;36m1000\u001b[0m\u001b[0;34m,\u001b[0m\u001b[0;34m\u001b[0m\u001b[0;34m\u001b[0m\u001b[0m\n\u001b[1;32m      9\u001b[0m                            })\n\u001b[0;32m---> 10\u001b[0;31m         \u001b[0;32mfor\u001b[0m \u001b[0ms\u001b[0m \u001b[0;32min\u001b[0m \u001b[0mres\u001b[0m\u001b[0;34m[\u001b[0m\u001b[0;34m\"sentences\"\u001b[0m\u001b[0;34m]\u001b[0m\u001b[0;34m:\u001b[0m\u001b[0;34m\u001b[0m\u001b[0;34m\u001b[0m\u001b[0m\n\u001b[0m\u001b[1;32m     11\u001b[0m             print(\"%d: '%s': %s %s\" % (\n\u001b[1;32m     12\u001b[0m                 \u001b[0ms\u001b[0m\u001b[0;34m[\u001b[0m\u001b[0;34m\"index\"\u001b[0m\u001b[0;34m]\u001b[0m\u001b[0;34m,\u001b[0m\u001b[0;34m\u001b[0m\u001b[0;34m\u001b[0m\u001b[0m\n",
      "\u001b[0;31mTypeError\u001b[0m: string indices must be integers"
     ]
    }
   ],
   "source": [
    "s_full =[]\n",
    "for sentence in reviews.comments:\n",
    "    if len(sentence)>0:\n",
    "        res = nlp.annotate(sentence,\n",
    "                           properties={\n",
    "                               'annotators': 'sentiment',\n",
    "                               'outputFormat': 'json',\n",
    "                               'timeout': 1000,\n",
    "                           })\n",
    "        for s in res[\"sentences\"]:\n",
    "            print(\"%d: '%s': %s %s\" % (\n",
    "                s[\"index\"],\n",
    "                \" \".join([t[\"word\"] for t in s[\"tokens\"]]),\n",
    "                s[\"sentimentValue\"], s[\"sentiment\"]))\n",
    "\n",
    "        s1 = str(res[\"sentences\"][0][\"sentiment\"].lower())\n",
    "    else:\n",
    "        s1 = 'none'\n",
    "    s_full.append(s1)"
   ]
  },
  {
   "cell_type": "code",
   "execution_count": 45,
   "metadata": {},
   "outputs": [
    {
     "data": {
      "text/plain": [
       "'CoreNLP request timed out. Your document may be too long.'"
      ]
     },
     "execution_count": 45,
     "metadata": {},
     "output_type": "execute_result"
    }
   ],
   "source": [
    "res"
   ]
  },
  {
   "cell_type": "markdown",
   "metadata": {},
   "source": [
    "## summarization 2"
   ]
  },
  {
   "cell_type": "code",
   "execution_count": 17,
   "metadata": {
    "scrolled": true
   },
   "outputs": [],
   "source": [
    "#!pip install bert-extractive-summarizer"
   ]
  },
  {
   "cell_type": "code",
   "execution_count": 18,
   "metadata": {},
   "outputs": [
    {
     "ename": "ModuleNotFoundError",
     "evalue": "No module named 'summarizer'",
     "output_type": "error",
     "traceback": [
      "\u001b[0;31m---------------------------------------------------------------------------\u001b[0m",
      "\u001b[0;31mModuleNotFoundError\u001b[0m                       Traceback (most recent call last)",
      "\u001b[0;32m<ipython-input-18-ebcc505c0b7d>\u001b[0m in \u001b[0;36m<module>\u001b[0;34m\u001b[0m\n\u001b[0;32m----> 1\u001b[0;31m \u001b[0;32mfrom\u001b[0m \u001b[0msummarizer\u001b[0m \u001b[0;32mimport\u001b[0m \u001b[0mSummarizer\u001b[0m\u001b[0;34m\u001b[0m\u001b[0;34m\u001b[0m\u001b[0m\n\u001b[0m",
      "\u001b[0;31mModuleNotFoundError\u001b[0m: No module named 'summarizer'"
     ]
    }
   ],
   "source": [
    "from summarizer import Summarizer\n"
   ]
  },
  {
   "cell_type": "code",
   "execution_count": 7,
   "metadata": {
    "scrolled": true
   },
   "outputs": [
    {
     "name": "stdout",
     "output_type": "stream",
     "text": [
      "\n"
     ]
    }
   ],
   "source": [
    "body2 = sentence\n",
    "model = Summarizer()\n",
    "result = model(body2)#, min_length=60)\n",
    "full = ''.join(result)\n",
    "print(full)"
   ]
  },
  {
   "cell_type": "code",
   "execution_count": 9,
   "metadata": {},
   "outputs": [
    {
     "data": {
      "text/plain": [
       "''"
      ]
     },
     "execution_count": 9,
     "metadata": {},
     "output_type": "execute_result"
    }
   ],
   "source": [
    "result"
   ]
  },
  {
   "cell_type": "markdown",
   "metadata": {},
   "source": [
    "# full code"
   ]
  },
  {
   "cell_type": "code",
   "execution_count": 171,
   "metadata": {
    "scrolled": true
   },
   "outputs": [
    {
     "name": "stdout",
     "output_type": "stream",
     "text": [
      "2005\n",
      "4783\n"
     ]
    },
    {
     "name": "stderr",
     "output_type": "stream",
     "text": [
      "100%|██████████| 183/183 [00:00<00:00, 9320.56it/s]\n",
      "100%|██████████| 183/183 [00:00<00:00, 9629.98it/s]\n",
      "100%|██████████| 1403/1403 [00:00<00:00, 6654.43it/s]\n",
      "100%|██████████| 1403/1403 [00:16<00:00, 86.80it/s]\n",
      "100%|██████████| 1403/1403 [00:23<00:00, 58.93it/s]"
     ]
    },
    {
     "name": "stdout",
     "output_type": "stream",
     "text": [
      "-I- Total time =  0:00:41.262293\n"
     ]
    },
    {
     "name": "stderr",
     "output_type": "stream",
     "text": [
      "\n"
     ]
    }
   ],
   "source": [
    "import nltk\n",
    "import pandas as pd\n",
    "import numpy as np\n",
    "import re\n",
    "import spacy\n",
    "import gensim\n",
    "import matplotlib.pyplot as plt\n",
    "import seaborn as sns\n",
    "\n",
    "from spacy.lang.en import English\n",
    "from spacy.lang.en.stop_words import STOP_WORDS\n",
    "from tqdm import tqdm\n",
    "import nltk.data\n",
    "import string\n",
    "from datetime import datetime\n",
    "import sys\n",
    "\n",
    "sys.path.insert(0,'./../CRM_bokeh_app/scripts')\n",
    "import sentimental_analysis\n",
    "\n",
    "init_time = datetime.now()\n",
    "%matplotlib inline\n",
    "nlp = spacy.load('en')\n",
    "tokenizer = nltk.data.load('tokenizers/punkt/english.pickle')\n",
    "\n",
    "\n",
    "def spacy_tokenizer(sentence):\n",
    "    mytokens = parser(sentence)\n",
    "    mytokens = [ word.lemma_.lower().strip() if word.lemma_ != \"-PRON-\" else word.lower_ for word in mytokens ]\n",
    "    mytokens = [ word for word in mytokens if word not in stopwords and word not in punctuations ]\n",
    "    mytokens = \" \".join([i for i in mytokens])\n",
    "    return mytokens\n",
    "\n",
    "def sentence_finder(reviews,limit1,limit2):\n",
    "    \n",
    "    full_comments = []\n",
    "    full_title = []\n",
    "    full_id = []\n",
    "    for i in tqdm(range(limit1,limit2)):\n",
    "        c = reviews.comments.iloc[i]\n",
    "        c = tokenizer.tokenize(c)#c.split('.')\n",
    "        full_comments = full_comments+c\n",
    "        t1 = reviews.title.iloc[i]\n",
    "        t = [t1 for j in range(len(c))]\n",
    "        full_title = full_title+t\n",
    "        id1 = reviews.id.iloc[i]\n",
    "        id2 = [id1 for j in range(len(c))]\n",
    "        full_id = full_id+id2\n",
    "        \n",
    "    return full_comments,full_title,full_id\n",
    "\n",
    "def noun_finder(text):\n",
    "    doc = nlp(text)\n",
    "    all_nouns = []\n",
    "    for i,token in enumerate(doc):\n",
    "        if token.pos_ in ('NOUN','PROPN'):\n",
    "            all_nouns.append(token)\n",
    "    return all_nouns\n",
    "\n",
    "def sent_to_words(sentences):\n",
    "    for sentence in sentences:\n",
    "        yield(gensim.utils.simple_preprocess(str(sentence), deacc=True))  # deacc=True removes punctuations\n",
    "\n",
    "# Parser for reviews\n",
    "parser = English()  \n",
    "\n",
    "## reading the +ve and -ve sentiment words\n",
    "positive = open('/home/gpu1/work_space/disk3_work_space3/CRM_Topic_models/input/positive-words.txt')\n",
    "positive = positive.readlines()\n",
    "positive = positive[31:]\n",
    "print(len(positive))\n",
    "\n",
    "negative = open('/home/gpu1/work_space/disk3_work_space3/CRM_Topic_models/input/negative-words.txt',encoding='utf8',errors='ignore')\n",
    "negative = negative.readlines()\n",
    "negative = negative[31:]\n",
    "\n",
    "def replace_newline(text): return text.replace('\\n','')\n",
    "\n",
    "positive = list(pd.Series(positive).apply(replace_newline))\n",
    "negative = list(pd.Series(negative).apply(replace_newline))\n",
    "\n",
    "print(len(negative))\n",
    "\n",
    "## panctuation and stopwords declaration\n",
    "punctuations = string.punctuation\n",
    "stopwords = list(STOP_WORDS)\n",
    "stopwords = pd.Series(stopwords)\n",
    "stopwords = list(stopwords[(~stopwords.isin(positive)) & (~stopwords.isin(negative))])\n",
    "\n",
    "## Reading the reviews dataset\n",
    "reviews = pd.read_csv('/home/gpu1/work_space/disk3_work_space3/CRM_Topic_models/input/amazon_cloth_shoe_watches_reviews_with_title.csv')\n",
    "reviews = reviews[['rating','comments','title']]\n",
    "reviews['comments'] = reviews.comments.astype('str')\n",
    "reviews['title'] = reviews.title.astype('str')\n",
    "\n",
    "def \n",
    "\n",
    "# reviews = reviews[reviews.title==\"Converse Unisex Chuck Taylor Classic Colors Sneaker\"]\n",
    "title = \"Household Essentials Hanging Cosmetic and Grooming Travel Bag, Black\"\n",
    "reviews = reviews[reviews.title==title]\n",
    "reviews = reviews.drop_duplicates()\n",
    "reviews['id'] = range(len(reviews))\n",
    "\n",
    "## sentence making\n",
    "full_comments = []\n",
    "full_title = []\n",
    "l1 = int(len(reviews)/2)\n",
    "c1,t1,id1 = sentence_finder(reviews,0,l1)\n",
    "c2,t2,id2 = sentence_finder(reviews,l1,len(reviews))\n",
    "full_comments = c1+c2\n",
    "full_title = t1+t2\n",
    "full_id    = id1+id2\n",
    "\n",
    "reviews_old = reviews[['id','comments']]\n",
    "reviews_old.columns = ['id','comments_full']\n",
    "\n",
    "def stripper(s): return s.strip()\n",
    "\n",
    "reviews = pd.DataFrame()\n",
    "reviews['comments'] = full_comments\n",
    "reviews['comments'] = reviews['comments'].apply(stripper)\n",
    "reviews['title'] = full_title\n",
    "reviews['id'] = full_id\n",
    "reviews = reviews[reviews.comments!='']\n",
    "reviews = reviews.drop_duplicates(subset=['comments'])\n",
    "reviews = reviews.merge(reviews_old,on='id',how='left')\n",
    "\n",
    "title_words = spacy_tokenizer(reviews.title.iloc[0].replace(\"'\",\"\")).split()\n",
    "def title_word_remover(s):\n",
    "    for t in title_words:\n",
    "        s = s.replace(t,'')\n",
    "    return s\n",
    "\n",
    "## For finding bigrams\n",
    "data = reviews.comments.values.tolist()\n",
    "# Remove Emails\n",
    "data = [re.sub('\\S*@\\S*\\s?', '', sent) for sent in data]\n",
    "# Remove new line characters\n",
    "data = [re.sub('\\s+', ' ', sent) for sent in data]\n",
    "# Remove distracting single quotes\n",
    "data = [re.sub(\"\\'\", \"\", sent) for sent in data]\n",
    "data_words = list(sent_to_words(data))\n",
    "\n",
    "# Build the bigram and trigram models\n",
    "bigram = gensim.models.Phrases(data_words, min_count=4, threshold=50) # higher threshold fewer phrases.\n",
    "# trigram = gensim.models.Phrases(bigram[data_words], threshold=50)  \n",
    "# Faster way to get a sentence clubbed as a trigram/bigram\n",
    "bigram_mod = gensim.models.phrases.Phraser(bigram)\n",
    "# trigram_mod = gensim.models.phrases.Phraser(trigram)\n",
    "data_words1 = [' '.join(bigram_mod[d]) for d in data_words]\n",
    "reviews['comments'] = data_words1\n",
    "\n",
    "## steming lemmetising and stop word removal\n",
    "reviews['cleaned_comments'] = reviews.comments.apply(spacy_tokenizer)\n",
    "\n",
    "## sentiment finding\n",
    "senti = sentimental_analysis.find_sentiment(reviews)\n",
    "reviews['sentiment_pred'] = senti\n",
    "\n",
    "## finding all nouns in the full reviews\n",
    "all_nouns = []\n",
    "for i in tqdm(range(len(reviews))):\n",
    "    all_nouns = all_nouns+noun_finder(reviews.cleaned_comments.iloc[i])\n",
    "    \n",
    "## Nouns and their count with weight\n",
    "noun_df = pd.DataFrame(pd.Series(all_nouns).astype('str').value_counts().reset_index())\n",
    "noun_df.columns = ['noun','count']\n",
    "noun_df['weight'] = 0\n",
    "noun_df.head()\n",
    "\n",
    "# def bigram_weight_update(token):\n",
    "#     weight = 0\n",
    "#     bi_words = str(token).split('_')\n",
    "#     if(len(bi_words)==2):\n",
    "        \n",
    "\n",
    "## finding the weight and updating it in df\n",
    "for text in tqdm(reviews.cleaned_comments):\n",
    "    doc = nlp(text)\n",
    "    noun_adj_pairs = []\n",
    "    \n",
    "    for i,token in enumerate(doc):\n",
    "        bi_words = str(token).split('_')\n",
    "        if ((token.pos_ not in ('ADJ')) & (len(bi_words)==1)):\n",
    "            continue\n",
    "        if ((len(bi_words)==2)):\n",
    "            if((nlp(bi_words[0])[0].pos_=='ADJ')& (nlp(bi_words[1])[0].pos_ in ('NOUN','PROPN')) & (~pd.Series(bi_words[1]).isin(title_words)[0]) ):\n",
    "                noun_adj_pairs.append((bi_words[0],bi_words[1]))\n",
    "                try:\n",
    "                    noun_df.loc[noun_df.noun==str(bi_words[1]),'weight'] = noun_df.loc[noun_df.noun==str(bi_words[1]),'weight'].iloc[0]+1\n",
    "                except:\n",
    "                    noun_df = noun_df.append(pd.DataFrame({'noun':[bi_words[1]],'count':[1],'weight':[1]},index=[len(noun_df)]))\n",
    "            elif((nlp(bi_words[0])[0].pos_ in ('NOUN','PROPN')) & (nlp(bi_words[1])[0].pos_ in ('NOUN','PROPN')) & (~pd.Series(bi_words[0]).isin(title_words)[0]) & (~pd.Series(bi_words[1]).isin(title_words)[0]) ):\n",
    "#             elif((nlp(bi_words[0])[0].pos_ in ('NOUN','PROPN')) & (nlp(bi_words[1])[0].pos_ in ('NOUN','PROPN'))):\n",
    "                noun_df.loc[noun_df.noun==str(token),'weight'] = noun_df.loc[noun_df.noun==str(token),'weight'].iloc[0]+1\n",
    "            continue\n",
    "            \n",
    "        if((pd.Series([str(token)]).isin(positive)[0]) | (pd.Series([str(token)]).isin(negative)[0])):\n",
    "            for j in range(i+1,min(i+6,len(doc))):\n",
    "#                 if (doc[j].pos_ in ('NOUN','PROPN')):\n",
    "                if ((doc[j].pos_ in ('NOUN','PROPN')) & (len(str(doc[j]).split('_'))!=2)):\n",
    "                    noun_adj_pairs.append((token,doc[j]))\n",
    "                    noun_df.loc[noun_df.noun==str(doc[j]),'weight'] = noun_df.loc[noun_df.noun==str(doc[j]),'weight'].iloc[0]+1\n",
    "                    break\n",
    "\n",
    "## removing words from noun which is in title to find top topics ( topic nouns ) \n",
    "noun_df = noun_df[~noun_df.noun.isin(spacy_tokenizer(reviews.title.iloc[0].replace(\"'\",\"\")).split())]\n",
    "noun_df = noun_df.sort_values(by='weight',ascending=False)\n",
    "\n",
    "final_time = datetime.now()\n",
    "\n",
    "## finding the presence of topic\n",
    "def topic_presence(s,item):\n",
    "    return s.find(item)\n",
    "    \n",
    "# item = 'price'\n",
    "# reviews['item_presence'] = reviews.apply(lambda row:topic_presence(row['cleaned_comments'],item),axis=1 )\n",
    "\n",
    "print('-I- Total time = ',str(final_time-init_time))"
   ]
  },
  {
   "cell_type": "code",
   "execution_count": 57,
   "metadata": {},
   "outputs": [
    {
     "data": {
      "text/plain": [
       "positive    3620\n",
       "neutral     1973\n",
       "negative    1078\n",
       "Name: sentiment_pred, dtype: int64"
      ]
     },
     "execution_count": 57,
     "metadata": {},
     "output_type": "execute_result"
    }
   ],
   "source": [
    "reviews.sentiment_pred.value_counts().transpose()"
   ]
  },
  {
   "cell_type": "markdown",
   "metadata": {},
   "source": [
    "# Other"
   ]
  },
  {
   "cell_type": "code",
   "execution_count": 27,
   "metadata": {},
   "outputs": [
    {
     "name": "stderr",
     "output_type": "stream",
     "text": [
      "[nltk_data] Downloading package stopwords to /home/gpu1/nltk_data...\n",
      "[nltk_data]   Package stopwords is already up-to-date!\n"
     ]
    }
   ],
   "source": [
    "import nltk\n",
    "from nltk import FreqDist\n",
    "nltk.download('stopwords') # run this one time\n",
    "\n",
    "import pandas as pd\n",
    "pd.set_option(\"display.max_colwidth\", 200)\n",
    "import numpy as np\n",
    "import re\n",
    "import spacy\n",
    "\n",
    "import gensim\n",
    "from gensim import corpora\n",
    "\n",
    "# libraries for visualization\n",
    "import pyLDAvis\n",
    "import pyLDAvis.gensim\n",
    "import matplotlib.pyplot as plt\n",
    "import seaborn as sns\n",
    "%matplotlib inline"
   ]
  },
  {
   "cell_type": "code",
   "execution_count": 152,
   "metadata": {},
   "outputs": [
    {
     "data": {
      "text/html": [
       "<div>\n",
       "<style scoped>\n",
       "    .dataframe tbody tr th:only-of-type {\n",
       "        vertical-align: middle;\n",
       "    }\n",
       "\n",
       "    .dataframe tbody tr th {\n",
       "        vertical-align: top;\n",
       "    }\n",
       "\n",
       "    .dataframe thead th {\n",
       "        text-align: right;\n",
       "    }\n",
       "</style>\n",
       "<table border=\"1\" class=\"dataframe\">\n",
       "  <thead>\n",
       "    <tr style=\"text-align: right;\">\n",
       "      <th></th>\n",
       "      <th>rating</th>\n",
       "      <th>comments</th>\n",
       "      <th>title</th>\n",
       "      <th>id</th>\n",
       "    </tr>\n",
       "  </thead>\n",
       "  <tbody>\n",
       "    <tr>\n",
       "      <th>28928</th>\n",
       "      <td>1.0</td>\n",
       "      <td>I have no idea what these are but they are not the 501s I grew up with and love.  I hate them and am sending them back.</td>\n",
       "      <td>Levi's Men's 501 Original Fit Jean</td>\n",
       "      <td>0</td>\n",
       "    </tr>\n",
       "    <tr>\n",
       "      <th>28929</th>\n",
       "      <td>4.0</td>\n",
       "      <td>Brown 501 is hard to find at your local store. So, I guess That's the reason why it is pricier than the blue version 501.</td>\n",
       "      <td>Levi's Men's 501 Original Fit Jean</td>\n",
       "      <td>1</td>\n",
       "    </tr>\n",
       "    <tr>\n",
       "      <th>28930</th>\n",
       "      <td>1.0</td>\n",
       "      <td>I bought these jeans and 2 others for my husband, he already had a brand new pair that was a gift from his brother.he loved the way they fit so I decided to but him more.well I got him the same ex...</td>\n",
       "      <td>Levi's Men's 501 Original Fit Jean</td>\n",
       "      <td>2</td>\n",
       "    </tr>\n",
       "    <tr>\n",
       "      <th>28931</th>\n",
       "      <td>3.0</td>\n",
       "      <td>Pant size and material were as expected. Pant color was not what I expected! Better up close pictures and angles would have been a bigger help. Shipping speed and condition of product was satifing.</td>\n",
       "      <td>Levi's Men's 501 Original Fit Jean</td>\n",
       "      <td>3</td>\n",
       "    </tr>\n",
       "    <tr>\n",
       "      <th>28932</th>\n",
       "      <td>5.0</td>\n",
       "      <td>Older reviews (2009 ish) were right, 501s were bad. Thin and destructible.  I avoided Levi like the plague for the last 4 or 5 years.But I just got a new job where I can wear jeans to work again, ...</td>\n",
       "      <td>Levi's Men's 501 Original Fit Jean</td>\n",
       "      <td>4</td>\n",
       "    </tr>\n",
       "  </tbody>\n",
       "</table>\n",
       "</div>"
      ],
      "text/plain": [
       "       rating  \\\n",
       "28928     1.0   \n",
       "28929     4.0   \n",
       "28930     1.0   \n",
       "28931     3.0   \n",
       "28932     5.0   \n",
       "\n",
       "                                                                                                                                                                                                      comments  \\\n",
       "28928                                                                                  I have no idea what these are but they are not the 501s I grew up with and love.  I hate them and am sending them back.   \n",
       "28929                                                                                Brown 501 is hard to find at your local store. So, I guess That's the reason why it is pricier than the blue version 501.   \n",
       "28930  I bought these jeans and 2 others for my husband, he already had a brand new pair that was a gift from his brother.he loved the way they fit so I decided to but him more.well I got him the same ex...   \n",
       "28931    Pant size and material were as expected. Pant color was not what I expected! Better up close pictures and angles would have been a bigger help. Shipping speed and condition of product was satifing.   \n",
       "28932  Older reviews (2009 ish) were right, 501s were bad. Thin and destructible.  I avoided Levi like the plague for the last 4 or 5 years.But I just got a new job where I can wear jeans to work again, ...   \n",
       "\n",
       "                                    title  id  \n",
       "28928  Levi's Men's 501 Original Fit Jean   0  \n",
       "28929  Levi's Men's 501 Original Fit Jean   1  \n",
       "28930  Levi's Men's 501 Original Fit Jean   2  \n",
       "28931  Levi's Men's 501 Original Fit Jean   3  \n",
       "28932  Levi's Men's 501 Original Fit Jean   4  "
      ]
     },
     "execution_count": 152,
     "metadata": {},
     "output_type": "execute_result"
    }
   ],
   "source": [
    "reviews = pd.read_csv('/home/gpu1/work_space/disk3_work_space3/CRM_Topic_models/input/amazon_cloth_shoe_watches_reviews_with_title.csv')\n",
    "reviews = reviews[['rating','comments','title']]\n",
    "reviews['comments'] = reviews.comments.astype('str')\n",
    "reviews['title'] = reviews.title.astype('str')\n",
    "\n",
    "# reviews = reviews[reviews.title==\"Converse Unisex Chuck Taylor Classic Colors Sneaker\"]\n",
    "reviews = reviews[reviews.title==\"Levi's Men's 501 Original Fit Jean\"]\n",
    "reviews = reviews.drop_duplicates()\n",
    "reviews['id'] = range(len(reviews))\n",
    "\n",
    "# reviews['title']=''\n",
    "reviews.head()"
   ]
  },
  {
   "cell_type": "code",
   "execution_count": 6,
   "metadata": {},
   "outputs": [
    {
     "data": {
      "text/plain": [
       "(2105, 3)"
      ]
     },
     "execution_count": 6,
     "metadata": {},
     "output_type": "execute_result"
    }
   ],
   "source": [
    "reviews.shape"
   ]
  },
  {
   "cell_type": "code",
   "execution_count": 7,
   "metadata": {},
   "outputs": [],
   "source": [
    "# reviews = pd.read_excel('../data/Bag_Reviews.xlsx')\n",
    "# reviews = reviews[['comments','rating']]\n",
    "# reviews = reviews.drop_duplicates()\n",
    "# reviews.shape"
   ]
  },
  {
   "cell_type": "code",
   "execution_count": 8,
   "metadata": {},
   "outputs": [
    {
     "data": {
      "text/plain": [
       "\"Brown 501 is hard to find at your local store. So, I guess That's the reason why it is pricier than the blue version 501.\""
      ]
     },
     "execution_count": 8,
     "metadata": {},
     "output_type": "execute_result"
    }
   ],
   "source": [
    "reviews.comments.iloc[1]"
   ]
  },
  {
   "cell_type": "code",
   "execution_count": 9,
   "metadata": {},
   "outputs": [],
   "source": [
    "# function to plot most frequent terms\n",
    "def freq_words(x, terms = 30):\n",
    "\n",
    "    all_words = ' '.join([text for text in x])\n",
    "    all_words = all_words.split()\n",
    "\n",
    "    fdist = FreqDist(all_words)\n",
    "    words_df = pd.DataFrame({'word':list(fdist.keys()), 'count':list(fdist.values())})\n",
    "\n",
    "    # selecting top 20 most frequent words\n",
    "    d = words_df.nlargest(columns=\"count\", n = terms) \n",
    "    plt.figure(figsize=(20,5))\n",
    "    ax = sns.barplot(data=d, x= \"word\", y = \"count\")\n",
    "    ax.set(ylabel = 'Count')\n",
    "    plt.show()"
   ]
  },
  {
   "cell_type": "code",
   "execution_count": 10,
   "metadata": {},
   "outputs": [
    {
     "data": {
      "image/png": "[encoded data removed]",
      "text/plain": [
       "<Figure size 1440x360 with 1 Axes>"
      ]
     },
     "metadata": {
      "needs_background": "light"
     },
     "output_type": "display_data"
    }
   ],
   "source": [
    "freq_words(reviews['comments'])"
   ]
  },
  {
   "cell_type": "code",
   "execution_count": 11,
   "metadata": {},
   "outputs": [],
   "source": [
    "# remove unwanted characters, numbers and symbols\n",
    "reviews['comments'] = reviews['comments'].str.replace(\"[^a-zA-Z#]\", \" \")\n",
    "from nltk.corpus import stopwords\n",
    "import string\n",
    "stop_words = stopwords.words('english')\n",
    "from spacy.lang.en.stop_words import STOP_WORDS\n",
    "\n",
    "punctuations = string.punctuation\n",
    "stopwords = list(STOP_WORDS)"
   ]
  },
  {
   "cell_type": "code",
   "execution_count": 12,
   "metadata": {},
   "outputs": [],
   "source": [
    "# function to remove stopwords\n",
    "def remove_stopwords(rev):\n",
    "    rev_new = \" \".join([i for i in rev if i not in stop_words])\n",
    "    return rev_new\n",
    "\n",
    "# remove short words (length < 3)\n",
    "reviews['comments'] = reviews['comments'].apply(lambda x: ' '.join([w for w in x.split() if len(w)>2]))\n",
    "\n",
    "# remove stopwords from the text\n",
    "reviews1 = [remove_stopwords(r.split()) for r in reviews['comments']]\n",
    "\n",
    "# make entire text lowercase\n",
    "reviews1 = [r.lower() for r in reviews1]"
   ]
  },
  {
   "cell_type": "code",
   "execution_count": 13,
   "metadata": {},
   "outputs": [
    {
     "data": {
      "image/png": "[encoded data removed]",
      "text/plain": [
       "<Figure size 1440x360 with 1 Axes>"
      ]
     },
     "metadata": {
      "needs_background": "light"
     },
     "output_type": "display_data"
    }
   ],
   "source": [
    "freq_words(reviews1, 35)"
   ]
  },
  {
   "cell_type": "code",
   "execution_count": 14,
   "metadata": {},
   "outputs": [
    {
     "name": "stderr",
     "output_type": "stream",
     "text": [
      "/home/gpu1/anaconda3/envs/fastaipy372/lib/python3.7/site-packages/msgpack_numpy.py:184: DeprecationWarning: encoding is deprecated, Use raw=False instead.\n",
      "  return _unpackb(packed, **kwargs)\n",
      "/home/gpu1/anaconda3/envs/fastaipy372/lib/python3.7/site-packages/msgpack_numpy.py:184: DeprecationWarning: encoding is deprecated, Use raw=False instead.\n",
      "  return _unpackb(packed, **kwargs)\n"
     ]
    }
   ],
   "source": [
    "nlp = spacy.load('en', disable=['parser', 'ner'])\n",
    "\n",
    "def lemmatization(texts, tags=['NOUN', 'ADJ']): # filter noun and adjective\n",
    "    output = []\n",
    "    for sent in texts:\n",
    "        doc = nlp(\" \".join(sent)) \n",
    "        output.append([token.lemma_ for token in doc if token.pos_ in tags])\n",
    "    return output"
   ]
  },
  {
   "cell_type": "code",
   "execution_count": 15,
   "metadata": {},
   "outputs": [
    {
     "name": "stdout",
     "output_type": "stream",
     "text": [
      "['idea', 'grew', 'love', 'hate', 'sending', 'back']\n"
     ]
    }
   ],
   "source": [
    "tokenized_reviews = pd.Series(reviews1).apply(lambda x: x.split())\n",
    "print(tokenized_reviews[0])\n"
   ]
  },
  {
   "cell_type": "code",
   "execution_count": 16,
   "metadata": {},
   "outputs": [
    {
     "name": "stdout",
     "output_type": "stream",
     "text": [
      "['idea', 'love', 'hate']\n"
     ]
    }
   ],
   "source": [
    "reviews_2 = lemmatization(tokenized_reviews)\n",
    "print(reviews_2[0]) # print lemmatized review"
   ]
  },
  {
   "cell_type": "code",
   "execution_count": 17,
   "metadata": {},
   "outputs": [
    {
     "data": {
      "image/png": "[encoded data removed]",
      "text/plain": [
       "<Figure size 1440x360 with 1 Axes>"
      ]
     },
     "metadata": {
      "needs_background": "light"
     },
     "output_type": "display_data"
    }
   ],
   "source": [
    "reviews_3 = []\n",
    "for i in range(len(reviews_2)):\n",
    "    reviews_3.append(' '.join(reviews_2[i]))\n",
    "\n",
    "reviews['reviews'] = reviews_3\n",
    "\n",
    "freq_words(reviews['reviews'], 35)"
   ]
  },
  {
   "cell_type": "code",
   "execution_count": 18,
   "metadata": {},
   "outputs": [
    {
     "data": {
      "text/plain": [
       "['idea', 'love', 'hate']"
      ]
     },
     "execution_count": 18,
     "metadata": {},
     "output_type": "execute_result"
    }
   ],
   "source": [
    "reviews_2[0]"
   ]
  },
  {
   "cell_type": "markdown",
   "metadata": {},
   "source": [
    "## LDA model starts"
   ]
  },
  {
   "cell_type": "code",
   "execution_count": 19,
   "metadata": {},
   "outputs": [],
   "source": [
    "dictionary = corpora.Dictionary(reviews_2)\n",
    "doc_term_matrix = [dictionary.doc2bow(rev) for rev in reviews_2]\n"
   ]
  },
  {
   "cell_type": "code",
   "execution_count": 20,
   "metadata": {},
   "outputs": [],
   "source": [
    "# lda_model = LDA(corpus=doc_term_matrix, id2word=dictionary, num_topics=4, random_state=100,gamma_threshold=0.01,\\\n",
    "#                       minimum_probability=0.001,minimum_phi_value=0.01,chunksize=1000, passes=50,iterations=50,decay=.5,)\\\n",
    "#                       #eta=[0.01]*len(dictionary.keys()))"
   ]
  },
  {
   "cell_type": "code",
   "execution_count": 21,
   "metadata": {},
   "outputs": [
    {
     "name": "stdout",
     "output_type": "stream",
     "text": [
      "CPU times: user 13.9 s, sys: 0 ns, total: 13.9 s\n",
      "Wall time: 13.9 s\n"
     ]
    }
   ],
   "source": [
    "doc_term_matrix = doc_term_matrix\n",
    "# Creating the object for LDA model using gensim library\n",
    "LDA = gensim.models.ldamodel.LdaModel\n",
    "\n",
    "# Build LDA model\n",
    "%time lda_model = LDA(corpus=doc_term_matrix, id2word=dictionary, num_topics=4, random_state=100,gamma_threshold=0.01,\\\n",
    "                      minimum_probability=0.001,minimum_phi_value=0.001,chunksize=1000, passes=50,iterations=50,decay=.5,)\\\n",
    "                      #eta=[.0001]*len(dictionary.keys()))"
   ]
  },
  {
   "cell_type": "code",
   "execution_count": 22,
   "metadata": {},
   "outputs": [
    {
     "data": {
      "text/plain": [
       "[(0,\n",
       "  '0.050*\"levi\" + 0.050*\"jean\" + 0.038*\"good\" + 0.035*\"quality\" + 0.026*\"product\" + 0.022*\"year\" + 0.018*\"button\" + 0.016*\"amazon\" + 0.015*\"pair\" + 0.013*\"material\"'),\n",
       " (1,\n",
       "  '0.044*\"jean\" + 0.036*\"pair\" + 0.028*\"levi\" + 0.016*\"year\" + 0.015*\"old\" + 0.014*\"fit\" + 0.013*\"waist\" + 0.012*\"big\" + 0.010*\"button\" + 0.009*\"blue\"'),\n",
       " (2,\n",
       "  '0.018*\"producto\" + 0.016*\"calidad\" + 0.015*\"muy\" + 0.014*\"con\" + 0.012*\"son\" + 0.011*\"gusto\" + 0.011*\"buena\" + 0.010*\"este\" + 0.009*\"los\" + 0.009*\"todo\"'),\n",
       " (3,\n",
       "  '0.060*\"fit\" + 0.051*\"jean\" + 0.043*\"size\" + 0.035*\"color\" + 0.027*\"good\" + 0.024*\"great\" + 0.023*\"perfect\" + 0.021*\"time\" + 0.020*\"levi\" + 0.018*\"pair\"')]"
      ]
     },
     "execution_count": 22,
     "metadata": {},
     "output_type": "execute_result"
    }
   ],
   "source": [
    "lda_model.print_topics()"
   ]
  },
  {
   "cell_type": "code",
   "execution_count": 24,
   "metadata": {},
   "outputs": [],
   "source": [
    "def preprocess(text):\n",
    "    text1 = remove_stopwords([text])\n",
    "\n",
    "    # make entire text lowercase\n",
    "    text1 = text1.lower()\n",
    "\n",
    "    tokenized_text = text1.split()\n",
    "    text2 = lemmatization([tokenized_text])\n",
    "    return text2[0]"
   ]
  },
  {
   "cell_type": "code",
   "execution_count": 25,
   "metadata": {},
   "outputs": [
    {
     "data": {
      "text/plain": [
       "[(0, 0.73923737), (1, 0.08729599), (2, 0.08340885), (3, 0.090057775)]"
      ]
     },
     "execution_count": 25,
     "metadata": {},
     "output_type": "execute_result"
    }
   ],
   "source": [
    "text = reviews.comments.iloc[0]\n",
    "text2 = preprocess(text)\n",
    "\n",
    "lda_model[dictionary.doc2bow(text2)]"
   ]
  },
  {
   "cell_type": "code",
   "execution_count": 26,
   "metadata": {},
   "outputs": [
    {
     "name": "stderr",
     "output_type": "stream",
     "text": [
      "/home/gpu1/anaconda3/envs/fastaipy372/lib/python3.7/site-packages/pyLDAvis/_prepare.py:257: FutureWarning: Sorting because non-concatenation axis is not aligned. A future version\n",
      "of pandas will change to not sort by default.\n",
      "\n",
      "To accept the future behavior, pass 'sort=False'.\n",
      "\n",
      "To retain the current behavior and silence the warning, pass 'sort=True'.\n",
      "\n",
      "  return pd.concat([default_term_info] + list(topic_dfs))\n"
     ]
    },
    {
     "data": {
      "text/html": [
       "\n",
       "<link rel=\"stylesheet\" type=\"text/css\" href=\"https://cdn.rawgit.com/bmabey/pyLDAvis/files/ldavis.v1.0.0.css\">\n",
       "\n",
       "\n",
       "<div id=\"ldavis_el286471398196193163849838500616\"></div>\n",
       "<script type=\"text/javascript\">\n",
       "\n",
       "var ldavis_el286471398196193163849838500616_data = {\"mdsDat\": {\"x\": [-0.07415315643791133, -0.12429566302742408, -0.11591242937152739, 0.314361248836863], \"y\": [0.08312362488189957, -0.1773343839563519, 0.10573323410766655, -0.011522475033214045], \"topics\": [1, 2, 3, 4], \"cluster\": [1, 1, 1, 1], \"Freq\": [33.488460540771484, 30.240816116333008, 28.661144256591797, 7.60957670211792]}, \"tinfo\": {\"Category\": [\"Default\", \"Default\", \"Default\", \"Default\", \"Default\", \"Default\", \"Default\", \"Default\", \"Default\", \"Default\", \"Default\", \"Default\", \"Default\", \"Default\", \"Default\", \"Default\", \"Default\", \"Default\", \"Default\", \"Default\", \"Default\", \"Default\", \"Default\", \"Default\", \"Default\", \"Default\", \"Default\", \"Default\", \"Default\", \"Default\", \"Topic1\", \"Topic1\", \"Topic1\", \"Topic1\", \"Topic1\", \"Topic1\", \"Topic1\", \"Topic1\", \"Topic1\", \"Topic1\", \"Topic1\", \"Topic1\", \"Topic1\", \"Topic1\", \"Topic1\", \"Topic1\", \"Topic1\", \"Topic1\", \"Topic1\", \"Topic1\", \"Topic1\", \"Topic1\", \"Topic1\", \"Topic1\", \"Topic1\", \"Topic1\", \"Topic1\", \"Topic1\", \"Topic1\", \"Topic1\", \"Topic1\", \"Topic1\", \"Topic1\", \"Topic1\", \"Topic1\", \"Topic1\", \"Topic1\", \"Topic1\", \"Topic1\", \"Topic1\", \"Topic1\", \"Topic1\", \"Topic1\", \"Topic1\", \"Topic1\", \"Topic1\", \"Topic1\", \"Topic1\", \"Topic1\", \"Topic1\", \"Topic1\", \"Topic1\", \"Topic1\", \"Topic1\", \"Topic1\", \"Topic1\", \"Topic1\", \"Topic2\", \"Topic2\", \"Topic2\", \"Topic2\", \"Topic2\", \"Topic2\", \"Topic2\", \"Topic2\", \"Topic2\", \"Topic2\", \"Topic2\", \"Topic2\", \"Topic2\", \"Topic2\", \"Topic2\", \"Topic2\", \"Topic2\", \"Topic2\", \"Topic2\", \"Topic2\", \"Topic2\", \"Topic2\", \"Topic2\", \"Topic2\", \"Topic2\", \"Topic2\", \"Topic2\", \"Topic2\", \"Topic2\", \"Topic2\", \"Topic2\", \"Topic2\", \"Topic2\", \"Topic2\", \"Topic2\", \"Topic2\", \"Topic2\", \"Topic2\", \"Topic2\", \"Topic2\", \"Topic2\", \"Topic2\", \"Topic2\", \"Topic2\", \"Topic2\", \"Topic2\", \"Topic2\", \"Topic2\", \"Topic2\", \"Topic2\", \"Topic2\", \"Topic2\", \"Topic2\", \"Topic2\", \"Topic2\", \"Topic2\", \"Topic2\", \"Topic2\", \"Topic2\", \"Topic2\", \"Topic3\", \"Topic3\", \"Topic3\", \"Topic3\", \"Topic3\", \"Topic3\", \"Topic3\", \"Topic3\", \"Topic3\", \"Topic3\", \"Topic3\", \"Topic3\", \"Topic3\", \"Topic3\", \"Topic3\", \"Topic3\", \"Topic3\", \"Topic3\", \"Topic3\", \"Topic3\", \"Topic3\", \"Topic3\", \"Topic3\", \"Topic3\", \"Topic3\", \"Topic3\", \"Topic3\", \"Topic3\", \"Topic3\", \"Topic3\", \"Topic3\", \"Topic3\", \"Topic3\", \"Topic3\", \"Topic3\", \"Topic3\", \"Topic3\", \"Topic3\", \"Topic3\", \"Topic3\", \"Topic3\", \"Topic3\", \"Topic3\", \"Topic3\", \"Topic3\", \"Topic3\", \"Topic3\", \"Topic3\", \"Topic3\", \"Topic3\", \"Topic3\", \"Topic3\", \"Topic3\", \"Topic3\", \"Topic3\", \"Topic3\", \"Topic3\", \"Topic3\", \"Topic3\", \"Topic3\", \"Topic3\", \"Topic4\", \"Topic4\", \"Topic4\", \"Topic4\", \"Topic4\", \"Topic4\", \"Topic4\", \"Topic4\", \"Topic4\", \"Topic4\", \"Topic4\", \"Topic4\", \"Topic4\", \"Topic4\", \"Topic4\", \"Topic4\", \"Topic4\", \"Topic4\", \"Topic4\", \"Topic4\", \"Topic4\", \"Topic4\", \"Topic4\", \"Topic4\", \"Topic4\", \"Topic4\", \"Topic4\", \"Topic4\", \"Topic4\", \"Topic4\", \"Topic4\", \"Topic4\", \"Topic4\", \"Topic4\"], \"Freq\": [652.0, 318.0, 210.0, 569.0, 196.0, 403.0, 505.0, 313.0, 328.0, 150.0, 243.0, 111.0, 205.0, 39.0, 194.0, 76.0, 118.0, 184.0, 34.0, 130.0, 179.0, 33.0, 74.0, 865.0, 622.0, 30.0, 72.0, 104.0, 93.0, 305.0, 110.92808532714844, 71.71322631835938, 57.9089469909668, 57.090232849121094, 53.58097839355469, 54.28668212890625, 50.99184036254883, 49.84511947631836, 44.390953063964844, 36.09531784057617, 31.196697235107422, 31.639528274536133, 29.546876907348633, 29.081743240356445, 29.122560501098633, 28.207653045654297, 27.626083374023438, 28.067852020263672, 25.217208862304688, 25.252065658569336, 24.83673095703125, 24.525833129882812, 24.302410125732422, 23.685728073120117, 24.348777770996094, 23.1575870513916, 23.148927688598633, 22.435827255249023, 21.7988224029541, 21.328990936279297, 142.7964630126953, 47.3099479675293, 127.45710754394531, 85.1325912475586, 344.80645751953125, 69.31011199951172, 57.50642776489258, 84.07836151123047, 62.418514251708984, 424.8505554199219, 150.67160034179688, 72.48265838623047, 269.0980224609375, 45.168148040771484, 71.06849670410156, 47.689754486083984, 97.6493911743164, 66.11650085449219, 78.37998962402344, 136.51609802246094, 68.33926391601562, 59.55691909790039, 81.91688537597656, 78.50545501708984, 84.92869567871094, 69.76382446289062, 52.826717376708984, 195.32357788085938, 73.65315246582031, 51.937644958496094, 39.10289764404297, 36.077640533447266, 33.03174591064453, 30.349679946899414, 29.601381301879883, 31.577220916748047, 27.86273765563965, 25.07720375061035, 24.268211364746094, 24.73536491394043, 23.56707763671875, 21.440441131591797, 22.15309715270996, 20.94546890258789, 20.561168670654297, 20.569263458251953, 19.562145233154297, 19.130887985229492, 18.444204330444336, 17.783567428588867, 14.906067848205566, 15.11707592010498, 14.385157585144043, 14.46025276184082, 14.091605186462402, 13.31261157989502, 12.503411293029785, 43.595970153808594, 514.3629760742188, 80.74034881591797, 47.94386672973633, 301.682861328125, 368.5865478515625, 104.20294189453125, 70.8451919555664, 211.37149047851562, 179.79617309570312, 69.81675720214844, 75.97093200683594, 69.9428482055664, 75.26041412353516, 439.7841796875, 235.22445678710938, 144.16770935058594, 66.92391967773438, 72.6458969116211, 91.75657653808594, 154.5767364501953, 65.12532043457031, 175.299560546875, 77.41521453857422, 43.24160385131836, 60.52754211425781, 50.91893768310547, 58.975730895996094, 50.73535919189453, 51.771644592285156, 209.3105010986328, 34.404415130615234, 30.73423194885254, 25.907867431640625, 24.549211502075195, 24.255796432495117, 22.44191551208496, 22.23206901550293, 21.490468978881836, 21.211488723754883, 20.504993438720703, 19.950529098510742, 18.937776565551758, 18.608993530273438, 18.518457412719727, 18.22800636291504, 16.995569229125977, 16.95307159423828, 52.82563400268555, 15.690386772155762, 15.24462604522705, 15.30791187286377, 14.38857364654541, 14.415407180786133, 13.156585693359375, 12.596963882446289, 12.01133918762207, 11.750041961669922, 11.662908554077148, 11.260468482971191, 286.8701477050781, 99.26895141601562, 24.53978157043457, 81.99269104003906, 74.2977066040039, 312.64276123046875, 127.45700073242188, 54.13050079345703, 411.1160888671875, 145.00863647460938, 68.26097869873047, 177.1494903564453, 105.5815658569336, 51.20940017700195, 406.3296813964844, 102.01344299316406, 57.595035552978516, 80.6295394897461, 39.56965637207031, 47.27297592163086, 101.88622283935547, 54.431705474853516, 44.723976135253906, 44.47108459472656, 49.66963577270508, 123.37675476074219, 41.36294174194336, 70.6705093383789, 67.192138671875, 44.730533599853516, 43.221588134765625, 39.10746765136719, 34.19605255126953, 32.932735443115234, 29.517526626586914, 24.651609420776367, 23.754762649536133, 21.82211685180664, 20.4825496673584, 19.51633644104004, 18.510570526123047, 17.691696166992188, 15.204574584960938, 14.7926607131958, 14.311490058898926, 14.164769172668457, 13.826321601867676, 13.753209114074707, 13.645160675048828, 13.160076141357422, 12.940057754516602, 12.640348434448242, 12.493709564208984, 12.267068862915039, 11.71250057220459, 11.712502479553223, 11.223088264465332, 11.000794410705566, 11.000768661499023, 10.854260444641113, 10.480971336364746, 25.822383880615234, 13.759708404541016, 16.999492645263672, 17.610681533813477], \"Term\": [\"fit\", \"quality\", \"product\", \"good\", \"perfect\", \"color\", \"size\", \"great\", \"year\", \"old\", \"button\", \"big\", \"amazon\", \"producto\", \"price\", \"son\", \"brand\", \"material\", \"calidad\", \"nice\", \"waist\", \"muy\", \"shrink\", \"levi\", \"pair\", \"con\", \"lot\", \"thin\", \"husband\", \"time\", \"big\", \"lot\", \"inch\", \"true\", \"pocket\", \"weight\", \"belt\", \"thigh\", \"tag\", \"week\", \"slim\", \"guy\", \"issue\", \"seam\", \"front\", \"penny\", \"red\", \"snug\", \"thread\", \"skinny\", \"baggy\", \"loop\", \"medium\", \"side\", \"fade\", \"name\", \"close\", \"stiff\", \"green\", \"trouser\", \"old\", \"worn\", \"waist\", \"blue\", \"pair\", \"light\", \"bit\", \"leg\", \"style\", \"jean\", \"year\", \"thing\", \"levi\", \"denim\", \"fabric\", \"dark\", \"button\", \"new\", \"material\", \"fit\", \"little\", \"original\", \"time\", \"pant\", \"color\", \"size\", \"last\", \"perfect\", \"shrink\", \"easy\", \"pre\", \"satisfied\", \"available\", \"waste\", \"awesome\", \"correct\", \"service\", \"shrunk\", \"wish\", \"pleased\", \"clothe\", \"ordering\", \"usual\", \"fast\", \"suitable\", \"exact\", \"possible\", \"article\", \"cold\", \"rough\", \"gray\", \"height\", \"boyfriend\", \"dry\", \"package\", \"amazing\", \"surprised\", \"return\", \"fit\", \"husband\", \"large\", \"color\", \"size\", \"nice\", \"buy\", \"great\", \"time\", \"love\", \"different\", \"wash\", \"right\", \"jean\", \"good\", \"pant\", \"comfortable\", \"small\", \"price\", \"pair\", \"one\", \"levi\", \"amazon\", \"line\", \"store\", \"order\", \"little\", \"way\", \"waist\", \"product\", \"hole\", \"friend\", \"less\", \"recommend\", \"value\", \"sale\", \"cotton\", \"sturdy\", \"build\", \"expectation\", \"country\", \"customer\", \"local\", \"com\", \"middle\", \"third\", \"china\", \"mexico\", \"job\", \"crap\", \"complete\", \"usa\", \"option\", \"century\", \"business\", \"reliable\", \"junk\", \"disappointment\", \"construction\", \"quality\", \"brand\", \"difficult\", \"thin\", \"much\", \"good\", \"amazon\", \"many\", \"levi\", \"button\", \"fly\", \"year\", \"material\", \"purchase\", \"jean\", \"price\", \"zipper\", \"store\", \"excellent\", \"bad\", \"great\", \"last\", \"cheap\", \"classic\", \"order\", \"pair\", \"man\", \"pant\", \"size\", \"new\", \"time\", \"producto\", \"calidad\", \"muy\", \"con\", \"gusto\", \"buena\", \"este\", \"los\", \"todo\", \"solo\", \"llego\", \"tela\", \"como\", \"marca\", \"poco\", \"que\", \"tiempo\", \"esta\", \"buen\", \"una\", \"oacute\", \"para\", \"fue\", \"creo\", \"gruesa\", \"venezuela\", \"bueno\", \"gracia\", \"entrega\", \"mejor\", \"son\", \"label\", \"color\", \"jean\"], \"Total\": [652.0, 318.0, 210.0, 569.0, 196.0, 403.0, 505.0, 313.0, 328.0, 150.0, 243.0, 111.0, 205.0, 39.0, 194.0, 76.0, 118.0, 184.0, 34.0, 130.0, 179.0, 33.0, 74.0, 865.0, 622.0, 30.0, 72.0, 104.0, 93.0, 305.0, 111.57083129882812, 72.34791564941406, 58.5521125793457, 57.726844787597656, 54.210391998291016, 54.92594909667969, 51.62567901611328, 50.471961975097656, 45.026634216308594, 36.74131393432617, 31.821941375732422, 32.28001022338867, 30.184490203857422, 29.717161178588867, 29.760581970214844, 28.830854415893555, 28.250064849853516, 28.756994247436523, 25.84288215637207, 25.888914108276367, 25.46761131286621, 25.149721145629883, 24.9383487701416, 24.312397003173828, 25.000438690185547, 23.79265594482422, 23.791019439697266, 23.06240463256836, 22.43097686767578, 21.958786010742188, 150.8345489501953, 55.1373176574707, 179.6460418701172, 111.5311050415039, 622.9474487304688, 92.16918182373047, 74.25042724609375, 127.3332748413086, 86.92166137695312, 1288.5751953125, 328.24072265625, 115.62112426757812, 865.7515258789062, 60.8670654296875, 128.27609252929688, 69.27983093261719, 243.0818328857422, 127.20889282226562, 184.3829803466797, 652.3709716796875, 159.73001098632812, 125.63677215576172, 305.12255859375, 293.5326232910156, 403.8279724121094, 505.7301330566406, 107.67596435546875, 196.00282287597656, 74.3294677734375, 52.613731384277344, 39.77964401245117, 36.75548553466797, 33.743526458740234, 31.032283782958984, 30.27695083618164, 32.3127326965332, 28.541160583496094, 25.747854232788086, 24.951175689697266, 25.43484115600586, 24.242183685302734, 22.108356475830078, 22.862178802490234, 21.617753982543945, 21.225772857666016, 21.272478103637695, 20.244829177856445, 19.80050277709961, 19.131750106811523, 18.471166610717773, 15.575812339782715, 15.800875663757324, 15.049737930297852, 15.138279914855957, 14.777091979980469, 13.982550621032715, 13.178743362426758, 46.9450798034668, 652.3709716796875, 93.91288757324219, 54.608829498291016, 403.8279724121094, 505.7301330566406, 130.81369018554688, 89.29676055908203, 313.72265625, 305.12255859375, 98.94913482666016, 114.44402313232422, 105.98201751708984, 116.84569549560547, 1288.5751953125, 569.5404052734375, 293.5326232910156, 107.26346588134766, 123.51414489746094, 194.22804260253906, 622.9474487304688, 130.1992950439453, 865.7515258789062, 205.34426879882812, 62.894325256347656, 156.1817169189453, 101.30327606201172, 159.73001098632812, 101.78942108154297, 179.6460418701172, 210.00843811035156, 35.091617584228516, 31.413209915161133, 26.611099243164062, 25.231260299682617, 24.945173263549805, 23.143796920776367, 22.933744430541992, 22.18498420715332, 21.89759063720703, 21.186988830566406, 20.64179039001465, 19.6394100189209, 19.301599502563477, 19.219797134399414, 18.92896842956543, 17.67453956604004, 17.673776626586914, 55.15266799926758, 16.38174057006836, 15.922199249267578, 16.004796981811523, 15.0807466506958, 15.122235298156738, 13.832991600036621, 13.28887939453125, 12.705007553100586, 12.452983856201172, 12.36939811706543, 11.949199676513672, 318.14581298828125, 118.19625091552734, 27.412172317504883, 104.73247528076172, 95.52156829833984, 569.5404052734375, 205.34426879882812, 73.9368896484375, 865.7515258789062, 243.0818328857422, 99.53218078613281, 328.24072265625, 184.3829803466797, 75.84672546386719, 1288.5751953125, 194.22804260253906, 90.43679809570312, 156.1817169189453, 58.12515640258789, 81.93053436279297, 313.72265625, 107.67596435546875, 80.11856079101562, 79.48224639892578, 101.30327606201172, 622.9474487304688, 76.61343383789062, 293.5326232910156, 505.7301330566406, 127.20889282226562, 305.12255859375, 39.8036994934082, 34.89207077026367, 33.6287727355957, 30.213905334472656, 25.3475341796875, 24.450742721557617, 22.51812744140625, 21.178592681884766, 20.212270736694336, 19.21259880065918, 18.3876895904541, 15.900501251220703, 15.488790512084961, 15.00748062133789, 14.860930442810059, 14.522480010986328, 14.449155807495117, 14.341090202331543, 13.856072425842285, 13.636226654052734, 13.33626937866211, 13.189698219299316, 12.963044166564941, 12.408431053161621, 12.408432960510254, 11.924211502075195, 11.696792602539062, 11.696798324584961, 11.550224304199219, 11.177014350891113, 76.16836547851562, 29.77444076538086, 403.8279724121094, 1288.5751953125], \"loglift\": [30.0, 29.0, 28.0, 27.0, 26.0, 25.0, 24.0, 23.0, 22.0, 21.0, 20.0, 19.0, 18.0, 17.0, 16.0, 15.0, 14.0, 13.0, 12.0, 11.0, 10.0, 9.0, 8.0, 7.0, 6.0, 5.0, 4.0, 3.0, 2.0, 1.0, 1.0881999731063843, 1.0851999521255493, 1.082900047302246, 1.082900047302246, 1.0822999477386475, 1.0822999477386475, 1.0815999507904053, 1.0815000534057617, 1.079800009727478, 1.076200008392334, 1.0741000175476074, 1.0738999843597412, 1.07260000705719, 1.0723999738693237, 1.0722999572753906, 1.072100043296814, 1.0715999603271484, 1.069700002670288, 1.0694999694824219, 1.069100022315979, 1.0688999891281128, 1.0687999725341797, 1.0680999755859375, 1.0678999423980713, 1.0676000118255615, 1.0669000148773193, 1.06659996509552, 1.0664000511169434, 1.0654000043869019, 1.0649000406265259, 1.039199948310852, 0.9409000277519226, 0.7508000135421753, 0.8238999843597412, 0.5024999976158142, 0.808899998664856, 0.8384000062942505, 0.6789000034332275, 0.7627999782562256, -0.015599999576807022, 0.31529998779296875, 0.6269999742507935, -0.07460000365972519, 0.7957000136375427, 0.5034000277519226, 0.7204999923706055, 0.18199999630451202, 0.43959999084472656, 0.23849999904632568, -0.4702000021934509, 0.24500000476837158, 0.3474999964237213, -0.22100000083446503, -0.2249000072479248, -0.4652000069618225, -0.886900007724762, 0.38190001249313354, 1.1924999952316284, 1.1868000030517578, 1.1829999685287476, 1.1787999868392944, 1.17739999294281, 1.1747000217437744, 1.173699975013733, 1.1734000444412231, 1.1729999780654907, 1.1719000339508057, 1.169600009918213, 1.1682000160217285, 1.1680999994277954, 1.1677000522613525, 1.1653000116348267, 1.1644999980926514, 1.1643999814987183, 1.164199948310852, 1.1624000072479248, 1.1617000102996826, 1.1615999937057495, 1.1593999862670898, 1.1579999923706055, 1.1519999504089355, 1.1517000198364258, 1.1507999897003174, 1.1502000093460083, 1.1484999656677246, 1.1469000577926636, 1.143399953842163, 1.121999979019165, 0.958299994468689, 1.044800043106079, 1.0657999515533447, 0.9043999910354614, 0.8795999884605408, 0.968500018119812, 0.9645000100135803, 0.8011000156402588, 0.6671000123023987, 0.8471999764442444, 0.7861999869346619, 0.7803999781608582, 0.7560999989509583, 0.12099999934434891, 0.3116999864578247, 0.48500001430511475, 0.7242000102996826, 0.6651999950408936, 0.44609999656677246, -0.19779999554157257, 0.5031999945640564, -0.4011000096797943, 0.22050000727176666, 0.8213000297546387, 0.24809999763965607, 0.5080999732017517, 0.1995999962091446, 0.49970000982284546, -0.04820000007748604, 1.2462999820709229, 1.2299000024795532, 1.2278000116348267, 1.2228000164031982, 1.2222000360488892, 1.22160005569458, 1.2187999486923218, 1.2186000347137451, 1.2178000211715698, 1.2178000211715698, 1.2168999910354614, 1.2156000137329102, 1.2131999731063843, 1.2130999565124512, 1.212499976158142, 1.211899995803833, 1.2105000019073486, 1.2079999446868896, 1.2065000534057617, 1.2065000534057617, 1.2060999870300293, 1.2051000595092773, 1.2026000022888184, 1.201799988746643, 1.1994999647140503, 1.1962000131607056, 1.19350004196167, 1.191499948501587, 1.1907999515533447, 1.1902999877929688, 1.1461000442504883, 1.0750999450683594, 1.1389000415802002, 1.0047999620437622, 0.9983999729156494, 0.6499000191688538, 0.7727000117301941, 0.9377999901771545, 0.5048999786376953, 0.7329999804496765, 0.8725000023841858, 0.6328999996185303, 0.6920999884605408, 0.8568000197410583, 0.09549999982118607, 0.6057000160217285, 0.7983999848365784, 0.5885000228881836, 0.8651000261306763, 0.6996999979019165, 0.125, 0.5673999786376953, 0.6665999889373779, 0.6689000129699707, 0.536899983882904, -0.36959999799728394, 0.6331999897956848, -0.17430000007152557, -0.7688000202178955, 0.2045000046491623, -0.7046999931335449, 2.5580999851226807, 2.5555999279022217, 2.554800033569336, 2.5524001121520996, 2.5478999614715576, 2.5469000339508057, 2.5443999767303467, 2.54229998588562, 2.5406999588012695, 2.5385000705718994, 2.5371999740600586, 2.5309998989105225, 2.5297999382019043, 2.5283000469207764, 2.5278000831604004, 2.526599884033203, 2.526400089263916, 2.5260000228881836, 2.524199962615967, 2.523400068283081, 2.522200107574463, 2.5216000080108643, 2.5206000804901123, 2.5179998874664307, 2.5179998874664307, 2.515199899673462, 2.514400005340576, 2.514400005340576, 2.5136001110076904, 2.5114998817443848, 1.4940999746322632, 1.8039000034332275, -0.5920000076293945, -1.7170000076293945], \"logprob\": [30.0, 29.0, 28.0, 27.0, 26.0, 25.0, 24.0, 23.0, 22.0, 21.0, 20.0, 19.0, 18.0, 17.0, 16.0, 15.0, 14.0, 13.0, 12.0, 11.0, 10.0, 9.0, 8.0, 7.0, 6.0, 5.0, 4.0, 3.0, 2.0, 1.0, -4.456399917602539, -4.892600059509277, -5.106400012969971, -5.12060022354126, -5.184100151062012, -5.171000003814697, -5.23360013961792, -5.25629997253418, -5.372200012207031, -5.579100131988525, -5.724999904632568, -5.710899829864502, -5.779300212860107, -5.795199871063232, -5.793799877166748, -5.825699806213379, -5.846499919891357, -5.830599784851074, -5.937699794769287, -5.936399936676025, -5.952899932861328, -5.9654998779296875, -5.974699974060059, -6.000400066375732, -5.972799777984619, -6.022900104522705, -6.0233001708984375, -6.054599761962891, -6.083399772644043, -6.105199813842773, -4.203800201416016, -5.308499813079834, -4.317500114440918, -4.721099853515625, -3.3222999572753906, -4.926700115203857, -5.113399982452393, -4.733500003814697, -5.031400203704834, -3.1135001182556152, -4.150199890136719, -4.881899833679199, -3.570199966430664, -5.354899883270264, -4.901599884033203, -5.300600051879883, -4.583899974822998, -4.973800182342529, -4.803699970245361, -4.248799800872803, -4.940800189971924, -5.0782999992370605, -4.7596001625061035, -4.80210018157959, -4.723499774932861, -4.920199871063232, -5.198299884796143, -3.788599967956543, -4.763899803161621, -5.1132001876831055, -5.39709997177124, -5.47760009765625, -5.565800189971924, -5.6504998207092285, -5.6753997802734375, -5.610799789428711, -5.736000061035156, -5.841300010681152, -5.874100208282471, -5.855000019073486, -5.90339994430542, -5.998000144958496, -5.9653000831604, -6.021299839019775, -6.039899826049805, -6.0395002365112305, -6.089700222015381, -6.111999988555908, -6.148499965667725, -6.184999942779541, -6.361499786376953, -6.347400188446045, -6.39709997177124, -6.391900062561035, -6.417699813842773, -6.4745001792907715, -6.537300109863281, -5.288300037384033, -2.8203001022338867, -4.671999931335449, -5.19320011138916, -3.3538999557495117, -3.153599977493286, -4.416900157928467, -4.802800178527832, -3.7095999717712402, -3.8714001178741455, -4.817399978637695, -4.732900142669678, -4.8155999183654785, -4.742300033569336, -2.9769999980926514, -3.6026999950408936, -4.092299938201904, -4.8597002029418945, -4.777699947357178, -4.544099807739258, -4.022600173950195, -4.886899948120117, -3.8968000411987305, -4.714099884033203, -5.296500205993652, -4.96019983291626, -5.132999897003174, -4.986100196838379, -5.136600017547607, -5.116399765014648, -3.665800094604492, -5.471399784088135, -5.584199905395508, -5.755099773406982, -5.808899879455566, -5.821000099182129, -5.89870023727417, -5.908100128173828, -5.941999912261963, -5.955100059509277, -5.988900184631348, -6.01639986038208, -6.06850004196167, -6.085999965667725, -6.090799808502197, -6.1066999435424805, -6.176700115203857, -6.179200172424316, -5.042600154876709, -6.2565999031066895, -6.285399913787842, -6.281199932098389, -6.343200206756592, -6.341300010681152, -6.432700157165527, -6.476200103759766, -6.523799896240234, -6.54580020904541, -6.553199768066406, -6.5883002281188965, -3.350600004196167, -4.411799907684326, -5.809299945831299, -4.603000164031982, -4.701499938964844, -3.2644999027252197, -4.161799907684326, -5.018199920654297, -2.9907000064849854, -4.032800197601318, -4.786300182342529, -3.8326001167297363, -4.350100040435791, -5.073699951171875, -3.0023999214172363, -4.384500026702881, -4.956200122833252, -4.619699954986572, -5.331500053405762, -5.15369987487793, -4.385799884796143, -5.012700080871582, -5.209099769592285, -5.214799880981445, -5.1041998863220215, -4.194399833679199, -5.287199974060059, -4.7515997886657715, -4.80210018157959, -5.209000110626221, -5.243299961090088, -4.017199993133545, -4.151400089263916, -4.189000129699707, -4.298500061035156, -4.478600025177002, -4.515699863433838, -4.600599765777588, -4.663899898529053, -4.712200164794922, -4.765100002288818, -4.810400009155273, -4.961900234222412, -4.989299774169922, -5.02239990234375, -5.032700061798096, -5.0569000244140625, -5.06220006942749, -5.070099830627441, -5.106299877166748, -5.1230998039245605, -5.146599769592285, -5.158199787139893, -5.176599979400635, -5.222799777984619, -5.222799777984619, -5.265500068664551, -5.2855000495910645, -5.2855000495910645, -5.298900127410889, -5.333899974822998, -4.432199954986572, -5.061699867248535, -4.850299835205078, -4.815000057220459]}, \"token.table\": {\"Topic\": [2, 2, 3, 2, 2, 2, 1, 3, 1, 1, 1, 1, 2, 1, 2, 3, 2, 1, 3, 4, 4, 4, 3, 3, 1, 3, 1, 2, 4, 3, 1, 3, 3, 1, 3, 1, 2, 2, 1, 2, 4, 3, 2, 3, 4, 3, 4, 3, 2, 3, 3, 3, 4, 3, 1, 2, 3, 1, 3, 1, 2, 3, 2, 3, 3, 2, 2, 4, 4, 4, 2, 2, 3, 3, 1, 2, 3, 1, 2, 1, 2, 3, 1, 3, 3, 1, 4, 1, 2, 3, 4, 2, 2, 3, 1, 4, 4, 1, 2, 3, 2, 3, 1, 1, 1, 2, 3, 4, 3, 3, 1, 3, 4, 2, 4, 1, 3, 1, 2, 3, 3, 1, 2, 3, 4, 1, 2, 1, 2, 1, 2, 3, 4, 3, 1, 4, 1, 2, 3, 2, 3, 1, 2, 3, 4, 1, 3, 1, 4, 3, 4, 3, 1, 2, 3, 4, 1, 1, 2, 3, 1, 2, 4, 1, 3, 1, 2, 3, 3, 1, 2, 3, 2, 1, 2, 3, 4, 2, 1, 2, 3, 1, 2, 3, 4, 1, 2, 2, 1, 4, 2, 2, 2, 3, 3, 4, 2, 3, 1, 2, 3, 4, 3, 1, 3, 2, 3, 1, 2, 3, 2, 3, 2, 1, 2, 2, 2, 1, 1, 2, 3, 1, 1, 1, 2, 3, 1, 4, 2, 3, 4, 1, 1, 2, 3, 3, 1, 2, 3, 2, 2, 1, 4, 1, 1, 3, 1, 2, 3, 3, 1, 4, 1, 2, 3, 4, 1, 1, 4, 3, 2, 3, 4, 1, 2, 1, 2, 3, 2, 1, 2, 3, 1, 1, 2, 1, 3, 1, 3, 1, 3, 4], \"Freq\": [0.929730236530304, 0.37498003244400024, 0.6184735298156738, 0.9595715999603271, 0.9779653549194336, 0.9908527731895447, 0.41498568654060364, 0.5736566781997681, 0.9816389679908752, 0.9878804683685303, 0.9948837161064148, 0.7811402678489685, 0.21548697352409363, 0.7621192336082458, 0.22415271401405334, 0.008966108784079552, 0.9302487373352051, 0.16074959933757782, 0.8375900387763977, 0.9382168054580688, 0.9815652966499329, 0.9404287338256836, 0.95900958776474, 0.9782615900039673, 0.4031563997268677, 0.5965069532394409, 0.20157505571842194, 0.7951016426086426, 0.974433422088623, 0.9397822618484497, 0.4368525743484497, 0.5616676211357117, 0.9618770480155945, 0.44034990668296814, 0.5535827279090881, 0.9667513370513916, 0.9900098443031311, 0.9408444166183472, 0.21048566699028015, 0.7478432059288025, 0.04209713265299797, 0.9885640144348145, 0.6246302127838135, 0.37291353940963745, 0.9684423208236694, 0.9372190237045288, 0.9929202795028687, 0.9205637574195862, 0.990321695804596, 0.9592851400375366, 0.9689081907272339, 0.9420809149742126, 0.9670844078063965, 0.967442512512207, 0.6928423643112183, 0.15877637267112732, 0.14434215426445007, 0.7393161058425903, 0.24643869698047638, 0.2708747982978821, 0.6640801429748535, 0.06116527318954468, 0.07296028733253479, 0.9120035767555237, 0.9701361060142517, 0.9248078465461731, 0.988335132598877, 0.9523624777793884, 0.9762158989906311, 0.9769906401634216, 0.9871910214424133, 0.3096765875816345, 0.6881701946258545, 0.9911743402481079, 0.5534936189651489, 0.11693527549505234, 0.3274187743663788, 0.9599831700325012, 0.9714237451553345, 0.21000321209430695, 0.7878952622413635, 0.0015328701119869947, 0.3114570677280426, 0.6831961274147034, 0.9868459701538086, 0.9744433164596558, 0.9257084727287292, 0.036871835589408875, 0.4126133918762207, 0.5495659112930298, 0.9404282569885254, 0.9630316495895386, 0.6725685596466064, 0.3251279294490814, 0.9807865023612976, 0.9670842289924622, 0.9862892031669617, 0.9913255572319031, 0.9493144750595093, 0.9688923358917236, 0.8625014424324036, 0.13842615485191345, 0.990570604801178, 0.9938879013061523, 0.3298216462135315, 0.3414624035358429, 0.31507667899131775, 0.013968916609883308, 0.9766972064971924, 0.9636244773864746, 0.3694444000720978, 0.1679292619228363, 0.47020193934440613, 0.8789787292480469, 0.10987234115600586, 0.4922175705432892, 0.50150465965271, 0.6596861481666565, 0.25130900740623474, 0.08638747781515121, 0.9770359396934509, 0.31071269512176514, 0.20213651657104492, 0.47473204135894775, 0.011550658382475376, 0.7486233115196228, 0.23869149386882782, 0.3020940124988556, 0.6836864948272705, 0.42571836709976196, 0.36937329173088074, 0.20033805072307587, 0.978915810585022, 0.9843744039535522, 0.9940468072891235, 0.9443498253822327, 0.9951910972595215, 0.7074341773986816, 0.2930798828601837, 0.4568389356136322, 0.5351541638374329, 0.14877553284168243, 0.10820038616657257, 0.7303525805473328, 0.9328681230545044, 0.4230325520038605, 0.5748903751373291, 0.9623732566833496, 0.8946933150291443, 0.9609689116477966, 0.03626297786831856, 0.9509234428405762, 0.11515723913908005, 0.10468839854001999, 0.7746941447257996, 0.9813025593757629, 0.966684877872467, 0.5188316702842712, 0.12577736377716064, 0.3537488579750061, 0.19875594973564148, 0.7950237989425659, 0.974785327911377, 0.9480586647987366, 0.05303824692964554, 0.29954078793525696, 0.4992346465587616, 0.19201332330703735, 0.9257890582084656, 0.009871348738670349, 0.5034388303756714, 0.49356746673583984, 0.9498670697212219, 0.477567195892334, 0.13531070947647095, 0.3024592101573944, 0.08755398541688919, 0.947412371635437, 0.5538187623023987, 0.24881713092327118, 0.19744843244552612, 0.26913532614707947, 0.49057579040527344, 0.2418811172246933, 0.9098009467124939, 0.9711817502975464, 0.99488365650177, 0.9829037189483643, 0.99611896276474, 0.9420675039291382, 0.9879065752029419, 0.9804009199142456, 0.47367000579833984, 0.5251559019088745, 0.995198130607605, 0.9798084497451782, 0.31642764806747437, 0.6724086999893188, 0.012572851032018661, 0.08486674726009369, 0.9021020531654358, 0.964022696018219, 0.9908343553543091, 0.9911481738090515, 0.9445094466209412, 0.9372653961181641, 0.06390446424484253, 0.325215220451355, 0.6418721675872803, 0.03423318266868591, 0.9744917750358582, 0.9505786895751953, 0.9794456362724304, 0.9758670926094055, 0.98103928565979, 0.9955674409866333, 0.9709547162055969, 0.9871507287025452, 0.13841374218463898, 0.7296381592750549, 0.13248172402381897, 0.965664267539978, 0.9741706252098083, 0.18621349334716797, 0.5910254120826721, 0.22669468820095062, 0.9736761450767517, 0.9889343976974487, 0.22318977117538452, 0.4332507252693176, 0.3413490653038025, 0.9539334774017334, 0.0960419699549675, 0.39057067036628723, 0.5186266303062439, 0.9465861916542053, 0.7132859230041504, 0.2646060883998871, 0.011504611931741238, 0.9893632531166077, 0.9864370226860046, 0.977199375629425, 0.9433664679527283, 0.9906490445137024, 0.2100590020418167, 0.7829472422599792, 0.6227235794067383, 0.1470319628715515, 0.2248723953962326, 0.961835503578186, 0.9673843383789062, 0.9689147472381592, 0.26874446868896484, 0.5899268984794617, 0.14092697203159332, 0.9894979000091553, 0.956337034702301, 0.9874088764190674, 0.9533429145812988, 0.9283360242843628, 0.962287962436676, 0.9621099829673767, 0.9224928617477417, 0.7069457173347473, 0.28945809602737427, 0.16040457785129547, 0.6604893803596497, 0.17927569150924683, 0.9667351841926575, 0.4813859760761261, 0.5010343790054321, 0.01964840665459633, 0.9798234105110168, 0.9831418395042419, 0.9618785381317139, 0.8524172306060791, 0.1269557625055313, 0.4600282311439514, 0.5392383933067322, 0.28749358654022217, 0.6413318514823914, 0.06634467840194702], \"Term\": [\"amazing\", \"amazon\", \"amazon\", \"article\", \"available\", \"awesome\", \"bad\", \"bad\", \"baggy\", \"belt\", \"big\", \"bit\", \"bit\", \"blue\", \"blue\", \"blue\", \"boyfriend\", \"brand\", \"brand\", \"buen\", \"buena\", \"bueno\", \"build\", \"business\", \"button\", \"button\", \"buy\", \"buy\", \"calidad\", \"century\", \"cheap\", \"cheap\", \"china\", \"classic\", \"classic\", \"close\", \"clothe\", \"cold\", \"color\", \"color\", \"color\", \"com\", \"comfortable\", \"comfortable\", \"como\", \"complete\", \"con\", \"construction\", \"correct\", \"cotton\", \"country\", \"crap\", \"creo\", \"customer\", \"dark\", \"dark\", \"dark\", \"denim\", \"denim\", \"different\", \"different\", \"different\", \"difficult\", \"difficult\", \"disappointment\", \"dry\", \"easy\", \"entrega\", \"esta\", \"este\", \"exact\", \"excellent\", \"excellent\", \"expectation\", \"fabric\", \"fabric\", \"fabric\", \"fade\", \"fast\", \"fit\", \"fit\", \"fit\", \"fly\", \"fly\", \"friend\", \"front\", \"fue\", \"good\", \"good\", \"good\", \"gracia\", \"gray\", \"great\", \"great\", \"green\", \"gruesa\", \"gusto\", \"guy\", \"height\", \"hole\", \"husband\", \"husband\", \"inch\", \"issue\", \"jean\", \"jean\", \"jean\", \"jean\", \"job\", \"junk\", \"label\", \"label\", \"label\", \"large\", \"large\", \"last\", \"last\", \"leg\", \"leg\", \"leg\", \"less\", \"levi\", \"levi\", \"levi\", \"levi\", \"light\", \"light\", \"line\", \"line\", \"little\", \"little\", \"little\", \"llego\", \"local\", \"loop\", \"los\", \"lot\", \"love\", \"love\", \"man\", \"man\", \"many\", \"many\", \"many\", \"marca\", \"material\", \"material\", \"medium\", \"mejor\", \"mexico\", \"mexico\", \"middle\", \"much\", \"much\", \"much\", \"muy\", \"name\", \"new\", \"new\", \"new\", \"nice\", \"nice\", \"oacute\", \"old\", \"old\", \"one\", \"one\", \"one\", \"option\", \"order\", \"order\", \"order\", \"ordering\", \"original\", \"original\", \"original\", \"original\", \"package\", \"pair\", \"pair\", \"pair\", \"pant\", \"pant\", \"pant\", \"para\", \"penny\", \"perfect\", \"pleased\", \"pocket\", \"poco\", \"possible\", \"pre\", \"price\", \"price\", \"product\", \"producto\", \"purchase\", \"purchase\", \"quality\", \"quality\", \"quality\", \"que\", \"recommend\", \"red\", \"reliable\", \"return\", \"return\", \"right\", \"right\", \"right\", \"rough\", \"sale\", \"satisfied\", \"seam\", \"service\", \"shrink\", \"shrunk\", \"side\", \"size\", \"size\", \"size\", \"skinny\", \"slim\", \"small\", \"small\", \"small\", \"snug\", \"solo\", \"son\", \"son\", \"son\", \"stiff\", \"store\", \"store\", \"store\", \"sturdy\", \"style\", \"style\", \"style\", \"suitable\", \"surprised\", \"tag\", \"tela\", \"thigh\", \"thin\", \"thin\", \"thing\", \"thing\", \"thing\", \"third\", \"thread\", \"tiempo\", \"time\", \"time\", \"time\", \"todo\", \"trouser\", \"true\", \"una\", \"usa\", \"usual\", \"value\", \"venezuela\", \"waist\", \"waist\", \"wash\", \"wash\", \"wash\", \"waste\", \"way\", \"way\", \"way\", \"week\", \"weight\", \"wish\", \"worn\", \"worn\", \"year\", \"year\", \"zipper\", \"zipper\", \"zipper\"]}, \"R\": 30, \"lambda.step\": 0.01, \"plot.opts\": {\"xlab\": \"PC1\", \"ylab\": \"PC2\"}, \"topic.order\": [2, 4, 1, 3]};\n",
       "\n",
       "function LDAvis_load_lib(url, callback){\n",
       "  var s = document.createElement('script');\n",
       "  s.src = url;\n",
       "  s.async = true;\n",
       "  s.onreadystatechange = s.onload = callback;\n",
       "  s.onerror = function(){console.warn(\"failed to load library \" + url);};\n",
       "  document.getElementsByTagName(\"head\")[0].appendChild(s);\n",
       "}\n",
       "\n",
       "if(typeof(LDAvis) !== \"undefined\"){\n",
       "   // already loaded: just create the visualization\n",
       "   !function(LDAvis){\n",
       "       new LDAvis(\"#\" + \"ldavis_el286471398196193163849838500616\", ldavis_el286471398196193163849838500616_data);\n",
       "   }(LDAvis);\n",
       "}else if(typeof define === \"function\" && define.amd){\n",
       "   // require.js is available: use it to load d3/LDAvis\n",
       "   require.config({paths: {d3: \"https://cdnjs.cloudflare.com/ajax/libs/d3/3.5.5/d3.min\"}});\n",
       "   require([\"d3\"], function(d3){\n",
       "      window.d3 = d3;\n",
       "      LDAvis_load_lib(\"https://cdn.rawgit.com/bmabey/pyLDAvis/files/ldavis.v1.0.0.js\", function(){\n",
       "        new LDAvis(\"#\" + \"ldavis_el286471398196193163849838500616\", ldavis_el286471398196193163849838500616_data);\n",
       "      });\n",
       "    });\n",
       "}else{\n",
       "    // require.js not available: dynamically load d3 & LDAvis\n",
       "    LDAvis_load_lib(\"https://cdnjs.cloudflare.com/ajax/libs/d3/3.5.5/d3.min.js\", function(){\n",
       "         LDAvis_load_lib(\"https://cdn.rawgit.com/bmabey/pyLDAvis/files/ldavis.v1.0.0.js\", function(){\n",
       "                 new LDAvis(\"#\" + \"ldavis_el286471398196193163849838500616\", ldavis_el286471398196193163849838500616_data);\n",
       "            })\n",
       "         });\n",
       "}\n",
       "</script>"
      ],
      "text/plain": [
       "PreparedData(topic_coordinates=              x         y  topics  cluster       Freq\n",
       "topic                                                \n",
       "1     -0.074153  0.083124       1        1  33.488461\n",
       "3     -0.124296 -0.177334       2        1  30.240816\n",
       "0     -0.115912  0.105733       3        1  28.661144\n",
       "2      0.314361 -0.011522       4        1   7.609577, topic_info=     Category        Freq       Term        Total  loglift  logprob\n",
       "14    Default  652.000000        fit   652.000000  30.0000  30.0000\n",
       "86    Default  318.000000    quality   318.000000  29.0000  29.0000\n",
       "32    Default  210.000000    product   210.000000  28.0000  28.0000\n",
       "42    Default  569.000000       good   569.000000  27.0000  27.0000\n",
       "48    Default  196.000000    perfect   196.000000  26.0000  26.0000\n",
       "28    Default  403.000000      color   403.000000  25.0000  25.0000\n",
       "21    Default  505.000000       size   505.000000  24.0000  24.0000\n",
       "75    Default  313.000000      great   313.000000  23.0000  23.0000\n",
       "62    Default  328.000000       year   328.000000  22.0000  22.0000\n",
       "47    Default  150.000000        old   150.000000  21.0000  21.0000\n",
       "37    Default  243.000000     button   243.000000  20.0000  20.0000\n",
       "341   Default  111.000000        big   111.000000  19.0000  19.0000\n",
       "11    Default  205.000000     amazon   205.000000  18.0000  18.0000\n",
       "243   Default   39.000000   producto    39.000000  17.0000  17.0000\n",
       "77    Default  194.000000      price   194.000000  16.0000  16.0000\n",
       "406   Default   76.000000        son    76.000000  15.0000  15.0000\n",
       "73    Default  118.000000      brand   118.000000  14.0000  14.0000\n",
       "30    Default  184.000000   material   184.000000  13.0000  13.0000\n",
       "528   Default   34.000000    calidad    34.000000  12.0000  12.0000\n",
       "147   Default  130.000000       nice   130.000000  11.0000  11.0000\n",
       "378   Default  179.000000      waist   179.000000  10.0000  10.0000\n",
       "265   Default   33.000000        muy    33.000000   9.0000   9.0000\n",
       "118   Default   74.000000     shrink    74.000000   8.0000   8.0000\n",
       "46    Default  865.000000       levi   865.000000   7.0000   7.0000\n",
       "19    Default  622.000000       pair   622.000000   6.0000   6.0000\n",
       "236   Default   30.000000        con    30.000000   5.0000   5.0000\n",
       "122   Default   72.000000        lot    72.000000   4.0000   4.0000\n",
       "58    Default  104.000000       thin   104.000000   3.0000   3.0000\n",
       "112   Default   93.000000    husband    93.000000   2.0000   2.0000\n",
       "120   Default  305.000000       time   305.000000   1.0000   1.0000\n",
       "...       ...         ...        ...          ...      ...      ...\n",
       "1406   Topic4   24.651609      gusto    25.347534   2.5479  -4.4786\n",
       "1053   Topic4   23.754763      buena    24.450743   2.5469  -4.5157\n",
       "570    Topic4   21.822117       este    22.518127   2.5444  -4.6006\n",
       "240    Topic4   20.482550        los    21.178593   2.5423  -4.6639\n",
       "96     Topic4   19.516336       todo    20.212271   2.5407  -4.7122\n",
       "3323   Topic4   18.510571       solo    19.212599   2.5385  -4.7651\n",
       "239    Topic4   17.691696      llego    18.387690   2.5372  -4.8104\n",
       "1524   Topic4   15.204575       tela    15.900501   2.5310  -4.9619\n",
       "583    Topic4   14.792661       como    15.488791   2.5298  -4.9893\n",
       "2309   Topic4   14.311490      marca    15.007481   2.5283  -5.0224\n",
       "1020   Topic4   14.164769       poco    14.860930   2.5278  -5.0327\n",
       "244    Topic4   13.826322        que    14.522480   2.5266  -5.0569\n",
       "720    Topic4   13.753209     tiempo    14.449156   2.5264  -5.0622\n",
       "1914   Topic4   13.645161       esta    14.341090   2.5260  -5.0701\n",
       "628    Topic4   13.160076       buen    13.856072   2.5242  -5.1063\n",
       "320    Topic4   12.940058        una    13.636227   2.5234  -5.1231\n",
       "1465   Topic4   12.640348     oacute    13.336269   2.5222  -5.1466\n",
       "91     Topic4   12.493710       para    13.189698   2.5216  -5.1582\n",
       "1405   Topic4   12.267069        fue    12.963044   2.5206  -5.1766\n",
       "3405   Topic4   11.712501       creo    12.408431   2.5180  -5.2228\n",
       "3416   Topic4   11.712502     gruesa    12.408433   2.5180  -5.2228\n",
       "1913   Topic4   11.223088  venezuela    11.924212   2.5152  -5.2655\n",
       "1592   Topic4   11.000794      bueno    11.696793   2.5144  -5.2855\n",
       "1147   Topic4   11.000769     gracia    11.696798   2.5144  -5.2855\n",
       "1136   Topic4   10.854260    entrega    11.550224   2.5136  -5.2989\n",
       "1015   Topic4   10.480971      mejor    11.177014   2.5115  -5.3339\n",
       "406    Topic4   25.822384        son    76.168365   1.4941  -4.4322\n",
       "143    Topic4   13.759708      label    29.774441   1.8039  -5.0617\n",
       "28     Topic4   16.999493      color   403.827972  -0.5920  -4.8503\n",
       "16     Topic4   17.610682       jean  1288.575195  -1.7170  -4.8150\n",
       "\n",
       "[242 rows x 6 columns], token_table=      Topic      Freq       Term\n",
       "term                            \n",
       "35        2  0.929730    amazing\n",
       "11        2  0.374980     amazon\n",
       "11        3  0.618474     amazon\n",
       "1730      2  0.959572    article\n",
       "145       2  0.977965  available\n",
       "748       2  0.990853    awesome\n",
       "36        1  0.414986        bad\n",
       "36        3  0.573657        bad\n",
       "957       1  0.981639      baggy\n",
       "464       1  0.987880       belt\n",
       "341       1  0.994884        big\n",
       "103       1  0.781140        bit\n",
       "103       2  0.215487        bit\n",
       "3         1  0.762119       blue\n",
       "3         2  0.224153       blue\n",
       "3         3  0.008966       blue\n",
       "364       2  0.930249  boyfriend\n",
       "73        1  0.160750      brand\n",
       "73        3  0.837590      brand\n",
       "628       4  0.938217       buen\n",
       "1053      4  0.981565      buena\n",
       "1592      4  0.940429      bueno\n",
       "1920      3  0.959010      build\n",
       "1667      3  0.978262   business\n",
       "37        1  0.403156     button\n",
       "37        3  0.596507     button\n",
       "224       1  0.201575        buy\n",
       "224       2  0.795102        buy\n",
       "528       4  0.974433    calidad\n",
       "3447      3  0.939782    century\n",
       "...     ...       ...        ...\n",
       "120       1  0.268744       time\n",
       "120       2  0.589927       time\n",
       "120       3  0.140927       time\n",
       "96        4  0.989498       todo\n",
       "1243      1  0.956337    trouser\n",
       "276       1  0.987409       true\n",
       "320       4  0.953343        una\n",
       "256       3  0.928336        usa\n",
       "961       2  0.962288      usual\n",
       "819       3  0.962110      value\n",
       "1913      4  0.922493  venezuela\n",
       "378       1  0.706946      waist\n",
       "378       2  0.289458      waist\n",
       "149       1  0.160405       wash\n",
       "149       2  0.660489       wash\n",
       "149       3  0.179276       wash\n",
       "764       2  0.966735      waste\n",
       "25        1  0.481386        way\n",
       "25        2  0.501034        way\n",
       "25        3  0.019648        way\n",
       "214       1  0.979823       week\n",
       "206       1  0.983142     weight\n",
       "430       2  0.961879       wish\n",
       "140       1  0.852417       worn\n",
       "140       3  0.126956       worn\n",
       "62        1  0.460028       year\n",
       "62        3  0.539238       year\n",
       "472       1  0.287494     zipper\n",
       "472       3  0.641332     zipper\n",
       "472       4  0.066345     zipper\n",
       "\n",
       "[282 rows x 3 columns], R=30, lambda_step=0.01, plot_opts={'xlab': 'PC1', 'ylab': 'PC2'}, topic_order=[2, 4, 1, 3])"
      ]
     },
     "execution_count": 26,
     "metadata": {},
     "output_type": "execute_result"
    }
   ],
   "source": [
    "# Visualize the topics\n",
    "pyLDAvis.enable_notebook()\n",
    "vis = pyLDAvis.gensim.prepare(lda_model, doc_term_matrix, dictionary)\n",
    "vis"
   ]
  },
  {
   "cell_type": "code",
   "execution_count": null,
   "metadata": {},
   "outputs": [],
   "source": []
  },
  {
   "cell_type": "markdown",
   "metadata": {},
   "source": [
    "## ldamallet"
   ]
  },
  {
   "cell_type": "code",
   "execution_count": 27,
   "metadata": {},
   "outputs": [],
   "source": [
    "import gensim\n",
    "mallet_path = '/home/gpu1/work_space/disk3_work_space3/CRM_Topic_models/mallet-2.0.8/bin/mallet' # update this path\n",
    "ldamallet = gensim.models.wrappers.LdaMallet(mallet_path, corpus=doc_term_matrix, num_topics=4, \n",
    "                                             id2word=dictionary,iterations=50,random_seed=47)"
   ]
  },
  {
   "cell_type": "code",
   "execution_count": 29,
   "metadata": {},
   "outputs": [
    {
     "data": {
      "text/plain": [
       "[(0,\n",
       "  '0.087*\"jean\" + 0.056*\"levi\" + 0.035*\"pair\" + 0.030*\"fit\" + 0.019*\"brand\" + 0.017*\"small\" + 0.014*\"great\" + 0.013*\"quality\" + 0.013*\"black\" + 0.013*\"year\"'),\n",
       " (1,\n",
       "  '0.039*\"levi\" + 0.037*\"pair\" + 0.032*\"size\" + 0.031*\"good\" + 0.030*\"quality\" + 0.024*\"original\" + 0.023*\"year\" + 0.023*\"color\" + 0.019*\"jean\" + 0.018*\"wash\"'),\n",
       " (2,\n",
       "  '0.063*\"good\" + 0.062*\"jean\" + 0.058*\"fit\" + 0.044*\"size\" + 0.036*\"product\" + 0.025*\"time\" + 0.025*\"color\" + 0.024*\"levi\" + 0.022*\"material\" + 0.021*\"great\"'),\n",
       " (3,\n",
       "  '0.051*\"jean\" + 0.039*\"levi\" + 0.036*\"button\" + 0.031*\"perfect\" + 0.028*\"pair\" + 0.026*\"great\" + 0.023*\"amazon\" + 0.022*\"pant\" + 0.020*\"fit\" + 0.020*\"price\"')]"
      ]
     },
     "execution_count": 29,
     "metadata": {},
     "output_type": "execute_result"
    }
   ],
   "source": [
    "ldamallet.print_topics()"
   ]
  },
  {
   "cell_type": "code",
   "execution_count": null,
   "metadata": {},
   "outputs": [],
   "source": []
  },
  {
   "cell_type": "code",
   "execution_count": 30,
   "metadata": {},
   "outputs": [
    {
     "data": {
      "text/plain": [
       "[(0, 0.7397374), (1, 0.087477796), (2, 0.08340868), (3, 0.089376144)]"
      ]
     },
     "execution_count": 30,
     "metadata": {},
     "output_type": "execute_result"
    }
   ],
   "source": [
    "text = reviews.comments.iloc[0]\n",
    "text2 = preprocess(text)\n",
    "\n",
    "lda_model[dictionary.doc2bow(text2)]"
   ]
  },
  {
   "cell_type": "code",
   "execution_count": 31,
   "metadata": {},
   "outputs": [
    {
     "data": {
      "text/plain": [
       "'have idea what these are but they are not the grew with and love hate them and sending them back'"
      ]
     },
     "execution_count": 31,
     "metadata": {},
     "output_type": "execute_result"
    }
   ],
   "source": [
    "reviews.comments.iloc[0]"
   ]
  },
  {
   "cell_type": "code",
   "execution_count": 32,
   "metadata": {},
   "outputs": [],
   "source": [
    "dominent_topic_list = []\n",
    "topic_detail = pd.DataFrame()\n",
    "topic_detail['index1'] = reviews.index\n",
    "for i in range(0,4):\n",
    "    topic_detail['topic_'+str(i)+'_perc'] = 0.0\n",
    "\n",
    "text = reviews.comments.iloc[i]\n",
    "text = preprocess(text)\n",
    "x = lda_model[dictionary.doc2bow(text2)]\n",
    "y = pd.Series([x1[1] for x1 in x])\n",
    "for k in range(len(y)):\n",
    "    topic_detail.loc[topic_detail.index1==0,'topic_'+str(k)+'_perc'] = y[k]\n",
    "y1 = y[y==max(y)].index[0]"
   ]
  },
  {
   "cell_type": "code",
   "execution_count": 33,
   "metadata": {},
   "outputs": [
    {
     "data": {
      "text/plain": [
       "[(0, 0.7392343), (1, 0.087427974), (2, 0.08340887), (3, 0.08992885)]"
      ]
     },
     "execution_count": 33,
     "metadata": {},
     "output_type": "execute_result"
    }
   ],
   "source": [
    "x"
   ]
  },
  {
   "cell_type": "code",
   "execution_count": 34,
   "metadata": {},
   "outputs": [
    {
     "data": {
      "text/plain": [
       "0"
      ]
     },
     "execution_count": 34,
     "metadata": {},
     "output_type": "execute_result"
    }
   ],
   "source": [
    "y1"
   ]
  },
  {
   "cell_type": "code",
   "execution_count": null,
   "metadata": {},
   "outputs": [],
   "source": []
  },
  {
   "cell_type": "code",
   "execution_count": null,
   "metadata": {},
   "outputs": [],
   "source": []
  },
  {
   "cell_type": "markdown",
   "metadata": {},
   "source": [
    "## LDA sklearn"
   ]
  },
  {
   "cell_type": "code",
   "execution_count": 35,
   "metadata": {},
   "outputs": [
    {
     "name": "stderr",
     "output_type": "stream",
     "text": [
      "<>:5: DeprecationWarning: invalid escape sequence \\-\n",
      "<>:5: DeprecationWarning: invalid escape sequence \\-\n",
      "<>:5: DeprecationWarning: invalid escape sequence \\-\n",
      "<ipython-input-35-9574053b9506>:5: DeprecationWarning: invalid escape sequence \\-\n",
      "  vectorizer = CountVectorizer(min_df=1, max_df=1.0, stop_words='english', lowercase=True, token_pattern='[a-zA-Z\\-][a-zA-Z\\-]{2,}')\n"
     ]
    },
    {
     "name": "stdout",
     "output_type": "stream",
     "text": [
      "iteration: 1 of max_iter: 10\n",
      "iteration: 2 of max_iter: 10\n",
      "iteration: 3 of max_iter: 10\n",
      "iteration: 4 of max_iter: 10\n",
      "iteration: 5 of max_iter: 10\n",
      "iteration: 6 of max_iter: 10\n",
      "iteration: 7 of max_iter: 10\n",
      "iteration: 8 of max_iter: 10\n",
      "iteration: 9 of max_iter: 10\n",
      "iteration: 10 of max_iter: 10\n"
     ]
    }
   ],
   "source": [
    "from sklearn.decomposition import NMF, LatentDirichletAllocation, TruncatedSVD\n",
    "from sklearn.feature_extraction.text import CountVectorizer\n",
    "\n",
    "reviews_3 = [' '.join(s) for s in reviews_2]\n",
    "vectorizer = CountVectorizer(min_df=1, max_df=1.0, stop_words='english', lowercase=True, token_pattern='[a-zA-Z\\-][a-zA-Z\\-]{2,}')\n",
    "data_vectorized = vectorizer.fit_transform(reviews_3)\n",
    "\n",
    "# Latent Dirichlet Allocation Model\n",
    "lda = LatentDirichletAllocation(n_components=4, max_iter=10, learning_method='online',verbose=True,mean_change_tol=.01,\n",
    "                               random_state=46,learning_decay=0.5)\n",
    "# lda = LatentDirichletAllocation(n_components=NUM_TOPICS, max_iter=100, learning_method='batch',verbose=False)\n",
    "data_lda = lda.fit_transform(data_vectorized)"
   ]
  },
  {
   "cell_type": "code",
   "execution_count": 36,
   "metadata": {},
   "outputs": [
    {
     "name": "stdout",
     "output_type": "stream",
     "text": [
      "LDA Model:\n",
      "Topic 0:\n",
      "[('good', 442.9845717321806), ('jean', 315.50484942821555), ('great', 262.73462687539075), ('price', 231.67146421129243), ('product', 220.74038302810743), ('quality', 206.90537815764333), ('fit', 206.53004354297607), ('color', 179.2578112852347), ('levi', 179.03377696745432)]\n",
      "Topic 1:\n",
      "[('pant', 238.73395539735813), ('small', 134.39733883062374), ('size', 78.43609850379245), ('tag', 34.28863008200822), ('available', 33.51577956503593), ('model', 33.25592960376372), ('shipping', 32.95720273176976), ('product', 30.500710333999134), ('-pron-', 25.35299518433186)]\n",
      "Topic 2:\n",
      "[('muy', 51.43909052849092), ('producto', 45.10134171343162), ('calidad', 40.03450947808534), ('sale', 29.948450617001257), ('buena', 27.432383175437614), ('llego', 25.606632286444558), ('son', 25.518041749833788), ('shrunk', 24.506137789620876), ('este', 24.225234413448753)]\n",
      "Topic 3:\n",
      "[('jean', 1107.5581406872823), ('levi', 842.4038334097611), ('pair', 684.1460973308683), ('fit', 515.214844619541), ('year', 347.8998029347543), ('size', 341.699888458783), ('button', 285.2911553447579), ('color', 279.6022120297564), ('time', 225.92563847496865)]\n"
     ]
    }
   ],
   "source": [
    "# Functions for printing keywords for each topic\n",
    "def selected_topics(model, vectorizer, top_n=10):\n",
    "    topics = []\n",
    "    for idx, topic in enumerate(model.components_):\n",
    "        print(\"Topic %d:\" % (idx))\n",
    "        topic_keys = [(vectorizer.get_feature_names()[i], topic[i]) for i in topic.argsort()[:-top_n - 0:-1]]\n",
    "        topics.append((idx,topic_keys))\n",
    "        print([(vectorizer.get_feature_names()[i], topic[i]) for i in topic.argsort()[:-top_n - 0:-1]]) \n",
    "    return topics\n",
    "\n",
    "print(\"LDA Model:\")\n",
    "topics_lda = selected_topics(lda, vectorizer)"
   ]
  },
  {
   "cell_type": "code",
   "execution_count": 37,
   "metadata": {},
   "outputs": [
    {
     "name": "stderr",
     "output_type": "stream",
     "text": [
      "/home/gpu1/anaconda3/envs/fastaipy372/lib/python3.7/site-packages/pyLDAvis/_prepare.py:257: FutureWarning: Sorting because non-concatenation axis is not aligned. A future version\n",
      "of pandas will change to not sort by default.\n",
      "\n",
      "To accept the future behavior, pass 'sort=False'.\n",
      "\n",
      "To retain the current behavior and silence the warning, pass 'sort=True'.\n",
      "\n",
      "  return pd.concat([default_term_info] + list(topic_dfs))\n"
     ]
    },
    {
     "data": {
      "text/html": [
       "\n",
       "<link rel=\"stylesheet\" type=\"text/css\" href=\"https://cdn.rawgit.com/bmabey/pyLDAvis/files/ldavis.v1.0.0.css\">\n",
       "\n",
       "\n",
       "<div id=\"ldavis_el286471398196260147841283223353\"></div>\n",
       "<script type=\"text/javascript\">\n",
       "\n",
       "var ldavis_el286471398196260147841283223353_data = {\"mdsDat\": {\"x\": [-258.0987854003906, -57.58541488647461, -28.19718360900879, -287.4870300292969], \"y\": [-183.9258270263672, 75.35619354248047, -154.54449462890625, 45.97490692138672], \"topics\": [1, 2, 3, 4], \"cluster\": [1, 1, 1, 1], \"Freq\": [59.13014757241125, 22.045346896066825, 10.496432629833897, 8.328072901688035]}, \"tinfo\": {\"Category\": [\"Default\", \"Default\", \"Default\", \"Default\", \"Default\", \"Default\", \"Default\", \"Default\", \"Default\", \"Default\", \"Default\", \"Default\", \"Default\", \"Default\", \"Default\", \"Default\", \"Default\", \"Default\", \"Default\", \"Default\", \"Default\", \"Default\", \"Default\", \"Default\", \"Default\", \"Default\", \"Default\", \"Default\", \"Default\", \"Default\", \"Topic1\", \"Topic1\", \"Topic1\", \"Topic1\", \"Topic1\", \"Topic1\", \"Topic1\", \"Topic1\", \"Topic1\", \"Topic1\", \"Topic1\", \"Topic1\", \"Topic1\", \"Topic1\", \"Topic1\", \"Topic1\", \"Topic1\", \"Topic1\", \"Topic1\", \"Topic1\", \"Topic1\", \"Topic1\", \"Topic1\", \"Topic1\", \"Topic1\", \"Topic1\", \"Topic1\", \"Topic1\", \"Topic1\", \"Topic1\", \"Topic1\", \"Topic1\", \"Topic1\", \"Topic1\", \"Topic1\", \"Topic1\", \"Topic1\", \"Topic1\", \"Topic1\", \"Topic1\", \"Topic1\", \"Topic1\", \"Topic1\", \"Topic1\", \"Topic1\", \"Topic1\", \"Topic1\", \"Topic1\", \"Topic2\", \"Topic2\", \"Topic2\", \"Topic2\", \"Topic2\", \"Topic2\", \"Topic2\", \"Topic2\", \"Topic2\", \"Topic2\", \"Topic2\", \"Topic2\", \"Topic2\", \"Topic2\", \"Topic2\", \"Topic2\", \"Topic2\", \"Topic2\", \"Topic2\", \"Topic2\", \"Topic2\", \"Topic2\", \"Topic2\", \"Topic2\", \"Topic2\", \"Topic2\", \"Topic2\", \"Topic2\", \"Topic2\", \"Topic2\", \"Topic2\", \"Topic2\", \"Topic2\", \"Topic2\", \"Topic2\", \"Topic2\", \"Topic2\", \"Topic2\", \"Topic2\", \"Topic2\", \"Topic2\", \"Topic2\", \"Topic2\", \"Topic2\", \"Topic2\", \"Topic2\", \"Topic2\", \"Topic2\", \"Topic2\", \"Topic2\", \"Topic2\", \"Topic2\", \"Topic2\", \"Topic2\", \"Topic2\", \"Topic2\", \"Topic3\", \"Topic3\", \"Topic3\", \"Topic3\", \"Topic3\", \"Topic3\", \"Topic3\", \"Topic3\", \"Topic3\", \"Topic3\", \"Topic3\", \"Topic3\", \"Topic3\", \"Topic3\", \"Topic3\", \"Topic3\", \"Topic3\", \"Topic3\", \"Topic3\", \"Topic3\", \"Topic3\", \"Topic3\", \"Topic3\", \"Topic3\", \"Topic3\", \"Topic3\", \"Topic3\", \"Topic3\", \"Topic3\", \"Topic3\", \"Topic3\", \"Topic3\", \"Topic3\", \"Topic3\", \"Topic3\", \"Topic3\", \"Topic3\", \"Topic3\", \"Topic3\", \"Topic4\", \"Topic4\", \"Topic4\", \"Topic4\", \"Topic4\", \"Topic4\", \"Topic4\", \"Topic4\", \"Topic4\", \"Topic4\", \"Topic4\", \"Topic4\", \"Topic4\", \"Topic4\", \"Topic4\", \"Topic4\", \"Topic4\", \"Topic4\", \"Topic4\", \"Topic4\", \"Topic4\", \"Topic4\", \"Topic4\", \"Topic4\", \"Topic4\", \"Topic4\", \"Topic4\", \"Topic4\", \"Topic4\", \"Topic4\", \"Topic4\", \"Topic4\", \"Topic4\"], \"Freq\": [572.0, 261.0, 626.0, 348.0, 203.0, 112.0, 224.0, 1296.0, 361.0, 651.0, 483.0, 182.0, 318.0, 930.0, 423.0, 261.0, 43.0, 113.0, 38.0, 69.0, 87.0, 33.0, 56.0, 137.0, 52.0, 37.0, 95.0, 109.0, 146.0, 28.0, 625.5399234489639, 318.09757732268025, 260.85218957072937, 146.3219609882152, 133.76236633777526, 115.47774019558007, 116.4765087215625, 105.17757400034616, 105.71544030761454, 99.28082270434618, 94.25957820815185, 91.47659602960513, 91.1149715856423, 92.06621168114758, 84.64281059102849, 82.05830087318105, 73.91313039026456, 73.7826661296001, 66.08135542823557, 137.0932343739378, 64.7807706288155, 60.79885537467172, 58.70045424079612, 59.13468732486091, 58.33144750798735, 54.45097617828918, 50.56938146863053, 162.4108767890778, 49.85336503334134, 47.662727482399575, 48.24894280310202, 77.90062349028419, 770.2407885101294, 1012.6811177375397, 117.96782583083105, 471.0798698120939, 88.06391686628922, 206.57211544165548, 148.25934701913545, 312.4287676315631, 121.30137343674298, 255.65057959348135, 131.50631189638455, 180.53079307626427, 120.45922557013229, 185.82445261116172, 95.79678546351002, 118.62275351361309, 202.1519717654951, 55.96402025154413, 51.93323296496619, 38.80397340708372, 37.20630001531391, 34.649611372845484, 32.78074303654909, 31.681552279590367, 28.98872424739309, 30.965755522812774, 24.18860680518176, 23.188655559756825, 21.765679347551117, 20.735707046213534, 18.64906015021679, 18.448894295987603, 21.24328427794425, 21.530357306948684, 16.121490211730528, 15.603857429157744, 16.106940163504724, 12.721147991087255, 13.195798288790236, 12.14742731419229, 12.8175301104015, 11.065770883754988, 10.509063894992941, 12.148467971093478, 9.851903875129665, 8.990441229764084, 17.466526060640067, 192.61372491134566, 386.5396411345715, 135.45795123999582, 229.2570777102336, 63.32196894789728, 78.09122375522576, 180.54157125413568, 48.01137578631057, 56.32541687601902, 72.44974450843726, 156.41684714621354, 31.94517875141771, 180.21406163751053, 275.3033379860711, 53.99805435902873, 44.42521367393381, 49.56514257493235, 156.22135919850007, 105.48187833777884, 58.32750102528576, 62.131465967379356, 51.63422571427047, 33.152717757204314, 35.22496691472089, 32.82022276897162, 111.75254270010407, 27.868658855583757, 27.652591378761986, 27.404197416436254, 20.90195410781829, 21.081233464624173, 19.970005845050576, 15.328315981574288, 15.597592297087028, 14.615631070353576, 13.484999081405942, 13.810822556438136, 13.559174589844604, 12.180386537415226, 11.638877652745085, 11.759032381867094, 11.084093809888206, 10.771884240809483, 10.184746065261615, 10.85407026439795, 11.860482501510774, 10.075053642275499, 9.281948329419718, 8.89362174735477, 9.73567674550212, 9.235160493320244, 8.371456907082733, 7.897378955714462, 7.657092761236986, 7.558683224287787, 198.50933639490268, 28.511290704921116, 15.59871636529816, 65.22029024935831, 17.794566940830006, 17.885006650423293, 25.361602868338018, 11.399537242569458, 11.053059207751197, 42.844188877147516, 37.56540761374393, 33.34518686198399, 22.848736127396172, 24.944396598575903, 21.328047967341853, 20.17746636146488, 17.623025822796393, 17.356933487998678, 15.321997569026603, 14.556901558319776, 13.541622896457397, 13.352975332425219, 13.368033309186876, 13.15619812689543, 12.176533972582162, 13.913753923641863, 12.113667918501424, 11.991874657555032, 11.948123422854193, 11.645773634813214, 12.688691378703378, 10.922921193765195, 10.572976268585185, 10.467980549474568, 10.34117567329639, 10.313170778644253, 10.15323049815722, 9.054414841846768, 8.969194921919097, 20.411433898240844, 11.917025124310733, 21.25425992707358], \"Term\": [\"good\", \"pant\", \"pair\", \"great\", \"price\", \"small\", \"product\", \"jean\", \"quality\", \"fit\", \"size\", \"perfect\", \"year\", \"levi\", \"color\", \"button\", \"muy\", \"love\", \"producto\", \"son\", \"purchase\", \"calidad\", \"excellent\", \"nice\", \"thank\", \"tag\", \"happy\", \"comfortable\", \"fabric\", \"available\", \"pair\", \"year\", \"button\", \"fabric\", \"old\", \"fly\", \"different\", \"wash\", \"new\", \"style\", \"blue\", \"light\", \"classic\", \"big\", \"zipper\", \"thing\", \"bit\", \"black\", \"dark\", \"leg\", \"problem\", \"work\", \"weight\", \"inch\", \"worn\", \"lot\", \"real\", \"waist\", \"wrong\", \"heavy\", \"belt\", \"bad\", \"levi\", \"jean\", \"little\", \"fit\", \"way\", \"time\", \"material\", \"size\", \"original\", \"color\", \"store\", \"quality\", \"amazon\", \"good\", \"brand\", \"great\", \"price\", \"excellent\", \"thank\", \"satisfied\", \"gift\", \"durable\", \"service\", \"delivery\", \"recommend\", \"guy\", \"friend\", \"pleased\", \"value\", \"skinny\", \"flimsy\", \"christma\", \"waste\", \"future\", \"colour\", \"tall\", \"expectation\", \"fair\", \"shoe\", \"rating\", \"trouser\", \"shrinkage\", \"reasonable\", \"cloth\", \"machine\", \"relaxed\", \"retail\", \"product\", \"good\", \"perfect\", \"great\", \"purchase\", \"love\", \"quality\", \"son\", \"happy\", \"nice\", \"color\", \"item\", \"fit\", \"jean\", \"comfortable\", \"buy\", \"husband\", \"levi\", \"size\", \"amazon\", \"time\", \"store\", \"look\", \"material\", \"order\", \"small\", \"available\", \"model\", \"shipping\", \"usa\", \"-pron-\", \"experience\", \"red\", \"knee\", \"free\", \"word\", \"brown\", \"option\", \"hour\", \"boyfriend\", \"similar\", \"reliable\", \"business\", \"world\", \"rock\", \"know\", \"annoying\", \"pound\", \"crap\", \"opinion\", \"try\", \"mark\", \"home\", \"pattern\", \"careful\", \"pant\", \"tag\", \"label\", \"size\", \"return\", \"look\", \"product\", \"country\", \"normal\", \"muy\", \"producto\", \"calidad\", \"buena\", \"sale\", \"llego\", \"este\", \"los\", \"todo\", \"tiempo\", \"como\", \"para\", \"fue\", \"una\", \"que\", \"buen\", \"clothe\", \"bueno\", \"por\", \"venezuela\", \"gracia\", \"market\", \"oacute\", \"vendedor\", \"tela\", \"recomiendo\", \"pantalon\", \"solo\", \"estado\", \"gusto\", \"shrunk\", \"internet\", \"son\"], \"Total\": [572.0, 261.0, 626.0, 348.0, 203.0, 112.0, 224.0, 1296.0, 361.0, 651.0, 483.0, 182.0, 318.0, 930.0, 423.0, 261.0, 43.0, 113.0, 38.0, 69.0, 87.0, 33.0, 56.0, 137.0, 52.0, 37.0, 95.0, 109.0, 146.0, 28.0, 626.21074994104, 318.7538781873046, 261.5033437625867, 146.99740228508685, 134.42057276287548, 116.12715889871248, 117.1332126143553, 105.83541661540501, 106.38290756964416, 99.93788366673596, 94.91167477934927, 92.12733247392265, 91.77715032103646, 92.73647563727734, 85.33850945801885, 82.7360199749315, 74.57493290609675, 74.4440803471935, 66.73800905948568, 138.48108229432452, 65.48581971953213, 61.46443268717265, 59.351124609958184, 59.79059960501561, 58.986024614343144, 55.1093218907342, 51.24089953604643, 164.56788461959357, 50.51557834910982, 48.306881334116476, 48.90695714928061, 80.27037553883027, 930.1629499578027, 1296.530946637818, 127.70537321292261, 651.7193062074285, 96.9871319291331, 277.0665790629137, 184.00841207619465, 483.3413102507118, 145.99035197444388, 423.0241227244131, 184.3048130261217, 361.5573214298076, 180.9343591731046, 572.792546893225, 125.61690226097707, 348.3047608495816, 203.17384514532282, 56.630550157378984, 52.59927319066053, 39.45643259823025, 37.87386019493888, 35.34738847603898, 33.44687062009325, 32.35143481633207, 29.641965719793625, 31.680388557645998, 24.86542901112464, 23.849127357597716, 22.4435964932554, 21.456784406673066, 19.304360619879677, 19.114678336114874, 22.06069757747266, 22.401941168183598, 16.78854761656798, 16.271919150575695, 16.849133998228446, 13.394702113692022, 13.920069301515397, 12.822496834267334, 13.59021885966858, 11.754266006975087, 11.16522146117086, 13.001111099358418, 10.548636594817912, 9.682122111356835, 18.92960210409465, 224.11279550707917, 572.792546893225, 182.9517364241298, 348.3047608495816, 87.95080619178614, 113.74912892926807, 361.5573214298076, 69.72496592321657, 95.94544791785896, 137.45188450954188, 423.0241227244131, 44.58471294703772, 651.7193062074285, 1296.530946637818, 109.44604950709312, 80.72930973550702, 106.3565916848906, 930.1629499578027, 483.3413102507118, 180.9343591731046, 277.0665790629137, 184.3048130261217, 52.56181535470581, 184.00841207619465, 107.49161678158836, 112.43626836599991, 28.54432477677736, 28.33632814145043, 28.089442107742506, 21.571177202630004, 21.77448469709204, 20.65828726532923, 16.014385035768843, 16.29838405705751, 15.292019435207758, 14.155551111082156, 14.498618114644964, 14.245717252820707, 12.855426766423955, 12.314437074197215, 12.456016142938724, 11.775932008628045, 11.453851250873432, 10.858505940624246, 11.58523040888126, 12.685422602115944, 10.791513563522518, 9.955552931838962, 9.562066936391114, 10.468169973389791, 9.9322492111689, 9.062105022943731, 8.564306129745633, 8.333508920802236, 8.242161512135228, 261.79081173284317, 37.5767335761023, 27.25894259213763, 483.3413102507118, 39.82249040052541, 52.56181535470581, 224.11279550707917, 21.492964910141506, 26.043744852440135, 43.498985272711906, 38.22037744719326, 33.99996287202728, 23.503496215108957, 25.688846103660723, 21.98274863864593, 20.832341709452376, 18.278010936363096, 18.011582841720973, 15.976644407564923, 15.211785714782506, 14.196407674019463, 14.007713732566051, 14.023528008082975, 13.811677842705244, 12.83137164125692, 14.662674845908397, 12.768576932122448, 12.646636142491444, 12.607490869786698, 12.300572533933723, 13.444853349978343, 11.577651892680757, 11.227678058122837, 11.122877075788338, 10.996036129317657, 10.968074083692242, 10.886688657968591, 9.709200233656748, 9.6239627606436, 21.990613190497516, 12.840053325842733, 69.72496592321657], \"loglift\": [30.0, 29.0, 28.0, 27.0, 26.0, 25.0, 24.0, 23.0, 22.0, 21.0, 20.0, 19.0, 18.0, 17.0, 16.0, 15.0, 14.0, 13.0, 12.0, 11.0, 10.0, 9.0, 8.0, 7.0, 6.0, 5.0, 4.0, 3.0, 2.0, 1.0, 0.5244, 0.5234, 0.5229, 0.5208, 0.5205, 0.5198, 0.5198, 0.5192, 0.5191, 0.5188, 0.5185, 0.5183, 0.5182, 0.5182, 0.5172, 0.5172, 0.5165, 0.5165, 0.5155, 0.5154, 0.5146, 0.5145, 0.5144, 0.5144, 0.5143, 0.5134, 0.5122, 0.5122, 0.5122, 0.512, 0.5119, 0.4955, 0.3368, 0.2783, 0.4461, 0.2008, 0.4289, 0.2318, 0.3094, 0.0891, 0.3402, 0.0218, 0.1879, -0.1691, 0.1186, -0.6003, 0.2544, -0.5517, 1.507, 1.5002, 1.4993, 1.4954, 1.4943, 1.4921, 1.492, 1.4911, 1.4898, 1.4893, 1.4845, 1.484, 1.4814, 1.4779, 1.4775, 1.4766, 1.4743, 1.4724, 1.4715, 1.4701, 1.467, 1.4605, 1.4586, 1.458, 1.4535, 1.4517, 1.4515, 1.4442, 1.4437, 1.4379, 1.4316, 1.3606, 1.1188, 1.2115, 1.0938, 1.1835, 1.136, 0.8176, 1.1389, 0.9794, 0.8717, 0.5172, 1.1787, 0.2266, -0.0375, 0.8056, 0.9148, 0.7486, -0.272, -0.0101, 0.38, 0.0171, 0.2397, 1.0512, -0.1412, 0.3257, 2.248, 2.2302, 2.2297, 2.2294, 2.2226, 2.2218, 2.2202, 2.2103, 2.2102, 2.2089, 2.2056, 2.2055, 2.2047, 2.2002, 2.1977, 2.1966, 2.1936, 2.1927, 2.1901, 2.1889, 2.1869, 2.1854, 2.1841, 2.1817, 2.1816, 2.1814, 2.1749, 2.1731, 2.1695, 2.1676, 1.9774, 1.978, 1.6959, 0.2512, 1.4486, 1.1761, 0.0752, 1.62, 1.3971, 2.4704, 2.4683, 2.4661, 2.4573, 2.4561, 2.4553, 2.4536, 2.449, 2.4485, 2.4437, 2.4415, 2.4383, 2.4377, 2.4377, 2.4369, 2.4332, 2.4331, 2.4329, 2.4324, 2.4318, 2.4308, 2.4277, 2.4273, 2.4255, 2.4249, 2.4241, 2.424, 2.4158, 2.4157, 2.4151, 2.411, 2.4109, 1.2975], \"logprob\": [30.0, 29.0, 28.0, 27.0, 26.0, 25.0, 24.0, 23.0, 22.0, 21.0, 20.0, 19.0, 18.0, 17.0, 16.0, 15.0, 14.0, 13.0, 12.0, 11.0, 10.0, 9.0, 8.0, 7.0, 6.0, 5.0, 4.0, 3.0, 2.0, 1.0, -3.2375, -3.9138, -4.1122, -4.6904, -4.7801, -4.9271, -4.9185, -5.0205, -5.0154, -5.0782, -5.1301, -5.1601, -5.164, -5.1537, -5.2377, -5.2687, -5.3733, -5.375, -5.4853, -4.7555, -5.5052, -5.5686, -5.6037, -5.5963, -5.61, -5.6789, -5.7528, -4.586, -5.7671, -5.812, -5.7998, -5.3207, -3.0295, -2.7558, -4.9057, -3.5211, -5.1981, -4.3455, -4.6772, -3.9318, -4.8779, -4.1323, -4.7971, -4.4803, -4.8848, -4.4514, -5.1139, -4.9002, -3.3805, -4.6648, -4.7396, -5.031, -5.073, -5.1442, -5.1997, -5.2338, -5.3226, -5.2566, -5.5036, -5.5459, -5.6092, -5.6577, -5.7637, -5.7745, -5.6335, -5.6201, -5.9094, -5.942, -5.9103, -6.1463, -6.1096, -6.1924, -6.1387, -6.2857, -6.3373, -6.1923, -6.4019, -6.4934, -5.8292, -3.4288, -2.7323, -3.7809, -3.2547, -4.5413, -4.3316, -3.4936, -4.8181, -4.6584, -4.4066, -3.637, -5.2255, -3.4954, -3.0716, -4.7006, -4.8957, -4.7862, -3.6382, -4.031, -4.6234, -4.5603, -4.7453, -5.1884, -5.1278, -5.1985, -3.2312, -4.62, -4.6277, -4.6368, -4.9076, -4.8991, -4.9532, -5.2178, -5.2003, -5.2654, -5.3459, -5.322, -5.3404, -5.4476, -5.4931, -5.4828, -5.5419, -5.5705, -5.6266, -5.5629, -5.4742, -5.6374, -5.7194, -5.7621, -5.6717, -5.7244, -5.8226, -5.8809, -5.9118, -5.9248, -2.6566, -4.5972, -5.2003, -3.7697, -5.0686, -5.0635, -4.7142, -5.5139, -5.5447, -3.9585, -4.09, -4.2091, -4.5872, -4.4994, -4.656, -4.7115, -4.8468, -4.8621, -4.9868, -5.038, -5.1103, -5.1243, -5.1232, -5.1392, -5.2165, -5.0832, -5.2217, -5.2318, -5.2355, -5.2611, -5.1753, -5.3252, -5.3578, -5.3677, -5.3799, -5.3826, -5.3983, -5.5128, -5.5223, -4.7, -5.2381, -4.6595]}, \"token.table\": {\"Topic\": [3, 1, 2, 4, 3, 3, 1, 2, 1, 1, 1, 1, 1, 3, 1, 2, 3, 4, 4, 4, 3, 1, 1, 2, 4, 3, 2, 1, 2, 4, 1, 2, 3, 4, 2, 1, 2, 4, 1, 3, 3, 1, 2, 1, 2, 4, 4, 2, 2, 3, 1, 2, 1, 2, 2, 1, 3, 2, 4, 2, 2, 1, 2, 4, 1, 2, 4, 2, 1, 2, 1, 3, 3, 1, 2, 1, 4, 1, 2, 3, 1, 2, 4, 3, 3, 1, 3, 1, 3, 1, 2, 3, 4, 1, 1, 2, 4, 1, 2, 3, 4, 1, 1, 2, 2, 3, 4, 1, 2, 3, 4, 1, 1, 2, 3, 1, 3, 4, 1, 3, 3, 1, 2, 1, 2, 4, 1, 1, 2, 3, 4, 4, 3, 1, 2, 3, 2, 4, 3, 1, 2, 1, 1, 2, 3, 4, 1, 2, 1, 2, 4, 2, 1, 2, 4, 2, 3, 2, 3, 2, 4, 1, 3, 3, 4, 2, 2, 3, 2, 2, 1, 4, 3, 1, 2, 3, 2, 3, 4, 2, 4, 1, 2, 3, 1, 1, 3, 2, 4, 2, 1, 4, 1, 2, 3, 4, 2, 3, 4, 3, 2, 4, 4, 1, 3, 1, 2, 1, 2, 1, 3, 1, 3, 1, 1, 1, 1], \"Freq\": [0.9644315487660899, 0.663223947891472, 0.3205582414808781, 0.011053732464857866, 0.9266540732341761, 0.9809305429000653, 0.9717158973831885, 0.024915792240594578, 0.9814554574206638, 0.9920584038565587, 0.9922905340482077, 0.9940347124294854, 0.9903944927589916, 0.974465980677585, 0.7642283663432006, 0.23086065233284184, 0.9656092662968125, 0.9352078901226898, 0.9785778162320681, 0.9398071581345211, 0.9603756639637848, 0.998075191868125, 0.44593469358212773, 0.5450312921559338, 0.9705892951768491, 0.970619174135488, 0.9416846929613865, 0.9915322025327874, 0.922998035190406, 0.9548053235257198, 0.6051664343661459, 0.3687732959418702, 0.0023639313842427575, 0.023639313842427578, 0.953030623340533, 0.5025307011783507, 0.4933937793387444, 0.9860775244436492, 0.46526852120255763, 0.5117953733228133, 0.9412190962340986, 0.9889416979935997, 0.9891369635279775, 0.9903254372601711, 0.9901721600656732, 0.9269558545926039, 0.96004569620348, 0.9888655477365723, 0.9496037008004253, 0.9681344703520495, 0.9932148305372602, 0.9705329681584662, 0.7227037706476822, 0.27619252381440085, 0.9842335819417792, 0.9902937529049892, 0.9809038017218692, 0.9651954924752172, 0.9280600851926855, 0.9820577527114277, 0.9769270892789625, 0.3247248956168288, 0.6756372828156599, 0.9755643460412489, 0.34165481892850486, 0.65747019776998, 0.9351657133176736, 0.9785233518708916, 0.40648098316648407, 0.5836650014698233, 0.9936472542701749, 0.9341095330787301, 0.9334579254375145, 0.5265305996821968, 0.47011660685910434, 0.9867771922302434, 0.9345755578637678, 0.11214606239451426, 0.7177347993248913, 0.15700448735231995, 0.7813157122295659, 0.2121044628461309, 0.006170311646432899, 0.9816924146582308, 0.9459676966535104, 0.4035372965337533, 0.586963340412732, 0.9893048041668489, 0.007221202950122984, 0.8278119441705687, 0.16771254972806326, 0.002150160893949529, 0.002150160893949529, 0.9877633223100023, 0.9240018413575999, 0.07047471671371525, 0.9552945514321058, 0.019025218083729502, 0.6278321967630736, 0.34245392550713105, 0.9847898692406399, 0.9798705218522982, 0.3076946639456363, 0.6857195367931325, 0.9479898098786118, 0.8827970962315423, 0.9669127406302978, 0.8043110547506698, 0.19020869538022597, 0.9881308495662694, 0.9885288066012673, 0.9964006664379474, 0.4583422062549208, 0.5238196642913381, 0.014550546230314947, 0.575954037523701, 0.4223662941840474, 0.9501062997889976, 0.9968712172978359, 0.9552768082119525, 0.9827515000852587, 0.6884257788247822, 0.30700068515159207, 0.8288218938000881, 0.11644605119505369, 0.054798141738848796, 0.9996634520549833, 0.21391125085454815, 0.02673890635681852, 0.7601489092866979, 0.9117370947437698, 0.9861649736659152, 0.9599797727497805, 0.24050058698539234, 0.7378995282506357, 0.01639776729445857, 0.9643958730705001, 0.9488689217270345, 0.9040180953904632, 0.004921893363216789, 0.9942224593697914, 0.992581298949714, 0.02677223309103953, 0.8611734977617715, 0.1115509712126647, 0.9942340326832789, 0.27287981815272316, 0.7163095226508983, 0.5006121831089491, 0.5006121831089491, 0.9412324952877511, 0.9358551735361508, 0.9952986864354916, 0.9852021330928858, 0.9094186198004549, 0.978342673834045, 0.9366578839272836, 0.9295482846103824, 0.934108654154972, 0.8980643072430319, 0.052827312190766584, 0.5524516367190772, 0.45200588458833585, 0.9494847846588687, 0.9731850118576342, 0.9884319851498505, 0.9866393892221178, 0.9612152458007625, 0.9339033964855883, 0.9358304460246605, 0.045473947967586255, 0.9094789593517251, 0.9633898882511293, 0.6455065879598909, 0.2172377940249633, 0.1344805391583106, 0.9787114230158828, 0.9961198608568209, 0.9185529516066786, 0.6884191245480017, 0.30118336698975073, 0.7162048447497218, 0.2821413024771631, 0.0054257942784069835, 0.9906153339221838, 0.23950990795335483, 0.771754147849699, 0.9832890547169371, 0.8990479650060546, 0.9886068161343541, 0.9911039958756234, 0.9388704922854462, 0.7471128445015245, 0.22377292927098802, 0.02887392635754684, 0.9438370935741527, 0.956570319745169, 0.9061391643173252, 0.9270135156079821, 0.973521278080254, 0.9802350530856895, 0.9797217147709254, 0.9518150854867939, 0.9843961984105869, 0.012153039486550455, 0.9921064550778798, 0.9519191279537872, 0.9073368626293656, 0.08248516932994233, 0.9940839434422567, 0.9183676352821408, 0.9924438790554464, 0.9209370105501926, 0.9832837588091438, 0.9897936762092142, 0.9976349207369906, 0.996033332897789], \"Term\": [\"-pron-\", \"amazon\", \"amazon\", \"amazon\", \"annoying\", \"available\", \"bad\", \"bad\", \"belt\", \"big\", \"bit\", \"black\", \"blue\", \"boyfriend\", \"brand\", \"brand\", \"brown\", \"buen\", \"buena\", \"bueno\", \"business\", \"button\", \"buy\", \"buy\", \"calidad\", \"careful\", \"christma\", \"classic\", \"cloth\", \"clothe\", \"color\", \"color\", \"color\", \"color\", \"colour\", \"comfortable\", \"comfortable\", \"como\", \"country\", \"country\", \"crap\", \"dark\", \"delivery\", \"different\", \"durable\", \"estado\", \"este\", \"excellent\", \"expectation\", \"experience\", \"fabric\", \"fair\", \"fit\", \"fit\", \"flimsy\", \"fly\", \"free\", \"friend\", \"fue\", \"future\", \"gift\", \"good\", \"good\", \"gracia\", \"great\", \"great\", \"gusto\", \"guy\", \"happy\", \"happy\", \"heavy\", \"home\", \"hour\", \"husband\", \"husband\", \"inch\", \"internet\", \"item\", \"item\", \"item\", \"jean\", \"jean\", \"jean\", \"knee\", \"know\", \"label\", \"label\", \"leg\", \"leg\", \"levi\", \"levi\", \"levi\", \"levi\", \"light\", \"little\", \"little\", \"llego\", \"look\", \"look\", \"look\", \"los\", \"lot\", \"love\", \"love\", \"machine\", \"mark\", \"market\", \"material\", \"material\", \"model\", \"muy\", \"new\", \"nice\", \"nice\", \"nice\", \"normal\", \"normal\", \"oacute\", \"old\", \"opinion\", \"option\", \"order\", \"order\", \"original\", \"original\", \"original\", \"pair\", \"pant\", \"pant\", \"pant\", \"pantalon\", \"para\", \"pattern\", \"perfect\", \"perfect\", \"perfect\", \"pleased\", \"por\", \"pound\", \"price\", \"price\", \"problem\", \"product\", \"product\", \"product\", \"producto\", \"purchase\", \"purchase\", \"quality\", \"quality\", \"que\", \"rating\", \"real\", \"reasonable\", \"recomiendo\", \"recommend\", \"red\", \"relaxed\", \"reliable\", \"retail\", \"retail\", \"return\", \"return\", \"rock\", \"sale\", \"satisfied\", \"service\", \"shipping\", \"shoe\", \"shrinkage\", \"shrunk\", \"shrunk\", \"similar\", \"size\", \"size\", \"size\", \"skinny\", \"small\", \"solo\", \"son\", \"son\", \"store\", \"store\", \"store\", \"style\", \"tag\", \"tag\", \"tall\", \"tela\", \"thank\", \"thing\", \"tiempo\", \"time\", \"time\", \"time\", \"todo\", \"trouser\", \"try\", \"una\", \"usa\", \"value\", \"vendedor\", \"venezuela\", \"waist\", \"waist\", \"wash\", \"waste\", \"way\", \"way\", \"weight\", \"word\", \"work\", \"world\", \"worn\", \"wrong\", \"year\", \"zipper\"]}, \"R\": 30, \"lambda.step\": 0.01, \"plot.opts\": {\"xlab\": \"PC1\", \"ylab\": \"PC2\"}, \"topic.order\": [4, 1, 2, 3]};\n",
       "\n",
       "function LDAvis_load_lib(url, callback){\n",
       "  var s = document.createElement('script');\n",
       "  s.src = url;\n",
       "  s.async = true;\n",
       "  s.onreadystatechange = s.onload = callback;\n",
       "  s.onerror = function(){console.warn(\"failed to load library \" + url);};\n",
       "  document.getElementsByTagName(\"head\")[0].appendChild(s);\n",
       "}\n",
       "\n",
       "if(typeof(LDAvis) !== \"undefined\"){\n",
       "   // already loaded: just create the visualization\n",
       "   !function(LDAvis){\n",
       "       new LDAvis(\"#\" + \"ldavis_el286471398196260147841283223353\", ldavis_el286471398196260147841283223353_data);\n",
       "   }(LDAvis);\n",
       "}else if(typeof define === \"function\" && define.amd){\n",
       "   // require.js is available: use it to load d3/LDAvis\n",
       "   require.config({paths: {d3: \"https://cdnjs.cloudflare.com/ajax/libs/d3/3.5.5/d3.min\"}});\n",
       "   require([\"d3\"], function(d3){\n",
       "      window.d3 = d3;\n",
       "      LDAvis_load_lib(\"https://cdn.rawgit.com/bmabey/pyLDAvis/files/ldavis.v1.0.0.js\", function(){\n",
       "        new LDAvis(\"#\" + \"ldavis_el286471398196260147841283223353\", ldavis_el286471398196260147841283223353_data);\n",
       "      });\n",
       "    });\n",
       "}else{\n",
       "    // require.js not available: dynamically load d3 & LDAvis\n",
       "    LDAvis_load_lib(\"https://cdnjs.cloudflare.com/ajax/libs/d3/3.5.5/d3.min.js\", function(){\n",
       "         LDAvis_load_lib(\"https://cdn.rawgit.com/bmabey/pyLDAvis/files/ldavis.v1.0.0.js\", function(){\n",
       "                 new LDAvis(\"#\" + \"ldavis_el286471398196260147841283223353\", ldavis_el286471398196260147841283223353_data);\n",
       "            })\n",
       "         });\n",
       "}\n",
       "</script>"
      ],
      "text/plain": [
       "PreparedData(topic_coordinates=                x           y  topics  cluster       Freq\n",
       "topic                                                    \n",
       "3     -258.098785 -183.925827       1        1  59.130148\n",
       "0      -57.585415   75.356194       2        1  22.045347\n",
       "1      -28.197184 -154.544495       3        1  10.496433\n",
       "2     -287.487030   45.974907       4        1   8.328073, topic_info=     Category         Freq         Term        Total  loglift  logprob\n",
       "1244  Default   572.000000         good   572.000000  30.0000  30.0000\n",
       "2029  Default   261.000000         pant   261.000000  29.0000  29.0000\n",
       "2022  Default   626.000000         pair   626.000000  28.0000  28.0000\n",
       "1271  Default   348.000000        great   348.000000  27.0000  27.0000\n",
       "2212  Default   203.000000        price   203.000000  26.0000  26.0000\n",
       "2731  Default   112.000000        small   112.000000  25.0000  25.0000\n",
       "2234  Default   224.000000      product   224.000000  24.0000  24.0000\n",
       "1526  Default  1296.000000         jean  1296.000000  23.0000  23.0000\n",
       "2293  Default   361.000000      quality   361.000000  22.0000  22.0000\n",
       "1118  Default   651.000000          fit   651.000000  21.0000  21.0000\n",
       "2710  Default   483.000000         size   483.000000  20.0000  20.0000\n",
       "2084  Default   182.000000      perfect   182.000000  19.0000  19.0000\n",
       "3382  Default   318.000000         year   318.000000  18.0000  18.0000\n",
       "1615  Default   930.000000         levi   930.000000  17.0000  17.0000\n",
       "483   Default   423.000000        color   423.000000  16.0000  16.0000\n",
       "328   Default   261.000000       button   261.000000  15.0000  15.0000\n",
       "1852  Default    43.000000          muy    43.000000  14.0000  14.0000\n",
       "1679  Default   113.000000         love   113.000000  13.0000  13.0000\n",
       "2238  Default    38.000000     producto    38.000000  12.0000  12.0000\n",
       "2761  Default    69.000000          son    69.000000  11.0000  11.0000\n",
       "2282  Default    87.000000     purchase    87.000000  10.0000  10.0000\n",
       "344   Default    33.000000      calidad    33.000000   9.0000   9.0000\n",
       "1003  Default    56.000000    excellent    56.000000   8.0000   8.0000\n",
       "1885  Default   137.000000         nice   137.000000   7.0000   7.0000\n",
       "2988  Default    52.000000        thank    52.000000   6.0000   6.0000\n",
       "2929  Default    37.000000          tag    37.000000   5.0000   5.0000\n",
       "1313  Default    95.000000        happy    95.000000   4.0000   4.0000\n",
       "498   Default   109.000000  comfortable   109.000000   3.0000   3.0000\n",
       "1041  Default   146.000000       fabric   146.000000   2.0000   2.0000\n",
       "167   Default    28.000000    available    28.000000   1.0000   1.0000\n",
       "...       ...          ...          ...          ...      ...      ...\n",
       "308    Topic4    22.848736        buena    23.503496   2.4573  -4.5872\n",
       "2539   Topic4    24.944397         sale    25.688846   2.4561  -4.4994\n",
       "1651   Topic4    21.328048        llego    21.982749   2.4553  -4.6560\n",
       "983    Topic4    20.177466         este    20.832342   2.4536  -4.7115\n",
       "1673   Topic4    17.623026          los    18.278011   2.4490  -4.8468\n",
       "3053   Topic4    17.356933         todo    18.011583   2.4485  -4.8621\n",
       "3031   Topic4    15.321998       tiempo    15.976644   2.4437  -4.9868\n",
       "508    Topic4    14.556902         como    15.211786   2.4415  -5.0380\n",
       "2040   Topic4    13.541623         para    14.196408   2.4383  -5.1103\n",
       "1180   Topic4    13.352975          fue    14.007714   2.4377  -5.1243\n",
       "3139   Topic4    13.368033          una    14.023528   2.4377  -5.1232\n",
       "2298   Topic4    13.156198          que    13.811678   2.4369  -5.1392\n",
       "307    Topic4    12.176534         buen    12.831372   2.4332  -5.2165\n",
       "461    Topic4    13.913754       clothe    14.662675   2.4331  -5.0832\n",
       "309    Topic4    12.113668        bueno    12.768577   2.4329  -5.2217\n",
       "2170   Topic4    11.991875          por    12.646636   2.4324  -5.2318\n",
       "3241   Topic4    11.948123    venezuela    12.607491   2.4318  -5.2355\n",
       "1256   Topic4    11.645774       gracia    12.300573   2.4308  -5.2611\n",
       "1725   Topic4    12.688691       market    13.444853   2.4277  -5.1753\n",
       "1926   Topic4    10.922921       oacute    11.577652   2.4273  -5.3252\n",
       "3238   Topic4    10.572976     vendedor    11.227678   2.4255  -5.3578\n",
       "2965   Topic4    10.467981         tela    11.122877   2.4249  -5.3677\n",
       "2387   Topic4    10.341176   recomiendo    10.996036   2.4241  -5.3799\n",
       "2032   Topic4    10.313171     pantalon    10.968074   2.4240  -5.3826\n",
       "2757   Topic4    10.153230         solo    10.886689   2.4158  -5.3983\n",
       "981    Topic4     9.054415       estado     9.709200   2.4157  -5.5128\n",
       "1293   Topic4     8.969195        gusto     9.623963   2.4151  -5.5223\n",
       "2678   Topic4    20.411434       shrunk    21.990613   2.4110  -4.7000\n",
       "1492   Topic4    11.917025     internet    12.840053   2.4109  -5.2381\n",
       "2761   Topic4    21.254260          son    69.724966   1.2975  -4.6595\n",
       "\n",
       "[206 rows x 6 columns], token_table=      Topic      Freq       Term\n",
       "term                            \n",
       "0         3  0.964432     -pron-\n",
       "89        1  0.663224     amazon\n",
       "89        2  0.320558     amazon\n",
       "89        4  0.011054     amazon\n",
       "105       3  0.926654   annoying\n",
       "167       3  0.980931  available\n",
       "178       1  0.971716        bad\n",
       "178       2  0.024916        bad\n",
       "214       1  0.981455       belt\n",
       "228       1  0.992058        big\n",
       "234       1  0.992291        bit\n",
       "238       1  0.994035      black\n",
       "249       1  0.990394       blue\n",
       "276       3  0.974466  boyfriend\n",
       "277       1  0.764228      brand\n",
       "277       2  0.230861      brand\n",
       "296       3  0.965609      brown\n",
       "307       4  0.935208       buen\n",
       "308       4  0.978578      buena\n",
       "309       4  0.939807      bueno\n",
       "322       3  0.960376   business\n",
       "328       1  0.998075     button\n",
       "331       1  0.445935        buy\n",
       "331       2  0.545031        buy\n",
       "344       4  0.970589    calidad\n",
       "361       3  0.970619    careful\n",
       "425       2  0.941685   christma\n",
       "440       1  0.991532    classic\n",
       "460       2  0.922998      cloth\n",
       "461       4  0.954805     clothe\n",
       "...     ...       ...        ...\n",
       "2936      2  0.983289       tall\n",
       "2965      4  0.899048       tela\n",
       "2988      2  0.988607      thank\n",
       "3007      1  0.991104      thing\n",
       "3031      4  0.938870     tiempo\n",
       "3038      1  0.747113       time\n",
       "3038      2  0.223773       time\n",
       "3038      3  0.028874       time\n",
       "3053      4  0.943837       todo\n",
       "3107      2  0.956570    trouser\n",
       "3114      3  0.906139        try\n",
       "3139      4  0.927014        una\n",
       "3203      3  0.973521        usa\n",
       "3223      2  0.980235      value\n",
       "3238      4  0.979722   vendedor\n",
       "3241      4  0.951815  venezuela\n",
       "3266      1  0.984396      waist\n",
       "3266      3  0.012153      waist\n",
       "3288      1  0.992106       wash\n",
       "3292      2  0.951919      waste\n",
       "3297      1  0.907337        way\n",
       "3297      2  0.082485        way\n",
       "3313      1  0.994084     weight\n",
       "3350      3  0.918368       word\n",
       "3351      1  0.992444       work\n",
       "3355      3  0.920937      world\n",
       "3357      1  0.983284       worn\n",
       "3371      1  0.989794      wrong\n",
       "3382      1  0.997635       year\n",
       "3403      1  0.996033     zipper\n",
       "\n",
       "[217 rows x 3 columns], R=30, lambda_step=0.01, plot_opts={'xlab': 'PC1', 'ylab': 'PC2'}, topic_order=[4, 1, 2, 3])"
      ]
     },
     "execution_count": 37,
     "metadata": {},
     "output_type": "execute_result"
    }
   ],
   "source": [
    "import pyLDAvis.sklearn\n",
    "pyLDAvis.enable_notebook()\n",
    "dash = pyLDAvis.sklearn.prepare(lda, data_vectorized, vectorizer, mds='tsne')\n",
    "dash"
   ]
  },
  {
   "cell_type": "code",
   "execution_count": null,
   "metadata": {},
   "outputs": [],
   "source": []
  },
  {
   "cell_type": "markdown",
   "metadata": {},
   "source": [
    "# Extract from email"
   ]
  },
  {
   "cell_type": "code",
   "execution_count": 1,
   "metadata": {},
   "outputs": [],
   "source": [
    "import email, getpass, imaplib, os, re\n",
    "import matplotlib.pyplot as plt\n",
    "import html2text\n",
    "import pandas as pd"
   ]
  },
  {
   "cell_type": "code",
   "execution_count": 2,
   "metadata": {},
   "outputs": [],
   "source": [
    "# user = 'crmpredmac@gmail.com'\n",
    "# pwd = getpass.getpass(\"Enter your password --> \")\n",
    "\n",
    "\n",
    "# m = imaplib.IMAP4_SSL(\"imap.gmail.com\")\n",
    "# m.login(user, pwd)\n",
    "\n",
    "# #resp, items = m.search(None, '(FROM \"Google\")')\n",
    "# resp, items = m.search(None,'ALL')\n",
    "# items = items[0].split()  \n",
    "\n",
    "# my_msg = [] # store relevant msgs here in please\n",
    "# msg_cnt = 0\n",
    "# break_ = False"
   ]
  },
  {
   "cell_type": "code",
   "execution_count": 3,
   "metadata": {},
   "outputs": [],
   "source": [
    "# #for emailid in items[::-1]:\n",
    "# for emailid in items[::-4]:\n",
    "#     resp, data = m.fetch(emailid, \"(RFC822)\")\n",
    "#     if ( break_ ):\n",
    "#         break\n",
    "#     for response_part in data[0:1]:\n",
    "#         if isinstance(response_part, tuple):\n",
    "#             msg = email.message_from_string((str(response_part[1])))\n",
    "#             span = l.search(str(response_part[1])).span()[0]\n",
    "#             #span2 = l2.search(str(response_part[1])).span()[0]\n",
    "#             txt = str(response_part[1])[span:-2]\n",
    "#             varSubject = msg['subject']\n",
    "#             varDate = msg['date']"
   ]
  },
  {
   "cell_type": "code",
   "execution_count": null,
   "metadata": {},
   "outputs": [],
   "source": []
  },
  {
   "cell_type": "code",
   "execution_count": 4,
   "metadata": {},
   "outputs": [],
   "source": [
    "re_from = re.compile(u'From:')\n",
    "re_date = re.compile(u'Date:')\n",
    "re_subject = re.compile(u'Subject:')\n",
    "re_slash = re.compile('\\\\r')\n"
   ]
  },
  {
   "cell_type": "code",
   "execution_count": 21,
   "metadata": {},
   "outputs": [
    {
     "name": "stderr",
     "output_type": "stream",
     "text": [
      "100%|██████████| 5/5 [00:00<00:00, 350.30it/s]"
     ]
    },
    {
     "name": "stdout",
     "output_type": "stream",
     "text": [
      "hi, cheap in price so affordable to all. \n",
      "HI, material is good, better build quality. I loved it. \n",
      "hi, This is the worst item I had ever seen \n",
      "dear sir, I liked your Ballet Dress-Up Fairy Tutu item. It fits me perfectly. I love it. \n",
      "Hi, This Ballet Dress-Up Fairy Tutu product seems good to me. May be I suggest this item for my friend also. Thanks Roopesh \n"
     ]
    },
    {
     "name": "stderr",
     "output_type": "stream",
     "text": [
      "\n"
     ]
    }
   ],
   "source": [
    "# Importing libraries\n",
    "import imaplib, email\n",
    "from tqdm import tqdm\n",
    "import email_cred\n",
    "  \n",
    "user = email_cred.username\n",
    "password = email_cred.password\n",
    "imap_url = email_cred.imap_url\n",
    "  \n",
    "# Function to get email content part i.e its body part \n",
    "def get_body(msg): \n",
    "    if msg.is_multipart(): \n",
    "        return get_body(msg.get_payload(0)) \n",
    "    else: \n",
    "        return msg.get_payload(None, True) \n",
    "\n",
    "\n",
    "# Function to search for a key value pair  \n",
    "def search(key, value, con):  \n",
    "    result, data = con.search(None, key, '\"{}\"'.format(value))\n",
    "    #result, data = con.search(None, key)\n",
    "    return data \n",
    "  \n",
    "# Function to get the list of emails under this label\n",
    "def get_emails(result_bytes): \n",
    "    msgs = [] # all the email data are pushed inside an array \n",
    "    for num in result_bytes[0].split(): \n",
    "        typ, data = con.fetch(num, '(RFC822)') \n",
    "        msgs.append(data) \n",
    "  \n",
    "    return msgs \n",
    "  \n",
    "# this is done to make SSL connnection with GMAIL \n",
    "con = imaplib.IMAP4_SSL(imap_url)  \n",
    "  \n",
    "# logging the user in \n",
    "con.login(user, password)  \n",
    "  \n",
    "# calling fuction to check for email under this label \n",
    "con.select('Inbox')  \n",
    "  \n",
    "# fetching emails from this user \"tu**h*****1@gmail.com\" \n",
    "# msgs = get_emails(search('FROM', 'roopeshpredmac@gmail.com', con)) \n",
    "# msgs = get_emails(search('All', 'All', con)) \n",
    "msgs = get_emails(search('Subject', 'review', con)) \n",
    " \n",
    "froms = []\n",
    "dates = []\n",
    "subjects = []\n",
    "contents = []\n",
    "\n",
    "# printing them by the order they are displayed in your gmail  \n",
    "for msg in tqdm(msgs[::-1]):  \n",
    "    for sent in msg: \n",
    "        if type(sent) is tuple:  \n",
    "\n",
    "            # encoding set as utf-8 \n",
    "            content = str(sent[1], 'utf-8')  \n",
    "            data = str(content) \n",
    "\n",
    "            # Handling errors related to unicodenecode \n",
    "            try:  \n",
    "                indexstart = data.find(\"ltr\") \n",
    "                data2 = data[indexstart + 5: len(data)] \n",
    "                ends = [m.start() for m in re.finditer('</div>', data2)]\n",
    "\n",
    "                span = re_from.search(data).span()[0]\n",
    "                span2 = data[span:-1].find('\\r')\n",
    "                froms.append(data[span+6:span2+span])\n",
    "                span = re_date.search(data).span()[0]\n",
    "                span2 = data[span:-1].find('\\r')\n",
    "                dates.append(data[span+6:span2+span])\n",
    "                span = re_subject.search(data).span()[0]\n",
    "                span2 = data[span:-1].find('\\r')\n",
    "                subjects.append(data[span+9:span2+span])\n",
    "                contents.append(re.sub(' +', ' ',html2text.html2text(data2[0:ends[-1]]).replace('\\n',' ')))\n",
    "                # printtng the required content which we need \n",
    "                # to extract from our email i.e our body\n",
    "                df = pd.DataFrame()\n",
    "                df['date'] = dates\n",
    "                df['from'] = froms\n",
    "                df['title'] = subjects\n",
    "                df['comments'] = contents\n",
    "                print(re.sub(' +', ' ',html2text.html2text(data2[0:ends[-1]]).replace('\\n',' '))) \n",
    "\n",
    "            except UnicodeEncodeError as e: \n",
    "                pass\n",
    "            \n",
    "df.to_csv('/home/gpu1/work_space/disk3_work_space3/CRM_Topic_models/input/review_from_mail.csv',index=False)"
   ]
  },
  {
   "cell_type": "code",
   "execution_count": 22,
   "metadata": {},
   "outputs": [
    {
     "data": {
      "text/plain": [
       "(['Roopesh P <roopeshpredmac@gmail.com>',\n",
       "  'Roopesh P <roopeshpredmac@gmail.com>',\n",
       "  'Roopesh P <roopeshpredmac@gmail.com>',\n",
       "  'Roopesh P <roopeshpredmac@gmail.com>',\n",
       "  'Roopesh P <roopeshpredmac@gmail.com>'],\n",
       " ['Tue, 26 Nov 2019 15:24:45 +0530',\n",
       "  'Tue, 26 Nov 2019 15:24:19 +0530',\n",
       "  'Tue, 26 Nov 2019 15:23:42 +0530',\n",
       "  'Mon, 25 Nov 2019 17:42:52 +0530',\n",
       "  'Mon, 25 Nov 2019 16:37:06 +0530'],\n",
       " ['Review', 'Review', 'Review', 'Review', 'Review'],\n",
       " ['hi, cheap in price so affordable to all. ',\n",
       "  'HI, material is good, better build quality. I loved it. ',\n",
       "  'hi, This is the worst item I had ever seen ',\n",
       "  'dear sir, I liked your Ballet Dress-Up Fairy Tutu item. It fits me perfectly. I love it. ',\n",
       "  'Hi, This Ballet Dress-Up Fairy Tutu product seems good to me. May be I suggest this item for my friend also. Thanks Roopesh '])"
      ]
     },
     "execution_count": 22,
     "metadata": {},
     "output_type": "execute_result"
    }
   ],
   "source": [
    "froms,dates,subjects,contents"
   ]
  },
  {
   "cell_type": "code",
   "execution_count": 23,
   "metadata": {},
   "outputs": [
    {
     "data": {
      "text/html": [
       "<div>\n",
       "<style scoped>\n",
       "    .dataframe tbody tr th:only-of-type {\n",
       "        vertical-align: middle;\n",
       "    }\n",
       "\n",
       "    .dataframe tbody tr th {\n",
       "        vertical-align: top;\n",
       "    }\n",
       "\n",
       "    .dataframe thead th {\n",
       "        text-align: right;\n",
       "    }\n",
       "</style>\n",
       "<table border=\"1\" class=\"dataframe\">\n",
       "  <thead>\n",
       "    <tr style=\"text-align: right;\">\n",
       "      <th></th>\n",
       "      <th>date</th>\n",
       "      <th>from</th>\n",
       "      <th>title</th>\n",
       "      <th>comments</th>\n",
       "    </tr>\n",
       "  </thead>\n",
       "  <tbody>\n",
       "    <tr>\n",
       "      <th>0</th>\n",
       "      <td>Tue, 26 Nov 2019 15:24:45 +0530</td>\n",
       "      <td>Roopesh P &lt;roopeshpredmac@gmail.com&gt;</td>\n",
       "      <td>Review</td>\n",
       "      <td>hi, cheap in price so affordable to all.</td>\n",
       "    </tr>\n",
       "    <tr>\n",
       "      <th>1</th>\n",
       "      <td>Tue, 26 Nov 2019 15:24:19 +0530</td>\n",
       "      <td>Roopesh P &lt;roopeshpredmac@gmail.com&gt;</td>\n",
       "      <td>Review</td>\n",
       "      <td>HI, material is good, better build quality. I ...</td>\n",
       "    </tr>\n",
       "    <tr>\n",
       "      <th>2</th>\n",
       "      <td>Tue, 26 Nov 2019 15:23:42 +0530</td>\n",
       "      <td>Roopesh P &lt;roopeshpredmac@gmail.com&gt;</td>\n",
       "      <td>Review</td>\n",
       "      <td>hi, This is the worst item I had ever seen</td>\n",
       "    </tr>\n",
       "    <tr>\n",
       "      <th>3</th>\n",
       "      <td>Mon, 25 Nov 2019 17:42:52 +0530</td>\n",
       "      <td>Roopesh P &lt;roopeshpredmac@gmail.com&gt;</td>\n",
       "      <td>Review</td>\n",
       "      <td>dear sir, I liked your Ballet Dress-Up Fairy T...</td>\n",
       "    </tr>\n",
       "    <tr>\n",
       "      <th>4</th>\n",
       "      <td>Mon, 25 Nov 2019 16:37:06 +0530</td>\n",
       "      <td>Roopesh P &lt;roopeshpredmac@gmail.com&gt;</td>\n",
       "      <td>Review</td>\n",
       "      <td>Hi, This Ballet Dress-Up Fairy Tutu product se...</td>\n",
       "    </tr>\n",
       "  </tbody>\n",
       "</table>\n",
       "</div>"
      ],
      "text/plain": [
       "                              date                                  from  \\\n",
       "0  Tue, 26 Nov 2019 15:24:45 +0530  Roopesh P <roopeshpredmac@gmail.com>   \n",
       "1  Tue, 26 Nov 2019 15:24:19 +0530  Roopesh P <roopeshpredmac@gmail.com>   \n",
       "2  Tue, 26 Nov 2019 15:23:42 +0530  Roopesh P <roopeshpredmac@gmail.com>   \n",
       "3  Mon, 25 Nov 2019 17:42:52 +0530  Roopesh P <roopeshpredmac@gmail.com>   \n",
       "4  Mon, 25 Nov 2019 16:37:06 +0530  Roopesh P <roopeshpredmac@gmail.com>   \n",
       "\n",
       "    title                                           comments  \n",
       "0  Review          hi, cheap in price so affordable to all.   \n",
       "1  Review  HI, material is good, better build quality. I ...  \n",
       "2  Review        hi, This is the worst item I had ever seen   \n",
       "3  Review  dear sir, I liked your Ballet Dress-Up Fairy T...  \n",
       "4  Review  Hi, This Ballet Dress-Up Fairy Tutu product se...  "
      ]
     },
     "execution_count": 23,
     "metadata": {},
     "output_type": "execute_result"
    }
   ],
   "source": [
    "df"
   ]
  },
  {
   "cell_type": "code",
   "execution_count": null,
   "metadata": {},
   "outputs": [],
   "source": []
  },
  {
   "cell_type": "code",
   "execution_count": 9,
   "metadata": {},
   "outputs": [
    {
     "data": {
      "text/html": [
       "<div>\n",
       "<style scoped>\n",
       "    .dataframe tbody tr th:only-of-type {\n",
       "        vertical-align: middle;\n",
       "    }\n",
       "\n",
       "    .dataframe tbody tr th {\n",
       "        vertical-align: top;\n",
       "    }\n",
       "\n",
       "    .dataframe thead th {\n",
       "        text-align: right;\n",
       "    }\n",
       "</style>\n",
       "<table border=\"1\" class=\"dataframe\">\n",
       "  <thead>\n",
       "    <tr style=\"text-align: right;\">\n",
       "      <th></th>\n",
       "      <th>comments</th>\n",
       "      <th>rating</th>\n",
       "      <th>asin</th>\n",
       "      <th>brand</th>\n",
       "      <th>title</th>\n",
       "      <th>categories</th>\n",
       "    </tr>\n",
       "  </thead>\n",
       "  <tbody>\n",
       "    <tr>\n",
       "      <th>0</th>\n",
       "      <td>Perfect red tutu for the price. I baught it as...</td>\n",
       "      <td>5.0</td>\n",
       "      <td>0000031887</td>\n",
       "      <td>Boutique Cutie</td>\n",
       "      <td>Ballet Dress-Up Fairy Tutu</td>\n",
       "      <td>[['Clothing, Shoes &amp; Jewelry', 'Girls', 'Cloth...</td>\n",
       "    </tr>\n",
       "    <tr>\n",
       "      <th>1</th>\n",
       "      <td>This was a really cute tutu the only problem i...</td>\n",
       "      <td>4.0</td>\n",
       "      <td>0000031887</td>\n",
       "      <td>Boutique Cutie</td>\n",
       "      <td>Ballet Dress-Up Fairy Tutu</td>\n",
       "      <td>[['Clothing, Shoes &amp; Jewelry', 'Girls', 'Cloth...</td>\n",
       "    </tr>\n",
       "    <tr>\n",
       "      <th>2</th>\n",
       "      <td>the tutu color was very nice. the only issue w...</td>\n",
       "      <td>2.0</td>\n",
       "      <td>0000031887</td>\n",
       "      <td>Boutique Cutie</td>\n",
       "      <td>Ballet Dress-Up Fairy Tutu</td>\n",
       "      <td>[['Clothing, Shoes &amp; Jewelry', 'Girls', 'Cloth...</td>\n",
       "    </tr>\n",
       "    <tr>\n",
       "      <th>3</th>\n",
       "      <td>My 3-yr-old daughter received this as a gift f...</td>\n",
       "      <td>1.0</td>\n",
       "      <td>0000031887</td>\n",
       "      <td>Boutique Cutie</td>\n",
       "      <td>Ballet Dress-Up Fairy Tutu</td>\n",
       "      <td>[['Clothing, Shoes &amp; Jewelry', 'Girls', 'Cloth...</td>\n",
       "    </tr>\n",
       "    <tr>\n",
       "      <th>4</th>\n",
       "      <td>Bought it for my daughters first birthday whic...</td>\n",
       "      <td>4.0</td>\n",
       "      <td>0000031887</td>\n",
       "      <td>Boutique Cutie</td>\n",
       "      <td>Ballet Dress-Up Fairy Tutu</td>\n",
       "      <td>[['Clothing, Shoes &amp; Jewelry', 'Girls', 'Cloth...</td>\n",
       "    </tr>\n",
       "  </tbody>\n",
       "</table>\n",
       "</div>"
      ],
      "text/plain": [
       "                                            comments  rating        asin  \\\n",
       "0  Perfect red tutu for the price. I baught it as...     5.0  0000031887   \n",
       "1  This was a really cute tutu the only problem i...     4.0  0000031887   \n",
       "2  the tutu color was very nice. the only issue w...     2.0  0000031887   \n",
       "3  My 3-yr-old daughter received this as a gift f...     1.0  0000031887   \n",
       "4  Bought it for my daughters first birthday whic...     4.0  0000031887   \n",
       "\n",
       "            brand                       title  \\\n",
       "0  Boutique Cutie  Ballet Dress-Up Fairy Tutu   \n",
       "1  Boutique Cutie  Ballet Dress-Up Fairy Tutu   \n",
       "2  Boutique Cutie  Ballet Dress-Up Fairy Tutu   \n",
       "3  Boutique Cutie  Ballet Dress-Up Fairy Tutu   \n",
       "4  Boutique Cutie  Ballet Dress-Up Fairy Tutu   \n",
       "\n",
       "                                          categories  \n",
       "0  [['Clothing, Shoes & Jewelry', 'Girls', 'Cloth...  \n",
       "1  [['Clothing, Shoes & Jewelry', 'Girls', 'Cloth...  \n",
       "2  [['Clothing, Shoes & Jewelry', 'Girls', 'Cloth...  \n",
       "3  [['Clothing, Shoes & Jewelry', 'Girls', 'Cloth...  \n",
       "4  [['Clothing, Shoes & Jewelry', 'Girls', 'Cloth...  "
      ]
     },
     "execution_count": 9,
     "metadata": {},
     "output_type": "execute_result"
    }
   ],
   "source": [
    "reviews_ms1 = pd.read_csv('/home/gpu1/work_space/disk3_work_space3/CRM_Topic_models/input/amazon_cloth_shoe_watches_reviews_with_title.csv')\n",
    "reviews_ms1.head()"
   ]
  },
  {
   "cell_type": "code",
   "execution_count": null,
   "metadata": {},
   "outputs": [],
   "source": []
  }
 ],
 "metadata": {
  "kernelspec": {
   "display_name": "Python [conda env:fastaipy372] *",
   "language": "python",
   "name": "conda-env-fastaipy372-py"
  },
  "language_info": {
   "codemirror_mode": {
    "name": "ipython",
    "version": 3
   },
   "file_extension": ".py",
   "mimetype": "text/x-python",
   "name": "python",
   "nbconvert_exporter": "python",
   "pygments_lexer": "ipython3",
   "version": "3.7.2"
  }
 },
 "nbformat": 4,
 "nbformat_minor": 2
}
