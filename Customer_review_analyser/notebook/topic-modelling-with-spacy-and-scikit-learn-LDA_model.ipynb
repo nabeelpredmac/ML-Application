{
 "cells": [
  {
   "cell_type": "markdown",
   "metadata": {
    "_uuid": "0e7f1eca6087c4c45c31bc6045dea57a3f37b89f"
   },
   "source": [
    "# Aim and Motivation \n",
    "[Nirant](https://www.kaggle.com/nirant)'s latest kernel on spaCy: [Hitchhiker's Guide to NLP in spaCy](https://www.kaggle.com/nirant/hitchhiker-s-guide-to-nlp-in-spacy) has made me realize that spaCy maybe as good or even better than NLTK for Natural Language Processing. My recent kernels deal with deep learning and I want to extend that by using text data for deep learning and intend to use spaCy for processing and modelling this data. "
   ]
  },
  {
   "cell_type": "code",
   "execution_count": 1,
   "metadata": {
    "_cell_guid": "b1076dfc-b9ad-4769-8c92-a6c4dae69d19",
    "_uuid": "8f2839f25d086af736a60e9eeb907d3b93b6e0e5"
   },
   "outputs": [
    {
     "name": "stdout",
     "output_type": "stream",
     "text": [
      "['Bag_Reviews.xlsx', 'productReviewShopee_1.csv']\n"
     ]
    },
    {
     "data": {
      "text/html": [
       "        <script type=\"text/javascript\">\n",
       "        window.PlotlyConfig = {MathJaxConfig: 'local'};\n",
       "        if (window.MathJax) {MathJax.Hub.Config({SVG: {font: \"STIX-Web\"}});}\n",
       "        if (typeof require !== 'undefined') {\n",
       "        require.undef(\"plotly\");\n",
       "        requirejs.config({\n",
       "            paths: {\n",
       "                'plotly': ['https://cdn.plot.ly/plotly-latest.min']\n",
       "            }\n",
       "        });\n",
       "        require(['plotly'], function(Plotly) {\n",
       "            window._Plotly = Plotly;\n",
       "        });\n",
       "        }\n",
       "        </script>\n",
       "        "
      ]
     },
     "metadata": {},
     "output_type": "display_data"
    }
   ],
   "source": [
    "# Usual imports\n",
    "import numpy as np\n",
    "import pandas as pd\n",
    "from tqdm import tqdm\n",
    "import string\n",
    "import matplotlib.pyplot as plt\n",
    "from sklearn.decomposition import NMF, LatentDirichletAllocation, TruncatedSVD\n",
    "from sklearn.feature_extraction.text import CountVectorizer\n",
    "from sklearn.manifold import TSNE\n",
    "import concurrent.futures\n",
    "import time\n",
    "import pyLDAvis.sklearn\n",
    "from pylab import bone, pcolor, colorbar, plot, show, rcParams, savefig\n",
    "import warnings\n",
    "warnings.filterwarnings('ignore')\n",
    "\n",
    "%matplotlib inline\n",
    "import os\n",
    "print(os.listdir(\"../data\"))\n",
    "\n",
    "# Plotly based imports for visualization\n",
    "from plotly import tools\n",
    "import chart_studio.plotly as py\n",
    "from plotly.offline import init_notebook_mode, iplot\n",
    "init_notebook_mode(connected=True)\n",
    "import plotly.graph_objs as go\n",
    "import plotly.figure_factory as ff\n",
    "\n",
    "# spaCy based imports\n",
    "import spacy\n",
    "from spacy.lang.en.stop_words import STOP_WORDS\n",
    "from spacy.lang.en import English\n",
    "#!python -m spacy download en_core_web_lg"
   ]
  },
  {
   "cell_type": "code",
   "execution_count": 2,
   "metadata": {},
   "outputs": [],
   "source": [
    "import bz2\n",
    "import re"
   ]
  },
  {
   "cell_type": "code",
   "execution_count": 3,
   "metadata": {},
   "outputs": [
    {
     "data": {
      "text/html": [
       "<div>\n",
       "<style scoped>\n",
       "    .dataframe tbody tr th:only-of-type {\n",
       "        vertical-align: middle;\n",
       "    }\n",
       "\n",
       "    .dataframe tbody tr th {\n",
       "        vertical-align: top;\n",
       "    }\n",
       "\n",
       "    .dataframe thead th {\n",
       "        text-align: right;\n",
       "    }\n",
       "</style>\n",
       "<table border=\"1\" class=\"dataframe\">\n",
       "  <thead>\n",
       "    <tr style=\"text-align: right;\">\n",
       "      <th></th>\n",
       "      <th>rating</th>\n",
       "      <th>comments</th>\n",
       "    </tr>\n",
       "  </thead>\n",
       "  <tbody>\n",
       "    <tr>\n",
       "      <th>0</th>\n",
       "      <td>4</td>\n",
       "      <td>Give 4 stars because order at the price 37 but...</td>\n",
       "    </tr>\n",
       "    <tr>\n",
       "      <th>1</th>\n",
       "      <td>5</td>\n",
       "      <td>Ordered at a discount of 10 baht per piece. It...</td>\n",
       "    </tr>\n",
       "    <tr>\n",
       "      <th>2</th>\n",
       "      <td>5</td>\n",
       "      <td>Small, cute, compact, good But the sash looks ...</td>\n",
       "    </tr>\n",
       "    <tr>\n",
       "      <th>3</th>\n",
       "      <td>1</td>\n",
       "      <td>The size is not as large as it is down. The st...</td>\n",
       "    </tr>\n",
       "    <tr>\n",
       "      <th>4</th>\n",
       "      <td>1</td>\n",
       "      <td>The product is compared to the price. Okay. Se...</td>\n",
       "    </tr>\n",
       "  </tbody>\n",
       "</table>\n",
       "</div>"
      ],
      "text/plain": [
       "   rating                                           comments\n",
       "0       4  Give 4 stars because order at the price 37 but...\n",
       "1       5  Ordered at a discount of 10 baht per piece. It...\n",
       "2       5  Small, cute, compact, good But the sash looks ...\n",
       "3       1  The size is not as large as it is down. The st...\n",
       "4       1  The product is compared to the price. Okay. Se..."
      ]
     },
     "execution_count": 3,
     "metadata": {},
     "output_type": "execute_result"
    }
   ],
   "source": [
    "reviews_ms = pd.read_excel('../data/Bag_Reviews.xlsx')\n",
    "reviews_ms = reviews_ms[['rating','comments']]\n",
    "reviews_ms.head()"
   ]
  },
  {
   "cell_type": "code",
   "execution_count": 4,
   "metadata": {},
   "outputs": [
    {
     "data": {
      "text/html": [
       "<div>\n",
       "<style scoped>\n",
       "    .dataframe tbody tr th:only-of-type {\n",
       "        vertical-align: middle;\n",
       "    }\n",
       "\n",
       "    .dataframe tbody tr th {\n",
       "        vertical-align: top;\n",
       "    }\n",
       "\n",
       "    .dataframe thead th {\n",
       "        text-align: right;\n",
       "    }\n",
       "</style>\n",
       "<table border=\"1\" class=\"dataframe\">\n",
       "  <thead>\n",
       "    <tr style=\"text-align: right;\">\n",
       "      <th></th>\n",
       "      <th>rating</th>\n",
       "      <th>comments</th>\n",
       "    </tr>\n",
       "  </thead>\n",
       "  <tbody>\n",
       "    <tr>\n",
       "      <th>0</th>\n",
       "      <td>4</td>\n",
       "      <td>Give 4 stars because order at the price 37 but...</td>\n",
       "    </tr>\n",
       "    <tr>\n",
       "      <th>1</th>\n",
       "      <td>5</td>\n",
       "      <td>Ordered at a discount of 10 baht per piece. It...</td>\n",
       "    </tr>\n",
       "    <tr>\n",
       "      <th>2</th>\n",
       "      <td>5</td>\n",
       "      <td>Small, cute, compact, good But the sash looks ...</td>\n",
       "    </tr>\n",
       "    <tr>\n",
       "      <th>3</th>\n",
       "      <td>1</td>\n",
       "      <td>The size is not as large as it is down. The st...</td>\n",
       "    </tr>\n",
       "    <tr>\n",
       "      <th>4</th>\n",
       "      <td>1</td>\n",
       "      <td>The product is compared to the price. Okay. Se...</td>\n",
       "    </tr>\n",
       "  </tbody>\n",
       "</table>\n",
       "</div>"
      ],
      "text/plain": [
       "   rating                                           comments\n",
       "0       4  Give 4 stars because order at the price 37 but...\n",
       "1       5  Ordered at a discount of 10 baht per piece. It...\n",
       "2       5  Small, cute, compact, good But the sash looks ...\n",
       "3       1  The size is not as large as it is down. The st...\n",
       "4       1  The product is compared to the price. Okay. Se..."
      ]
     },
     "execution_count": 4,
     "metadata": {},
     "output_type": "execute_result"
    }
   ],
   "source": [
    "#reviews_ms=pd.DataFrame({'rating':test_labels,'comments':test_sentences})\n",
    "reviews=reviews_ms\n",
    "reviews.head()"
   ]
  },
  {
   "cell_type": "code",
   "execution_count": 5,
   "metadata": {},
   "outputs": [
    {
     "data": {
      "text/plain": [
       "(3182, 2)"
      ]
     },
     "execution_count": 5,
     "metadata": {},
     "output_type": "execute_result"
    }
   ],
   "source": [
    "reviews.shape"
   ]
  },
  {
   "cell_type": "markdown",
   "metadata": {},
   "source": [
    "### Remove Duplicates "
   ]
  },
  {
   "cell_type": "code",
   "execution_count": 6,
   "metadata": {},
   "outputs": [
    {
     "data": {
      "text/plain": [
       "(2677, 2)"
      ]
     },
     "execution_count": 6,
     "metadata": {},
     "output_type": "execute_result"
    }
   ],
   "source": [
    "reviews.drop_duplicates().shape"
   ]
  },
  {
   "cell_type": "code",
   "execution_count": 7,
   "metadata": {},
   "outputs": [
    {
     "data": {
      "text/html": [
       "<div>\n",
       "<style scoped>\n",
       "    .dataframe tbody tr th:only-of-type {\n",
       "        vertical-align: middle;\n",
       "    }\n",
       "\n",
       "    .dataframe tbody tr th {\n",
       "        vertical-align: top;\n",
       "    }\n",
       "\n",
       "    .dataframe thead th {\n",
       "        text-align: right;\n",
       "    }\n",
       "</style>\n",
       "<table border=\"1\" class=\"dataframe\">\n",
       "  <thead>\n",
       "    <tr style=\"text-align: right;\">\n",
       "      <th></th>\n",
       "      <th>rating</th>\n",
       "      <th>comments</th>\n",
       "    </tr>\n",
       "  </thead>\n",
       "  <tbody>\n",
       "    <tr>\n",
       "      <th>0</th>\n",
       "      <td>4</td>\n",
       "      <td>Give 4 stars because order at the price 37 but...</td>\n",
       "    </tr>\n",
       "    <tr>\n",
       "      <th>1</th>\n",
       "      <td>5</td>\n",
       "      <td>Ordered at a discount of 10 baht per piece. It...</td>\n",
       "    </tr>\n",
       "    <tr>\n",
       "      <th>2</th>\n",
       "      <td>5</td>\n",
       "      <td>Small, cute, compact, good But the sash looks ...</td>\n",
       "    </tr>\n",
       "    <tr>\n",
       "      <th>3</th>\n",
       "      <td>1</td>\n",
       "      <td>The size is not as large as it is down. The st...</td>\n",
       "    </tr>\n",
       "    <tr>\n",
       "      <th>4</th>\n",
       "      <td>1</td>\n",
       "      <td>The product is compared to the price. Okay. Se...</td>\n",
       "    </tr>\n",
       "  </tbody>\n",
       "</table>\n",
       "</div>"
      ],
      "text/plain": [
       "   rating                                           comments\n",
       "0       4  Give 4 stars because order at the price 37 but...\n",
       "1       5  Ordered at a discount of 10 baht per piece. It...\n",
       "2       5  Small, cute, compact, good But the sash looks ...\n",
       "3       1  The size is not as large as it is down. The st...\n",
       "4       1  The product is compared to the price. Okay. Se..."
      ]
     },
     "execution_count": 7,
     "metadata": {},
     "output_type": "execute_result"
    }
   ],
   "source": [
    "reviews=reviews.drop_duplicates()\n",
    "reviews.head()"
   ]
  },
  {
   "cell_type": "markdown",
   "metadata": {},
   "source": [
    "### Remove very small text"
   ]
  },
  {
   "cell_type": "code",
   "execution_count": 8,
   "metadata": {},
   "outputs": [],
   "source": [
    "reviews.comments=reviews.comments.astype(str)\n",
    "reviews['len_review']=reviews.comments.apply(len)"
   ]
  },
  {
   "cell_type": "code",
   "execution_count": 9,
   "metadata": {},
   "outputs": [
    {
     "data": {
      "text/plain": [
       "count    2677.000000\n",
       "mean      163.776242\n",
       "std       131.114011\n",
       "min         2.000000\n",
       "25%        77.000000\n",
       "50%       140.000000\n",
       "75%       202.000000\n",
       "max      1236.000000\n",
       "Name: len_review, dtype: float64"
      ]
     },
     "execution_count": 9,
     "metadata": {},
     "output_type": "execute_result"
    }
   ],
   "source": [
    "reviews.len_review.describe()"
   ]
  },
  {
   "cell_type": "code",
   "execution_count": 10,
   "metadata": {},
   "outputs": [],
   "source": [
    "#reviews.comments.loc[reviews.len_review>=300]"
   ]
  },
  {
   "cell_type": "code",
   "execution_count": 11,
   "metadata": {},
   "outputs": [],
   "source": [
    "reviews.comments=reviews.comments.apply(lambda x: x.replace('👍','good '))"
   ]
  },
  {
   "cell_type": "code",
   "execution_count": 12,
   "metadata": {},
   "outputs": [
    {
     "data": {
      "text/html": [
       "<div>\n",
       "<style scoped>\n",
       "    .dataframe tbody tr th:only-of-type {\n",
       "        vertical-align: middle;\n",
       "    }\n",
       "\n",
       "    .dataframe tbody tr th {\n",
       "        vertical-align: top;\n",
       "    }\n",
       "\n",
       "    .dataframe thead th {\n",
       "        text-align: right;\n",
       "    }\n",
       "</style>\n",
       "<table border=\"1\" class=\"dataframe\">\n",
       "  <thead>\n",
       "    <tr style=\"text-align: right;\">\n",
       "      <th></th>\n",
       "      <th>rating</th>\n",
       "      <th>comments</th>\n",
       "      <th>len_review</th>\n",
       "    </tr>\n",
       "  </thead>\n",
       "  <tbody>\n",
       "    <tr>\n",
       "      <th>0</th>\n",
       "      <td>4</td>\n",
       "      <td>Give 4 stars because order at the price 37 but...</td>\n",
       "      <td>66</td>\n",
       "    </tr>\n",
       "    <tr>\n",
       "      <th>1</th>\n",
       "      <td>5</td>\n",
       "      <td>Ordered at a discount of 10 baht per piece. It...</td>\n",
       "      <td>167</td>\n",
       "    </tr>\n",
       "    <tr>\n",
       "      <th>2</th>\n",
       "      <td>5</td>\n",
       "      <td>Small, cute, compact, good But the sash looks ...</td>\n",
       "      <td>150</td>\n",
       "    </tr>\n",
       "    <tr>\n",
       "      <th>3</th>\n",
       "      <td>1</td>\n",
       "      <td>The size is not as large as it is down. The st...</td>\n",
       "      <td>135</td>\n",
       "    </tr>\n",
       "    <tr>\n",
       "      <th>5</th>\n",
       "      <td>4</td>\n",
       "      <td>Beautiful work Sewing Good compact Suitable fo...</td>\n",
       "      <td>111</td>\n",
       "    </tr>\n",
       "  </tbody>\n",
       "</table>\n",
       "</div>"
      ],
      "text/plain": [
       "   rating                                           comments  len_review\n",
       "0       4  Give 4 stars because order at the price 37 but...          66\n",
       "1       5  Ordered at a discount of 10 baht per piece. It...         167\n",
       "2       5  Small, cute, compact, good But the sash looks ...         150\n",
       "3       1  The size is not as large as it is down. The st...         135\n",
       "5       4  Beautiful work Sewing Good compact Suitable fo...         111"
      ]
     },
     "execution_count": 12,
     "metadata": {},
     "output_type": "execute_result"
    }
   ],
   "source": [
    "s_limit=200\n",
    "max_limit=1300\n",
    "reviews=reviews.loc[reviews.len_review<=s_limit,:]\n",
    "reviews.head()"
   ]
  },
  {
   "cell_type": "code",
   "execution_count": 13,
   "metadata": {},
   "outputs": [
    {
     "data": {
      "text/plain": [
       "((2000, 3), (3182, 2))"
      ]
     },
     "execution_count": 13,
     "metadata": {},
     "output_type": "execute_result"
    }
   ],
   "source": [
    "reviews.shape, reviews_ms.shape"
   ]
  },
  {
   "cell_type": "code",
   "execution_count": 14,
   "metadata": {},
   "outputs": [
    {
     "data": {
      "text/plain": [
       "count    2000.000000\n",
       "mean      105.794500\n",
       "std        55.747216\n",
       "min         2.000000\n",
       "25%        52.000000\n",
       "50%       118.000000\n",
       "75%       150.250000\n",
       "max       200.000000\n",
       "Name: len_review, dtype: float64"
      ]
     },
     "execution_count": 14,
     "metadata": {},
     "output_type": "execute_result"
    }
   ],
   "source": [
    "reviews.len_review.describe()"
   ]
  },
  {
   "cell_type": "code",
   "execution_count": 15,
   "metadata": {},
   "outputs": [
    {
     "data": {
      "text/plain": [
       "200"
      ]
     },
     "execution_count": 15,
     "metadata": {},
     "output_type": "execute_result"
    }
   ],
   "source": [
    "int(reviews.shape[0]*.1)"
   ]
  },
  {
   "cell_type": "code",
   "execution_count": 16,
   "metadata": {},
   "outputs": [],
   "source": [
    "#tqdm.pandas()\n",
    "reviews_ms['len_review']=reviews_ms.comments.apply(len)\n",
    "reviews_others=reviews_ms.loc[((reviews_ms.len_review>s_limit) &(reviews_ms.len_review<max_limit)) ,:]"
   ]
  },
  {
   "cell_type": "code",
   "execution_count": 17,
   "metadata": {},
   "outputs": [
    {
     "data": {
      "text/plain": [
       "(749, 3)"
      ]
     },
     "execution_count": 17,
     "metadata": {},
     "output_type": "execute_result"
    }
   ],
   "source": [
    "reviews_others.shape"
   ]
  },
  {
   "cell_type": "code",
   "execution_count": 18,
   "metadata": {},
   "outputs": [
    {
     "data": {
      "text/html": [
       "<div>\n",
       "<style scoped>\n",
       "    .dataframe tbody tr th:only-of-type {\n",
       "        vertical-align: middle;\n",
       "    }\n",
       "\n",
       "    .dataframe tbody tr th {\n",
       "        vertical-align: top;\n",
       "    }\n",
       "\n",
       "    .dataframe thead th {\n",
       "        text-align: right;\n",
       "    }\n",
       "</style>\n",
       "<table border=\"1\" class=\"dataframe\">\n",
       "  <thead>\n",
       "    <tr style=\"text-align: right;\">\n",
       "      <th></th>\n",
       "      <th>rating</th>\n",
       "      <th>comments</th>\n",
       "      <th>len_review</th>\n",
       "    </tr>\n",
       "  </thead>\n",
       "  <tbody>\n",
       "    <tr>\n",
       "      <th>2089</th>\n",
       "      <td>5</td>\n",
       "      <td>Beautiful, good price, but the line is not str...</td>\n",
       "      <td>379</td>\n",
       "    </tr>\n",
       "    <tr>\n",
       "      <th>2177</th>\n",
       "      <td>5</td>\n",
       "      <td>Good cheap products Value for money Fast deliv...</td>\n",
       "      <td>246</td>\n",
       "    </tr>\n",
       "    <tr>\n",
       "      <th>1456</th>\n",
       "      <td>4</td>\n",
       "      <td>Fast delivery shop Receive the product in acco...</td>\n",
       "      <td>218</td>\n",
       "    </tr>\n",
       "    <tr>\n",
       "      <th>2324</th>\n",
       "      <td>5</td>\n",
       "      <td>Very good. Very good. Reed. Press. Reed. Press...</td>\n",
       "      <td>263</td>\n",
       "    </tr>\n",
       "    <tr>\n",
       "      <th>1686</th>\n",
       "      <td>2</td>\n",
       "      <td>Buy the product at the price of 8 baht, but pr...</td>\n",
       "      <td>229</td>\n",
       "    </tr>\n",
       "  </tbody>\n",
       "</table>\n",
       "</div>"
      ],
      "text/plain": [
       "      rating                                           comments  len_review\n",
       "2089       5  Beautiful, good price, but the line is not str...         379\n",
       "2177       5  Good cheap products Value for money Fast deliv...         246\n",
       "1456       4  Fast delivery shop Receive the product in acco...         218\n",
       "2324       5  Very good. Very good. Reed. Press. Reed. Press...         263\n",
       "1686       2  Buy the product at the price of 8 baht, but pr...         229"
      ]
     },
     "execution_count": 18,
     "metadata": {},
     "output_type": "execute_result"
    }
   ],
   "source": [
    "reviews_outliers=reviews_others.sample(int(reviews.shape[0]*.1))\n",
    "reviews_outliers.head()"
   ]
  },
  {
   "cell_type": "code",
   "execution_count": 19,
   "metadata": {},
   "outputs": [
    {
     "data": {
      "text/plain": [
       "(549, 3)"
      ]
     },
     "execution_count": 19,
     "metadata": {},
     "output_type": "execute_result"
    }
   ],
   "source": [
    "reviews_outliers_remain = reviews_others[~reviews_others.index.isin(reviews_outliers.index)]\n",
    "reviews_outliers_remain.shape"
   ]
  },
  {
   "cell_type": "code",
   "execution_count": 20,
   "metadata": {},
   "outputs": [
    {
     "data": {
      "text/plain": [
       "(200, 3)"
      ]
     },
     "execution_count": 20,
     "metadata": {},
     "output_type": "execute_result"
    }
   ],
   "source": [
    "reviews_outliers.shape"
   ]
  },
  {
   "cell_type": "code",
   "execution_count": 21,
   "metadata": {},
   "outputs": [
    {
     "data": {
      "text/plain": [
       "count    2200.000000\n",
       "mean      128.273182\n",
       "std       101.729377\n",
       "min         2.000000\n",
       "25%        59.000000\n",
       "50%       125.000000\n",
       "75%       161.000000\n",
       "max      1236.000000\n",
       "Name: len_review, dtype: float64"
      ]
     },
     "execution_count": 21,
     "metadata": {},
     "output_type": "execute_result"
    }
   ],
   "source": [
    "reviews=reviews.append(reviews_outliers)\n",
    "reviews.reset_index(inplace=True)\n",
    "reviews.len_review.describe()"
   ]
  },
  {
   "cell_type": "code",
   "execution_count": 22,
   "metadata": {
    "_uuid": "17fe81e7e90dfb32681f56a03b9136bbb74343b8"
   },
   "outputs": [],
   "source": [
    "# Creating a spaCy object\n",
    "nlp = spacy.load('en_core_web_lg')"
   ]
  },
  {
   "cell_type": "markdown",
   "metadata": {
    "_uuid": "6662c89d96296025b13d25e9addf6bb6a5dee520"
   },
   "source": [
    "spaCy also comes with a built-in named entity visualizer that lets you check your model's predictions in your browser. You can pass in one or more <code>Doc</code> objects and start a web server, export HTML files or view the visualization directly from a Jupyter Notebook."
   ]
  },
  {
   "cell_type": "markdown",
   "metadata": {
    "_uuid": "2c482d29cffb29c2b444086a5035b15468ff13e5"
   },
   "source": [
    "### Named Entity Recognition\n",
    " Named Entity Recognition is an information extraction task where named entities in unstructured sentences are located and classified  in some pre-defined categories such as the person names, organizations, locations, medical codes, time expressions, quantities, monetary values, percentages, etc."
   ]
  },
  {
   "cell_type": "code",
   "execution_count": 23,
   "metadata": {
    "_uuid": "677e753450ddea24b1289e3033a2f7928710ef25"
   },
   "outputs": [
    {
     "data": {
      "text/html": [
       "<div class=\"entities\" style=\"line-height: 2.5\">Give \n",
       "<mark class=\"entity\" style=\"background: #e4e7d2; padding: 0.45em 0.6em; margin: 0 0.25em; line-height: 1; border-radius: 0.35em; box-decoration-break: clone; -webkit-box-decoration-break: clone\">\n",
       "    4\n",
       "    <span style=\"font-size: 0.8em; font-weight: bold; line-height: 1; border-radius: 0.35em; text-transform: uppercase; vertical-align: middle; margin-left: 0.5rem\">CARDINAL</span>\n",
       "</mark>\n",
       " stars because order at the price \n",
       "<mark class=\"entity\" style=\"background: #e4e7d2; padding: 0.45em 0.6em; margin: 0 0.25em; line-height: 1; border-radius: 0.35em; box-decoration-break: clone; -webkit-box-decoration-break: clone\">\n",
       "    37\n",
       "    <span style=\"font-size: 0.8em; font-weight: bold; line-height: 1; border-radius: 0.35em; text-transform: uppercase; vertical-align: middle; margin-left: 0.5rem\">CARDINAL</span>\n",
       "</mark>\n",
       " but \n",
       "<mark class=\"entity\" style=\"background: #bfe1d9; padding: 0.45em 0.6em; margin: 0 0.25em; line-height: 1; border-radius: 0.35em; box-decoration-break: clone; -webkit-box-decoration-break: clone\">\n",
       "    today\n",
       "    <span style=\"font-size: 0.8em; font-weight: bold; line-height: 1; border-radius: 0.35em; text-transform: uppercase; vertical-align: middle; margin-left: 0.5rem\">DATE</span>\n",
       "</mark>\n",
       " \n",
       "<mark class=\"entity\" style=\"background: #e4e7d2; padding: 0.45em 0.6em; margin: 0 0.25em; line-height: 1; border-radius: 0.35em; box-decoration-break: clone; -webkit-box-decoration-break: clone\">\n",
       "    29 baht\n",
       "    <span style=\"font-size: 0.8em; font-weight: bold; line-height: 1; border-radius: 0.35em; text-transform: uppercase; vertical-align: middle; margin-left: 0.5rem\">QUANTITY</span>\n",
       "</mark>\n",
       " sorry</div>"
      ],
      "text/plain": [
       "<IPython.core.display.HTML object>"
      ]
     },
     "metadata": {},
     "output_type": "display_data"
    }
   ],
   "source": [
    "doc = nlp(reviews[\"comments\"][0])\n",
    "spacy.displacy.render(doc, style='ent',jupyter=True)"
   ]
  },
  {
   "cell_type": "code",
   "execution_count": 24,
   "metadata": {
    "_uuid": "3e004fb15995ec7723ca12ad54baf98029ecf90e"
   },
   "outputs": [],
   "source": [
    "punctuations = string.punctuation\n",
    "stopwords = list(STOP_WORDS)"
   ]
  },
  {
   "cell_type": "code",
   "execution_count": 25,
   "metadata": {},
   "outputs": [
    {
     "data": {
      "text/plain": [
       "'!\"#$%&\\'()*+,-./:;<=>?@[\\\\]^_`{|}~'"
      ]
     },
     "execution_count": 25,
     "metadata": {},
     "output_type": "execute_result"
    }
   ],
   "source": [
    "punctuations"
   ]
  },
  {
   "cell_type": "markdown",
   "metadata": {
    "_uuid": "25330472382f10be59dd09d3f4cb7a8ae5686081"
   },
   "source": [
    "### Lemmatization\n",
    "It is the  process of grouping together the inflected forms of a word so they can be analysed as a single item, identified by the word's lemma, or dictionary form. Words like \"ran\" and \"running\" are converted to \"run\" to avoid having words with similar meanings in our data."
   ]
  },
  {
   "cell_type": "code",
   "execution_count": 26,
   "metadata": {
    "_uuid": "b5c09cd0724ac75d603b3e1be1afb006249eadc4"
   },
   "outputs": [],
   "source": [
    "review = str(\" \".join([i.lemma_ for i in doc]))"
   ]
  },
  {
   "cell_type": "code",
   "execution_count": 27,
   "metadata": {
    "_uuid": "868105f99baf2742713656a089ad5b38f80d8329"
   },
   "outputs": [
    {
     "data": {
      "text/html": [
       "<div class=\"entities\" style=\"line-height: 2.5\">give \n",
       "<mark class=\"entity\" style=\"background: #e4e7d2; padding: 0.45em 0.6em; margin: 0 0.25em; line-height: 1; border-radius: 0.35em; box-decoration-break: clone; -webkit-box-decoration-break: clone\">\n",
       "    4\n",
       "    <span style=\"font-size: 0.8em; font-weight: bold; line-height: 1; border-radius: 0.35em; text-transform: uppercase; vertical-align: middle; margin-left: 0.5rem\">CARDINAL</span>\n",
       "</mark>\n",
       " star because order at the price \n",
       "<mark class=\"entity\" style=\"background: #e4e7d2; padding: 0.45em 0.6em; margin: 0 0.25em; line-height: 1; border-radius: 0.35em; box-decoration-break: clone; -webkit-box-decoration-break: clone\">\n",
       "    37\n",
       "    <span style=\"font-size: 0.8em; font-weight: bold; line-height: 1; border-radius: 0.35em; text-transform: uppercase; vertical-align: middle; margin-left: 0.5rem\">CARDINAL</span>\n",
       "</mark>\n",
       " but \n",
       "<mark class=\"entity\" style=\"background: #bfe1d9; padding: 0.45em 0.6em; margin: 0 0.25em; line-height: 1; border-radius: 0.35em; box-decoration-break: clone; -webkit-box-decoration-break: clone\">\n",
       "    today\n",
       "    <span style=\"font-size: 0.8em; font-weight: bold; line-height: 1; border-radius: 0.35em; text-transform: uppercase; vertical-align: middle; margin-left: 0.5rem\">DATE</span>\n",
       "</mark>\n",
       " \n",
       "<mark class=\"entity\" style=\"background: #e4e7d2; padding: 0.45em 0.6em; margin: 0 0.25em; line-height: 1; border-radius: 0.35em; box-decoration-break: clone; -webkit-box-decoration-break: clone\">\n",
       "    29 baht\n",
       "    <span style=\"font-size: 0.8em; font-weight: bold; line-height: 1; border-radius: 0.35em; text-transform: uppercase; vertical-align: middle; margin-left: 0.5rem\">QUANTITY</span>\n",
       "</mark>\n",
       " sorry</div>"
      ],
      "text/plain": [
       "<IPython.core.display.HTML object>"
      ]
     },
     "metadata": {},
     "output_type": "display_data"
    }
   ],
   "source": [
    "doc = nlp(review)\n",
    "spacy.displacy.render(doc, style='ent',jupyter=True)"
   ]
  },
  {
   "cell_type": "markdown",
   "metadata": {
    "_uuid": "e949f2d634aa8742015b15c8cccf38f42a16621f"
   },
   "source": [
    "The sentence looks much different now that it is lemmatized."
   ]
  },
  {
   "cell_type": "markdown",
   "metadata": {
    "_uuid": "8cd922f8229f6aba3f08dfb25d8793a5e2b0ee57"
   },
   "source": [
    "### Parts of Speech tagging\n",
    "\n",
    "This is the process of marking up a word in a text (corpus) as corresponding to a particular part of speech,[1] based on both its definition and its context—i.e., its relationship with adjacent and related words in a phrase, sentence, or paragraph. A simplified form of this is commonly taught to school-age children, in the identification of words as nouns, verbs, adjectives, adverbs, etc."
   ]
  },
  {
   "cell_type": "code",
   "execution_count": 28,
   "metadata": {
    "_uuid": "a8ed2a71e2d90ad317e7b0d69d0e6544ff19f17c"
   },
   "outputs": [],
   "source": [
    "# POS tagging\n",
    "# for i in nlp(review):\n",
    "#     print(i,\"=>\",i.pos_)"
   ]
  },
  {
   "cell_type": "code",
   "execution_count": 29,
   "metadata": {
    "_uuid": "ee0b36f52b552dd72c5fda7808d41db5749491cf"
   },
   "outputs": [],
   "source": [
    "# Parser for reviews\n",
    "parser = English()\n",
    "def spacy_tokenizer(sentence):\n",
    "    mytokens = parser(sentence)\n",
    "    mytokens = [ word.lemma_.lower().strip() if word.lemma_ != \"-PRON-\" else word.lower_ for word in mytokens ]\n",
    "    mytokens = [ word for word in mytokens if word not in stopwords and word not in punctuations ]\n",
    "    mytokens = \" \".join([i for i in mytokens])\n",
    "    return mytokens"
   ]
  },
  {
   "cell_type": "code",
   "execution_count": 30,
   "metadata": {},
   "outputs": [],
   "source": [
    "reviews.reset_index(inplace=True)"
   ]
  },
  {
   "cell_type": "code",
   "execution_count": 31,
   "metadata": {
    "_uuid": "d1207bc8f6ca068de633cd8d68d1424877baf85a",
    "scrolled": true
   },
   "outputs": [
    {
     "name": "stderr",
     "output_type": "stream",
     "text": [
      "100%|██████████| 2200/2200 [00:00<00:00, 5396.24it/s]\n"
     ]
    }
   ],
   "source": [
    "tqdm.pandas()\n",
    "reviews[\"processed_description\"] = reviews[\"comments\"].progress_apply(spacy_tokenizer)"
   ]
  },
  {
   "cell_type": "code",
   "execution_count": 32,
   "metadata": {
    "scrolled": true
   },
   "outputs": [
    {
     "data": {
      "text/html": [
       "<div>\n",
       "<style scoped>\n",
       "    .dataframe tbody tr th:only-of-type {\n",
       "        vertical-align: middle;\n",
       "    }\n",
       "\n",
       "    .dataframe tbody tr th {\n",
       "        vertical-align: top;\n",
       "    }\n",
       "\n",
       "    .dataframe thead th {\n",
       "        text-align: right;\n",
       "    }\n",
       "</style>\n",
       "<table border=\"1\" class=\"dataframe\">\n",
       "  <thead>\n",
       "    <tr style=\"text-align: right;\">\n",
       "      <th></th>\n",
       "      <th>level_0</th>\n",
       "      <th>index</th>\n",
       "      <th>rating</th>\n",
       "      <th>comments</th>\n",
       "      <th>len_review</th>\n",
       "      <th>processed_description</th>\n",
       "    </tr>\n",
       "  </thead>\n",
       "  <tbody>\n",
       "    <tr>\n",
       "      <th>0</th>\n",
       "      <td>0</td>\n",
       "      <td>0</td>\n",
       "      <td>4</td>\n",
       "      <td>Give 4 stars because order at the price 37 but...</td>\n",
       "      <td>66</td>\n",
       "      <td>4 star order price 37 today 29 baht sorry</td>\n",
       "    </tr>\n",
       "    <tr>\n",
       "      <th>1</th>\n",
       "      <td>1</td>\n",
       "      <td>1</td>\n",
       "      <td>5</td>\n",
       "      <td>Ordered at a discount of 10 baht per piece. It...</td>\n",
       "      <td>167</td>\n",
       "      <td>ordered discount 10 baht piece worth note leav...</td>\n",
       "    </tr>\n",
       "    <tr>\n",
       "      <th>2</th>\n",
       "      <td>2</td>\n",
       "      <td>2</td>\n",
       "      <td>5</td>\n",
       "      <td>Small, cute, compact, good But the sash looks ...</td>\n",
       "      <td>150</td>\n",
       "      <td>small cute compact good sash look like little ...</td>\n",
       "    </tr>\n",
       "    <tr>\n",
       "      <th>3</th>\n",
       "      <td>3</td>\n",
       "      <td>3</td>\n",
       "      <td>1</td>\n",
       "      <td>The size is not as large as it is down. The st...</td>\n",
       "      <td>135</td>\n",
       "      <td>size large stitch wrong bag line contemplate l...</td>\n",
       "    </tr>\n",
       "    <tr>\n",
       "      <th>4</th>\n",
       "      <td>4</td>\n",
       "      <td>5</td>\n",
       "      <td>4</td>\n",
       "      <td>Beautiful work Sewing Good compact Suitable fo...</td>\n",
       "      <td>111</td>\n",
       "      <td>beautiful work sewing good compact suitable pr...</td>\n",
       "    </tr>\n",
       "    <tr>\n",
       "      <th>5</th>\n",
       "      <td>5</td>\n",
       "      <td>6</td>\n",
       "      <td>4</td>\n",
       "      <td>Worth the price ordered When holding the bag S...</td>\n",
       "      <td>116</td>\n",
       "      <td>worth price order hold bag send fast think wra...</td>\n",
       "    </tr>\n",
       "    <tr>\n",
       "      <th>6</th>\n",
       "      <td>6</td>\n",
       "      <td>8</td>\n",
       "      <td>4</td>\n",
       "      <td>Very nice, but a little crumbling.</td>\n",
       "      <td>34</td>\n",
       "      <td>nice little crumble</td>\n",
       "    </tr>\n",
       "    <tr>\n",
       "      <th>7</th>\n",
       "      <td>7</td>\n",
       "      <td>14</td>\n",
       "      <td>5</td>\n",
       "      <td>The product size is the same as the palm, but ...</td>\n",
       "      <td>136</td>\n",
       "      <td>product size palm purchase price 10 baht try u...</td>\n",
       "    </tr>\n",
       "    <tr>\n",
       "      <th>8</th>\n",
       "      <td>8</td>\n",
       "      <td>15</td>\n",
       "      <td>5</td>\n",
       "      <td>ðŸ˜šðŸŽ‰ â™¥ ï¸ Cute value bag Ordered brown ...</td>\n",
       "      <td>192</td>\n",
       "      <td>ðÿ˜šðÿž‰ â ™ ¥ ï¸ cute value bag ordered brow...</td>\n",
       "    </tr>\n",
       "    <tr>\n",
       "      <th>9</th>\n",
       "      <td>9</td>\n",
       "      <td>16</td>\n",
       "      <td>4</td>\n",
       "      <td>The product is not fully contactable. Not info...</td>\n",
       "      <td>178</td>\n",
       "      <td>product fully contactable inform delivery slow...</td>\n",
       "    </tr>\n",
       "    <tr>\n",
       "      <th>10</th>\n",
       "      <td>10</td>\n",
       "      <td>17</td>\n",
       "      <td>5</td>\n",
       "      <td>Cute, cute</td>\n",
       "      <td>10</td>\n",
       "      <td>cute cute</td>\n",
       "    </tr>\n",
       "    <tr>\n",
       "      <th>11</th>\n",
       "      <td>11</td>\n",
       "      <td>18</td>\n",
       "      <td>3</td>\n",
       "      <td>The product is not fully contactable. Not info...</td>\n",
       "      <td>178</td>\n",
       "      <td>product fully contactable inform delivery slow...</td>\n",
       "    </tr>\n",
       "    <tr>\n",
       "      <th>12</th>\n",
       "      <td>12</td>\n",
       "      <td>19</td>\n",
       "      <td>4</td>\n",
       "      <td>Received the product Pretty cute But would lik...</td>\n",
       "      <td>95</td>\n",
       "      <td>received product pretty cute like deduct 1 sta...</td>\n",
       "    </tr>\n",
       "    <tr>\n",
       "      <th>13</th>\n",
       "      <td>13</td>\n",
       "      <td>20</td>\n",
       "      <td>4</td>\n",
       "      <td>Compact, suitable for wearing phones Not carry...</td>\n",
       "      <td>78</td>\n",
       "      <td>compact suitable wear phone carry lot bag brea...</td>\n",
       "    </tr>\n",
       "    <tr>\n",
       "      <th>14</th>\n",
       "      <td>14</td>\n",
       "      <td>21</td>\n",
       "      <td>3</td>\n",
       "      <td>This quality cell product is medium in quality...</td>\n",
       "      <td>114</td>\n",
       "      <td>quality cell product medium quality price bad ...</td>\n",
       "    </tr>\n",
       "    <tr>\n",
       "      <th>15</th>\n",
       "      <td>15</td>\n",
       "      <td>24</td>\n",
       "      <td>1</td>\n",
       "      <td>It's cute. But cut off the dam, not ok Almost ...</td>\n",
       "      <td>163</td>\n",
       "      <td>cute cut dam okay thread drop wear heavy stuff...</td>\n",
       "    </tr>\n",
       "    <tr>\n",
       "      <th>16</th>\n",
       "      <td>16</td>\n",
       "      <td>25</td>\n",
       "      <td>4</td>\n",
       "      <td>Fair product quality Good value with the price...</td>\n",
       "      <td>112</td>\n",
       "      <td>fair product quality good value price fast del...</td>\n",
       "    </tr>\n",
       "    <tr>\n",
       "      <th>17</th>\n",
       "      <td>17</td>\n",
       "      <td>27</td>\n",
       "      <td>4</td>\n",
       "      <td>The product meets the image ... How long does ...</td>\n",
       "      <td>160</td>\n",
       "      <td>product meet image ... long doe delivery good ...</td>\n",
       "    </tr>\n",
       "    <tr>\n",
       "      <th>18</th>\n",
       "      <td>18</td>\n",
       "      <td>34</td>\n",
       "      <td>5</td>\n",
       "      <td>Well, good. Good. Good value. Good. Beautiful....</td>\n",
       "      <td>140</td>\n",
       "      <td>good good good value good beautiful good good ...</td>\n",
       "    </tr>\n",
       "    <tr>\n",
       "      <th>19</th>\n",
       "      <td>19</td>\n",
       "      <td>42</td>\n",
       "      <td>5</td>\n",
       "      <td>Beautiful, worth it. Reed Reed Reed Reed Reed ...</td>\n",
       "      <td>100</td>\n",
       "      <td>beautiful worth reed reed reed reed reed reed ...</td>\n",
       "    </tr>\n",
       "    <tr>\n",
       "      <th>20</th>\n",
       "      <td>20</td>\n",
       "      <td>45</td>\n",
       "      <td>1</td>\n",
       "      <td>Not able to complete the order but the apology...</td>\n",
       "      <td>66</td>\n",
       "      <td>able complete order apology responsible</td>\n",
       "    </tr>\n",
       "    <tr>\n",
       "      <th>21</th>\n",
       "      <td>21</td>\n",
       "      <td>47</td>\n",
       "      <td>3</td>\n",
       "      <td>Bag arrived late And smaller than that But by ...</td>\n",
       "      <td>118</td>\n",
       "      <td>bag arrive late small combine good good price ...</td>\n",
       "    </tr>\n",
       "    <tr>\n",
       "      <th>22</th>\n",
       "      <td>22</td>\n",
       "      <td>53</td>\n",
       "      <td>5</td>\n",
       "      <td>Worth more than worth in the promotion price r...</td>\n",
       "      <td>180</td>\n",
       "      <td>worth worth promotion price range desirable .....</td>\n",
       "    </tr>\n",
       "    <tr>\n",
       "      <th>23</th>\n",
       "      <td>23</td>\n",
       "      <td>62</td>\n",
       "      <td>5</td>\n",
       "      <td>Good product, good price, good price, good sup...</td>\n",
       "      <td>194</td>\n",
       "      <td>good product good price good price good suppor...</td>\n",
       "    </tr>\n",
       "    <tr>\n",
       "      <th>24</th>\n",
       "      <td>24</td>\n",
       "      <td>63</td>\n",
       "      <td>5</td>\n",
       "      <td>Received the product Good value, according to ...</td>\n",
       "      <td>144</td>\n",
       "      <td>received product good value accord price quali...</td>\n",
       "    </tr>\n",
       "    <tr>\n",
       "      <th>25</th>\n",
       "      <td>25</td>\n",
       "      <td>71</td>\n",
       "      <td>5</td>\n",
       "      <td>Good product, cheap price, come to support aga...</td>\n",
       "      <td>157</td>\n",
       "      <td>good product cheap price come support course s...</td>\n",
       "    </tr>\n",
       "    <tr>\n",
       "      <th>26</th>\n",
       "      <td>26</td>\n",
       "      <td>76</td>\n",
       "      <td>5</td>\n",
       "      <td>Well packaged The product has been of good qua...</td>\n",
       "      <td>159</td>\n",
       "      <td>package product good quality damage leave smal...</td>\n",
       "    </tr>\n",
       "    <tr>\n",
       "      <th>27</th>\n",
       "      <td>27</td>\n",
       "      <td>78</td>\n",
       "      <td>5</td>\n",
       "      <td>Good product quality Good value Good delivery ...</td>\n",
       "      <td>100</td>\n",
       "      <td>good product quality good value good delivery ...</td>\n",
       "    </tr>\n",
       "    <tr>\n",
       "      <th>28</th>\n",
       "      <td>28</td>\n",
       "      <td>81</td>\n",
       "      <td>5</td>\n",
       "      <td>Impressive, very good product pack, product qu...</td>\n",
       "      <td>192</td>\n",
       "      <td>impressive good product pack product quality g...</td>\n",
       "    </tr>\n",
       "    <tr>\n",
       "      <th>29</th>\n",
       "      <td>29</td>\n",
       "      <td>83</td>\n",
       "      <td>5</td>\n",
       "      <td>Use the 88FASHA code to purchase 100 baht. Rec...</td>\n",
       "      <td>194</td>\n",
       "      <td>use 88fasha code purchase 100 baht receive ref...</td>\n",
       "    </tr>\n",
       "    <tr>\n",
       "      <th>...</th>\n",
       "      <td>...</td>\n",
       "      <td>...</td>\n",
       "      <td>...</td>\n",
       "      <td>...</td>\n",
       "      <td>...</td>\n",
       "      <td>...</td>\n",
       "    </tr>\n",
       "    <tr>\n",
       "      <th>2170</th>\n",
       "      <td>2170</td>\n",
       "      <td>1878</td>\n",
       "      <td>3</td>\n",
       "      <td>Very fast delivery ðŸš™ðŸš™ðŸš›ðŸš™ðŸš›ðŸš™ðŸš...</td>\n",
       "      <td>310</td>\n",
       "      <td>fast delivery ðÿš ™ ðÿš ™ ðÿš›ðÿš ™ ðÿš›ðÿš ™ ...</td>\n",
       "    </tr>\n",
       "    <tr>\n",
       "      <th>2171</th>\n",
       "      <td>2171</td>\n",
       "      <td>331</td>\n",
       "      <td>3</td>\n",
       "      <td>Very good, kind seller Kinder seller, fast del...</td>\n",
       "      <td>449</td>\n",
       "      <td>good kind seller kinder seller fast delivery w...</td>\n",
       "    </tr>\n",
       "    <tr>\n",
       "      <th>2172</th>\n",
       "      <td>2172</td>\n",
       "      <td>629</td>\n",
       "      <td>4</td>\n",
       "      <td>Received very fast Shipping size, postal regis...</td>\n",
       "      <td>347</td>\n",
       "      <td>received fast shipping size postal registratio...</td>\n",
       "    </tr>\n",
       "    <tr>\n",
       "      <th>2173</th>\n",
       "      <td>2173</td>\n",
       "      <td>1712</td>\n",
       "      <td>5</td>\n",
       "      <td>ðŸ’—ðŸ’—ðŸ’—ðŸ’—ðŸ’—ðŸ’—ðŸ’—ðŸ’—ðŸ’—ðŸ’—ðŸ’—ðŸ...</td>\n",
       "      <td>506</td>\n",
       "      <td>ðÿ’—ðÿ’—ðÿ’—ðÿ’—ðÿ’—ðÿ’—ðÿ’—ðÿ’—ðÿ’—ðÿ’—ðÿ’—ðÿ...</td>\n",
       "    </tr>\n",
       "    <tr>\n",
       "      <th>2174</th>\n",
       "      <td>2174</td>\n",
       "      <td>185</td>\n",
       "      <td>5</td>\n",
       "      <td>Lovely. ðŸ‘ðŸ‘ðŸ‘ðŸ‘ðŸ‘ðŸ‘ðŸ‘ðŸ‘ðŸ‘ðŸ...</td>\n",
       "      <td>410</td>\n",
       "      <td>lovely ðÿ‘ðÿ‘ðÿ‘ðÿ‘ðÿ‘ðÿ‘ðÿ‘ðÿ‘ðÿ‘ðÿ‘...</td>\n",
       "    </tr>\n",
       "    <tr>\n",
       "      <th>2175</th>\n",
       "      <td>2175</td>\n",
       "      <td>1144</td>\n",
       "      <td>1</td>\n",
       "      <td>Looks like old, long-kept or used? The metal s...</td>\n",
       "      <td>408</td>\n",
       "      <td>looks like old long use metal stud stain old s...</td>\n",
       "    </tr>\n",
       "    <tr>\n",
       "      <th>2176</th>\n",
       "      <td>2176</td>\n",
       "      <td>55</td>\n",
       "      <td>4</td>\n",
       "      <td>Oke, any other, any other, any other, any othe...</td>\n",
       "      <td>716</td>\n",
       "      <td>oke relate option relate option</td>\n",
       "    </tr>\n",
       "    <tr>\n",
       "      <th>2177</th>\n",
       "      <td>2177</td>\n",
       "      <td>2833</td>\n",
       "      <td>5</td>\n",
       "      <td>Excellent 5 baht free delivery ðŸ˜ðŸ˜ðŸ˜ðŸ˜...</td>\n",
       "      <td>500</td>\n",
       "      <td>excellent 5 baht free delivery ðÿ˜ðÿ˜ðÿ˜ðÿ˜...</td>\n",
       "    </tr>\n",
       "    <tr>\n",
       "      <th>2178</th>\n",
       "      <td>2178</td>\n",
       "      <td>334</td>\n",
       "      <td>3</td>\n",
       "      <td>Price ok. Acceptable. Choose to send Kerry. Ge...</td>\n",
       "      <td>251</td>\n",
       "      <td>price okay acceptable choose send kerry produc...</td>\n",
       "    </tr>\n",
       "    <tr>\n",
       "      <th>2179</th>\n",
       "      <td>2179</td>\n",
       "      <td>1680</td>\n",
       "      <td>3</td>\n",
       "      <td>The quality of the product is good. Value is g...</td>\n",
       "      <td>555</td>\n",
       "      <td>quality product good value good fast delivery ...</td>\n",
       "    </tr>\n",
       "    <tr>\n",
       "      <th>2180</th>\n",
       "      <td>2180</td>\n",
       "      <td>2078</td>\n",
       "      <td>5</td>\n",
       "      <td>Excellent, beautiful, perfect, value for money...</td>\n",
       "      <td>213</td>\n",
       "      <td>excellent beautiful perfect value money excell...</td>\n",
       "    </tr>\n",
       "    <tr>\n",
       "      <th>2181</th>\n",
       "      <td>2181</td>\n",
       "      <td>1859</td>\n",
       "      <td>5</td>\n",
       "      <td>Very good value Very fast delivery. The servic...</td>\n",
       "      <td>248</td>\n",
       "      <td>good value fast delivery service shop good ser...</td>\n",
       "    </tr>\n",
       "    <tr>\n",
       "      <th>2182</th>\n",
       "      <td>2182</td>\n",
       "      <td>2281</td>\n",
       "      <td>3</td>\n",
       "      <td>The product is very good. 3 days to ..... We t...</td>\n",
       "      <td>238</td>\n",
       "      <td>product good 3 day ..... think leave little sm...</td>\n",
       "    </tr>\n",
       "    <tr>\n",
       "      <th>2183</th>\n",
       "      <td>2183</td>\n",
       "      <td>1166</td>\n",
       "      <td>4</td>\n",
       "      <td>Cheap price. Buy discount range. The product i...</td>\n",
       "      <td>242</td>\n",
       "      <td>cheap price buy discount range product comfort...</td>\n",
       "    </tr>\n",
       "    <tr>\n",
       "      <th>2184</th>\n",
       "      <td>2184</td>\n",
       "      <td>2689</td>\n",
       "      <td>4</td>\n",
       "      <td>Enough ðŸ˜ŠðŸ˜ŠðŸ˜ŠðŸ˜ŠðŸ˜ŠðŸ˜ŠðŸ˜ŠðŸ˜ŠðŸ˜ŠðŸ˜...</td>\n",
       "      <td>388</td>\n",
       "      <td>ðÿ˜šðÿ˜šðÿ˜šðÿ˜šðÿ˜šðÿ˜šðÿ˜šðÿ˜šðÿ˜šðÿ˜šðÿ˜šðÿ...</td>\n",
       "    </tr>\n",
       "    <tr>\n",
       "      <th>2185</th>\n",
       "      <td>2185</td>\n",
       "      <td>1140</td>\n",
       "      <td>1</td>\n",
       "      <td>The product is not as beautiful as in the pict...</td>\n",
       "      <td>351</td>\n",
       "      <td>product beautiful picture stitch smooth approp...</td>\n",
       "    </tr>\n",
       "    <tr>\n",
       "      <th>2186</th>\n",
       "      <td>2186</td>\n",
       "      <td>1307</td>\n",
       "      <td>5</td>\n",
       "      <td>Received the product, beautiful job, got the p...</td>\n",
       "      <td>254</td>\n",
       "      <td>received product beautiful job product exactly...</td>\n",
       "    </tr>\n",
       "    <tr>\n",
       "      <th>2187</th>\n",
       "      <td>2187</td>\n",
       "      <td>236</td>\n",
       "      <td>5</td>\n",
       "      <td>Very cute. ðŸ‘ðŸ‘ðŸ‘ðŸ‘ðŸ‘ðŸ‘ðŸ‘ðŸ‘ðŸ‘...</td>\n",
       "      <td>364</td>\n",
       "      <td>cute ðÿ‘ðÿ‘ðÿ‘ðÿ‘ðÿ‘ðÿ‘ðÿ‘ðÿ‘ðÿ‘ðÿ‘ð...</td>\n",
       "    </tr>\n",
       "    <tr>\n",
       "      <th>2188</th>\n",
       "      <td>2188</td>\n",
       "      <td>28</td>\n",
       "      <td>5</td>\n",
       "      <td>This product is very good This product is very...</td>\n",
       "      <td>535</td>\n",
       "      <td>product good product good product good product...</td>\n",
       "    </tr>\n",
       "    <tr>\n",
       "      <th>2189</th>\n",
       "      <td>2189</td>\n",
       "      <td>308</td>\n",
       "      <td>5</td>\n",
       "      <td>The most favorite song and should not use the ...</td>\n",
       "      <td>231</td>\n",
       "      <td>favorite song use service thank advance thank ...</td>\n",
       "    </tr>\n",
       "    <tr>\n",
       "      <th>2190</th>\n",
       "      <td>2190</td>\n",
       "      <td>2832</td>\n",
       "      <td>5</td>\n",
       "      <td>Received the product, beautiful job, got the p...</td>\n",
       "      <td>254</td>\n",
       "      <td>received product beautiful job product exactly...</td>\n",
       "    </tr>\n",
       "    <tr>\n",
       "      <th>2191</th>\n",
       "      <td>2191</td>\n",
       "      <td>1210</td>\n",
       "      <td>5</td>\n",
       "      <td>The product is like it. The product is like it...</td>\n",
       "      <td>332</td>\n",
       "      <td>product like product like product like product...</td>\n",
       "    </tr>\n",
       "    <tr>\n",
       "      <th>2192</th>\n",
       "      <td>2192</td>\n",
       "      <td>2772</td>\n",
       "      <td>5</td>\n",
       "      <td>Fast delivery shop Products can be completed a...</td>\n",
       "      <td>252</td>\n",
       "      <td>fast delivery shop products complete accord co...</td>\n",
       "    </tr>\n",
       "    <tr>\n",
       "      <th>2193</th>\n",
       "      <td>2193</td>\n",
       "      <td>11</td>\n",
       "      <td>5</td>\n",
       "      <td>ðŸŒ¹ðŸŒ¹ðŸŒ¹ðŸŒ¹ðŸŒ¹ðŸŒ¹ðŸŒ¹ ðŸ¸ðŸŒ¹ðŸŒ¹ðŸŒ¹ð...</td>\n",
       "      <td>455</td>\n",
       "      <td>ðÿœ¹ðÿœ¹ðÿœ¹ðÿœ¹ðÿœ¹ðÿœ¹ðÿœ¹ ðÿ¸ðÿœ¹ðÿœ¹ðÿœ¹ð...</td>\n",
       "    </tr>\n",
       "    <tr>\n",
       "      <th>2194</th>\n",
       "      <td>2194</td>\n",
       "      <td>565</td>\n",
       "      <td>4</td>\n",
       "      <td>The product is exactly as the picture, so find...</td>\n",
       "      <td>307</td>\n",
       "      <td>product exactly picture find stuff shape beaut...</td>\n",
       "    </tr>\n",
       "    <tr>\n",
       "      <th>2195</th>\n",
       "      <td>2195</td>\n",
       "      <td>1275</td>\n",
       "      <td>5</td>\n",
       "      <td>Very good Very good Very good Very good Very g...</td>\n",
       "      <td>419</td>\n",
       "      <td>good good good good good good good good good g...</td>\n",
       "    </tr>\n",
       "    <tr>\n",
       "      <th>2196</th>\n",
       "      <td>2196</td>\n",
       "      <td>3078</td>\n",
       "      <td>5</td>\n",
       "      <td>Blue is very cute. Good product, no defects. V...</td>\n",
       "      <td>661</td>\n",
       "      <td>blue cute good product defect beautiful heart ...</td>\n",
       "    </tr>\n",
       "    <tr>\n",
       "      <th>2197</th>\n",
       "      <td>2197</td>\n",
       "      <td>1538</td>\n",
       "      <td>4</td>\n",
       "      <td>The quality of the product is very good. Good ...</td>\n",
       "      <td>381</td>\n",
       "      <td>quality product good good service shop transpo...</td>\n",
       "    </tr>\n",
       "    <tr>\n",
       "      <th>2198</th>\n",
       "      <td>2198</td>\n",
       "      <td>3019</td>\n",
       "      <td>5</td>\n",
       "      <td>ðŸ‘ðŸ¼ðŸ‘ðŸ¼ðŸ‘ðŸ¼ðŸ‘ðŸ¼ðŸ‘ðŸ¼ðŸ‘ðŸ...</td>\n",
       "      <td>410</td>\n",
       "      <td>ðÿ‘ðÿ¼ðÿ‘ðÿ¼ðÿ‘ðÿ¼ðÿ‘ðÿ¼ðÿ‘ðÿ¼ðÿ‘ðÿ...</td>\n",
       "    </tr>\n",
       "    <tr>\n",
       "      <th>2199</th>\n",
       "      <td>2199</td>\n",
       "      <td>1147</td>\n",
       "      <td>2</td>\n",
       "      <td>Color product like But the condition is not th...</td>\n",
       "      <td>230</td>\n",
       "      <td>color product like condition looks wreck base ...</td>\n",
       "    </tr>\n",
       "  </tbody>\n",
       "</table>\n",
       "<p>2200 rows × 6 columns</p>\n",
       "</div>"
      ],
      "text/plain": [
       "      level_0  index  rating  \\\n",
       "0           0      0       4   \n",
       "1           1      1       5   \n",
       "2           2      2       5   \n",
       "3           3      3       1   \n",
       "4           4      5       4   \n",
       "5           5      6       4   \n",
       "6           6      8       4   \n",
       "7           7     14       5   \n",
       "8           8     15       5   \n",
       "9           9     16       4   \n",
       "10         10     17       5   \n",
       "11         11     18       3   \n",
       "12         12     19       4   \n",
       "13         13     20       4   \n",
       "14         14     21       3   \n",
       "15         15     24       1   \n",
       "16         16     25       4   \n",
       "17         17     27       4   \n",
       "18         18     34       5   \n",
       "19         19     42       5   \n",
       "20         20     45       1   \n",
       "21         21     47       3   \n",
       "22         22     53       5   \n",
       "23         23     62       5   \n",
       "24         24     63       5   \n",
       "25         25     71       5   \n",
       "26         26     76       5   \n",
       "27         27     78       5   \n",
       "28         28     81       5   \n",
       "29         29     83       5   \n",
       "...       ...    ...     ...   \n",
       "2170     2170   1878       3   \n",
       "2171     2171    331       3   \n",
       "2172     2172    629       4   \n",
       "2173     2173   1712       5   \n",
       "2174     2174    185       5   \n",
       "2175     2175   1144       1   \n",
       "2176     2176     55       4   \n",
       "2177     2177   2833       5   \n",
       "2178     2178    334       3   \n",
       "2179     2179   1680       3   \n",
       "2180     2180   2078       5   \n",
       "2181     2181   1859       5   \n",
       "2182     2182   2281       3   \n",
       "2183     2183   1166       4   \n",
       "2184     2184   2689       4   \n",
       "2185     2185   1140       1   \n",
       "2186     2186   1307       5   \n",
       "2187     2187    236       5   \n",
       "2188     2188     28       5   \n",
       "2189     2189    308       5   \n",
       "2190     2190   2832       5   \n",
       "2191     2191   1210       5   \n",
       "2192     2192   2772       5   \n",
       "2193     2193     11       5   \n",
       "2194     2194    565       4   \n",
       "2195     2195   1275       5   \n",
       "2196     2196   3078       5   \n",
       "2197     2197   1538       4   \n",
       "2198     2198   3019       5   \n",
       "2199     2199   1147       2   \n",
       "\n",
       "                                               comments  len_review  \\\n",
       "0     Give 4 stars because order at the price 37 but...          66   \n",
       "1     Ordered at a discount of 10 baht per piece. It...         167   \n",
       "2     Small, cute, compact, good But the sash looks ...         150   \n",
       "3     The size is not as large as it is down. The st...         135   \n",
       "4     Beautiful work Sewing Good compact Suitable fo...         111   \n",
       "5     Worth the price ordered When holding the bag S...         116   \n",
       "6                    Very nice, but a little crumbling.          34   \n",
       "7     The product size is the same as the palm, but ...         136   \n",
       "8     ðŸ˜šðŸŽ‰ â™¥ ï¸ Cute value bag Ordered brown ...         192   \n",
       "9     The product is not fully contactable. Not info...         178   \n",
       "10                                           Cute, cute          10   \n",
       "11    The product is not fully contactable. Not info...         178   \n",
       "12    Received the product Pretty cute But would lik...          95   \n",
       "13    Compact, suitable for wearing phones Not carry...          78   \n",
       "14    This quality cell product is medium in quality...         114   \n",
       "15    It's cute. But cut off the dam, not ok Almost ...         163   \n",
       "16    Fair product quality Good value with the price...         112   \n",
       "17    The product meets the image ... How long does ...         160   \n",
       "18    Well, good. Good. Good value. Good. Beautiful....         140   \n",
       "19    Beautiful, worth it. Reed Reed Reed Reed Reed ...         100   \n",
       "20    Not able to complete the order but the apology...          66   \n",
       "21    Bag arrived late And smaller than that But by ...         118   \n",
       "22    Worth more than worth in the promotion price r...         180   \n",
       "23    Good product, good price, good price, good sup...         194   \n",
       "24    Received the product Good value, according to ...         144   \n",
       "25    Good product, cheap price, come to support aga...         157   \n",
       "26    Well packaged The product has been of good qua...         159   \n",
       "27    Good product quality Good value Good delivery ...         100   \n",
       "28    Impressive, very good product pack, product qu...         192   \n",
       "29    Use the 88FASHA code to purchase 100 baht. Rec...         194   \n",
       "...                                                 ...         ...   \n",
       "2170  Very fast delivery ðŸš™ðŸš™ðŸš›ðŸš™ðŸš›ðŸš™ðŸš...         310   \n",
       "2171  Very good, kind seller Kinder seller, fast del...         449   \n",
       "2172  Received very fast Shipping size, postal regis...         347   \n",
       "2173  ðŸ’—ðŸ’—ðŸ’—ðŸ’—ðŸ’—ðŸ’—ðŸ’—ðŸ’—ðŸ’—ðŸ’—ðŸ’—ðŸ...         506   \n",
       "2174  Lovely. ðŸ‘ðŸ‘ðŸ‘ðŸ‘ðŸ‘ðŸ‘ðŸ‘ðŸ‘ðŸ‘ðŸ...         410   \n",
       "2175  Looks like old, long-kept or used? The metal s...         408   \n",
       "2176  Oke, any other, any other, any other, any othe...         716   \n",
       "2177  Excellent 5 baht free delivery ðŸ˜ðŸ˜ðŸ˜ðŸ˜...         500   \n",
       "2178  Price ok. Acceptable. Choose to send Kerry. Ge...         251   \n",
       "2179  The quality of the product is good. Value is g...         555   \n",
       "2180  Excellent, beautiful, perfect, value for money...         213   \n",
       "2181  Very good value Very fast delivery. The servic...         248   \n",
       "2182  The product is very good. 3 days to ..... We t...         238   \n",
       "2183  Cheap price. Buy discount range. The product i...         242   \n",
       "2184  Enough ðŸ˜ŠðŸ˜ŠðŸ˜ŠðŸ˜ŠðŸ˜ŠðŸ˜ŠðŸ˜ŠðŸ˜ŠðŸ˜ŠðŸ˜...         388   \n",
       "2185  The product is not as beautiful as in the pict...         351   \n",
       "2186  Received the product, beautiful job, got the p...         254   \n",
       "2187  Very cute. ðŸ‘ðŸ‘ðŸ‘ðŸ‘ðŸ‘ðŸ‘ðŸ‘ðŸ‘ðŸ‘...         364   \n",
       "2188  This product is very good This product is very...         535   \n",
       "2189  The most favorite song and should not use the ...         231   \n",
       "2190  Received the product, beautiful job, got the p...         254   \n",
       "2191  The product is like it. The product is like it...         332   \n",
       "2192  Fast delivery shop Products can be completed a...         252   \n",
       "2193  ðŸŒ¹ðŸŒ¹ðŸŒ¹ðŸŒ¹ðŸŒ¹ðŸŒ¹ðŸŒ¹ ðŸ¸ðŸŒ¹ðŸŒ¹ðŸŒ¹ð...         455   \n",
       "2194  The product is exactly as the picture, so find...         307   \n",
       "2195  Very good Very good Very good Very good Very g...         419   \n",
       "2196  Blue is very cute. Good product, no defects. V...         661   \n",
       "2197  The quality of the product is very good. Good ...         381   \n",
       "2198  ðŸ‘ðŸ¼ðŸ‘ðŸ¼ðŸ‘ðŸ¼ðŸ‘ðŸ¼ðŸ‘ðŸ¼ðŸ‘ðŸ...         410   \n",
       "2199  Color product like But the condition is not th...         230   \n",
       "\n",
       "                                  processed_description  \n",
       "0             4 star order price 37 today 29 baht sorry  \n",
       "1     ordered discount 10 baht piece worth note leav...  \n",
       "2     small cute compact good sash look like little ...  \n",
       "3     size large stitch wrong bag line contemplate l...  \n",
       "4     beautiful work sewing good compact suitable pr...  \n",
       "5     worth price order hold bag send fast think wra...  \n",
       "6                                   nice little crumble  \n",
       "7     product size palm purchase price 10 baht try u...  \n",
       "8     ðÿ˜šðÿž‰ â ™ ¥ ï¸ cute value bag ordered brow...  \n",
       "9     product fully contactable inform delivery slow...  \n",
       "10                                            cute cute  \n",
       "11    product fully contactable inform delivery slow...  \n",
       "12    received product pretty cute like deduct 1 sta...  \n",
       "13    compact suitable wear phone carry lot bag brea...  \n",
       "14    quality cell product medium quality price bad ...  \n",
       "15    cute cut dam okay thread drop wear heavy stuff...  \n",
       "16    fair product quality good value price fast del...  \n",
       "17    product meet image ... long doe delivery good ...  \n",
       "18    good good good value good beautiful good good ...  \n",
       "19    beautiful worth reed reed reed reed reed reed ...  \n",
       "20              able complete order apology responsible  \n",
       "21    bag arrive late small combine good good price ...  \n",
       "22    worth worth promotion price range desirable .....  \n",
       "23    good product good price good price good suppor...  \n",
       "24    received product good value accord price quali...  \n",
       "25    good product cheap price come support course s...  \n",
       "26    package product good quality damage leave smal...  \n",
       "27    good product quality good value good delivery ...  \n",
       "28    impressive good product pack product quality g...  \n",
       "29    use 88fasha code purchase 100 baht receive ref...  \n",
       "...                                                 ...  \n",
       "2170  fast delivery ðÿš ™ ðÿš ™ ðÿš›ðÿš ™ ðÿš›ðÿš ™ ...  \n",
       "2171  good kind seller kinder seller fast delivery w...  \n",
       "2172  received fast shipping size postal registratio...  \n",
       "2173  ðÿ’—ðÿ’—ðÿ’—ðÿ’—ðÿ’—ðÿ’—ðÿ’—ðÿ’—ðÿ’—ðÿ’—ðÿ’—ðÿ...  \n",
       "2174  lovely ðÿ‘ðÿ‘ðÿ‘ðÿ‘ðÿ‘ðÿ‘ðÿ‘ðÿ‘ðÿ‘ðÿ‘...  \n",
       "2175  looks like old long use metal stud stain old s...  \n",
       "2176                    oke relate option relate option  \n",
       "2177  excellent 5 baht free delivery ðÿ˜ðÿ˜ðÿ˜ðÿ˜...  \n",
       "2178  price okay acceptable choose send kerry produc...  \n",
       "2179  quality product good value good fast delivery ...  \n",
       "2180  excellent beautiful perfect value money excell...  \n",
       "2181  good value fast delivery service shop good ser...  \n",
       "2182  product good 3 day ..... think leave little sm...  \n",
       "2183  cheap price buy discount range product comfort...  \n",
       "2184  ðÿ˜šðÿ˜šðÿ˜šðÿ˜šðÿ˜šðÿ˜šðÿ˜šðÿ˜šðÿ˜šðÿ˜šðÿ˜šðÿ...  \n",
       "2185  product beautiful picture stitch smooth approp...  \n",
       "2186  received product beautiful job product exactly...  \n",
       "2187  cute ðÿ‘ðÿ‘ðÿ‘ðÿ‘ðÿ‘ðÿ‘ðÿ‘ðÿ‘ðÿ‘ðÿ‘ð...  \n",
       "2188  product good product good product good product...  \n",
       "2189  favorite song use service thank advance thank ...  \n",
       "2190  received product beautiful job product exactly...  \n",
       "2191  product like product like product like product...  \n",
       "2192  fast delivery shop products complete accord co...  \n",
       "2193  ðÿœ¹ðÿœ¹ðÿœ¹ðÿœ¹ðÿœ¹ðÿœ¹ðÿœ¹ ðÿ¸ðÿœ¹ðÿœ¹ðÿœ¹ð...  \n",
       "2194  product exactly picture find stuff shape beaut...  \n",
       "2195  good good good good good good good good good g...  \n",
       "2196  blue cute good product defect beautiful heart ...  \n",
       "2197  quality product good good service shop transpo...  \n",
       "2198  ðÿ‘ðÿ¼ðÿ‘ðÿ¼ðÿ‘ðÿ¼ðÿ‘ðÿ¼ðÿ‘ðÿ¼ðÿ‘ðÿ...  \n",
       "2199  color product like condition looks wreck base ...  \n",
       "\n",
       "[2200 rows x 6 columns]"
      ]
     },
     "execution_count": 32,
     "metadata": {},
     "output_type": "execute_result"
    }
   ],
   "source": [
    "reviews"
   ]
  },
  {
   "cell_type": "markdown",
   "metadata": {
    "_uuid": "e64d8d97ef7443b594431dc4662450264460aae1"
   },
   "source": [
    "# What is topic-modelling?\n",
    "In machine learning and natural language processing, a topic model is a type of statistical model for discovering the abstract \"topics\" that occur in a collection of documents. Topic modeling is a frequently used text-mining tool for discovery of hidden semantic structures in a text body. Intuitively, given that a document is about a particular topic, one would expect particular words to appear in the document more or less frequently: \"dog\" and \"bone\" will appear more often in documents about dogs, \"cat\" and \"meow\" will appear in documents about cats, and \"the\" and \"is\" will appear equally in both. A document typically concerns multiple topics in different proportions; thus, in a document that is 10% about cats and 90% about dogs, there would probably be about 9 times more dog words than cat words. \n",
    "\n",
    "The \"topics\" produced by topic modeling techniques are clusters of similar words. A topic model captures this intuition in a mathematical framework, which allows examining a set of documents and discovering, based on the statistics of the words in each, what the topics might be and what each document's balance of topics is. It involves various techniques of dimensionality reduction(mostly non-linear) and unsupervised learning like LDA, SVD, autoencoders etc.\n",
    "\n",
    "Source: [Wikipedia](https://en.wikipedia.org/wiki/Topic_model)"
   ]
  },
  {
   "cell_type": "code",
   "execution_count": 33,
   "metadata": {
    "_uuid": "fd00ec3f6d99df6434671334c513511485de5a18"
   },
   "outputs": [],
   "source": [
    "# Creating a vectorizer\n",
    "vectorizer = CountVectorizer(min_df=0.005, max_df=0.85, stop_words='english', lowercase=True, token_pattern='[a-zA-Z\\-][a-zA-Z\\-]{2,}')\n",
    "data_vectorized = vectorizer.fit_transform(reviews[\"processed_description\"])"
   ]
  },
  {
   "cell_type": "code",
   "execution_count": 34,
   "metadata": {},
   "outputs": [
    {
     "data": {
      "text/plain": [
       "array([1, 1, 1, ..., 1, 2, 2], dtype=int64)"
      ]
     },
     "execution_count": 34,
     "metadata": {},
     "output_type": "execute_result"
    }
   ],
   "source": [
    "data_vectorized.data"
   ]
  },
  {
   "cell_type": "code",
   "execution_count": 35,
   "metadata": {
    "_uuid": "fc59a5306eb806598d98f79daabe0217897a5bbe"
   },
   "outputs": [],
   "source": [
    "NUM_TOPICS = 5"
   ]
  },
  {
   "cell_type": "code",
   "execution_count": 36,
   "metadata": {
    "_uuid": "2f0140ca0b3eb106edeee8afac1720e25eae5675",
    "scrolled": true
   },
   "outputs": [
    {
     "name": "stdout",
     "output_type": "stream",
     "text": [
      "iteration: 1 of max_iter: 50\n",
      "iteration: 2 of max_iter: 50\n",
      "iteration: 3 of max_iter: 50\n",
      "iteration: 4 of max_iter: 50\n",
      "iteration: 5 of max_iter: 50\n",
      "iteration: 6 of max_iter: 50\n",
      "iteration: 7 of max_iter: 50\n",
      "iteration: 8 of max_iter: 50\n",
      "iteration: 9 of max_iter: 50\n",
      "iteration: 10 of max_iter: 50\n",
      "iteration: 11 of max_iter: 50\n",
      "iteration: 12 of max_iter: 50\n",
      "iteration: 13 of max_iter: 50\n",
      "iteration: 14 of max_iter: 50\n",
      "iteration: 15 of max_iter: 50\n",
      "iteration: 16 of max_iter: 50\n",
      "iteration: 17 of max_iter: 50\n",
      "iteration: 18 of max_iter: 50\n",
      "iteration: 19 of max_iter: 50\n",
      "iteration: 20 of max_iter: 50\n",
      "iteration: 21 of max_iter: 50\n",
      "iteration: 22 of max_iter: 50\n",
      "iteration: 23 of max_iter: 50\n",
      "iteration: 24 of max_iter: 50\n",
      "iteration: 25 of max_iter: 50\n",
      "iteration: 26 of max_iter: 50\n",
      "iteration: 27 of max_iter: 50\n",
      "iteration: 28 of max_iter: 50\n",
      "iteration: 29 of max_iter: 50\n",
      "iteration: 30 of max_iter: 50\n",
      "iteration: 31 of max_iter: 50\n",
      "iteration: 32 of max_iter: 50\n",
      "iteration: 33 of max_iter: 50\n",
      "iteration: 34 of max_iter: 50\n",
      "iteration: 35 of max_iter: 50\n",
      "iteration: 36 of max_iter: 50\n",
      "iteration: 37 of max_iter: 50\n",
      "iteration: 38 of max_iter: 50\n",
      "iteration: 39 of max_iter: 50\n",
      "iteration: 40 of max_iter: 50\n",
      "iteration: 41 of max_iter: 50\n",
      "iteration: 42 of max_iter: 50\n",
      "iteration: 43 of max_iter: 50\n",
      "iteration: 44 of max_iter: 50\n",
      "iteration: 45 of max_iter: 50\n",
      "iteration: 46 of max_iter: 50\n",
      "iteration: 47 of max_iter: 50\n",
      "iteration: 48 of max_iter: 50\n",
      "iteration: 49 of max_iter: 50\n",
      "iteration: 50 of max_iter: 50\n"
     ]
    }
   ],
   "source": [
    "# Latent Dirichlet Allocation Model\n",
    "#lda = LatentDirichletAllocation(n_components=NUM_TOPICS, max_iter=50, learning_method='online',verbose=True)\n",
    "lda = LatentDirichletAllocation(n_components=NUM_TOPICS, max_iter=50, learning_method='batch',verbose=True)\n",
    "data_lda = lda.fit_transform(data_vectorized)"
   ]
  },
  {
   "cell_type": "code",
   "execution_count": 37,
   "metadata": {
    "_uuid": "822195007e669911dffd6162bfc09539f4dd70ee"
   },
   "outputs": [],
   "source": [
    "# Non-Negative Matrix Factorization Model\n",
    "nmf = NMF(n_components=NUM_TOPICS)\n",
    "data_nmf = nmf.fit_transform(data_vectorized) "
   ]
  },
  {
   "cell_type": "code",
   "execution_count": 38,
   "metadata": {
    "_uuid": "3c7c3e0f3e59c54f76fbfac0bc1085a81438b25b"
   },
   "outputs": [],
   "source": [
    "# Latent Semantic Indexing Model using Truncated SVD\n",
    "lsi = TruncatedSVD(n_components=NUM_TOPICS)\n",
    "data_lsi = lsi.fit_transform(data_vectorized)"
   ]
  },
  {
   "cell_type": "code",
   "execution_count": 39,
   "metadata": {
    "_uuid": "4965ca621bdd6abcf8dd4eb1a41699603cfa2284",
    "scrolled": false
   },
   "outputs": [],
   "source": [
    "# Functions for printing keywords for each topic\n",
    "def selected_topics(model, vectorizer, top_n=10):\n",
    "    for idx, topic in enumerate(model.components_):\n",
    "        print(\"Topic %d:\" % (idx))\n",
    "        print([(vectorizer.get_feature_names()[i], topic[i])\n",
    "                        for i in topic.argsort()[:-top_n - 1:-1]]) "
   ]
  },
  {
   "cell_type": "code",
   "execution_count": 40,
   "metadata": {
    "_uuid": "9a9f1099afa5c6c98ca90103080aa397cd146d3c"
   },
   "outputs": [
    {
     "name": "stdout",
     "output_type": "stream",
     "text": [
      "LDA Model:\n",
      "Topic 0:\n",
      "[('product', 733.1329747733943), ('delivery', 169.44346792622804), ('shop', 140.825805887628), ('received', 140.19422433321145), ('order', 135.26850100926237), ('fast', 133.60531314559685), ('time', 91.78073179106534), ('deliver', 80.19105571233335), ('receive', 79.50657231783944), ('pack', 76.72638950202584)]\n",
      "Topic 1:\n",
      "[('price', 1050.1868804197202), ('worth', 223.1886068707072), ('baht', 206.19233104815515), ('bag', 187.6363232510208), ('cheap', 179.38290721841489), ('buy', 159.2332024267427), ('okay', 133.43719042687022), ('quality', 121.52837881489891), ('suitable', 117.32043721680907), ('reasonable', 95.19161411722038)]\n",
      "Topic 2:\n",
      "[('reed', 368.1986704206008), ('like', 350.1875446416171), ('beautiful', 332.2182524554942), ('small', 241.19275686611337), ('cute', 185.8162561306143), ('lot', 119.19140431433183), ('bag', 101.60018140079507), ('little', 89.51188016625241), ('leave', 68.19159937093214), ('line', 60.56125347582972)]\n",
      "Topic 3:\n",
      "[('color', 304.1900753392418), ('order', 262.1252308659493), ('send', 176.1914652488473), ('bag', 95.35715590672837), ('beautiful', 85.44544328063395), ('item', 84.02907282368189), ('brown', 65.19820088607253), ('pretty', 63.35583191997213), ('black', 61.196902214611974), ('wrong', 54.19652567644568)]\n",
      "Topic 4:\n",
      "[('good', 3350.1833115568666), ('product', 784.766792662071), ('quality', 681.7766245642749), ('delivery', 638.046001603824), ('value', 619.1882004789231), ('fast', 467.7811043843479), ('service', 433.19104239026655), ('shop', 157.56374671957914), ('company', 114.19607972853164), ('speed', 108.19582656720105)]\n"
     ]
    }
   ],
   "source": [
    "# Keywords for topics clustered by Latent Dirichlet Allocation\n",
    "print(\"LDA Model:\")\n",
    "selected_topics(lda, vectorizer)"
   ]
  },
  {
   "cell_type": "code",
   "execution_count": 41,
   "metadata": {
    "_uuid": "9da862a4cacb585d5ac0e75541c30d8c1add90d1"
   },
   "outputs": [
    {
     "name": "stdout",
     "output_type": "stream",
     "text": [
      "NMF Model:\n",
      "Topic 0:\n",
      "[('good', 16.050791801858498), ('value', 0.40234590422026906), ('service', 0.18352799175744322), ('quality', 0.11884780750675987), ('delivery', 0.06112558703945681), ('speed', 0.05422096591025064), ('shop', 0.05285159385445546), ('company', 0.047060149234615406), ('transportation', 0.04386983535077017), ('ship', 0.041430196506091914)]\n",
      "Topic 1:\n",
      "[('product', 7.852213315887415), ('quality', 4.090446691935891), ('delivery', 2.7908776484245017), ('fast', 1.8974094110845068), ('beautiful', 1.4695729689781996), ('value', 1.3608968894253328), ('service', 1.2482752532659656), ('shop', 0.7094150682158288), ('order', 0.6270495177801724), ('cheap', 0.5186828513823669)]\n",
      "Topic 2:\n",
      "[('like', 6.106692606928153), ('lot', 5.004684078620655), ('receive', 0.2018299371766206), ('pretty', 0.10272477835086065), ('beautiful', 0.09875462700815703), ('seller', 0.09441828311284291), ('send', 0.08977383497798772), ('cute', 0.08333885709249023), ('order', 0.08125572892419562), ('wrong', 0.08021005406527985)]\n",
      "Topic 3:\n",
      "[('reed', 7.743188756764703), ('beautiful', 0.1618722320480136), ('worth', 0.07996831656317963), ('quickly', 0.06972782699075852), ('color', 0.06428047459634842), ('confuse', 0.057267876378027216), ('use', 0.05536230611185828), ('overall', 0.039017947029079236), ('real', 0.03781448812393507), ('cheap', 0.034604195730415004)]\n",
      "Topic 4:\n",
      "[('price', 7.504481932384893), ('reasonable', 1.4054315822005785), ('cheap', 0.6243100575258377), ('baht', 0.4914402839596718), ('bag', 0.4527987157492584), ('worth', 0.4346488563679334), ('suitable', 0.42809685902647776), ('accord', 0.35848441361791383), ('beautiful', 0.302019705533463), ('subsidize', 0.29044541730846435)]\n"
     ]
    }
   ],
   "source": [
    "# Keywords for topics clustered by Non-Negative Matrix Factorization\n",
    "print(\"NMF Model:\")\n",
    "selected_topics(nmf, vectorizer)"
   ]
  },
  {
   "cell_type": "code",
   "execution_count": 42,
   "metadata": {
    "_uuid": "e789cfaaf1bca8737ee73f6a6c8a1b388126f13b"
   },
   "outputs": [
    {
     "name": "stdout",
     "output_type": "stream",
     "text": [
      "LSI Model:\n",
      "Topic 0:\n",
      "[('good', 0.9918893144241032), ('product', 0.0723197747919944), ('price', 0.054176539455994925), ('quality', 0.05068494357500812), ('value', 0.04052114524318918), ('delivery', 0.03515924187290823), ('service', 0.024553986887720855), ('fast', 0.02381396985847893), ('beautiful', 0.018022187960142027), ('shop', 0.011177684118339236)]\n",
      "Topic 1:\n",
      "[('good', 0.12139552733550249), ('able', -0.0006891254789252166), ('lack', -0.0007113397860697986), ('sent', -0.0009188991646991687), ('slowly', -0.0010899784989560266), ('neat', -0.001227000120729912), ('understand', -0.0012889309688799856), ('wallet', -0.0013292967130048706), ('yes', -0.0013749494426810345), ('match', -0.0014584869599756519)]\n",
      "Topic 2:\n",
      "[('like', 0.7491377359625666), ('lot', 0.6231295757293588), ('reed', 0.11671738179246642), ('receive', 0.021176144178573088), ('good', 0.014991515366150449), ('seller', 0.011091507877528526), ('pretty', 0.01105256284115569), ('wrong', 0.009143758470470432), ('send', 0.008190730117823751), ('cute', 0.0048614496816008915)]\n",
      "Topic 3:\n",
      "[('reed', 0.989610986785497), ('price', 0.062452040079336024), ('beautiful', 0.017411214156613546), ('reasonable', 0.014643003279751616), ('worth', 0.012669258347782661), ('quickly', 0.008352335039973673), ('cheap', 0.007606644740941717), ('color', 0.007576537778758298), ('confuse', 0.007268019306275125), ('use', 0.0069562205710608305)]\n",
      "Topic 4:\n",
      "[('price', 0.8809281941281141), ('reasonable', 0.18306329513855812), ('baht', 0.05245425569978201), ('cheap', 0.051881912256754724), ('worth', 0.04229176912297671), ('suitable', 0.041423035136169635), ('bag', 0.040280398393373516), ('lot', 0.037819847025318334), ('accord', 0.033546759593895914), ('buy', 0.024238405118962563)]\n"
     ]
    }
   ],
   "source": [
    "# Keywords for topics clustered by Latent Semantic Indexing\n",
    "print(\"LSI Model:\")\n",
    "selected_topics(lsi, vectorizer)"
   ]
  },
  {
   "cell_type": "code",
   "execution_count": 92,
   "metadata": {
    "_uuid": "0d45ca676b4f8f25de9b237c1e41ab4e652cd7b3"
   },
   "outputs": [
    {
     "name": "stdout",
     "output_type": "stream",
     "text": [
      "[[0.01549253 0.54410057 0.40949246 0.01552459 0.01538984]]\n"
     ]
    }
   ],
   "source": [
    "# Transforming an individual sentence\n",
    "text = spacy_tokenizer(\"I like it. Worth money\")\n",
    "text = reviews_outliers_remain.comments.iloc[0]\n",
    "x = lda.transform(vectorizer.transform([text]))#[0]\n",
    "print(x)"
   ]
  },
  {
   "cell_type": "code",
   "execution_count": 93,
   "metadata": {},
   "outputs": [
    {
     "data": {
      "text/plain": [
       "'This bag is like a shoulder bag. Colorful shapes But regret it when shipping the stuffing in the bag The line is wrinkled and broken almost the entire line. So I reduced the beauty down a bit. Bought more expensive than the price seen later But overall I like it'"
      ]
     },
     "execution_count": 93,
     "metadata": {},
     "output_type": "execute_result"
    }
   ],
   "source": [
    "reviews_outliers_remain.comments.iloc[0]"
   ]
  },
  {
   "cell_type": "markdown",
   "metadata": {
    "_uuid": "1a9eeef90515577592dfebab1635c1f77a7a6868"
   },
   "source": [
    "The index in the above list with the largest value represents the most dominant topic for the given review.\n",
    "\n"
   ]
  },
  {
   "cell_type": "markdown",
   "metadata": {},
   "source": [
    "#### Finding the main topic of each reviews which has length >1300"
   ]
  },
  {
   "cell_type": "code",
   "execution_count": 94,
   "metadata": {},
   "outputs": [
    {
     "name": "stderr",
     "output_type": "stream",
     "text": [
      "100%|██████████| 549/549 [00:00<00:00, 1136.03it/s]\n"
     ]
    }
   ],
   "source": [
    "topic_list = []\n",
    "for i in tqdm(range(len(reviews_outliers_remain))):\n",
    "    text = reviews_outliers_remain.comments.iloc[i]\n",
    "    x = lda.transform(vectorizer.transform([text]))[0]\n",
    "    y = pd.Series(x)\n",
    "    y = y[y==max(y)].index[0]+1\n",
    "    topic_list.append(y)\n",
    "    \n",
    "reviews_outliers_remain['topic'] = topic_list\n"
   ]
  },
  {
   "cell_type": "code",
   "execution_count": 95,
   "metadata": {},
   "outputs": [
    {
     "data": {
      "text/html": [
       "<div>\n",
       "<style scoped>\n",
       "    .dataframe tbody tr th:only-of-type {\n",
       "        vertical-align: middle;\n",
       "    }\n",
       "\n",
       "    .dataframe tbody tr th {\n",
       "        vertical-align: top;\n",
       "    }\n",
       "\n",
       "    .dataframe thead th {\n",
       "        text-align: right;\n",
       "    }\n",
       "</style>\n",
       "<table border=\"1\" class=\"dataframe\">\n",
       "  <thead>\n",
       "    <tr style=\"text-align: right;\">\n",
       "      <th></th>\n",
       "      <th>rating</th>\n",
       "      <th>comments</th>\n",
       "      <th>len_review</th>\n",
       "      <th>topic</th>\n",
       "    </tr>\n",
       "  </thead>\n",
       "  <tbody>\n",
       "    <tr>\n",
       "      <th>4</th>\n",
       "      <td>1</td>\n",
       "      <td>The product is compared to the price. Okay. Se...</td>\n",
       "      <td>302</td>\n",
       "      <td>4</td>\n",
       "    </tr>\n",
       "    <tr>\n",
       "      <th>7</th>\n",
       "      <td>5</td>\n",
       "      <td>This bag is like a shoulder bag. Colorful shap...</td>\n",
       "      <td>262</td>\n",
       "      <td>2</td>\n",
       "    </tr>\n",
       "    <tr>\n",
       "      <th>9</th>\n",
       "      <td>5</td>\n",
       "      <td>Beautiful, cheap, very worthwhile. ðŸ‘ðŸ‘ðŸ‘...</td>\n",
       "      <td>531</td>\n",
       "      <td>2</td>\n",
       "    </tr>\n",
       "    <tr>\n",
       "      <th>10</th>\n",
       "      <td>5</td>\n",
       "      <td>A cute seller, very worthwhile. Very worthwhil...</td>\n",
       "      <td>285</td>\n",
       "      <td>2</td>\n",
       "    </tr>\n",
       "    <tr>\n",
       "      <th>12</th>\n",
       "      <td>5</td>\n",
       "      <td>55555 Cute little leaves. Should be able to we...</td>\n",
       "      <td>235</td>\n",
       "      <td>2</td>\n",
       "    </tr>\n",
       "  </tbody>\n",
       "</table>\n",
       "</div>"
      ],
      "text/plain": [
       "    rating                                           comments  len_review  \\\n",
       "4        1  The product is compared to the price. Okay. Se...         302   \n",
       "7        5  This bag is like a shoulder bag. Colorful shap...         262   \n",
       "9        5  Beautiful, cheap, very worthwhile. ðŸ‘ðŸ‘ðŸ‘...         531   \n",
       "10       5  A cute seller, very worthwhile. Very worthwhil...         285   \n",
       "12       5  55555 Cute little leaves. Should be able to we...         235   \n",
       "\n",
       "    topic  \n",
       "4       4  \n",
       "7       2  \n",
       "9       2  \n",
       "10      2  \n",
       "12      2  "
      ]
     },
     "execution_count": 95,
     "metadata": {},
     "output_type": "execute_result"
    }
   ],
   "source": [
    "reviews_outliers_remain.head()"
   ]
  },
  {
   "cell_type": "code",
   "execution_count": 96,
   "metadata": {},
   "outputs": [
    {
     "data": {
      "text/plain": [
       "5    190\n",
       "1    175\n",
       "2    104\n",
       "3     46\n",
       "4     34\n",
       "Name: topic, dtype: int64"
      ]
     },
     "execution_count": 96,
     "metadata": {},
     "output_type": "execute_result"
    }
   ],
   "source": [
    "reviews_outliers_remain.topic.value_counts()"
   ]
  },
  {
   "cell_type": "markdown",
   "metadata": {},
   "source": [
    "\n",
    "# Visualizing LDA results with pyLDAvis"
   ]
  },
  {
   "cell_type": "code",
   "execution_count": 97,
   "metadata": {
    "_uuid": "520045555b8cd5ebf89634e580a23f8a221e34c1"
   },
   "outputs": [
    {
     "data": {
      "text/html": [
       "\n",
       "<link rel=\"stylesheet\" type=\"text/css\" href=\"https://cdn.rawgit.com/bmabey/pyLDAvis/files/ldavis.v1.0.0.css\">\n",
       "\n",
       "\n",
       "<div id=\"ldavis_el212411403053364500485352084602\"></div>\n",
       "<script type=\"text/javascript\">\n",
       "\n",
       "var ldavis_el212411403053364500485352084602_data = {\"mdsDat\": {\"x\": [114.3101806640625, -0.5400620698928833, 157.33993530273438, 217.8162078857422, 11.920971870422363], \"y\": [-189.31202697753906, 76.2520523071289, 69.8514633178711, -69.92080688476562, -75.97835540771484], \"topics\": [1, 2, 3, 4, 5], \"cluster\": [1, 1, 1, 1, 1], \"Freq\": [38.554079223177666, 20.71222162253494, 16.11018628600707, 13.619957893560066, 11.003554974720247]}, \"tinfo\": {\"Category\": [\"Default\", \"Default\", \"Default\", \"Default\", \"Default\", \"Default\", \"Default\", \"Default\", \"Default\", \"Default\", \"Default\", \"Default\", \"Default\", \"Default\", \"Default\", \"Default\", \"Default\", \"Default\", \"Default\", \"Default\", \"Default\", \"Default\", \"Default\", \"Default\", \"Default\", \"Default\", \"Default\", \"Default\", \"Default\", \"Default\", \"Topic1\", \"Topic1\", \"Topic1\", \"Topic1\", \"Topic1\", \"Topic1\", \"Topic1\", \"Topic1\", \"Topic1\", \"Topic1\", \"Topic1\", \"Topic1\", \"Topic1\", \"Topic1\", \"Topic1\", \"Topic1\", \"Topic1\", \"Topic1\", \"Topic1\", \"Topic1\", \"Topic1\", \"Topic1\", \"Topic1\", \"Topic1\", \"Topic1\", \"Topic1\", \"Topic1\", \"Topic1\", \"Topic1\", \"Topic1\", \"Topic1\", \"Topic1\", \"Topic1\", \"Topic1\", \"Topic2\", \"Topic2\", \"Topic2\", \"Topic2\", \"Topic2\", \"Topic2\", \"Topic2\", \"Topic2\", \"Topic2\", \"Topic2\", \"Topic2\", \"Topic2\", \"Topic2\", \"Topic2\", \"Topic2\", \"Topic2\", \"Topic2\", \"Topic2\", \"Topic2\", \"Topic2\", \"Topic2\", \"Topic2\", \"Topic2\", \"Topic2\", \"Topic2\", \"Topic2\", \"Topic2\", \"Topic2\", \"Topic2\", \"Topic2\", \"Topic2\", \"Topic2\", \"Topic2\", \"Topic2\", \"Topic2\", \"Topic2\", \"Topic2\", \"Topic2\", \"Topic2\", \"Topic2\", \"Topic2\", \"Topic2\", \"Topic2\", \"Topic2\", \"Topic2\", \"Topic2\", \"Topic2\", \"Topic2\", \"Topic2\", \"Topic3\", \"Topic3\", \"Topic3\", \"Topic3\", \"Topic3\", \"Topic3\", \"Topic3\", \"Topic3\", \"Topic3\", \"Topic3\", \"Topic3\", \"Topic3\", \"Topic3\", \"Topic3\", \"Topic3\", \"Topic3\", \"Topic3\", \"Topic3\", \"Topic3\", \"Topic3\", \"Topic3\", \"Topic3\", \"Topic3\", \"Topic3\", \"Topic3\", \"Topic3\", \"Topic3\", \"Topic3\", \"Topic3\", \"Topic3\", \"Topic3\", \"Topic3\", \"Topic3\", \"Topic3\", \"Topic3\", \"Topic3\", \"Topic3\", \"Topic3\", \"Topic3\", \"Topic3\", \"Topic3\", \"Topic3\", \"Topic3\", \"Topic3\", \"Topic3\", \"Topic3\", \"Topic3\", \"Topic4\", \"Topic4\", \"Topic4\", \"Topic4\", \"Topic4\", \"Topic4\", \"Topic4\", \"Topic4\", \"Topic4\", \"Topic4\", \"Topic4\", \"Topic4\", \"Topic4\", \"Topic4\", \"Topic4\", \"Topic4\", \"Topic4\", \"Topic4\", \"Topic4\", \"Topic4\", \"Topic4\", \"Topic4\", \"Topic4\", \"Topic4\", \"Topic4\", \"Topic4\", \"Topic4\", \"Topic4\", \"Topic4\", \"Topic4\", \"Topic4\", \"Topic4\", \"Topic4\", \"Topic4\", \"Topic4\", \"Topic4\", \"Topic4\", \"Topic4\", \"Topic4\", \"Topic5\", \"Topic5\", \"Topic5\", \"Topic5\", \"Topic5\", \"Topic5\", \"Topic5\", \"Topic5\", \"Topic5\", \"Topic5\", \"Topic5\", \"Topic5\", \"Topic5\", \"Topic5\", \"Topic5\", \"Topic5\", \"Topic5\", \"Topic5\", \"Topic5\", \"Topic5\", \"Topic5\", \"Topic5\", \"Topic5\", \"Topic5\", \"Topic5\", \"Topic5\", \"Topic5\", \"Topic5\", \"Topic5\", \"Topic5\", \"Topic5\", \"Topic5\", \"Topic5\", \"Topic5\", \"Topic5\", \"Topic5\", \"Topic5\", \"Topic5\", \"Topic5\", \"Topic5\"], \"Freq\": [3235.0, 1034.0, 1501.0, 372.0, 354.0, 316.0, 409.0, 474.0, 598.0, 244.0, 183.0, 419.0, 587.0, 827.0, 243.0, 220.0, 386.0, 203.0, 295.0, 837.0, 142.0, 121.0, 164.0, 266.0, 108.0, 161.0, 131.0, 161.0, 100.0, 95.0, 3234.3431298867463, 597.778364968119, 418.2124802097279, 110.24749143005396, 104.45471062221444, 52.31483477844648, 45.56096350687101, 42.669637099767506, 34.932065350056774, 18.52827800768444, 16.5673051573939, 13.692081965518486, 35.675903261371275, 86.7743854380081, 12.470533865815533, 104.29140628624636, 658.2026524250413, 451.606512407006, 98.9919959354698, 615.9841148752039, 54.28207161705452, 152.115623035822, 757.6317020188052, 9.777395228662952, 7.81731948630212, 4.691628751732108, 4.015346256463535, 7.525360589966717, 22.845292516224536, 3.4297279856151572, 5.139031629470504, 44.976384632698554, 11.526134952463996, 32.25335289453664, 1033.5769934985835, 219.65862797711557, 202.93116737665068, 93.68605165418944, 74.98543773654134, 63.1667883930441, 57.27069921014082, 38.57031781366556, 36.60360753817996, 28.729273291841796, 26.762849324940607, 25.778386794133013, 24.792893806573797, 23.80555462481656, 22.82453189435345, 20.85605167094674, 19.868219717002678, 18.89217534805011, 18.879608680605145, 16.924534134507102, 16.920308560466783, 16.917681788675402, 156.71475020103827, 15.91270015161398, 14.952718650470645, 14.951976811092651, 13.956954851115166, 12.98472020255731, 12.979734545129713, 12.96731070013877, 46.94687038024528, 131.32673115015683, 66.75940497132063, 115.4648825226477, 176.54576474402805, 36.202568553653606, 79.32380459837358, 59.95884029534974, 32.122627712297, 184.66864371740132, 52.468448933374276, 57.18414309231, 119.60627079064157, 55.67905434933248, 40.23357156331639, 28.71506663421037, 29.59722249540487, 39.467318331527096, 29.55610599303475, 141.86205266078903, 81.14505303263309, 71.02665279181895, 65.97018801688341, 59.89629064993442, 44.71872329417902, 43.70379455430026, 27.516181671551973, 24.48116318714974, 15.375162128802085, 15.373262914969947, 14.3573272798905, 13.351613544894482, 13.350100902046108, 12.340446776311143, 12.339649815600357, 12.336041002192975, 12.334754023642457, 11.3284447246907, 92.87260633250946, 50.91513828343514, 13.297906178394364, 17.008255233372115, 10.228215812284962, 42.02850060302337, 11.561883964908507, 23.965024767853585, 77.6391692295279, 23.803076388929664, 10.710801025450294, 80.4524266436576, 45.521365766413005, 741.854731671896, 51.179157210625505, 142.50114786002686, 26.044180196150684, 136.87773019744913, 54.93348404141676, 21.6813129042185, 22.283429532478273, 28.09394432259427, 171.45926149457551, 135.1947561275665, 32.07835084356236, 44.140364682186735, 58.982216926508535, 29.669833445922325, 371.834602618546, 353.6456184239785, 243.57451590288255, 120.36840982651833, 68.86498591928367, 50.686363750602055, 32.5089474003479, 29.480059555316295, 26.453506265619357, 23.400507329538332, 21.40475984839823, 21.396733384193478, 17.359475069997053, 14.275746921617678, 12.316901264344425, 34.31496744187229, 13.44703198429401, 53.48023297630804, 187.65117668531147, 61.15929097338275, 9.532206183150924, 9.580877841221271, 11.574683643356279, 41.814221932676524, 335.49888092563015, 90.39580276929523, 12.035720333749664, 8.30202000837332, 17.848844953055963, 8.751997370117884, 45.70774994420897, 27.609813626726844, 50.48164181088036, 102.6034750043549, 45.514136291698854, 24.04751433565066, 26.805408693206026, 22.002745022770036, 14.478459831949326, 315.345708416721, 182.65297565646844, 67.58922960581516, 63.441190381552424, 56.184087413449575, 47.89026866747146, 41.67161899056713, 41.66553663230397, 29.231723854321313, 25.077645049806094, 24.04002908775357, 23.00742546409231, 21.972564732811698, 19.897995189625462, 19.894832667447414, 18.862477924287237, 16.791726249636024, 16.786979079693342, 12.64361859398196, 12.638934063901672, 11.601239832406215, 15.37323239117434, 11.919117112490293, 10.033974706813044, 87.11069047085977, 24.21801875188532, 37.74476809960713, 49.85634213106073, 13.838298314049496, 65.6792950159638, 271.73821016065153, 21.365490862443856, 38.03982757877329, 98.85421096817669, 88.57900380958375, 26.65260287924316, 29.94751716609345, 30.013457448881077, 17.0083914401794, 17.02997256751813], \"Term\": [\"good\", \"price\", \"product\", \"reed\", \"like\", \"color\", \"order\", \"beautiful\", \"value\", \"small\", \"send\", \"service\", \"fast\", \"delivery\", \"cute\", \"worth\", \"bag\", \"baht\", \"shop\", \"quality\", \"received\", \"lot\", \"buy\", \"cheap\", \"item\", \"okay\", \"little\", \"suitable\", \"time\", \"pretty\", \"good\", \"value\", \"service\", \"company\", \"speed\", \"fair\", \"transport\", \"providing\", \"package\", \"excellent\", \"support\", \"available\", \"provide\", \"transportation\", \"relate\", \"money\", \"quality\", \"fast\", \"ship\", \"delivery\", \"store\", \"shop\", \"product\", \"wrap\", \"staff\", \"return\", \"reduction\", \"cover\", \"pack\", \"image\", \"recommend\", \"cheap\", \"overall\", \"beautiful\", \"price\", \"worth\", \"baht\", \"reasonable\", \"free\", \"nice\", \"discount\", \"sew\", \"leather\", \"shoulder\", \"cell\", \"purchase\", \"strong\", \"compare\", \"pro\", \"old\", \"considered\", \"range\", \"sell\", \"flash\", \"code\", \"material\", \"buy\", \"slowly\", \"acquired\", \"base\", \"sewing\", \"soft\", \"fold\", \"inside\", \"worthwhile\", \"okay\", \"consider\", \"suitable\", \"cheap\", \"work\", \"use\", \"sensitive\", \"lovely\", \"bag\", \"overall\", \"accord\", \"quality\", \"cute\", \"little\", \"expensive\", \"bite\", \"delivery\", \"pretty\", \"received\", \"deliver\", \"subsidize\", \"complete\", \"thank\", \"products\", \"great\", \"successfully\", \"customer\", \"correct\", \"problem\", \"acceptable\", \"completely\", \"packed\", \"correctly\", \"responsibility\", \"polite\", \"impress\", \"opportunity\", \"time\", \"day\", \"high\", \"new\", \"follow\", \"quickly\", \"respond\", \"round\", \"pack\", \"cost\", \"defect\", \"receive\", \"exactly\", \"product\", \"long\", \"shop\", \"wait\", \"order\", \"accord\", \"poor\", \"damage\", \"slow\", \"delivery\", \"fast\", \"come\", \"cheap\", \"quality\", \"picture\", \"reed\", \"like\", \"small\", \"lot\", \"leave\", \"compact\", \"wear\", \"stuff\", \"carry\", \"pleasant\", \"phone\", \"real\", \"confuse\", \"check\", \"wallet\", \"short\", \"probably\", \"thing\", \"cute\", \"line\", \"cable\", \"large\", \"people\", \"think\", \"beautiful\", \"little\", \"style\", \"reduction\", \"child\", \"yes\", \"look\", \"size\", \"picture\", \"bag\", \"suitable\", \"long\", \"use\", \"sensitive\", \"overall\", \"color\", \"send\", \"brown\", \"black\", \"wrong\", \"red\", \"pink\", \"star\", \"gray\", \"break\", \"trade\", \"wrinkle\", \"card\", \"ask\", \"piece\", \"sent\", \"match\", \"late\", \"lack\", \"straight\", \"choose\", \"end\", \"deduct\", \"able\", \"item\", \"pay\", \"seller\", \"ordered\", \"lose\", \"pretty\", \"order\", \"shape\", \"come\", \"bag\", \"beautiful\", \"bad\", \"receive\", \"okay\", \"exactly\", \"picture\"], \"Total\": [3235.0, 1034.0, 1501.0, 372.0, 354.0, 316.0, 409.0, 474.0, 598.0, 244.0, 183.0, 419.0, 587.0, 827.0, 243.0, 220.0, 386.0, 203.0, 295.0, 837.0, 142.0, 121.0, 164.0, 266.0, 108.0, 161.0, 131.0, 161.0, 100.0, 95.0, 3235.1685006127427, 598.5987723377068, 419.0300675049293, 111.0599844213227, 105.26745657629536, 53.13496894115289, 46.37676846054397, 43.480299722394946, 35.75760944381511, 19.344948123913504, 17.415879220605813, 14.518229973973554, 38.75766599387932, 99.03522632573215, 14.54180618659148, 126.52508455243665, 837.2068148482482, 587.4211174949414, 131.47009180622504, 827.3291843287608, 79.34612690588166, 295.2334737623455, 1501.569366746651, 19.747936909604125, 22.89625111780502, 14.951661856211249, 12.943804074865218, 30.997825706661388, 101.10079224639485, 16.81469544389073, 25.706713809918718, 266.0804181921797, 78.89550717967404, 474.9653234689514, 1034.3949148300362, 220.47485898988737, 203.7436869405982, 94.49915718491226, 75.79968117683168, 63.9899304049938, 58.08445879277265, 39.38492817057197, 37.41656805087133, 29.543205000989595, 27.574727471474688, 26.59055852341977, 25.606425851849032, 24.622387290085438, 23.63808953031853, 21.669755315972033, 20.685746878308326, 19.701162851600223, 19.70156500791767, 17.732835278168583, 17.732860396318088, 17.732964823510677, 164.5691446751781, 16.749878449723354, 15.764566016250768, 15.764531711009603, 14.780710064565456, 13.796153570983266, 13.796341155297855, 13.796776455077001, 52.30380938514353, 161.9487212026966, 79.34845808720347, 161.59229484934335, 266.0804181921797, 43.49923578059003, 118.12398215457164, 86.2980932858114, 40.32283008663425, 386.5280553451781, 78.89550717967404, 112.72935289592981, 837.2068148482482, 243.9429823970286, 131.24024128297097, 48.76957634199254, 58.20918192903629, 827.3291843287608, 95.84585840016449, 142.66704276551033, 81.95319505573228, 71.83418302845544, 66.77485702352193, 60.70341999119093, 45.52496331807113, 44.51302844362127, 28.32272699075724, 25.287097034529253, 16.18001146183093, 16.179900098752498, 15.168071126855756, 14.156197622185976, 14.156117379474765, 13.144191264522888, 13.144404601385443, 13.144307338244804, 13.144211407613202, 12.132412059035321, 100.32615203654447, 56.520826215364444, 15.193833051094698, 20.16164762667109, 12.159388012142246, 50.568984946662404, 14.20001052171694, 29.446341279994353, 101.10079224639485, 31.17354769597823, 14.035243943208368, 110.9970892509933, 63.12867716781656, 1501.569366746651, 75.83411925209556, 295.2334737623455, 36.652057832887, 409.2140121205611, 112.72935289592981, 29.50223576669154, 31.029626366438077, 46.05385444041445, 827.3291843287608, 587.4211174949414, 73.66720156262308, 266.0804181921797, 837.2068148482482, 103.34198327521901, 372.63556444160344, 354.45773248992185, 244.381380491878, 121.17668124432709, 69.67308959846211, 51.49525019362202, 33.31757492174707, 30.287960649396773, 27.25829060518266, 24.228248581728593, 22.208942682520906, 22.208899719724677, 18.169492417965884, 15.141071602864823, 13.120083514015935, 38.37335385572244, 16.199995142507426, 65.93445917501332, 243.9429823970286, 80.73525972708714, 13.049286809527512, 13.125573586908091, 16.24942345430982, 59.143099509265326, 474.9653234689514, 131.24024128297097, 18.03432435744528, 12.943804074865218, 28.02360917476498, 14.251206531526183, 76.4916270194884, 47.955645353529164, 103.34198327521901, 386.5280553451781, 161.59229484934335, 75.83411925209556, 118.12398215457164, 86.2980932858114, 78.89550717967404, 316.1498474970175, 183.4557408078302, 68.38529418155366, 64.23853122789228, 56.981799667967906, 48.68840509776951, 42.468449593259656, 42.468189757664916, 30.02836237583949, 25.881427580510856, 24.844620836106294, 23.80815504914385, 22.77155158367656, 20.69818867116179, 20.69801565647166, 19.66154600142886, 17.58830899508249, 17.588092881849693, 13.441540557186919, 13.441407660024968, 12.40460624458939, 17.55423550050092, 14.389054702920973, 12.364221651563193, 108.31566512576038, 30.920301027930662, 48.44582115330604, 64.92564982795423, 18.423060617384017, 95.84585840016449, 409.2140121205611, 31.844631821156298, 73.66720156262308, 386.5280553451781, 474.9653234689514, 66.0443429333009, 110.9970892509933, 161.9487212026966, 63.12867716781656, 103.34198327521901], \"loglift\": [30.0, 29.0, 28.0, 27.0, 26.0, 25.0, 24.0, 23.0, 22.0, 21.0, 20.0, 19.0, 18.0, 17.0, 16.0, 15.0, 14.0, 13.0, 12.0, 11.0, 10.0, 9.0, 8.0, 7.0, 6.0, 5.0, 4.0, 3.0, 2.0, 1.0, 0.9529, 0.9517, 0.9512, 0.9458, 0.9454, 0.9376, 0.9354, 0.9343, 0.9298, 0.91, 0.9032, 0.8945, 0.8703, 0.8209, 0.7994, 0.7599, 0.7126, 0.6902, 0.6694, 0.6581, 0.5735, 0.29, 0.269, 0.2501, -0.1215, -0.2059, -0.2174, -0.4625, -0.5343, -0.6367, -0.6568, -0.8246, -0.9704, -1.7365, 1.5737, 1.5707, 1.5705, 1.5658, 1.5636, 1.5615, 1.5603, 1.5535, 1.5525, 1.5465, 1.5446, 1.5434, 1.5422, 1.5407, 1.5394, 1.5362, 1.5341, 1.5325, 1.5318, 1.5278, 1.5275, 1.5274, 1.5255, 1.5232, 1.5216, 1.5215, 1.5171, 1.5138, 1.5134, 1.5124, 1.4664, 1.3649, 1.4017, 1.2383, 1.1642, 1.3908, 1.1762, 1.2103, 1.3471, 0.8358, 1.1665, 0.8957, -0.3714, 0.0971, 0.3921, 1.0448, 0.8981, -1.4683, 0.398, 1.8201, 1.8158, 1.8144, 1.8136, 1.8123, 1.8078, 1.8074, 1.7968, 1.7933, 1.7747, 1.7746, 1.7708, 1.7672, 1.7671, 1.7626, 1.7625, 1.7623, 1.7622, 1.7572, 1.7485, 1.7213, 1.6924, 1.6556, 1.6528, 1.6407, 1.6202, 1.6197, 1.5617, 1.556, 1.5554, 1.5039, 1.4987, 1.1206, 1.4325, 1.0973, 1.484, 0.7306, 1.1069, 1.5177, 1.4946, 1.3315, 0.2519, 0.3567, 0.9943, 0.0293, -0.8271, 0.5778, 1.9915, 1.9913, 1.9903, 1.9869, 1.982, 1.9778, 1.9691, 1.9666, 1.9637, 1.9589, 1.9568, 1.9564, 1.948, 1.9348, 1.9305, 1.8819, 1.8074, 1.7843, 1.7313, 1.7159, 1.6796, 1.6788, 1.6544, 1.6469, 1.646, 1.6208, 1.5892, 1.5495, 1.5425, 1.5061, 1.4787, 1.4415, 1.2772, 0.6673, 0.7266, 0.8451, 0.5105, 0.627, 0.2982, 2.2044, 2.2026, 2.1952, 2.1945, 2.1929, 2.1904, 2.188, 2.1879, 2.1801, 2.1754, 2.174, 2.1727, 2.1712, 2.1675, 2.1674, 2.1655, 2.1606, 2.1603, 2.1458, 2.1454, 2.14, 2.0743, 2.0186, 1.9981, 1.9891, 1.9626, 1.9574, 1.9429, 1.9208, 1.829, 1.7976, 1.8079, 1.546, 0.8434, 0.5276, 1.2995, 0.8969, 0.5213, 0.8955, 0.4039], \"logprob\": [30.0, 29.0, 28.0, 27.0, 26.0, 25.0, 24.0, 23.0, 22.0, 21.0, 20.0, 19.0, 18.0, 17.0, 16.0, 15.0, 14.0, 13.0, 12.0, 11.0, 10.0, 9.0, 8.0, 7.0, 6.0, 5.0, 4.0, 3.0, 2.0, 1.0, -0.8965, -2.5849, -2.9421, -4.2754, -4.3293, -5.0208, -5.159, -5.2246, -5.4247, -6.0588, -6.1707, -6.3613, -5.4036, -4.5148, -6.4547, -4.3309, -2.4886, -2.8653, -4.3831, -2.5549, -4.9839, -3.9535, -2.3479, -6.698, -6.9217, -7.4323, -7.588, -6.9598, -5.8493, -7.7456, -7.3412, -5.172, -6.5335, -5.5045, -1.416, -2.9647, -3.0439, -3.8168, -4.0395, -4.211, -4.309, -4.7043, -4.7566, -4.9988, -5.0697, -5.1072, -5.1462, -5.1868, -5.2289, -5.3191, -5.3676, -5.418, -5.4187, -5.528, -5.5282, -5.5284, -3.3023, -5.5896, -5.6519, -5.6519, -5.7208, -5.793, -5.7934, -5.7943, -4.5077, -3.4791, -4.1557, -3.6078, -3.1832, -4.7676, -3.9832, -4.2631, -4.8872, -3.1382, -4.3965, -4.3105, -3.5725, -4.3371, -4.6621, -4.9993, -4.9691, -4.6813, -4.9705, -3.1506, -3.7092, -3.8424, -3.9163, -4.0129, -4.3051, -4.328, -4.7907, -4.9076, -5.3727, -5.3729, -5.4412, -5.5138, -5.514, -5.5926, -5.5927, -5.593, -5.5931, -5.6782, -3.5743, -4.1753, -5.5179, -5.2718, -5.7803, -4.3671, -5.6578, -4.9289, -3.7534, -4.9357, -5.7342, -3.7178, -4.2873, -1.4963, -4.1701, -3.1461, -4.8457, -3.1864, -4.0994, -5.029, -5.0016, -4.7699, -2.9611, -3.1988, -4.6373, -4.3181, -4.0282, -4.7154, -2.0191, -2.0693, -2.4421, -3.147, -3.7054, -4.0119, -4.4561, -4.5539, -4.6622, -4.7848, -4.874, -4.8743, -5.0834, -5.279, -5.4266, -4.402, -5.3388, -3.9583, -2.703, -3.8241, -5.6829, -5.6778, -5.4887, -4.2043, -2.1219, -3.4334, -5.4497, -5.8211, -5.0556, -5.7683, -4.1153, -4.6194, -4.016, -3.3067, -4.1195, -4.7575, -4.649, -4.8464, -5.2649, -1.9706, -2.5167, -3.5108, -3.5741, -3.6956, -3.8553, -3.9944, -3.9946, -4.349, -4.5023, -4.5445, -4.5884, -4.6345, -4.7336, -4.7338, -4.7871, -4.9034, -4.9036, -5.1871, -5.1875, -5.2731, -4.9916, -5.2461, -5.4183, -3.2571, -4.5372, -4.0934, -3.8151, -5.0968, -3.5395, -2.1194, -4.6625, -4.0856, -3.1306, -3.2404, -4.4414, -4.3248, -4.3226, -4.8905, -4.8893]}, \"token.table\": {\"Topic\": [4, 5, 3, 2, 3, 2, 5, 1, 2, 3, 4, 5, 2, 4, 5, 2, 2, 1, 2, 4, 5, 2, 4, 5, 5, 5, 5, 2, 3, 2, 4, 5, 4, 2, 1, 2, 3, 4, 2, 4, 5, 2, 5, 2, 3, 5, 4, 1, 2, 3, 3, 4, 2, 5, 2, 3, 3, 2, 3, 1, 2, 5, 3, 2, 4, 1, 2, 3, 2, 3, 2, 5, 1, 3, 3, 1, 2, 3, 2, 3, 5, 3, 5, 1, 2, 3, 1, 1, 3, 2, 2, 3, 5, 2, 1, 5, 3, 3, 5, 1, 2, 3, 3, 2, 3, 5, 5, 3, 4, 5, 2, 4, 4, 2, 4, 5, 2, 4, 3, 4, 2, 3, 4, 5, 2, 5, 4, 1, 2, 3, 5, 2, 1, 3, 2, 3, 2, 2, 5, 2, 3, 3, 5, 3, 5, 1, 2, 4, 1, 3, 1, 3, 3, 5, 4, 5, 4, 2, 3, 4, 5, 5, 5, 4, 3, 3, 5, 2, 5, 2, 2, 4, 5, 3, 1, 2, 3, 3, 1, 3, 1, 2, 1, 2, 3, 3, 4, 2, 4, 2, 3, 5, 3, 1, 2, 3, 5, 1, 4, 4, 1, 2, 3, 5, 3, 1, 3, 3, 5, 2, 3, 5, 5, 2, 3, 4, 5, 1, 2, 2, 4, 5, 1, 2, 3, 1, 3, 3, 4, 2, 2, 4, 2, 3, 2, 4, 2, 1, 1, 3, 5, 1, 3, 4, 5, 2, 4, 2, 4, 3, 3, 2, 4, 1, 3, 4, 5, 2, 4, 3, 5, 5, 1, 1, 3, 2, 3, 4, 1, 3, 5, 4, 4, 2, 3, 2, 2, 3, 1, 4, 5, 5, 4, 5], \"Freq\": [0.16175704839027555, 0.8087852419513777, 0.9229914524340783, 0.505635830737196, 0.48789422264115406, 0.9515009791285962, 0.9662681270204789, 0.9643048791138746, 0.181696106994644, 0.34825087173973435, 0.060565368998214665, 0.408816240737949, 0.47861985033606663, 0.2664748355925128, 0.25612629828794914, 0.996349889649268, 0.9515030496925151, 0.0673733395235786, 0.03789750348201296, 0.7053146481374635, 0.187382100549953, 0.5153826081351471, 0.20615304325405887, 0.27487072433874515, 0.9807198078128767, 0.9659436258773227, 0.9943658327983388, 0.9540062951039949, 0.04253531252056028, 0.229897621516729, 0.7663254050557633, 0.9661177420940594, 0.9538382423385193, 0.9791574559687225, 0.16912180274573313, 0.665212424133217, 0.16536354046249463, 0.9246373286651044, 0.35684197341022417, 0.6423155521384035, 0.9673825805824453, 0.9586721837346527, 0.9963629667826162, 0.04072368620450116, 0.4343859861813458, 0.5158333585903481, 0.9903826043807947, 0.9904557485142309, 0.9747227073170094, 0.9883959762991483, 0.9183256935906325, 0.9356342823969316, 0.8443768362375411, 0.15123167216194766, 0.966849305352981, 0.9270698006231574, 0.9129508053027848, 0.22454935409559068, 0.7698834997563109, 0.2580826176553671, 0.35486359927612976, 0.3871239264830506, 0.9491006408220075, 0.22956184043391495, 0.7706718928852858, 0.16113632632741093, 0.09668179579644655, 0.7089998358406081, 0.08846296727772913, 0.9023222662328372, 0.13899453725712785, 0.8339672235427672, 0.21374762078515175, 0.783741276212223, 0.9883690311880573, 0.7445645719602905, 0.04713964010787553, 0.20668919124222349, 0.9813296221517418, 0.11393261756929995, 0.8544946317697496, 0.7286704246584644, 0.26929124389551945, 0.9821685681603306, 0.5946330104784988, 0.3895871447962579, 0.9786398869940082, 0.7694650167286374, 0.22981809127957092, 0.9586735416715454, 0.9422788153515574, 0.8224098112515282, 0.08224098112515282, 0.9894500720264756, 0.9996388130594986, 0.965753631084894, 0.9884746452542302, 0.8556102963803045, 0.0658161766446388, 0.1784153635140616, 0.47577430270416426, 0.29735893919010264, 0.9129494062344076, 0.9422490856707474, 0.1938777735945937, 0.8032079191776025, 0.9671510452757711, 0.22856144001145257, 0.7618714667048418, 0.9665630102251401, 0.9888667488075079, 0.9903393174848246, 0.9987086401340254, 0.12386161924546263, 0.755555877397322, 0.11147545732091636, 0.30478456614351096, 0.6857652738228996, 0.6725205026837665, 0.3164802365570666, 0.2222465472680921, 0.09151328416921439, 0.6013730102548375, 0.09151328416921439, 0.2171191900777657, 0.75991716527218, 0.9902895405927601, 0.14879907950679314, 0.7935950907028968, 0.04959969316893105, 0.9665511337532804, 0.9586665382351123, 0.8219713930078314, 0.1738785639055028, 0.14879736297104074, 0.8431850568358974, 0.9845299033968546, 0.8088980204792054, 0.1852438214837875, 0.9690926221267308, 0.9066622487329727, 0.3347881449368297, 0.6646888716993992, 0.21563126494842094, 0.7701116605300748, 0.15209991581233637, 0.6590996351867908, 0.17744990178105907, 0.22749574448384363, 0.7715073073799914, 0.9788126372092765, 0.9183308990393763, 0.1940472699337607, 0.7761890797350428, 0.7384877398106855, 0.24616257993689514, 0.9455650500880269, 0.05805965600660942, 0.29029828003304714, 0.48383046672174523, 0.16450235868539337, 0.9662762040546911, 0.9889694679757274, 0.9493051023648956, 0.9129427432881673, 0.745706195760198, 0.23727015319642666, 0.31300256996757736, 0.6886056539286702, 0.9996182165782388, 0.9730058755594394, 0.8024693764190763, 0.12345682714139636, 0.9270761814627353, 0.5048051836874559, 0.001331939798647641, 0.4941496652982748, 0.9884686712561777, 0.9288485020146772, 0.051602694556370954, 0.9889536243894022, 0.9777906687104887, 0.7859467796129548, 0.14333375919993097, 0.07047243160663273, 0.8305486069040038, 0.1581997346483817, 0.9644100778780542, 0.9455668792699802, 0.994717866277521, 0.720739620649864, 0.270277357743699, 0.9953244789225308, 0.19450171799363916, 0.5057044667834618, 0.27230240519109483, 0.9858610053792654, 0.30902816334862143, 0.6180563266972429, 0.9982944074526117, 0.8252069822705246, 0.06876724852254372, 0.84506979636724, 0.14084496606120667, 0.9129359878906329, 0.33441098709190575, 0.6688219741838115, 0.8150418339512162, 0.16980038207317003, 0.964390391949283, 0.20641615235202965, 0.7843813789377126, 0.9975157996919398, 0.6952644921282962, 0.04635096614188642, 0.2549303137803753, 0.9663533070400068, 0.9975417814023162, 0.99022651078847, 0.9471804763671611, 0.31402467003422535, 0.6594518070718732, 0.7530229776207732, 0.09888180514212173, 0.14451956136156255, 0.5148467687724179, 0.48436242062141943, 0.07817924936349091, 0.8860314927862303, 0.9816132000244592, 0.41705204575102556, 0.5838728640514358, 0.3691330553449114, 0.607983855862207, 0.9552308124519113, 0.9984394044623598, 0.9422916273809988, 0.9879596542225114, 0.349402177624567, 0.6114538108429922, 0.9889755188451277, 0.6805625190004978, 0.28986922105576757, 0.02520601922224066, 0.9671606076395016, 0.9763174347190183, 0.957476151520871, 0.27724908906475354, 0.6653978137554085, 0.9883873805855772, 0.9886053701374674, 0.7116675959532442, 0.2846670383812977, 0.976120687601361, 0.9884121851570635, 0.8038285391758397, 0.1819989145303788, 0.2874384356088201, 0.7101420173864966, 0.9269766467882086, 0.06977243577975764, 0.966003874976477, 0.9918759225135638, 0.8784752984140446, 0.12116900667779926, 0.6687888315230028, 0.10158817694020296, 0.22857339811545666, 0.9989997100472351, 0.7093735396398625, 0.2728359767845625, 0.9146283243685628, 0.9904682461885971, 0.8276007464035428, 0.16092236735624443, 0.9978461989178133, 0.8985961166597163, 0.09559533155954429, 0.5063820107272392, 0.45574380965451533, 0.9660555365388167, 0.9827699427942108, 0.6315254768142201, 0.35084748711901115], \"Term\": [\"able\", \"able\", \"acceptable\", \"accord\", \"accord\", \"acquired\", \"ask\", \"available\", \"bad\", \"bad\", \"bad\", \"bad\", \"bag\", \"bag\", \"bag\", \"baht\", \"base\", \"beautiful\", \"beautiful\", \"beautiful\", \"beautiful\", \"bite\", \"bite\", \"bite\", \"black\", \"break\", \"brown\", \"buy\", \"buy\", \"cable\", \"cable\", \"card\", \"carry\", \"cell\", \"cheap\", \"cheap\", \"cheap\", \"check\", \"child\", \"child\", \"choose\", \"code\", \"color\", \"come\", \"come\", \"come\", \"compact\", \"company\", \"compare\", \"complete\", \"completely\", \"confuse\", \"consider\", \"consider\", \"considered\", \"correct\", \"correctly\", \"cost\", \"cost\", \"cover\", \"cover\", \"cover\", \"customer\", \"cute\", \"cute\", \"damage\", \"damage\", \"damage\", \"day\", \"day\", \"deduct\", \"deduct\", \"defect\", \"defect\", \"deliver\", \"delivery\", \"delivery\", \"delivery\", \"discount\", \"end\", \"end\", \"exactly\", \"exactly\", \"excellent\", \"expensive\", \"expensive\", \"fair\", \"fast\", \"fast\", \"flash\", \"fold\", \"follow\", \"follow\", \"free\", \"good\", \"gray\", \"great\", \"high\", \"high\", \"image\", \"image\", \"image\", \"impress\", \"inside\", \"item\", \"item\", \"lack\", \"large\", \"large\", \"late\", \"leather\", \"leave\", \"like\", \"line\", \"line\", \"line\", \"little\", \"little\", \"long\", \"long\", \"look\", \"look\", \"look\", \"look\", \"lose\", \"lose\", \"lot\", \"lovely\", \"lovely\", \"lovely\", \"match\", \"material\", \"money\", \"money\", \"new\", \"new\", \"nice\", \"okay\", \"okay\", \"old\", \"opportunity\", \"order\", \"order\", \"ordered\", \"ordered\", \"overall\", \"overall\", \"overall\", \"pack\", \"pack\", \"package\", \"packed\", \"pay\", \"pay\", \"people\", \"people\", \"phone\", \"picture\", \"picture\", \"picture\", \"picture\", \"piece\", \"pink\", \"pleasant\", \"polite\", \"poor\", \"poor\", \"pretty\", \"pretty\", \"price\", \"pro\", \"probably\", \"probably\", \"problem\", \"product\", \"product\", \"product\", \"products\", \"provide\", \"provide\", \"providing\", \"purchase\", \"quality\", \"quality\", \"quality\", \"quickly\", \"quickly\", \"range\", \"real\", \"reasonable\", \"receive\", \"receive\", \"received\", \"recommend\", \"recommend\", \"recommend\", \"red\", \"reduction\", \"reduction\", \"reed\", \"relate\", \"relate\", \"respond\", \"respond\", \"responsibility\", \"return\", \"return\", \"round\", \"round\", \"sell\", \"seller\", \"seller\", \"send\", \"sensitive\", \"sensitive\", \"sensitive\", \"sent\", \"service\", \"sew\", \"sewing\", \"shape\", \"shape\", \"ship\", \"ship\", \"ship\", \"shop\", \"shop\", \"short\", \"short\", \"shoulder\", \"size\", \"size\", \"slow\", \"slow\", \"slowly\", \"small\", \"soft\", \"speed\", \"staff\", \"staff\", \"star\", \"store\", \"store\", \"store\", \"straight\", \"strong\", \"stuff\", \"style\", \"style\", \"subsidize\", \"successfully\", \"suitable\", \"suitable\", \"support\", \"thank\", \"thing\", \"thing\", \"think\", \"think\", \"time\", \"time\", \"trade\", \"transport\", \"transportation\", \"transportation\", \"use\", \"use\", \"use\", \"value\", \"wait\", \"wait\", \"wallet\", \"wear\", \"work\", \"work\", \"worth\", \"worthwhile\", \"worthwhile\", \"wrap\", \"wrap\", \"wrinkle\", \"wrong\", \"yes\", \"yes\"]}, \"R\": 30, \"lambda.step\": 0.01, \"plot.opts\": {\"xlab\": \"PC1\", \"ylab\": \"PC2\"}, \"topic.order\": [5, 2, 1, 3, 4]};\n",
       "\n",
       "function LDAvis_load_lib(url, callback){\n",
       "  var s = document.createElement('script');\n",
       "  s.src = url;\n",
       "  s.async = true;\n",
       "  s.onreadystatechange = s.onload = callback;\n",
       "  s.onerror = function(){console.warn(\"failed to load library \" + url);};\n",
       "  document.getElementsByTagName(\"head\")[0].appendChild(s);\n",
       "}\n",
       "\n",
       "if(typeof(LDAvis) !== \"undefined\"){\n",
       "   // already loaded: just create the visualization\n",
       "   !function(LDAvis){\n",
       "       new LDAvis(\"#\" + \"ldavis_el212411403053364500485352084602\", ldavis_el212411403053364500485352084602_data);\n",
       "   }(LDAvis);\n",
       "}else if(typeof define === \"function\" && define.amd){\n",
       "   // require.js is available: use it to load d3/LDAvis\n",
       "   require.config({paths: {d3: \"https://cdnjs.cloudflare.com/ajax/libs/d3/3.5.5/d3.min\"}});\n",
       "   require([\"d3\"], function(d3){\n",
       "      window.d3 = d3;\n",
       "      LDAvis_load_lib(\"https://cdn.rawgit.com/bmabey/pyLDAvis/files/ldavis.v1.0.0.js\", function(){\n",
       "        new LDAvis(\"#\" + \"ldavis_el212411403053364500485352084602\", ldavis_el212411403053364500485352084602_data);\n",
       "      });\n",
       "    });\n",
       "}else{\n",
       "    // require.js not available: dynamically load d3 & LDAvis\n",
       "    LDAvis_load_lib(\"https://cdnjs.cloudflare.com/ajax/libs/d3/3.5.5/d3.min.js\", function(){\n",
       "         LDAvis_load_lib(\"https://cdn.rawgit.com/bmabey/pyLDAvis/files/ldavis.v1.0.0.js\", function(){\n",
       "                 new LDAvis(\"#\" + \"ldavis_el212411403053364500485352084602\", ldavis_el212411403053364500485352084602_data);\n",
       "            })\n",
       "         });\n",
       "}\n",
       "</script>"
      ],
      "text/plain": [
       "PreparedData(topic_coordinates=                x           y  topics  cluster       Freq\n",
       "topic                                                    \n",
       "4      114.310181 -189.312027       1        1  38.554079\n",
       "1       -0.540062   76.252052       2        1  20.712222\n",
       "0      157.339935   69.851463       3        1  16.110186\n",
       "2      217.816208  -69.920807       4        1  13.619958\n",
       "3       11.920972  -75.978355       5        1  11.003555, topic_info=    Category         Freq       Term        Total  loglift  logprob\n",
       "72   Default  3235.000000       good  3235.000000  30.0000  30.0000\n",
       "122  Default  1034.000000      price  1034.000000  29.0000  29.0000\n",
       "126  Default  1501.000000    product  1501.000000  28.0000  28.0000\n",
       "143  Default   372.000000       reed   372.000000  27.0000  27.0000\n",
       "87   Default   354.000000       like   354.000000  26.0000  26.0000\n",
       "30   Default   316.000000      color   316.000000  25.0000  25.0000\n",
       "106  Default   409.000000      order   409.000000  24.0000  24.0000\n",
       "12   Default   474.000000  beautiful   474.000000  23.0000  23.0000\n",
       "193  Default   598.000000      value   598.000000  22.0000  22.0000\n",
       "167  Default   244.000000      small   244.000000  21.0000  21.0000\n",
       "153  Default   183.000000       send   183.000000  20.0000  20.0000\n",
       "156  Default   419.000000    service   419.000000  19.0000  19.0000\n",
       "66   Default   587.000000       fast   587.000000  18.0000  18.0000\n",
       "54   Default   827.000000   delivery   827.000000  17.0000  17.0000\n",
       "47   Default   243.000000       cute   243.000000  16.0000  16.0000\n",
       "199  Default   220.000000      worth   220.000000  15.0000  15.0000\n",
       "9    Default   386.000000        bag   386.000000  14.0000  14.0000\n",
       "10   Default   203.000000       baht   203.000000  13.0000  13.0000\n",
       "161  Default   295.000000       shop   295.000000  12.0000  12.0000\n",
       "132  Default   837.000000    quality   837.000000  11.0000  11.0000\n",
       "138  Default   142.000000   received   142.000000  10.0000  10.0000\n",
       "93   Default   121.000000        lot   121.000000   9.0000   9.0000\n",
       "19   Default   164.000000        buy   164.000000   8.0000   8.0000\n",
       "25   Default   266.000000      cheap   266.000000   7.0000   7.0000\n",
       "80   Default   108.000000       item   108.000000   6.0000   6.0000\n",
       "103  Default   161.000000       okay   161.000000   5.0000   5.0000\n",
       "89   Default   131.000000     little   131.000000   4.0000   4.0000\n",
       "181  Default   161.000000   suitable   161.000000   3.0000   3.0000\n",
       "186  Default   100.000000       time   100.000000   2.0000   2.0000\n",
       "121  Default    95.000000     pretty    95.000000   1.0000   1.0000\n",
       "..       ...          ...        ...          ...      ...      ...\n",
       "187   Topic5    24.040029      trade    24.844621   2.1740  -4.5445\n",
       "202   Topic5    23.007425    wrinkle    23.808155   2.1727  -4.5884\n",
       "21    Topic5    21.972565       card    22.771552   2.1712  -4.6345\n",
       "6     Topic5    19.897995        ask    20.698189   2.1675  -4.7336\n",
       "116   Topic5    19.894833      piece    20.698016   2.1674  -4.7338\n",
       "155   Topic5    18.862478       sent    19.661546   2.1655  -4.7871\n",
       "95    Topic5    16.791726      match    17.588309   2.1606  -4.9034\n",
       "84    Topic5    16.786979       late    17.588093   2.1603  -4.9036\n",
       "82    Topic5    12.643619       lack    13.441541   2.1458  -5.1871\n",
       "174   Topic5    12.638934   straight    13.441408   2.1454  -5.1875\n",
       "28    Topic5    11.601240     choose    12.404606   2.1400  -5.2731\n",
       "59    Topic5    15.373232        end    17.554236   2.0743  -4.9916\n",
       "50    Topic5    11.919117     deduct    14.389055   2.0186  -5.2461\n",
       "0     Topic5    10.033975       able    12.364222   1.9981  -5.4183\n",
       "80    Topic5    87.110690       item   108.315665   1.9891  -3.2571\n",
       "112   Topic5    24.218019        pay    30.920301   1.9626  -4.5372\n",
       "152   Topic5    37.744768     seller    48.445821   1.9574  -4.0934\n",
       "107   Topic5    49.856342    ordered    64.925650   1.9429  -3.8151\n",
       "92    Topic5    13.838298       lose    18.423061   1.9208  -5.0968\n",
       "121   Topic5    65.679295     pretty    95.845858   1.8290  -3.5395\n",
       "106   Topic5   271.738210      order   409.214012   1.7976  -2.1194\n",
       "159   Topic5    21.365491      shape    31.844632   1.8079  -4.6625\n",
       "31    Topic5    38.039828       come    73.667202   1.5460  -4.0856\n",
       "9     Topic5    98.854211        bag   386.528055   0.8434  -3.1306\n",
       "12    Topic5    88.579004  beautiful   474.965323   0.5276  -3.2404\n",
       "8     Topic5    26.652603        bad    66.044343   1.2995  -4.4414\n",
       "137   Topic5    29.947517    receive   110.997089   0.8969  -4.3248\n",
       "103   Topic5    30.013457       okay   161.948721   0.5213  -4.3226\n",
       "60    Topic5    17.008391    exactly    63.128677   0.8955  -4.8905\n",
       "115   Topic5    17.029973    picture   103.341983   0.4039  -4.8893\n",
       "\n",
       "[239 rows x 6 columns], token_table=      Topic      Freq            Term\n",
       "term                                 \n",
       "0         4  0.161757            able\n",
       "0         5  0.808785            able\n",
       "1         3  0.922991      acceptable\n",
       "2         2  0.505636          accord\n",
       "2         3  0.487894          accord\n",
       "3         2  0.951501        acquired\n",
       "6         5  0.966268             ask\n",
       "7         1  0.964305       available\n",
       "8         2  0.181696             bad\n",
       "8         3  0.348251             bad\n",
       "8         4  0.060565             bad\n",
       "8         5  0.408816             bad\n",
       "9         2  0.478620             bag\n",
       "9         4  0.266475             bag\n",
       "9         5  0.256126             bag\n",
       "10        2  0.996350            baht\n",
       "11        2  0.951503            base\n",
       "12        1  0.067373       beautiful\n",
       "12        2  0.037898       beautiful\n",
       "12        4  0.705315       beautiful\n",
       "12        5  0.187382       beautiful\n",
       "14        2  0.515383            bite\n",
       "14        4  0.206153            bite\n",
       "14        5  0.274871            bite\n",
       "15        5  0.980720           black\n",
       "17        5  0.965944           break\n",
       "18        5  0.994366           brown\n",
       "19        2  0.954006             buy\n",
       "19        3  0.042535             buy\n",
       "20        2  0.229898           cable\n",
       "...     ...       ...             ...\n",
       "183       3  0.988412           thank\n",
       "184       4  0.803829           thing\n",
       "184       5  0.181999           thing\n",
       "185       2  0.287438           think\n",
       "185       4  0.710142           think\n",
       "186       3  0.926977            time\n",
       "186       5  0.069772            time\n",
       "187       5  0.966004           trade\n",
       "188       1  0.991876       transport\n",
       "189       1  0.878475  transportation\n",
       "189       3  0.121169  transportation\n",
       "192       2  0.668789             use\n",
       "192       3  0.101588             use\n",
       "192       4  0.228573             use\n",
       "193       1  0.999000           value\n",
       "194       3  0.709374            wait\n",
       "194       5  0.272836            wait\n",
       "195       4  0.914628          wallet\n",
       "197       4  0.990468            wear\n",
       "198       2  0.827601            work\n",
       "198       3  0.160922            work\n",
       "199       2  0.997846           worth\n",
       "200       2  0.898596      worthwhile\n",
       "200       3  0.095595      worthwhile\n",
       "201       1  0.506382            wrap\n",
       "201       4  0.455744            wrap\n",
       "202       5  0.966056         wrinkle\n",
       "203       5  0.982770           wrong\n",
       "204       4  0.631525             yes\n",
       "204       5  0.350847             yes\n",
       "\n",
       "[284 rows x 3 columns], R=30, lambda_step=0.01, plot_opts={'xlab': 'PC1', 'ylab': 'PC2'}, topic_order=[5, 2, 1, 3, 4])"
      ]
     },
     "execution_count": 97,
     "metadata": {},
     "output_type": "execute_result"
    }
   ],
   "source": [
    "pyLDAvis.enable_notebook()\n",
    "dash = pyLDAvis.sklearn.prepare(lda, data_vectorized, vectorizer, mds='tsne')\n",
    "dash"
   ]
  },
  {
   "cell_type": "markdown",
   "metadata": {
    "_uuid": "bb464a9c9c42de1d31dc0bcf4e850cea40af468c"
   },
   "source": [
    "## How to interpret this graph?\n",
    "1. Topics on the left while their respective keywords are on the right.\n",
    "2. Larger topics are more frequent and closer the topics, mor the similarity\n",
    "3. Selection of keywords is based on their frequency and discriminancy.\n",
    "\n",
    "**Hover over the topics on the left to get information about their keywords on the right.**"
   ]
  },
  {
   "cell_type": "markdown",
   "metadata": {
    "_uuid": "1f13a1c5ecfac3f41146fe9ac3a63cb6eabdc6e3"
   },
   "source": [
    "# Visualizing LSI(SVD) scatterplot\n",
    "We will be visualizing our data for 2  topics to see similarity between keywords which is measured by distance with the markers using LSI model"
   ]
  },
  {
   "cell_type": "code",
   "execution_count": 128,
   "metadata": {
    "_uuid": "19e1075ff2b3d1b62db2cfa9bb86d70e78507980"
   },
   "outputs": [],
   "source": [
    "svd_2d = TruncatedSVD(n_components=2)\n",
    "data_2d = svd_2d.fit_transform(data_vectorized)"
   ]
  },
  {
   "cell_type": "code",
   "execution_count": 130,
   "metadata": {
    "_uuid": "8195af8b1d63c853343520cd8fa624507771ce6d"
   },
   "outputs": [],
   "source": [
    "trace = go.Scattergl(\n",
    "    x = data_2d[:,0],\n",
    "    y = data_2d[:,1],\n",
    "    mode = 'markers',\n",
    "    marker = dict(\n",
    "        color = '#FFBAD2',\n",
    "        line = dict(width = 1)\n",
    "    ),\n",
    "    text = vectorizer.get_feature_names(),\n",
    "    hovertext = vectorizer.get_feature_names(),\n",
    "    hoverinfo = 'text' \n",
    ")\n",
    "data = [trace]\n",
    "# iplot(data, filename='scatter-mode')"
   ]
  },
  {
   "cell_type": "markdown",
   "metadata": {
    "_uuid": "3ee288a919e1f8b6fc473b62417fee9b4539e401"
   },
   "source": [
    "## The text version of scatter plot looks messy but you can zoom it for great results"
   ]
  },
  {
   "cell_type": "code",
   "execution_count": 131,
   "metadata": {
    "_uuid": "5a416105fd12940af0d8d77d3d03bf4addb771af"
   },
   "outputs": [],
   "source": [
    "trace = go.Scattergl(\n",
    "    x = data_2d[:,0],\n",
    "    y = data_2d[:,1],\n",
    "    mode = 'text',\n",
    "    marker = dict(\n",
    "        color = '#FFBAD2',\n",
    "        line = dict(width = 1)\n",
    "    ),\n",
    "    text = vectorizer.get_feature_names()\n",
    ")\n",
    "data = [trace]\n",
    "# iplot(data, filename='text-scatter-mode')"
   ]
  },
  {
   "cell_type": "markdown",
   "metadata": {
    "_uuid": "075d5be90085a1d5a197612b5e569768de478b57"
   },
   "source": [
    "Let's see what happens when we use a spaCy based bigram tokenizer for topic modelling"
   ]
  },
  {
   "cell_type": "code",
   "execution_count": 132,
   "metadata": {
    "_uuid": "2a49363c3f94f7d6a8b40dfd011a8b48d58b7e27"
   },
   "outputs": [],
   "source": [
    "def spacy_bigram_tokenizer(phrase):\n",
    "    doc = parser(phrase) # create spacy object\n",
    "    token_not_noun = []\n",
    "    notnoun_noun_list = []\n",
    "    noun = \"\"\n",
    "\n",
    "    for item in doc:\n",
    "        if item.pos_ != \"NOUN\": # separate nouns and not nouns\n",
    "            token_not_noun.append(item.text)\n",
    "        if item.pos_ == \"NOUN\":\n",
    "            noun = item.text\n",
    "        \n",
    "        for notnoun in token_not_noun:\n",
    "            notnoun_noun_list.append(notnoun + \" \" + noun)\n",
    "\n",
    "    return \" \".join([i for i in notnoun_noun_list])"
   ]
  },
  {
   "cell_type": "code",
   "execution_count": 133,
   "metadata": {
    "_uuid": "d38a2f8e70cc004d5c50693efefa7e54565cbaaa"
   },
   "outputs": [],
   "source": [
    "bivectorizer = CountVectorizer(min_df=5, max_df=0.9, stop_words='english', lowercase=True, ngram_range=(1,2))\n",
    "bigram_vectorized = bivectorizer.fit_transform(wines[\"processed_description\"])"
   ]
  },
  {
   "cell_type": "markdown",
   "metadata": {
    "_uuid": "dd6892137ce6f8b2b790d62628d666b53eedb597"
   },
   "source": [
    "## LDA for bigram data"
   ]
  },
  {
   "cell_type": "code",
   "execution_count": 134,
   "metadata": {
    "_uuid": "7a2ced631e81c128738660a5d50ae5e5861a54c9"
   },
   "outputs": [
    {
     "name": "stdout",
     "output_type": "stream",
     "text": [
      "iteration: 1 of max_iter: 10\n",
      "iteration: 2 of max_iter: 10\n",
      "iteration: 3 of max_iter: 10\n",
      "iteration: 4 of max_iter: 10\n",
      "iteration: 5 of max_iter: 10\n",
      "iteration: 6 of max_iter: 10\n",
      "iteration: 7 of max_iter: 10\n",
      "iteration: 8 of max_iter: 10\n",
      "iteration: 9 of max_iter: 10\n",
      "iteration: 10 of max_iter: 10\n"
     ]
    }
   ],
   "source": [
    "bi_lda = LatentDirichletAllocation(n_components=NUM_TOPICS, max_iter=10, learning_method='online',verbose=True)\n",
    "data_bi_lda = bi_lda.fit_transform(bigram_vectorized)"
   ]
  },
  {
   "cell_type": "markdown",
   "metadata": {
    "_uuid": "13f2f160b2983dfff02801e3562af163710f10f6"
   },
   "source": [
    "### Topics for bigram model"
   ]
  },
  {
   "cell_type": "code",
   "execution_count": 135,
   "metadata": {
    "_uuid": "607d1d2e5eb51d585eb5abaac8fa2cf4d6430647"
   },
   "outputs": [
    {
     "name": "stdout",
     "output_type": "stream",
     "text": [
      "Bi-LDA Model:\n",
      "Topic 0:\n",
      "[('fabric', 1279.3906417767519), ('good', 979.3483740289875), ('soft', 518.9963092578602), ('comfortable', 358.90695914186847), ('good fabric', 348.531936552534), ('fabric good', 255.54350101548306), ('sensitive', 239.21618709516886), ('soft fabric', 213.62763630610462), ('round', 155.32346231647145), ('order', 153.39090981912284)]\n",
      "Topic 1:\n",
      "[('like', 842.15461715345), ('price', 567.5175399729417), ('bag', 559.511920455546), ('small', 419.1657622893145), ('cute', 401.8435697694018), ('suitable', 383.4554223340235), ('little', 378.43662560745526), ('okay', 350.1816583952013), ('lot', 314.40994201363714), ('beautiful', 233.79428976264757)]\n",
      "Topic 2:\n",
      "[('order', 574.5230027549043), ('product', 525.9615007324182), ('color', 478.51683648329646), ('receive', 325.43108927413886), ('picture', 240.37829411130096), ('poor', 211.76910930890793), ('like', 149.83761605638324), ('receive product', 139.58124809504048), ('pink', 132.73228264930262), ('doe', 113.10456911668574)]\n",
      "Topic 3:\n",
      "[('quality', 1005.4588537839782), ('good', 881.8320392900366), ('good quality', 743.0261270017454), ('price', 597.5816521408947), ('beautiful', 577.3957030479257), ('reasonable', 247.65826932986235), ('delivery', 244.462504014844), ('quality good', 212.94235194070544), ('reasonable price', 208.72212256930575), ('delivery good', 200.8581368769563)]\n",
      "Topic 4:\n",
      "[('reed', 652.0680126152005), ('reed reed', 470.82067708441537), ('money', 420.7221071583428), ('value money', 354.87214472133917), ('color', 277.71089129787975), ('good', 224.8650657820603), ('beautiful', 205.51415283530267), ('item', 197.1392924020024), ('shop', 195.65617693531988), ('service', 176.61456550976533)]\n",
      "Topic 5:\n",
      "[('wear', 441.10917788018173), ('size', 249.89221795754236), ('order', 243.70716881735598), ('ordered', 227.88160965595128), ('color', 187.31759326421002), ('baht', 180.1130870440963), ('comfortable', 159.61776154515445), ('black', 158.7422525150879), ('comfortable wear', 150.78724059501772), ('stretch', 138.83567641648614)]\n",
      "Topic 6:\n",
      "[('price', 1256.300575702106), ('good', 1248.0005882257087), ('product', 977.2052880618558), ('cheap', 712.6175413048804), ('price good', 480.48495764742364), ('send', 423.8896383017204), ('shop', 385.4792421803957), ('good price', 364.252086823228), ('buy', 307.57788348704486), ('time', 303.83505338353535)]\n",
      "Topic 7:\n",
      "[('fast', 1319.5119192325053), ('delivery', 1171.30801547072), ('fast delivery', 933.164292099257), ('product', 579.3559815849405), ('received', 348.4336362950503), ('mm', 295.7019720858234), ('worth', 287.6021332908468), ('pack', 285.55422885859804), ('mm mm', 250.7445094466566), ('order', 248.37851756779318)]\n",
      "Topic 8:\n",
      "[('good', 14595.227175664068), ('product', 6102.783709615109), ('quality', 5553.716348299413), ('value', 5159.823032913355), ('good value', 4832.473244127784), ('product good', 4019.6190690140584), ('quality product', 3846.788578375632), ('good good', 3064.420599752152), ('delivery', 2262.906123943314), ('service', 1883.4256528284081)]\n",
      "Topic 9:\n",
      "[('time', 154.15825328492738), ('day', 148.7846797548798), ('product', 131.76050987470086), ('beautiful', 128.80687675382273), ('seller', 126.51323342067191), ('worthwhile', 120.87803662505661), ('come', 108.10943629812911), ('beautiful product', 105.45290087920296), ('site', 100.00524221986493), ('flash', 98.9547348569852)]\n"
     ]
    }
   ],
   "source": [
    "print(\"Bi-LDA Model:\")\n",
    "selected_topics(bi_lda, bivectorizer)"
   ]
  },
  {
   "cell_type": "code",
   "execution_count": 136,
   "metadata": {
    "_uuid": "aa5db271862a9d6ca236111867c97f3dcee924d1"
   },
   "outputs": [
    {
     "data": {
      "text/html": [
       "\n",
       "<link rel=\"stylesheet\" type=\"text/css\" href=\"https://cdn.rawgit.com/bmabey/pyLDAvis/files/ldavis.v1.0.0.css\">\n",
       "\n",
       "\n",
       "<div id=\"ldavis_el17111398940001685366647538044\"></div>\n",
       "<script type=\"text/javascript\">\n",
       "\n",
       "var ldavis_el17111398940001685366647538044_data = {\"mdsDat\": {\"x\": [60.66899490356445, -35.46364212036133, 11.203411102294922, -67.11347961425781, 122.75053405761719, 154.45632934570312, -83.2032699584961, 47.613250732421875, -132.96487426757812, 34.82382583618164], \"y\": [-0.137674942612648, 1.5620421171188354, -82.49609375, 95.68860626220703, -92.20530700683594, 26.585561752319336, -121.00981140136719, 101.35382080078125, -17.803232192993164, -177.19862365722656], \"topics\": [1, 2, 3, 4, 5, 6, 7, 8, 9, 10], \"cluster\": [1, 1, 1, 1, 1, 1, 1, 1, 1, 1], \"Freq\": [44.707368294803935, 10.485569492381822, 7.525195270622562, 7.026438991765281, 6.60443366388954, 5.671263722578352, 5.250168154806111, 4.8733021174877225, 4.792817397670232, 3.063442893994441]}, \"tinfo\": {\"Category\": [\"Default\", \"Default\", \"Default\", \"Default\", \"Default\", \"Default\", \"Default\", \"Default\", \"Default\", \"Default\", \"Default\", \"Default\", \"Default\", \"Default\", \"Default\", \"Default\", \"Default\", \"Default\", \"Default\", \"Default\", \"Default\", \"Default\", \"Default\", \"Default\", \"Default\", \"Default\", \"Default\", \"Default\", \"Default\", \"Default\", \"Topic1\", \"Topic1\", \"Topic1\", \"Topic1\", \"Topic1\", \"Topic1\", \"Topic1\", \"Topic1\", \"Topic1\", \"Topic1\", \"Topic1\", \"Topic1\", \"Topic1\", \"Topic1\", \"Topic1\", \"Topic1\", \"Topic1\", \"Topic1\", \"Topic1\", \"Topic1\", \"Topic1\", \"Topic1\", \"Topic1\", \"Topic1\", \"Topic1\", \"Topic1\", \"Topic1\", \"Topic1\", \"Topic1\", \"Topic1\", \"Topic1\", \"Topic1\", \"Topic1\", \"Topic1\", \"Topic1\", \"Topic1\", \"Topic1\", \"Topic1\", \"Topic1\", \"Topic1\", \"Topic1\", \"Topic1\", \"Topic1\", \"Topic1\", \"Topic1\", \"Topic1\", \"Topic2\", \"Topic2\", \"Topic2\", \"Topic2\", \"Topic2\", \"Topic2\", \"Topic2\", \"Topic2\", \"Topic2\", \"Topic2\", \"Topic2\", \"Topic2\", \"Topic2\", \"Topic2\", \"Topic2\", \"Topic2\", \"Topic2\", \"Topic2\", \"Topic2\", \"Topic2\", \"Topic2\", \"Topic2\", \"Topic2\", \"Topic2\", \"Topic2\", \"Topic2\", \"Topic2\", \"Topic2\", \"Topic2\", \"Topic2\", \"Topic2\", \"Topic2\", \"Topic2\", \"Topic2\", \"Topic2\", \"Topic2\", \"Topic2\", \"Topic2\", \"Topic2\", \"Topic2\", \"Topic2\", \"Topic2\", \"Topic2\", \"Topic2\", \"Topic2\", \"Topic2\", \"Topic2\", \"Topic2\", \"Topic2\", \"Topic2\", \"Topic2\", \"Topic3\", \"Topic3\", \"Topic3\", \"Topic3\", \"Topic3\", \"Topic3\", \"Topic3\", \"Topic3\", \"Topic3\", \"Topic3\", \"Topic3\", \"Topic3\", \"Topic3\", \"Topic3\", \"Topic3\", \"Topic3\", \"Topic3\", \"Topic3\", \"Topic3\", \"Topic3\", \"Topic3\", \"Topic3\", \"Topic3\", \"Topic3\", \"Topic3\", \"Topic3\", \"Topic3\", \"Topic3\", \"Topic3\", \"Topic3\", \"Topic3\", \"Topic3\", \"Topic3\", \"Topic3\", \"Topic3\", \"Topic3\", \"Topic3\", \"Topic3\", \"Topic3\", \"Topic3\", \"Topic3\", \"Topic3\", \"Topic3\", \"Topic3\", \"Topic3\", \"Topic3\", \"Topic3\", \"Topic3\", \"Topic4\", \"Topic4\", \"Topic4\", \"Topic4\", \"Topic4\", \"Topic4\", \"Topic4\", \"Topic4\", \"Topic4\", \"Topic4\", \"Topic4\", \"Topic4\", \"Topic4\", \"Topic4\", \"Topic4\", \"Topic4\", \"Topic4\", \"Topic4\", \"Topic4\", \"Topic4\", \"Topic4\", \"Topic4\", \"Topic4\", \"Topic4\", \"Topic4\", \"Topic4\", \"Topic4\", \"Topic4\", \"Topic4\", \"Topic4\", \"Topic4\", \"Topic4\", \"Topic4\", \"Topic4\", \"Topic4\", \"Topic4\", \"Topic4\", \"Topic4\", \"Topic4\", \"Topic4\", \"Topic4\", \"Topic4\", \"Topic4\", \"Topic4\", \"Topic4\", \"Topic4\", \"Topic4\", \"Topic4\", \"Topic5\", \"Topic5\", \"Topic5\", \"Topic5\", \"Topic5\", \"Topic5\", \"Topic5\", \"Topic5\", \"Topic5\", \"Topic5\", \"Topic5\", \"Topic5\", \"Topic5\", \"Topic5\", \"Topic5\", \"Topic5\", \"Topic5\", \"Topic5\", \"Topic5\", \"Topic5\", \"Topic5\", \"Topic5\", \"Topic5\", \"Topic5\", \"Topic5\", \"Topic5\", \"Topic5\", \"Topic5\", \"Topic5\", \"Topic5\", \"Topic5\", \"Topic5\", \"Topic5\", \"Topic5\", \"Topic5\", \"Topic5\", \"Topic5\", \"Topic5\", \"Topic6\", \"Topic6\", \"Topic6\", \"Topic6\", \"Topic6\", \"Topic6\", \"Topic6\", \"Topic6\", \"Topic6\", \"Topic6\", \"Topic6\", \"Topic6\", \"Topic6\", \"Topic6\", \"Topic6\", \"Topic6\", \"Topic6\", \"Topic6\", \"Topic6\", \"Topic6\", \"Topic6\", \"Topic6\", \"Topic6\", \"Topic6\", \"Topic6\", \"Topic6\", \"Topic6\", \"Topic6\", \"Topic6\", \"Topic6\", \"Topic6\", \"Topic6\", \"Topic6\", \"Topic6\", \"Topic6\", \"Topic6\", \"Topic6\", \"Topic6\", \"Topic6\", \"Topic6\", \"Topic6\", \"Topic6\", \"Topic6\", \"Topic7\", \"Topic7\", \"Topic7\", \"Topic7\", \"Topic7\", \"Topic7\", \"Topic7\", \"Topic7\", \"Topic7\", \"Topic7\", \"Topic7\", \"Topic7\", \"Topic7\", \"Topic7\", \"Topic7\", \"Topic7\", \"Topic7\", \"Topic7\", \"Topic7\", \"Topic7\", \"Topic7\", \"Topic7\", \"Topic7\", \"Topic7\", \"Topic7\", \"Topic7\", \"Topic7\", \"Topic7\", \"Topic7\", \"Topic7\", \"Topic7\", \"Topic7\", \"Topic7\", \"Topic7\", \"Topic7\", \"Topic7\", \"Topic7\", \"Topic7\", \"Topic7\", \"Topic7\", \"Topic7\", \"Topic7\", \"Topic7\", \"Topic7\", \"Topic7\", \"Topic7\", \"Topic7\", \"Topic7\", \"Topic8\", \"Topic8\", \"Topic8\", \"Topic8\", \"Topic8\", \"Topic8\", \"Topic8\", \"Topic8\", \"Topic8\", \"Topic8\", \"Topic8\", \"Topic8\", \"Topic8\", \"Topic8\", \"Topic8\", \"Topic8\", \"Topic8\", \"Topic8\", \"Topic8\", \"Topic8\", \"Topic8\", \"Topic8\", \"Topic8\", \"Topic8\", \"Topic8\", \"Topic8\", \"Topic8\", \"Topic8\", \"Topic8\", \"Topic8\", \"Topic8\", \"Topic8\", \"Topic8\", \"Topic8\", \"Topic8\", \"Topic8\", \"Topic8\", \"Topic8\", \"Topic8\", \"Topic8\", \"Topic8\", \"Topic8\", \"Topic8\", \"Topic8\", \"Topic9\", \"Topic9\", \"Topic9\", \"Topic9\", \"Topic9\", \"Topic9\", \"Topic9\", \"Topic9\", \"Topic9\", \"Topic9\", \"Topic9\", \"Topic9\", \"Topic9\", \"Topic9\", \"Topic9\", \"Topic9\", \"Topic9\", \"Topic9\", \"Topic9\", \"Topic9\", \"Topic9\", \"Topic9\", \"Topic9\", \"Topic9\", \"Topic9\", \"Topic9\", \"Topic9\", \"Topic9\", \"Topic9\", \"Topic9\", \"Topic9\", \"Topic9\", \"Topic9\", \"Topic9\", \"Topic9\", \"Topic9\", \"Topic9\", \"Topic9\", \"Topic9\", \"Topic9\", \"Topic9\", \"Topic9\", \"Topic9\", \"Topic10\", \"Topic10\", \"Topic10\", \"Topic10\", \"Topic10\", \"Topic10\", \"Topic10\", \"Topic10\", \"Topic10\", \"Topic10\", \"Topic10\", \"Topic10\", \"Topic10\", \"Topic10\", \"Topic10\", \"Topic10\", \"Topic10\", \"Topic10\", \"Topic10\", \"Topic10\", \"Topic10\", \"Topic10\", \"Topic10\", \"Topic10\", \"Topic10\", \"Topic10\", \"Topic10\", \"Topic10\", \"Topic10\", \"Topic10\", \"Topic10\", \"Topic10\", \"Topic10\", \"Topic10\", \"Topic10\", \"Topic10\", \"Topic10\", \"Topic10\", \"Topic10\", \"Topic10\", \"Topic10\"], \"Freq\": [6180.0, 17170.0, 2834.0, 8088.0, 3763.0, 2310.0, 4975.0, 1397.0, 4505.0, 2507.0, 1291.0, 3748.0, 3715.0, 1933.0, 2857.0, 1557.0, 656.0, 1232.0, 1129.0, 1185.0, 1180.0, 702.0, 994.0, 567.0, 474.0, 465.0, 1762.0, 616.0, 423.0, 560.0, 4504.677192415093, 2856.554994990362, 3746.9604957228435, 1477.399977437366, 891.3114910902311, 818.4674011076929, 756.8452403507503, 628.2176086226735, 546.5735461265581, 523.1967179469633, 491.40038238295926, 476.22719841190104, 475.407705409344, 473.5652491821524, 457.58411000198237, 453.1819172605296, 437.0377533105671, 383.2223726049458, 356.1931140765626, 271.37461443073795, 265.22628828767125, 308.59651982937754, 202.41924500356367, 176.0268421708348, 170.15303825291, 155.7573028942824, 145.2072514104893, 125.28524450508675, 114.89969923814654, 106.56793406393464, 4809.822208846615, 3585.8534331480255, 1755.669230495028, 613.5020973325271, 5176.996975146764, 13605.204551566547, 1474.471864125288, 5688.820030271567, 601.0586546394497, 507.3044269815924, 781.6266555313996, 2109.408803761261, 1404.8655411964087, 1547.9843447240278, 604.0044763479718, 549.5145731597404, 701.767143150564, 250.2665620782658, 206.1780102516371, 195.61859001068584, 176.77190291383866, 140.77290473872281, 121.16548331736435, 120.8824843555407, 109.0288927782638, 102.91123708180784, 97.95519949448548, 97.55507169418014, 92.89131542785354, 72.32667661656595, 69.1277220756402, 69.03291559014131, 60.44628380307581, 473.16903740205896, 64.83826266341276, 52.94967468200103, 49.7024710724418, 49.55409967177107, 48.41181854524928, 47.921495413031984, 46.774483330521214, 46.68605844698462, 45.6982766768858, 44.14681264993672, 43.25632841926687, 41.95455435881009, 358.7059418836359, 109.12114719880054, 417.43544501784356, 1237.1719959833072, 161.27946862397542, 299.2088252718716, 302.8946666058194, 54.40979138636349, 164.16691391893661, 108.86887730900477, 379.6098900869535, 962.3262458836922, 176.88169244714732, 1228.9983850884207, 130.2399272918387, 287.58422957900666, 122.42571062715173, 211.3610092212568, 132.31095383761146, 147.6794375154486, 105.88287619023184, 402.5768378864931, 385.94018929229253, 368.2797720657162, 222.97231522620262, 187.49007705830823, 160.77996580742666, 137.3966630349707, 135.48617289837398, 125.64784448228421, 106.00546060322269, 98.91985115094893, 98.63705348710363, 85.20016927238623, 71.68822837927671, 63.493986228559194, 62.97372892353121, 60.20490486035646, 59.15105034107678, 57.1651723301844, 55.51137915882543, 48.427439165587614, 44.679501451520196, 44.43816229442992, 42.588306177580435, 42.33825118148065, 41.70931027848079, 41.435527618228875, 40.10612697773677, 40.00430326182622, 39.81072833675553, 301.9668390009447, 363.4595994801929, 537.368649735577, 808.825465451878, 336.32285221159157, 65.37748357810987, 96.45215232259537, 163.98786472667388, 99.56017559541593, 545.0574384692595, 224.54163568732028, 105.46844033383455, 119.4860086502696, 89.92742948966128, 109.85922774397167, 110.78680450679944, 104.90125541230215, 120.52136179641467, 286.5613414237886, 276.7272815049258, 242.99358734350676, 229.28205694316577, 168.99133681916427, 160.50860535073602, 104.4332409250544, 103.6683979947143, 94.2857544532206, 85.52432507579408, 87.08134616370741, 83.31640843968658, 71.75111080191441, 66.18483595839469, 59.09656863255847, 58.870105495509705, 53.54029583305771, 50.5881452921714, 48.94425636731323, 48.905538759566106, 45.630456937515305, 43.887218065585394, 41.23883068535757, 39.616512275610056, 38.53639459603621, 37.4720018267775, 34.416218013659396, 31.943711153904996, 30.621112028721136, 28.920830010780143, 337.66298381296787, 232.62674097369427, 67.75237483694734, 1278.7236518334753, 90.36488310169644, 904.3186605300401, 127.9798667953831, 1135.1009726655018, 278.7118818681679, 108.04483220679941, 561.4471424515592, 240.70073213587187, 55.852659826417735, 124.5319355848362, 76.27161912493546, 128.80608633259453, 100.70068302382175, 78.03452892395616, 1395.7934201809735, 566.2161422052495, 380.2424121903557, 278.7936113023885, 260.98078963944846, 233.06411614108555, 169.45525441703896, 135.16277060754936, 123.97694342962023, 132.51084919846664, 111.31059295018726, 94.0056982499865, 83.85459390716898, 83.42078051104959, 76.31553997198725, 70.45454428461254, 64.19041780118279, 63.62833268798398, 60.41277529997619, 59.50702107746942, 56.68058047577188, 49.88334676260433, 47.218628434721666, 42.410724520994144, 42.33077531715273, 41.901595662898934, 41.17559757433918, 40.29352599709997, 39.021570685201894, 38.63129227730624, 391.5613852948573, 75.10507587322232, 1068.4524115607262, 65.68548406235776, 93.44311503922951, 167.34687252657315, 124.6646174459713, 68.14448784037562, 247.03872337784418, 208.19997991489586, 180.48247748945593, 127.33886254931468, 112.8844564176153, 105.63903873596784, 104.60099533793779, 96.04559798552295, 78.48913592249177, 77.11024275622866, 73.03348736589838, 71.77771880917655, 65.75497342653964, 64.82525369032781, 62.78693558408018, 58.62523118949707, 55.78702300799597, 54.58940246632822, 50.19106658308839, 50.113834088733, 47.53512121098689, 46.83446766084971, 45.07522115349819, 107.3967185945437, 39.708461912122054, 39.069057175604264, 37.43267412834808, 34.232775770894065, 33.89828345162178, 30.49589023315233, 195.73553912471343, 741.1673607652159, 575.9512805721329, 158.60411758579514, 596.0867321667463, 1002.9435815725222, 200.35566689697643, 879.6260339271614, 212.40965189190405, 243.8509526412822, 172.25409156381696, 128.65845416156287, 86.43756455528955, 464.69430182531255, 240.06593108490017, 146.2589103923123, 108.52701313125876, 87.38475618931476, 86.37578280642124, 81.67489374668452, 80.64361643246363, 65.20745019133597, 63.83014051890431, 60.6601962404978, 59.06689398897656, 58.76856128723821, 57.97858183031303, 57.4832294612022, 51.84722442766223, 49.97508803426519, 44.29840941906024, 44.24395281470313, 41.272028355134886, 40.99147789805007, 40.80164826724021, 40.43369635156595, 40.41890921651165, 39.942346040362, 38.25025726231748, 37.61661622971582, 36.48446302964787, 36.43726789963974, 36.180883055050856, 40.25602267177485, 263.2533975226005, 90.63794383735292, 167.2298467177063, 158.84949805215854, 68.54041632959255, 189.74333210607736, 168.15216726298192, 256.73764759926775, 197.3330472057284, 55.013058500388354, 78.06132125136264, 101.5357671458118, 67.99761409342895, 85.22586968942365, 62.86503509064899, 66.97690178274104, 58.55783123510559, 655.3307539518659, 473.17651429090415, 422.82726702467187, 356.6478122796506, 102.37516796929357, 74.10332120659012, 61.90389021415011, 57.99615260971531, 57.690605249791545, 57.68196630894436, 51.69393566015526, 48.07245445022722, 47.786315143056775, 45.74701541464236, 45.136414449819554, 44.97010605251969, 61.82999020848069, 41.25146736172137, 40.22620537366864, 37.12531048797775, 35.84124031196224, 34.09769730362628, 33.574620456225574, 31.829725569021008, 31.10367774272112, 29.716512515759003, 29.67132679466772, 27.27920357372526, 27.121769719781884, 27.121960836496065, 198.12571483947377, 108.94112674460274, 66.13703999359886, 279.1004684388374, 206.5424804157896, 196.63517833380973, 74.05492330995061, 177.4982887294258, 165.27385348300092, 225.99021918800122, 119.67550882774538, 73.66474553061305, 69.6615499259715, 61.56303970436009, 342.3375275197797, 252.86616303018533, 222.77070530531702, 146.83261967245113, 139.62784430205866, 107.7349531629483, 103.9454097091636, 85.45552077834365, 78.67172183942948, 85.56444358067901, 73.62099699404914, 98.70844510521947, 72.29126175561225, 67.52119199827102, 66.68661961953445, 63.98031303889233, 61.648304938382864, 60.40063350686575, 57.11122758462758, 55.28123530429852, 48.22459831893068, 48.18852067765109, 47.42415197075317, 47.217364982435555, 42.809320105234676, 42.19228684479977, 41.918403768461964, 56.79582131685545, 38.117365547342445, 37.63578084940094, 51.22021574592166, 116.3820219281458, 118.98045337020355, 84.76072651445172, 503.37621720057433, 604.3699902951565, 553.2856744969802, 110.09815662243875, 157.62181518862204, 66.34154290657735, 77.01612547551454, 67.95078047480098, 64.61444349199292, 144.21870252341623, 120.210986083643, 114.00093008872751, 112.80340470130781, 93.75228980262735, 93.55271854194598, 91.51181143405852, 76.43616982250043, 74.58008495823357, 62.907126870382605, 54.41596707609208, 52.35155428477378, 47.126036078734245, 46.39441787161278, 44.350292946535845, 47.38157768295093, 39.365353526113694, 38.18872110166102, 38.09397559827785, 41.28451810026274, 37.72606839105865, 32.801987617185986, 29.482319841407026, 29.13154634049226, 29.13154632860101, 27.69401851023562, 25.136691011499124, 24.755988350968924, 24.69153024227092, 23.33014662006197, 137.79486251590157, 169.60702757680568, 123.2393024183548, 110.47899676587853, 175.73263026250078, 146.83334019107104, 150.2003329151194, 34.79941810316124, 47.31947398426224, 35.817214768531905, 44.585687604104365], \"Term\": [\"quality\", \"good\", \"fast\", \"product\", \"delivery\", \"fast delivery\", \"value\", \"fabric\", \"good value\", \"price\", \"good quality\", \"product good\", \"quality product\", \"service\", \"good good\", \"order\", \"reed\", \"beautiful\", \"like\", \"color\", \"shop\", \"cheap\", \"quality good\", \"soft\", \"reed reed\", \"wear\", \"good product\", \"bag\", \"money\", \"comfortable\", \"good value\", \"good good\", \"product good\", \"product quality\", \"value fast\", \"value good\", \"company\", \"speed\", \"ship company\", \"company good\", \"shop good\", \"good delivery\", \"provide\", \"delivery speed\", \"service provide\", \"provide ship\", \"delivery service\", \"fair\", \"service good\", \"providing\", \"providing service\", \"good fast\", \"fair product\", \"value quality\", \"transport company\", \"good transport\", \"value service\", \"speed delivery\", \"fair value\", \"good store\", \"value\", \"quality product\", \"service\", \"good service\", \"quality\", \"good\", \"good product\", \"product\", \"ship\", \"service shop\", \"quality good\", \"delivery\", \"fast delivery\", \"fast\", \"shop\", \"good quality\", \"cheap\", \"long\", \"cheap price\", \"wait\", \"bad\", \"answer\", \"price baht\", \"price cheap\", \"slowly\", \"chat\", \"long time\", \"product cheap\", \"tell\", \"sell\", \"ask\", \"wait long\", \"return\", \"price good\", \"value price\", \"correct\", \"waiting\", \"good cheap\", \"body\", \"delivery slow\", \"relate\", \"10 baht\", \"product complete\", \"shop deliver\", \"cheap product\", \"send good\", \"good price\", \"want\", \"send\", \"price\", \"complete\", \"time\", \"buy\", \"job\", \"deliver\", \"quickly\", \"shop\", \"product\", \"baht\", \"good\", \"come\", \"good product\", \"store\", \"order\", \"okay\", \"delivery\", \"use\", \"small\", \"cute\", \"suitable\", \"suitable price\", \"look\", \"like lot\", \"nice\", \"discount\", \"lot like\", \"like like\", \"big\", \"sew\", \"leave\", \"good like\", \"little small\", \"shape\", \"stuff\", \"discount price\", \"buy discount\", \"compact\", \"leather\", \"wrinkle\", \"child\", \"bag good\", \"beautiful like\", \"cute bag\", \"considered\", \"price consider\", \"definitely\", \"strong\", \"lot\", \"little\", \"bag\", \"like\", \"okay\", \"short\", \"line\", \"use\", \"think\", \"price\", \"beautiful\", \"consider\", \"size\", \"overall\", \"buy\", \"worth\", \"color\", \"good\", \"mm\", \"pack\", \"mm mm\", \"received product\", \"worth price\", \"exactly\", \"product pack\", \"exactly order\", \"disappoint\", \"pack product\", \"wrong color\", \"deduct\", \"beautiful bag\", \"successfully\", \"deduct star\", \"pack good\", \"product exactly\", \"price beautiful\", \"meet\", \"service fast\", \"satisfy\", \"market\", \"good pack\", \"product worth\", \"wrap\", \"product successfully\", \"color exactly\", \"product affordable\", \"successfully good\", \"order send\", \"received\", \"delivery fast\", \"fast good\", \"fast\", \"package\", \"fast delivery\", \"star\", \"delivery\", \"worth\", \"wrong\", \"product\", \"order\", \"delivery product\", \"send\", \"overall\", \"price\", \"color\", \"beautiful\", \"fabric\", \"soft\", \"good fabric\", \"fabric good\", \"sensitive\", \"soft fabric\", \"round\", \"fabric comfortable\", \"fabric soft\", \"shirt\", \"cover\", \"smooth\", \"soft comfortable\", \"affordable\", \"texture\", \"straight\", \"affordable price\", \"consider good\", \"comfortable fabric\", \"real\", \"ok\", \"dad\", \"good soft\", \"delivery like\", \"order round\", \"sensitive delivery\", \"beautiful shirt\", \"soft smooth\", \"delivery sensitive\", \"fabric fast\", \"comfortable\", \"fit\", \"good\", \"try\", \"comfortable wear\", \"order\", \"like\", \"consider\", \"reasonable\", \"reasonable price\", \"pretty\", \"quality price\", \"accord price\", \"beautiful beautiful\", \"great\", \"pretty good\", \"love\", \"beautiful good\", \"lovely\", \"product beautiful\", \"price reasonable\", \"quality accord\", \"good beautiful\", \"okay product\", \"price delivery\", \"great value\", \"slow delivery\", \"quality reasonable\", \"shoulder\", \"high\", \"like beautiful\", \"product fast\", \"bite slow\", \"product reasonable\", \"delivery price\", \"shoulder bag\", \"year\", \"code\", \"slow\", \"good quality\", \"beautiful\", \"accord\", \"price\", \"quality\", \"delivery good\", \"good\", \"quality good\", \"delivery\", \"product\", \"quality product\", \"okay\", \"wear\", \"ordered\", \"stretch\", \"pant\", \"brown\", \"break\", \"piece\", \"quality suitable\", \"waist\", \"blue\", \"expect\", \"light\", \"feel\", \"pro\", \"terrible\", \"easy\", \"strap\", \"order black\", \"baht worth\", \"arrange\", \"available\", \"reduce\", \"lack\", \"hip\", \"change\", \"carry\", \"point\", \"normal\", \"bite late\", \"work good\", \"order size\", \"size\", \"10\", \"black\", \"comfortable wear\", \"late\", \"baht\", \"comfortable\", \"order\", \"color\", \"condition\", \"free\", \"worth\", \"star\", \"send\", \"bite\", \"buy\", \"consider\", \"reed\", \"reed reed\", \"money\", \"value money\", \"excellent\", \"free delivery\", \"color good\", \"good reed\", \"staff\", \"product delivery\", \"color beautiful\", \"quality value\", \"pleasant\", \"good color\", \"beautiful quality\", \"money fast\", \"impressive\", \"gray\", \"price expensive\", \"old\", \"fall\", \"sensitivity\", \"stain\", \"happy\", \"ordering\", \"black color\", \"baht free\", \"reduction\", \"cheap buy\", \"delivery fee\", \"item\", \"beautiful color\", \"expensive\", \"color\", \"beautiful\", \"shop\", \"free\", \"service\", \"value\", \"good\", \"delivery\", \"buy\", \"service shop\", \"order\", \"receive\", \"picture\", \"poor\", \"receive product\", \"pink\", \"value product\", \"promotion\", \"red\", \"match\", \"order color\", \"product price\", \"color order\", \"product like\", \"damage\", \"right\", \"sent\", \"shop poor\", \"product poor\", \"product receive\", \"deliver fast\", \"receive good\", \"doe match\", \"range\", \"like picture\", \"confuse\", \"products deliver\", \"schedule\", \"product accord\", \"purple\", \"poor delivery\", \"product product\", \"products\", \"doe\", \"customer\", \"color\", \"order\", \"product\", \"accord\", \"like\", \"thank\", \"deliver\", \"black\", \"wrong\", \"seller\", \"beautiful product\", \"site\", \"flash\", \"sale\", \"cost\", \"new\", \"pay\", \"trader\", \"white\", \"flash sale\", \"person\", \"ninja\", \"flash cell\", \"specify\", \"different\", \"buy flash\", \"delivered\", \"come subsidize\", \"subsidy\", \"accept\", \"request\", \"acceptable\", \"cost effective\", \"effective\", \"shop ship\", \"subsidize new\", \"good okay\", \"quality providing\", \"hot\", \"worthwhile\", \"day\", \"come\", \"subsidize\", \"time\", \"beautiful\", \"product\", \"problem\", \"complete\", \"complete product\", \"worth\"], \"Total\": [6180.0, 17170.0, 2834.0, 8088.0, 3763.0, 2310.0, 4975.0, 1397.0, 4505.0, 2507.0, 1291.0, 3748.0, 3715.0, 1933.0, 2857.0, 1557.0, 656.0, 1232.0, 1129.0, 1185.0, 1180.0, 702.0, 994.0, 567.0, 474.0, 465.0, 1762.0, 616.0, 423.0, 560.0, 4505.602611013334, 2857.480369605089, 3748.5569072258336, 1478.3254908711597, 892.2368281850456, 819.3927882821391, 757.7706354311533, 629.1430421485509, 547.4988986775445, 524.1220643648678, 492.32796593893886, 477.1531063813315, 476.3330761178614, 474.4906429995142, 458.50944019904773, 454.10724613836845, 437.96314379900906, 384.1478563157518, 357.1185726347487, 272.29996066851504, 266.1516320524985, 309.75679430862294, 203.3446019360268, 176.9521944342015, 171.07840685211266, 156.6827239838089, 146.1326207148106, 126.21076232535046, 115.82520846684709, 107.49331727435089, 4975.921523988423, 3715.337562726977, 1933.992706587051, 652.1801173741813, 6180.773909340751, 17170.154980100582, 1762.883114705604, 8088.744847811268, 689.2989200292346, 577.7908764468563, 994.8619622089994, 3763.127810630822, 2310.0888555661895, 2834.503262174629, 1180.9760492248051, 1291.5086768769902, 702.7844730212248, 251.18674481609577, 207.098223910412, 196.53874650581338, 177.6921415638975, 141.69305105682116, 122.08573155688488, 121.80266113678937, 109.94910365399838, 103.83165511781797, 98.87530789610534, 98.47519307573322, 93.81150219311375, 73.24914422506562, 70.04789458667116, 69.95302067200475, 61.366495864431435, 480.6772713702798, 65.87018528832154, 53.869993283900655, 50.622635338731804, 50.47437274575801, 49.3321918830749, 48.84171667328077, 47.694811408063515, 47.60636275555372, 46.618397214396246, 45.06727267231538, 44.17652860562749, 42.87469910666165, 378.7782915286287, 127.09123979982922, 627.9304709945926, 2507.7555511170362, 217.88926449585617, 475.7476605688779, 554.0903309344645, 57.971915246263386, 278.04983948071066, 164.63542132008217, 1180.9760492248051, 8088.744847811268, 436.3445169288627, 17170.154980100582, 254.2854234988847, 1762.883114705604, 316.6783700778189, 1557.4549708592192, 555.795836626327, 3763.127810630822, 289.51203323739594, 403.49944355286345, 386.8628170380095, 369.25431120300556, 223.8983926483416, 188.41790449391567, 161.70248571005342, 138.31930281594606, 136.40885544706526, 126.57033531957735, 106.92796909154781, 99.84251086441375, 99.55967662817949, 86.12288827141553, 72.61084358071703, 64.41650505352716, 63.89637420045606, 61.127507266763196, 60.073620915910745, 58.08777878376205, 56.44183224192089, 49.35002699391363, 45.6020917083441, 45.36078318675911, 43.51111581767298, 43.260884315828974, 42.631866571737014, 42.35814527797918, 41.02872236561828, 40.92705241229466, 40.733376418943834, 321.8445672689968, 398.20491927908455, 616.4880434651117, 1129.8082382061248, 555.795836626327, 74.74994356097841, 122.96927269379839, 289.51203323739594, 155.47081058730444, 2507.7555511170362, 1232.4147549045229, 232.8789704943829, 383.71254619165353, 230.45728932671352, 554.0903309344645, 574.0764385136889, 1185.9385213291532, 17170.154980100582, 287.48297852333576, 277.6492362968674, 243.91521823421093, 230.20375664906587, 169.91312464923234, 161.43033502178199, 105.35496996095108, 104.59010181082472, 95.20768679458206, 86.44624848216822, 88.0202098780923, 84.23818065128317, 72.67288197312938, 67.1065852226739, 60.01828041171043, 59.79182172766656, 54.46199783002188, 51.51020542994053, 49.866007781354895, 49.8272682411983, 46.55228635756987, 44.80921718371025, 42.1606939098916, 40.53822298146684, 39.45829126273729, 38.393685283853095, 35.33791761961826, 32.86544061947645, 31.542761060762235, 29.842705787195857, 348.9859164256522, 254.8832580170473, 76.00758504782974, 2834.503262174629, 118.38893859451127, 2310.0888555661895, 196.79392452984823, 3763.127810630822, 574.0764385136889, 204.92432363247477, 8088.744847811268, 1557.4549708592192, 67.15352693823097, 627.9304709945926, 230.45728932671352, 2507.7555511170362, 1185.9385213291532, 1232.4147549045229, 1397.5554279716737, 567.1258102230784, 381.15190225239456, 279.70322830113804, 261.89032794640246, 233.97358063239233, 170.36481862509132, 136.07270114565233, 124.8864306327727, 133.56271983436596, 112.22100508505245, 94.91518373147306, 84.76407021403185, 84.3303816747606, 77.22545420421486, 71.36409929226522, 65.10000063287181, 64.53804635690969, 61.32223191172357, 60.416821287406066, 57.59030914948444, 50.792782164977005, 48.12809345916575, 43.32069781057245, 43.24028567021857, 42.811120416536994, 42.085080510126325, 41.202991874905244, 39.931109781315875, 39.54076157420014, 560.5176841891052, 107.10602407309294, 17170.154980100582, 100.53842547578444, 253.0967332993305, 1557.4549708592192, 1129.8082382061248, 232.8789704943829, 247.95756102292498, 209.11879980832785, 181.40140918444095, 128.25778145923474, 113.80332735550688, 106.55783511639126, 105.51988970470629, 96.96447102017915, 79.40798962871243, 78.02911306461462, 73.95270042617203, 72.69661156255795, 66.67377624572417, 65.74408566942815, 63.70577392880068, 59.544177141463926, 56.70602538807266, 55.50827265669176, 51.1098968697622, 51.032661386929, 48.454073845933785, 47.753402156022005, 45.994109805413046, 109.79424984093434, 40.62729795158827, 39.98789688355361, 38.351560230048, 35.151687792087536, 34.81711791030402, 31.41495022902407, 241.00616248901406, 1291.5086768769902, 1232.4147549045229, 297.18466429474086, 2507.7555511170362, 6180.773909340751, 621.3208412141702, 17170.154980100582, 994.8619622089994, 3763.127810630822, 8088.744847811268, 3715.337562726977, 555.795836626327, 465.83962693033135, 240.98189139511933, 147.1721877580805, 109.44945631147145, 88.29802277018277, 87.2891476943767, 82.58871644974936, 81.55708513380492, 66.12067902403703, 64.74341543110452, 61.57357154641969, 59.980315132357234, 59.68187194378261, 58.891901368473384, 58.39648593980953, 52.760508492012065, 50.88843275233854, 45.211689994845194, 45.15721177029824, 42.185420449912115, 41.90507420494759, 41.714962445381296, 41.346979457003364, 41.33215074661805, 40.855655377300295, 39.163559953297856, 38.529949840085315, 37.397739161945964, 37.35049600223098, 37.09426088109715, 41.85330836858729, 383.71254619165353, 111.0284771395741, 235.9887593534954, 253.0967332993305, 85.35571121601089, 436.3445169288627, 560.5176841891052, 1557.4549708592192, 1185.9385213291532, 82.99404316739405, 211.9763374307474, 574.0764385136889, 196.79392452984823, 627.9304709945926, 165.6006428518568, 554.0903309344645, 232.8789704943829, 656.248801450411, 474.09455287252376, 423.7467989158707, 357.5659124041887, 103.29327718311339, 75.02153115554397, 62.822028714653975, 58.914196291829384, 58.60872653680631, 58.600140191867276, 52.612100866003566, 48.99054195462818, 48.704553331866386, 46.665191555387054, 46.0546464500502, 45.88818635755844, 63.171741390271606, 42.169649588147124, 41.14440405807686, 38.04364836522348, 36.7594469838915, 35.015840286120564, 34.49285581063092, 32.747844326475814, 32.02190774187269, 30.63474936904335, 30.589479543918195, 28.197562656067618, 28.040095711375518, 28.040428457661687, 316.2117986635682, 174.57849808711026, 101.85235218728724, 1185.9385213291532, 1232.4147549045229, 1180.9760492248051, 211.9763374307474, 1933.992706587051, 4975.921523988423, 17170.154980100582, 3763.127810630822, 554.0903309344645, 577.7908764468563, 1557.4549708592192, 343.2509667840981, 253.77970096119867, 223.68408408590713, 147.74600041020722, 140.54354417446075, 108.64839472045297, 104.85890867712118, 86.36901710237936, 79.58509425688173, 86.61812099327528, 74.53556046534698, 99.94906457003731, 73.20472395227871, 68.43470759070495, 67.60020595024257, 64.89382948612753, 62.5616889964024, 61.35190276222736, 58.024607621532674, 56.19464069720204, 49.138044817230764, 49.10186979961686, 48.337809904554895, 48.13117152902011, 43.72277172569301, 43.1056674718307, 42.83197019892593, 58.074326378867724, 39.030776192933715, 38.54915898364027, 52.6904636265858, 139.1872488508045, 143.98513891333263, 108.75919031582809, 1185.9385213291532, 1557.4549708592192, 8088.744847811268, 297.18466429474086, 1129.8082382061248, 127.1045476989426, 278.04983948071066, 235.9887593534954, 204.92432363247477, 145.1233549268457, 121.11560546905478, 114.90556616053561, 113.70805100459647, 94.65688827416237, 94.45737973298327, 92.41645131737722, 77.34085474212831, 75.48481298196194, 63.811767912198924, 55.32054370024614, 53.25623195335877, 48.030630201931665, 47.29904391793287, 45.25494456963206, 48.44200212568531, 40.269929229532124, 39.093626238161264, 38.99855641030469, 42.27238541378835, 38.63074891118705, 33.70660868389864, 30.387026751089873, 30.036108399673758, 30.036108398462616, 28.598659501858947, 26.041243372479208, 25.660642498710633, 25.59611159201443, 24.23479753107272, 167.06186423792815, 265.1529564731507, 254.2854234988847, 229.2050745034241, 475.7476605688779, 1232.4147549045229, 8088.744847811268, 57.24761014885499, 217.88926449585617, 66.98690414275073, 574.0764385136889], \"loglift\": [30.0, 29.0, 28.0, 27.0, 26.0, 25.0, 24.0, 23.0, 22.0, 21.0, 20.0, 19.0, 18.0, 17.0, 16.0, 15.0, 14.0, 13.0, 12.0, 11.0, 10.0, 9.0, 8.0, 7.0, 6.0, 5.0, 4.0, 3.0, 2.0, 1.0, 0.8048, 0.8047, 0.8046, 0.8044, 0.804, 0.8039, 0.8038, 0.8036, 0.8033, 0.8033, 0.8031, 0.8031, 0.8031, 0.8031, 0.803, 0.803, 0.8029, 0.8026, 0.8024, 0.8016, 0.8015, 0.8013, 0.8005, 0.7998, 0.7996, 0.7991, 0.7987, 0.7977, 0.797, 0.7964, 0.7711, 0.7696, 0.7083, 0.7439, 0.6278, 0.5723, 0.6264, 0.4531, 0.668, 0.6749, 0.5638, 0.2262, 0.3077, 0.2001, 0.1345, -0.0495, 2.2537, 2.2515, 2.2507, 2.2505, 2.25, 2.2487, 2.2476, 2.2476, 2.2468, 2.2463, 2.2458, 2.2458, 2.2453, 2.2425, 2.2419, 2.2419, 2.2401, 2.2394, 2.2394, 2.2379, 2.2368, 2.2368, 2.2363, 2.2361, 2.2357, 2.2356, 2.2352, 2.2345, 2.2341, 2.2335, 2.2007, 2.1027, 1.8469, 1.5486, 1.9543, 1.7914, 1.6512, 2.1918, 1.7283, 1.8416, 1.1202, 0.1263, 1.3522, -0.3818, 1.5861, 0.442, 1.3048, 0.2579, 0.8199, -0.9828, 1.2493, 2.5846, 2.5845, 2.5843, 2.5828, 2.582, 2.5812, 2.5802, 2.5801, 2.5796, 2.5782, 2.5776, 2.5776, 2.5761, 2.5741, 2.5725, 2.5724, 2.5717, 2.5714, 2.5709, 2.5703, 2.568, 2.5665, 2.5664, 2.5655, 2.5654, 2.565, 2.5649, 2.5642, 2.5641, 2.564, 2.5232, 2.4956, 2.4496, 2.2527, 2.0846, 2.4529, 2.344, 2.0185, 2.1412, 1.0607, 0.8842, 1.7948, 1.4202, 1.6459, 0.9688, 0.9418, 0.1616, -2.3722, 2.6523, 2.6522, 2.6517, 2.6515, 2.6501, 2.6498, 2.6467, 2.6466, 2.6458, 2.6448, 2.6448, 2.6445, 2.6427, 2.6417, 2.64, 2.64, 2.6384, 2.6374, 2.6368, 2.6368, 2.6355, 2.6347, 2.6334, 2.6325, 2.6318, 2.6312, 2.6291, 2.627, 2.6258, 2.6241, 2.6225, 2.5641, 2.5405, 1.8595, 2.3854, 1.7176, 2.2252, 1.457, 1.9329, 2.0154, -0.0122, 0.7882, 2.4712, 1.0376, 1.5497, -0.3133, 0.1894, -0.1041, 2.7162, 2.7158, 2.715, 2.7142, 2.7139, 2.7135, 2.7121, 2.7107, 2.7101, 2.7095, 2.7093, 2.7078, 2.7066, 2.7066, 2.7056, 2.7046, 2.7034, 2.7032, 2.7025, 2.7023, 2.7015, 2.6994, 2.6984, 2.6962, 2.6962, 2.696, 2.6956, 2.6951, 2.6944, 2.6942, 2.3587, 2.3625, -0.0595, 2.2918, 1.721, 0.4867, 0.5133, 1.4885, 2.866, 2.8654, 2.8647, 2.8626, 2.8617, 2.8611, 2.861, 2.8602, 2.8581, 2.8579, 2.8573, 2.857, 2.8559, 2.8557, 2.8552, 2.8542, 2.8534, 2.8531, 2.8516, 2.8516, 2.8506, 2.8503, 2.8496, 2.8477, 2.8469, 2.8465, 2.8455, 2.8433, 2.843, 2.8401, 2.6617, 2.3144, 2.1091, 2.2418, 1.433, 1.0513, 1.738, -0.1017, 1.3257, 0.1333, -0.9795, -0.4933, 1.0088, 2.9444, 2.9431, 2.9407, 2.9384, 2.9365, 2.9364, 2.9358, 2.9356, 2.933, 2.9327, 2.932, 2.9316, 2.9315, 2.9313, 2.9311, 2.9294, 2.9288, 2.9265, 2.9265, 2.925, 2.9249, 2.9248, 2.9246, 2.9246, 2.9243, 2.9233, 2.9229, 2.9222, 2.9222, 2.922, 2.908, 2.5701, 2.744, 2.6025, 2.4811, 2.7275, 2.1142, 1.7429, 1.1442, 1.1535, 2.5357, 1.9479, 1.2146, 1.8842, 0.9498, 1.9783, 0.8339, 1.5664, 3.02, 3.0195, 3.0192, 3.0188, 3.0125, 3.0091, 3.0067, 3.0057, 3.0056, 3.0056, 3.0038, 3.0025, 3.0024, 3.0015, 3.0013, 3.0012, 2.9999, 2.9994, 2.9988, 2.997, 2.9961, 2.9948, 2.9944, 2.993, 2.9923, 2.991, 2.9909, 2.9883, 2.9881, 2.9881, 2.5539, 2.5498, 2.5896, 1.5747, 1.2352, 1.2287, 1.9697, 0.633, -0.3834, -1.309, -0.4268, 1.0036, 0.9058, -0.2093, 3.0354, 3.0344, 3.034, 3.0319, 3.0315, 3.0296, 3.0293, 3.0274, 3.0265, 3.0258, 3.0257, 3.0256, 3.0255, 3.0246, 3.0244, 3.0239, 3.0233, 3.0224, 3.0222, 3.0217, 3.0193, 3.0193, 3.019, 3.0189, 3.0169, 3.0166, 3.0165, 3.0158, 3.0144, 3.0141, 3.0098, 2.8591, 2.8473, 2.7887, 2.1811, 2.0914, 0.3557, 2.0451, 1.0684, 2.3879, 1.7543, 1.7931, 1.8838, 3.4794, 3.4781, 3.4777, 3.4776, 3.476, 3.476, 3.4758, 3.4739, 3.4736, 3.4714, 3.4691, 3.4685, 3.4666, 3.4663, 3.4654, 3.4635, 3.4629, 3.4622, 3.4622, 3.462, 3.4619, 3.4584, 3.4554, 3.4551, 3.4551, 3.4535, 3.4503, 3.4497, 3.4497, 3.4476, 3.293, 3.0388, 2.7613, 2.7558, 2.4897, 1.3582, -0.5006, 2.9878, 1.9586, 2.8596, 0.9303], \"logprob\": [30.0, 29.0, 28.0, 27.0, 26.0, 25.0, 24.0, 23.0, 22.0, 21.0, 20.0, 19.0, 18.0, 17.0, 16.0, 15.0, 14.0, 13.0, 12.0, 11.0, 10.0, 9.0, 8.0, 7.0, 6.0, 5.0, 4.0, 3.0, 2.0, 1.0, -2.7621, -3.2176, -2.9462, -3.8769, -4.3822, -4.4675, -4.5458, -4.7321, -4.8713, -4.915, -4.9777, -5.009, -5.0108, -5.0147, -5.049, -5.0586, -5.0949, -5.2263, -5.2995, -5.5714, -5.5944, -5.4429, -5.8646, -6.0043, -6.0382, -6.1266, -6.1968, -6.3443, -6.4309, -6.5062, -2.6965, -2.9902, -3.7043, -4.7558, -2.623, -1.6567, -3.8789, -2.5287, -4.7763, -4.9458, -4.5136, -3.5208, -3.9272, -3.8302, -4.7714, -4.8659, -3.1712, -4.2023, -4.3961, -4.4486, -4.5499, -4.7777, -4.9276, -4.93, -5.0332, -5.0909, -5.1403, -5.1444, -5.1934, -5.4436, -5.4888, -5.4902, -5.623, -3.5654, -5.5529, -5.7555, -5.8187, -5.8217, -5.8451, -5.8552, -5.8795, -5.8814, -5.9027, -5.9373, -5.9577, -5.9882, -3.8423, -5.0323, -3.6907, -2.6042, -4.6417, -4.0237, -4.0114, -5.7283, -4.6239, -5.0347, -3.7857, -2.8555, -4.5493, -2.6108, -4.8554, -4.0633, -4.9173, -4.3712, -4.8396, -4.7298, -5.0625, -3.3952, -3.4374, -3.4842, -3.986, -4.1593, -4.313, -4.4702, -4.4842, -4.5596, -4.7296, -4.7988, -4.8016, -4.9481, -5.1207, -5.2421, -5.2503, -5.2953, -5.313, -5.3471, -5.3765, -5.513, -5.5935, -5.599, -5.6415, -5.6474, -5.6623, -5.6689, -5.7015, -5.7041, -5.7089, -3.6827, -3.4974, -3.1064, -2.6975, -3.575, -5.2129, -4.824, -4.2933, -4.7923, -3.0922, -3.979, -4.7346, -4.6099, -4.8941, -4.6939, -4.6855, -4.74, -4.6012, -3.6665, -3.7015, -3.8314, -3.8895, -4.1946, -4.2461, -4.6759, -4.6833, -4.7782, -4.8757, -4.8576, -4.9018, -5.0513, -5.132, -5.2453, -5.2492, -5.3441, -5.4008, -5.4338, -5.4346, -5.5039, -5.5429, -5.6051, -5.6452, -5.6729, -5.7009, -5.786, -5.8605, -5.9028, -5.9599, -3.5024, -3.875, -5.1086, -2.1709, -4.8206, -2.5173, -4.4726, -2.29, -3.6943, -4.6419, -2.994, -3.8409, -5.3018, -4.4999, -4.9902, -4.4662, -4.7123, -4.9673, -2.0213, -2.9236, -3.3217, -3.6321, -3.6981, -3.8112, -4.13, -4.3561, -4.4425, -4.3759, -4.5502, -4.7192, -4.8335, -4.8386, -4.9277, -5.0076, -5.1007, -5.1095, -5.1613, -5.1765, -5.2251, -5.3529, -5.4078, -5.5151, -5.517, -5.5272, -5.5447, -5.5664, -5.5984, -5.6085, -3.2924, -4.9437, -2.2886, -5.0777, -4.7252, -4.1425, -4.4369, -5.0409, -3.6007, -3.7717, -3.9146, -4.2634, -4.3839, -4.4502, -4.4601, -4.5454, -4.7473, -4.765, -4.8193, -4.8366, -4.9243, -4.9385, -4.9705, -5.0391, -5.0887, -5.1104, -5.1944, -5.1959, -5.2487, -5.2636, -5.3019, -4.4337, -5.4287, -5.4449, -5.4877, -5.577, -5.5869, -5.6926, -3.8335, -2.502, -2.7542, -4.0438, -2.7198, -2.1995, -3.8101, -2.3307, -3.7517, -3.6137, -3.9612, -4.2531, -4.6508, -2.8917, -3.5522, -4.0477, -4.3461, -4.5627, -4.5744, -4.6303, -4.643, -4.8555, -4.8768, -4.9278, -4.9544, -4.9595, -4.973, -4.9816, -5.0848, -5.1215, -5.2421, -5.2433, -5.3129, -5.3197, -5.3243, -5.3334, -5.3338, -5.3456, -5.3889, -5.4056, -5.4362, -5.4375, -5.4445, -5.3378, -3.4599, -4.5262, -3.9137, -3.9651, -4.8056, -3.7874, -3.9082, -3.485, -3.7482, -5.0255, -4.6756, -4.4127, -4.8136, -4.5878, -4.8921, -4.8287, -4.963, -2.4734, -2.7991, -2.9116, -3.0818, -4.3299, -4.6531, -4.833, -4.8982, -4.9035, -4.9036, -5.0132, -5.0859, -5.0918, -5.1354, -5.1489, -5.1526, -4.8342, -5.2389, -5.2641, -5.3443, -5.3795, -5.4293, -5.4448, -5.4982, -5.5213, -5.5669, -5.5684, -5.6525, -5.6582, -5.6582, -3.6697, -4.2678, -4.7668, -3.327, -3.6281, -3.6772, -4.6538, -3.7796, -3.851, -3.5381, -4.1738, -4.6591, -4.7149, -4.8385, -3.1061, -3.4091, -3.5358, -3.9526, -4.0029, -4.2622, -4.2981, -4.4939, -4.5766, -4.4927, -4.643, -4.3498, -4.6612, -4.7295, -4.7419, -4.7833, -4.8205, -4.8409, -4.8969, -4.9295, -5.0661, -5.0668, -5.0828, -5.0872, -5.1852, -5.1997, -5.2062, -4.9025, -5.3013, -5.314, -5.0058, -4.185, -4.163, -4.5021, -2.7206, -2.5377, -2.626, -4.2406, -3.8817, -4.7471, -4.5979, -4.7231, -4.7735, -3.523, -3.7051, -3.7581, -3.7687, -3.9537, -3.9558, -3.9779, -4.1579, -4.1825, -4.3527, -4.4977, -4.5364, -4.6415, -4.6572, -4.7022, -4.6361, -4.8215, -4.8518, -4.8543, -4.7739, -4.864, -5.0039, -5.1106, -5.1225, -5.1225, -5.1731, -5.27, -5.2853, -5.2879, -5.3446, -3.5686, -3.3609, -3.6802, -3.7895, -3.3254, -3.505, -3.4824, -4.9447, -4.6374, -4.9159, -4.6969]}, \"token.table\": {\"Topic\": [2, 7, 2, 10, 10, 2, 4, 6, 9, 6, 5, 5, 2, 7, 2, 7, 2, 3, 4, 7, 3, 2, 3, 7, 8, 8, 7, 3, 4, 6, 8, 10, 4, 6, 3, 6, 8, 6, 3, 10, 8, 5, 3, 3, 6, 7, 7, 6, 7, 9, 8, 7, 2, 7, 7, 2, 3, 7, 8, 3, 10, 7, 7, 2, 2, 8, 2, 2, 3, 6, 3, 4, 7, 8, 9, 8, 4, 8, 9, 2, 10, 10, 5, 7, 5, 5, 7, 3, 1, 1, 2, 4, 10, 2, 10, 2, 4, 7, 9, 3, 5, 7, 5, 3, 2, 10, 10, 5, 7, 9, 3, 3, 5, 9, 2, 9, 10, 4, 4, 3, 2, 5, 9, 9, 10, 1, 2, 4, 5, 6, 8, 1, 4, 8, 8, 1, 6, 5, 6, 4, 7, 5, 1, 2, 1, 10, 4, 3, 3, 2, 9, 9, 7, 10, 4, 4, 8, 7, 4, 5, 8, 5, 7, 5, 5, 5, 5, 1, 1, 1, 8, 1, 2, 4, 8, 1, 4, 1, 4, 7, 5, 7, 10, 10, 10, 2, 7, 8, 8, 1, 2, 3, 4, 5, 6, 8, 6, 2, 8, 1, 5, 1, 1, 3, 10, 4, 2, 3, 1, 2, 1, 6, 8, 1, 8, 5, 1, 1, 1, 8, 6, 6, 8, 6, 7, 10, 1, 8, 2, 7, 8, 2, 3, 7, 3, 7, 3, 3, 7, 3, 4, 5, 6, 8, 9, 6, 3, 3, 9, 3, 7, 3, 6, 3, 2, 2, 3, 2, 3, 3, 6, 6, 4, 9, 4, 4, 4, 8, 8, 10, 3, 10, 7, 5, 2, 3, 6, 6, 8, 2, 3, 4, 5, 7, 8, 9, 7, 9, 5, 4, 7, 10, 7, 8, 2, 3, 4, 5, 4, 4, 4, 1, 2, 4, 7, 10, 10, 9, 7, 9, 8, 7, 9, 9, 6, 6, 2, 3, 4, 6, 2, 4, 2, 3, 6, 8, 2, 3, 6, 7, 7, 8, 10, 1, 2, 4, 6, 9, 10, 9, 4, 6, 2, 2, 8, 4, 1, 6, 1, 2, 9, 4, 9, 9, 1, 9, 1, 6, 9, 4, 4, 4, 9, 9, 9, 1, 1, 1, 1, 9, 1, 6, 6, 1, 6, 6, 1, 6, 10, 6, 7, 8, 2, 5, 8, 9, 5, 6, 6, 9, 9, 9, 4, 8, 4, 9, 7, 8, 8, 8, 2, 10, 2, 9, 5, 10, 4, 9, 2, 10, 2, 4, 7, 2, 5, 5, 8, 9, 1, 8, 4, 1, 1, 1, 8, 3, 3, 1, 2, 5, 1, 5, 1, 2, 8, 2, 1, 9, 10, 3, 7, 6, 6, 10, 3, 7, 2, 6, 6, 2, 3, 5, 5, 5, 5, 5, 10, 1, 1, 8, 8, 4, 7, 1, 2, 5, 8, 5, 7, 7, 3, 3, 2, 8, 10, 10, 10, 4, 4, 3, 3, 2, 7, 5, 3, 8, 9, 3, 4, 8, 2, 10, 10, 1, 2, 4, 5, 2, 3, 6, 1, 8, 1, 1, 8, 2, 9, 1, 1, 7, 2, 2, 2, 2, 8, 7, 10, 7, 2, 3, 4, 7, 8, 10, 4, 3, 10, 4, 3, 2, 4, 9, 4, 6], \"Freq\": [0.18013396666566872, 0.8196095483287926, 0.9872629892212679, 0.9836723612934051, 0.9543546407994614, 0.07739295718566801, 0.013459644727942264, 0.535020877935705, 0.37014023001841223, 0.9929410907908045, 0.9842241710716841, 0.983102909029522, 0.9951087858462216, 0.9718997597447299, 0.9850403128765763, 0.9784017992541646, 0.9961048273840033, 0.8710631222978292, 0.10381385442655693, 0.022709280655809325, 0.9882532128154392, 0.40564277338875404, 0.13979779195883615, 0.4354357454455552, 0.018334136650339165, 0.9807293372523105, 0.9743737107555568, 0.18256840816339553, 0.06329038149664379, 0.4673751248982926, 0.1679629355103239, 0.11927802666675175, 0.9907409482758895, 0.9947649544889688, 0.2978602781543768, 0.0744650695385942, 0.6243609676697514, 0.9868111654202396, 0.9708539403257732, 0.9907889205133039, 0.9771001075603947, 0.9742169791058084, 0.9915616017954728, 0.3683560579808222, 0.24758357995432315, 0.3804333057834721, 0.9638426220056002, 0.9845596930335914, 0.7076608244286973, 0.2881493177314456, 0.9792800861075505, 0.9885175129215169, 0.9729954856611195, 0.9852312947436449, 0.9852995262016094, 0.5468422440958234, 0.19852358696548042, 0.12091891206079262, 0.1335522312313232, 0.9812735345276083, 0.9684645775686932, 0.9702897296699945, 0.9790566233879165, 0.99199035094958, 0.9988837644379757, 0.962906841614183, 0.9946970867751764, 0.9733675632114377, 0.9700008886275949, 0.9549593356440589, 0.0885374731586593, 0.08516461703832942, 0.1661131639262465, 0.235256714393009, 0.4241366571314822, 0.9883657779117677, 0.9621393191862698, 0.9869149606997294, 0.9905045177349082, 0.5112365396775099, 0.48370841831025946, 0.9743950417087532, 0.6993534924185346, 0.2997229253222291, 0.9784379682457255, 0.36744844071144717, 0.6282183018615064, 0.9921719011525509, 0.9989830228368313, 0.9978591544963338, 0.7389074462778863, 0.04130538519565824, 0.21570590046621527, 0.44784873079175697, 0.5374184769501084, 0.19278492033131764, 0.13253963272778088, 0.6626981636389044, 0.9834692153043838, 0.4508779808545771, 0.2919971685534404, 0.25335048448019093, 0.9916631136626887, 0.967936620712115, 0.9838501319405091, 0.995157818962624, 0.9655045725003106, 0.9891196386618792, 0.21147638128980015, 0.7815431482449136, 0.9977697080204926, 0.9851785384373503, 0.9843918342097896, 0.9936478490811292, 0.3469695424999566, 0.007542816141303404, 0.6411393720107893, 0.9853014317057865, 0.9830338289480258, 0.9773486640827287, 0.5898223149716196, 0.12947319109133112, 0.27692876983423603, 0.9787410208094538, 0.9720254593038054, 0.5604380467870591, 0.03932898573944275, 0.30161080279910485, 0.0018601547309195893, 0.06483967919205426, 0.03188836681576439, 0.08239066058468016, 0.9141439960109751, 0.003923364789746674, 0.9628954151241793, 0.6759792560301794, 0.321894883823895, 0.9695134686807808, 0.9647586637429924, 0.833910035008434, 0.14891250625150607, 0.9766820960795948, 0.997800856504375, 0.982766439621455, 0.9989659585352145, 0.9702324003466256, 0.9873152385564441, 0.9896718182815339, 0.9821282469819229, 0.1666838687737493, 0.8264741826698403, 0.9775595144520249, 0.9855856489304456, 0.9655045725392425, 0.9973342369529004, 0.9943579573916845, 0.9874795609319208, 0.9906847770558951, 0.33381654198305033, 0.009818133587736776, 0.6479968167906272, 0.998887036649465, 0.0007155351265397314, 0.992116705727006, 0.9863239464119735, 0.9974858055610967, 0.9929021061112777, 0.9970119413739268, 0.9933875700499302, 0.9928753983889156, 0.9793400868020593, 0.5461274363862878, 0.0003527955015415296, 0.45122544647161633, 0.001763977507707648, 0.6082017133733336, 0.39132693871138335, 0.09209607166962441, 0.8946475533620657, 0.9885748901370771, 0.7002407254779371, 0.28943283319754737, 0.9937730794051879, 0.9725355142444992, 0.9761292349655583, 0.2783329531734894, 0.36796559911071475, 0.3490955683870884, 0.9863834936476302, 0.7923632614712894, 0.07157768822846121, 0.007047111697025066, 0.002387864294033287, 0.06220095282994025, 0.05125172143290957, 0.013162373913451776, 0.9889213506833858, 0.9906017109286835, 0.9857454446619481, 0.9975833618896951, 0.9969778394241575, 0.9975568112708807, 0.9998318904968871, 0.9915874330803223, 0.9742546392303377, 0.9724697626568409, 0.9477839887581472, 0.05016126960001336, 0.8361303070545058, 0.16336874384782743, 0.42585854036223775, 0.5737475971062148, 0.9844825806109457, 0.9414577102903676, 0.05826611236324751, 0.9765606036290867, 0.9954107168067777, 0.995642633939148, 0.9998662529598458, 0.9722632367218939, 0.9950730643657686, 0.9908432989829222, 0.9771635555910103, 0.9842230684724733, 0.967769624310512, 0.9490485724302207, 0.015829862815116242, 0.9814514945372069, 0.19607111518936257, 0.17393405379701518, 0.6261625936692546, 0.9314855265797105, 0.05174919592109503, 0.9674225427179249, 0.1874508427386725, 0.808381759310525, 0.9726438448740843, 0.9869617903677735, 0.983656052319932, 0.7160507178496995, 0.0017702119106296653, 0.11063824441435408, 0.0008851059553148326, 0.03097870843601914, 0.13984674093974356, 0.9783861496696247, 0.9913215494558462, 0.9956556900967308, 0.9764981509262022, 0.7806828315480595, 0.21143493354426612, 0.9115909483418236, 0.085383174224854, 0.9780102156683274, 0.9952754480855881, 0.9911473560514716, 0.9924746828188961, 0.0590347078442988, 0.9383411457356968, 0.9954939258228453, 0.9822689173306646, 0.9871174355948892, 0.9819408319410581, 0.9926481929518964, 0.9826333043312383, 0.9983199752353458, 0.9962478018352585, 0.9982376293631448, 0.9806445530307575, 0.9954937534233267, 0.9904619038045501, 0.9785422302893245, 0.9626250358105007, 0.989749852740811, 0.23749728101822096, 0.6045385335009261, 0.15473307702702274, 0.990860951186359, 0.9725670799181946, 0.13547743205930068, 0.009631097065827062, 0.1547396261909548, 0.1072262139995413, 0.16501279639450367, 0.03980853453875186, 0.38781217518396977, 0.9731996305605177, 0.9928638374258514, 0.9713164320958035, 0.9717617499832263, 0.9557189517190406, 0.023892973792976016, 0.9959254556870026, 0.9680872310884708, 0.06508798243623735, 0.39052789461742415, 0.32977911101026924, 0.21262074262504202, 0.99766166726937, 0.9867570228705681, 0.9948378502248103, 0.016893470148001848, 0.2111683768500231, 0.7602061566600832, 0.9958934806382922, 0.9826630472781944, 0.9764115502114576, 0.9969276464656333, 0.9928717084481201, 0.9961325567982972, 0.985534138316275, 0.986245768751716, 0.9969417400048705, 0.9857543199872837, 0.9922745408057109, 0.9900533565538822, 0.49326976843855447, 0.21732580743654986, 0.051440420475807214, 0.23766271785721782, 0.9911068104106908, 0.9900950612469511, 0.993410151064861, 0.9749267755293218, 0.9875493762216464, 0.9721856693692418, 0.98402822053892, 0.014562785504804313, 0.9898944340089425, 0.9848552797965724, 0.20961573712505469, 0.17467978093754558, 0.6113792332814095, 0.7033229638266294, 0.1189306892601894, 0.06935563063925806, 0.021264114919701226, 0.06836660203834173, 0.0185442862671813, 0.9815008378769822, 0.9736671529982902, 0.990417551140489, 0.9951744895248109, 0.9867349104356321, 0.9897587242982302, 0.9915170605480946, 0.018215890202788604, 0.9745501258491902, 0.9995846649085592, 0.000266769326103165, 0.9835430845547064, 0.9871390029207612, 0.9779647785747292, 0.9928146986216604, 0.01897876638715766, 0.9679170857450408, 0.9991033836057454, 0.9752951027549559, 0.9823418431673729, 0.9637001430430742, 0.9867230741290041, 0.15806045583659684, 0.8334096762293288, 0.9743498352611464, 0.9918089107739438, 0.9972013782273403, 0.9975617078393172, 0.9952259975898508, 0.9956730227666937, 0.9735906816754434, 0.8375973746873691, 0.1622774129440663, 0.988682089622943, 0.7860386965279494, 0.21309488959581238, 0.9901933321711595, 0.9651882068470661, 0.03472093660994744, 0.976710853526658, 0.9797646965910836, 0.9931693839610507, 0.9797809553618421, 0.6620689468038808, 0.2308130273261236, 0.10325845959326582, 0.972323737728365, 0.9931009066924719, 0.9961382059939021, 0.9946499319556477, 0.9963555331079811, 0.9768398433135927, 0.9949507911677068, 0.968520459111442, 0.031519896598301365, 0.9947709078835715, 0.9841492105814222, 0.9828607673729199, 0.9575295684001283, 0.9980970609810625, 0.9976912772654908, 0.9854321384747934, 0.9790364942814263, 0.9777322161680823, 0.9911212408038468, 0.9919888470160335, 0.9930603225381784, 0.9881362141200168, 0.9805759530775263, 0.98294663728456, 0.9922593098305096, 0.6640862631486966, 0.1990666256440937, 0.13536530543798372, 0.9795987114805024, 0.9966003786646727, 0.9810535111287656, 0.970989121556988, 0.9862262792440288, 0.9079661955389905, 0.09152051059817844, 0.9833972788314673, 0.9968677836425697, 0.9988889210245561, 0.8774801068473302, 0.12115109956472014, 0.9943784808555608, 0.985971438729153, 0.8719003940619989, 0.10010170913523782, 0.026113489339627257, 0.9990887677057442, 0.995786849541071, 0.5114413627579211, 0.3217677447814735, 0.16681117295250075, 0.9763182325215122, 0.9973026802643513, 0.9910218377186923, 0.9790668684376611, 0.8695658739457811, 0.12040142870018507, 0.9906287787611507, 0.9672366288953336, 0.9921190400883588, 0.3101279882064708, 0.6854089151117799, 0.18256794575535254, 0.8132572129102068, 0.9782841105590482, 0.991367790891819, 0.9987622199711955, 0.9903578785238173, 0.9980148845233555, 0.990985918773101, 0.9958389292083282, 0.9708032883010632, 0.9722694485306214, 0.9981831760474577, 0.9904068218665115, 0.9896137218333173, 0.9857113654683525, 0.6504265835736505, 0.34553912252350183, 0.5210333751542733, 0.3852489198110384, 0.05684000456228436, 0.03473555834361822, 0.9808853568419791, 0.982541557987012, 0.9920352630756069, 0.9819956879733946, 0.9815548299418999, 0.4101130841175845, 0.10470972360448967, 0.47991956652057766, 0.9600156045705709, 0.9699003166882244, 0.9835100352819024, 0.9827928487389963, 0.996603123741686, 0.9959874984464376, 0.9913496514378028, 0.9760861305721561, 0.9841314730118095, 0.1416157039686295, 0.3304366425934688, 0.5192575812183081, 0.6432075553104878, 0.25085094657109025, 0.10291320884967806, 0.6284844357247477, 0.36994401567744345, 0.9935773440668417, 0.9936964174967745, 0.3182862656597649, 0.019892891603735308, 0.6564654229232652, 0.3661333134056001, 0.566470409419985, 0.06562766938402266, 0.9666551164063717, 0.03315968694533292, 0.9986137893595342, 0.9983002190133268, 0.9984173200393079, 0.9867893906095355, 0.9940321739486234, 0.994618917062622, 0.9922493642468714, 0.9830510055162981, 0.9972588280153835, 0.9863762756368554, 0.9877004558422224, 0.85765155939683, 0.13376216981418448, 0.9981976051804263, 0.9872787114546667, 0.9705005341768442, 0.052257849281659115, 0.1933540423421387, 0.48599799831942975, 0.177676687557641, 0.013935426475109097, 0.07838677392248868, 0.9946259322161405, 0.16760258319710014, 0.8260413028999936, 0.9883854255196782, 0.9867968401056058, 0.15615520614034564, 0.5270238207236665, 0.3171902624725771, 0.9884093678087648, 0.9765311444672393], \"Term\": [\"10\", \"10\", \"10 baht\", \"accept\", \"acceptable\", \"accord\", \"accord\", \"accord\", \"accord\", \"accord price\", \"affordable\", \"affordable price\", \"answer\", \"arrange\", \"ask\", \"available\", \"bad\", \"bag\", \"bag\", \"bag\", \"bag good\", \"baht\", \"baht\", \"baht\", \"baht\", \"baht free\", \"baht worth\", \"beautiful\", \"beautiful\", \"beautiful\", \"beautiful\", \"beautiful\", \"beautiful bag\", \"beautiful beautiful\", \"beautiful color\", \"beautiful color\", \"beautiful color\", \"beautiful good\", \"beautiful like\", \"beautiful product\", \"beautiful quality\", \"beautiful shirt\", \"big\", \"bite\", \"bite\", \"bite\", \"bite late\", \"bite slow\", \"black\", \"black\", \"black color\", \"blue\", \"body\", \"break\", \"brown\", \"buy\", \"buy\", \"buy\", \"buy\", \"buy discount\", \"buy flash\", \"carry\", \"change\", \"chat\", \"cheap\", \"cheap buy\", \"cheap price\", \"cheap product\", \"child\", \"code\", \"color\", \"color\", \"color\", \"color\", \"color\", \"color beautiful\", \"color exactly\", \"color good\", \"color order\", \"come\", \"come\", \"come subsidize\", \"comfortable\", \"comfortable\", \"comfortable fabric\", \"comfortable wear\", \"comfortable wear\", \"compact\", \"company\", \"company good\", \"complete\", \"complete\", \"complete\", \"complete product\", \"complete product\", \"condition\", \"condition\", \"condition\", \"confuse\", \"consider\", \"consider\", \"consider\", \"consider good\", \"considered\", \"correct\", \"cost\", \"cost effective\", \"cover\", \"customer\", \"customer\", \"cute\", \"cute bag\", \"dad\", \"damage\", \"day\", \"day\", \"day\", \"deduct\", \"deduct star\", \"definitely\", \"deliver\", \"deliver\", \"deliver\", \"deliver fast\", \"delivered\", \"delivery\", \"delivery\", \"delivery\", \"delivery\", \"delivery\", \"delivery\", \"delivery fast\", \"delivery fast\", \"delivery fast\", \"delivery fee\", \"delivery good\", \"delivery good\", \"delivery like\", \"delivery price\", \"delivery product\", \"delivery product\", \"delivery sensitive\", \"delivery service\", \"delivery slow\", \"delivery speed\", \"different\", \"disappoint\", \"discount\", \"discount price\", \"doe\", \"doe\", \"doe match\", \"easy\", \"effective\", \"exactly\", \"exactly order\", \"excellent\", \"expect\", \"expensive\", \"expensive\", \"expensive\", \"fabric\", \"fabric\", \"fabric comfortable\", \"fabric fast\", \"fabric good\", \"fabric soft\", \"fair\", \"fair product\", \"fair value\", \"fall\", \"fast\", \"fast\", \"fast\", \"fast\", \"fast delivery\", \"fast delivery\", \"fast good\", \"fast good\", \"feel\", \"fit\", \"fit\", \"flash\", \"flash cell\", \"flash sale\", \"free\", \"free\", \"free\", \"free delivery\", \"good\", \"good\", \"good\", \"good\", \"good\", \"good\", \"good\", \"good beautiful\", \"good cheap\", \"good color\", \"good delivery\", \"good fabric\", \"good fast\", \"good good\", \"good like\", \"good okay\", \"good pack\", \"good price\", \"good price\", \"good product\", \"good product\", \"good quality\", \"good quality\", \"good reed\", \"good service\", \"good service\", \"good soft\", \"good store\", \"good transport\", \"good value\", \"gray\", \"great\", \"great value\", \"happy\", \"high\", \"hip\", \"hot\", \"impressive\", \"impressive\", \"item\", \"item\", \"item\", \"job\", \"job\", \"lack\", \"late\", \"late\", \"leather\", \"leave\", \"light\", \"like\", \"like\", \"like\", \"like\", \"like\", \"like\", \"like beautiful\", \"like like\", \"like lot\", \"like picture\", \"line\", \"line\", \"little\", \"little\", \"little small\", \"long\", \"long time\", \"look\", \"lot\", \"lot\", \"lot like\", \"love\", \"lovely\", \"market\", \"match\", \"meet\", \"mm\", \"mm mm\", \"money\", \"money fast\", \"new\", \"nice\", \"ninja\", \"normal\", \"ok\", \"okay\", \"okay\", \"okay\", \"okay product\", \"old\", \"order\", \"order\", \"order\", \"order\", \"order\", \"order\", \"order\", \"order black\", \"order color\", \"order round\", \"order send\", \"order size\", \"order size\", \"ordered\", \"ordering\", \"overall\", \"overall\", \"overall\", \"overall\", \"pack\", \"pack good\", \"pack product\", \"package\", \"package\", \"package\", \"pant\", \"pay\", \"person\", \"picture\", \"piece\", \"pink\", \"pleasant\", \"point\", \"poor\", \"poor delivery\", \"pretty\", \"pretty good\", \"price\", \"price\", \"price\", \"price\", \"price baht\", \"price beautiful\", \"price cheap\", \"price consider\", \"price delivery\", \"price expensive\", \"price good\", \"price good\", \"price reasonable\", \"pro\", \"problem\", \"problem\", \"problem\", \"product\", \"product\", \"product\", \"product\", \"product\", \"product\", \"product accord\", \"product affordable\", \"product beautiful\", \"product cheap\", \"product complete\", \"product delivery\", \"product exactly\", \"product fast\", \"product fast\", \"product good\", \"product good\", \"product like\", \"product pack\", \"product poor\", \"product price\", \"product product\", \"product product\", \"product quality\", \"product reasonable\", \"product receive\", \"product successfully\", \"product worth\", \"products\", \"products\", \"products deliver\", \"promotion\", \"provide\", \"provide ship\", \"providing\", \"providing service\", \"purple\", \"quality\", \"quality\", \"quality accord\", \"quality good\", \"quality good\", \"quality price\", \"quality product\", \"quality product\", \"quality providing\", \"quality reasonable\", \"quality suitable\", \"quality value\", \"quickly\", \"quickly\", \"quickly\", \"range\", \"real\", \"reasonable\", \"reasonable price\", \"receive\", \"receive good\", \"receive product\", \"received\", \"received\", \"received product\", \"red\", \"reduce\", \"reduction\", \"reed\", \"reed reed\", \"relate\", \"request\", \"return\", \"right\", \"round\", \"sale\", \"satisfy\", \"schedule\", \"sell\", \"seller\", \"send\", \"send\", \"send\", \"send good\", \"sensitive\", \"sensitive delivery\", \"sensitivity\", \"sent\", \"service\", \"service\", \"service fast\", \"service good\", \"service provide\", \"service shop\", \"service shop\", \"sew\", \"shape\", \"ship\", \"ship\", \"ship\", \"ship company\", \"shirt\", \"shop\", \"shop\", \"shop\", \"shop deliver\", \"shop good\", \"shop poor\", \"shop ship\", \"short\", \"short\", \"shoulder\", \"shoulder bag\", \"site\", \"size\", \"size\", \"slow\", \"slow\", \"slow delivery\", \"slowly\", \"small\", \"smooth\", \"soft\", \"soft comfortable\", \"soft fabric\", \"soft smooth\", \"specify\", \"speed\", \"speed delivery\", \"staff\", \"stain\", \"star\", \"star\", \"store\", \"store\", \"store\", \"store\", \"straight\", \"strap\", \"stretch\", \"strong\", \"stuff\", \"subsidize\", \"subsidize\", \"subsidize\", \"subsidize new\", \"subsidy\", \"successfully\", \"successfully good\", \"suitable\", \"suitable price\", \"tell\", \"terrible\", \"texture\", \"thank\", \"thank\", \"thank\", \"think\", \"think\", \"think\", \"time\", \"time\", \"trader\", \"transport company\", \"try\", \"try\", \"try\", \"use\", \"use\", \"use\", \"value\", \"value\", \"value fast\", \"value good\", \"value money\", \"value price\", \"value product\", \"value quality\", \"value service\", \"waist\", \"wait\", \"wait long\", \"waiting\", \"want\", \"want\", \"wear\", \"white\", \"work good\", \"worth\", \"worth\", \"worth\", \"worth\", \"worth\", \"worth\", \"worth price\", \"worthwhile\", \"worthwhile\", \"wrap\", \"wrinkle\", \"wrong\", \"wrong\", \"wrong\", \"wrong color\", \"year\"]}, \"R\": 30, \"lambda.step\": 0.01, \"plot.opts\": {\"xlab\": \"PC1\", \"ylab\": \"PC2\"}, \"topic.order\": [9, 7, 2, 8, 1, 4, 6, 5, 3, 10]};\n",
       "\n",
       "function LDAvis_load_lib(url, callback){\n",
       "  var s = document.createElement('script');\n",
       "  s.src = url;\n",
       "  s.async = true;\n",
       "  s.onreadystatechange = s.onload = callback;\n",
       "  s.onerror = function(){console.warn(\"failed to load library \" + url);};\n",
       "  document.getElementsByTagName(\"head\")[0].appendChild(s);\n",
       "}\n",
       "\n",
       "if(typeof(LDAvis) !== \"undefined\"){\n",
       "   // already loaded: just create the visualization\n",
       "   !function(LDAvis){\n",
       "       new LDAvis(\"#\" + \"ldavis_el17111398940001685366647538044\", ldavis_el17111398940001685366647538044_data);\n",
       "   }(LDAvis);\n",
       "}else if(typeof define === \"function\" && define.amd){\n",
       "   // require.js is available: use it to load d3/LDAvis\n",
       "   require.config({paths: {d3: \"https://cdnjs.cloudflare.com/ajax/libs/d3/3.5.5/d3.min\"}});\n",
       "   require([\"d3\"], function(d3){\n",
       "      window.d3 = d3;\n",
       "      LDAvis_load_lib(\"https://cdn.rawgit.com/bmabey/pyLDAvis/files/ldavis.v1.0.0.js\", function(){\n",
       "        new LDAvis(\"#\" + \"ldavis_el17111398940001685366647538044\", ldavis_el17111398940001685366647538044_data);\n",
       "      });\n",
       "    });\n",
       "}else{\n",
       "    // require.js not available: dynamically load d3 & LDAvis\n",
       "    LDAvis_load_lib(\"https://cdnjs.cloudflare.com/ajax/libs/d3/3.5.5/d3.min.js\", function(){\n",
       "         LDAvis_load_lib(\"https://cdn.rawgit.com/bmabey/pyLDAvis/files/ldavis.v1.0.0.js\", function(){\n",
       "                 new LDAvis(\"#\" + \"ldavis_el17111398940001685366647538044\", ldavis_el17111398940001685366647538044_data);\n",
       "            })\n",
       "         });\n",
       "}\n",
       "</script>"
      ],
      "text/plain": [
       "PreparedData(topic_coordinates=                x           y  topics  cluster       Freq\n",
       "topic                                                    \n",
       "8       60.668995   -0.137675       1        1  44.707368\n",
       "6      -35.463642    1.562042       2        1  10.485569\n",
       "1       11.203411  -82.496094       3        1   7.525195\n",
       "7      -67.113480   95.688606       4        1   7.026439\n",
       "0      122.750534  -92.205307       5        1   6.604434\n",
       "3      154.456329   26.585562       6        1   5.671264\n",
       "5      -83.203270 -121.009811       7        1   5.250168\n",
       "4       47.613251  101.353821       8        1   4.873302\n",
       "2     -132.964874  -17.803232       9        1   4.792817\n",
       "9       34.823826 -177.198624      10        1   3.063443, topic_info=     Category          Freq               Term         Total  loglift  logprob\n",
       "1649  Default   6180.000000            quality   6180.000000  30.0000  30.0000\n",
       "833   Default  17170.000000               good  17170.000000  29.0000  29.0000\n",
       "757   Default   2834.000000               fast   2834.000000  28.0000  28.0000\n",
       "1526  Default   8088.000000            product   8088.000000  27.0000  27.0000\n",
       "573   Default   3763.000000           delivery   3763.000000  26.0000  26.0000\n",
       "761   Default   2310.000000      fast delivery   2310.000000  25.0000  25.0000\n",
       "2257  Default   4975.000000              value   4975.000000  24.0000  24.0000\n",
       "704   Default   1397.000000             fabric   1397.000000  23.0000  23.0000\n",
       "925   Default   4505.000000         good value   4505.000000  22.0000  22.0000\n",
       "1456  Default   2507.000000              price   2507.000000  21.0000  21.0000\n",
       "892   Default   1291.000000       good quality   1291.000000  20.0000  20.0000\n",
       "1564  Default   3748.000000       product good   3748.000000  19.0000  19.0000\n",
       "1673  Default   3715.000000    quality product   3715.000000  18.0000  18.0000\n",
       "1853  Default   1933.000000            service   1933.000000  17.0000  17.0000\n",
       "867   Default   2857.000000          good good   2857.000000  16.0000  16.0000\n",
       "1267  Default   1557.000000              order   1557.000000  15.0000  15.0000\n",
       "1737  Default    656.000000               reed    656.000000  14.0000  14.0000\n",
       "165   Default   1232.000000          beautiful   1232.000000  13.0000  13.0000\n",
       "1051  Default   1129.000000               like   1129.000000  12.0000  12.0000\n",
       "351   Default   1185.000000              color   1185.000000  11.0000  11.0000\n",
       "1899  Default   1180.000000               shop   1180.000000  10.0000  10.0000\n",
       "303   Default    702.000000              cheap    702.000000   9.0000   9.0000\n",
       "1665  Default    994.000000       quality good    994.000000   8.0000   8.0000\n",
       "2020  Default    567.000000               soft    567.000000   7.0000   7.0000\n",
       "1741  Default    474.000000          reed reed    474.000000   6.0000   6.0000\n",
       "2325  Default    465.000000               wear    465.000000   5.0000   5.0000\n",
       "889   Default   1762.000000       good product   1762.000000   4.0000   4.0000\n",
       "119   Default    616.000000                bag    616.000000   3.0000   3.0000\n",
       "1181  Default    423.000000              money    423.000000   2.0000   2.0000\n",
       "415   Default    560.000000        comfortable    560.000000   1.0000   1.0000\n",
       "...       ...           ...                ...           ...      ...      ...\n",
       "1402  Topic10     52.351554             person     53.256232   3.4685  -4.5364\n",
       "1218  Topic10     47.126036              ninja     48.030630   3.4666  -4.6415\n",
       "794   Topic10     46.394418         flash cell     47.299044   3.4663  -4.6572\n",
       "2039  Topic10     44.350293            specify     45.254945   3.4654  -4.7022\n",
       "636   Topic10     47.381578          different     48.442002   3.4635  -4.6361\n",
       "253   Topic10     39.365354          buy flash     40.269929   3.4629  -4.8215\n",
       "567   Topic10     38.188721          delivered     39.093626   3.4622  -4.8518\n",
       "412   Topic10     38.093976     come subsidize     38.998556   3.4622  -4.8543\n",
       "2113  Topic10     41.284518            subsidy     42.272385   3.4620  -4.7739\n",
       "61    Topic10     37.726068             accept     38.630749   3.4619  -4.8640\n",
       "1758  Topic10     32.801988            request     33.706609   3.4584  -5.0039\n",
       "62    Topic10     29.482320         acceptable     30.387027   3.4554  -5.1106\n",
       "492   Topic10     29.131546     cost effective     30.036108   3.4551  -5.1225\n",
       "672   Topic10     29.131546          effective     30.036108   3.4551  -5.1225\n",
       "1923  Topic10     27.694019          shop ship     28.598660   3.4535  -5.1731\n",
       "2110  Topic10     25.136691      subsidize new     26.041243   3.4503  -5.2700\n",
       "880   Topic10     24.755988          good okay     25.660642   3.4497  -5.2853\n",
       "1674  Topic10     24.691530  quality providing     25.596112   3.4497  -5.2879\n",
       "969   Topic10     23.330147                hot     24.234798   3.4476  -5.3446\n",
       "2380  Topic10    137.794863         worthwhile    167.061864   3.2930  -3.5686\n",
       "531   Topic10    169.607028                day    265.152956   3.0388  -3.3609\n",
       "406   Topic10    123.239302               come    254.285423   2.7613  -3.6802\n",
       "2109  Topic10    110.478997          subsidize    229.205075   2.7558  -3.7895\n",
       "2171  Topic10    175.732630               time    475.747661   2.4897  -3.3254\n",
       "165   Topic10    146.833340          beautiful   1232.414755   1.3582  -3.5050\n",
       "1526  Topic10    150.200333            product   8088.744848  -0.5006  -3.4824\n",
       "1524  Topic10     34.799418            problem     57.247610   2.9878  -4.9447\n",
       "441   Topic10     47.319474           complete    217.889264   1.9586  -4.6374\n",
       "448   Topic10     35.817215   complete product     66.986904   2.8596  -4.9159\n",
       "2366  Topic10     44.585688              worth    574.076439   0.9303  -4.6969\n",
       "\n",
       "[480 rows x 6 columns], token_table=      Topic      Freq              Term\n",
       "term                                   \n",
       "0         2  0.180134                10\n",
       "0         7  0.819610                10\n",
       "1         2  0.987263           10 baht\n",
       "61       10  0.983672            accept\n",
       "62       10  0.954355        acceptable\n",
       "63        2  0.077393            accord\n",
       "63        4  0.013460            accord\n",
       "63        6  0.535021            accord\n",
       "63        9  0.370140            accord\n",
       "68        6  0.992941      accord price\n",
       "88        5  0.984224        affordable\n",
       "89        5  0.983103  affordable price\n",
       "92        2  0.995109            answer\n",
       "101       7  0.971900           arrange\n",
       "105       2  0.985040               ask\n",
       "110       7  0.978402         available\n",
       "114       2  0.996105               bad\n",
       "119       3  0.871063               bag\n",
       "119       4  0.103814               bag\n",
       "119       7  0.022709               bag\n",
       "126       3  0.988253          bag good\n",
       "146       2  0.405643              baht\n",
       "146       3  0.139798              baht\n",
       "146       7  0.435436              baht\n",
       "146       8  0.018334              baht\n",
       "152       8  0.980729         baht free\n",
       "161       7  0.974374        baht worth\n",
       "165       3  0.182568         beautiful\n",
       "165       4  0.063290         beautiful\n",
       "165       6  0.467375         beautiful\n",
       "...     ...       ...               ...\n",
       "2270      8  0.998417       value money\n",
       "2274      2  0.986789       value price\n",
       "2275      9  0.994032     value product\n",
       "2277      1  0.994619     value quality\n",
       "2281      1  0.992249     value service\n",
       "2296      7  0.983051             waist\n",
       "2298      2  0.997259              wait\n",
       "2303      2  0.986376         wait long\n",
       "2307      2  0.987700           waiting\n",
       "2312      2  0.857652              want\n",
       "2312      8  0.133762              want\n",
       "2325      7  0.998198              wear\n",
       "2354     10  0.987279             white\n",
       "2362      7  0.970501         work good\n",
       "2366      2  0.052258             worth\n",
       "2366      3  0.193354             worth\n",
       "2366      4  0.485998             worth\n",
       "2366      7  0.177677             worth\n",
       "2366      8  0.013935             worth\n",
       "2366     10  0.078387             worth\n",
       "2374      4  0.994626       worth price\n",
       "2380      3  0.167603        worthwhile\n",
       "2380     10  0.826041        worthwhile\n",
       "2386      4  0.988385              wrap\n",
       "2388      3  0.986797           wrinkle\n",
       "2390      2  0.156155             wrong\n",
       "2390      4  0.527024             wrong\n",
       "2390      9  0.317190             wrong\n",
       "2391      4  0.988409       wrong color\n",
       "2402      6  0.976531              year\n",
       "\n",
       "[534 rows x 3 columns], R=30, lambda_step=0.01, plot_opts={'xlab': 'PC1', 'ylab': 'PC2'}, topic_order=[9, 7, 2, 8, 1, 4, 6, 5, 3, 10])"
      ]
     },
     "execution_count": 136,
     "metadata": {},
     "output_type": "execute_result"
    }
   ],
   "source": [
    "bi_dash = pyLDAvis.sklearn.prepare(bi_lda, bigram_vectorized, bivectorizer, mds='tsne')\n",
    "bi_dash"
   ]
  },
  {
   "cell_type": "markdown",
   "metadata": {
    "_uuid": "72e246e81d3d9687a5c1ab5120208fc45ce76c3d"
   },
   "source": [
    "**Very few keywords with 2 words have been found like \"spin dry\" , \"black cherry\", etc.**"
   ]
  },
  {
   "cell_type": "markdown",
   "metadata": {
    "_uuid": "13934cbb75a849b3c6f9b09338fbb5039d6fbad8"
   },
   "source": [
    "Kindly upvote and comment if you like this."
   ]
  }
 ],
 "metadata": {
  "kernelspec": {
   "display_name": "Python [conda env:fastaipy372] *",
   "language": "python",
   "name": "conda-env-fastaipy372-py"
  },
  "language_info": {
   "codemirror_mode": {
    "name": "ipython",
    "version": 3
   },
   "file_extension": ".py",
   "mimetype": "text/x-python",
   "name": "python",
   "nbconvert_exporter": "python",
   "pygments_lexer": "ipython3",
   "version": "3.7.2"
  }
 },
 "nbformat": 4,
 "nbformat_minor": 1
}
