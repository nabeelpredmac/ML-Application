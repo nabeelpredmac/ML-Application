{
 "cells": [
  {
   "cell_type": "markdown",
   "metadata": {},
   "source": [
    "# Sentiment Analysis of CRM"
   ]
  },
  {
   "cell_type": "markdown",
   "metadata": {},
   "source": [
    "## Sentiment analysis using TextBlob"
   ]
  },
  {
   "cell_type": "code",
   "execution_count": 1,
   "metadata": {},
   "outputs": [],
   "source": [
    "import pandas as pd\n",
    "import numpy as np\n",
    "from tqdm import tqdm, tqdm_notebook\n",
    "\n",
    "import re \n",
    "import tweepy \n",
    "from tweepy import OAuthHandler \n",
    "from textblob import TextBlob "
   ]
  },
  {
   "cell_type": "code",
   "execution_count": 2,
   "metadata": {},
   "outputs": [],
   "source": [
    "def clean_tweet(tweet): \n",
    "    ''' \n",
    "    Utility function to clean tweet text by removing links, special characters \n",
    "    using simple regex statements. \n",
    "    '''\n",
    "    return ' '.join(re.sub(\"(@[A-Za-z0-9]+)|([^0-9A-Za-z \\t]) |(\\w+:\\/\\/\\S+)\", \" \", tweet).split()) \n",
    "\n",
    "def get_tweet_sentiment(tweet): \n",
    "    ''' \n",
    "    Utility function to classify sentiment of passed tweet \n",
    "    using textblob's sentiment method \n",
    "    '''\n",
    "    # create TextBlob object of passed tweet text \n",
    "    analysis = TextBlob(clean_tweet(tweet)) \n",
    "    # set sentiment \n",
    "    if analysis.sentiment.polarity > 0: \n",
    "        return 'positive'\n",
    "    elif analysis.sentiment.polarity == 0: \n",
    "        return 'neutral'\n",
    "    else: \n",
    "        return 'negative'"
   ]
  },
  {
   "cell_type": "code",
   "execution_count": 3,
   "metadata": {},
   "outputs": [
    {
     "data": {
      "text/plain": [
       "'positive'"
      ]
     },
     "execution_count": 3,
     "metadata": {},
     "output_type": "execute_result"
    }
   ],
   "source": [
    "text = 'quality of the item is not bad'\n",
    "\n",
    "get_tweet_sentiment(text)"
   ]
  },
  {
   "cell_type": "code",
   "execution_count": 4,
   "metadata": {},
   "outputs": [
    {
     "data": {
      "text/html": [
       "<div>\n",
       "<style scoped>\n",
       "    .dataframe tbody tr th:only-of-type {\n",
       "        vertical-align: middle;\n",
       "    }\n",
       "\n",
       "    .dataframe tbody tr th {\n",
       "        vertical-align: top;\n",
       "    }\n",
       "\n",
       "    .dataframe thead th {\n",
       "        text-align: right;\n",
       "    }\n",
       "</style>\n",
       "<table border=\"1\" class=\"dataframe\">\n",
       "  <thead>\n",
       "    <tr style=\"text-align: right;\">\n",
       "      <th></th>\n",
       "      <th>rating</th>\n",
       "      <th>comments</th>\n",
       "    </tr>\n",
       "  </thead>\n",
       "  <tbody>\n",
       "    <tr>\n",
       "      <th>0</th>\n",
       "      <td>4</td>\n",
       "      <td>Give 4 stars because order at the price 37 but...</td>\n",
       "    </tr>\n",
       "    <tr>\n",
       "      <th>1</th>\n",
       "      <td>5</td>\n",
       "      <td>Ordered at a discount of 10 baht per piece. It...</td>\n",
       "    </tr>\n",
       "    <tr>\n",
       "      <th>2</th>\n",
       "      <td>5</td>\n",
       "      <td>Small, cute, compact, good But the sash looks ...</td>\n",
       "    </tr>\n",
       "    <tr>\n",
       "      <th>3</th>\n",
       "      <td>1</td>\n",
       "      <td>The size is not as large as it is down. The st...</td>\n",
       "    </tr>\n",
       "    <tr>\n",
       "      <th>4</th>\n",
       "      <td>1</td>\n",
       "      <td>The product is compared to the price. Okay. Se...</td>\n",
       "    </tr>\n",
       "  </tbody>\n",
       "</table>\n",
       "</div>"
      ],
      "text/plain": [
       "   rating                                           comments\n",
       "0       4  Give 4 stars because order at the price 37 but...\n",
       "1       5  Ordered at a discount of 10 baht per piece. It...\n",
       "2       5  Small, cute, compact, good But the sash looks ...\n",
       "3       1  The size is not as large as it is down. The st...\n",
       "4       1  The product is compared to the price. Okay. Se..."
      ]
     },
     "execution_count": 4,
     "metadata": {},
     "output_type": "execute_result"
    }
   ],
   "source": [
    "reviews = pd.read_excel('../data/Bag_Reviews.xlsx')\n",
    "reviews = reviews[['rating','comments']]\n",
    "reviews = reviews.drop_duplicates()\n",
    "reviews.head()"
   ]
  },
  {
   "cell_type": "code",
   "execution_count": 5,
   "metadata": {},
   "outputs": [
    {
     "data": {
      "text/plain": [
       "(2677, 2)"
      ]
     },
     "execution_count": 5,
     "metadata": {},
     "output_type": "execute_result"
    }
   ],
   "source": [
    "reviews.shape"
   ]
  },
  {
   "cell_type": "code",
   "execution_count": 6,
   "metadata": {},
   "outputs": [
    {
     "data": {
      "application/vnd.jupyter.widget-view+json": {
       "model_id": "e923971d911649199a9c99164917d841",
       "version_major": 2,
       "version_minor": 0
      },
      "text/plain": [
       "HBox(children=(IntProgress(value=0, max=2677), HTML(value='')))"
      ]
     },
     "metadata": {},
     "output_type": "display_data"
    },
    {
     "name": "stdout",
     "output_type": "stream",
     "text": [
      "\n"
     ]
    }
   ],
   "source": [
    "senti = []\n",
    "for i in tqdm_notebook(range(len(reviews))):\n",
    "    senti.append(get_tweet_sentiment(reviews.comments.iloc[i]))\n",
    "    "
   ]
  },
  {
   "cell_type": "code",
   "execution_count": 7,
   "metadata": {},
   "outputs": [
    {
     "data": {
      "text/plain": [
       "['negative', 'positive', 'positive', 'negative', 'negative']"
      ]
     },
     "execution_count": 7,
     "metadata": {},
     "output_type": "execute_result"
    }
   ],
   "source": [
    "senti[0:5]"
   ]
  },
  {
   "cell_type": "code",
   "execution_count": 8,
   "metadata": {},
   "outputs": [
    {
     "data": {
      "text/html": [
       "<div>\n",
       "<style scoped>\n",
       "    .dataframe tbody tr th:only-of-type {\n",
       "        vertical-align: middle;\n",
       "    }\n",
       "\n",
       "    .dataframe tbody tr th {\n",
       "        vertical-align: top;\n",
       "    }\n",
       "\n",
       "    .dataframe thead th {\n",
       "        text-align: right;\n",
       "    }\n",
       "</style>\n",
       "<table border=\"1\" class=\"dataframe\">\n",
       "  <thead>\n",
       "    <tr style=\"text-align: right;\">\n",
       "      <th></th>\n",
       "      <th>rating</th>\n",
       "      <th>comments</th>\n",
       "      <th>sentiment_pred</th>\n",
       "      <th>sentiment_real</th>\n",
       "      <th>error</th>\n",
       "    </tr>\n",
       "  </thead>\n",
       "  <tbody>\n",
       "    <tr>\n",
       "      <th>0</th>\n",
       "      <td>4</td>\n",
       "      <td>Give 4 stars because order at the price 37 but...</td>\n",
       "      <td>negative</td>\n",
       "      <td>positive</td>\n",
       "      <td>False</td>\n",
       "    </tr>\n",
       "    <tr>\n",
       "      <th>1</th>\n",
       "      <td>5</td>\n",
       "      <td>Ordered at a discount of 10 baht per piece. It...</td>\n",
       "      <td>positive</td>\n",
       "      <td>positive</td>\n",
       "      <td>True</td>\n",
       "    </tr>\n",
       "    <tr>\n",
       "      <th>2</th>\n",
       "      <td>5</td>\n",
       "      <td>Small, cute, compact, good But the sash looks ...</td>\n",
       "      <td>positive</td>\n",
       "      <td>positive</td>\n",
       "      <td>True</td>\n",
       "    </tr>\n",
       "    <tr>\n",
       "      <th>3</th>\n",
       "      <td>1</td>\n",
       "      <td>The size is not as large as it is down. The st...</td>\n",
       "      <td>negative</td>\n",
       "      <td>negative</td>\n",
       "      <td>True</td>\n",
       "    </tr>\n",
       "    <tr>\n",
       "      <th>4</th>\n",
       "      <td>1</td>\n",
       "      <td>The product is compared to the price. Okay. Se...</td>\n",
       "      <td>negative</td>\n",
       "      <td>negative</td>\n",
       "      <td>True</td>\n",
       "    </tr>\n",
       "  </tbody>\n",
       "</table>\n",
       "</div>"
      ],
      "text/plain": [
       "   rating                                           comments sentiment_pred  \\\n",
       "0       4  Give 4 stars because order at the price 37 but...       negative   \n",
       "1       5  Ordered at a discount of 10 baht per piece. It...       positive   \n",
       "2       5  Small, cute, compact, good But the sash looks ...       positive   \n",
       "3       1  The size is not as large as it is down. The st...       negative   \n",
       "4       1  The product is compared to the price. Okay. Se...       negative   \n",
       "\n",
       "  sentiment_real  error  \n",
       "0       positive  False  \n",
       "1       positive   True  \n",
       "2       positive   True  \n",
       "3       negative   True  \n",
       "4       negative   True  "
      ]
     },
     "execution_count": 8,
     "metadata": {},
     "output_type": "execute_result"
    }
   ],
   "source": [
    "reviews['sentiment_pred'] = senti\n",
    "reviews['sentiment_real'] = 'neutral'\n",
    "reviews.loc[(reviews['rating']==1) | (reviews['rating']==2),'sentiment_real'] = 'negative'\n",
    "reviews.loc[(reviews['rating']==4) | (reviews['rating']==5),'sentiment_real'] = 'positive'\n",
    "reviews['error'] = reviews.sentiment_pred==reviews.sentiment_real\n",
    "reviews.head()"
   ]
  },
  {
   "cell_type": "code",
   "execution_count": 9,
   "metadata": {},
   "outputs": [
    {
     "data": {
      "text/html": [
       "<div>\n",
       "<style scoped>\n",
       "    .dataframe tbody tr th:only-of-type {\n",
       "        vertical-align: middle;\n",
       "    }\n",
       "\n",
       "    .dataframe tbody tr th {\n",
       "        vertical-align: top;\n",
       "    }\n",
       "\n",
       "    .dataframe thead th {\n",
       "        text-align: right;\n",
       "    }\n",
       "</style>\n",
       "<table border=\"1\" class=\"dataframe\">\n",
       "  <thead>\n",
       "    <tr style=\"text-align: right;\">\n",
       "      <th></th>\n",
       "      <th>rating</th>\n",
       "      <th>comments</th>\n",
       "      <th>sentiment_pred</th>\n",
       "      <th>sentiment_real</th>\n",
       "      <th>error</th>\n",
       "    </tr>\n",
       "  </thead>\n",
       "  <tbody>\n",
       "    <tr>\n",
       "      <th>3177</th>\n",
       "      <td>5</td>\n",
       "      <td>7 baht is very cheap. Like, light, comfortable...</td>\n",
       "      <td>positive</td>\n",
       "      <td>positive</td>\n",
       "      <td>True</td>\n",
       "    </tr>\n",
       "    <tr>\n",
       "      <th>3178</th>\n",
       "      <td>3</td>\n",
       "      <td>Ordered Pink to be blue, very disappointed The...</td>\n",
       "      <td>negative</td>\n",
       "      <td>neutral</td>\n",
       "      <td>False</td>\n",
       "    </tr>\n",
       "    <tr>\n",
       "      <th>3179</th>\n",
       "      <td>4</td>\n",
       "      <td>Pretty good, but want the product pack to be b...</td>\n",
       "      <td>positive</td>\n",
       "      <td>positive</td>\n",
       "      <td>True</td>\n",
       "    </tr>\n",
       "    <tr>\n",
       "      <th>3180</th>\n",
       "      <td>5</td>\n",
       "      <td>Received the product. Shop well packaged goods...</td>\n",
       "      <td>positive</td>\n",
       "      <td>positive</td>\n",
       "      <td>True</td>\n",
       "    </tr>\n",
       "    <tr>\n",
       "      <th>3181</th>\n",
       "      <td>5</td>\n",
       "      <td>Products delivered very fast. The real product...</td>\n",
       "      <td>positive</td>\n",
       "      <td>positive</td>\n",
       "      <td>True</td>\n",
       "    </tr>\n",
       "  </tbody>\n",
       "</table>\n",
       "</div>"
      ],
      "text/plain": [
       "      rating                                           comments  \\\n",
       "3177       5  7 baht is very cheap. Like, light, comfortable...   \n",
       "3178       3  Ordered Pink to be blue, very disappointed The...   \n",
       "3179       4  Pretty good, but want the product pack to be b...   \n",
       "3180       5  Received the product. Shop well packaged goods...   \n",
       "3181       5  Products delivered very fast. The real product...   \n",
       "\n",
       "     sentiment_pred sentiment_real  error  \n",
       "3177       positive       positive   True  \n",
       "3178       negative        neutral  False  \n",
       "3179       positive       positive   True  \n",
       "3180       positive       positive   True  \n",
       "3181       positive       positive   True  "
      ]
     },
     "execution_count": 9,
     "metadata": {},
     "output_type": "execute_result"
    }
   ],
   "source": [
    "reviews.tail()"
   ]
  },
  {
   "cell_type": "code",
   "execution_count": 10,
   "metadata": {},
   "outputs": [
    {
     "data": {
      "text/plain": [
       "True     2012\n",
       "False     665\n",
       "Name: error, dtype: int64"
      ]
     },
     "execution_count": 10,
     "metadata": {},
     "output_type": "execute_result"
    }
   ],
   "source": [
    "reviews.error.value_counts()"
   ]
  },
  {
   "cell_type": "code",
   "execution_count": 11,
   "metadata": {},
   "outputs": [
    {
     "data": {
      "text/plain": [
       "positive    2058\n",
       "negative     329\n",
       "neutral      290\n",
       "Name: sentiment_pred, dtype: int64"
      ]
     },
     "execution_count": 11,
     "metadata": {},
     "output_type": "execute_result"
    }
   ],
   "source": [
    "reviews.sentiment_pred.value_counts()"
   ]
  },
  {
   "cell_type": "code",
   "execution_count": 12,
   "metadata": {},
   "outputs": [
    {
     "data": {
      "text/plain": [
       "positive    2065\n",
       "negative     372\n",
       "neutral      240\n",
       "Name: sentiment_real, dtype: int64"
      ]
     },
     "execution_count": 12,
     "metadata": {},
     "output_type": "execute_result"
    }
   ],
   "source": [
    "reviews.sentiment_real.value_counts()"
   ]
  },
  {
   "cell_type": "code",
   "execution_count": 13,
   "metadata": {},
   "outputs": [
    {
     "name": "stdout",
     "output_type": "stream",
     "text": [
      "-I- Accuracy =  0.7515875980575271\n"
     ]
    }
   ],
   "source": [
    "acc = reviews.error.value_counts()[1]/len(reviews)\n",
    "print('-I- Accuracy = ',acc)"
   ]
  },
  {
   "cell_type": "code",
   "execution_count": 14,
   "metadata": {},
   "outputs": [
    {
     "data": {
      "text/plain": [
       "\"Order many things Get some wrong things, wrong colors, some have this one that meets the set Do not know because of the reduction period How many people do you order? But the product is not exactly the same as the one you don't want\""
      ]
     },
     "execution_count": 14,
     "metadata": {},
     "output_type": "execute_result"
    }
   ],
   "source": [
    "i=10\n",
    "reviews.loc[reviews.sentiment_real=='neutral','comments'].iloc[i]"
   ]
  },
  {
   "cell_type": "code",
   "execution_count": 15,
   "metadata": {},
   "outputs": [
    {
     "data": {
      "text/plain": [
       "'negative'"
      ]
     },
     "execution_count": 15,
     "metadata": {},
     "output_type": "execute_result"
    }
   ],
   "source": [
    "reviews.loc[reviews.sentiment_real=='neutral','sentiment_pred'].iloc[i]"
   ]
  },
  {
   "cell_type": "code",
   "execution_count": 16,
   "metadata": {},
   "outputs": [
    {
     "data": {
      "text/plain": [
       "(2677, 5)"
      ]
     },
     "execution_count": 16,
     "metadata": {},
     "output_type": "execute_result"
    }
   ],
   "source": [
    "reviews.shape"
   ]
  },
  {
   "cell_type": "markdown",
   "metadata": {},
   "source": [
    "## Sentiment analysis using fastai"
   ]
  },
  {
   "cell_type": "markdown",
   "metadata": {},
   "source": [
    "### language model"
   ]
  },
  {
   "cell_type": "code",
   "execution_count": 17,
   "metadata": {},
   "outputs": [],
   "source": [
    "df = reviews[['sentiment_real','comments']]\n",
    "df.columns = ['sentiment','text']"
   ]
  },
  {
   "cell_type": "code",
   "execution_count": 18,
   "metadata": {},
   "outputs": [],
   "source": [
    "from fastai.text import *"
   ]
  },
  {
   "cell_type": "code",
   "execution_count": 19,
   "metadata": {},
   "outputs": [],
   "source": [
    "path = './../data'"
   ]
  },
  {
   "cell_type": "code",
   "execution_count": 20,
   "metadata": {},
   "outputs": [],
   "source": [
    "# split df into training and validation\n",
    "train_df, valid_df = df.loc[:2000,:], df.loc[2000:,:]\n",
    "\n",
    "# create databunches\n",
    "data_lm = TextLMDataBunch.from_df(path, train_df, valid_df)#, text_cols=1)#, bs=10)\n",
    "data_clas = TextClasDataBunch.from_df(path, train_df, valid_df)#, text_cols=5, label_cols=1, bs=10)\n"
   ]
  },
  {
   "cell_type": "code",
   "execution_count": 21,
   "metadata": {},
   "outputs": [
    {
     "data": {
      "text/html": [
       "<table border=\"1\" class=\"dataframe\">\n",
       "  <thead>\n",
       "    <tr style=\"text-align: right;\">\n",
       "      <th>idx</th>\n",
       "      <th>text</th>\n",
       "    </tr>\n",
       "  </thead>\n",
       "  <tbody>\n",
       "    <tr>\n",
       "      <td>0</td>\n",
       "      <td>little fragile xxmaj have to xxunk myself that do not put too many things to be sure xxmaj how to put a sash xxbos xxmaj the size is not as large as it is down . xxmaj the stitching was wrong . xxmaj the bag line is xxunk . xxmaj no , why are you like this ? xxmaj lost 8 orders xxbos xxmaj the product is compared to the</td>\n",
       "    </tr>\n",
       "    <tr>\n",
       "      <td>1</td>\n",
       "      <td>product to subsidize another good product at a good price . xxbos xxmaj it 's cute . xxmaj but cut off the xxunk , not ok xxmaj almost every thread dropped xxmaj do not wear heavy stuff . xxmaj it 's a shame . xxmaj beautiful but not resistant . xxmaj definitely sewing like this . xxbos xxmaj fair product quality xxmaj good value with the price xxmaj very fast</td>\n",
       "    </tr>\n",
       "    <tr>\n",
       "      <td>2</td>\n",
       "      <td>xxbos xxmaj okokokokokok xxwrep 5 ok o kok ok \\n  xxmaj okokokokokok xxwrep 5 ok o kok ok \\n  xxmaj okokokokokok xxwrep 5 ok o kok ok \\n  xxmaj okokokokokok xxwrep 5 ok o kok ok \\n  xxmaj okokokokokok xxwrep 5 ok o kok ok \\n  xxmaj okokokokokok xxwrep 5 ok o kok ok \\n  xxmaj okokokokokok xxwrep 5 ok o kok ok \\n</td>\n",
       "    </tr>\n",
       "    <tr>\n",
       "      <td>3</td>\n",
       "      <td>desirable xxrep 4 . xxmaj very desirable xxrep 4 . xxmaj very desirable xxrep 4 . xxmaj thank you very much ... xxmaj ka ^^ xxmaj thank you very much xxrep 4 . xxbos xxmaj well , let 's talk about each other . xxmaj let 's talk about each other . xxmaj let 's talk about each other . xxmaj let 's go . xxmaj let 's go .</td>\n",
       "    </tr>\n",
       "    <tr>\n",
       "      <td>4</td>\n",
       "      <td>xxrep 5 . fast delivery ... xxmaj cheap , any other , any other xxrep 7 . good quality xxrep 5 . fast delivery .. xxbos xxmaj very good quality xxmaj very good value xxmaj the color has been correct as ordered . xxmaj there is 1 wrong color . xxmaj but overall , okay . xxmaj good transportation company . xxmaj receiving products quickly . xxmaj xxunk stores .</td>\n",
       "    </tr>\n",
       "  </tbody>\n",
       "</table>"
      ],
      "text/plain": [
       "<IPython.core.display.HTML object>"
      ]
     },
     "metadata": {},
     "output_type": "display_data"
    }
   ],
   "source": [
    "data_lm.show_batch()"
   ]
  },
  {
   "cell_type": "code",
   "execution_count": 22,
   "metadata": {},
   "outputs": [
    {
     "data": {
      "text/html": [
       "<table border=\"1\" class=\"dataframe\">\n",
       "  <thead>\n",
       "    <tr style=\"text-align: right;\">\n",
       "      <th>text</th>\n",
       "      <th>target</th>\n",
       "    </tr>\n",
       "  </thead>\n",
       "  <tbody>\n",
       "    <tr>\n",
       "      <td>xxbos xxup ddd xxmaj dee xxmaj dee d xxmaj good , d , xxmaj dee d , xxmaj dee xxmaj dee , xxmaj dee xxmaj dee , xxwrep 6 xxmaj good , xxmaj very xxmaj good , xxmaj very xxmaj good , xxmaj good , xxmaj very xxmaj good , xxmaj good , xxmaj very xxwrep 4 xxmaj good , xxmaj very xxmaj good , xxmaj good , xxmaj very</td>\n",
       "      <td>positive</td>\n",
       "    </tr>\n",
       "    <tr>\n",
       "      <td>xxbos xxmaj xxunk , any other , any other , any other , any xxwrep 11 other related other options . xxmaj any other , any other , any other , any other , any other , and any other , any other , any other , any other , or other xxmaj any other , any other , any other , any other , any other , and any</td>\n",
       "      <td>positive</td>\n",
       "    </tr>\n",
       "    <tr>\n",
       "      <td>xxbos xxmaj it 's pretty cute . { ~ { ~ { ~ xxrep 11 { [ { { { xxup î² { xxup î² { xxup î² } xxup î² { } { { { } { } } } ~ } { ~ } ^ } ~ } ~ } ~ } ~ } ~ &lt; ~ } ~ } ~ { ~ } ^ { ~ }</td>\n",
       "      <td>positive</td>\n",
       "    </tr>\n",
       "    <tr>\n",
       "      <td>xxbos xxmaj like a lot , like a lot , like a lot , like a lot , likes a lot , likes a lot , likes a lot , likes a lot , likes a lot , likes a lot , likes a lot , likes a lot , likes a lot , likes a lot , likes a lot , likes a lot , likes a lot ,</td>\n",
       "      <td>positive</td>\n",
       "    </tr>\n",
       "    <tr>\n",
       "      <td>xxbos xxmaj ca n't get the goods , i ca n't go . i ca n't answer . i ca n't answer . i ca n't answer . i ca n't answer . i ca n't answer . i ca n't answer . i ca n't answer . i ca n't answer . i ca n't answer . i ca n't answer . i ca n't answer . i ca</td>\n",
       "      <td>negative</td>\n",
       "    </tr>\n",
       "  </tbody>\n",
       "</table>"
      ],
      "text/plain": [
       "<IPython.core.display.HTML object>"
      ]
     },
     "metadata": {},
     "output_type": "display_data"
    }
   ],
   "source": [
    "data_clas.show_batch()"
   ]
  },
  {
   "cell_type": "code",
   "execution_count": 23,
   "metadata": {},
   "outputs": [],
   "source": [
    "# am_data = pd.read_csv('/home/gpu1/.fastai/data/amazon_review_full_csv/train.csv',header=None)\n",
    "# am_data.columns = ['rating','review_title','text']\n",
    "# am_data = am_data.dropna()\n",
    "# am_data['sentiment_real'] = 'neutral'\n",
    "# am_data.loc[(am_data['rating']==1) | (am_data['rating']==2),'sentiment_real'] = 'negative'\n",
    "# am_data.loc[(am_data['rating']==4) | (am_data['rating']==5),'sentiment_real'] = 'positive'\n",
    "# am_data.head()"
   ]
  },
  {
   "cell_type": "code",
   "execution_count": 24,
   "metadata": {},
   "outputs": [],
   "source": [
    "# am_data.rating.value_counts()"
   ]
  },
  {
   "cell_type": "code",
   "execution_count": 25,
   "metadata": {},
   "outputs": [],
   "source": [
    "# tmp1 = am_data[am_data.rating==1].iloc[0:100000]\n",
    "# tmp1 = tmp1.append(am_data[am_data.rating==2].iloc[0:100000])\n",
    "# tmp1 = tmp1.append(am_data[am_data.rating==3].iloc[0:100000])\n",
    "# tmp1 = tmp1.append(am_data[am_data.rating==4].iloc[0:100000])\n",
    "# tmp1 = tmp1.append(am_data[am_data.rating==5].iloc[0:100000])\n",
    "# am_data = tmp1.copy()\n",
    "# tmp1 = None"
   ]
  },
  {
   "cell_type": "code",
   "execution_count": 26,
   "metadata": {},
   "outputs": [],
   "source": [
    "# am_data1 = pd.read_csv('/home/gpu1/.fastai/data/amazon_review_full_csv/test.csv',header=None)\n",
    "# am_data1.columns = ['rating','review_title','text']\n",
    "# am_data1 = am_data1.dropna()\n",
    "# am_data1['sentiment_real'] = 'neutral'\n",
    "# am_data1.loc[(am_data1['rating']==1) | (am_data1['rating']==2),'sentiment_real'] = 'negative'\n",
    "# am_data1.loc[(am_data1['rating']==4) | (am_data1['rating']==5),'sentiment_real'] = 'positive'\n",
    "# am_data1.head()"
   ]
  },
  {
   "cell_type": "code",
   "execution_count": 27,
   "metadata": {},
   "outputs": [],
   "source": [
    "# am_data1.rating.value_counts()"
   ]
  },
  {
   "cell_type": "code",
   "execution_count": 28,
   "metadata": {},
   "outputs": [],
   "source": [
    "# tmp1 = am_data1[am_data1.rating==1].iloc[0:10000]\n",
    "# tmp1 = tmp1.append(am_data1[am_data1.rating==2].iloc[0:10000])\n",
    "# tmp1 = tmp1.append(am_data1[am_data1.rating==3].iloc[0:10000])\n",
    "# tmp1 = tmp1.append(am_data1[am_data1.rating==4].iloc[0:10000])\n",
    "# tmp1 = tmp1.append(am_data1[am_data1.rating==5].iloc[0:10000])\n",
    "# am_data1 = tmp1.copy()\n",
    "# tmp1 = None"
   ]
  },
  {
   "cell_type": "code",
   "execution_count": null,
   "metadata": {},
   "outputs": [],
   "source": [
    "# am_train = am_data[['sentiment_real','text']]\n",
    "# am_test = am_data1[['sentiment_real','text']]\n",
    "\n",
    "# am_data =None\n",
    "# am_data1 = None\n",
    "\n",
    "# #path = untar_data(URLs.WT103_BWD)\n",
    "# data = TextLMDataBunch.from_df(path, am_train,am_test)\n",
    "# learn = language_model_learner(data, AWD_LSTM, drop_mult=0.5)\n",
    "\n",
    "# data.show_batch()\n"
   ]
  },
  {
   "cell_type": "code",
   "execution_count": 83,
   "metadata": {},
   "outputs": [],
   "source": [
    "learn = language_model_learner(data_lm,arch=AWD_LSTM,  drop_mult=0.3)"
   ]
  },
  {
   "cell_type": "code",
   "execution_count": 84,
   "metadata": {},
   "outputs": [
    {
     "data": {
      "text/html": [],
      "text/plain": [
       "<IPython.core.display.HTML object>"
      ]
     },
     "metadata": {},
     "output_type": "display_data"
    },
    {
     "name": "stdout",
     "output_type": "stream",
     "text": [
      "LR Finder is complete, type {learner_name}.recorder.plot() to see the graph.\n"
     ]
    },
    {
     "data": {
      "image/png": "[encoded data removed]",
      "text/plain": [
       "<Figure size 432x288 with 1 Axes>"
      ]
     },
     "metadata": {
      "needs_background": "light"
     },
     "output_type": "display_data"
    }
   ],
   "source": [
    "learn.lr_find() # find learning rate\n",
    "learn.recorder.plot() # plot learning rate graph"
   ]
  },
  {
   "cell_type": "code",
   "execution_count": 85,
   "metadata": {
    "scrolled": true
   },
   "outputs": [
    {
     "data": {
      "text/html": [
       "<table border=\"1\" class=\"dataframe\">\n",
       "  <thead>\n",
       "    <tr style=\"text-align: left;\">\n",
       "      <th>epoch</th>\n",
       "      <th>train_loss</th>\n",
       "      <th>valid_loss</th>\n",
       "      <th>accuracy</th>\n",
       "      <th>time</th>\n",
       "    </tr>\n",
       "  </thead>\n",
       "  <tbody>\n",
       "    <tr>\n",
       "      <td>0</td>\n",
       "      <td>3.761256</td>\n",
       "      <td>2.963980</td>\n",
       "      <td>0.400128</td>\n",
       "      <td>00:01</td>\n",
       "    </tr>\n",
       "  </tbody>\n",
       "</table>"
      ],
      "text/plain": [
       "<IPython.core.display.HTML object>"
      ]
     },
     "metadata": {},
     "output_type": "display_data"
    }
   ],
   "source": [
    "learn.fit_one_cycle(1, 1e-01)"
   ]
  },
  {
   "cell_type": "code",
   "execution_count": 86,
   "metadata": {},
   "outputs": [
    {
     "data": {
      "text/html": [],
      "text/plain": [
       "<IPython.core.display.HTML object>"
      ]
     },
     "metadata": {},
     "output_type": "display_data"
    },
    {
     "name": "stdout",
     "output_type": "stream",
     "text": [
      "LR Finder is complete, type {learner_name}.recorder.plot() to see the graph.\n"
     ]
    },
    {
     "data": {
      "image/png": "[encoded data removed]",
      "text/plain": [
       "<Figure size 432x288 with 1 Axes>"
      ]
     },
     "metadata": {
      "needs_background": "light"
     },
     "output_type": "display_data"
    }
   ],
   "source": [
    "learn.unfreeze() # must be done before calling lr_find\n",
    "learn.lr_find()\n",
    "learn.recorder.plot()"
   ]
  },
  {
   "cell_type": "code",
   "execution_count": 87,
   "metadata": {
    "scrolled": true
   },
   "outputs": [
    {
     "data": {
      "text/html": [
       "<table border=\"1\" class=\"dataframe\">\n",
       "  <thead>\n",
       "    <tr style=\"text-align: left;\">\n",
       "      <th>epoch</th>\n",
       "      <th>train_loss</th>\n",
       "      <th>valid_loss</th>\n",
       "      <th>accuracy</th>\n",
       "      <th>time</th>\n",
       "    </tr>\n",
       "  </thead>\n",
       "  <tbody>\n",
       "    <tr>\n",
       "      <td>0</td>\n",
       "      <td>5.664549</td>\n",
       "      <td>4.213936</td>\n",
       "      <td>0.250351</td>\n",
       "      <td>00:01</td>\n",
       "    </tr>\n",
       "    <tr>\n",
       "      <td>1</td>\n",
       "      <td>4.696902</td>\n",
       "      <td>3.608692</td>\n",
       "      <td>0.308259</td>\n",
       "      <td>00:01</td>\n",
       "    </tr>\n",
       "    <tr>\n",
       "      <td>2</td>\n",
       "      <td>4.197229</td>\n",
       "      <td>3.345120</td>\n",
       "      <td>0.338297</td>\n",
       "      <td>00:01</td>\n",
       "    </tr>\n",
       "    <tr>\n",
       "      <td>3</td>\n",
       "      <td>3.841983</td>\n",
       "      <td>3.051824</td>\n",
       "      <td>0.382207</td>\n",
       "      <td>00:01</td>\n",
       "    </tr>\n",
       "    <tr>\n",
       "      <td>4</td>\n",
       "      <td>3.546465</td>\n",
       "      <td>2.894457</td>\n",
       "      <td>0.399426</td>\n",
       "      <td>00:01</td>\n",
       "    </tr>\n",
       "    <tr>\n",
       "      <td>5</td>\n",
       "      <td>3.294350</td>\n",
       "      <td>2.811209</td>\n",
       "      <td>0.416964</td>\n",
       "      <td>00:01</td>\n",
       "    </tr>\n",
       "    <tr>\n",
       "      <td>6</td>\n",
       "      <td>3.077348</td>\n",
       "      <td>2.746190</td>\n",
       "      <td>0.431409</td>\n",
       "      <td>00:01</td>\n",
       "    </tr>\n",
       "    <tr>\n",
       "      <td>7</td>\n",
       "      <td>2.884650</td>\n",
       "      <td>2.719438</td>\n",
       "      <td>0.429400</td>\n",
       "      <td>00:01</td>\n",
       "    </tr>\n",
       "    <tr>\n",
       "      <td>8</td>\n",
       "      <td>2.713161</td>\n",
       "      <td>2.725965</td>\n",
       "      <td>0.434120</td>\n",
       "      <td>00:01</td>\n",
       "    </tr>\n",
       "    <tr>\n",
       "      <td>9</td>\n",
       "      <td>2.553248</td>\n",
       "      <td>2.705909</td>\n",
       "      <td>0.433355</td>\n",
       "      <td>00:01</td>\n",
       "    </tr>\n",
       "  </tbody>\n",
       "</table>"
      ],
      "text/plain": [
       "<IPython.core.display.HTML object>"
      ]
     },
     "metadata": {},
     "output_type": "display_data"
    }
   ],
   "source": [
    "learn.fit(10, 1e-02)"
   ]
  },
  {
   "cell_type": "code",
   "execution_count": 88,
   "metadata": {},
   "outputs": [
    {
     "name": "stdout",
     "output_type": "stream",
     "text": [
      "I liked  it very quickly . If you have to order hello to the picture Very good . Very beautiful . Not complete . Every leaves are worth it . Very good value Very fast\n",
      "I liked  it very much . In shape , suitable for wearing compact shoulder bag , lazy for the price , but the delivery is very poor . xxbos And the price is very cheap . The product is\n"
     ]
    }
   ],
   "source": [
    "# make predictions\n",
    "TEXT = \"I liked \"\n",
    "N_WORDS = 40\n",
    "N_SENTENCES = 2\n",
    "print(\"\\n\".join(learn.predict(TEXT, N_WORDS, temperature=0.75) for _ in range(N_SENTENCES)))\n",
    "\n",
    "# save encoder\n",
    "learn.save_encoder('review-sentiment-enc')"
   ]
  },
  {
   "cell_type": "markdown",
   "metadata": {},
   "source": [
    "### classification model"
   ]
  },
  {
   "cell_type": "code",
   "execution_count": 89,
   "metadata": {},
   "outputs": [
    {
     "data": {
      "text/html": [],
      "text/plain": [
       "<IPython.core.display.HTML object>"
      ]
     },
     "metadata": {},
     "output_type": "display_data"
    },
    {
     "name": "stdout",
     "output_type": "stream",
     "text": [
      "LR Finder is complete, type {learner_name}.recorder.plot() to see the graph.\n"
     ]
    },
    {
     "data": {
      "image/png": "[encoded data removed]",
      "text/plain": [
       "<Figure size 432x288 with 1 Axes>"
      ]
     },
     "metadata": {
      "needs_background": "light"
     },
     "output_type": "display_data"
    }
   ],
   "source": [
    "# create model and load in encoder\n",
    "learn2 = text_classifier_learner(data_clas,arch=AWD_LSTM, drop_mult=0.3)\n",
    "learn2.load_encoder('review-sentiment-enc')\n",
    "\n",
    "# find and plot learning rate\n",
    "learn2.lr_find()\n",
    "learn2.recorder.plot()"
   ]
  },
  {
   "cell_type": "code",
   "execution_count": 90,
   "metadata": {},
   "outputs": [
    {
     "data": {
      "text/html": [
       "<table border=\"1\" class=\"dataframe\">\n",
       "  <thead>\n",
       "    <tr style=\"text-align: left;\">\n",
       "      <th>epoch</th>\n",
       "      <th>train_loss</th>\n",
       "      <th>valid_loss</th>\n",
       "      <th>accuracy</th>\n",
       "      <th>time</th>\n",
       "    </tr>\n",
       "  </thead>\n",
       "  <tbody>\n",
       "    <tr>\n",
       "      <td>0</td>\n",
       "      <td>0.743805</td>\n",
       "      <td>0.648677</td>\n",
       "      <td>0.785311</td>\n",
       "      <td>00:01</td>\n",
       "    </tr>\n",
       "    <tr>\n",
       "      <td>1</td>\n",
       "      <td>0.652424</td>\n",
       "      <td>0.569580</td>\n",
       "      <td>0.814689</td>\n",
       "      <td>00:01</td>\n",
       "    </tr>\n",
       "    <tr>\n",
       "      <td>2</td>\n",
       "      <td>0.604145</td>\n",
       "      <td>0.567375</td>\n",
       "      <td>0.812429</td>\n",
       "      <td>00:01</td>\n",
       "    </tr>\n",
       "    <tr>\n",
       "      <td>3</td>\n",
       "      <td>0.579178</td>\n",
       "      <td>0.561933</td>\n",
       "      <td>0.806780</td>\n",
       "      <td>00:01</td>\n",
       "    </tr>\n",
       "    <tr>\n",
       "      <td>4</td>\n",
       "      <td>0.559645</td>\n",
       "      <td>0.555209</td>\n",
       "      <td>0.797740</td>\n",
       "      <td>00:01</td>\n",
       "    </tr>\n",
       "    <tr>\n",
       "      <td>5</td>\n",
       "      <td>0.544239</td>\n",
       "      <td>0.523074</td>\n",
       "      <td>0.814689</td>\n",
       "      <td>00:01</td>\n",
       "    </tr>\n",
       "    <tr>\n",
       "      <td>6</td>\n",
       "      <td>0.523865</td>\n",
       "      <td>0.554706</td>\n",
       "      <td>0.807910</td>\n",
       "      <td>00:01</td>\n",
       "    </tr>\n",
       "    <tr>\n",
       "      <td>7</td>\n",
       "      <td>0.516978</td>\n",
       "      <td>0.551310</td>\n",
       "      <td>0.804520</td>\n",
       "      <td>00:01</td>\n",
       "    </tr>\n",
       "    <tr>\n",
       "      <td>8</td>\n",
       "      <td>0.509387</td>\n",
       "      <td>0.593197</td>\n",
       "      <td>0.803390</td>\n",
       "      <td>00:01</td>\n",
       "    </tr>\n",
       "    <tr>\n",
       "      <td>9</td>\n",
       "      <td>0.498898</td>\n",
       "      <td>0.594534</td>\n",
       "      <td>0.789831</td>\n",
       "      <td>00:01</td>\n",
       "    </tr>\n",
       "  </tbody>\n",
       "</table>"
      ],
      "text/plain": [
       "<IPython.core.display.HTML object>"
      ]
     },
     "metadata": {},
     "output_type": "display_data"
    }
   ],
   "source": [
    "# learn2.fit_one_cycle(1, 1e-2)\n",
    "\n",
    "# # unfreeze one layer group and train another epoch\n",
    "# learn2.freeze_to(-2)\n",
    "# learn2.fit_one_cycle(1, slice(5e-3/2., 5e-3))\n",
    "\n",
    "# learn2.freeze_to(-3)\n",
    "# learn2.fit_one_cycle(1, slice(5e-3/2., 5e-3))\n",
    "\n",
    "# learn2.unfreeze()\n",
    "# learn2.fit_one_cycle(1, slice(2e-3/100, 2e-3))\n",
    "\n",
    "learn2.fit(10,1e-02)"
   ]
  },
  {
   "cell_type": "code",
   "execution_count": 91,
   "metadata": {},
   "outputs": [
    {
     "data": {
      "text/plain": [
       "(Category negative, tensor(0), tensor([0.7287, 0.1107, 0.1606]))"
      ]
     },
     "execution_count": 91,
     "metadata": {},
     "output_type": "execute_result"
    }
   ],
   "source": [
    "learn2.predict(\"size of this item is too small than i excpected,i dont want this \")"
   ]
  },
  {
   "cell_type": "code",
   "execution_count": 96,
   "metadata": {},
   "outputs": [],
   "source": []
  }
 ],
 "metadata": {
  "kernelspec": {
   "display_name": "Python [conda env:fastaipy372] *",
   "language": "python",
   "name": "conda-env-fastaipy372-py"
  },
  "language_info": {
   "codemirror_mode": {
    "name": "ipython",
    "version": 3
   },
   "file_extension": ".py",
   "mimetype": "text/x-python",
   "name": "python",
   "nbconvert_exporter": "python",
   "pygments_lexer": "ipython3",
   "version": "3.7.2"
  }
 },
 "nbformat": 4,
 "nbformat_minor": 2
}
