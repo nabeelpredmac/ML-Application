{
 "cells": [
  {
   "cell_type": "code",
   "execution_count": 2,
   "metadata": {},
   "outputs": [],
   "source": [
    "import pandas as pd\n",
    "import bz2\n",
    "import itertools\n",
    "import codecs\n",
    "import json\n",
    "from tqdm import tqdm_notebook"
   ]
  },
  {
   "cell_type": "code",
   "execution_count": 2,
   "metadata": {},
   "outputs": [
    {
     "data": {
      "text/html": [
       "<div>\n",
       "<style scoped>\n",
       "    .dataframe tbody tr th:only-of-type {\n",
       "        vertical-align: middle;\n",
       "    }\n",
       "\n",
       "    .dataframe tbody tr th {\n",
       "        vertical-align: top;\n",
       "    }\n",
       "\n",
       "    .dataframe thead th {\n",
       "        text-align: right;\n",
       "    }\n",
       "</style>\n",
       "<table border=\"1\" class=\"dataframe\">\n",
       "  <thead>\n",
       "    <tr style=\"text-align: right;\">\n",
       "      <th></th>\n",
       "      <th>comments</th>\n",
       "    </tr>\n",
       "  </thead>\n",
       "  <tbody>\n",
       "    <tr>\n",
       "      <th>0</th>\n",
       "      <td>Great CD: My lovely Pat has one of the GREAT ...</td>\n",
       "    </tr>\n",
       "    <tr>\n",
       "      <th>1</th>\n",
       "      <td>One of the best game music soundtracks - for ...</td>\n",
       "    </tr>\n",
       "    <tr>\n",
       "      <th>2</th>\n",
       "      <td>Batteries died within a year ...: I bought th...</td>\n",
       "    </tr>\n",
       "    <tr>\n",
       "      <th>3</th>\n",
       "      <td>works fine, but Maha Energy is better: Check ...</td>\n",
       "    </tr>\n",
       "    <tr>\n",
       "      <th>4</th>\n",
       "      <td>Great for the non-audiophile: Reviewed quite ...</td>\n",
       "    </tr>\n",
       "  </tbody>\n",
       "</table>\n",
       "</div>"
      ],
      "text/plain": [
       "                                            comments\n",
       "0   Great CD: My lovely Pat has one of the GREAT ...\n",
       "1   One of the best game music soundtracks - for ...\n",
       "2   Batteries died within a year ...: I bought th...\n",
       "3   works fine, but Maha Energy is better: Check ...\n",
       "4   Great for the non-audiophile: Reviewed quite ..."
      ]
     },
     "execution_count": 2,
     "metadata": {},
     "output_type": "execute_result"
    }
   ],
   "source": [
    "file1 = open(\"/home/gpu1/work_space/disk3_work_space3/CRM_Topic_models/input/amazon_review/test.ft.txt\",\"r+\")  \n",
    "  \n",
    "f = file1.readlines()\n",
    "def spliter(s): return s.split('__label__1')[-1].split('__label__2')[-1]\n",
    "\n",
    "df = pd.DataFrame()\n",
    "df['comments'] = f\n",
    "df['comments'] = df.comments.apply(spliter)\n",
    "df.head()"
   ]
  },
  {
   "cell_type": "code",
   "execution_count": 3,
   "metadata": {},
   "outputs": [
    {
     "data": {
      "application/vnd.jupyter.widget-view+json": {
       "model_id": "65c97a43e7fe430ba253f8f11a22a097",
       "version_major": 2,
       "version_minor": 0
      },
      "text/plain": [
       "HBox(children=(IntProgress(value=0, max=50000), HTML(value='')))"
      ]
     },
     "metadata": {},
     "output_type": "display_data"
    },
    {
     "name": "stdout",
     "output_type": "stream",
     "text": [
      "\n"
     ]
    }
   ],
   "source": [
    "file1 = open(\"/home/gpu1/work_space/disk3_work_space3/CRM_Topic_models/input/reviews_Clothing_Shoes_and_Jewelry.json\",\"r+\")  \n",
    "  \n",
    "f = file1.readlines()\n",
    "json.loads(f[0])\n",
    "\n",
    "def converter(s):\n",
    "    s = json.loads(s)\n",
    "    ddf = pd.DataFrame()\n",
    "    ddf['comments'] = [str(s['reviewText'])]\n",
    "    ddf['rating']   = [s['overall']]\n",
    "    ddf['asin']     = [s['asin']]\n",
    "    return ddf\n",
    "\n",
    "df = pd.DataFrame()\n",
    "# for i in tqdm_notebook(range(len(f))):\n",
    "for i in tqdm_notebook(range(0,50000)):\n",
    "    df = df.append(converter(f[i]))"
   ]
  },
  {
   "cell_type": "code",
   "execution_count": 5,
   "metadata": {
    "scrolled": true
   },
   "outputs": [
    {
     "data": {
      "application/vnd.jupyter.widget-view+json": {
       "model_id": "524dbf2840c144d9839a18b36a2c93b2",
       "version_major": 2,
       "version_minor": 0
      },
      "text/plain": [
       "HBox(children=(IntProgress(value=0, max=50000), HTML(value='')))"
      ]
     },
     "metadata": {},
     "output_type": "display_data"
    },
    {
     "name": "stdout",
     "output_type": "stream",
     "text": [
      "\n"
     ]
    }
   ],
   "source": [
    "import ast\n",
    "file2 = open(\"/home/gpu1/work_space/disk3_work_space3/CRM_Topic_models/input/meta_Clothing_Shoes_and_Jewelry.json\",\"r+\")  \n",
    "  \n",
    "f2 = file2.readlines()\n",
    "# json.loads(f2[0])\n",
    "ast.literal_eval(f2[0])\n",
    "\n",
    "def converter2(s):\n",
    "    s = ast.literal_eval(s)\n",
    "    ddf = pd.DataFrame()\n",
    "    try:\n",
    "        brand = s['brand']\n",
    "    except:\n",
    "        brand = ''\n",
    "    try:\n",
    "        title = s['title']\n",
    "    except:\n",
    "        title = ''\n",
    "    try:\n",
    "        categories = s['categories']\n",
    "    except:\n",
    "        categories = ''\n",
    "    ddf['brand'] = [brand]\n",
    "    ddf['title']   = [title]\n",
    "    ddf['asin']     = [s['asin']]\n",
    "    ddf['categories'] = [categories]\n",
    "    return ddf\n",
    "\n",
    "meta_df = pd.DataFrame()\n",
    "# for i in tqdm_notebook(range(len(f2))):\n",
    "for i in tqdm_notebook(range(0,50000)):\n",
    "    meta_df = meta_df.append(converter2(f2[i]))"
   ]
  },
  {
   "cell_type": "code",
   "execution_count": 6,
   "metadata": {},
   "outputs": [
    {
     "data": {
      "text/plain": [
       "(50000, 3)"
      ]
     },
     "execution_count": 6,
     "metadata": {},
     "output_type": "execute_result"
    }
   ],
   "source": [
    "df.shape"
   ]
  },
  {
   "cell_type": "code",
   "execution_count": 7,
   "metadata": {},
   "outputs": [],
   "source": [
    "df = df.merge(meta_df,on='asin',how='left')\n"
   ]
  },
  {
   "cell_type": "code",
   "execution_count": 9,
   "metadata": {},
   "outputs": [
    {
     "data": {
      "text/plain": [
       "((50000, 6), (50000, 6))"
      ]
     },
     "execution_count": 9,
     "metadata": {},
     "output_type": "execute_result"
    }
   ],
   "source": [
    "df.shape,df.dropna().shape"
   ]
  },
  {
   "cell_type": "code",
   "execution_count": 10,
   "metadata": {},
   "outputs": [
    {
     "data": {
      "text/html": [
       "<div>\n",
       "<style scoped>\n",
       "    .dataframe tbody tr th:only-of-type {\n",
       "        vertical-align: middle;\n",
       "    }\n",
       "\n",
       "    .dataframe tbody tr th {\n",
       "        vertical-align: top;\n",
       "    }\n",
       "\n",
       "    .dataframe thead th {\n",
       "        text-align: right;\n",
       "    }\n",
       "</style>\n",
       "<table border=\"1\" class=\"dataframe\">\n",
       "  <thead>\n",
       "    <tr style=\"text-align: right;\">\n",
       "      <th></th>\n",
       "      <th>comments</th>\n",
       "      <th>rating</th>\n",
       "      <th>asin</th>\n",
       "      <th>brand</th>\n",
       "      <th>title</th>\n",
       "      <th>categories</th>\n",
       "    </tr>\n",
       "  </thead>\n",
       "  <tbody>\n",
       "    <tr>\n",
       "      <th>0</th>\n",
       "      <td>Perfect red tutu for the price. I baught it as...</td>\n",
       "      <td>5.0</td>\n",
       "      <td>0000031887</td>\n",
       "      <td>Boutique Cutie</td>\n",
       "      <td>Ballet Dress-Up Fairy Tutu</td>\n",
       "      <td>[[Clothing, Shoes &amp; Jewelry, Girls, Clothing, ...</td>\n",
       "    </tr>\n",
       "    <tr>\n",
       "      <th>1</th>\n",
       "      <td>This was a really cute tutu the only problem i...</td>\n",
       "      <td>4.0</td>\n",
       "      <td>0000031887</td>\n",
       "      <td>Boutique Cutie</td>\n",
       "      <td>Ballet Dress-Up Fairy Tutu</td>\n",
       "      <td>[[Clothing, Shoes &amp; Jewelry, Girls, Clothing, ...</td>\n",
       "    </tr>\n",
       "    <tr>\n",
       "      <th>2</th>\n",
       "      <td>the tutu color was very nice. the only issue w...</td>\n",
       "      <td>2.0</td>\n",
       "      <td>0000031887</td>\n",
       "      <td>Boutique Cutie</td>\n",
       "      <td>Ballet Dress-Up Fairy Tutu</td>\n",
       "      <td>[[Clothing, Shoes &amp; Jewelry, Girls, Clothing, ...</td>\n",
       "    </tr>\n",
       "    <tr>\n",
       "      <th>3</th>\n",
       "      <td>My 3-yr-old daughter received this as a gift f...</td>\n",
       "      <td>1.0</td>\n",
       "      <td>0000031887</td>\n",
       "      <td>Boutique Cutie</td>\n",
       "      <td>Ballet Dress-Up Fairy Tutu</td>\n",
       "      <td>[[Clothing, Shoes &amp; Jewelry, Girls, Clothing, ...</td>\n",
       "    </tr>\n",
       "    <tr>\n",
       "      <th>4</th>\n",
       "      <td>Bought it for my daughters first birthday whic...</td>\n",
       "      <td>4.0</td>\n",
       "      <td>0000031887</td>\n",
       "      <td>Boutique Cutie</td>\n",
       "      <td>Ballet Dress-Up Fairy Tutu</td>\n",
       "      <td>[[Clothing, Shoes &amp; Jewelry, Girls, Clothing, ...</td>\n",
       "    </tr>\n",
       "  </tbody>\n",
       "</table>\n",
       "</div>"
      ],
      "text/plain": [
       "                                            comments  rating        asin  \\\n",
       "0  Perfect red tutu for the price. I baught it as...     5.0  0000031887   \n",
       "1  This was a really cute tutu the only problem i...     4.0  0000031887   \n",
       "2  the tutu color was very nice. the only issue w...     2.0  0000031887   \n",
       "3  My 3-yr-old daughter received this as a gift f...     1.0  0000031887   \n",
       "4  Bought it for my daughters first birthday whic...     4.0  0000031887   \n",
       "\n",
       "            brand                       title  \\\n",
       "0  Boutique Cutie  Ballet Dress-Up Fairy Tutu   \n",
       "1  Boutique Cutie  Ballet Dress-Up Fairy Tutu   \n",
       "2  Boutique Cutie  Ballet Dress-Up Fairy Tutu   \n",
       "3  Boutique Cutie  Ballet Dress-Up Fairy Tutu   \n",
       "4  Boutique Cutie  Ballet Dress-Up Fairy Tutu   \n",
       "\n",
       "                                          categories  \n",
       "0  [[Clothing, Shoes & Jewelry, Girls, Clothing, ...  \n",
       "1  [[Clothing, Shoes & Jewelry, Girls, Clothing, ...  \n",
       "2  [[Clothing, Shoes & Jewelry, Girls, Clothing, ...  \n",
       "3  [[Clothing, Shoes & Jewelry, Girls, Clothing, ...  \n",
       "4  [[Clothing, Shoes & Jewelry, Girls, Clothing, ...  "
      ]
     },
     "execution_count": 10,
     "metadata": {},
     "output_type": "execute_result"
    }
   ],
   "source": [
    "df.head()"
   ]
  },
  {
   "cell_type": "code",
   "execution_count": 11,
   "metadata": {
    "scrolled": true
   },
   "outputs": [
    {
     "data": {
      "text/plain": [
       "                                   39133\n",
       "Timex                               2688\n",
       "Buxton                               823\n",
       "Rubie&#39;s Costume Co               753\n",
       "Lewis N. Clark                       612\n",
       "Kidoozie                             609\n",
       "Skagen                               573\n",
       "Disney                               567\n",
       "Household Essentials                 383\n",
       "Casio                                351\n",
       "Disguise Costumes                    299\n",
       "Boutique Cutie                       236\n",
       "Suunto                               221\n",
       "Dora the Explorer                    215\n",
       "elope                                199\n",
       "Marvel&#39;s Classic Spider-Man      148\n",
       "Tiffen                               126\n",
       "Voguestrap                           107\n",
       "Leg Avenue                            97\n",
       "Bucket Boss                           94\n",
       "AmeriBag                              85\n",
       "Connoisseurs                          84\n",
       "Custom Leathercraft                   80\n",
       "Hanes                                 80\n",
       "Chasburg                              79\n",
       "Maxi-Aids                             68\n",
       "Peet Dryer                            66\n",
       "Neatnix                               61\n",
       "Thomas &amp; Friends                  58\n",
       "DryGuy                                55\n",
       "                                   ...  \n",
       "Derek Alexander                        3\n",
       "Hasbro                                 3\n",
       "McGuire-Nicolas                        3\n",
       "Miku Hatsune                           3\n",
       "Honeywell                              3\n",
       "Tiger Claw                             2\n",
       "Thinkway Toys                          2\n",
       "Pulsar                                 2\n",
       "Hello Kitty                            2\n",
       "Flagline                               2\n",
       "KRUPS                                  2\n",
       "Moleskine                              2\n",
       "Toy Story                              2\n",
       "Hosa                                   2\n",
       "Top of the World                       2\n",
       "Ultra Force                            2\n",
       "Hotstuff                               1\n",
       "Sloggers                               1\n",
       "Gifts by Lulee/Baby                    1\n",
       "Stahlsac                               1\n",
       "Travelon                               1\n",
       "Netpack                                1\n",
       "Pro Feet                               1\n",
       "NECA                                   1\n",
       "Korchmar                               1\n",
       "Little Tiger Press                     1\n",
       "Playing Mantis Memory Lane             1\n",
       "XS Scuba                               1\n",
       "Big Dreams                             1\n",
       "Outdoor Cap                            1\n",
       "Name: brand, Length: 114, dtype: int64"
      ]
     },
     "execution_count": 11,
     "metadata": {},
     "output_type": "execute_result"
    }
   ],
   "source": [
    "df.brand.value_counts()"
   ]
  },
  {
   "cell_type": "code",
   "execution_count": 12,
   "metadata": {
    "scrolled": true
   },
   "outputs": [
    {
     "data": {
      "text/plain": [
       "Levi's Men's 505 Regular-Fit Jean                                                                  2214\n",
       "Levi's Men's 501 Original Fit Jean                                                                 2105\n",
       "Converse Unisex Chuck Taylor Classic Colors Sneaker                                                1311\n",
       "Converse Unisex Chuck Taylor All Star Hi Top Black Monochrome Sneaker                              1224\n",
       "Merrell Men's Jungle Moc Slip-On Shoe                                                               950\n",
       "Rockport Men's World Tour Classic Walking Shoe                                                      928\n",
       "Carhartt Men's Workwear Pocket T-Shirt K87                                                          916\n",
       "Dickies Men's Original 874 Work Pant                                                                817\n",
       "KEEN Women's Venice H2 Sandal                                                                       815\n",
       "Kidoozie My First Purse                                                                             609\n",
       "Carhartt Men's Relaxed Fit Jean B17                                                                 589\n",
       "Enell High Impact Sports Bra                                                                        539\n",
       "Bali Women's Satin Tracings Minimizer Underwire Bra #3562                                           532\n",
       "Leading Lady Women's Plus Size Sleep Leisure Cotton                                                 410\n",
       "Skagen Men's 233LTMN Titanium Black Mesh Watch                                                      407\n",
       "Bali Women's Flower Underwire Bra #0180                                                             391\n",
       "Bali Women's Double-Support Wire-Free Bra #3820                                                     386\n",
       "KEEN Men's Newport Sandal                                                                           379\n",
       "Household Essentials Hanging Cosmetic and Grooming Travel Bag, Black                                366\n",
       "Duragold 14k Gold Hoop Earrings (0.6&quot; Diameter)                                                364\n",
       "Carhartt Men's Washed Duck Work Dungaree Pant B11                                                   352\n",
       "Timex Girls' T89022 &quot;Time Teacher&quot; Floral Elastic Strap Watch                             348\n",
       "Carhartt Men's Thermal Lined Duck Active Jacket J131                                                346\n",
       "                                                                                                    322\n",
       "Carhartt Men's Double Front Work Dungaree Pant B01                                                  305\n",
       "Lewis N. Clark Deluxe Neck Stash                                                                    298\n",
       "Sperry Top-Sider Men's Billfish Boat Shoe                                                           291\n",
       "Bali Women's Lace and Smooth Underwire Bra   #3432                                                  290\n",
       "Carhartt Men's Quilted Lined Duck Bib Overall R02                                                   289\n",
       "Rainbow Sandals Men's Premium Leather Single Layer Sandal                                           274\n",
       "                                                                                                   ... \n",
       "Perlina Morgan Collection Leather Hobo                                                                1\n",
       "Earrings, 'Ethnic Clover' 1&quot; W 2&quot; L                                                         1\n",
       "18k White Gold 3/4ctw Princess-cut Diamond  Band (G, VS2), Size 5.5                                   1\n",
       "Matte Finish Ring (size: 10)                                                                          1\n",
       "ASICS&reg; Men's Gel DS Trainer VIII ( sz. 06.0, White/black/sienna )                                 1\n",
       "Child's Guardian Angel Pendant in 14K Yellow Gold                                                     1\n",
       "Nursing/Sleep bra 14DD (label 40)/Black                                                               1\n",
       "14k Yellow Gold Small Heart Button Earrings                                                           1\n",
       "Sterling Silver, Amethyst and Iolite Earrings                                                         1\n",
       "April Diamond CZ Birthstone Earring                                                                   1\n",
       "New Lava Iron Blue Samurai Metal LED Faceless Black Bracelet Watch                                    1\n",
       "Pro-Tech Athletics Unisex Toe Flexor 1Pr Size: S/M                                                    1\n",
       "14k White Gold Princess Cut Classic Solitaire Ring (1/3 ct, H, SI2), Size 4.5                         1\n",
       "Aramark 20 degree Below Insulated Coverall Navy Twill Size: XL-L                                      1\n",
       "Men's Stainless Steel Dress Watch Silver Dial                                                         1\n",
       "PalmBeach Jewelry Genuine Marcasite Silvertone Antique-Finish Religious Cross Pendant and Chain       1\n",
       "Sterling silver chandelier earrings, 'Floral Spheres'                                                 1\n",
       "16 14k Yellow Gold Multi Jade Barrle Link Necklace With Green Jade Dragon                             1\n",
       "14k White Gold Cabachon Blue Chalcedony (10x10mm) Ring, Size 6                                        1\n",
       "14k Yellow Gold 2004 Cap and Tassel Charm                                                             1\n",
       "Women's Sheer Moderate Support Pantyhose                                                              1\n",
       "Traveler Pinpoint Solid Spread Collar Dress Shirt Big or Tall (TAN, 20 36 TALL)                       1\n",
       "Eastbay Men's Lined Elastic Pant ( sz. M, Black )                                                     1\n",
       "Heart-Shaped Genuine Onyx Cubic Zirconia Accent 14k Yellow Gold-Plated Stud Earrings                  1\n",
       "18k Yellow Gold 2.5mm Comfort Fit Milgrain Plain Wedding Band, Size 5                                 1\n",
       "Bockle&reg; New York Leatherjeans Men Pants Leather Jeans New                                         1\n",
       "Fantasie of England Molded Strapless Bra (32D Black)                                                  1\n",
       "PalmBeach Jewelry 18k Gold over Sterling Silver 3-Piece Jade &amp; Onyx Pendant Set                   1\n",
       "Sidi Winter Freeze 3 LORICA Road Bike Shoe (44)                                                       1\n",
       "Derek Alexander Leather Alternatives NorthSouth OrganizerTravel Bag - Black and Brandy                1\n",
       "Name: title, Length: 2864, dtype: int64"
      ]
     },
     "execution_count": 12,
     "metadata": {},
     "output_type": "execute_result"
    }
   ],
   "source": [
    "df.title.value_counts()"
   ]
  },
  {
   "cell_type": "code",
   "execution_count": 13,
   "metadata": {},
   "outputs": [
    {
     "data": {
      "text/plain": [
       "[[Clothing, Shoes & Jewelry, Men, Clothing, Jeans], [Clothing, Shoes & Jewelry, Men, Big & Tall, Jeans]]                                                                                                                                                                                                                                                                                                                                         4344\n",
       "[[Clothing, Shoes & Jewelry, C, Converse], [Clothing, Shoes & Jewelry, Men], [Clothing, Shoes & Jewelry, Baby, Baby Girls], [Clothing, Shoes & Jewelry, Baby, Baby Boys], [Clothing, Shoes & Jewelry, Novelty, Costumes & More, Work Wear & Uniforms]]                                                                                                                                                                                           1311\n",
       "[[Clothing, Shoes & Jewelry, C, Converse], [Clothing, Shoes & Jewelry, Street, Surf & Skate], [Clothing, Shoes & Jewelry, Men, Shoes, Fashion Sneakers], [Clothing, Shoes & Jewelry, Novelty, Costumes & More, Work Wear & Uniforms]]                                                                                                                                                                                                            1224\n",
       "[[Clothing, Shoes & Jewelry, Women, Clothing, Lingerie, Sleep & Lounge, Intimates, Bras, Everyday Bras], [Clothing, Shoes & Jewelry, Women, Petite, Intimates, Bras, Everyday Bras], [Clothing, Shoes & Jewelry, Women, Plus-Size]]                                                                                                                                                                                                              1036\n",
       "[[Clothing, Shoes & Jewelry, Shoes & Accessories: International Shipping Available], [Clothing, Shoes & Jewelry, M, Merrell], [Clothing, Shoes & Jewelry, Men, Shoes, Outdoor]]                                                                                                                                                                                                                                                                   950\n",
       "[[Clothing, Shoes & Jewelry, Shoes & Accessories: International Shipping Available], [Clothing, Shoes & Jewelry, R, Rockport], [Clothing, Shoes & Jewelry, Comfort Shoes], [Clothing, Shoes & Jewelry, Men, Shoes, Athletic, Walking]]                                                                                                                                                                                                            928\n",
       "[[Clothing, Shoes & Jewelry, C, Carhartt], [Clothing, Shoes & Jewelry, Novelty, Costumes & More, Work Wear & Uniforms, Clothing, Work Utility & Safety, Men, Tops], [Clothing, Shoes & Jewelry, Novelty, Costumes & More, Band & Music Fan, T-Shirts]]                                                                                                                                                                                            916\n",
       "[[Clothing, Shoes & Jewelry, D, Dickies], [Clothing, Shoes & Jewelry, Novelty, Costumes & More, Work Wear & Uniforms, Clothing, Work Utility & Safety, Men, Pants]]                                                                                                                                                                                                                                                                               817\n",
       "[[Clothing, Shoes & Jewelry, Shoes & Accessories: International Shipping Available], [Clothing, Shoes & Jewelry, K, Keen], [Clothing, Shoes & Jewelry, Comfort Shoes], [Clothing, Shoes & Jewelry, Women, Shoes, Sandals], [Clothing, Shoes & Jewelry, Women, Shoes, Athletic, Sport Sandals]]                                                                                                                                                    815\n",
       "[[Clothing, Shoes & Jewelry, Novelty, Costumes & More, Costumes & Accessories]]                                                                                                                                                                                                                                                                                                                                                                   763\n",
       "[[Clothing, Shoes & Jewelry, Men, Watches, Wrist Watches]]                                                                                                                                                                                                                                                                                                                                                                                        688\n",
       "[[Clothing, Shoes & Jewelry, Jewelry: International Shipping Available], [Clothing, Shoes & Jewelry, Fashion Watches], [Clothing, Shoes & Jewelry, Available for International Shipping], [Clothing, Shoes & Jewelry, Skagen Watches], [Clothing, Shoes & Jewelry, Men, Watches, Wrist Watches]]                                                                                                                                                  665\n",
       "[[Clothing, Shoes & Jewelry, Gifts, Jewelry, Gifts for Women, Gold Jewelry], [Clothing, Shoes & Jewelry, Jewelry: International Shipping Available], [Clothing, Shoes & Jewelry, Plain Gold Jewelry], [Clothing, Shoes & Jewelry, Amazon Curated Collection], [Clothing, Shoes & Jewelry, Women, Jewelry, Fine, Earrings, Hoop], [Clothing, Shoes & Jewelry, Novelty, Costumes & More, Novelty], [Clothing, Shoes & Jewelry, Test Women AAQ]]     619\n",
       "[[Clothing, Shoes & Jewelry, Women, Clothing, Socks & Hosiery, Hosiery], [Clothing, Shoes & Jewelry, Women, Petite, Socks & Hosiery, Hosiery]]                                                                                                                                                                                                                                                                                                    598\n",
       "[[Clothing, Shoes & Jewelry, Gifts], [Clothing, Shoes & Jewelry, Jewelry: International Shipping Available], [Clothing, Shoes & Jewelry, Fashion Watches], [Clothing, Shoes & Jewelry, Watch Gifts], [Clothing, Shoes & Jewelry, Available for International Shipping], [Clothing, Shoes & Jewelry, Skagen Watches], [Clothing, Shoes & Jewelry, Men, Watches, Wrist Watches]]                                                                    598\n",
       "[[Clothing, Shoes & Jewelry, C, Carhartt], [Clothing, Shoes & Jewelry, Men, Clothing, Jeans], [Clothing, Shoes & Jewelry, Men, Big & Tall]]                                                                                                                                                                                                                                                                                                       589\n",
       "[[Clothing, Shoes & Jewelry, Jewelry: International Shipping Available], [Clothing, Shoes & Jewelry, Plain Gold Jewelry], [Clothing, Shoes & Jewelry, Amazon Curated Collection], [Clothing, Shoes & Jewelry, Women, Jewelry, Fine, Earrings, Ball], [Clothing, Shoes & Jewelry, Novelty, Costumes & More, Novelty]]                                                                                                                              562\n",
       "[[Clothing, Shoes & Jewelry, Novelty, Costumes & More, Novelty, Clothing, Women, Underwear, Bras]]                                                                                                                                                                                                                                                                                                                                                539\n",
       "[[Clothing, Shoes & Jewelry, Women, Clothing, Lingerie, Sleep & Lounge, Intimates, Bras, Minimizers], [Clothing, Shoes & Jewelry, Women, Petite, Intimates, Bras, Minimizers], [Clothing, Shoes & Jewelry, Women, Plus-Size, Intimates, Bras, Everyday Bras], [Clothing, Shoes & Jewelry, Women, Plus-Size, Intimates, Bras, Minimizers]]                                                                                                         539\n",
       "[[Clothing, Shoes & Jewelry, Luggage & Travel Gear, Travel Accessories, Travel Wallets]]                                                                                                                                                                                                                                                                                                                                                          495\n",
       "[[Clothing, Shoes & Jewelry, C, Carhartt], [Clothing, Shoes & Jewelry, Men, Clothing], [Clothing, Shoes & Jewelry, Men, Big & Tall], [Clothing, Shoes & Jewelry, Novelty, Costumes & More, Work Wear & Uniforms, Clothing, Work Utility & Safety, Men, Overalls & Coveralls]]                                                                                                                                                                     491\n",
       "[[Clothing, Shoes & Jewelry, Women, Accessories, Wallets, Card Cases & Money Organizers, Wallets]]                                                                                                                                                                                                                                                                                                                                                424\n",
       "[[Clothing, Shoes & Jewelry, Novelty, Costumes & More, Costumes & Accessories, Costumes, Kids & Baby, Boys]]                                                                                                                                                                                                                                                                                                                                      415\n",
       "[[Clothing, Shoes & Jewelry, Women, Clothing, Lingerie, Sleep & Lounge, Intimates, Bras, Everyday Bras], [Clothing, Shoes & Jewelry, Women, Plus-Size, Intimates, Bras, Everyday Bras]]                                                                                                                                                                                                                                                           411\n",
       "[[Clothing, Shoes & Jewelry, Gifts, Jewelry, Gifts for Women, Gold Jewelry], [Clothing, Shoes & Jewelry, Jewelry: International Shipping Available], [Clothing, Shoes & Jewelry, Plain Gold Jewelry], [Clothing, Shoes & Jewelry, Amazon Curated Collection], [Clothing, Shoes & Jewelry, Women, Jewelry, Fine, Earrings, Hoop], [Clothing, Shoes & Jewelry, Novelty, Costumes & More, Novelty]]                                                  394\n",
       "[[Clothing, Shoes & Jewelry, Women, Clothing, Lingerie, Sleep & Lounge, Intimates, Bras, Everyday Bras], [Clothing, Shoes & Jewelry, Women, Plus-Size]]                                                                                                                                                                                                                                                                                           388\n",
       "[[Clothing, Shoes & Jewelry, K, Keen], [Clothing, Shoes & Jewelry, Comfort Shoes], [Clothing, Shoes & Jewelry, Men, Shoes, Sandals], [Clothing, Shoes & Jewelry, Men, Shoes, Athletic, Sport Sandals]]                                                                                                                                                                                                                                            379\n",
       "[[Clothing, Shoes & Jewelry, Luggage & Travel Gear, Luggage]]                                                                                                                                                                                                                                                                                                                                                                                     367\n",
       "[[Clothing, Shoes & Jewelry, C, Carhartt], [Clothing, Shoes & Jewelry, Men, Clothing, Pants, Casual], [Clothing, Shoes & Jewelry, Novelty, Costumes & More, Work Wear & Uniforms, Clothing, Work Utility & Safety, Men, Pants]]                                                                                                                                                                                                                   352\n",
       "[[Clothing, Shoes & Jewelry, Gifts], [Clothing, Shoes & Jewelry, Jewelry: International Shipping Available], [Clothing, Shoes & Jewelry, Kids' Watches, Girls], [Clothing, Shoes & Jewelry, Watch Gifts], [Clothing, Shoes & Jewelry, Available for International Shipping], [Clothing, Shoes & Jewelry, Timex], [Clothing, Shoes & Jewelry, Girls, Watches, Wrist Watches], [Clothing, Shoes & Jewelry, Boys]]                                   348\n",
       "                                                                                                                                                                                                                                                                                                                                                                                                                                                 ... \n",
       "[[Clothing, Shoes & Jewelry, H, Hush Puppies], [Clothing, Shoes & Jewelry, Women, Shoes, Sandals]]                                                                                                                                                                                                                                                                                                                                                  1\n",
       "[[Clothing, Shoes & Jewelry, adidas], [Clothing, Shoes & Jewelry, Women, Shoes, Sandals]]                                                                                                                                                                                                                                                                                                                                                           1\n",
       "[[CDs & Vinyl, Classical, Chamber Music], [CDs & Vinyl, Classical, Forms & Genres, Sonatas, Sonatinas], [Clothing, Shoes & Jewelry, Novelty, Costumes & More, Jewelry Accessories]]                                                                                                                                                                                                                                                                 1\n",
       "[[Clothing, Shoes & Jewelry, Cameos], [Clothing, Shoes & Jewelry, Novelty, Costumes & More, Novelty, Jewelry, Bracelets]]                                                                                                                                                                                                                                                                                                                           1\n",
       "[[Clothing, Shoes & Jewelry, Men, Clothing], [Clothing, Shoes & Jewelry, Men, Accessories, Neckties], [Clothing, Shoes & Jewelry, Novelty, Costumes & More, Band & Music Fan, Accessories]]                                                                                                                                                                                                                                                         1\n",
       "[[Clothing, Shoes & Jewelry, Men, Jewelry, Tie Clips], [Clothing, Shoes & Jewelry, Novelty, Costumes & More, Novelty], [Clothing, Shoes & Jewelry, Novelty, Costumes & More, Band & Music Fan, Accessories]]                                                                                                                                                                                                                                        1\n",
       "[[Clothing, Shoes & Jewelry, F, FOSSIL], [Clothing, Shoes & Jewelry, Women, Accessories, Wallets, Card Cases & Money Organizers, Wallets]]                                                                                                                                                                                                                                                                                                          1\n",
       "[[Clothing, Shoes & Jewelry, Antique & Estate Jewelry, Contemporary, Necklaces & Pendants], [Clothing, Shoes & Jewelry, Novelty, Costumes & More, Novelty, Jewelry, Necklaces & Pendants]]                                                                                                                                                                                                                                                          1\n",
       "[[Clothing, Shoes & Jewelry, R, Reebok]]                                                                                                                                                                                                                                                                                                                                                                                                            1\n",
       "[[Clothing, Shoes & Jewelry, Women, Clothing, Lingerie, Sleep & Lounge, Intimates, Camisoles & Tanks], [Clothing, Shoes & Jewelry, Women, Petite, Intimates, Camisoles & Tanks], [Clothing, Shoes & Jewelry, Women's Luxury Brands]]                                                                                                                                                                                                                1\n",
       "[[Clothing, Shoes & Jewelry, Women, Clothing, Lingerie, Sleep & Lounge, Intimates, Shapewear, Thigh Slimmers], [Clothing, Shoes & Jewelry, Women, Petite, Intimates, Shapewear, Thigh Slimmers]]                                                                                                                                                                                                                                                    1\n",
       "[[Clothing, Shoes & Jewelry, Women, Clothing, Lingerie, Sleep & Lounge, Intimates, Shapewear, Control Panties], [Clothing, Shoes & Jewelry, Women, Petite, Intimates, Shapewear, Control Panties]]                                                                                                                                                                                                                                                  1\n",
       "[[Clothing, Shoes & Jewelry, Jewelry Outlet], [Clothing, Shoes & Jewelry, Novelty, Costumes & More, Novelty, Jewelry, Rings, Statement]]                                                                                                                                                                                                                                                                                                            1\n",
       "[[Clothing, Shoes & Jewelry, Novelty, Costumes & More, Novelty, Clothing, Men, Hoodies], [Clothing, Shoes & Jewelry, Novelty, Costumes & More, Exotic Apparel, Men]]                                                                                                                                                                                                                                                                                1\n",
       "[[Clothing, Shoes & Jewelry, Men, Jewelry, Tie Clips], [Clothing, Shoes & Jewelry, Novelty, Costumes & More, Novelty, Jewelry]]                                                                                                                                                                                                                                                                                                                     1\n",
       "[[Clothing, Shoes & Jewelry, Jewelry: International Shipping Available], [Clothing, Shoes & Jewelry, Last Chance Savings], [Clothing, Shoes & Jewelry, Amazon Curated Collection], [Clothing, Shoes & Jewelry, Women], [Clothing, Shoes & Jewelry, Men], [Clothing, Shoes & Jewelry, Novelty, Costumes & More, Novelty]]                                                                                                                            1\n",
       "[[Clothing, Shoes & Jewelry, M, Montrail]]                                                                                                                                                                                                                                                                                                                                                                                                          1\n",
       "[[Clothing, Shoes & Jewelry, Women, Clothing, Lingerie, Sleep & Lounge, Intimates, Shapewear], [Clothing, Shoes & Jewelry, Women, Petite, Intimates, Shapewear, Waist Cinchers], [Clothing, Shoes & Jewelry, Women, Plus-Size, Intimates, Shapewear, Waist Cinchers]]                                                                                                                                                                               1\n",
       "[[Clothing, Shoes & Jewelry, Women, Petite, Active, Active Shorts]]                                                                                                                                                                                                                                                                                                                                                                                 1\n",
       "[[Clothing, Shoes & Jewelry, Women, Accessories, Sunglasses & Eyewear Accessories, Eyeglass Chains]]                                                                                                                                                                                                                                                                                                                                                1\n",
       "[[Clothing, Shoes & Jewelry, Women, Clothing, Lingerie, Sleep & Lounge, Intimates, Bras, Minimizers], [Clothing, Shoes & Jewelry, Women, Plus-Size, Intimates, Bras, Everyday Bras], [Clothing, Shoes & Jewelry, Women, Plus-Size, Intimates, Bras, Minimizers]]                                                                                                                                                                                    1\n",
       "[[Sports & Outdoors, Fan Shop, Jewelry & Watches, Charms], [Sports & Outdoors, Fan Shop, Jewelry & Watches, Necklaces & Pendants], [Clothing, Shoes & Jewelry, Novelty, Costumes & More, Novelty, Jewelry, Charms]]                                                                                                                                                                                                                                 1\n",
       "[[Sports & Outdoors, Clothing, Women, Pants], [Clothing, Shoes & Jewelry, Women, Clothing, Active, Active Pants]]                                                                                                                                                                                                                                                                                                                                   1\n",
       "[[Sports & Outdoors, Fan Shop, Jewelry & Watches, Rings], [Clothing, Shoes & Jewelry, Men], [Clothing, Shoes & Jewelry, Novelty, Costumes & More, Novelty]]                                                                                                                                                                                                                                                                                         1\n",
       "[[Clothing, Shoes & Jewelry, Women, Clothing, Lingerie, Sleep & Lounge], [Clothing, Shoes & Jewelry, Women, Petite]]                                                                                                                                                                                                                                                                                                                                1\n",
       "[[Clothing, Shoes & Jewelry, adidas], [Clothing, Shoes & Jewelry, Men, Shoes, Sandals]]                                                                                                                                                                                                                                                                                                                                                             1\n",
       "[[Sports & Outdoors, Fan Shop, Jewelry & Watches, Necklaces & Pendants], [Clothing, Shoes & Jewelry, Novelty, Costumes & More, Novelty, Jewelry, Necklaces & Pendants]]                                                                                                                                                                                                                                                                             1\n",
       "[[Clothing, Shoes & Jewelry, B, Birkenstock], [Clothing, Shoes & Jewelry, Comfort Shoes], [Clothing, Shoes & Jewelry, Men, Shoes, Sandals]]                                                                                                                                                                                                                                                                                                         1\n",
       "[[Clothing, Shoes & Jewelry, C, Calvin Klein], [Clothing, Shoes & Jewelry, Men, Clothing, Underwear, G-Strings & Thongs]]                                                                                                                                                                                                                                                                                                                           1\n",
       "[[Clothing, Shoes & Jewelry, Jewelry: International Shipping Available], [Clothing, Shoes & Jewelry, Heart-Shaped Jewelry], [Clothing, Shoes & Jewelry, Last Chance Savings], [Clothing, Shoes & Jewelry, Amazon Curated Collection], [Clothing, Shoes & Jewelry, Women], [Clothing, Shoes & Jewelry, Novelty, Costumes & More, Novelty, Jewelry, Earrings]]                                                                                        1\n",
       "Name: categories, Length: 1046, dtype: int64"
      ]
     },
     "execution_count": 13,
     "metadata": {},
     "output_type": "execute_result"
    }
   ],
   "source": [
    "df.categories.value_counts()"
   ]
  },
  {
   "cell_type": "code",
   "execution_count": 14,
   "metadata": {},
   "outputs": [
    {
     "data": {
      "text/plain": [
       "(322, 6)"
      ]
     },
     "execution_count": 14,
     "metadata": {},
     "output_type": "execute_result"
    }
   ],
   "source": [
    "df[df.title==''].shape"
   ]
  },
  {
   "cell_type": "code",
   "execution_count": 15,
   "metadata": {},
   "outputs": [],
   "source": [
    "df.to_csv('/home/gpu1/work_space/disk3_work_space3/CRM_Topic_models/input/amazon_cloth_shoe_watches_reviews_with_title.csv',index=False)"
   ]
  },
  {
   "cell_type": "code",
   "execution_count": 5,
   "metadata": {},
   "outputs": [
    {
     "data": {
      "text/plain": [
       "{'asin': '1397458135',\n",
       " 'description': 'Watch Case Size: Approx 4.80cm\\nWatch Case Material: Alloy\\nWatch Dial Color: White\\nChain Material: Alloy\\nChain Color: Bronze\\nDaily Water Resistant (not for swimming or showering): Yes\\n (2.54cm=1.00inch)',\n",
       " 'title': 'New Smart Steampunk Globle Motorcycle Carving Retro Brass Case Men Pocket Watch',\n",
       " 'price': 19.9,\n",
       " 'imUrl': 'http://ecx.images-amazon.com/images/I/51qbcJnsnWL._SY300_.jpg',\n",
       " 'related': {'buy_after_viewing': ['B0076LM0KO']},\n",
       " 'categories': [['Clothing, Shoes & Jewelry',\n",
       "   'Men',\n",
       "   'Watches',\n",
       "   'Pocket Watches']]}"
      ]
     },
     "execution_count": 5,
     "metadata": {},
     "output_type": "execute_result"
    }
   ],
   "source": [
    "s=json_data = ast.literal_eval(f2[25])\n",
    "(s)"
   ]
  },
  {
   "cell_type": "code",
   "execution_count": 6,
   "metadata": {},
   "outputs": [
    {
     "data": {
      "text/plain": [
       "{'reviewerID': 'A1KLRMWW2FWPL4',\n",
       " 'asin': '0000031887',\n",
       " 'reviewerName': 'Amazon Customer \"cameramom\"',\n",
       " 'helpful': [0, 0],\n",
       " 'reviewText': \"This is a great tutu and at a really great price. It doesn't look cheap at all. I'm so glad I looked on Amazon and found such an affordable tutu that isn't made poorly. A++\",\n",
       " 'overall': 5.0,\n",
       " 'summary': 'Great tutu-  not cheaply made',\n",
       " 'unixReviewTime': 1297468800,\n",
       " 'reviewTime': '02 12, 2011'}"
      ]
     },
     "execution_count": 6,
     "metadata": {},
     "output_type": "execute_result"
    }
   ],
   "source": [
    "json.loads(f[0])"
   ]
  },
  {
   "cell_type": "code",
   "execution_count": 7,
   "metadata": {},
   "outputs": [
    {
     "data": {
      "text/html": [
       "<div>\n",
       "<style scoped>\n",
       "    .dataframe tbody tr th:only-of-type {\n",
       "        vertical-align: middle;\n",
       "    }\n",
       "\n",
       "    .dataframe tbody tr th {\n",
       "        vertical-align: top;\n",
       "    }\n",
       "\n",
       "    .dataframe thead th {\n",
       "        text-align: right;\n",
       "    }\n",
       "</style>\n",
       "<table border=\"1\" class=\"dataframe\">\n",
       "  <thead>\n",
       "    <tr style=\"text-align: right;\">\n",
       "      <th></th>\n",
       "      <th>comments</th>\n",
       "      <th>rating</th>\n",
       "    </tr>\n",
       "  </thead>\n",
       "  <tbody>\n",
       "    <tr>\n",
       "      <th>0</th>\n",
       "      <td>This is a great tutu and at a really great pri...</td>\n",
       "      <td>5.0</td>\n",
       "    </tr>\n",
       "    <tr>\n",
       "      <th>0</th>\n",
       "      <td>I bought this for my 4 yr old daughter for dan...</td>\n",
       "      <td>5.0</td>\n",
       "    </tr>\n",
       "    <tr>\n",
       "      <th>0</th>\n",
       "      <td>What can I say... my daughters have it in oran...</td>\n",
       "      <td>5.0</td>\n",
       "    </tr>\n",
       "    <tr>\n",
       "      <th>0</th>\n",
       "      <td>We bought several tutus at once, and they are ...</td>\n",
       "      <td>5.0</td>\n",
       "    </tr>\n",
       "    <tr>\n",
       "      <th>0</th>\n",
       "      <td>Thank you Halo Heaven great product for Little...</td>\n",
       "      <td>5.0</td>\n",
       "    </tr>\n",
       "  </tbody>\n",
       "</table>\n",
       "</div>"
      ],
      "text/plain": [
       "                                            comments  rating\n",
       "0  This is a great tutu and at a really great pri...     5.0\n",
       "0  I bought this for my 4 yr old daughter for dan...     5.0\n",
       "0  What can I say... my daughters have it in oran...     5.0\n",
       "0  We bought several tutus at once, and they are ...     5.0\n",
       "0  Thank you Halo Heaven great product for Little...     5.0"
      ]
     },
     "execution_count": 7,
     "metadata": {},
     "output_type": "execute_result"
    }
   ],
   "source": [
    "df.head()"
   ]
  },
  {
   "cell_type": "code",
   "execution_count": 49,
   "metadata": {},
   "outputs": [],
   "source": [
    "df.to_csv('/home/gpu1/work_space/disk3_work_space3/CRM_Topic_models/input/amazone_cloth_show_jwell_review.csv',index = False)"
   ]
  },
  {
   "cell_type": "code",
   "execution_count": 52,
   "metadata": {},
   "outputs": [
    {
     "data": {
      "text/plain": [
       "comments     object\n",
       "rating      float64\n",
       "dtype: object"
      ]
     },
     "execution_count": 52,
     "metadata": {},
     "output_type": "execute_result"
    }
   ],
   "source": [
    "df1 = pd.read_csv('/home/gpu1/work_space/disk3_work_space3/CRM_Topic_models/input/amazone_cloth_show_jwell_review.csv')\n",
    "df1.dtypes"
   ]
  },
  {
   "cell_type": "markdown",
   "metadata": {},
   "source": [
    "## new amazon dataset"
   ]
  },
  {
   "cell_type": "code",
   "execution_count": 2,
   "metadata": {},
   "outputs": [
    {
     "data": {
      "text/html": [
       "<div>\n",
       "<style scoped>\n",
       "    .dataframe tbody tr th:only-of-type {\n",
       "        vertical-align: middle;\n",
       "    }\n",
       "\n",
       "    .dataframe tbody tr th {\n",
       "        vertical-align: top;\n",
       "    }\n",
       "\n",
       "    .dataframe thead th {\n",
       "        text-align: right;\n",
       "    }\n",
       "</style>\n",
       "<table border=\"1\" class=\"dataframe\">\n",
       "  <thead>\n",
       "    <tr style=\"text-align: right;\">\n",
       "      <th></th>\n",
       "      <th>id</th>\n",
       "      <th>dateAdded</th>\n",
       "      <th>dateUpdated</th>\n",
       "      <th>name</th>\n",
       "      <th>asins</th>\n",
       "      <th>brand</th>\n",
       "      <th>categories</th>\n",
       "      <th>primaryCategories</th>\n",
       "      <th>imageURLs</th>\n",
       "      <th>keys</th>\n",
       "      <th>...</th>\n",
       "      <th>reviews.dateSeen</th>\n",
       "      <th>reviews.doRecommend</th>\n",
       "      <th>reviews.id</th>\n",
       "      <th>reviews.numHelpful</th>\n",
       "      <th>reviews.rating</th>\n",
       "      <th>reviews.sourceURLs</th>\n",
       "      <th>reviews.text</th>\n",
       "      <th>reviews.title</th>\n",
       "      <th>reviews.username</th>\n",
       "      <th>sourceURLs</th>\n",
       "    </tr>\n",
       "  </thead>\n",
       "  <tbody>\n",
       "    <tr>\n",
       "      <th>0</th>\n",
       "      <td>AVqVGZNvQMlgsOJE6eUY</td>\n",
       "      <td>2017-03-03T16:56:05Z</td>\n",
       "      <td>2018-10-25T16:36:31Z</td>\n",
       "      <td>Amazon Kindle E-Reader 6\" Wifi (8th Generation...</td>\n",
       "      <td>B00ZV9PXP2</td>\n",
       "      <td>Amazon</td>\n",
       "      <td>Computers,Electronics Features,Tablets,Electro...</td>\n",
       "      <td>Electronics</td>\n",
       "      <td>https://pisces.bbystatic.com/image2/BestBuy_US...</td>\n",
       "      <td>allnewkindleereaderblack6glarefreetouchscreend...</td>\n",
       "      <td>...</td>\n",
       "      <td>2018-05-27T00:00:00Z,2017-09-18T00:00:00Z,2017...</td>\n",
       "      <td>False</td>\n",
       "      <td>NaN</td>\n",
       "      <td>0</td>\n",
       "      <td>3</td>\n",
       "      <td>http://reviews.bestbuy.com/3545/5442403/review...</td>\n",
       "      <td>I thought it would be as big as small paper bu...</td>\n",
       "      <td>Too small</td>\n",
       "      <td>llyyue</td>\n",
       "      <td>https://www.newegg.com/Product/Product.aspx%25...</td>\n",
       "    </tr>\n",
       "    <tr>\n",
       "      <th>1</th>\n",
       "      <td>AVqVGZNvQMlgsOJE6eUY</td>\n",
       "      <td>2017-03-03T16:56:05Z</td>\n",
       "      <td>2018-10-25T16:36:31Z</td>\n",
       "      <td>Amazon Kindle E-Reader 6\" Wifi (8th Generation...</td>\n",
       "      <td>B00ZV9PXP2</td>\n",
       "      <td>Amazon</td>\n",
       "      <td>Computers,Electronics Features,Tablets,Electro...</td>\n",
       "      <td>Electronics</td>\n",
       "      <td>https://pisces.bbystatic.com/image2/BestBuy_US...</td>\n",
       "      <td>allnewkindleereaderblack6glarefreetouchscreend...</td>\n",
       "      <td>...</td>\n",
       "      <td>2018-05-27T00:00:00Z,2017-07-07T00:00:00Z,2017...</td>\n",
       "      <td>True</td>\n",
       "      <td>NaN</td>\n",
       "      <td>0</td>\n",
       "      <td>5</td>\n",
       "      <td>http://reviews.bestbuy.com/3545/5442403/review...</td>\n",
       "      <td>This kindle is light and easy to use especiall...</td>\n",
       "      <td>Great light reader. Easy to use at the beach</td>\n",
       "      <td>Charmi</td>\n",
       "      <td>https://www.newegg.com/Product/Product.aspx%25...</td>\n",
       "    </tr>\n",
       "    <tr>\n",
       "      <th>2</th>\n",
       "      <td>AVqVGZNvQMlgsOJE6eUY</td>\n",
       "      <td>2017-03-03T16:56:05Z</td>\n",
       "      <td>2018-10-25T16:36:31Z</td>\n",
       "      <td>Amazon Kindle E-Reader 6\" Wifi (8th Generation...</td>\n",
       "      <td>B00ZV9PXP2</td>\n",
       "      <td>Amazon</td>\n",
       "      <td>Computers,Electronics Features,Tablets,Electro...</td>\n",
       "      <td>Electronics</td>\n",
       "      <td>https://pisces.bbystatic.com/image2/BestBuy_US...</td>\n",
       "      <td>allnewkindleereaderblack6glarefreetouchscreend...</td>\n",
       "      <td>...</td>\n",
       "      <td>2018-05-27T00:00:00Z</td>\n",
       "      <td>True</td>\n",
       "      <td>NaN</td>\n",
       "      <td>0</td>\n",
       "      <td>4</td>\n",
       "      <td>https://reviews.bestbuy.com/3545/5442403/revie...</td>\n",
       "      <td>Didnt know how much i'd use a kindle so went f...</td>\n",
       "      <td>Great for the price</td>\n",
       "      <td>johnnyjojojo</td>\n",
       "      <td>https://www.newegg.com/Product/Product.aspx%25...</td>\n",
       "    </tr>\n",
       "    <tr>\n",
       "      <th>3</th>\n",
       "      <td>AVqVGZNvQMlgsOJE6eUY</td>\n",
       "      <td>2017-03-03T16:56:05Z</td>\n",
       "      <td>2018-10-25T16:36:31Z</td>\n",
       "      <td>Amazon Kindle E-Reader 6\" Wifi (8th Generation...</td>\n",
       "      <td>B00ZV9PXP2</td>\n",
       "      <td>Amazon</td>\n",
       "      <td>Computers,Electronics Features,Tablets,Electro...</td>\n",
       "      <td>Electronics</td>\n",
       "      <td>https://pisces.bbystatic.com/image2/BestBuy_US...</td>\n",
       "      <td>allnewkindleereaderblack6glarefreetouchscreend...</td>\n",
       "      <td>...</td>\n",
       "      <td>2018-10-09T00:00:00Z</td>\n",
       "      <td>True</td>\n",
       "      <td>177283626.0</td>\n",
       "      <td>3</td>\n",
       "      <td>5</td>\n",
       "      <td>https://redsky.target.com/groot-domain-api/v1/...</td>\n",
       "      <td>I am 100 happy with my purchase. I caught it o...</td>\n",
       "      <td>A Great Buy</td>\n",
       "      <td>Kdperry</td>\n",
       "      <td>https://www.newegg.com/Product/Product.aspx%25...</td>\n",
       "    </tr>\n",
       "    <tr>\n",
       "      <th>4</th>\n",
       "      <td>AVqVGZNvQMlgsOJE6eUY</td>\n",
       "      <td>2017-03-03T16:56:05Z</td>\n",
       "      <td>2018-10-25T16:36:31Z</td>\n",
       "      <td>Amazon Kindle E-Reader 6\" Wifi (8th Generation...</td>\n",
       "      <td>B00ZV9PXP2</td>\n",
       "      <td>Amazon</td>\n",
       "      <td>Computers,Electronics Features,Tablets,Electro...</td>\n",
       "      <td>Electronics</td>\n",
       "      <td>https://pisces.bbystatic.com/image2/BestBuy_US...</td>\n",
       "      <td>allnewkindleereaderblack6glarefreetouchscreend...</td>\n",
       "      <td>...</td>\n",
       "      <td>2018-05-27T00:00:00Z</td>\n",
       "      <td>True</td>\n",
       "      <td>NaN</td>\n",
       "      <td>0</td>\n",
       "      <td>5</td>\n",
       "      <td>https://reviews.bestbuy.com/3545/5442403/revie...</td>\n",
       "      <td>Solid entry level Kindle. Great for kids. Gift...</td>\n",
       "      <td>Solid entry-level Kindle. Great for kids</td>\n",
       "      <td>Johnnyblack</td>\n",
       "      <td>https://www.newegg.com/Product/Product.aspx%25...</td>\n",
       "    </tr>\n",
       "  </tbody>\n",
       "</table>\n",
       "<p>5 rows × 24 columns</p>\n",
       "</div>"
      ],
      "text/plain": [
       "                     id             dateAdded           dateUpdated  \\\n",
       "0  AVqVGZNvQMlgsOJE6eUY  2017-03-03T16:56:05Z  2018-10-25T16:36:31Z   \n",
       "1  AVqVGZNvQMlgsOJE6eUY  2017-03-03T16:56:05Z  2018-10-25T16:36:31Z   \n",
       "2  AVqVGZNvQMlgsOJE6eUY  2017-03-03T16:56:05Z  2018-10-25T16:36:31Z   \n",
       "3  AVqVGZNvQMlgsOJE6eUY  2017-03-03T16:56:05Z  2018-10-25T16:36:31Z   \n",
       "4  AVqVGZNvQMlgsOJE6eUY  2017-03-03T16:56:05Z  2018-10-25T16:36:31Z   \n",
       "\n",
       "                                                name       asins   brand  \\\n",
       "0  Amazon Kindle E-Reader 6\" Wifi (8th Generation...  B00ZV9PXP2  Amazon   \n",
       "1  Amazon Kindle E-Reader 6\" Wifi (8th Generation...  B00ZV9PXP2  Amazon   \n",
       "2  Amazon Kindle E-Reader 6\" Wifi (8th Generation...  B00ZV9PXP2  Amazon   \n",
       "3  Amazon Kindle E-Reader 6\" Wifi (8th Generation...  B00ZV9PXP2  Amazon   \n",
       "4  Amazon Kindle E-Reader 6\" Wifi (8th Generation...  B00ZV9PXP2  Amazon   \n",
       "\n",
       "                                          categories primaryCategories  \\\n",
       "0  Computers,Electronics Features,Tablets,Electro...       Electronics   \n",
       "1  Computers,Electronics Features,Tablets,Electro...       Electronics   \n",
       "2  Computers,Electronics Features,Tablets,Electro...       Electronics   \n",
       "3  Computers,Electronics Features,Tablets,Electro...       Electronics   \n",
       "4  Computers,Electronics Features,Tablets,Electro...       Electronics   \n",
       "\n",
       "                                           imageURLs  \\\n",
       "0  https://pisces.bbystatic.com/image2/BestBuy_US...   \n",
       "1  https://pisces.bbystatic.com/image2/BestBuy_US...   \n",
       "2  https://pisces.bbystatic.com/image2/BestBuy_US...   \n",
       "3  https://pisces.bbystatic.com/image2/BestBuy_US...   \n",
       "4  https://pisces.bbystatic.com/image2/BestBuy_US...   \n",
       "\n",
       "                                                keys  ...  \\\n",
       "0  allnewkindleereaderblack6glarefreetouchscreend...  ...   \n",
       "1  allnewkindleereaderblack6glarefreetouchscreend...  ...   \n",
       "2  allnewkindleereaderblack6glarefreetouchscreend...  ...   \n",
       "3  allnewkindleereaderblack6glarefreetouchscreend...  ...   \n",
       "4  allnewkindleereaderblack6glarefreetouchscreend...  ...   \n",
       "\n",
       "                                    reviews.dateSeen reviews.doRecommend  \\\n",
       "0  2018-05-27T00:00:00Z,2017-09-18T00:00:00Z,2017...               False   \n",
       "1  2018-05-27T00:00:00Z,2017-07-07T00:00:00Z,2017...                True   \n",
       "2                               2018-05-27T00:00:00Z                True   \n",
       "3                               2018-10-09T00:00:00Z                True   \n",
       "4                               2018-05-27T00:00:00Z                True   \n",
       "\n",
       "    reviews.id reviews.numHelpful reviews.rating  \\\n",
       "0          NaN                  0              3   \n",
       "1          NaN                  0              5   \n",
       "2          NaN                  0              4   \n",
       "3  177283626.0                  3              5   \n",
       "4          NaN                  0              5   \n",
       "\n",
       "                                  reviews.sourceURLs  \\\n",
       "0  http://reviews.bestbuy.com/3545/5442403/review...   \n",
       "1  http://reviews.bestbuy.com/3545/5442403/review...   \n",
       "2  https://reviews.bestbuy.com/3545/5442403/revie...   \n",
       "3  https://redsky.target.com/groot-domain-api/v1/...   \n",
       "4  https://reviews.bestbuy.com/3545/5442403/revie...   \n",
       "\n",
       "                                        reviews.text  \\\n",
       "0  I thought it would be as big as small paper bu...   \n",
       "1  This kindle is light and easy to use especiall...   \n",
       "2  Didnt know how much i'd use a kindle so went f...   \n",
       "3  I am 100 happy with my purchase. I caught it o...   \n",
       "4  Solid entry level Kindle. Great for kids. Gift...   \n",
       "\n",
       "                                  reviews.title  reviews.username  \\\n",
       "0                                     Too small            llyyue   \n",
       "1  Great light reader. Easy to use at the beach            Charmi   \n",
       "2                           Great for the price      johnnyjojojo   \n",
       "3                                   A Great Buy           Kdperry   \n",
       "4      Solid entry-level Kindle. Great for kids       Johnnyblack   \n",
       "\n",
       "                                          sourceURLs  \n",
       "0  https://www.newegg.com/Product/Product.aspx%25...  \n",
       "1  https://www.newegg.com/Product/Product.aspx%25...  \n",
       "2  https://www.newegg.com/Product/Product.aspx%25...  \n",
       "3  https://www.newegg.com/Product/Product.aspx%25...  \n",
       "4  https://www.newegg.com/Product/Product.aspx%25...  \n",
       "\n",
       "[5 rows x 24 columns]"
      ]
     },
     "execution_count": 2,
     "metadata": {},
     "output_type": "execute_result"
    }
   ],
   "source": [
    "df = pd.read_csv('/home/gpu1/work_space/disk3_work_space3/CRM_Topic_models/input/Datafiniti_Amazon_Consumer_Reviews_of_Amazon_Products.csv')\n",
    "df.head()"
   ]
  },
  {
   "cell_type": "code",
   "execution_count": 4,
   "metadata": {
    "scrolled": true
   },
   "outputs": [
    {
     "data": {
      "text/plain": [
       "Amazon Echo Show Alexa-enabled Bluetooth Speaker with 7\" Screen                                                                     845\n",
       "All-New Fire HD 8 Tablet, 8\" HD Display, Wi-Fi, 16 GB - Includes Special Offers, Magenta                                            797\n",
       "Amazon - Echo Plus w/ Built-In Hub - Silver                                                                                         590\n",
       "Fire Kids Edition Tablet, 7 Display, Wi-Fi, 16 GB, Blue Kid-Proof Case                                                              561\n",
       "Brand New Amazon Kindle Fire 16gb 7\" Ips Display Tablet Wifi 16 Gb Blue                                                             467\n",
       "Fire Tablet, 7 Display, Wi-Fi, 16 GB - Includes Special Offers, Black                                                               371\n",
       "Amazon Tap - Alexa-Enabled Portable Bluetooth Speaker                                                                               225\n",
       "Fire Kids Edition Tablet, 7 Display, Wi-Fi, 16 GB, Green Kid-Proof Case                                                             217\n",
       "Kindle E-reader - White, 6 Glare-Free Touchscreen Display, Wi-Fi - Includes Special Offers                                          159\n",
       "Fire HD 10 Tablet, 10.1 HD Display, Wi-Fi, 16 GB - Includes Special Offers, Silver Aluminum                                         106\n",
       "Fire Tablet with Alexa, 7\" Display, 16 GB, Magenta - with Special Offers                                                            101\n",
       "Amazon Kindle E-Reader 6\" Wifi (8th Generation, 2016)                                                                                96\n",
       "Amazon - Kindle Voyage - 6\" - 4GB - Black                                                                                            82\n",
       "All-New Fire HD 8 Tablet, 8 HD Display, Wi-Fi, 32 GB - Includes Special Offers, Blue                                                 70\n",
       "All-New Fire HD 8 Tablet, 8\" HD Display, Wi-Fi, 32 GB - Includes Special Offers, Black                                               58\n",
       "Fire HD 8 Tablet with Alexa, 8\" HD Display, 32 GB, Tangerine - with Special Offers                                                   53\n",
       "All-New Fire HD 8 Tablet, 8 HD Display, Wi-Fi, 16 GB - Includes Special Offers, Blue                                                 51\n",
       "All-New Fire HD 8 Tablet, 8\" HD Display, Wi-Fi, 32 GB - Includes Special Offers, Magenta                                             40\n",
       "Kindle Oasis E-reader with Leather Charging Cover - Black, 6\" High-Resolution Display (300 ppi), Wi-Fi - Includes Special Offers     39\n",
       "Kindle Oasis E-reader with Leather Charging Cover - Merlot, 6 High-Resolution Display (300 ppi), Wi-Fi - Includes Special Offers     24\n",
       "Amazon 9W PowerFast Official OEM USB Charger and Power Adapter for Fire Tablets and Kindle eReaders                                  22\n",
       "Amazon - Kindle Voyage - 4GB - Wi-Fi + 3G - Black                                                                                    22\n",
       "Amazon Fire TV with 4K Ultra HD and Alexa Voice Remote (Pendant Design) | Streaming Media Player                                      4\n",
       "Name: name, dtype: int64"
      ]
     },
     "execution_count": 4,
     "metadata": {},
     "output_type": "execute_result"
    }
   ],
   "source": [
    "df.name.value_counts()"
   ]
  },
  {
   "cell_type": "code",
   "execution_count": 5,
   "metadata": {
    "scrolled": true
   },
   "outputs": [
    {
     "data": {
      "text/plain": [
       "Electronics,iPad & Tablets,All Tablets,Fire Tablets,Tablets,Computers & Tablets                                                                                                                                                                                                                                                                                                                                                                                                                                                                                                                                                                                                                                                                                                                                           797\n",
       "Computers,Amazon Echo,Virtual Assistant Speakers,Audio & Video Components,Electronics Features,Computer Accessories,Home & Tools,See more Amazon Echo Show Smart Assistant - White,Smart Home Automation,Electronics,TVs Entertainment,Speakers,Smart Hub & Kits,Digital Device 3,Consumer Electronics,Wireless Speakers,Home Improvement,Amazon Home,Amazon,Computer Speakers,Voice-Enabled Smart Assistants                                                                                                                                                                                                                                                                                                                                                                                                             650\n",
       "Amazon Echo,Smart Home,Networking,Home & Tools,Home Improvement,Smart Home Automation,Voice Assistants,Amazon Home,Amazon,Smart Hub & Kits,Digital Device 3                                                                                                                                                                                                                                                                                                                                                                                                                                                                                                                                                                                                                                                               590\n",
       "Computers,Fire Tablets,Electronics Features,Computer Accessories,Tablets,Top Rated,Amazon Tablets,Electronics,Kids' Tablets,iPad & Tablets,Cases & Bags,Electronics, Tech Toys, Movies, Music,Computers & Tablets                                                                                                                                                                                                                                                                                                                                                                                                                                                                                                                                                                                                         561\n",
       "Computers/Tablets & Networking,Tablets & eBook Readers,Computers & Tablets,Tablets,All Tablets                                                                                                                                                                                                                                                                                                                                                                                                                                                                                                                                                                                                                                                                                                                            467\n",
       "Fire Tablets,Computers/Tablets & Networking,Tablets,All Tablets,Amazon Tablets,Frys,Computers & Tablets,Tablets & eBook Readers                                                                                                                                                                                                                                                                                                                                                                                                                                                                                                                                                                                                                                                                                           371\n",
       "Fire Tablets,Tablets,All Tablets,Amazon Tablets,Computers & Tablets                                                                                                                                                                                                                                                                                                                                                                                                                                                                                                                                                                                                                                                                                                                                                       287\n",
       "Amazon Echo,Home Theater & Audio,MP3 MP4 Player Accessories,Electronics,Portable Audio,Compact Radios Stereos,Smart Hubs & Wireless Routers,Featured Brands,Smart Home & Connected Living,Home Security,Kindle Store,Electronic Components,Home Automation,Mobile Bluetooth Speakers,Home, Garage & Office,Amazon Tap,Home,Mobile Speakers,TVs & Electronics,Portable Bluetooth Speakers,Bluetooth & Wireless Speakers,Electronics Features,Frys,Speakers,Mobile,Digital Device 3,Smart Home,Home Improvement,Electronics, Tech Toys, Movies, Music,Smart Home & Home Automation Devices,Smart Hubs,MP3 Player Accessories,Home Safety & Security,Voice Assistants,Amazon Home,Alarms & Sensors,Portable Audio & Electronics,Amazon Devices,Audio,Bluetooth Speakers,MP3 Accessories,All Bluetooth & Wireless Speakers    225\n",
       "Amazon Echo,Virtual Assistant Speakers,Electronics Features,Home & Tools,Smart Home Automation,TVs Entertainment,Speakers,Smart Hub & Kits,Digital Device 3,Wireless Speakers,Smart Home,Home Improvement,Voice Assistants,Amazon Home,Amazon                                                                                                                                                                                                                                                                                                                                                                                                                                                                                                                                                                             195\n",
       "Office,eBook Readers,Electronics Features,Walmart for Business,Tablets,Electronics,Amazon Ereaders,Office Electronics,iPad & Tablets,Kindle E-readers,All Tablets,Amazon Book Reader,Computers & Tablets                                                                                                                                                                                                                                                                                                                                                                                                                                                                                                                                                                                                                  159\n",
       "eBook Readers,Fire Tablets,Electronics Features,Tablets,Amazon Tablets,College Ipads & Tablets,Electronics,Electronics Deals,College Electronics,Featured Brands,All Tablets,Computers & Tablets,Back To College,Amazon Devices,Tablets & E-Readers                                                                                                                                                                                                                                                                                                                                                                                                                                                                                                                                                                       106\n",
       "Tablets,Fire Tablets,Electronics,iPad & Tablets,Android Tablets,Computers & Tablets,All Tablets                                                                                                                                                                                                                                                                                                                                                                                                                                                                                                                                                                                                                                                                                                                           101\n",
       "Computers,Electronics Features,Tablets,Electronics,iPad & Tablets,Kindle E-readers,iPad Accessories,Used:Tablets,E-Readers,E-Readers & Accessories,Computers/Tablets & Networking,Used:Computers Accessories,iPads Tablets,All Tablets,Tablets & E-readers,Computers & Tablets,Amazon,Tablets & eBook Readers                                                                                                                                                                                                                                                                                                                                                                                                                                                                                                              96\n",
       "eBook Readers,Electronics Features,Walmart for Business,Tablets,See more Amazon Kindle Voyage (Wi-Fi),Electronics,Office Electronics,iPad & Tablets,Kindle E-readers,E-Readers & Accessories,All Tablets,See more Amazon Kindle Voyage 4GB, Wi-Fi  3G (Unlocked...,Computers & Tablets                                                                                                                                                                                                                                                                                                                                                                                                                                                                                                                                     82\n",
       "Fire Tablets,Tablets,Computers/Tablets & Networking,Other Computers & Networking,Computers & Tablets,All Tablets                                                                                                                                                                                                                                                                                                                                                                                                                                                                                                                                                                                                                                                                                                           58\n",
       "Tablets,Fire Tablets,Computers & Tablets,All Tablets                                                                                                                                                                                                                                                                                                                                                                                                                                                                                                                                                                                                                                                                                                                                                                       53\n",
       "Fire Tablets,Tablets,All Tablets,Amazon Tablets                                                                                                                                                                                                                                                                                                                                                                                                                                                                                                                                                                                                                                                                                                                                                                            51\n",
       "Tablets,Fire Tablets,Electronics,Computers,Computer Components,Hard Drives & Storage,Computers & Tablets,All Tablets                                                                                                                                                                                                                                                                                                                                                                                                                                                                                                                                                                                                                                                                                                       40\n",
       "Kindle E-readers,Electronics Features,Computers & Tablets,E-Readers & Accessories,E-Readers,eBook Readers                                                                                                                                                                                                                                                                                                                                                                                                                                                                                                                                                                                                                                                                                                                  39\n",
       "eBook Readers,E-Readers & Accessories,Amazon Book Reader,Computers & Tablets,Amazon Ereaders,Kindle E-readers,E-Readers                                                                                                                                                                                                                                                                                                                                                                                                                                                                                                                                                                                                                                                                                                    24\n",
       "Computers & Tablets,E-Readers & Accessories,eBook Readers,Kindle E-readers                                                                                                                                                                                                                                                                                                                                                                                                                                                                                                                                                                                                                                                                                                                                                 22\n",
       "Computers & Accessories,Tablet & E-Reader Accessories,Amazon Devices & Accessories,Electronics,Power Adapters & Cables,Computers Features,Cell Phone Accessories,Cell Phone Batteries & Power,Digital Device Accessory,Tablet Accessories,Featured Brands,Kindle Fire (2nd Generation) Accessories,Kindle Store,Power Adapters Cables,Electrical,Home,Tablets & E-Readers,Chargers Adapters,Chargers & Adapters,Electronics Features,Fire Tablet Accessories,Amazon Book Reader Accessory,Cell Phones,Amazon Device Accessories,Home Improvement,Fire (5th Generation) Accessories,Amazon Devices,Cables & Chargers                                                                                                                                                                                                        22\n",
       "Amazon SMP,TV, Video & Home Audio,Electronics,Electronics Deals,TVs Entertainment,Digital Device 4,Tvs & Home Theater,Featured Brands,Video Devices & TV Tuners,Consumer Electronics,TV & Video,Internet & Media Streamers,Streaming Media Players,Fire TV,Streaming Devices,Amazon Devices,Amazon,See more Amazon Fire TV with Alexa Voice Remote Digital...                                                                                                                                                                                                                                                                                                                                                                                                                                                               4\n",
       "Name: categories, dtype: int64"
      ]
     },
     "execution_count": 5,
     "metadata": {},
     "output_type": "execute_result"
    }
   ],
   "source": [
    "df.categories.value_counts()"
   ]
  },
  {
   "cell_type": "code",
   "execution_count": 6,
   "metadata": {},
   "outputs": [
    {
     "data": {
      "text/plain": [
       "Electronics                    3276\n",
       "Electronics,Hardware           1435\n",
       "Office Supplies,Electronics     265\n",
       "Electronics,Media                24\n",
       "Name: primaryCategories, dtype: int64"
      ]
     },
     "execution_count": 6,
     "metadata": {},
     "output_type": "execute_result"
    }
   ],
   "source": [
    "df.primaryCategories.value_counts()"
   ]
  },
  {
   "cell_type": "code",
   "execution_count": 7,
   "metadata": {
    "scrolled": true
   },
   "outputs": [
    {
     "data": {
      "text/plain": [
       "0      4658\n",
       "1       135\n",
       "2        95\n",
       "3        30\n",
       "5        15\n",
       "4        13\n",
       "6        10\n",
       "9         7\n",
       "7         6\n",
       "8         3\n",
       "13        3\n",
       "105       2\n",
       "16        2\n",
       "10        2\n",
       "12        2\n",
       "11        2\n",
       "15        2\n",
       "17        2\n",
       "40        1\n",
       "55        1\n",
       "21        1\n",
       "33        1\n",
       "49        1\n",
       "35        1\n",
       "18        1\n",
       "26        1\n",
       "19        1\n",
       "27        1\n",
       "97        1\n",
       "Name: reviews.numHelpful, dtype: int64"
      ]
     },
     "execution_count": 7,
     "metadata": {},
     "output_type": "execute_result"
    }
   ],
   "source": [
    "df['reviews.numHelpful'].value_counts()"
   ]
  },
  {
   "cell_type": "code",
   "execution_count": 12,
   "metadata": {
    "scrolled": true
   },
   "outputs": [
    {
     "name": "stdout",
     "output_type": "stream",
     "text": [
      "-----------------------------------------------------------------------------------------------------\n",
      "I thought it would be as big as small paper but turn out to be just like my palm. I think it is too small to read on it... not very comfortable as regular Kindle. Would definitely recommend a paperwhite instead.\n",
      "-----------------------------------------------------------------------------------------------------\n",
      "This kindle is light and easy to use especially at the beach!!!\n",
      "-----------------------------------------------------------------------------------------------------\n",
      "Didnt know how much i'd use a kindle so went for the lower end. im happy with it, even if its a little dark\n",
      "-----------------------------------------------------------------------------------------------------\n",
      "I am 100 happy with my purchase. I caught it on sale at a really good price. I am normally a real book person, but I have a 1 year old who loves ripping up pages. The Kindle prevents that, it's extremely portable (it fits better in my purse than a giant book), and I have it loaded with lots of books. I finish one and start another, without having to go store. It serves all my needs. I picked this one over the Paperwhite because the price was unbeatable and the only difference that I could see was this one wasn't backlit. A simple book light from the Dollar tree solves that issue. This is my second Kindle (the first being the old Keyboard model, which I put down because I fell out of love with the keyboard. Lol) and it most likely won't be my last.\n",
      "-----------------------------------------------------------------------------------------------------\n",
      "Solid entry level Kindle. Great for kids. Gifted for a kid of my friend and they love to use it to read more than their iPads. battery is good but higher model is a bit better.\n",
      "-----------------------------------------------------------------------------------------------------\n",
      "This make an excellent ebook reader. Don't expect much from this device except to read basic ebooks. The good thing is it's cheap and good to read in the sun.\n",
      "-----------------------------------------------------------------------------------------------------\n",
      "I ordered this for my daughter, as I have the black paperwhite, and I love it. I read quite a bit and the larger books were driving me crazy having to hold them up while laying down, or wanting to take a book on vacation and lugging around a thick paperback, with this I can throw it in my bag and read anywhere. Its light weight, easy to use, the battery life lasts for weeks, which makes it an all around awesome device. My daughter is in public school and they offer an online library for E-Readers, so she can now download books for free from school! You can also download your own public library app (if your county offers that) and read free from there as well. You can shop for e-books straight from the device through Amazon.com.\n",
      "-----------------------------------------------------------------------------------------------------\n",
      "I bought my Kindle about 2 months ago and the battery is already dead and will not charge\n",
      "-----------------------------------------------------------------------------------------------------\n",
      "amazon kindle is always the best ebook, upgrade every new model\n",
      "-----------------------------------------------------------------------------------------------------\n",
      "It's beyond my expectation, and it can even show music score. Not fast turning though.\n",
      "-----------------------------------------------------------------------------------------------------\n",
      "If you really want to have a good read on something digital this is the item you're looking for. It really is lightweight and highly functional. The battery lasts a long time and the screen is easy on the eyes. The only difficulty sometimes is reading in extremely bright environments. Overall an excellent buy.\n",
      "-----------------------------------------------------------------------------------------------------\n",
      "Love my kindle, makes reading at night so easy and it feels like you are reading a real book.\n",
      "-----------------------------------------------------------------------------------------------------\n",
      "Good product for child. Who only need to read the books\n",
      "-----------------------------------------------------------------------------------------------------\n",
      "This Kindle is a convenient size yet lettering is easy to read.\n",
      "-----------------------------------------------------------------------------------------------------\n",
      "I use this every day on my commute. Great battery life, no backlight but very readable with normal lighting. I like the built in dictionary. Email yourself pdf or mobi files for easy transfers.\n",
      "-----------------------------------------------------------------------------------------------------\n",
      "It does its job but I would buy one which the screen is brighter. There are times that it's difficult to read because screen is not too bright\n",
      "-----------------------------------------------------------------------------------------------------\n",
      "Great product for myself! And I bought it when there was great deal on it!\n",
      "-----------------------------------------------------------------------------------------------------\n",
      "Item work well and was easy to read from in day light\n",
      "-----------------------------------------------------------------------------------------------------\n",
      "Great product and service will refer to a friend. And the sales man r good\n",
      "-----------------------------------------------------------------------------------------------------\n",
      "Everything is great except that i can't read external pdfs properly. Either it zooms too much of too little. For kindle books it provides great experience. Battery life is awesome!\n"
     ]
    }
   ],
   "source": [
    "for i in range(0,20):\n",
    "    print('-----------------------------------------------------------------------------------------------------')\n",
    "    print(df[df['reviews.numHelpful']!='0']['reviews.text'].iloc[i])"
   ]
  },
  {
   "cell_type": "code",
   "execution_count": 14,
   "metadata": {},
   "outputs": [
    {
     "data": {
      "text/html": [
       "<div>\n",
       "<style scoped>\n",
       "    .dataframe tbody tr th:only-of-type {\n",
       "        vertical-align: middle;\n",
       "    }\n",
       "\n",
       "    .dataframe tbody tr th {\n",
       "        vertical-align: top;\n",
       "    }\n",
       "\n",
       "    .dataframe thead th {\n",
       "        text-align: right;\n",
       "    }\n",
       "</style>\n",
       "<table border=\"1\" class=\"dataframe\">\n",
       "  <thead>\n",
       "    <tr style=\"text-align: right;\">\n",
       "      <th></th>\n",
       "      <th>name</th>\n",
       "      <th>categories</th>\n",
       "      <th>primarycategories</th>\n",
       "      <th>comments</th>\n",
       "      <th>rating</th>\n",
       "    </tr>\n",
       "  </thead>\n",
       "  <tbody>\n",
       "    <tr>\n",
       "      <th>0</th>\n",
       "      <td>Amazon Kindle E-Reader 6\" Wifi (8th Generation...</td>\n",
       "      <td>Computers,Electronics Features,Tablets,Electro...</td>\n",
       "      <td>Electronics</td>\n",
       "      <td>I thought it would be as big as small paper bu...</td>\n",
       "      <td>3</td>\n",
       "    </tr>\n",
       "    <tr>\n",
       "      <th>1</th>\n",
       "      <td>Amazon Kindle E-Reader 6\" Wifi (8th Generation...</td>\n",
       "      <td>Computers,Electronics Features,Tablets,Electro...</td>\n",
       "      <td>Electronics</td>\n",
       "      <td>This kindle is light and easy to use especiall...</td>\n",
       "      <td>5</td>\n",
       "    </tr>\n",
       "    <tr>\n",
       "      <th>2</th>\n",
       "      <td>Amazon Kindle E-Reader 6\" Wifi (8th Generation...</td>\n",
       "      <td>Computers,Electronics Features,Tablets,Electro...</td>\n",
       "      <td>Electronics</td>\n",
       "      <td>Didnt know how much i'd use a kindle so went f...</td>\n",
       "      <td>4</td>\n",
       "    </tr>\n",
       "    <tr>\n",
       "      <th>3</th>\n",
       "      <td>Amazon Kindle E-Reader 6\" Wifi (8th Generation...</td>\n",
       "      <td>Computers,Electronics Features,Tablets,Electro...</td>\n",
       "      <td>Electronics</td>\n",
       "      <td>I am 100 happy with my purchase. I caught it o...</td>\n",
       "      <td>5</td>\n",
       "    </tr>\n",
       "    <tr>\n",
       "      <th>4</th>\n",
       "      <td>Amazon Kindle E-Reader 6\" Wifi (8th Generation...</td>\n",
       "      <td>Computers,Electronics Features,Tablets,Electro...</td>\n",
       "      <td>Electronics</td>\n",
       "      <td>Solid entry level Kindle. Great for kids. Gift...</td>\n",
       "      <td>5</td>\n",
       "    </tr>\n",
       "  </tbody>\n",
       "</table>\n",
       "</div>"
      ],
      "text/plain": [
       "                                                name  \\\n",
       "0  Amazon Kindle E-Reader 6\" Wifi (8th Generation...   \n",
       "1  Amazon Kindle E-Reader 6\" Wifi (8th Generation...   \n",
       "2  Amazon Kindle E-Reader 6\" Wifi (8th Generation...   \n",
       "3  Amazon Kindle E-Reader 6\" Wifi (8th Generation...   \n",
       "4  Amazon Kindle E-Reader 6\" Wifi (8th Generation...   \n",
       "\n",
       "                                          categories primarycategories  \\\n",
       "0  Computers,Electronics Features,Tablets,Electro...       Electronics   \n",
       "1  Computers,Electronics Features,Tablets,Electro...       Electronics   \n",
       "2  Computers,Electronics Features,Tablets,Electro...       Electronics   \n",
       "3  Computers,Electronics Features,Tablets,Electro...       Electronics   \n",
       "4  Computers,Electronics Features,Tablets,Electro...       Electronics   \n",
       "\n",
       "                                            comments  rating  \n",
       "0  I thought it would be as big as small paper bu...       3  \n",
       "1  This kindle is light and easy to use especiall...       5  \n",
       "2  Didnt know how much i'd use a kindle so went f...       4  \n",
       "3  I am 100 happy with my purchase. I caught it o...       5  \n",
       "4  Solid entry level Kindle. Great for kids. Gift...       5  "
      ]
     },
     "execution_count": 14,
     "metadata": {},
     "output_type": "execute_result"
    }
   ],
   "source": [
    "df1 = df[['name','categories','primaryCategories','reviews.text','reviews.rating']]\n",
    "df1.columns = ['name','categories','primarycategories','comments','rating']\n",
    "df1.head()"
   ]
  },
  {
   "cell_type": "code",
   "execution_count": 15,
   "metadata": {},
   "outputs": [],
   "source": [
    "df1.to_csv('amazon_kindle_electronic_items_reviews.csv',index=False)"
   ]
  }
 ],
 "metadata": {
  "kernelspec": {
   "display_name": "Python [conda env:fastaipy372] *",
   "language": "python",
   "name": "conda-env-fastaipy372-py"
  },
  "language_info": {
   "codemirror_mode": {
    "name": "ipython",
    "version": 3
   },
   "file_extension": ".py",
   "mimetype": "text/x-python",
   "name": "python",
   "nbconvert_exporter": "python",
   "pygments_lexer": "ipython3",
   "version": "3.7.2"
  }
 },
 "nbformat": 4,
 "nbformat_minor": 2
}
